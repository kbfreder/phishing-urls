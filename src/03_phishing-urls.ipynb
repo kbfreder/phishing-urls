{
 "cells": [
  {
   "cell_type": "code",
   "execution_count": null,
   "metadata": {
    "ExecuteTime": {
     "end_time": "2019-12-07T00:10:44.412184Z",
     "start_time": "2019-12-07T00:10:43.433048Z"
    }
   },
   "outputs": [],
   "source": [
    "import urllib.request\n",
    "url = 'https://openphish.com/feed.txt'"
   ]
  },
  {
   "cell_type": "code",
   "execution_count": 15,
   "metadata": {
    "ExecuteTime": {
     "end_time": "2019-12-07T00:12:56.627962Z",
     "start_time": "2019-12-07T00:12:55.731951Z"
    }
   },
   "outputs": [],
   "source": [
    "txt = urllib.request.urlopen(url).read()"
   ]
  },
  {
   "cell_type": "code",
   "execution_count": 17,
   "metadata": {
    "ExecuteTime": {
     "end_time": "2019-12-07T00:13:07.175698Z",
     "start_time": "2019-12-07T00:13:07.166697Z"
    }
   },
   "outputs": [
    {
     "data": {
      "text/plain": [
       "b'https://gjug.com/DEPOSIT/atb/login.html\\nhttps://abulazomagouse.com/DEPOSIT/atb/processing.php\\nhttps:'"
      ]
     },
     "execution_count": 17,
     "metadata": {},
     "output_type": "execute_result"
    }
   ],
   "source": [
    "txt[:100]"
   ]
  },
  {
   "cell_type": "code",
   "execution_count": 22,
   "metadata": {
    "ExecuteTime": {
     "end_time": "2019-12-07T00:15:19.429760Z",
     "start_time": "2019-12-07T00:15:19.424757Z"
    }
   },
   "outputs": [],
   "source": [
    "lines = txt.decode().split('\\n')"
   ]
  },
  {
   "cell_type": "code",
   "execution_count": 23,
   "metadata": {
    "ExecuteTime": {
     "end_time": "2019-12-07T00:15:23.339451Z",
     "start_time": "2019-12-07T00:15:23.330452Z"
    }
   },
   "outputs": [
    {
     "data": {
      "text/plain": [
       "['https://gjug.com/DEPOSIT/atb/login.html',\n",
       " 'https://abulazomagouse.com/DEPOSIT/atb/processing.php',\n",
       " 'https://pelletsmoker.net/home/signin/signin/acc/home/login/',\n",
       " 'https://techasar.com/DEPOSIT/atb/details.html',\n",
       " 'https://helpgroupcorp.com/ccs/server/login.php']"
      ]
     },
     "execution_count": 23,
     "metadata": {},
     "output_type": "execute_result"
    }
   ],
   "source": [
    "lines[:5]"
   ]
  },
  {
   "cell_type": "code",
   "execution_count": 24,
   "metadata": {
    "ExecuteTime": {
     "end_time": "2019-12-07T00:15:44.986394Z",
     "start_time": "2019-12-07T00:15:44.979387Z"
    }
   },
   "outputs": [
    {
     "data": {
      "text/plain": [
       "2191"
      ]
     },
     "execution_count": 24,
     "metadata": {},
     "output_type": "execute_result"
    }
   ],
   "source": [
    "len(lines)"
   ]
  },
  {
   "cell_type": "code",
   "execution_count": null,
   "metadata": {},
   "outputs": [],
   "source": []
  }
 ],
 "metadata": {
  "hide_input": false,
  "kernelspec": {
   "display_name": "Python 3",
   "language": "python",
   "name": "python3"
  },
  "language_info": {
   "codemirror_mode": {
    "name": "ipython",
    "version": 3
   },
   "file_extension": ".py",
   "mimetype": "text/x-python",
   "name": "python",
   "nbconvert_exporter": "python",
   "pygments_lexer": "ipython3",
   "version": "3.7.3"
  },
  "toc": {
   "base_numbering": 1,
   "nav_menu": {},
   "number_sections": true,
   "sideBar": true,
   "skip_h1_title": false,
   "title_cell": "Table of Contents",
   "title_sidebar": "Contents",
   "toc_cell": false,
   "toc_position": {},
   "toc_section_display": true,
   "toc_window_display": false
  }
 },
 "nbformat": 4,
 "nbformat_minor": 2
}
