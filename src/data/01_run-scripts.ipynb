{
 "cells": [
  {
   "cell_type": "code",
   "execution_count": 4,
   "metadata": {},
   "outputs": [
    {
     "name": "stdout",
     "output_type": "stream",
     "text": [
      "merge_split_data.py\n",
      "\n",
      "Loads benign data from ../../data/raw/*.feather (assumes there is only\n",
      "a single `.feather` file in this location). Loads phishing data from\n",
      "../../data/raw/phishing_urls.pkl. Merges them together. Performs\n",
      "train-test-split using 25% test size. Saves as train_df and test_df to\n",
      "../../data/interim.\n",
      "\n",
      "Usage:\n",
      "    merge_split_data.py\n",
      "\n",
      "Options:\n",
      "    -h --help       Show docstring.\n"
     ]
    }
   ],
   "source": [
    "%run merge_split_data -h"
   ]
  },
  {
   "cell_type": "code",
   "execution_count": 1,
   "metadata": {},
   "outputs": [
    {
     "name": "stderr",
     "output_type": "stream",
     "text": [
      "DEBUG:root:Loading benign data...\n",
      "DEBUG:root:Loading phishing data...\n",
      "DEBUG:root:Merging data...\n",
      "DEBUG:root:Performing train-test split...\n",
      "DEBUG:root:Saving data...\n"
     ]
    },
    {
     "name": "stdout",
     "output_type": "stream",
     "text": [
      "Script complete!\n",
      "Elapsed time: 1549653695 minutes\n"
     ]
    }
   ],
   "source": [
    "%run merge_split_data"
   ]
  },
  {
   "cell_type": "code",
   "execution_count": 25,
   "metadata": {},
   "outputs": [
    {
     "name": "stdout",
     "output_type": "stream",
     "text": [
      "get_benign_urls.py\n",
      "\n",
      "Downloads URL data from cc-index paths\n",
      "\n",
      "Usage:\n",
      "    get_benign_urls.py download <n-chunks> [options]\n",
      "    get_benign_urls.py parse [options]\n",
      "    get_benign_urls.py download <n-chunks> parse\n",
      "    get_benign_urls.py [options]\n",
      "\n",
      "Options\n",
      "    -v                      Verbose\n",
      "    -h --help               Show docstring.\n",
      "    -t                      Test mode.\n"
     ]
    }
   ],
   "source": [
    "%run get_benign_urls -h"
   ]
  },
  {
   "cell_type": "code",
   "execution_count": 30,
   "metadata": {},
   "outputs": [
    {
     "name": "stderr",
     "output_type": "stream",
     "text": [
      "DEBUG:urllib3.connectionpool:Starting new HTTPS connection (1): commoncrawl.s3.amazonaws.com\n"
     ]
    },
    {
     "name": "stdout",
     "output_type": "stream",
     "text": [
      "302 paths extracted from path file\n"
     ]
    },
    {
     "name": "stderr",
     "output_type": "stream",
     "text": [
      "DEBUG:urllib3.connectionpool:https://commoncrawl.s3.amazonaws.com:443 \"GET /cc-index/collections/CC-MAIN-2019-47/indexes/cdx-00000.gz HTTP/1.1\" 200 691928612\n"
     ]
    },
    {
     "name": "stdout",
     "output_type": "stream",
     "text": [
      "\r",
      "Downloading data from index 0 out of 302"
     ]
    },
    {
     "name": "stderr",
     "output_type": "stream",
     "text": [
      "DEBUG:urllib3.connectionpool:Starting new HTTPS connection (1): commoncrawl.s3.amazonaws.com\n",
      "DEBUG:urllib3.connectionpool:https://commoncrawl.s3.amazonaws.com:443 \"GET /cc-index/collections/CC-MAIN-2019-47/indexes/cdx-00001.gz HTTP/1.1\" 200 814139126\n",
      "DEBUG:urllib3.connectionpool:Starting new HTTPS connection (1): commoncrawl.s3.amazonaws.com\n",
      "DEBUG:urllib3.connectionpool:https://commoncrawl.s3.amazonaws.com:443 \"GET /cc-index/collections/CC-MAIN-2019-47/indexes/cdx-00002.gz HTTP/1.1\" 200 912449929\n",
      "DEBUG:urllib3.connectionpool:Starting new HTTPS connection (1): commoncrawl.s3.amazonaws.com\n",
      "DEBUG:urllib3.connectionpool:https://commoncrawl.s3.amazonaws.com:443 \"GET /cc-index/collections/CC-MAIN-2019-47/indexes/cdx-00003.gz HTTP/1.1\" 200 649310153\n",
      "DEBUG:urllib3.connectionpool:Starting new HTTPS connection (1): commoncrawl.s3.amazonaws.com\n",
      "DEBUG:urllib3.connectionpool:https://commoncrawl.s3.amazonaws.com:443 \"GET /cc-index/collections/CC-MAIN-2019-47/indexes/cdx-00004.gz HTTP/1.1\" 200 709032119\n",
      "DEBUG:urllib3.connectionpool:Starting new HTTPS connection (1): commoncrawl.s3.amazonaws.com\n",
      "DEBUG:urllib3.connectionpool:https://commoncrawl.s3.amazonaws.com:443 \"GET /cc-index/collections/CC-MAIN-2019-47/indexes/cdx-00005.gz HTTP/1.1\" 200 956531556\n",
      "DEBUG:urllib3.connectionpool:Starting new HTTPS connection (1): commoncrawl.s3.amazonaws.com\n",
      "DEBUG:urllib3.connectionpool:https://commoncrawl.s3.amazonaws.com:443 \"GET /cc-index/collections/CC-MAIN-2019-47/indexes/cdx-00006.gz HTTP/1.1\" 200 706319795\n",
      "DEBUG:urllib3.connectionpool:Starting new HTTPS connection (1): commoncrawl.s3.amazonaws.com\n",
      "DEBUG:urllib3.connectionpool:https://commoncrawl.s3.amazonaws.com:443 \"GET /cc-index/collections/CC-MAIN-2019-47/indexes/cdx-00007.gz HTTP/1.1\" 200 742241822\n",
      "DEBUG:urllib3.connectionpool:Starting new HTTPS connection (1): commoncrawl.s3.amazonaws.com\n",
      "DEBUG:urllib3.connectionpool:https://commoncrawl.s3.amazonaws.com:443 \"GET /cc-index/collections/CC-MAIN-2019-47/indexes/cdx-00008.gz HTTP/1.1\" 200 816839753\n",
      "DEBUG:urllib3.connectionpool:Starting new HTTPS connection (1): commoncrawl.s3.amazonaws.com\n",
      "DEBUG:urllib3.connectionpool:https://commoncrawl.s3.amazonaws.com:443 \"GET /cc-index/collections/CC-MAIN-2019-47/indexes/cdx-00009.gz HTTP/1.1\" 200 742833461\n",
      "DEBUG:urllib3.connectionpool:Starting new HTTPS connection (1): commoncrawl.s3.amazonaws.com\n",
      "DEBUG:urllib3.connectionpool:https://commoncrawl.s3.amazonaws.com:443 \"GET /cc-index/collections/CC-MAIN-2019-47/indexes/cdx-00010.gz HTTP/1.1\" 200 866014291\n",
      "DEBUG:urllib3.connectionpool:Starting new HTTPS connection (1): commoncrawl.s3.amazonaws.com\n",
      "DEBUG:urllib3.connectionpool:https://commoncrawl.s3.amazonaws.com:443 \"GET /cc-index/collections/CC-MAIN-2019-47/indexes/cdx-00011.gz HTTP/1.1\" 200 683079902\n",
      "DEBUG:urllib3.connectionpool:Starting new HTTPS connection (1): commoncrawl.s3.amazonaws.com\n",
      "DEBUG:urllib3.connectionpool:https://commoncrawl.s3.amazonaws.com:443 \"GET /cc-index/collections/CC-MAIN-2019-47/indexes/cdx-00012.gz HTTP/1.1\" 200 797608225\n",
      "DEBUG:urllib3.connectionpool:Starting new HTTPS connection (1): commoncrawl.s3.amazonaws.com\n",
      "DEBUG:urllib3.connectionpool:https://commoncrawl.s3.amazonaws.com:443 \"GET /cc-index/collections/CC-MAIN-2019-47/indexes/cdx-00013.gz HTTP/1.1\" 200 994656441\n",
      "DEBUG:urllib3.connectionpool:Starting new HTTPS connection (1): commoncrawl.s3.amazonaws.com\n",
      "DEBUG:urllib3.connectionpool:https://commoncrawl.s3.amazonaws.com:443 \"GET /cc-index/collections/CC-MAIN-2019-47/indexes/cdx-00014.gz HTTP/1.1\" 200 890040855\n",
      "DEBUG:urllib3.connectionpool:Starting new HTTPS connection (1): commoncrawl.s3.amazonaws.com\n",
      "DEBUG:urllib3.connectionpool:https://commoncrawl.s3.amazonaws.com:443 \"GET /cc-index/collections/CC-MAIN-2019-47/indexes/cdx-00015.gz HTTP/1.1\" 200 985029478\n",
      "DEBUG:urllib3.connectionpool:Starting new HTTPS connection (1): commoncrawl.s3.amazonaws.com\n",
      "DEBUG:urllib3.connectionpool:https://commoncrawl.s3.amazonaws.com:443 \"GET /cc-index/collections/CC-MAIN-2019-47/indexes/cdx-00016.gz HTTP/1.1\" 200 758136301\n",
      "DEBUG:urllib3.connectionpool:Starting new HTTPS connection (1): commoncrawl.s3.amazonaws.com\n",
      "DEBUG:urllib3.connectionpool:https://commoncrawl.s3.amazonaws.com:443 \"GET /cc-index/collections/CC-MAIN-2019-47/indexes/cdx-00017.gz HTTP/1.1\" 200 573083981\n",
      "DEBUG:urllib3.connectionpool:Starting new HTTPS connection (1): commoncrawl.s3.amazonaws.com\n",
      "DEBUG:urllib3.connectionpool:https://commoncrawl.s3.amazonaws.com:443 \"GET /cc-index/collections/CC-MAIN-2019-47/indexes/cdx-00018.gz HTTP/1.1\" 200 653558679\n",
      "DEBUG:urllib3.connectionpool:Starting new HTTPS connection (1): commoncrawl.s3.amazonaws.com\n",
      "DEBUG:urllib3.connectionpool:https://commoncrawl.s3.amazonaws.com:443 \"GET /cc-index/collections/CC-MAIN-2019-47/indexes/cdx-00019.gz HTTP/1.1\" 200 646808254\n",
      "DEBUG:urllib3.connectionpool:Starting new HTTPS connection (1): commoncrawl.s3.amazonaws.com\n",
      "DEBUG:urllib3.connectionpool:https://commoncrawl.s3.amazonaws.com:443 \"GET /cc-index/collections/CC-MAIN-2019-47/indexes/cdx-00020.gz HTTP/1.1\" 200 709500113\n",
      "DEBUG:urllib3.connectionpool:Starting new HTTPS connection (1): commoncrawl.s3.amazonaws.com\n",
      "DEBUG:urllib3.connectionpool:https://commoncrawl.s3.amazonaws.com:443 \"GET /cc-index/collections/CC-MAIN-2019-47/indexes/cdx-00021.gz HTTP/1.1\" 200 627626616\n",
      "DEBUG:urllib3.connectionpool:Starting new HTTPS connection (1): commoncrawl.s3.amazonaws.com\n",
      "DEBUG:urllib3.connectionpool:https://commoncrawl.s3.amazonaws.com:443 \"GET /cc-index/collections/CC-MAIN-2019-47/indexes/cdx-00022.gz HTTP/1.1\" 200 575519693\n",
      "DEBUG:urllib3.connectionpool:Starting new HTTPS connection (1): commoncrawl.s3.amazonaws.com\n",
      "DEBUG:urllib3.connectionpool:https://commoncrawl.s3.amazonaws.com:443 \"GET /cc-index/collections/CC-MAIN-2019-47/indexes/cdx-00023.gz HTTP/1.1\" 200 597416519\n",
      "DEBUG:urllib3.connectionpool:Starting new HTTPS connection (1): commoncrawl.s3.amazonaws.com\n",
      "DEBUG:urllib3.connectionpool:https://commoncrawl.s3.amazonaws.com:443 \"GET /cc-index/collections/CC-MAIN-2019-47/indexes/cdx-00024.gz HTTP/1.1\" 200 520325682\n",
      "DEBUG:urllib3.connectionpool:Starting new HTTPS connection (1): commoncrawl.s3.amazonaws.com\n",
      "DEBUG:urllib3.connectionpool:https://commoncrawl.s3.amazonaws.com:443 \"GET /cc-index/collections/CC-MAIN-2019-47/indexes/cdx-00025.gz HTTP/1.1\" 200 497199731\n",
      "DEBUG:urllib3.connectionpool:Starting new HTTPS connection (1): commoncrawl.s3.amazonaws.com\n",
      "DEBUG:urllib3.connectionpool:https://commoncrawl.s3.amazonaws.com:443 \"GET /cc-index/collections/CC-MAIN-2019-47/indexes/cdx-00026.gz HTTP/1.1\" 200 575381802\n",
      "DEBUG:urllib3.connectionpool:Starting new HTTPS connection (1): commoncrawl.s3.amazonaws.com\n",
      "DEBUG:urllib3.connectionpool:https://commoncrawl.s3.amazonaws.com:443 \"GET /cc-index/collections/CC-MAIN-2019-47/indexes/cdx-00027.gz HTTP/1.1\" 200 896353757\n",
      "DEBUG:urllib3.connectionpool:Starting new HTTPS connection (1): commoncrawl.s3.amazonaws.com\n",
      "DEBUG:urllib3.connectionpool:https://commoncrawl.s3.amazonaws.com:443 \"GET /cc-index/collections/CC-MAIN-2019-47/indexes/cdx-00028.gz HTTP/1.1\" 200 750599993\n",
      "DEBUG:urllib3.connectionpool:Starting new HTTPS connection (1): commoncrawl.s3.amazonaws.com\n",
      "DEBUG:urllib3.connectionpool:https://commoncrawl.s3.amazonaws.com:443 \"GET /cc-index/collections/CC-MAIN-2019-47/indexes/cdx-00029.gz HTTP/1.1\" 200 614052986\n",
      "DEBUG:urllib3.connectionpool:Starting new HTTPS connection (1): commoncrawl.s3.amazonaws.com\n",
      "DEBUG:urllib3.connectionpool:https://commoncrawl.s3.amazonaws.com:443 \"GET /cc-index/collections/CC-MAIN-2019-47/indexes/cdx-00030.gz HTTP/1.1\" 200 460640430\n",
      "DEBUG:urllib3.connectionpool:Starting new HTTPS connection (1): commoncrawl.s3.amazonaws.com\n",
      "DEBUG:urllib3.connectionpool:https://commoncrawl.s3.amazonaws.com:443 \"GET /cc-index/collections/CC-MAIN-2019-47/indexes/cdx-00031.gz HTTP/1.1\" 200 731246080\n",
      "DEBUG:urllib3.connectionpool:Starting new HTTPS connection (1): commoncrawl.s3.amazonaws.com\n",
      "DEBUG:urllib3.connectionpool:https://commoncrawl.s3.amazonaws.com:443 \"GET /cc-index/collections/CC-MAIN-2019-47/indexes/cdx-00032.gz HTTP/1.1\" 200 581364253\n",
      "DEBUG:urllib3.connectionpool:Starting new HTTPS connection (1): commoncrawl.s3.amazonaws.com\n",
      "DEBUG:urllib3.connectionpool:https://commoncrawl.s3.amazonaws.com:443 \"GET /cc-index/collections/CC-MAIN-2019-47/indexes/cdx-00033.gz HTTP/1.1\" 200 718229884\n"
     ]
    },
    {
     "name": "stderr",
     "output_type": "stream",
     "text": [
      "DEBUG:urllib3.connectionpool:Starting new HTTPS connection (1): commoncrawl.s3.amazonaws.com\n",
      "DEBUG:urllib3.connectionpool:https://commoncrawl.s3.amazonaws.com:443 \"GET /cc-index/collections/CC-MAIN-2019-47/indexes/cdx-00034.gz HTTP/1.1\" 200 623521815\n",
      "DEBUG:urllib3.connectionpool:Starting new HTTPS connection (1): commoncrawl.s3.amazonaws.com\n",
      "DEBUG:urllib3.connectionpool:https://commoncrawl.s3.amazonaws.com:443 \"GET /cc-index/collections/CC-MAIN-2019-47/indexes/cdx-00035.gz HTTP/1.1\" 200 685194716\n",
      "DEBUG:urllib3.connectionpool:Starting new HTTPS connection (1): commoncrawl.s3.amazonaws.com\n",
      "DEBUG:urllib3.connectionpool:https://commoncrawl.s3.amazonaws.com:443 \"GET /cc-index/collections/CC-MAIN-2019-47/indexes/cdx-00036.gz HTTP/1.1\" 200 574714778\n",
      "DEBUG:urllib3.connectionpool:Starting new HTTPS connection (1): commoncrawl.s3.amazonaws.com\n",
      "DEBUG:urllib3.connectionpool:https://commoncrawl.s3.amazonaws.com:443 \"GET /cc-index/collections/CC-MAIN-2019-47/indexes/cdx-00037.gz HTTP/1.1\" 200 640219431\n",
      "DEBUG:urllib3.connectionpool:Starting new HTTPS connection (1): commoncrawl.s3.amazonaws.com\n",
      "DEBUG:urllib3.connectionpool:https://commoncrawl.s3.amazonaws.com:443 \"GET /cc-index/collections/CC-MAIN-2019-47/indexes/cdx-00038.gz HTTP/1.1\" 200 709011223\n",
      "DEBUG:urllib3.connectionpool:Starting new HTTPS connection (1): commoncrawl.s3.amazonaws.com\n",
      "DEBUG:urllib3.connectionpool:https://commoncrawl.s3.amazonaws.com:443 \"GET /cc-index/collections/CC-MAIN-2019-47/indexes/cdx-00039.gz HTTP/1.1\" 200 711150566\n",
      "DEBUG:urllib3.connectionpool:Starting new HTTPS connection (1): commoncrawl.s3.amazonaws.com\n",
      "DEBUG:urllib3.connectionpool:https://commoncrawl.s3.amazonaws.com:443 \"GET /cc-index/collections/CC-MAIN-2019-47/indexes/cdx-00040.gz HTTP/1.1\" 200 581191578\n",
      "DEBUG:urllib3.connectionpool:Starting new HTTPS connection (1): commoncrawl.s3.amazonaws.com\n",
      "DEBUG:urllib3.connectionpool:https://commoncrawl.s3.amazonaws.com:443 \"GET /cc-index/collections/CC-MAIN-2019-47/indexes/cdx-00041.gz HTTP/1.1\" 200 2199605789\n",
      "DEBUG:urllib3.connectionpool:Starting new HTTPS connection (1): commoncrawl.s3.amazonaws.com\n",
      "DEBUG:urllib3.connectionpool:https://commoncrawl.s3.amazonaws.com:443 \"GET /cc-index/collections/CC-MAIN-2019-47/indexes/cdx-00042.gz HTTP/1.1\" 200 615881731\n",
      "DEBUG:urllib3.connectionpool:Starting new HTTPS connection (1): commoncrawl.s3.amazonaws.com\n",
      "DEBUG:urllib3.connectionpool:https://commoncrawl.s3.amazonaws.com:443 \"GET /cc-index/collections/CC-MAIN-2019-47/indexes/cdx-00043.gz HTTP/1.1\" 200 586780303\n",
      "DEBUG:urllib3.connectionpool:Starting new HTTPS connection (1): commoncrawl.s3.amazonaws.com\n",
      "DEBUG:urllib3.connectionpool:https://commoncrawl.s3.amazonaws.com:443 \"GET /cc-index/collections/CC-MAIN-2019-47/indexes/cdx-00044.gz HTTP/1.1\" 200 786636069\n",
      "DEBUG:urllib3.connectionpool:Starting new HTTPS connection (1): commoncrawl.s3.amazonaws.com\n",
      "DEBUG:urllib3.connectionpool:https://commoncrawl.s3.amazonaws.com:443 \"GET /cc-index/collections/CC-MAIN-2019-47/indexes/cdx-00045.gz HTTP/1.1\" 200 564093113\n",
      "DEBUG:urllib3.connectionpool:Starting new HTTPS connection (1): commoncrawl.s3.amazonaws.com\n",
      "DEBUG:urllib3.connectionpool:https://commoncrawl.s3.amazonaws.com:443 \"GET /cc-index/collections/CC-MAIN-2019-47/indexes/cdx-00046.gz HTTP/1.1\" 200 710690603\n",
      "DEBUG:urllib3.connectionpool:Starting new HTTPS connection (1): commoncrawl.s3.amazonaws.com\n",
      "DEBUG:urllib3.connectionpool:https://commoncrawl.s3.amazonaws.com:443 \"GET /cc-index/collections/CC-MAIN-2019-47/indexes/cdx-00047.gz HTTP/1.1\" 200 814426242\n",
      "DEBUG:urllib3.connectionpool:Starting new HTTPS connection (1): commoncrawl.s3.amazonaws.com\n",
      "DEBUG:urllib3.connectionpool:https://commoncrawl.s3.amazonaws.com:443 \"GET /cc-index/collections/CC-MAIN-2019-47/indexes/cdx-00048.gz HTTP/1.1\" 200 674911859\n",
      "DEBUG:urllib3.connectionpool:Starting new HTTPS connection (1): commoncrawl.s3.amazonaws.com\n",
      "DEBUG:urllib3.connectionpool:https://commoncrawl.s3.amazonaws.com:443 \"GET /cc-index/collections/CC-MAIN-2019-47/indexes/cdx-00049.gz HTTP/1.1\" 200 843013204\n",
      "DEBUG:urllib3.connectionpool:Starting new HTTPS connection (1): commoncrawl.s3.amazonaws.com\n",
      "DEBUG:urllib3.connectionpool:https://commoncrawl.s3.amazonaws.com:443 \"GET /cc-index/collections/CC-MAIN-2019-47/indexes/cdx-00050.gz HTTP/1.1\" 200 641146529\n",
      "DEBUG:urllib3.connectionpool:Starting new HTTPS connection (1): commoncrawl.s3.amazonaws.com\n",
      "DEBUG:urllib3.connectionpool:https://commoncrawl.s3.amazonaws.com:443 \"GET /cc-index/collections/CC-MAIN-2019-47/indexes/cdx-00051.gz HTTP/1.1\" 200 722532673\n",
      "DEBUG:urllib3.connectionpool:Starting new HTTPS connection (1): commoncrawl.s3.amazonaws.com\n",
      "DEBUG:urllib3.connectionpool:https://commoncrawl.s3.amazonaws.com:443 \"GET /cc-index/collections/CC-MAIN-2019-47/indexes/cdx-00052.gz HTTP/1.1\" 200 723107482\n",
      "DEBUG:urllib3.connectionpool:Starting new HTTPS connection (1): commoncrawl.s3.amazonaws.com\n",
      "DEBUG:urllib3.connectionpool:https://commoncrawl.s3.amazonaws.com:443 \"GET /cc-index/collections/CC-MAIN-2019-47/indexes/cdx-00053.gz HTTP/1.1\" 200 676588654\n",
      "DEBUG:urllib3.connectionpool:Starting new HTTPS connection (1): commoncrawl.s3.amazonaws.com\n",
      "DEBUG:urllib3.connectionpool:https://commoncrawl.s3.amazonaws.com:443 \"GET /cc-index/collections/CC-MAIN-2019-47/indexes/cdx-00054.gz HTTP/1.1\" 200 640251013\n",
      "DEBUG:urllib3.connectionpool:Starting new HTTPS connection (1): commoncrawl.s3.amazonaws.com\n",
      "DEBUG:urllib3.connectionpool:https://commoncrawl.s3.amazonaws.com:443 \"GET /cc-index/collections/CC-MAIN-2019-47/indexes/cdx-00055.gz HTTP/1.1\" 200 785752973\n",
      "DEBUG:urllib3.connectionpool:Starting new HTTPS connection (1): commoncrawl.s3.amazonaws.com\n",
      "DEBUG:urllib3.connectionpool:https://commoncrawl.s3.amazonaws.com:443 \"GET /cc-index/collections/CC-MAIN-2019-47/indexes/cdx-00056.gz HTTP/1.1\" 200 643737076\n",
      "DEBUG:urllib3.connectionpool:Starting new HTTPS connection (1): commoncrawl.s3.amazonaws.com\n",
      "DEBUG:urllib3.connectionpool:https://commoncrawl.s3.amazonaws.com:443 \"GET /cc-index/collections/CC-MAIN-2019-47/indexes/cdx-00057.gz HTTP/1.1\" 200 580628020\n",
      "DEBUG:urllib3.connectionpool:Starting new HTTPS connection (1): commoncrawl.s3.amazonaws.com\n",
      "DEBUG:urllib3.connectionpool:https://commoncrawl.s3.amazonaws.com:443 \"GET /cc-index/collections/CC-MAIN-2019-47/indexes/cdx-00058.gz HTTP/1.1\" 200 653776896\n",
      "DEBUG:urllib3.connectionpool:Starting new HTTPS connection (1): commoncrawl.s3.amazonaws.com\n",
      "DEBUG:urllib3.connectionpool:https://commoncrawl.s3.amazonaws.com:443 \"GET /cc-index/collections/CC-MAIN-2019-47/indexes/cdx-00059.gz HTTP/1.1\" 200 673866718\n",
      "DEBUG:urllib3.connectionpool:Starting new HTTPS connection (1): commoncrawl.s3.amazonaws.com\n",
      "DEBUG:urllib3.connectionpool:https://commoncrawl.s3.amazonaws.com:443 \"GET /cc-index/collections/CC-MAIN-2019-47/indexes/cdx-00060.gz HTTP/1.1\" 200 693520744\n",
      "DEBUG:urllib3.connectionpool:Starting new HTTPS connection (1): commoncrawl.s3.amazonaws.com\n",
      "DEBUG:urllib3.connectionpool:https://commoncrawl.s3.amazonaws.com:443 \"GET /cc-index/collections/CC-MAIN-2019-47/indexes/cdx-00061.gz HTTP/1.1\" 200 586654497\n",
      "DEBUG:urllib3.connectionpool:Starting new HTTPS connection (1): commoncrawl.s3.amazonaws.com\n",
      "DEBUG:urllib3.connectionpool:https://commoncrawl.s3.amazonaws.com:443 \"GET /cc-index/collections/CC-MAIN-2019-47/indexes/cdx-00062.gz HTTP/1.1\" 200 658170716\n",
      "DEBUG:urllib3.connectionpool:Starting new HTTPS connection (1): commoncrawl.s3.amazonaws.com\n",
      "DEBUG:urllib3.connectionpool:https://commoncrawl.s3.amazonaws.com:443 \"GET /cc-index/collections/CC-MAIN-2019-47/indexes/cdx-00063.gz HTTP/1.1\" 200 589896653\n",
      "DEBUG:urllib3.connectionpool:Starting new HTTPS connection (1): commoncrawl.s3.amazonaws.com\n",
      "DEBUG:urllib3.connectionpool:https://commoncrawl.s3.amazonaws.com:443 \"GET /cc-index/collections/CC-MAIN-2019-47/indexes/cdx-00064.gz HTTP/1.1\" 200 671750620\n",
      "DEBUG:urllib3.connectionpool:Starting new HTTPS connection (1): commoncrawl.s3.amazonaws.com\n",
      "DEBUG:urllib3.connectionpool:https://commoncrawl.s3.amazonaws.com:443 \"GET /cc-index/collections/CC-MAIN-2019-47/indexes/cdx-00065.gz HTTP/1.1\" 200 767972183\n",
      "DEBUG:urllib3.connectionpool:Starting new HTTPS connection (1): commoncrawl.s3.amazonaws.com\n",
      "DEBUG:urllib3.connectionpool:https://commoncrawl.s3.amazonaws.com:443 \"GET /cc-index/collections/CC-MAIN-2019-47/indexes/cdx-00066.gz HTTP/1.1\" 200 632770212\n"
     ]
    },
    {
     "name": "stderr",
     "output_type": "stream",
     "text": [
      "DEBUG:urllib3.connectionpool:Starting new HTTPS connection (1): commoncrawl.s3.amazonaws.com\n",
      "DEBUG:urllib3.connectionpool:https://commoncrawl.s3.amazonaws.com:443 \"GET /cc-index/collections/CC-MAIN-2019-47/indexes/cdx-00067.gz HTTP/1.1\" 200 1015494911\n",
      "DEBUG:urllib3.connectionpool:Starting new HTTPS connection (1): commoncrawl.s3.amazonaws.com\n",
      "DEBUG:urllib3.connectionpool:https://commoncrawl.s3.amazonaws.com:443 \"GET /cc-index/collections/CC-MAIN-2019-47/indexes/cdx-00068.gz HTTP/1.1\" 200 700174379\n",
      "DEBUG:urllib3.connectionpool:Starting new HTTPS connection (1): commoncrawl.s3.amazonaws.com\n",
      "DEBUG:urllib3.connectionpool:https://commoncrawl.s3.amazonaws.com:443 \"GET /cc-index/collections/CC-MAIN-2019-47/indexes/cdx-00069.gz HTTP/1.1\" 200 539077586\n",
      "DEBUG:urllib3.connectionpool:Starting new HTTPS connection (1): commoncrawl.s3.amazonaws.com\n",
      "DEBUG:urllib3.connectionpool:https://commoncrawl.s3.amazonaws.com:443 \"GET /cc-index/collections/CC-MAIN-2019-47/indexes/cdx-00070.gz HTTP/1.1\" 200 692129004\n",
      "DEBUG:urllib3.connectionpool:Starting new HTTPS connection (1): commoncrawl.s3.amazonaws.com\n",
      "DEBUG:urllib3.connectionpool:https://commoncrawl.s3.amazonaws.com:443 \"GET /cc-index/collections/CC-MAIN-2019-47/indexes/cdx-00071.gz HTTP/1.1\" 200 773513807\n",
      "DEBUG:urllib3.connectionpool:Starting new HTTPS connection (1): commoncrawl.s3.amazonaws.com\n",
      "DEBUG:urllib3.connectionpool:https://commoncrawl.s3.amazonaws.com:443 \"GET /cc-index/collections/CC-MAIN-2019-47/indexes/cdx-00072.gz HTTP/1.1\" 200 693986528\n",
      "DEBUG:urllib3.connectionpool:Starting new HTTPS connection (1): commoncrawl.s3.amazonaws.com\n",
      "DEBUG:urllib3.connectionpool:https://commoncrawl.s3.amazonaws.com:443 \"GET /cc-index/collections/CC-MAIN-2019-47/indexes/cdx-00073.gz HTTP/1.1\" 200 636828734\n",
      "DEBUG:urllib3.connectionpool:Starting new HTTPS connection (1): commoncrawl.s3.amazonaws.com\n",
      "DEBUG:urllib3.connectionpool:https://commoncrawl.s3.amazonaws.com:443 \"GET /cc-index/collections/CC-MAIN-2019-47/indexes/cdx-00074.gz HTTP/1.1\" 200 419772542\n",
      "DEBUG:urllib3.connectionpool:Starting new HTTPS connection (1): commoncrawl.s3.amazonaws.com\n",
      "DEBUG:urllib3.connectionpool:https://commoncrawl.s3.amazonaws.com:443 \"GET /cc-index/collections/CC-MAIN-2019-47/indexes/cdx-00075.gz HTTP/1.1\" 200 676068577\n",
      "DEBUG:urllib3.connectionpool:Starting new HTTPS connection (1): commoncrawl.s3.amazonaws.com\n",
      "DEBUG:urllib3.connectionpool:https://commoncrawl.s3.amazonaws.com:443 \"GET /cc-index/collections/CC-MAIN-2019-47/indexes/cdx-00076.gz HTTP/1.1\" 200 614943834\n",
      "DEBUG:urllib3.connectionpool:Starting new HTTPS connection (1): commoncrawl.s3.amazonaws.com\n",
      "DEBUG:urllib3.connectionpool:https://commoncrawl.s3.amazonaws.com:443 \"GET /cc-index/collections/CC-MAIN-2019-47/indexes/cdx-00077.gz HTTP/1.1\" 200 502463715\n",
      "DEBUG:urllib3.connectionpool:Starting new HTTPS connection (1): commoncrawl.s3.amazonaws.com\n",
      "DEBUG:urllib3.connectionpool:https://commoncrawl.s3.amazonaws.com:443 \"GET /cc-index/collections/CC-MAIN-2019-47/indexes/cdx-00078.gz HTTP/1.1\" 200 684254740\n",
      "DEBUG:urllib3.connectionpool:Starting new HTTPS connection (1): commoncrawl.s3.amazonaws.com\n",
      "DEBUG:urllib3.connectionpool:https://commoncrawl.s3.amazonaws.com:443 \"GET /cc-index/collections/CC-MAIN-2019-47/indexes/cdx-00079.gz HTTP/1.1\" 200 579138459\n",
      "DEBUG:urllib3.connectionpool:Starting new HTTPS connection (1): commoncrawl.s3.amazonaws.com\n",
      "DEBUG:urllib3.connectionpool:https://commoncrawl.s3.amazonaws.com:443 \"GET /cc-index/collections/CC-MAIN-2019-47/indexes/cdx-00080.gz HTTP/1.1\" 200 711905252\n",
      "DEBUG:urllib3.connectionpool:Starting new HTTPS connection (1): commoncrawl.s3.amazonaws.com\n",
      "DEBUG:urllib3.connectionpool:https://commoncrawl.s3.amazonaws.com:443 \"GET /cc-index/collections/CC-MAIN-2019-47/indexes/cdx-00081.gz HTTP/1.1\" 200 738321942\n",
      "DEBUG:urllib3.connectionpool:Starting new HTTPS connection (1): commoncrawl.s3.amazonaws.com\n",
      "DEBUG:urllib3.connectionpool:https://commoncrawl.s3.amazonaws.com:443 \"GET /cc-index/collections/CC-MAIN-2019-47/indexes/cdx-00082.gz HTTP/1.1\" 200 700710171\n",
      "DEBUG:urllib3.connectionpool:Starting new HTTPS connection (1): commoncrawl.s3.amazonaws.com\n",
      "DEBUG:urllib3.connectionpool:https://commoncrawl.s3.amazonaws.com:443 \"GET /cc-index/collections/CC-MAIN-2019-47/indexes/cdx-00083.gz HTTP/1.1\" 200 738016892\n",
      "DEBUG:urllib3.connectionpool:Starting new HTTPS connection (1): commoncrawl.s3.amazonaws.com\n",
      "DEBUG:urllib3.connectionpool:https://commoncrawl.s3.amazonaws.com:443 \"GET /cc-index/collections/CC-MAIN-2019-47/indexes/cdx-00084.gz HTTP/1.1\" 200 574982585\n",
      "DEBUG:urllib3.connectionpool:Starting new HTTPS connection (1): commoncrawl.s3.amazonaws.com\n",
      "DEBUG:urllib3.connectionpool:https://commoncrawl.s3.amazonaws.com:443 \"GET /cc-index/collections/CC-MAIN-2019-47/indexes/cdx-00085.gz HTTP/1.1\" 200 652475319\n",
      "DEBUG:urllib3.connectionpool:Starting new HTTPS connection (1): commoncrawl.s3.amazonaws.com\n",
      "DEBUG:urllib3.connectionpool:https://commoncrawl.s3.amazonaws.com:443 \"GET /cc-index/collections/CC-MAIN-2019-47/indexes/cdx-00086.gz HTTP/1.1\" 200 608203696\n",
      "DEBUG:urllib3.connectionpool:Starting new HTTPS connection (1): commoncrawl.s3.amazonaws.com\n",
      "DEBUG:urllib3.connectionpool:https://commoncrawl.s3.amazonaws.com:443 \"GET /cc-index/collections/CC-MAIN-2019-47/indexes/cdx-00087.gz HTTP/1.1\" 200 620747605\n",
      "DEBUG:urllib3.connectionpool:Starting new HTTPS connection (1): commoncrawl.s3.amazonaws.com\n",
      "DEBUG:urllib3.connectionpool:https://commoncrawl.s3.amazonaws.com:443 \"GET /cc-index/collections/CC-MAIN-2019-47/indexes/cdx-00088.gz HTTP/1.1\" 200 544017040\n",
      "DEBUG:urllib3.connectionpool:Starting new HTTPS connection (1): commoncrawl.s3.amazonaws.com\n",
      "DEBUG:urllib3.connectionpool:https://commoncrawl.s3.amazonaws.com:443 \"GET /cc-index/collections/CC-MAIN-2019-47/indexes/cdx-00089.gz HTTP/1.1\" 200 731362708\n",
      "DEBUG:urllib3.connectionpool:Starting new HTTPS connection (1): commoncrawl.s3.amazonaws.com\n",
      "DEBUG:urllib3.connectionpool:https://commoncrawl.s3.amazonaws.com:443 \"GET /cc-index/collections/CC-MAIN-2019-47/indexes/cdx-00090.gz HTTP/1.1\" 200 558513856\n",
      "DEBUG:urllib3.connectionpool:Starting new HTTPS connection (1): commoncrawl.s3.amazonaws.com\n",
      "DEBUG:urllib3.connectionpool:https://commoncrawl.s3.amazonaws.com:443 \"GET /cc-index/collections/CC-MAIN-2019-47/indexes/cdx-00091.gz HTTP/1.1\" 200 553687903\n",
      "DEBUG:urllib3.connectionpool:Starting new HTTPS connection (1): commoncrawl.s3.amazonaws.com\n",
      "DEBUG:urllib3.connectionpool:https://commoncrawl.s3.amazonaws.com:443 \"GET /cc-index/collections/CC-MAIN-2019-47/indexes/cdx-00092.gz HTTP/1.1\" 200 596374839\n",
      "DEBUG:urllib3.connectionpool:Starting new HTTPS connection (1): commoncrawl.s3.amazonaws.com\n",
      "DEBUG:urllib3.connectionpool:https://commoncrawl.s3.amazonaws.com:443 \"GET /cc-index/collections/CC-MAIN-2019-47/indexes/cdx-00093.gz HTTP/1.1\" 200 686465231\n",
      "DEBUG:urllib3.connectionpool:Starting new HTTPS connection (1): commoncrawl.s3.amazonaws.com\n",
      "DEBUG:urllib3.connectionpool:https://commoncrawl.s3.amazonaws.com:443 \"GET /cc-index/collections/CC-MAIN-2019-47/indexes/cdx-00094.gz HTTP/1.1\" 200 598079470\n",
      "DEBUG:urllib3.connectionpool:Starting new HTTPS connection (1): commoncrawl.s3.amazonaws.com\n",
      "DEBUG:urllib3.connectionpool:https://commoncrawl.s3.amazonaws.com:443 \"GET /cc-index/collections/CC-MAIN-2019-47/indexes/cdx-00095.gz HTTP/1.1\" 200 819120521\n",
      "DEBUG:urllib3.connectionpool:Starting new HTTPS connection (1): commoncrawl.s3.amazonaws.com\n",
      "DEBUG:urllib3.connectionpool:https://commoncrawl.s3.amazonaws.com:443 \"GET /cc-index/collections/CC-MAIN-2019-47/indexes/cdx-00096.gz HTTP/1.1\" 200 796523185\n",
      "DEBUG:urllib3.connectionpool:Starting new HTTPS connection (1): commoncrawl.s3.amazonaws.com\n",
      "DEBUG:urllib3.connectionpool:https://commoncrawl.s3.amazonaws.com:443 \"GET /cc-index/collections/CC-MAIN-2019-47/indexes/cdx-00097.gz HTTP/1.1\" 200 712473335\n",
      "DEBUG:urllib3.connectionpool:Starting new HTTPS connection (1): commoncrawl.s3.amazonaws.com\n",
      "DEBUG:urllib3.connectionpool:https://commoncrawl.s3.amazonaws.com:443 \"GET /cc-index/collections/CC-MAIN-2019-47/indexes/cdx-00098.gz HTTP/1.1\" 200 667419423\n",
      "DEBUG:urllib3.connectionpool:Starting new HTTPS connection (1): commoncrawl.s3.amazonaws.com\n",
      "DEBUG:urllib3.connectionpool:https://commoncrawl.s3.amazonaws.com:443 \"GET /cc-index/collections/CC-MAIN-2019-47/indexes/cdx-00099.gz HTTP/1.1\" 200 732435214\n"
     ]
    },
    {
     "name": "stderr",
     "output_type": "stream",
     "text": [
      "DEBUG:urllib3.connectionpool:Starting new HTTPS connection (1): commoncrawl.s3.amazonaws.com\n",
      "DEBUG:urllib3.connectionpool:https://commoncrawl.s3.amazonaws.com:443 \"GET /cc-index/collections/CC-MAIN-2019-47/indexes/cdx-00100.gz HTTP/1.1\" 200 736444356\n",
      "DEBUG:urllib3.connectionpool:Starting new HTTPS connection (1): commoncrawl.s3.amazonaws.com\n",
      "DEBUG:urllib3.connectionpool:https://commoncrawl.s3.amazonaws.com:443 \"GET /cc-index/collections/CC-MAIN-2019-47/indexes/cdx-00101.gz HTTP/1.1\" 200 698493568\n",
      "DEBUG:urllib3.connectionpool:Starting new HTTPS connection (1): commoncrawl.s3.amazonaws.com\n",
      "DEBUG:urllib3.connectionpool:https://commoncrawl.s3.amazonaws.com:443 \"GET /cc-index/collections/CC-MAIN-2019-47/indexes/cdx-00102.gz HTTP/1.1\" 200 691074127\n",
      "DEBUG:urllib3.connectionpool:Starting new HTTPS connection (1): commoncrawl.s3.amazonaws.com\n",
      "DEBUG:urllib3.connectionpool:https://commoncrawl.s3.amazonaws.com:443 \"GET /cc-index/collections/CC-MAIN-2019-47/indexes/cdx-00103.gz HTTP/1.1\" 200 598416603\n",
      "DEBUG:urllib3.connectionpool:Starting new HTTPS connection (1): commoncrawl.s3.amazonaws.com\n",
      "DEBUG:urllib3.connectionpool:https://commoncrawl.s3.amazonaws.com:443 \"GET /cc-index/collections/CC-MAIN-2019-47/indexes/cdx-00104.gz HTTP/1.1\" 200 655397756\n",
      "DEBUG:urllib3.connectionpool:Starting new HTTPS connection (1): commoncrawl.s3.amazonaws.com\n",
      "DEBUG:urllib3.connectionpool:https://commoncrawl.s3.amazonaws.com:443 \"GET /cc-index/collections/CC-MAIN-2019-47/indexes/cdx-00105.gz HTTP/1.1\" 200 789884983\n",
      "DEBUG:urllib3.connectionpool:Starting new HTTPS connection (1): commoncrawl.s3.amazonaws.com\n",
      "DEBUG:urllib3.connectionpool:https://commoncrawl.s3.amazonaws.com:443 \"GET /cc-index/collections/CC-MAIN-2019-47/indexes/cdx-00106.gz HTTP/1.1\" 200 620969022\n",
      "DEBUG:urllib3.connectionpool:Starting new HTTPS connection (1): commoncrawl.s3.amazonaws.com\n",
      "DEBUG:urllib3.connectionpool:https://commoncrawl.s3.amazonaws.com:443 \"GET /cc-index/collections/CC-MAIN-2019-47/indexes/cdx-00107.gz HTTP/1.1\" 200 675281997\n",
      "DEBUG:urllib3.connectionpool:Starting new HTTPS connection (1): commoncrawl.s3.amazonaws.com\n",
      "DEBUG:urllib3.connectionpool:https://commoncrawl.s3.amazonaws.com:443 \"GET /cc-index/collections/CC-MAIN-2019-47/indexes/cdx-00108.gz HTTP/1.1\" 200 802486739\n",
      "DEBUG:urllib3.connectionpool:Starting new HTTPS connection (1): commoncrawl.s3.amazonaws.com\n",
      "DEBUG:urllib3.connectionpool:https://commoncrawl.s3.amazonaws.com:443 \"GET /cc-index/collections/CC-MAIN-2019-47/indexes/cdx-00109.gz HTTP/1.1\" 200 550407635\n",
      "DEBUG:urllib3.connectionpool:Starting new HTTPS connection (1): commoncrawl.s3.amazonaws.com\n",
      "DEBUG:urllib3.connectionpool:https://commoncrawl.s3.amazonaws.com:443 \"GET /cc-index/collections/CC-MAIN-2019-47/indexes/cdx-00110.gz HTTP/1.1\" 200 879695225\n",
      "DEBUG:urllib3.connectionpool:Starting new HTTPS connection (1): commoncrawl.s3.amazonaws.com\n",
      "DEBUG:urllib3.connectionpool:https://commoncrawl.s3.amazonaws.com:443 \"GET /cc-index/collections/CC-MAIN-2019-47/indexes/cdx-00111.gz HTTP/1.1\" 200 490675357\n",
      "DEBUG:urllib3.connectionpool:Starting new HTTPS connection (1): commoncrawl.s3.amazonaws.com\n",
      "DEBUG:urllib3.connectionpool:https://commoncrawl.s3.amazonaws.com:443 \"GET /cc-index/collections/CC-MAIN-2019-47/indexes/cdx-00112.gz HTTP/1.1\" 200 565992323\n",
      "DEBUG:urllib3.connectionpool:Starting new HTTPS connection (1): commoncrawl.s3.amazonaws.com\n",
      "DEBUG:urllib3.connectionpool:https://commoncrawl.s3.amazonaws.com:443 \"GET /cc-index/collections/CC-MAIN-2019-47/indexes/cdx-00113.gz HTTP/1.1\" 200 568441319\n",
      "DEBUG:urllib3.connectionpool:Starting new HTTPS connection (1): commoncrawl.s3.amazonaws.com\n",
      "DEBUG:urllib3.connectionpool:https://commoncrawl.s3.amazonaws.com:443 \"GET /cc-index/collections/CC-MAIN-2019-47/indexes/cdx-00114.gz HTTP/1.1\" 200 625755366\n",
      "DEBUG:urllib3.connectionpool:Starting new HTTPS connection (1): commoncrawl.s3.amazonaws.com\n",
      "DEBUG:urllib3.connectionpool:https://commoncrawl.s3.amazonaws.com:443 \"GET /cc-index/collections/CC-MAIN-2019-47/indexes/cdx-00115.gz HTTP/1.1\" 200 530706608\n",
      "DEBUG:urllib3.connectionpool:Starting new HTTPS connection (1): commoncrawl.s3.amazonaws.com\n",
      "DEBUG:urllib3.connectionpool:https://commoncrawl.s3.amazonaws.com:443 \"GET /cc-index/collections/CC-MAIN-2019-47/indexes/cdx-00116.gz HTTP/1.1\" 200 659000040\n",
      "DEBUG:urllib3.connectionpool:Starting new HTTPS connection (1): commoncrawl.s3.amazonaws.com\n",
      "DEBUG:urllib3.connectionpool:https://commoncrawl.s3.amazonaws.com:443 \"GET /cc-index/collections/CC-MAIN-2019-47/indexes/cdx-00117.gz HTTP/1.1\" 200 684666314\n",
      "DEBUG:urllib3.connectionpool:Starting new HTTPS connection (1): commoncrawl.s3.amazonaws.com\n",
      "DEBUG:urllib3.connectionpool:https://commoncrawl.s3.amazonaws.com:443 \"GET /cc-index/collections/CC-MAIN-2019-47/indexes/cdx-00118.gz HTTP/1.1\" 200 688038067\n",
      "DEBUG:urllib3.connectionpool:Starting new HTTPS connection (1): commoncrawl.s3.amazonaws.com\n",
      "DEBUG:urllib3.connectionpool:https://commoncrawl.s3.amazonaws.com:443 \"GET /cc-index/collections/CC-MAIN-2019-47/indexes/cdx-00119.gz HTTP/1.1\" 200 685796352\n",
      "DEBUG:urllib3.connectionpool:Starting new HTTPS connection (1): commoncrawl.s3.amazonaws.com\n",
      "DEBUG:urllib3.connectionpool:https://commoncrawl.s3.amazonaws.com:443 \"GET /cc-index/collections/CC-MAIN-2019-47/indexes/cdx-00120.gz HTTP/1.1\" 200 711061893\n",
      "DEBUG:urllib3.connectionpool:Starting new HTTPS connection (1): commoncrawl.s3.amazonaws.com\n",
      "DEBUG:urllib3.connectionpool:https://commoncrawl.s3.amazonaws.com:443 \"GET /cc-index/collections/CC-MAIN-2019-47/indexes/cdx-00121.gz HTTP/1.1\" 200 675210793\n",
      "DEBUG:urllib3.connectionpool:Starting new HTTPS connection (1): commoncrawl.s3.amazonaws.com\n",
      "DEBUG:urllib3.connectionpool:https://commoncrawl.s3.amazonaws.com:443 \"GET /cc-index/collections/CC-MAIN-2019-47/indexes/cdx-00122.gz HTTP/1.1\" 200 1002281170\n",
      "DEBUG:urllib3.connectionpool:Starting new HTTPS connection (1): commoncrawl.s3.amazonaws.com\n",
      "DEBUG:urllib3.connectionpool:https://commoncrawl.s3.amazonaws.com:443 \"GET /cc-index/collections/CC-MAIN-2019-47/indexes/cdx-00123.gz HTTP/1.1\" 200 314176116\n",
      "DEBUG:urllib3.connectionpool:Starting new HTTPS connection (1): commoncrawl.s3.amazonaws.com\n",
      "DEBUG:urllib3.connectionpool:https://commoncrawl.s3.amazonaws.com:443 \"GET /cc-index/collections/CC-MAIN-2019-47/indexes/cdx-00124.gz HTTP/1.1\" 200 610581134\n",
      "DEBUG:urllib3.connectionpool:Starting new HTTPS connection (1): commoncrawl.s3.amazonaws.com\n",
      "DEBUG:urllib3.connectionpool:https://commoncrawl.s3.amazonaws.com:443 \"GET /cc-index/collections/CC-MAIN-2019-47/indexes/cdx-00125.gz HTTP/1.1\" 200 806035186\n",
      "DEBUG:urllib3.connectionpool:Starting new HTTPS connection (1): commoncrawl.s3.amazonaws.com\n",
      "DEBUG:urllib3.connectionpool:https://commoncrawl.s3.amazonaws.com:443 \"GET /cc-index/collections/CC-MAIN-2019-47/indexes/cdx-00126.gz HTTP/1.1\" 200 736400083\n",
      "DEBUG:urllib3.connectionpool:Starting new HTTPS connection (1): commoncrawl.s3.amazonaws.com\n",
      "DEBUG:urllib3.connectionpool:https://commoncrawl.s3.amazonaws.com:443 \"GET /cc-index/collections/CC-MAIN-2019-47/indexes/cdx-00127.gz HTTP/1.1\" 200 772994963\n",
      "DEBUG:urllib3.connectionpool:Starting new HTTPS connection (1): commoncrawl.s3.amazonaws.com\n",
      "DEBUG:urllib3.connectionpool:https://commoncrawl.s3.amazonaws.com:443 \"GET /cc-index/collections/CC-MAIN-2019-47/indexes/cdx-00128.gz HTTP/1.1\" 200 599450115\n",
      "DEBUG:urllib3.connectionpool:Starting new HTTPS connection (1): commoncrawl.s3.amazonaws.com\n",
      "DEBUG:urllib3.connectionpool:https://commoncrawl.s3.amazonaws.com:443 \"GET /cc-index/collections/CC-MAIN-2019-47/indexes/cdx-00129.gz HTTP/1.1\" 200 685013752\n",
      "DEBUG:urllib3.connectionpool:Starting new HTTPS connection (1): commoncrawl.s3.amazonaws.com\n",
      "DEBUG:urllib3.connectionpool:https://commoncrawl.s3.amazonaws.com:443 \"GET /cc-index/collections/CC-MAIN-2019-47/indexes/cdx-00130.gz HTTP/1.1\" 200 593990423\n",
      "DEBUG:urllib3.connectionpool:Starting new HTTPS connection (1): commoncrawl.s3.amazonaws.com\n",
      "DEBUG:urllib3.connectionpool:https://commoncrawl.s3.amazonaws.com:443 \"GET /cc-index/collections/CC-MAIN-2019-47/indexes/cdx-00131.gz HTTP/1.1\" 200 622493726\n",
      "DEBUG:urllib3.connectionpool:Starting new HTTPS connection (1): commoncrawl.s3.amazonaws.com\n",
      "DEBUG:urllib3.connectionpool:https://commoncrawl.s3.amazonaws.com:443 \"GET /cc-index/collections/CC-MAIN-2019-47/indexes/cdx-00132.gz HTTP/1.1\" 200 813911367\n"
     ]
    },
    {
     "name": "stderr",
     "output_type": "stream",
     "text": [
      "DEBUG:urllib3.connectionpool:Starting new HTTPS connection (1): commoncrawl.s3.amazonaws.com\n",
      "DEBUG:urllib3.connectionpool:https://commoncrawl.s3.amazonaws.com:443 \"GET /cc-index/collections/CC-MAIN-2019-47/indexes/cdx-00133.gz HTTP/1.1\" 200 731867634\n",
      "DEBUG:urllib3.connectionpool:Starting new HTTPS connection (1): commoncrawl.s3.amazonaws.com\n",
      "DEBUG:urllib3.connectionpool:https://commoncrawl.s3.amazonaws.com:443 \"GET /cc-index/collections/CC-MAIN-2019-47/indexes/cdx-00134.gz HTTP/1.1\" 200 588238450\n",
      "DEBUG:urllib3.connectionpool:Starting new HTTPS connection (1): commoncrawl.s3.amazonaws.com\n",
      "DEBUG:urllib3.connectionpool:https://commoncrawl.s3.amazonaws.com:443 \"GET /cc-index/collections/CC-MAIN-2019-47/indexes/cdx-00135.gz HTTP/1.1\" 200 781091628\n",
      "DEBUG:urllib3.connectionpool:Starting new HTTPS connection (1): commoncrawl.s3.amazonaws.com\n",
      "DEBUG:urllib3.connectionpool:https://commoncrawl.s3.amazonaws.com:443 \"GET /cc-index/collections/CC-MAIN-2019-47/indexes/cdx-00136.gz HTTP/1.1\" 200 722975313\n",
      "DEBUG:urllib3.connectionpool:Starting new HTTPS connection (1): commoncrawl.s3.amazonaws.com\n",
      "DEBUG:urllib3.connectionpool:https://commoncrawl.s3.amazonaws.com:443 \"GET /cc-index/collections/CC-MAIN-2019-47/indexes/cdx-00137.gz HTTP/1.1\" 200 597160853\n",
      "DEBUG:urllib3.connectionpool:Starting new HTTPS connection (1): commoncrawl.s3.amazonaws.com\n",
      "DEBUG:urllib3.connectionpool:https://commoncrawl.s3.amazonaws.com:443 \"GET /cc-index/collections/CC-MAIN-2019-47/indexes/cdx-00138.gz HTTP/1.1\" 200 646791272\n",
      "DEBUG:urllib3.connectionpool:Starting new HTTPS connection (1): commoncrawl.s3.amazonaws.com\n",
      "DEBUG:urllib3.connectionpool:https://commoncrawl.s3.amazonaws.com:443 \"GET /cc-index/collections/CC-MAIN-2019-47/indexes/cdx-00139.gz HTTP/1.1\" 200 708836713\n",
      "DEBUG:urllib3.connectionpool:Starting new HTTPS connection (1): commoncrawl.s3.amazonaws.com\n",
      "DEBUG:urllib3.connectionpool:https://commoncrawl.s3.amazonaws.com:443 \"GET /cc-index/collections/CC-MAIN-2019-47/indexes/cdx-00140.gz HTTP/1.1\" 200 633585438\n",
      "DEBUG:urllib3.connectionpool:Starting new HTTPS connection (1): commoncrawl.s3.amazonaws.com\n",
      "DEBUG:urllib3.connectionpool:https://commoncrawl.s3.amazonaws.com:443 \"GET /cc-index/collections/CC-MAIN-2019-47/indexes/cdx-00141.gz HTTP/1.1\" 200 619776715\n",
      "DEBUG:urllib3.connectionpool:Starting new HTTPS connection (1): commoncrawl.s3.amazonaws.com\n",
      "DEBUG:urllib3.connectionpool:https://commoncrawl.s3.amazonaws.com:443 \"GET /cc-index/collections/CC-MAIN-2019-47/indexes/cdx-00142.gz HTTP/1.1\" 200 683925118\n",
      "DEBUG:urllib3.connectionpool:Starting new HTTPS connection (1): commoncrawl.s3.amazonaws.com\n",
      "DEBUG:urllib3.connectionpool:https://commoncrawl.s3.amazonaws.com:443 \"GET /cc-index/collections/CC-MAIN-2019-47/indexes/cdx-00143.gz HTTP/1.1\" 200 535149639\n",
      "DEBUG:urllib3.connectionpool:Starting new HTTPS connection (1): commoncrawl.s3.amazonaws.com\n",
      "DEBUG:urllib3.connectionpool:https://commoncrawl.s3.amazonaws.com:443 \"GET /cc-index/collections/CC-MAIN-2019-47/indexes/cdx-00144.gz HTTP/1.1\" 200 721206077\n",
      "DEBUG:urllib3.connectionpool:Starting new HTTPS connection (1): commoncrawl.s3.amazonaws.com\n",
      "DEBUG:urllib3.connectionpool:https://commoncrawl.s3.amazonaws.com:443 \"GET /cc-index/collections/CC-MAIN-2019-47/indexes/cdx-00145.gz HTTP/1.1\" 200 591308738\n",
      "DEBUG:urllib3.connectionpool:Starting new HTTPS connection (1): commoncrawl.s3.amazonaws.com\n",
      "DEBUG:urllib3.connectionpool:https://commoncrawl.s3.amazonaws.com:443 \"GET /cc-index/collections/CC-MAIN-2019-47/indexes/cdx-00146.gz HTTP/1.1\" 200 640088581\n",
      "DEBUG:urllib3.connectionpool:Starting new HTTPS connection (1): commoncrawl.s3.amazonaws.com\n",
      "DEBUG:urllib3.connectionpool:https://commoncrawl.s3.amazonaws.com:443 \"GET /cc-index/collections/CC-MAIN-2019-47/indexes/cdx-00147.gz HTTP/1.1\" 200 633660273\n",
      "DEBUG:urllib3.connectionpool:Starting new HTTPS connection (1): commoncrawl.s3.amazonaws.com\n",
      "DEBUG:urllib3.connectionpool:https://commoncrawl.s3.amazonaws.com:443 \"GET /cc-index/collections/CC-MAIN-2019-47/indexes/cdx-00148.gz HTTP/1.1\" 200 728674051\n",
      "DEBUG:urllib3.connectionpool:Starting new HTTPS connection (1): commoncrawl.s3.amazonaws.com\n",
      "DEBUG:urllib3.connectionpool:https://commoncrawl.s3.amazonaws.com:443 \"GET /cc-index/collections/CC-MAIN-2019-47/indexes/cdx-00149.gz HTTP/1.1\" 200 654029182\n",
      "DEBUG:urllib3.connectionpool:Starting new HTTPS connection (1): commoncrawl.s3.amazonaws.com\n",
      "DEBUG:urllib3.connectionpool:https://commoncrawl.s3.amazonaws.com:443 \"GET /cc-index/collections/CC-MAIN-2019-47/indexes/cdx-00150.gz HTTP/1.1\" 200 541109539\n",
      "DEBUG:urllib3.connectionpool:Starting new HTTPS connection (1): commoncrawl.s3.amazonaws.com\n",
      "DEBUG:urllib3.connectionpool:https://commoncrawl.s3.amazonaws.com:443 \"GET /cc-index/collections/CC-MAIN-2019-47/indexes/cdx-00151.gz HTTP/1.1\" 200 604192661\n",
      "DEBUG:urllib3.connectionpool:Starting new HTTPS connection (1): commoncrawl.s3.amazonaws.com\n",
      "DEBUG:urllib3.connectionpool:https://commoncrawl.s3.amazonaws.com:443 \"GET /cc-index/collections/CC-MAIN-2019-47/indexes/cdx-00152.gz HTTP/1.1\" 200 620677285\n",
      "DEBUG:urllib3.connectionpool:Starting new HTTPS connection (1): commoncrawl.s3.amazonaws.com\n",
      "DEBUG:urllib3.connectionpool:https://commoncrawl.s3.amazonaws.com:443 \"GET /cc-index/collections/CC-MAIN-2019-47/indexes/cdx-00153.gz HTTP/1.1\" 200 719310269\n",
      "DEBUG:urllib3.connectionpool:Starting new HTTPS connection (1): commoncrawl.s3.amazonaws.com\n",
      "DEBUG:urllib3.connectionpool:https://commoncrawl.s3.amazonaws.com:443 \"GET /cc-index/collections/CC-MAIN-2019-47/indexes/cdx-00154.gz HTTP/1.1\" 200 801319919\n",
      "DEBUG:urllib3.connectionpool:Starting new HTTPS connection (1): commoncrawl.s3.amazonaws.com\n",
      "DEBUG:urllib3.connectionpool:https://commoncrawl.s3.amazonaws.com:443 \"GET /cc-index/collections/CC-MAIN-2019-47/indexes/cdx-00155.gz HTTP/1.1\" 200 858640224\n",
      "DEBUG:urllib3.connectionpool:Starting new HTTPS connection (1): commoncrawl.s3.amazonaws.com\n",
      "DEBUG:urllib3.connectionpool:https://commoncrawl.s3.amazonaws.com:443 \"GET /cc-index/collections/CC-MAIN-2019-47/indexes/cdx-00156.gz HTTP/1.1\" 200 404604296\n",
      "DEBUG:urllib3.connectionpool:Starting new HTTPS connection (1): commoncrawl.s3.amazonaws.com\n",
      "DEBUG:urllib3.connectionpool:https://commoncrawl.s3.amazonaws.com:443 \"GET /cc-index/collections/CC-MAIN-2019-47/indexes/cdx-00157.gz HTTP/1.1\" 200 354900533\n",
      "DEBUG:urllib3.connectionpool:Starting new HTTPS connection (1): commoncrawl.s3.amazonaws.com\n",
      "DEBUG:urllib3.connectionpool:https://commoncrawl.s3.amazonaws.com:443 \"GET /cc-index/collections/CC-MAIN-2019-47/indexes/cdx-00158.gz HTTP/1.1\" 200 433947692\n",
      "DEBUG:urllib3.connectionpool:Starting new HTTPS connection (1): commoncrawl.s3.amazonaws.com\n",
      "DEBUG:urllib3.connectionpool:https://commoncrawl.s3.amazonaws.com:443 \"GET /cc-index/collections/CC-MAIN-2019-47/indexes/cdx-00159.gz HTTP/1.1\" 200 614739242\n",
      "DEBUG:urllib3.connectionpool:Starting new HTTPS connection (1): commoncrawl.s3.amazonaws.com\n",
      "DEBUG:urllib3.connectionpool:https://commoncrawl.s3.amazonaws.com:443 \"GET /cc-index/collections/CC-MAIN-2019-47/indexes/cdx-00160.gz HTTP/1.1\" 200 631732795\n",
      "DEBUG:urllib3.connectionpool:Starting new HTTPS connection (1): commoncrawl.s3.amazonaws.com\n",
      "DEBUG:urllib3.connectionpool:https://commoncrawl.s3.amazonaws.com:443 \"GET /cc-index/collections/CC-MAIN-2019-47/indexes/cdx-00161.gz HTTP/1.1\" 200 572253812\n",
      "DEBUG:urllib3.connectionpool:Starting new HTTPS connection (1): commoncrawl.s3.amazonaws.com\n",
      "DEBUG:urllib3.connectionpool:https://commoncrawl.s3.amazonaws.com:443 \"GET /cc-index/collections/CC-MAIN-2019-47/indexes/cdx-00162.gz HTTP/1.1\" 200 634233476\n",
      "DEBUG:urllib3.connectionpool:Starting new HTTPS connection (1): commoncrawl.s3.amazonaws.com\n",
      "DEBUG:urllib3.connectionpool:https://commoncrawl.s3.amazonaws.com:443 \"GET /cc-index/collections/CC-MAIN-2019-47/indexes/cdx-00163.gz HTTP/1.1\" 200 532147114\n",
      "DEBUG:urllib3.connectionpool:Starting new HTTPS connection (1): commoncrawl.s3.amazonaws.com\n",
      "DEBUG:urllib3.connectionpool:https://commoncrawl.s3.amazonaws.com:443 \"GET /cc-index/collections/CC-MAIN-2019-47/indexes/cdx-00164.gz HTTP/1.1\" 200 586237710\n",
      "DEBUG:urllib3.connectionpool:Starting new HTTPS connection (1): commoncrawl.s3.amazonaws.com\n",
      "DEBUG:urllib3.connectionpool:https://commoncrawl.s3.amazonaws.com:443 \"GET /cc-index/collections/CC-MAIN-2019-47/indexes/cdx-00165.gz HTTP/1.1\" 200 598593784\n"
     ]
    },
    {
     "name": "stderr",
     "output_type": "stream",
     "text": [
      "DEBUG:urllib3.connectionpool:Starting new HTTPS connection (1): commoncrawl.s3.amazonaws.com\n",
      "DEBUG:urllib3.connectionpool:https://commoncrawl.s3.amazonaws.com:443 \"GET /cc-index/collections/CC-MAIN-2019-47/indexes/cdx-00166.gz HTTP/1.1\" 200 792765878\n",
      "DEBUG:urllib3.connectionpool:Starting new HTTPS connection (1): commoncrawl.s3.amazonaws.com\n",
      "DEBUG:urllib3.connectionpool:https://commoncrawl.s3.amazonaws.com:443 \"GET /cc-index/collections/CC-MAIN-2019-47/indexes/cdx-00167.gz HTTP/1.1\" 200 622644174\n",
      "DEBUG:urllib3.connectionpool:Starting new HTTPS connection (1): commoncrawl.s3.amazonaws.com\n",
      "DEBUG:urllib3.connectionpool:https://commoncrawl.s3.amazonaws.com:443 \"GET /cc-index/collections/CC-MAIN-2019-47/indexes/cdx-00168.gz HTTP/1.1\" 200 1190418320\n",
      "DEBUG:urllib3.connectionpool:Starting new HTTPS connection (1): commoncrawl.s3.amazonaws.com\n",
      "DEBUG:urllib3.connectionpool:https://commoncrawl.s3.amazonaws.com:443 \"GET /cc-index/collections/CC-MAIN-2019-47/indexes/cdx-00169.gz HTTP/1.1\" 200 1405888030\n",
      "DEBUG:urllib3.connectionpool:Starting new HTTPS connection (1): commoncrawl.s3.amazonaws.com\n",
      "DEBUG:urllib3.connectionpool:https://commoncrawl.s3.amazonaws.com:443 \"GET /cc-index/collections/CC-MAIN-2019-47/indexes/cdx-00170.gz HTTP/1.1\" 200 593136568\n",
      "DEBUG:urllib3.connectionpool:Starting new HTTPS connection (1): commoncrawl.s3.amazonaws.com\n",
      "DEBUG:urllib3.connectionpool:https://commoncrawl.s3.amazonaws.com:443 \"GET /cc-index/collections/CC-MAIN-2019-47/indexes/cdx-00171.gz HTTP/1.1\" 200 566954455\n",
      "DEBUG:urllib3.connectionpool:Starting new HTTPS connection (1): commoncrawl.s3.amazonaws.com\n",
      "DEBUG:urllib3.connectionpool:https://commoncrawl.s3.amazonaws.com:443 \"GET /cc-index/collections/CC-MAIN-2019-47/indexes/cdx-00172.gz HTTP/1.1\" 200 579716479\n",
      "DEBUG:urllib3.connectionpool:Starting new HTTPS connection (1): commoncrawl.s3.amazonaws.com\n",
      "DEBUG:urllib3.connectionpool:https://commoncrawl.s3.amazonaws.com:443 \"GET /cc-index/collections/CC-MAIN-2019-47/indexes/cdx-00173.gz HTTP/1.1\" 200 544226427\n",
      "DEBUG:urllib3.connectionpool:Starting new HTTPS connection (1): commoncrawl.s3.amazonaws.com\n",
      "DEBUG:urllib3.connectionpool:https://commoncrawl.s3.amazonaws.com:443 \"GET /cc-index/collections/CC-MAIN-2019-47/indexes/cdx-00174.gz HTTP/1.1\" 200 696163884\n",
      "DEBUG:urllib3.connectionpool:Starting new HTTPS connection (1): commoncrawl.s3.amazonaws.com\n",
      "DEBUG:urllib3.connectionpool:https://commoncrawl.s3.amazonaws.com:443 \"GET /cc-index/collections/CC-MAIN-2019-47/indexes/cdx-00175.gz HTTP/1.1\" 200 836934949\n",
      "DEBUG:urllib3.connectionpool:Starting new HTTPS connection (1): commoncrawl.s3.amazonaws.com\n",
      "DEBUG:urllib3.connectionpool:https://commoncrawl.s3.amazonaws.com:443 \"GET /cc-index/collections/CC-MAIN-2019-47/indexes/cdx-00176.gz HTTP/1.1\" 200 997465033\n",
      "DEBUG:urllib3.connectionpool:Starting new HTTPS connection (1): commoncrawl.s3.amazonaws.com\n",
      "DEBUG:urllib3.connectionpool:https://commoncrawl.s3.amazonaws.com:443 \"GET /cc-index/collections/CC-MAIN-2019-47/indexes/cdx-00177.gz HTTP/1.1\" 200 878695435\n",
      "DEBUG:urllib3.connectionpool:Starting new HTTPS connection (1): commoncrawl.s3.amazonaws.com\n",
      "DEBUG:urllib3.connectionpool:https://commoncrawl.s3.amazonaws.com:443 \"GET /cc-index/collections/CC-MAIN-2019-47/indexes/cdx-00178.gz HTTP/1.1\" 200 799869182\n",
      "DEBUG:urllib3.connectionpool:Starting new HTTPS connection (1): commoncrawl.s3.amazonaws.com\n",
      "DEBUG:urllib3.connectionpool:https://commoncrawl.s3.amazonaws.com:443 \"GET /cc-index/collections/CC-MAIN-2019-47/indexes/cdx-00179.gz HTTP/1.1\" 200 1066217734\n",
      "DEBUG:urllib3.connectionpool:Starting new HTTPS connection (1): commoncrawl.s3.amazonaws.com\n",
      "DEBUG:urllib3.connectionpool:https://commoncrawl.s3.amazonaws.com:443 \"GET /cc-index/collections/CC-MAIN-2019-47/indexes/cdx-00180.gz HTTP/1.1\" 200 1016448751\n",
      "DEBUG:urllib3.connectionpool:Starting new HTTPS connection (1): commoncrawl.s3.amazonaws.com\n",
      "DEBUG:urllib3.connectionpool:https://commoncrawl.s3.amazonaws.com:443 \"GET /cc-index/collections/CC-MAIN-2019-47/indexes/cdx-00181.gz HTTP/1.1\" 200 855191531\n",
      "DEBUG:urllib3.connectionpool:Starting new HTTPS connection (1): commoncrawl.s3.amazonaws.com\n",
      "DEBUG:urllib3.connectionpool:https://commoncrawl.s3.amazonaws.com:443 \"GET /cc-index/collections/CC-MAIN-2019-47/indexes/cdx-00182.gz HTTP/1.1\" 200 817438787\n",
      "DEBUG:urllib3.connectionpool:Starting new HTTPS connection (1): commoncrawl.s3.amazonaws.com\n",
      "DEBUG:urllib3.connectionpool:https://commoncrawl.s3.amazonaws.com:443 \"GET /cc-index/collections/CC-MAIN-2019-47/indexes/cdx-00183.gz HTTP/1.1\" 200 998839081\n",
      "DEBUG:urllib3.connectionpool:Starting new HTTPS connection (1): commoncrawl.s3.amazonaws.com\n",
      "DEBUG:urllib3.connectionpool:https://commoncrawl.s3.amazonaws.com:443 \"GET /cc-index/collections/CC-MAIN-2019-47/indexes/cdx-00184.gz HTTP/1.1\" 200 921743356\n",
      "DEBUG:urllib3.connectionpool:Starting new HTTPS connection (1): commoncrawl.s3.amazonaws.com\n",
      "DEBUG:urllib3.connectionpool:https://commoncrawl.s3.amazonaws.com:443 \"GET /cc-index/collections/CC-MAIN-2019-47/indexes/cdx-00185.gz HTTP/1.1\" 200 823511429\n",
      "DEBUG:urllib3.connectionpool:Starting new HTTPS connection (1): commoncrawl.s3.amazonaws.com\n",
      "DEBUG:urllib3.connectionpool:https://commoncrawl.s3.amazonaws.com:443 \"GET /cc-index/collections/CC-MAIN-2019-47/indexes/cdx-00186.gz HTTP/1.1\" 200 882442597\n",
      "DEBUG:urllib3.connectionpool:Starting new HTTPS connection (1): commoncrawl.s3.amazonaws.com\n",
      "DEBUG:urllib3.connectionpool:https://commoncrawl.s3.amazonaws.com:443 \"GET /cc-index/collections/CC-MAIN-2019-47/indexes/cdx-00187.gz HTTP/1.1\" 200 639430060\n",
      "DEBUG:urllib3.connectionpool:Starting new HTTPS connection (1): commoncrawl.s3.amazonaws.com\n",
      "DEBUG:urllib3.connectionpool:https://commoncrawl.s3.amazonaws.com:443 \"GET /cc-index/collections/CC-MAIN-2019-47/indexes/cdx-00188.gz HTTP/1.1\" 200 680445329\n",
      "DEBUG:urllib3.connectionpool:Starting new HTTPS connection (1): commoncrawl.s3.amazonaws.com\n",
      "DEBUG:urllib3.connectionpool:https://commoncrawl.s3.amazonaws.com:443 \"GET /cc-index/collections/CC-MAIN-2019-47/indexes/cdx-00189.gz HTTP/1.1\" 200 797792597\n",
      "DEBUG:urllib3.connectionpool:Starting new HTTPS connection (1): commoncrawl.s3.amazonaws.com\n",
      "DEBUG:urllib3.connectionpool:https://commoncrawl.s3.amazonaws.com:443 \"GET /cc-index/collections/CC-MAIN-2019-47/indexes/cdx-00190.gz HTTP/1.1\" 200 669780712\n",
      "DEBUG:urllib3.connectionpool:Starting new HTTPS connection (1): commoncrawl.s3.amazonaws.com\n",
      "DEBUG:urllib3.connectionpool:https://commoncrawl.s3.amazonaws.com:443 \"GET /cc-index/collections/CC-MAIN-2019-47/indexes/cdx-00191.gz HTTP/1.1\" 200 943156249\n",
      "DEBUG:urllib3.connectionpool:Starting new HTTPS connection (1): commoncrawl.s3.amazonaws.com\n",
      "DEBUG:urllib3.connectionpool:https://commoncrawl.s3.amazonaws.com:443 \"GET /cc-index/collections/CC-MAIN-2019-47/indexes/cdx-00192.gz HTTP/1.1\" 200 790286910\n",
      "DEBUG:urllib3.connectionpool:Starting new HTTPS connection (1): commoncrawl.s3.amazonaws.com\n",
      "DEBUG:urllib3.connectionpool:https://commoncrawl.s3.amazonaws.com:443 \"GET /cc-index/collections/CC-MAIN-2019-47/indexes/cdx-00193.gz HTTP/1.1\" 200 832956880\n",
      "DEBUG:urllib3.connectionpool:Starting new HTTPS connection (1): commoncrawl.s3.amazonaws.com\n",
      "DEBUG:urllib3.connectionpool:https://commoncrawl.s3.amazonaws.com:443 \"GET /cc-index/collections/CC-MAIN-2019-47/indexes/cdx-00194.gz HTTP/1.1\" 200 821146246\n",
      "DEBUG:urllib3.connectionpool:Starting new HTTPS connection (1): commoncrawl.s3.amazonaws.com\n",
      "DEBUG:urllib3.connectionpool:https://commoncrawl.s3.amazonaws.com:443 \"GET /cc-index/collections/CC-MAIN-2019-47/indexes/cdx-00195.gz HTTP/1.1\" 200 861582918\n",
      "DEBUG:urllib3.connectionpool:Starting new HTTPS connection (1): commoncrawl.s3.amazonaws.com\n",
      "DEBUG:urllib3.connectionpool:https://commoncrawl.s3.amazonaws.com:443 \"GET /cc-index/collections/CC-MAIN-2019-47/indexes/cdx-00196.gz HTTP/1.1\" 200 861389178\n",
      "DEBUG:urllib3.connectionpool:Starting new HTTPS connection (1): commoncrawl.s3.amazonaws.com\n",
      "DEBUG:urllib3.connectionpool:https://commoncrawl.s3.amazonaws.com:443 \"GET /cc-index/collections/CC-MAIN-2019-47/indexes/cdx-00197.gz HTTP/1.1\" 200 972642817\n",
      "DEBUG:urllib3.connectionpool:Starting new HTTPS connection (1): commoncrawl.s3.amazonaws.com\n",
      "DEBUG:urllib3.connectionpool:https://commoncrawl.s3.amazonaws.com:443 \"GET /cc-index/collections/CC-MAIN-2019-47/indexes/cdx-00198.gz HTTP/1.1\" 200 958477579\n"
     ]
    },
    {
     "name": "stderr",
     "output_type": "stream",
     "text": [
      "DEBUG:urllib3.connectionpool:Starting new HTTPS connection (1): commoncrawl.s3.amazonaws.com\n",
      "DEBUG:urllib3.connectionpool:https://commoncrawl.s3.amazonaws.com:443 \"GET /cc-index/collections/CC-MAIN-2019-47/indexes/cdx-00199.gz HTTP/1.1\" 200 1037518041\n",
      "DEBUG:urllib3.connectionpool:Starting new HTTPS connection (1): commoncrawl.s3.amazonaws.com\n",
      "DEBUG:urllib3.connectionpool:https://commoncrawl.s3.amazonaws.com:443 \"GET /cc-index/collections/CC-MAIN-2019-47/indexes/cdx-00200.gz HTTP/1.1\" 200 975483189\n",
      "DEBUG:urllib3.connectionpool:Starting new HTTPS connection (1): commoncrawl.s3.amazonaws.com\n",
      "DEBUG:urllib3.connectionpool:https://commoncrawl.s3.amazonaws.com:443 \"GET /cc-index/collections/CC-MAIN-2019-47/indexes/cdx-00201.gz HTTP/1.1\" 200 621671288\n",
      "DEBUG:urllib3.connectionpool:Starting new HTTPS connection (1): commoncrawl.s3.amazonaws.com\n",
      "DEBUG:urllib3.connectionpool:https://commoncrawl.s3.amazonaws.com:443 \"GET /cc-index/collections/CC-MAIN-2019-47/indexes/cdx-00202.gz HTTP/1.1\" 200 467459577\n",
      "DEBUG:urllib3.connectionpool:Starting new HTTPS connection (1): commoncrawl.s3.amazonaws.com\n",
      "DEBUG:urllib3.connectionpool:https://commoncrawl.s3.amazonaws.com:443 \"GET /cc-index/collections/CC-MAIN-2019-47/indexes/cdx-00203.gz HTTP/1.1\" 200 1110847832\n",
      "DEBUG:urllib3.connectionpool:Starting new HTTPS connection (1): commoncrawl.s3.amazonaws.com\n",
      "DEBUG:urllib3.connectionpool:https://commoncrawl.s3.amazonaws.com:443 \"GET /cc-index/collections/CC-MAIN-2019-47/indexes/cdx-00204.gz HTTP/1.1\" 200 751557390\n",
      "DEBUG:urllib3.connectionpool:Starting new HTTPS connection (1): commoncrawl.s3.amazonaws.com\n",
      "DEBUG:urllib3.connectionpool:https://commoncrawl.s3.amazonaws.com:443 \"GET /cc-index/collections/CC-MAIN-2019-47/indexes/cdx-00205.gz HTTP/1.1\" 200 832519937\n",
      "DEBUG:urllib3.connectionpool:Starting new HTTPS connection (1): commoncrawl.s3.amazonaws.com\n",
      "DEBUG:urllib3.connectionpool:https://commoncrawl.s3.amazonaws.com:443 \"GET /cc-index/collections/CC-MAIN-2019-47/indexes/cdx-00206.gz HTTP/1.1\" 200 821365570\n",
      "DEBUG:urllib3.connectionpool:Starting new HTTPS connection (1): commoncrawl.s3.amazonaws.com\n",
      "DEBUG:urllib3.connectionpool:https://commoncrawl.s3.amazonaws.com:443 \"GET /cc-index/collections/CC-MAIN-2019-47/indexes/cdx-00207.gz HTTP/1.1\" 200 683859954\n",
      "DEBUG:urllib3.connectionpool:Starting new HTTPS connection (1): commoncrawl.s3.amazonaws.com\n",
      "DEBUG:urllib3.connectionpool:https://commoncrawl.s3.amazonaws.com:443 \"GET /cc-index/collections/CC-MAIN-2019-47/indexes/cdx-00208.gz HTTP/1.1\" 200 673681102\n",
      "DEBUG:urllib3.connectionpool:Starting new HTTPS connection (1): commoncrawl.s3.amazonaws.com\n",
      "DEBUG:urllib3.connectionpool:https://commoncrawl.s3.amazonaws.com:443 \"GET /cc-index/collections/CC-MAIN-2019-47/indexes/cdx-00209.gz HTTP/1.1\" 200 661286394\n",
      "DEBUG:urllib3.connectionpool:Starting new HTTPS connection (1): commoncrawl.s3.amazonaws.com\n",
      "DEBUG:urllib3.connectionpool:https://commoncrawl.s3.amazonaws.com:443 \"GET /cc-index/collections/CC-MAIN-2019-47/indexes/cdx-00210.gz HTTP/1.1\" 200 788793117\n",
      "DEBUG:urllib3.connectionpool:Starting new HTTPS connection (1): commoncrawl.s3.amazonaws.com\n",
      "DEBUG:urllib3.connectionpool:https://commoncrawl.s3.amazonaws.com:443 \"GET /cc-index/collections/CC-MAIN-2019-47/indexes/cdx-00211.gz HTTP/1.1\" 200 701348604\n",
      "DEBUG:urllib3.connectionpool:Starting new HTTPS connection (1): commoncrawl.s3.amazonaws.com\n",
      "DEBUG:urllib3.connectionpool:https://commoncrawl.s3.amazonaws.com:443 \"GET /cc-index/collections/CC-MAIN-2019-47/indexes/cdx-00212.gz HTTP/1.1\" 200 654889015\n",
      "DEBUG:urllib3.connectionpool:Starting new HTTPS connection (1): commoncrawl.s3.amazonaws.com\n",
      "DEBUG:urllib3.connectionpool:https://commoncrawl.s3.amazonaws.com:443 \"GET /cc-index/collections/CC-MAIN-2019-47/indexes/cdx-00213.gz HTTP/1.1\" 200 903408313\n",
      "DEBUG:urllib3.connectionpool:Starting new HTTPS connection (1): commoncrawl.s3.amazonaws.com\n",
      "DEBUG:urllib3.connectionpool:https://commoncrawl.s3.amazonaws.com:443 \"GET /cc-index/collections/CC-MAIN-2019-47/indexes/cdx-00214.gz HTTP/1.1\" 200 947554565\n",
      "DEBUG:urllib3.connectionpool:Starting new HTTPS connection (1): commoncrawl.s3.amazonaws.com\n",
      "DEBUG:urllib3.connectionpool:https://commoncrawl.s3.amazonaws.com:443 \"GET /cc-index/collections/CC-MAIN-2019-47/indexes/cdx-00215.gz HTTP/1.1\" 200 805123867\n",
      "DEBUG:urllib3.connectionpool:Starting new HTTPS connection (1): commoncrawl.s3.amazonaws.com\n",
      "DEBUG:urllib3.connectionpool:https://commoncrawl.s3.amazonaws.com:443 \"GET /cc-index/collections/CC-MAIN-2019-47/indexes/cdx-00216.gz HTTP/1.1\" 200 1177426579\n",
      "DEBUG:urllib3.connectionpool:Starting new HTTPS connection (1): commoncrawl.s3.amazonaws.com\n",
      "DEBUG:urllib3.connectionpool:https://commoncrawl.s3.amazonaws.com:443 \"GET /cc-index/collections/CC-MAIN-2019-47/indexes/cdx-00217.gz HTTP/1.1\" 200 672768327\n",
      "DEBUG:urllib3.connectionpool:Starting new HTTPS connection (1): commoncrawl.s3.amazonaws.com\n",
      "DEBUG:urllib3.connectionpool:https://commoncrawl.s3.amazonaws.com:443 \"GET /cc-index/collections/CC-MAIN-2019-47/indexes/cdx-00218.gz HTTP/1.1\" 200 672812383\n",
      "DEBUG:urllib3.connectionpool:Starting new HTTPS connection (1): commoncrawl.s3.amazonaws.com\n",
      "DEBUG:urllib3.connectionpool:https://commoncrawl.s3.amazonaws.com:443 \"GET /cc-index/collections/CC-MAIN-2019-47/indexes/cdx-00219.gz HTTP/1.1\" 200 742473312\n",
      "DEBUG:urllib3.connectionpool:Starting new HTTPS connection (1): commoncrawl.s3.amazonaws.com\n",
      "DEBUG:urllib3.connectionpool:https://commoncrawl.s3.amazonaws.com:443 \"GET /cc-index/collections/CC-MAIN-2019-47/indexes/cdx-00220.gz HTTP/1.1\" 200 950606453\n",
      "DEBUG:urllib3.connectionpool:Starting new HTTPS connection (1): commoncrawl.s3.amazonaws.com\n",
      "DEBUG:urllib3.connectionpool:https://commoncrawl.s3.amazonaws.com:443 \"GET /cc-index/collections/CC-MAIN-2019-47/indexes/cdx-00221.gz HTTP/1.1\" 200 625527477\n",
      "DEBUG:urllib3.connectionpool:Starting new HTTPS connection (1): commoncrawl.s3.amazonaws.com\n",
      "DEBUG:urllib3.connectionpool:https://commoncrawl.s3.amazonaws.com:443 \"GET /cc-index/collections/CC-MAIN-2019-47/indexes/cdx-00222.gz HTTP/1.1\" 200 768703693\n",
      "DEBUG:urllib3.connectionpool:Starting new HTTPS connection (1): commoncrawl.s3.amazonaws.com\n",
      "DEBUG:urllib3.connectionpool:https://commoncrawl.s3.amazonaws.com:443 \"GET /cc-index/collections/CC-MAIN-2019-47/indexes/cdx-00223.gz HTTP/1.1\" 200 1017398475\n",
      "DEBUG:urllib3.connectionpool:Starting new HTTPS connection (1): commoncrawl.s3.amazonaws.com\n",
      "DEBUG:urllib3.connectionpool:https://commoncrawl.s3.amazonaws.com:443 \"GET /cc-index/collections/CC-MAIN-2019-47/indexes/cdx-00224.gz HTTP/1.1\" 200 864575406\n",
      "DEBUG:urllib3.connectionpool:Starting new HTTPS connection (1): commoncrawl.s3.amazonaws.com\n",
      "DEBUG:urllib3.connectionpool:https://commoncrawl.s3.amazonaws.com:443 \"GET /cc-index/collections/CC-MAIN-2019-47/indexes/cdx-00225.gz HTTP/1.1\" 200 767900970\n",
      "DEBUG:urllib3.connectionpool:Starting new HTTPS connection (1): commoncrawl.s3.amazonaws.com\n",
      "DEBUG:urllib3.connectionpool:https://commoncrawl.s3.amazonaws.com:443 \"GET /cc-index/collections/CC-MAIN-2019-47/indexes/cdx-00226.gz HTTP/1.1\" 200 837879187\n",
      "DEBUG:urllib3.connectionpool:Starting new HTTPS connection (1): commoncrawl.s3.amazonaws.com\n",
      "DEBUG:urllib3.connectionpool:https://commoncrawl.s3.amazonaws.com:443 \"GET /cc-index/collections/CC-MAIN-2019-47/indexes/cdx-00227.gz HTTP/1.1\" 200 742736418\n",
      "DEBUG:urllib3.connectionpool:Starting new HTTPS connection (1): commoncrawl.s3.amazonaws.com\n",
      "DEBUG:urllib3.connectionpool:https://commoncrawl.s3.amazonaws.com:443 \"GET /cc-index/collections/CC-MAIN-2019-47/indexes/cdx-00228.gz HTTP/1.1\" 200 752381766\n",
      "DEBUG:urllib3.connectionpool:Starting new HTTPS connection (1): commoncrawl.s3.amazonaws.com\n",
      "DEBUG:urllib3.connectionpool:https://commoncrawl.s3.amazonaws.com:443 \"GET /cc-index/collections/CC-MAIN-2019-47/indexes/cdx-00229.gz HTTP/1.1\" 200 658092590\n",
      "DEBUG:urllib3.connectionpool:Starting new HTTPS connection (1): commoncrawl.s3.amazonaws.com\n",
      "DEBUG:urllib3.connectionpool:https://commoncrawl.s3.amazonaws.com:443 \"GET /cc-index/collections/CC-MAIN-2019-47/indexes/cdx-00230.gz HTTP/1.1\" 200 807075257\n",
      "DEBUG:urllib3.connectionpool:Starting new HTTPS connection (1): commoncrawl.s3.amazonaws.com\n",
      "DEBUG:urllib3.connectionpool:https://commoncrawl.s3.amazonaws.com:443 \"GET /cc-index/collections/CC-MAIN-2019-47/indexes/cdx-00231.gz HTTP/1.1\" 200 722987972\n"
     ]
    },
    {
     "name": "stderr",
     "output_type": "stream",
     "text": [
      "DEBUG:urllib3.connectionpool:Starting new HTTPS connection (1): commoncrawl.s3.amazonaws.com\n",
      "DEBUG:urllib3.connectionpool:https://commoncrawl.s3.amazonaws.com:443 \"GET /cc-index/collections/CC-MAIN-2019-47/indexes/cdx-00232.gz HTTP/1.1\" 200 680860115\n",
      "DEBUG:urllib3.connectionpool:Starting new HTTPS connection (1): commoncrawl.s3.amazonaws.com\n",
      "DEBUG:urllib3.connectionpool:https://commoncrawl.s3.amazonaws.com:443 \"GET /cc-index/collections/CC-MAIN-2019-47/indexes/cdx-00233.gz HTTP/1.1\" 200 672968886\n",
      "DEBUG:urllib3.connectionpool:Starting new HTTPS connection (1): commoncrawl.s3.amazonaws.com\n",
      "DEBUG:urllib3.connectionpool:https://commoncrawl.s3.amazonaws.com:443 \"GET /cc-index/collections/CC-MAIN-2019-47/indexes/cdx-00234.gz HTTP/1.1\" 200 535521758\n",
      "DEBUG:urllib3.connectionpool:Starting new HTTPS connection (1): commoncrawl.s3.amazonaws.com\n",
      "DEBUG:urllib3.connectionpool:https://commoncrawl.s3.amazonaws.com:443 \"GET /cc-index/collections/CC-MAIN-2019-47/indexes/cdx-00235.gz HTTP/1.1\" 200 697241322\n",
      "DEBUG:urllib3.connectionpool:Starting new HTTPS connection (1): commoncrawl.s3.amazonaws.com\n",
      "DEBUG:urllib3.connectionpool:https://commoncrawl.s3.amazonaws.com:443 \"GET /cc-index/collections/CC-MAIN-2019-47/indexes/cdx-00236.gz HTTP/1.1\" 200 824173056\n",
      "DEBUG:urllib3.connectionpool:Starting new HTTPS connection (1): commoncrawl.s3.amazonaws.com\n",
      "DEBUG:urllib3.connectionpool:https://commoncrawl.s3.amazonaws.com:443 \"GET /cc-index/collections/CC-MAIN-2019-47/indexes/cdx-00237.gz HTTP/1.1\" 200 727031538\n",
      "DEBUG:urllib3.connectionpool:Starting new HTTPS connection (1): commoncrawl.s3.amazonaws.com\n",
      "DEBUG:urllib3.connectionpool:https://commoncrawl.s3.amazonaws.com:443 \"GET /cc-index/collections/CC-MAIN-2019-47/indexes/cdx-00238.gz HTTP/1.1\" 200 671817187\n",
      "DEBUG:urllib3.connectionpool:Starting new HTTPS connection (1): commoncrawl.s3.amazonaws.com\n",
      "DEBUG:urllib3.connectionpool:https://commoncrawl.s3.amazonaws.com:443 \"GET /cc-index/collections/CC-MAIN-2019-47/indexes/cdx-00239.gz HTTP/1.1\" 200 805553264\n",
      "DEBUG:urllib3.connectionpool:Starting new HTTPS connection (1): commoncrawl.s3.amazonaws.com\n",
      "DEBUG:urllib3.connectionpool:https://commoncrawl.s3.amazonaws.com:443 \"GET /cc-index/collections/CC-MAIN-2019-47/indexes/cdx-00240.gz HTTP/1.1\" 200 953991052\n",
      "DEBUG:urllib3.connectionpool:Starting new HTTPS connection (1): commoncrawl.s3.amazonaws.com\n",
      "DEBUG:urllib3.connectionpool:https://commoncrawl.s3.amazonaws.com:443 \"GET /cc-index/collections/CC-MAIN-2019-47/indexes/cdx-00241.gz HTTP/1.1\" 200 932312679\n",
      "DEBUG:urllib3.connectionpool:Starting new HTTPS connection (1): commoncrawl.s3.amazonaws.com\n",
      "DEBUG:urllib3.connectionpool:https://commoncrawl.s3.amazonaws.com:443 \"GET /cc-index/collections/CC-MAIN-2019-47/indexes/cdx-00242.gz HTTP/1.1\" 200 849182443\n",
      "DEBUG:urllib3.connectionpool:Starting new HTTPS connection (1): commoncrawl.s3.amazonaws.com\n",
      "DEBUG:urllib3.connectionpool:https://commoncrawl.s3.amazonaws.com:443 \"GET /cc-index/collections/CC-MAIN-2019-47/indexes/cdx-00243.gz HTTP/1.1\" 200 633935467\n",
      "DEBUG:urllib3.connectionpool:Starting new HTTPS connection (1): commoncrawl.s3.amazonaws.com\n",
      "DEBUG:urllib3.connectionpool:https://commoncrawl.s3.amazonaws.com:443 \"GET /cc-index/collections/CC-MAIN-2019-47/indexes/cdx-00244.gz HTTP/1.1\" 200 717941785\n",
      "DEBUG:urllib3.connectionpool:Starting new HTTPS connection (1): commoncrawl.s3.amazonaws.com\n",
      "DEBUG:urllib3.connectionpool:https://commoncrawl.s3.amazonaws.com:443 \"GET /cc-index/collections/CC-MAIN-2019-47/indexes/cdx-00245.gz HTTP/1.1\" 200 701060123\n",
      "DEBUG:urllib3.connectionpool:Starting new HTTPS connection (1): commoncrawl.s3.amazonaws.com\n",
      "DEBUG:urllib3.connectionpool:https://commoncrawl.s3.amazonaws.com:443 \"GET /cc-index/collections/CC-MAIN-2019-47/indexes/cdx-00246.gz HTTP/1.1\" 200 519767941\n",
      "DEBUG:urllib3.connectionpool:Starting new HTTPS connection (1): commoncrawl.s3.amazonaws.com\n",
      "DEBUG:urllib3.connectionpool:https://commoncrawl.s3.amazonaws.com:443 \"GET /cc-index/collections/CC-MAIN-2019-47/indexes/cdx-00247.gz HTTP/1.1\" 200 599589094\n",
      "DEBUG:urllib3.connectionpool:Starting new HTTPS connection (1): commoncrawl.s3.amazonaws.com\n",
      "DEBUG:urllib3.connectionpool:https://commoncrawl.s3.amazonaws.com:443 \"GET /cc-index/collections/CC-MAIN-2019-47/indexes/cdx-00248.gz HTTP/1.1\" 200 668317402\n",
      "DEBUG:urllib3.connectionpool:Starting new HTTPS connection (1): commoncrawl.s3.amazonaws.com\n",
      "DEBUG:urllib3.connectionpool:https://commoncrawl.s3.amazonaws.com:443 \"GET /cc-index/collections/CC-MAIN-2019-47/indexes/cdx-00249.gz HTTP/1.1\" 200 530882762\n",
      "DEBUG:urllib3.connectionpool:Starting new HTTPS connection (1): commoncrawl.s3.amazonaws.com\n",
      "DEBUG:urllib3.connectionpool:https://commoncrawl.s3.amazonaws.com:443 \"GET /cc-index/collections/CC-MAIN-2019-47/indexes/cdx-00250.gz HTTP/1.1\" 200 656951277\n",
      "DEBUG:urllib3.connectionpool:Starting new HTTPS connection (1): commoncrawl.s3.amazonaws.com\n",
      "DEBUG:urllib3.connectionpool:https://commoncrawl.s3.amazonaws.com:443 \"GET /cc-index/collections/CC-MAIN-2019-47/indexes/cdx-00251.gz HTTP/1.1\" 200 807820481\n",
      "DEBUG:urllib3.connectionpool:Starting new HTTPS connection (1): commoncrawl.s3.amazonaws.com\n",
      "DEBUG:urllib3.connectionpool:https://commoncrawl.s3.amazonaws.com:443 \"GET /cc-index/collections/CC-MAIN-2019-47/indexes/cdx-00252.gz HTTP/1.1\" 200 612261661\n",
      "DEBUG:urllib3.connectionpool:Starting new HTTPS connection (1): commoncrawl.s3.amazonaws.com\n",
      "DEBUG:urllib3.connectionpool:https://commoncrawl.s3.amazonaws.com:443 \"GET /cc-index/collections/CC-MAIN-2019-47/indexes/cdx-00253.gz HTTP/1.1\" 200 576525633\n",
      "DEBUG:urllib3.connectionpool:Starting new HTTPS connection (1): commoncrawl.s3.amazonaws.com\n",
      "DEBUG:urllib3.connectionpool:https://commoncrawl.s3.amazonaws.com:443 \"GET /cc-index/collections/CC-MAIN-2019-47/indexes/cdx-00254.gz HTTP/1.1\" 200 810653367\n",
      "DEBUG:urllib3.connectionpool:Starting new HTTPS connection (1): commoncrawl.s3.amazonaws.com\n",
      "DEBUG:urllib3.connectionpool:https://commoncrawl.s3.amazonaws.com:443 \"GET /cc-index/collections/CC-MAIN-2019-47/indexes/cdx-00255.gz HTTP/1.1\" 200 663030028\n",
      "DEBUG:urllib3.connectionpool:Starting new HTTPS connection (1): commoncrawl.s3.amazonaws.com\n",
      "DEBUG:urllib3.connectionpool:https://commoncrawl.s3.amazonaws.com:443 \"GET /cc-index/collections/CC-MAIN-2019-47/indexes/cdx-00256.gz HTTP/1.1\" 200 649075198\n",
      "DEBUG:urllib3.connectionpool:Starting new HTTPS connection (1): commoncrawl.s3.amazonaws.com\n",
      "DEBUG:urllib3.connectionpool:https://commoncrawl.s3.amazonaws.com:443 \"GET /cc-index/collections/CC-MAIN-2019-47/indexes/cdx-00257.gz HTTP/1.1\" 200 838742983\n",
      "DEBUG:urllib3.connectionpool:Starting new HTTPS connection (1): commoncrawl.s3.amazonaws.com\n",
      "DEBUG:urllib3.connectionpool:https://commoncrawl.s3.amazonaws.com:443 \"GET /cc-index/collections/CC-MAIN-2019-47/indexes/cdx-00258.gz HTTP/1.1\" 200 658545953\n",
      "DEBUG:urllib3.connectionpool:Starting new HTTPS connection (1): commoncrawl.s3.amazonaws.com\n",
      "DEBUG:urllib3.connectionpool:https://commoncrawl.s3.amazonaws.com:443 \"GET /cc-index/collections/CC-MAIN-2019-47/indexes/cdx-00259.gz HTTP/1.1\" 200 821949745\n",
      "DEBUG:urllib3.connectionpool:Starting new HTTPS connection (1): commoncrawl.s3.amazonaws.com\n",
      "DEBUG:urllib3.connectionpool:https://commoncrawl.s3.amazonaws.com:443 \"GET /cc-index/collections/CC-MAIN-2019-47/indexes/cdx-00260.gz HTTP/1.1\" 200 656400069\n",
      "DEBUG:urllib3.connectionpool:Starting new HTTPS connection (1): commoncrawl.s3.amazonaws.com\n",
      "DEBUG:urllib3.connectionpool:https://commoncrawl.s3.amazonaws.com:443 \"GET /cc-index/collections/CC-MAIN-2019-47/indexes/cdx-00261.gz HTTP/1.1\" 200 1357676733\n",
      "DEBUG:urllib3.connectionpool:Starting new HTTPS connection (1): commoncrawl.s3.amazonaws.com\n",
      "DEBUG:urllib3.connectionpool:https://commoncrawl.s3.amazonaws.com:443 \"GET /cc-index/collections/CC-MAIN-2019-47/indexes/cdx-00262.gz HTTP/1.1\" 200 678511211\n",
      "DEBUG:urllib3.connectionpool:Starting new HTTPS connection (1): commoncrawl.s3.amazonaws.com\n",
      "DEBUG:urllib3.connectionpool:https://commoncrawl.s3.amazonaws.com:443 \"GET /cc-index/collections/CC-MAIN-2019-47/indexes/cdx-00263.gz HTTP/1.1\" 200 841927467\n",
      "DEBUG:urllib3.connectionpool:Starting new HTTPS connection (1): commoncrawl.s3.amazonaws.com\n",
      "DEBUG:urllib3.connectionpool:https://commoncrawl.s3.amazonaws.com:443 \"GET /cc-index/collections/CC-MAIN-2019-47/indexes/cdx-00264.gz HTTP/1.1\" 200 680996796\n"
     ]
    },
    {
     "name": "stderr",
     "output_type": "stream",
     "text": [
      "DEBUG:urllib3.connectionpool:Starting new HTTPS connection (1): commoncrawl.s3.amazonaws.com\n",
      "DEBUG:urllib3.connectionpool:https://commoncrawl.s3.amazonaws.com:443 \"GET /cc-index/collections/CC-MAIN-2019-47/indexes/cdx-00265.gz HTTP/1.1\" 200 910892454\n",
      "DEBUG:urllib3.connectionpool:Starting new HTTPS connection (1): commoncrawl.s3.amazonaws.com\n",
      "DEBUG:urllib3.connectionpool:https://commoncrawl.s3.amazonaws.com:443 \"GET /cc-index/collections/CC-MAIN-2019-47/indexes/cdx-00266.gz HTTP/1.1\" 200 827162046\n",
      "DEBUG:urllib3.connectionpool:Starting new HTTPS connection (1): commoncrawl.s3.amazonaws.com\n",
      "DEBUG:urllib3.connectionpool:https://commoncrawl.s3.amazonaws.com:443 \"GET /cc-index/collections/CC-MAIN-2019-47/indexes/cdx-00267.gz HTTP/1.1\" 200 729860381\n",
      "DEBUG:urllib3.connectionpool:Starting new HTTPS connection (1): commoncrawl.s3.amazonaws.com\n",
      "DEBUG:urllib3.connectionpool:https://commoncrawl.s3.amazonaws.com:443 \"GET /cc-index/collections/CC-MAIN-2019-47/indexes/cdx-00268.gz HTTP/1.1\" 200 1015289142\n",
      "DEBUG:urllib3.connectionpool:Starting new HTTPS connection (1): commoncrawl.s3.amazonaws.com\n",
      "DEBUG:urllib3.connectionpool:https://commoncrawl.s3.amazonaws.com:443 \"GET /cc-index/collections/CC-MAIN-2019-47/indexes/cdx-00269.gz HTTP/1.1\" 200 964128368\n",
      "DEBUG:urllib3.connectionpool:Starting new HTTPS connection (1): commoncrawl.s3.amazonaws.com\n",
      "DEBUG:urllib3.connectionpool:https://commoncrawl.s3.amazonaws.com:443 \"GET /cc-index/collections/CC-MAIN-2019-47/indexes/cdx-00270.gz HTTP/1.1\" 200 824352180\n",
      "DEBUG:urllib3.connectionpool:Starting new HTTPS connection (1): commoncrawl.s3.amazonaws.com\n",
      "DEBUG:urllib3.connectionpool:https://commoncrawl.s3.amazonaws.com:443 \"GET /cc-index/collections/CC-MAIN-2019-47/indexes/cdx-00271.gz HTTP/1.1\" 200 734386511\n",
      "DEBUG:urllib3.connectionpool:Starting new HTTPS connection (1): commoncrawl.s3.amazonaws.com\n",
      "DEBUG:urllib3.connectionpool:https://commoncrawl.s3.amazonaws.com:443 \"GET /cc-index/collections/CC-MAIN-2019-47/indexes/cdx-00272.gz HTTP/1.1\" 200 1020527476\n",
      "DEBUG:urllib3.connectionpool:Starting new HTTPS connection (1): commoncrawl.s3.amazonaws.com\n",
      "DEBUG:urllib3.connectionpool:https://commoncrawl.s3.amazonaws.com:443 \"GET /cc-index/collections/CC-MAIN-2019-47/indexes/cdx-00273.gz HTTP/1.1\" 200 907653652\n",
      "DEBUG:urllib3.connectionpool:Starting new HTTPS connection (1): commoncrawl.s3.amazonaws.com\n",
      "DEBUG:urllib3.connectionpool:https://commoncrawl.s3.amazonaws.com:443 \"GET /cc-index/collections/CC-MAIN-2019-47/indexes/cdx-00274.gz HTTP/1.1\" 200 873337833\n",
      "DEBUG:urllib3.connectionpool:Starting new HTTPS connection (1): commoncrawl.s3.amazonaws.com\n",
      "DEBUG:urllib3.connectionpool:https://commoncrawl.s3.amazonaws.com:443 \"GET /cc-index/collections/CC-MAIN-2019-47/indexes/cdx-00275.gz HTTP/1.1\" 200 708895639\n",
      "DEBUG:urllib3.connectionpool:Starting new HTTPS connection (1): commoncrawl.s3.amazonaws.com\n",
      "DEBUG:urllib3.connectionpool:https://commoncrawl.s3.amazonaws.com:443 \"GET /cc-index/collections/CC-MAIN-2019-47/indexes/cdx-00276.gz HTTP/1.1\" 200 967676138\n",
      "DEBUG:urllib3.connectionpool:Starting new HTTPS connection (1): commoncrawl.s3.amazonaws.com\n",
      "DEBUG:urllib3.connectionpool:https://commoncrawl.s3.amazonaws.com:443 \"GET /cc-index/collections/CC-MAIN-2019-47/indexes/cdx-00277.gz HTTP/1.1\" 200 859042823\n",
      "DEBUG:urllib3.connectionpool:Starting new HTTPS connection (1): commoncrawl.s3.amazonaws.com\n",
      "DEBUG:urllib3.connectionpool:https://commoncrawl.s3.amazonaws.com:443 \"GET /cc-index/collections/CC-MAIN-2019-47/indexes/cdx-00278.gz HTTP/1.1\" 200 760228024\n",
      "DEBUG:urllib3.connectionpool:Starting new HTTPS connection (1): commoncrawl.s3.amazonaws.com\n",
      "DEBUG:urllib3.connectionpool:https://commoncrawl.s3.amazonaws.com:443 \"GET /cc-index/collections/CC-MAIN-2019-47/indexes/cdx-00279.gz HTTP/1.1\" 200 654835453\n",
      "DEBUG:urllib3.connectionpool:Starting new HTTPS connection (1): commoncrawl.s3.amazonaws.com\n",
      "DEBUG:urllib3.connectionpool:https://commoncrawl.s3.amazonaws.com:443 \"GET /cc-index/collections/CC-MAIN-2019-47/indexes/cdx-00280.gz HTTP/1.1\" 200 667245547\n",
      "DEBUG:urllib3.connectionpool:Starting new HTTPS connection (1): commoncrawl.s3.amazonaws.com\n",
      "DEBUG:urllib3.connectionpool:https://commoncrawl.s3.amazonaws.com:443 \"GET /cc-index/collections/CC-MAIN-2019-47/indexes/cdx-00281.gz HTTP/1.1\" 200 734246451\n",
      "DEBUG:urllib3.connectionpool:Starting new HTTPS connection (1): commoncrawl.s3.amazonaws.com\n",
      "DEBUG:urllib3.connectionpool:https://commoncrawl.s3.amazonaws.com:443 \"GET /cc-index/collections/CC-MAIN-2019-47/indexes/cdx-00282.gz HTTP/1.1\" 200 807106922\n",
      "DEBUG:urllib3.connectionpool:Starting new HTTPS connection (1): commoncrawl.s3.amazonaws.com\n",
      "DEBUG:urllib3.connectionpool:https://commoncrawl.s3.amazonaws.com:443 \"GET /cc-index/collections/CC-MAIN-2019-47/indexes/cdx-00283.gz HTTP/1.1\" 200 901067368\n",
      "DEBUG:urllib3.connectionpool:Starting new HTTPS connection (1): commoncrawl.s3.amazonaws.com\n",
      "DEBUG:urllib3.connectionpool:https://commoncrawl.s3.amazonaws.com:443 \"GET /cc-index/collections/CC-MAIN-2019-47/indexes/cdx-00284.gz HTTP/1.1\" 200 702410792\n",
      "DEBUG:urllib3.connectionpool:Starting new HTTPS connection (1): commoncrawl.s3.amazonaws.com\n",
      "DEBUG:urllib3.connectionpool:https://commoncrawl.s3.amazonaws.com:443 \"GET /cc-index/collections/CC-MAIN-2019-47/indexes/cdx-00285.gz HTTP/1.1\" 200 725149979\n",
      "DEBUG:urllib3.connectionpool:Starting new HTTPS connection (1): commoncrawl.s3.amazonaws.com\n",
      "DEBUG:urllib3.connectionpool:https://commoncrawl.s3.amazonaws.com:443 \"GET /cc-index/collections/CC-MAIN-2019-47/indexes/cdx-00286.gz HTTP/1.1\" 200 732992203\n",
      "DEBUG:urllib3.connectionpool:Starting new HTTPS connection (1): commoncrawl.s3.amazonaws.com\n",
      "DEBUG:urllib3.connectionpool:https://commoncrawl.s3.amazonaws.com:443 \"GET /cc-index/collections/CC-MAIN-2019-47/indexes/cdx-00287.gz HTTP/1.1\" 200 631596072\n",
      "DEBUG:urllib3.connectionpool:Starting new HTTPS connection (1): commoncrawl.s3.amazonaws.com\n",
      "DEBUG:urllib3.connectionpool:https://commoncrawl.s3.amazonaws.com:443 \"GET /cc-index/collections/CC-MAIN-2019-47/indexes/cdx-00288.gz HTTP/1.1\" 200 744426558\n",
      "DEBUG:urllib3.connectionpool:Starting new HTTPS connection (1): commoncrawl.s3.amazonaws.com\n",
      "DEBUG:urllib3.connectionpool:https://commoncrawl.s3.amazonaws.com:443 \"GET /cc-index/collections/CC-MAIN-2019-47/indexes/cdx-00289.gz HTTP/1.1\" 200 974749668\n",
      "DEBUG:urllib3.connectionpool:Starting new HTTPS connection (1): commoncrawl.s3.amazonaws.com\n",
      "DEBUG:urllib3.connectionpool:https://commoncrawl.s3.amazonaws.com:443 \"GET /cc-index/collections/CC-MAIN-2019-47/indexes/cdx-00290.gz HTTP/1.1\" 200 677213223\n",
      "DEBUG:urllib3.connectionpool:Starting new HTTPS connection (1): commoncrawl.s3.amazonaws.com\n",
      "DEBUG:urllib3.connectionpool:https://commoncrawl.s3.amazonaws.com:443 \"GET /cc-index/collections/CC-MAIN-2019-47/indexes/cdx-00291.gz HTTP/1.1\" 200 817054956\n",
      "DEBUG:urllib3.connectionpool:Starting new HTTPS connection (1): commoncrawl.s3.amazonaws.com\n",
      "DEBUG:urllib3.connectionpool:https://commoncrawl.s3.amazonaws.com:443 \"GET /cc-index/collections/CC-MAIN-2019-47/indexes/cdx-00292.gz HTTP/1.1\" 200 919549457\n",
      "DEBUG:urllib3.connectionpool:Starting new HTTPS connection (1): commoncrawl.s3.amazonaws.com\n",
      "DEBUG:urllib3.connectionpool:https://commoncrawl.s3.amazonaws.com:443 \"GET /cc-index/collections/CC-MAIN-2019-47/indexes/cdx-00293.gz HTTP/1.1\" 200 855793950\n",
      "DEBUG:urllib3.connectionpool:Starting new HTTPS connection (1): commoncrawl.s3.amazonaws.com\n",
      "DEBUG:urllib3.connectionpool:https://commoncrawl.s3.amazonaws.com:443 \"GET /cc-index/collections/CC-MAIN-2019-47/indexes/cdx-00294.gz HTTP/1.1\" 200 806400796\n",
      "DEBUG:urllib3.connectionpool:Starting new HTTPS connection (1): commoncrawl.s3.amazonaws.com\n",
      "DEBUG:urllib3.connectionpool:https://commoncrawl.s3.amazonaws.com:443 \"GET /cc-index/collections/CC-MAIN-2019-47/indexes/cdx-00295.gz HTTP/1.1\" 200 710495034\n",
      "DEBUG:urllib3.connectionpool:Starting new HTTPS connection (1): commoncrawl.s3.amazonaws.com\n",
      "DEBUG:urllib3.connectionpool:https://commoncrawl.s3.amazonaws.com:443 \"GET /cc-index/collections/CC-MAIN-2019-47/indexes/cdx-00296.gz HTTP/1.1\" 200 635139479\n",
      "DEBUG:urllib3.connectionpool:Starting new HTTPS connection (1): commoncrawl.s3.amazonaws.com\n",
      "DEBUG:urllib3.connectionpool:https://commoncrawl.s3.amazonaws.com:443 \"GET /cc-index/collections/CC-MAIN-2019-47/indexes/cdx-00297.gz HTTP/1.1\" 200 780426464\n"
     ]
    },
    {
     "name": "stderr",
     "output_type": "stream",
     "text": [
      "DEBUG:urllib3.connectionpool:Starting new HTTPS connection (1): commoncrawl.s3.amazonaws.com\n",
      "DEBUG:urllib3.connectionpool:https://commoncrawl.s3.amazonaws.com:443 \"GET /cc-index/collections/CC-MAIN-2019-47/indexes/cdx-00298.gz HTTP/1.1\" 200 1021300971\n",
      "DEBUG:urllib3.connectionpool:Starting new HTTPS connection (1): commoncrawl.s3.amazonaws.com\n",
      "DEBUG:urllib3.connectionpool:https://commoncrawl.s3.amazonaws.com:443 \"GET /cc-index/collections/CC-MAIN-2019-47/indexes/cdx-00299.gz HTTP/1.1\" 200 662973409\n"
     ]
    },
    {
     "name": "stdout",
     "output_type": "stream",
     "text": [
      "All downloads complete!\n",
      "Elapsed time: 5 minutes\n",
      " \n"
     ]
    }
   ],
   "source": [
    "%run get_benign_urls download 1500"
   ]
  },
  {
   "cell_type": "code",
   "execution_count": 35,
   "metadata": {},
   "outputs": [
    {
     "name": "stdout",
     "output_type": "stream",
     "text": [
      "\r",
      "Parsing file 1 out of 301"
     ]
    },
    {
     "name": "stderr",
     "output_type": "stream",
     "text": [
      "INFO:root:Error parsing line  in file ../../data/raw/index-files/cdx-00111\n",
      "INFO:root:Error parsing line  in file ../../data/raw/index-files/cdx-00129\n",
      "INFO:root:Error parsing line  in file ../../data/raw/index-files/cdx-00116\n",
      "INFO:root:Error parsing line  in file ../../data/raw/index-files/cdx-00120\n",
      "INFO:root:Error parsing line  in file ../../data/raw/index-files/cdx-00118\n",
      "INFO:root:Error parsing line  in file ../../data/raw/index-files/cdx-00127\n",
      "INFO:root:Error parsing line  in file ../../data/raw/index-files/cdx-00187\n",
      "INFO:root:Error parsing line  in file ../../data/raw/index-files/cdx-00173\n",
      "INFO:root:Error parsing line  in file ../../data/raw/index-files/cdx-00174\n"
     ]
    },
    {
     "name": "stdout",
     "output_type": "stream",
     "text": [
      "\r",
      "Parsing file 10 out of 301"
     ]
    },
    {
     "name": "stderr",
     "output_type": "stream",
     "text": [
      "INFO:root:Error parsing line  in file ../../data/raw/index-files/cdx-00180\n",
      "INFO:root:Error parsing line  in file ../../data/raw/index-files/cdx-00142\n",
      "INFO:root:Error parsing line  in file ../../data/raw/index-files/cdx-00189\n",
      "INFO:root:Error parsing line  in file ../../data/raw/index-files/cdx-00145\n",
      "INFO:root:Error parsing line  in file ../../data/raw/index-files/cdx-00119\n",
      "INFO:root:Error parsing line  in file ../../data/raw/index-files/cdx-00126\n",
      "INFO:root:Error parsing line  in file ../../data/raw/index-files/cdx-00121\n",
      "INFO:root:Error parsing line  in file ../../data/raw/index-files/cdx-00128\n",
      "INFO:root:Error parsing line  in file ../../data/raw/index-files/cdx-00117\n",
      "INFO:root:Error parsing line  in file ../../data/raw/index-files/cdx-00110\n"
     ]
    },
    {
     "name": "stdout",
     "output_type": "stream",
     "text": [
      "\r",
      "Parsing file 20 out of 301"
     ]
    },
    {
     "name": "stderr",
     "output_type": "stream",
     "text": [
      "INFO:root:Error parsing line  in file ../../data/raw/index-files/cdx-00144\n",
      "INFO:root:Error parsing line  in file ../../data/raw/index-files/cdx-00143\n",
      "INFO:root:Error parsing line  in file ../../data/raw/index-files/cdx-00188\n",
      "INFO:root:Error parsing line  in file ../../data/raw/index-files/cdx-00181\n",
      "INFO:root:Error parsing line  in file ../../data/raw/index-files/cdx-00175\n",
      "INFO:root:Error parsing line  in file ../../data/raw/index-files/cdx-00172\n",
      "INFO:root:Error parsing line  in file ../../data/raw/index-files/cdx-00186\n",
      "INFO:root:Error parsing line  in file ../../data/raw/index-files/cdx-00232\n",
      "INFO:root:Error parsing line  in file ../../data/raw/index-files/cdx-00000\n",
      "INFO:root:Error parsing line  in file ../../data/raw/index-files/cdx-00038\n"
     ]
    },
    {
     "name": "stdout",
     "output_type": "stream",
     "text": [
      "\r",
      "Parsing file 30 out of 301"
     ]
    },
    {
     "name": "stderr",
     "output_type": "stream",
     "text": [
      "INFO:root:Error parsing line  in file ../../data/raw/index-files/cdx-00007\n",
      "INFO:root:Error parsing line  in file ../../data/raw/index-files/cdx-00235\n",
      "INFO:root:Error parsing line  in file ../../data/raw/index-files/cdx-00031\n",
      "INFO:root:Error parsing line  in file ../../data/raw/index-files/cdx-00203\n",
      "INFO:root:Error parsing line  in file ../../data/raw/index-files/cdx-00009\n",
      "INFO:root:Error parsing line  in file ../../data/raw/index-files/cdx-00204\n",
      "INFO:root:Error parsing line  in file ../../data/raw/index-files/cdx-00036\n",
      "INFO:root:Error parsing line  in file ../../data/raw/index-files/cdx-00096\n",
      "INFO:root:Error parsing line  in file ../../data/raw/index-files/cdx-00062\n",
      "INFO:root:Error parsing line  in file ../../data/raw/index-files/cdx-00250\n"
     ]
    },
    {
     "name": "stdout",
     "output_type": "stream",
     "text": [
      "\r",
      "Parsing file 40 out of 301"
     ]
    },
    {
     "name": "stderr",
     "output_type": "stream",
     "text": [
      "INFO:root:Error parsing line  in file ../../data/raw/index-files/cdx-00257\n",
      "INFO:root:Error parsing line  in file ../../data/raw/index-files/cdx-00065\n",
      "INFO:root:Error parsing line  in file ../../data/raw/index-files/cdx-00091\n",
      "INFO:root:Error parsing line  in file ../../data/raw/index-files/cdx-00268\n",
      "INFO:root:Error parsing line  in file ../../data/raw/index-files/cdx-00261\n",
      "INFO:root:Error parsing line  in file ../../data/raw/index-files/cdx-00053\n",
      "INFO:root:Error parsing line  in file ../../data/raw/index-files/cdx-00295\n",
      "INFO:root:Error parsing line  in file ../../data/raw/index-files/cdx-00098\n",
      "INFO:root:Error parsing line  in file ../../data/raw/index-files/cdx-00292\n",
      "INFO:root:Error parsing line  in file ../../data/raw/index-files/cdx-00054\n"
     ]
    },
    {
     "name": "stdout",
     "output_type": "stream",
     "text": [
      "\r",
      "Parsing file 50 out of 301"
     ]
    },
    {
     "name": "stderr",
     "output_type": "stream",
     "text": [
      "INFO:root:Error parsing line  in file ../../data/raw/index-files/cdx-00266\n",
      "INFO:root:Error parsing line  in file ../../data/raw/index-files/cdx-00259\n",
      "INFO:root:Error parsing line  in file ../../data/raw/index-files/cdx-00008\n",
      "INFO:root:Error parsing line  in file ../../data/raw/index-files/cdx-00037\n",
      "INFO:root:Error parsing line  in file ../../data/raw/index-files/cdx-00205\n",
      "INFO:root:Error parsing line  in file ../../data/raw/index-files/cdx-00202\n",
      "INFO:root:Error parsing line  in file ../../data/raw/index-files/cdx-00030\n",
      "INFO:root:Error parsing line  in file ../../data/raw/index-files/cdx-00039\n",
      "INFO:root:Error parsing line  in file ../../data/raw/index-files/cdx-00234\n",
      "INFO:root:Error parsing line  in file ../../data/raw/index-files/cdx-00006\n"
     ]
    },
    {
     "name": "stdout",
     "output_type": "stream",
     "text": [
      "\r",
      "Parsing file 60 out of 301"
     ]
    },
    {
     "name": "stderr",
     "output_type": "stream",
     "text": [
      "INFO:root:Error parsing line  in file ../../data/raw/index-files/cdx-00001\n",
      "INFO:root:Error parsing line  in file ../../data/raw/index-files/cdx-00233\n",
      "INFO:root:Error parsing line  in file ../../data/raw/index-files/cdx-00267\n",
      "INFO:root:Error parsing line  in file ../../data/raw/index-files/cdx-00055\n",
      "INFO:root:Error parsing line  in file ../../data/raw/index-files/cdx-00293\n",
      "INFO:root:Error parsing line  in file ../../data/raw/index-files/cdx-00258\n",
      "INFO:root:Error parsing line  in file ../../data/raw/index-files/cdx-00294\n",
      "INFO:root:Error parsing line  in file ../../data/raw/index-files/cdx-00052\n",
      "INFO:root:Error parsing line  in file ../../data/raw/index-files/cdx-00260\n",
      "INFO:root:Error parsing line  in file ../../data/raw/index-files/cdx-00099\n"
     ]
    },
    {
     "name": "stdout",
     "output_type": "stream",
     "text": [
      "\r",
      "Parsing file 70 out of 301"
     ]
    },
    {
     "name": "stderr",
     "output_type": "stream",
     "text": [
      "INFO:root:Error parsing line  in file ../../data/raw/index-files/cdx-00090\n",
      "INFO:root:Error parsing line  in file ../../data/raw/index-files/cdx-00064\n",
      "INFO:root:Error parsing line  in file ../../data/raw/index-files/cdx-00256\n",
      "INFO:root:Error parsing line  in file ../../data/raw/index-files/cdx-00269\n",
      "INFO:root:Error parsing line  in file ../../data/raw/index-files/cdx-00251\n",
      "INFO:root:Error parsing line  in file ../../data/raw/index-files/cdx-00063\n",
      "INFO:root:Error parsing line  in file ../../data/raw/index-files/cdx-00097\n",
      "INFO:root:Error parsing line  in file ../../data/raw/index-files/cdx-00041\n",
      "INFO:root:Error parsing line  in file ../../data/raw/index-files/cdx-00273\n",
      "INFO:root:Error parsing line  in file ../../data/raw/index-files/cdx-00287\n"
     ]
    },
    {
     "name": "stdout",
     "output_type": "stream",
     "text": [
      "\r",
      "Parsing file 80 out of 301"
     ]
    },
    {
     "name": "stderr",
     "output_type": "stream",
     "text": [
      "INFO:root:Error parsing line  in file ../../data/raw/index-files/cdx-00079\n",
      "INFO:root:Error parsing line  in file ../../data/raw/index-files/cdx-00280\n",
      "INFO:root:Error parsing line  in file ../../data/raw/index-files/cdx-00274\n",
      "INFO:root:Error parsing line  in file ../../data/raw/index-files/cdx-00046\n",
      "INFO:root:Error parsing line  in file ../../data/raw/index-files/cdx-00289\n",
      "INFO:root:Error parsing line  in file ../../data/raw/index-files/cdx-00084\n",
      "INFO:root:Error parsing line  in file ../../data/raw/index-files/cdx-00242\n",
      "INFO:root:Error parsing line  in file ../../data/raw/index-files/cdx-00070\n",
      "INFO:root:Error parsing line  in file ../../data/raw/index-files/cdx-00048\n",
      "INFO:root:Error parsing line  in file ../../data/raw/index-files/cdx-00077\n"
     ]
    },
    {
     "name": "stdout",
     "output_type": "stream",
     "text": [
      "\r",
      "Parsing file 90 out of 301"
     ]
    },
    {
     "name": "stderr",
     "output_type": "stream",
     "text": [
      "INFO:root:Error parsing line  in file ../../data/raw/index-files/cdx-00245\n",
      "INFO:root:Error parsing line  in file ../../data/raw/index-files/cdx-00083\n",
      "INFO:root:Error parsing line  in file ../../data/raw/index-files/cdx-00211\n",
      "INFO:root:Error parsing line  in file ../../data/raw/index-files/cdx-00023\n",
      "INFO:root:Error parsing line  in file ../../data/raw/index-files/cdx-00024\n",
      "INFO:root:Error parsing line  in file ../../data/raw/index-files/cdx-00216\n",
      "INFO:root:Error parsing line  in file ../../data/raw/index-files/cdx-00229\n",
      "INFO:root:Error parsing line  in file ../../data/raw/index-files/cdx-00012\n",
      "INFO:root:Error parsing line  in file ../../data/raw/index-files/cdx-00220\n",
      "INFO:root:Error parsing line  in file ../../data/raw/index-files/cdx-00227\n"
     ]
    },
    {
     "name": "stdout",
     "output_type": "stream",
     "text": [
      "\r",
      "Parsing file 100 out of 301"
     ]
    },
    {
     "name": "stderr",
     "output_type": "stream",
     "text": [
      "INFO:root:Error parsing line  in file ../../data/raw/index-files/cdx-00015\n",
      "INFO:root:Error parsing line  in file ../../data/raw/index-files/cdx-00218\n",
      "INFO:root:Error parsing line  in file ../../data/raw/index-files/cdx-00049\n",
      "INFO:root:Error parsing line  in file ../../data/raw/index-files/cdx-00082\n",
      "INFO:root:Error parsing line  in file ../../data/raw/index-files/cdx-00244\n",
      "INFO:root:Error parsing line  in file ../../data/raw/index-files/cdx-00076\n",
      "INFO:root:Error parsing line  in file ../../data/raw/index-files/cdx-00288\n",
      "INFO:root:Error parsing line  in file ../../data/raw/index-files/cdx-00071\n",
      "INFO:root:Error parsing line  in file ../../data/raw/index-files/cdx-00243\n",
      "INFO:root:Error parsing line  in file ../../data/raw/index-files/cdx-00085\n"
     ]
    },
    {
     "name": "stdout",
     "output_type": "stream",
     "text": [
      "\r",
      "Parsing file 110 out of 301"
     ]
    },
    {
     "name": "stderr",
     "output_type": "stream",
     "text": [
      "INFO:root:Error parsing line  in file ../../data/raw/index-files/cdx-00078\n",
      "INFO:root:Error parsing line  in file ../../data/raw/index-files/cdx-00047\n",
      "INFO:root:Error parsing line  in file ../../data/raw/index-files/cdx-00275\n",
      "INFO:root:Error parsing line  in file ../../data/raw/index-files/cdx-00281\n",
      "INFO:root:Error parsing line  in file ../../data/raw/index-files/cdx-00286\n",
      "INFO:root:Error parsing line  in file ../../data/raw/index-files/cdx-00272\n",
      "INFO:root:Error parsing line  in file ../../data/raw/index-files/cdx-00040\n",
      "INFO:root:Error parsing line  in file ../../data/raw/index-files/cdx-00014\n",
      "INFO:root:Error parsing line  in file ../../data/raw/index-files/cdx-00226\n",
      "INFO:root:Error parsing line  in file ../../data/raw/index-files/cdx-00219\n"
     ]
    },
    {
     "name": "stdout",
     "output_type": "stream",
     "text": [
      "\r",
      "Parsing file 120 out of 301"
     ]
    },
    {
     "name": "stderr",
     "output_type": "stream",
     "text": [
      "INFO:root:Error parsing line  in file ../../data/raw/index-files/cdx-00221\n",
      "INFO:root:Error parsing line  in file ../../data/raw/index-files/cdx-00013\n",
      "INFO:root:Error parsing line  in file ../../data/raw/index-files/cdx-00217\n",
      "INFO:root:Error parsing line  in file ../../data/raw/index-files/cdx-00025\n",
      "INFO:root:Error parsing line  in file ../../data/raw/index-files/cdx-00228\n",
      "INFO:root:Error parsing line  in file ../../data/raw/index-files/cdx-00022\n",
      "INFO:root:Error parsing line  in file ../../data/raw/index-files/cdx-00210\n",
      "INFO:root:Error parsing line  in file ../../data/raw/index-files/cdx-00150\n",
      "INFO:root:Error parsing line  in file ../../data/raw/index-files/cdx-00168\n",
      "INFO:root:Error parsing line  in file ../../data/raw/index-files/cdx-00157\n"
     ]
    },
    {
     "name": "stdout",
     "output_type": "stream",
     "text": [
      "\r",
      "Parsing file 130 out of 301"
     ]
    },
    {
     "name": "stderr",
     "output_type": "stream",
     "text": [
      "INFO:root:Error parsing line  in file ../../data/raw/index-files/cdx-00195\n",
      "INFO:root:Error parsing line  in file ../../data/raw/index-files/cdx-00161\n",
      "INFO:root:Error parsing line  in file ../../data/raw/index-files/cdx-00159\n",
      "INFO:root:Error parsing line  in file ../../data/raw/index-files/cdx-00166\n",
      "INFO:root:Error parsing line  in file ../../data/raw/index-files/cdx-00192\n",
      "INFO:root:Error parsing line  in file ../../data/raw/index-files/cdx-00132\n",
      "INFO:root:Error parsing line  in file ../../data/raw/index-files/cdx-00135\n",
      "INFO:root:Error parsing line  in file ../../data/raw/index-files/cdx-00103\n",
      "INFO:root:Error parsing line  in file ../../data/raw/index-files/cdx-00104\n",
      "INFO:root:Error parsing line  in file ../../data/raw/index-files/cdx-00158\n"
     ]
    },
    {
     "name": "stdout",
     "output_type": "stream",
     "text": [
      "\r",
      "Parsing file 140 out of 301"
     ]
    },
    {
     "name": "stderr",
     "output_type": "stream",
     "text": [
      "INFO:root:Error parsing line  in file ../../data/raw/index-files/cdx-00193\n",
      "INFO:root:Error parsing line  in file ../../data/raw/index-files/cdx-00167\n",
      "INFO:root:Error parsing line  in file ../../data/raw/index-files/cdx-00160\n",
      "INFO:root:Error parsing line  in file ../../data/raw/index-files/cdx-00194\n",
      "INFO:root:Error parsing line  in file ../../data/raw/index-files/cdx-00169\n",
      "INFO:root:Error parsing line  in file ../../data/raw/index-files/cdx-00156\n",
      "INFO:root:Error parsing line  in file ../../data/raw/index-files/cdx-00151\n",
      "INFO:root:Error parsing line  in file ../../data/raw/index-files/cdx-00105\n",
      "INFO:root:Error parsing line  in file ../../data/raw/index-files/cdx-00102\n",
      "INFO:root:Error parsing line  in file ../../data/raw/index-files/cdx-00134\n"
     ]
    },
    {
     "name": "stdout",
     "output_type": "stream",
     "text": [
      "\r",
      "Parsing file 150 out of 301"
     ]
    },
    {
     "name": "stderr",
     "output_type": "stream",
     "text": [
      "INFO:root:Error parsing line  in file ../../data/raw/index-files/cdx-00133\n",
      "INFO:root:Error parsing line  in file ../../data/raw/index-files/cdx-00177\n",
      "INFO:root:Error parsing line  in file ../../data/raw/index-files/cdx-00183\n",
      "INFO:root:Error parsing line  in file ../../data/raw/index-files/cdx-00148\n",
      "INFO:root:Error parsing line  in file ../../data/raw/index-files/cdx-00184\n",
      "INFO:root:Error parsing line  in file ../../data/raw/index-files/cdx-00170\n",
      "INFO:root:Error parsing line  in file ../../data/raw/index-files/cdx-00146\n",
      "INFO:root:Error parsing line  in file ../../data/raw/index-files/cdx-00179\n",
      "INFO:root:Error parsing line  in file ../../data/raw/index-files/cdx-00141\n",
      "INFO:root:Error parsing line  in file ../../data/raw/index-files/cdx-00115\n"
     ]
    },
    {
     "name": "stdout",
     "output_type": "stream",
     "text": [
      "\r",
      "Parsing file 160 out of 301"
     ]
    },
    {
     "name": "stderr",
     "output_type": "stream",
     "text": [
      "INFO:root:Error parsing line  in file ../../data/raw/index-files/cdx-00112\n",
      "INFO:root:Error parsing line  in file ../../data/raw/index-files/cdx-00124\n",
      "INFO:root:Error parsing line  in file ../../data/raw/index-files/cdx-00123\n",
      "INFO:root:Error parsing line  in file ../../data/raw/index-files/cdx-00140\n",
      "INFO:root:Error parsing line  in file ../../data/raw/index-files/cdx-00147\n",
      "INFO:root:Error parsing line  in file ../../data/raw/index-files/cdx-00178\n",
      "INFO:root:Error parsing line  in file ../../data/raw/index-files/cdx-00171\n",
      "INFO:root:Error parsing line  in file ../../data/raw/index-files/cdx-00185\n",
      "INFO:root:Error parsing line  in file ../../data/raw/index-files/cdx-00182\n",
      "INFO:root:Error parsing line  in file ../../data/raw/index-files/cdx-00176\n"
     ]
    },
    {
     "name": "stdout",
     "output_type": "stream",
     "text": [
      "\r",
      "Parsing file 170 out of 301"
     ]
    },
    {
     "name": "stderr",
     "output_type": "stream",
     "text": [
      "INFO:root:Error parsing line  in file ../../data/raw/index-files/cdx-00149\n",
      "INFO:root:Error parsing line  in file ../../data/raw/index-files/cdx-00122\n",
      "INFO:root:Error parsing line  in file ../../data/raw/index-files/cdx-00125\n",
      "INFO:root:Error parsing line  in file ../../data/raw/index-files/cdx-00113\n",
      "INFO:root:Error parsing line  in file ../../data/raw/index-files/cdx-00114\n",
      "INFO:root:Error parsing line  in file ../../data/raw/index-files/cdx-00066\n",
      "INFO:root:Error parsing line  in file ../../data/raw/index-files/cdx-00254\n",
      "INFO:root:Error parsing line  in file ../../data/raw/index-files/cdx-00092\n",
      "INFO:root:Error parsing line  in file ../../data/raw/index-files/cdx-00059\n",
      "INFO:root:Error parsing line  in file ../../data/raw/index-files/cdx-00095\n"
     ]
    },
    {
     "name": "stdout",
     "output_type": "stream",
     "text": [
      "\r",
      "Parsing file 180 out of 301"
     ]
    },
    {
     "name": "stderr",
     "output_type": "stream",
     "text": [
      "INFO:root:Error parsing line  in file ../../data/raw/index-files/cdx-00253\n",
      "INFO:root:Error parsing line  in file ../../data/raw/index-files/cdx-00061\n",
      "INFO:root:Error parsing line  in file ../../data/raw/index-files/cdx-00298\n",
      "INFO:root:Error parsing line  in file ../../data/raw/index-files/cdx-00291\n",
      "INFO:root:Error parsing line  in file ../../data/raw/index-files/cdx-00265\n",
      "INFO:root:Error parsing line  in file ../../data/raw/index-files/cdx-00057\n",
      "INFO:root:Error parsing line  in file ../../data/raw/index-files/cdx-00068\n",
      "INFO:root:Error parsing line  in file ../../data/raw/index-files/cdx-00050\n",
      "INFO:root:Error parsing line  in file ../../data/raw/index-files/cdx-00262\n",
      "INFO:root:Error parsing line  in file ../../data/raw/index-files/cdx-00296\n"
     ]
    },
    {
     "name": "stdout",
     "output_type": "stream",
     "text": [
      "\r",
      "Parsing file 190 out of 301"
     ]
    },
    {
     "name": "stderr",
     "output_type": "stream",
     "text": [
      "INFO:root:Error parsing line  in file ../../data/raw/index-files/cdx-00209\n",
      "INFO:root:Error parsing line  in file ../../data/raw/index-files/cdx-00236\n",
      "INFO:root:Error parsing line  in file ../../data/raw/index-files/cdx-00004\n",
      "INFO:root:Error parsing line  in file ../../data/raw/index-files/cdx-00003\n",
      "INFO:root:Error parsing line  in file ../../data/raw/index-files/cdx-00231\n",
      "INFO:root:Error parsing line  in file ../../data/raw/index-files/cdx-00238\n",
      "INFO:root:Error parsing line  in file ../../data/raw/index-files/cdx-00035\n",
      "INFO:root:Error parsing line  in file ../../data/raw/index-files/cdx-00207\n",
      "INFO:root:Error parsing line  in file ../../data/raw/index-files/cdx-00200\n",
      "INFO:root:Error parsing line  in file ../../data/raw/index-files/cdx-00032\n"
     ]
    },
    {
     "name": "stdout",
     "output_type": "stream",
     "text": [
      "\r",
      "Parsing file 200 out of 301"
     ]
    },
    {
     "name": "stderr",
     "output_type": "stream",
     "text": [
      "INFO:root:Error parsing line  in file ../../data/raw/index-files/cdx-00297\n",
      "INFO:root:Error parsing line  in file ../../data/raw/index-files/cdx-00263\n",
      "INFO:root:Error parsing line  in file ../../data/raw/index-files/cdx-00051\n",
      "INFO:root:Error parsing line  in file ../../data/raw/index-files/cdx-00056\n",
      "INFO:root:Error parsing line  in file ../../data/raw/index-files/cdx-00264\n",
      "INFO:root:Error parsing line  in file ../../data/raw/index-files/cdx-00290\n",
      "INFO:root:Error parsing line  in file ../../data/raw/index-files/cdx-00069\n",
      "INFO:root:Error parsing line  in file ../../data/raw/index-files/cdx-00060\n",
      "INFO:root:Error parsing line  in file ../../data/raw/index-files/cdx-00252\n",
      "INFO:root:Error parsing line  in file ../../data/raw/index-files/cdx-00094\n"
     ]
    },
    {
     "name": "stdout",
     "output_type": "stream",
     "text": [
      "\r",
      "Parsing file 210 out of 301"
     ]
    },
    {
     "name": "stderr",
     "output_type": "stream",
     "text": [
      "INFO:root:Error parsing line  in file ../../data/raw/index-files/cdx-00299\n",
      "INFO:root:Error parsing line  in file ../../data/raw/index-files/cdx-00093\n",
      "INFO:root:Error parsing line  in file ../../data/raw/index-files/cdx-00255\n",
      "INFO:root:Error parsing line  in file ../../data/raw/index-files/cdx-00067\n",
      "INFO:root:Error parsing line  in file ../../data/raw/index-files/cdx-00058\n",
      "INFO:root:Error parsing line  in file ../../data/raw/index-files/cdx-00033\n",
      "INFO:root:Error parsing line  in file ../../data/raw/index-files/cdx-00201\n",
      "INFO:root:Error parsing line  in file ../../data/raw/index-files/cdx-00239\n",
      "INFO:root:Error parsing line  in file ../../data/raw/index-files/cdx-00206\n",
      "INFO:root:Error parsing line  in file ../../data/raw/index-files/cdx-00034\n"
     ]
    },
    {
     "name": "stdout",
     "output_type": "stream",
     "text": [
      "\r",
      "Parsing file 220 out of 301"
     ]
    },
    {
     "name": "stderr",
     "output_type": "stream",
     "text": [
      "INFO:root:Error parsing line  in file ../../data/raw/index-files/cdx-00230\n",
      "INFO:root:Error parsing line  in file ../../data/raw/index-files/cdx-00002\n",
      "INFO:root:Error parsing line  in file ../../data/raw/index-files/cdx-00208\n",
      "INFO:root:Error parsing line  in file ../../data/raw/index-files/cdx-00005\n",
      "INFO:root:Error parsing line  in file ../../data/raw/index-files/cdx-00237\n",
      "INFO:root:Error parsing line  in file ../../data/raw/index-files/cdx-00215\n",
      "INFO:root:Error parsing line  in file ../../data/raw/index-files/cdx-00027\n",
      "INFO:root:Error parsing line  in file ../../data/raw/index-files/cdx-00018\n",
      "INFO:root:Error parsing line  in file ../../data/raw/index-files/cdx-00020\n",
      "INFO:root:Error parsing line  in file ../../data/raw/index-files/cdx-00212\n"
     ]
    },
    {
     "name": "stdout",
     "output_type": "stream",
     "text": [
      "\r",
      "Parsing file 230 out of 301"
     ]
    },
    {
     "name": "stderr",
     "output_type": "stream",
     "text": [
      "INFO:root:Error parsing line  in file ../../data/raw/index-files/cdx-00016\n",
      "INFO:root:Error parsing line  in file ../../data/raw/index-files/cdx-00224\n",
      "INFO:root:Error parsing line  in file ../../data/raw/index-files/cdx-00029\n",
      "INFO:root:Error parsing line  in file ../../data/raw/index-files/cdx-00223\n",
      "INFO:root:Error parsing line  in file ../../data/raw/index-files/cdx-00011\n",
      "INFO:root:Error parsing line  in file ../../data/raw/index-files/cdx-00248\n",
      "INFO:root:Error parsing line  in file ../../data/raw/index-files/cdx-00283\n",
      "INFO:root:Error parsing line  in file ../../data/raw/index-files/cdx-00045\n",
      "INFO:root:Error parsing line  in file ../../data/raw/index-files/cdx-00277\n",
      "INFO:root:Error parsing line  in file ../../data/raw/index-files/cdx-00089\n"
     ]
    },
    {
     "name": "stdout",
     "output_type": "stream",
     "text": [
      "\r",
      "Parsing file 240 out of 301"
     ]
    },
    {
     "name": "stderr",
     "output_type": "stream",
     "text": [
      "INFO:root:Error parsing line  in file ../../data/raw/index-files/cdx-00270\n",
      "INFO:root:Error parsing line  in file ../../data/raw/index-files/cdx-00042\n",
      "INFO:root:Error parsing line  in file ../../data/raw/index-files/cdx-00284\n",
      "INFO:root:Error parsing line  in file ../../data/raw/index-files/cdx-00279\n",
      "INFO:root:Error parsing line  in file ../../data/raw/index-files/cdx-00246\n",
      "INFO:root:Error parsing line  in file ../../data/raw/index-files/cdx-00074\n",
      "INFO:root:Error parsing line  in file ../../data/raw/index-files/cdx-00080\n",
      "INFO:root:Error parsing line  in file ../../data/raw/index-files/cdx-00087\n",
      "INFO:root:Error parsing line  in file ../../data/raw/index-files/cdx-00073\n",
      "INFO:root:Error parsing line  in file ../../data/raw/index-files/cdx-00241\n"
     ]
    },
    {
     "name": "stdout",
     "output_type": "stream",
     "text": [
      "\r",
      "Parsing file 250 out of 301"
     ]
    },
    {
     "name": "stderr",
     "output_type": "stream",
     "text": [
      "INFO:root:Error parsing line  in file ../../data/raw/index-files/cdx-00010\n",
      "INFO:root:Error parsing line  in file ../../data/raw/index-files/cdx-00222\n",
      "INFO:root:Error parsing line  in file ../../data/raw/index-files/cdx-00225\n",
      "INFO:root:Error parsing line  in file ../../data/raw/index-files/cdx-00017\n",
      "INFO:root:Error parsing line  in file ../../data/raw/index-files/cdx-00028\n",
      "INFO:root:Error parsing line  in file ../../data/raw/index-files/cdx-00213\n",
      "INFO:root:Error parsing line  in file ../../data/raw/index-files/cdx-00021\n",
      "INFO:root:Error parsing line  in file ../../data/raw/index-files/cdx-00026\n",
      "INFO:root:Error parsing line  in file ../../data/raw/index-files/cdx-00214\n",
      "INFO:root:Error parsing line  in file ../../data/raw/index-files/cdx-00019\n"
     ]
    },
    {
     "name": "stdout",
     "output_type": "stream",
     "text": [
      "\r",
      "Parsing file 260 out of 301"
     ]
    },
    {
     "name": "stderr",
     "output_type": "stream",
     "text": [
      "INFO:root:Error parsing line  in file ../../data/raw/index-files/cdx-00240\n",
      "INFO:root:Error parsing line  in file ../../data/raw/index-files/cdx-00072\n",
      "INFO:root:Error parsing line  in file ../../data/raw/index-files/cdx-00086\n",
      "INFO:root:Error parsing line  in file ../../data/raw/index-files/cdx-00278\n",
      "INFO:root:Error parsing line  in file ../../data/raw/index-files/cdx-00081\n",
      "INFO:root:Error parsing line  in file ../../data/raw/index-files/cdx-00075\n",
      "INFO:root:Error parsing line  in file ../../data/raw/index-files/cdx-00247\n",
      "INFO:root:Error parsing line  in file ../../data/raw/index-files/cdx-00088\n",
      "INFO:root:Error parsing line  in file ../../data/raw/index-files/cdx-00285\n",
      "INFO:root:Error parsing line  in file ../../data/raw/index-files/cdx-00043\n"
     ]
    },
    {
     "name": "stdout",
     "output_type": "stream",
     "text": [
      "\r",
      "Parsing file 270 out of 301"
     ]
    },
    {
     "name": "stderr",
     "output_type": "stream",
     "text": [
      "INFO:root:Error parsing line  in file ../../data/raw/index-files/cdx-00271\n",
      "INFO:root:Error parsing line  in file ../../data/raw/index-files/cdx-00249\n",
      "INFO:root:Error parsing line  in file ../../data/raw/index-files/cdx-00276\n",
      "INFO:root:Error parsing line  in file ../../data/raw/index-files/cdx-00044\n",
      "INFO:root:Error parsing line  in file ../../data/raw/index-files/cdx-00282\n",
      "INFO:root:Error parsing line  in file ../../data/raw/index-files/cdx-00136\n",
      "INFO:root:Error parsing line  in file ../../data/raw/index-files/cdx-00109\n",
      "INFO:root:Error parsing line  in file ../../data/raw/index-files/cdx-00131\n",
      "INFO:root:Error parsing line  in file ../../data/raw/index-files/cdx-00107\n",
      "INFO:root:Error parsing line  in file ../../data/raw/index-files/cdx-00138\n"
     ]
    },
    {
     "name": "stdout",
     "output_type": "stream",
     "text": [
      "\r",
      "Parsing file 280 out of 301"
     ]
    },
    {
     "name": "stderr",
     "output_type": "stream",
     "text": [
      "INFO:root:Error parsing line  in file ../../data/raw/index-files/cdx-00100\n",
      "INFO:root:Error parsing line  in file ../../data/raw/index-files/cdx-00154\n",
      "INFO:root:Error parsing line  in file ../../data/raw/index-files/cdx-00198\n",
      "INFO:root:Error parsing json data {\"url\": \"https://signon.thomsonreuters.com/?productid=CBT&viewproductid=CBTOW&lr=0&culture=en-US&returnto=https%3A%2F%2Fcontent.next.westlaw.com%2FCosi%2FSignOn%3FredirectTo%3D%252fDocument%252fI7f5f5d69b7ff11d987c1a1362d3e8655%252fView%252fFullText.html%253fcontextData%253d(sc.Default)%2526transitionType%253dDefault%2526firstPage%253dtrue&tracetoken=11211901094502bzHBUVCLc75WkrjZiMd_LfwrthV0Wc2o_mhnf7XbMDrPc3ThR53tT6b6QCIABZVGUvBVZRsSN3XCx in file ../../data/raw/index-files/cdx-00153\n",
      "INFO:root:Error parsing line  in file ../../data/raw/index-files/cdx-00165\n",
      "INFO:root:Error parsing line  in file ../../data/raw/index-files/cdx-00191\n",
      "INFO:root:Error parsing line  in file ../../data/raw/index-files/cdx-00196\n",
      "INFO:root:Error parsing line  in file ../../data/raw/index-files/cdx-00162\n",
      "INFO:root:Error parsing line  in file ../../data/raw/index-files/cdx-00101\n",
      "INFO:root:Error parsing line  in file ../../data/raw/index-files/cdx-00106\n"
     ]
    },
    {
     "name": "stdout",
     "output_type": "stream",
     "text": [
      "\r",
      "Parsing file 290 out of 301"
     ]
    },
    {
     "name": "stderr",
     "output_type": "stream",
     "text": [
      "INFO:root:Error parsing line  in file ../../data/raw/index-files/cdx-00139\n",
      "INFO:root:Error parsing line  in file ../../data/raw/index-files/cdx-00130\n",
      "INFO:root:Error parsing line  in file ../../data/raw/index-files/cdx-00137\n",
      "INFO:root:Error parsing line  in file ../../data/raw/index-files/cdx-00108\n",
      "INFO:root:Error parsing line  in file ../../data/raw/index-files/cdx-00163\n",
      "INFO:root:Error parsing line  in file ../../data/raw/index-files/cdx-00197\n",
      "INFO:root:Error parsing line  in file ../../data/raw/index-files/cdx-00190\n",
      "INFO:root:Error parsing line  in file ../../data/raw/index-files/cdx-00164\n",
      "INFO:root:Error parsing line  in file ../../data/raw/index-files/cdx-00199\n",
      "INFO:root:Error parsing line  in file ../../data/raw/index-files/cdx-00152\n"
     ]
    },
    {
     "name": "stdout",
     "output_type": "stream",
     "text": [
      "\r",
      "Parsing file 300 out of 301"
     ]
    },
    {
     "name": "stderr",
     "output_type": "stream",
     "text": [
      "INFO:root:Error parsing line  in file ../../data/raw/index-files/cdx-00155\n",
      "INFO:root:Saving DataFrame...\n"
     ]
    },
    {
     "name": "stdout",
     "output_type": "stream",
     "text": [
      "Parsing complete! 70426 total records extracted.\n"
     ]
    }
   ],
   "source": [
    "%run get_benign_urls parse"
   ]
  },
  {
   "cell_type": "code",
   "execution_count": 36,
   "metadata": {},
   "outputs": [],
   "source": [
    "import feather"
   ]
  },
  {
   "cell_type": "code",
   "execution_count": 37,
   "metadata": {},
   "outputs": [],
   "source": [
    "df = feather.read_dataframe('../../data/raw/cc_urls_2019-47.feather')"
   ]
  },
  {
   "cell_type": "code",
   "execution_count": 38,
   "metadata": {},
   "outputs": [
    {
     "data": {
      "text/html": [
       "<div>\n",
       "<style scoped>\n",
       "    .dataframe tbody tr th:only-of-type {\n",
       "        vertical-align: middle;\n",
       "    }\n",
       "\n",
       "    .dataframe tbody tr th {\n",
       "        vertical-align: top;\n",
       "    }\n",
       "\n",
       "    .dataframe thead th {\n",
       "        text-align: right;\n",
       "    }\n",
       "</style>\n",
       "<table border=\"1\" class=\"dataframe\">\n",
       "  <thead>\n",
       "    <tr style=\"text-align: right;\">\n",
       "      <th></th>\n",
       "      <th>languages</th>\n",
       "      <th>ts</th>\n",
       "      <th>url</th>\n",
       "    </tr>\n",
       "  </thead>\n",
       "  <tbody>\n",
       "    <tr>\n",
       "      <th>0</th>\n",
       "      <td>None</td>\n",
       "      <td>20191117234513</td>\n",
       "      <td>https://be.zaful.com/cami-barboteuse-ample-a-i...</td>\n",
       "    </tr>\n",
       "    <tr>\n",
       "      <th>1</th>\n",
       "      <td>None</td>\n",
       "      <td>20191112021456</td>\n",
       "      <td>https://be.zaful.com/cami-barboteuse-ample-a-i...</td>\n",
       "    </tr>\n",
       "    <tr>\n",
       "      <th>2</th>\n",
       "      <td>None</td>\n",
       "      <td>20191112044226</td>\n",
       "      <td>https://be.zaful.com/cami-barboteuse-cotelee-a...</td>\n",
       "    </tr>\n",
       "    <tr>\n",
       "      <th>3</th>\n",
       "      <td>None</td>\n",
       "      <td>20191122191931</td>\n",
       "      <td>https://be.zaful.com/cami-barboteuse-cotelee-a...</td>\n",
       "    </tr>\n",
       "    <tr>\n",
       "      <th>4</th>\n",
       "      <td>None</td>\n",
       "      <td>20191113010923</td>\n",
       "      <td>https://be.zaful.com/cami-barboteuse-cotelee-a...</td>\n",
       "    </tr>\n",
       "  </tbody>\n",
       "</table>\n",
       "</div>"
      ],
      "text/plain": [
       "  languages              ts                                                url\n",
       "0      None  20191117234513  https://be.zaful.com/cami-barboteuse-ample-a-i...\n",
       "1      None  20191112021456  https://be.zaful.com/cami-barboteuse-ample-a-i...\n",
       "2      None  20191112044226  https://be.zaful.com/cami-barboteuse-cotelee-a...\n",
       "3      None  20191122191931  https://be.zaful.com/cami-barboteuse-cotelee-a...\n",
       "4      None  20191113010923  https://be.zaful.com/cami-barboteuse-cotelee-a..."
      ]
     },
     "execution_count": 38,
     "metadata": {},
     "output_type": "execute_result"
    }
   ],
   "source": [
    "df.head()"
   ]
  },
  {
   "cell_type": "code",
   "execution_count": 39,
   "metadata": {},
   "outputs": [
    {
     "data": {
      "text/plain": [
       "70426"
      ]
     },
     "execution_count": 39,
     "metadata": {},
     "output_type": "execute_result"
    }
   ],
   "source": [
    "len(df)"
   ]
  },
  {
   "cell_type": "code",
   "execution_count": 40,
   "metadata": {},
   "outputs": [],
   "source": [
    "old_df = feather.read_dataframe('../../data/raw/cc_urls_2019-47')"
   ]
  },
  {
   "cell_type": "code",
   "execution_count": 41,
   "metadata": {},
   "outputs": [
    {
     "data": {
      "text/plain": [
       "898117"
      ]
     },
     "execution_count": 41,
     "metadata": {},
     "output_type": "execute_result"
    }
   ],
   "source": [
    "len(old_df)"
   ]
  },
  {
   "cell_type": "markdown",
   "metadata": {},
   "source": [
    "# Testing"
   ]
  },
  {
   "cell_type": "code",
   "execution_count": 4,
   "metadata": {},
   "outputs": [
    {
     "name": "stdout",
     "output_type": "stream",
     "text": [
      "test.py\n",
      "\n",
      "Test script\n",
      "\n",
      "Usage:\n",
      "    test.py download <n_chunks> [options]\n",
      "    test.py parse [options]\n",
      "\n",
      "Options\n",
      "    -v                      Verbose\n",
      "    -h --help               Show docstring.\n",
      "    -t                      Test mode.\n"
     ]
    }
   ],
   "source": [
    "%run test -h"
   ]
  },
  {
   "cell_type": "code",
   "execution_count": 7,
   "metadata": {},
   "outputs": [
    {
     "name": "stdout",
     "output_type": "stream",
     "text": [
      "{'--help': False,\n",
      " '-t': True,\n",
      " '-v': False,\n",
      " '<n_chunks>': None,\n",
      " 'download': False,\n",
      " 'parse': False}\n",
      "Test mode!\n"
     ]
    }
   ],
   "source": [
    "# %tb\n",
    "%run test -t"
   ]
  },
  {
   "cell_type": "code",
   "execution_count": 11,
   "metadata": {},
   "outputs": [
    {
     "name": "stdout",
     "output_type": "stream",
     "text": [
      "This is the download function, with n_chunks =  15\n"
     ]
    }
   ],
   "source": [
    "%run test download 15"
   ]
  },
  {
   "cell_type": "code",
   "execution_count": 14,
   "metadata": {},
   "outputs": [
    {
     "name": "stdout",
     "output_type": "stream",
     "text": [
      "This would parse the files\n",
      "['ts', 'url', 'languages']\n"
     ]
    }
   ],
   "source": [
    "%run test parse"
   ]
  },
  {
   "cell_type": "code",
   "execution_count": 20,
   "metadata": {},
   "outputs": [
    {
     "name": "stdout",
     "output_type": "stream",
     "text": [
      "This is the download function, with n_chunks =  15\n",
      "This would parse the files\n",
      "['ts', 'url', 'languages']\n"
     ]
    }
   ],
   "source": [
    "%run test download 15 parse"
   ]
  },
  {
   "cell_type": "code",
   "execution_count": 21,
   "metadata": {},
   "outputs": [
    {
     "ename": "DocoptExit",
     "evalue": "Usage:\n    test.py download <n-chunks> [options]\n    test.py parse [options]\n    test.py download <n-chunks> parse\n    test.py [options]",
     "output_type": "error",
     "traceback": [
      "An exception has occurred, use %tb to see the full traceback.\n",
      "\u001b[0;31mDocoptExit\u001b[0m\u001b[0;31m:\u001b[0m Usage:\n    test.py download <n-chunks> [options]\n    test.py parse [options]\n    test.py download <n-chunks> parse\n    test.py [options]\n"
     ]
    }
   ],
   "source": [
    "%run test download 15 parse -cols=['bunny', 'length']"
   ]
  },
  {
   "cell_type": "code",
   "execution_count": null,
   "metadata": {},
   "outputs": [],
   "source": []
  },
  {
   "cell_type": "code",
   "execution_count": null,
   "metadata": {},
   "outputs": [],
   "source": []
  }
 ],
 "metadata": {
  "kernelspec": {
   "display_name": "Python 3",
   "language": "python",
   "name": "python3"
  },
  "language_info": {
   "codemirror_mode": {
    "name": "ipython",
    "version": 3
   },
   "file_extension": ".py",
   "mimetype": "text/x-python",
   "name": "python",
   "nbconvert_exporter": "python",
   "pygments_lexer": "ipython3",
   "version": "3.6.7"
  }
 },
 "nbformat": 4,
 "nbformat_minor": 2
}
