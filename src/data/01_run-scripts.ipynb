{
 "cells": [
  {
   "cell_type": "code",
   "execution_count": 4,
   "metadata": {},
   "outputs": [
    {
     "name": "stdout",
     "output_type": "stream",
     "text": [
      "merge_split_data.py\n",
      "\n",
      "Loads benign data from ../../data/raw/*.feather (assumes there is only\n",
      "a single `.feather` file in this location). Loads phishing data from\n",
      "../../data/raw/phishing_urls.pkl. Merges them together. Performs\n",
      "train-test-split using 25% test size. Saves as train_df and test_df to\n",
      "../../data/interim.\n",
      "\n",
      "Usage:\n",
      "    merge_split_data.py\n",
      "\n",
      "Options:\n",
      "    -h --help       Show docstring.\n"
     ]
    }
   ],
   "source": [
    "%run merge_split_data -h"
   ]
  },
  {
   "cell_type": "code",
   "execution_count": 1,
   "metadata": {},
   "outputs": [
    {
     "name": "stderr",
     "output_type": "stream",
     "text": [
      "DEBUG:root:Loading benign data...\n",
      "DEBUG:root:Loading phishing data...\n",
      "DEBUG:root:Merging data...\n",
      "DEBUG:root:Performing train-test split...\n",
      "DEBUG:root:Saving data...\n"
     ]
    },
    {
     "name": "stdout",
     "output_type": "stream",
     "text": [
      "Script complete!\n",
      "Elapsed time: 1549653695 minutes\n"
     ]
    }
   ],
   "source": [
    "%run merge_split_data"
   ]
  },
  {
   "cell_type": "code",
   "execution_count": null,
   "metadata": {},
   "outputs": [],
   "source": []
  }
 ],
 "metadata": {
  "kernelspec": {
   "display_name": "Python 3",
   "language": "python",
   "name": "python3"
  },
  "language_info": {
   "codemirror_mode": {
    "name": "ipython",
    "version": 3
   },
   "file_extension": ".py",
   "mimetype": "text/x-python",
   "name": "python",
   "nbconvert_exporter": "python",
   "pygments_lexer": "ipython3",
   "version": "3.6.7"
  }
 },
 "nbformat": 4,
 "nbformat_minor": 2
}
