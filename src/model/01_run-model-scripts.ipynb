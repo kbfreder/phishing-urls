{
 "cells": [
  {
   "cell_type": "code",
   "execution_count": 2,
   "metadata": {},
   "outputs": [
    {
     "name": "stdout",
     "output_type": "stream",
     "text": [
      "train_model.py\n",
      "\n",
      "Trains RandomForestClassifier model on <input> file located in\n",
      " ../../data/processed. Saves model to ../../models.\n",
      "\n",
      "Usage:\n",
      "    train_model.py <filename> [options]\n",
      "\n",
      "Options\n",
      "    -i --input <file>       Filename, with extension, but without path\n",
      "                            (../../data/processed). [default: train_df.feather]\n",
      "    -o --output <file>      Filename for resulting model, without extension.\n",
      "                            Will be save to ../../models/. [default: rf_model]\n",
      "    -h --help               Show docstring.\n",
      "    -t                      Test mode.\n"
     ]
    }
   ],
   "source": [
    "%run train_model.py -h"
   ]
  },
  {
   "cell_type": "code",
   "execution_count": null,
   "metadata": {},
   "outputs": [],
   "source": [
    "%run train_model.py"
   ]
  },
  {
   "cell_type": "markdown",
   "metadata": {},
   "source": [
    "## Predict"
   ]
  },
  {
   "cell_type": "code",
   "execution_count": 5,
   "metadata": {},
   "outputs": [
    {
     "name": "stdout",
     "output_type": "stream",
     "text": [
      "predict_model.py\n",
      "\n",
      "Predict label on '../../data/processed/<input>' data using\n",
      "'../../models/<model>' model. Note defaults below. Saves predictions\n",
      "to a pickled DataFrame.\n",
      "\n",
      "Usage:\n",
      "    predict_model.py [options]\n",
      "\n",
      "Options:\n",
      "    -h --help                   Show doctsring.\n",
      "    -i <file>, --input <file>   Input (test_df) filename with file extension but without\n",
      "                                path (../../data/processed) [default: test_df.feather].\n",
      "    -m <file>, --model <file>   Model filename without path (../../models/) or file extension\n",
      "                                [default: rf_model]\n",
      "    -o <file>, --output <file>  Output filename without path (../../data/processed/)\n",
      "                                [default: test_pred.feather]\n",
      "    -t --test                   Test mode. [default: False]\n"
     ]
    }
   ],
   "source": [
    "%run predict_model.py -h"
   ]
  },
  {
   "cell_type": "code",
   "execution_count": 1,
   "metadata": {},
   "outputs": [
    {
     "name": "stderr",
     "output_type": "stream",
     "text": [
      "INFO:root:test data: ../../data/processed/test_df.feather\n",
      "INFO:root:Model: ../../models/rf_model\n",
      "DEBUG:root:Loading data & model...\n",
      "DEBUG:root:Predicting...\n",
      "DEBUG:root:Saving predictions...\n"
     ]
    },
    {
     "name": "stdout",
     "output_type": "stream",
     "text": [
      "Fitting score:  0.2015847860538827\n"
     ]
    },
    {
     "name": "stderr",
     "output_type": "stream",
     "text": [
      "DEBUG:root:Saving...\n",
      "INFO:root:Output (predictions) saved to: ../../data/processed/test_pred.feather\n",
      "INFO:root:Script complete!\n"
     ]
    },
    {
     "name": "stdout",
     "output_type": "stream",
     "text": [
      "Elapsed time: 1 minutes\n"
     ]
    }
   ],
   "source": [
    "%run predict_model.py"
   ]
  },
  {
   "cell_type": "code",
   "execution_count": 2,
   "metadata": {},
   "outputs": [
    {
     "name": "stderr",
     "output_type": "stream",
     "text": [
      "INFO:root:test data: ../../data/processed/train_df.feather\n",
      "INFO:root:model: ../../models/rf_model\n",
      "DEBUG:root:Loading data & model...\n",
      "DEBUG:root:Predicting...\n",
      "DEBUG:root:Saving predictions...\n"
     ]
    },
    {
     "name": "stdout",
     "output_type": "stream",
     "text": [
      "Fitting score:  0.21961687428033078\n"
     ]
    },
    {
     "name": "stderr",
     "output_type": "stream",
     "text": [
      "DEBUG:root:Saving...\n",
      "INFO:root:Output (predictions) saved to: ../../data/processed/tmp.feather\n",
      "INFO:root:Script complete!\n"
     ]
    },
    {
     "name": "stdout",
     "output_type": "stream",
     "text": [
      "Elapsed time: 4 minutes\n"
     ]
    }
   ],
   "source": [
    "%run predict_model.py -i train_df.feather -o train_pred.feather"
   ]
  }
 ],
 "metadata": {
  "kernelspec": {
   "display_name": "Python 3",
   "language": "python",
   "name": "python3"
  },
  "language_info": {
   "codemirror_mode": {
    "name": "ipython",
    "version": 3
   },
   "file_extension": ".py",
   "mimetype": "text/x-python",
   "name": "python",
   "nbconvert_exporter": "python",
   "pygments_lexer": "ipython3",
   "version": "3.6.7"
  }
 },
 "nbformat": 4,
 "nbformat_minor": 2
}
