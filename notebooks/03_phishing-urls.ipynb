{
 "cells": [
  {
   "cell_type": "code",
   "execution_count": 2,
   "metadata": {},
   "outputs": [],
   "source": [
    "import pandas as pd"
   ]
  },
  {
   "cell_type": "code",
   "execution_count": 3,
   "metadata": {
    "ExecuteTime": {
     "end_time": "2019-12-07T00:10:44.412184Z",
     "start_time": "2019-12-07T00:10:43.433048Z"
    }
   },
   "outputs": [],
   "source": [
    "import urllib.request\n",
    "url = 'https://openphish.com/feed.txt'\n",
    "\n",
    "txt = urllib.request.urlopen(url).read()\n",
    "\n",
    "lines = txt.decode().split('\\n')\n",
    "\n",
    "ph_df = pd.DataFrame(data=lines)"
   ]
  },
  {
   "cell_type": "code",
   "execution_count": 4,
   "metadata": {},
   "outputs": [
    {
     "data": {
      "text/html": [
       "<div>\n",
       "<style scoped>\n",
       "    .dataframe tbody tr th:only-of-type {\n",
       "        vertical-align: middle;\n",
       "    }\n",
       "\n",
       "    .dataframe tbody tr th {\n",
       "        vertical-align: top;\n",
       "    }\n",
       "\n",
       "    .dataframe thead th {\n",
       "        text-align: right;\n",
       "    }\n",
       "</style>\n",
       "<table border=\"1\" class=\"dataframe\">\n",
       "  <thead>\n",
       "    <tr style=\"text-align: right;\">\n",
       "      <th></th>\n",
       "      <th>0</th>\n",
       "    </tr>\n",
       "  </thead>\n",
       "  <tbody>\n",
       "    <tr>\n",
       "      <th>0</th>\n",
       "      <td>https://www2.amazon.co.jp.anamz-coco-nom.xyz/</td>\n",
       "    </tr>\n",
       "    <tr>\n",
       "      <th>1</th>\n",
       "      <td>https://www2.account-update.amazon.co.jp.7a732...</td>\n",
       "    </tr>\n",
       "    <tr>\n",
       "      <th>2</th>\n",
       "      <td>https://www2.account-update.amazon.co.jp.7a732...</td>\n",
       "    </tr>\n",
       "    <tr>\n",
       "      <th>3</th>\n",
       "      <td>http://jppost-ze.com/yue.html</td>\n",
       "    </tr>\n",
       "    <tr>\n",
       "      <th>4</th>\n",
       "      <td>http://jppost-za.com/yue.html</td>\n",
       "    </tr>\n",
       "  </tbody>\n",
       "</table>\n",
       "</div>"
      ],
      "text/plain": [
       "                                                   0\n",
       "0      https://www2.amazon.co.jp.anamz-coco-nom.xyz/\n",
       "1  https://www2.account-update.amazon.co.jp.7a732...\n",
       "2  https://www2.account-update.amazon.co.jp.7a732...\n",
       "3                      http://jppost-ze.com/yue.html\n",
       "4                      http://jppost-za.com/yue.html"
      ]
     },
     "execution_count": 4,
     "metadata": {},
     "output_type": "execute_result"
    }
   ],
   "source": [
    "ph_df.head()"
   ]
  },
  {
   "cell_type": "code",
   "execution_count": null,
   "metadata": {},
   "outputs": [],
   "source": [
    "import json\n",
    "app_key = '1f171e316ef8a512369c33676ddfe160724d2d36146993892c70478f75f78691'\n",
    "url = 'http://data.phishtank.com/data/{}/online-valid.json'.format(app_key)\n",
    "\n",
    "with urllib.request.urlopen(url) as webpage:\n",
    "    data = json.loads(webpage.read().decode())\n",
    "\n",
    "url_list = [x['url'] for x in data]\n",
    "ph_df2 = pd.DataFrame(data=url_list, columns=['url'])"
   ]
  },
  {
   "cell_type": "code",
   "execution_count": null,
   "metadata": {},
   "outputs": [],
   "source": [
    "# Merge df's\n",
    "ph_df = pd.concat([ph_df1, ph_df2])\n",
    "ph_df.drop_duplicates(inplace=True)\n",
    "\n",
    "# Save\n",
    "ph_df.to_pickle('../data/raw/phising_urls.pkl')"
   ]
  }
 ],
 "metadata": {
  "hide_input": false,
  "kernelspec": {
   "display_name": "Python 3",
   "language": "python",
   "name": "python3"
  },
  "language_info": {
   "codemirror_mode": {
    "name": "ipython",
    "version": 3
   },
   "file_extension": ".py",
   "mimetype": "text/x-python",
   "name": "python",
   "nbconvert_exporter": "python",
   "pygments_lexer": "ipython3",
   "version": "3.6.7"
  },
  "toc": {
   "base_numbering": 1,
   "nav_menu": {},
   "number_sections": true,
   "sideBar": true,
   "skip_h1_title": false,
   "title_cell": "Table of Contents",
   "title_sidebar": "Contents",
   "toc_cell": false,
   "toc_position": {},
   "toc_section_display": true,
   "toc_window_display": false
  }
 },
 "nbformat": 4,
 "nbformat_minor": 2
}
