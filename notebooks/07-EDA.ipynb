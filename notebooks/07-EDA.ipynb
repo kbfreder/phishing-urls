{
 "cells": [
  {
   "cell_type": "code",
   "execution_count": 100,
   "metadata": {},
   "outputs": [],
   "source": [
    "import re\n",
    "import feather\n",
    "import pandas as pd\n",
    "import numpy as np\n",
    "\n",
    "import matplotlib.pyplot as plt\n",
    "import seaborn as sns\n",
    "\n",
    "# from sklearn.preprocessing import LabelEncoder, OneHotEncoder, StandardScaler\n",
    "\n",
    "pd.options.display.max_columns = 100"
   ]
  },
  {
   "cell_type": "code",
   "execution_count": 47,
   "metadata": {},
   "outputs": [],
   "source": [
    "pd.options.display.max_rows = 100"
   ]
  },
  {
   "cell_type": "code",
   "execution_count": 4,
   "metadata": {},
   "outputs": [],
   "source": [
    "full_df = feather.read_dataframe('../data/processed/train_df.feather')"
   ]
  },
  {
   "cell_type": "code",
   "execution_count": 6,
   "metadata": {},
   "outputs": [
    {
     "data": {
      "text/plain": [
       "(7449443, 27)"
      ]
     },
     "execution_count": 6,
     "metadata": {},
     "output_type": "execute_result"
    }
   ],
   "source": [
    "full_df.shape"
   ]
  },
  {
   "cell_type": "code",
   "execution_count": 7,
   "metadata": {},
   "outputs": [
    {
     "data": {
      "text/plain": [
       "benign      0.998858\n",
       "phishing    0.001142\n",
       "Name: label, dtype: float64"
      ]
     },
     "execution_count": 7,
     "metadata": {},
     "output_type": "execute_result"
    }
   ],
   "source": [
    "full_df['label'].value_counts(1)"
   ]
  },
  {
   "cell_type": "code",
   "execution_count": 8,
   "metadata": {},
   "outputs": [
    {
     "data": {
      "text/plain": [
       "(1489889, 27)"
      ]
     },
     "execution_count": 8,
     "metadata": {},
     "output_type": "execute_result"
    }
   ],
   "source": [
    "df = full_df.sample(frac=0.2).reset_index(drop=True)\n",
    "df.shape"
   ]
  },
  {
   "cell_type": "code",
   "execution_count": 9,
   "metadata": {},
   "outputs": [
    {
     "data": {
      "text/plain": [
       "benign      0.998843\n",
       "phishing    0.001157\n",
       "Name: label, dtype: float64"
      ]
     },
     "execution_count": 9,
     "metadata": {},
     "output_type": "execute_result"
    }
   ],
   "source": [
    "df['label'].value_counts(1)"
   ]
  },
  {
   "cell_type": "code",
   "execution_count": 10,
   "metadata": {},
   "outputs": [
    {
     "data": {
      "text/html": [
       "<div>\n",
       "<style scoped>\n",
       "    .dataframe tbody tr th:only-of-type {\n",
       "        vertical-align: middle;\n",
       "    }\n",
       "\n",
       "    .dataframe tbody tr th {\n",
       "        vertical-align: top;\n",
       "    }\n",
       "\n",
       "    .dataframe thead th {\n",
       "        text-align: right;\n",
       "    }\n",
       "</style>\n",
       "<table border=\"1\" class=\"dataframe\">\n",
       "  <thead>\n",
       "    <tr style=\"text-align: right;\">\n",
       "      <th></th>\n",
       "      <th>url</th>\n",
       "      <th>label</th>\n",
       "      <th>subdomain</th>\n",
       "      <th>domain</th>\n",
       "      <th>suffix</th>\n",
       "      <th>hostname</th>\n",
       "      <th>path</th>\n",
       "      <th>query</th>\n",
       "      <th>subdomain_null_ind</th>\n",
       "      <th>subdomain_www_ind</th>\n",
       "      <th>length_url</th>\n",
       "      <th>length_domain</th>\n",
       "      <th>length_path</th>\n",
       "      <th>domain_dot_cnt</th>\n",
       "      <th>url_slash_cnt</th>\n",
       "      <th>path_dot_cnt</th>\n",
       "      <th>hostname_dash_cnt</th>\n",
       "      <th>url_digit_cnt</th>\n",
       "      <th>url_special_char_cnt</th>\n",
       "      <th>url_reserved_char_cnt</th>\n",
       "      <th>url_hex_pattern_ind</th>\n",
       "      <th>hostname_entropy</th>\n",
       "      <th>url_entropy</th>\n",
       "      <th>php_ind</th>\n",
       "      <th>abuse_ind</th>\n",
       "      <th>admin_ind</th>\n",
       "      <th>verification_ind</th>\n",
       "    </tr>\n",
       "  </thead>\n",
       "  <tbody>\n",
       "    <tr>\n",
       "      <th>0</th>\n",
       "      <td>https://casalalapicera.com/categoria/marcas/</td>\n",
       "      <td>benign</td>\n",
       "      <td></td>\n",
       "      <td>casalalapicera</td>\n",
       "      <td>com</td>\n",
       "      <td>.casalalapicera.com</td>\n",
       "      <td>/categoria/marcas/</td>\n",
       "      <td>None</td>\n",
       "      <td>1</td>\n",
       "      <td>0</td>\n",
       "      <td>44</td>\n",
       "      <td>14</td>\n",
       "      <td>18</td>\n",
       "      <td>0</td>\n",
       "      <td>5</td>\n",
       "      <td>0</td>\n",
       "      <td>0</td>\n",
       "      <td>0</td>\n",
       "      <td>7</td>\n",
       "      <td>6</td>\n",
       "      <td>0</td>\n",
       "      <td>3.176110</td>\n",
       "      <td>3.686403</td>\n",
       "      <td>0</td>\n",
       "      <td>0</td>\n",
       "      <td>0</td>\n",
       "      <td>0</td>\n",
       "    </tr>\n",
       "    <tr>\n",
       "      <th>1</th>\n",
       "      <td>https://catalogue-lumiere.com/regates-retour/</td>\n",
       "      <td>benign</td>\n",
       "      <td></td>\n",
       "      <td>catalogue-lumiere</td>\n",
       "      <td>com</td>\n",
       "      <td>.catalogue-lumiere.com</td>\n",
       "      <td>/regates-retour/</td>\n",
       "      <td>None</td>\n",
       "      <td>1</td>\n",
       "      <td>0</td>\n",
       "      <td>45</td>\n",
       "      <td>17</td>\n",
       "      <td>16</td>\n",
       "      <td>0</td>\n",
       "      <td>4</td>\n",
       "      <td>0</td>\n",
       "      <td>1</td>\n",
       "      <td>0</td>\n",
       "      <td>8</td>\n",
       "      <td>5</td>\n",
       "      <td>0</td>\n",
       "      <td>3.606937</td>\n",
       "      <td>3.949985</td>\n",
       "      <td>0</td>\n",
       "      <td>0</td>\n",
       "      <td>0</td>\n",
       "      <td>0</td>\n",
       "    </tr>\n",
       "    <tr>\n",
       "      <th>2</th>\n",
       "      <td>https://www.ceriseclub.com/avis/bijouxbylola</td>\n",
       "      <td>benign</td>\n",
       "      <td>www</td>\n",
       "      <td>ceriseclub</td>\n",
       "      <td>com</td>\n",
       "      <td>www.ceriseclub.com</td>\n",
       "      <td>/avis/bijouxbylola</td>\n",
       "      <td>None</td>\n",
       "      <td>0</td>\n",
       "      <td>1</td>\n",
       "      <td>44</td>\n",
       "      <td>10</td>\n",
       "      <td>18</td>\n",
       "      <td>0</td>\n",
       "      <td>4</td>\n",
       "      <td>0</td>\n",
       "      <td>0</td>\n",
       "      <td>0</td>\n",
       "      <td>7</td>\n",
       "      <td>5</td>\n",
       "      <td>0</td>\n",
       "      <td>3.419382</td>\n",
       "      <td>4.293881</td>\n",
       "      <td>0</td>\n",
       "      <td>0</td>\n",
       "      <td>0</td>\n",
       "      <td>0</td>\n",
       "    </tr>\n",
       "    <tr>\n",
       "      <th>3</th>\n",
       "      <td>https://www.catholiccastmedia.com/home/cross-1...</td>\n",
       "      <td>benign</td>\n",
       "      <td>www</td>\n",
       "      <td>catholiccastmedia</td>\n",
       "      <td>com</td>\n",
       "      <td>www.catholiccastmedia.com</td>\n",
       "      <td>/home/cross-1264110-overlay/</td>\n",
       "      <td>None</td>\n",
       "      <td>0</td>\n",
       "      <td>1</td>\n",
       "      <td>61</td>\n",
       "      <td>17</td>\n",
       "      <td>28</td>\n",
       "      <td>0</td>\n",
       "      <td>5</td>\n",
       "      <td>0</td>\n",
       "      <td>0</td>\n",
       "      <td>7</td>\n",
       "      <td>17</td>\n",
       "      <td>6</td>\n",
       "      <td>0</td>\n",
       "      <td>3.543465</td>\n",
       "      <td>4.412649</td>\n",
       "      <td>0</td>\n",
       "      <td>0</td>\n",
       "      <td>0</td>\n",
       "      <td>0</td>\n",
       "    </tr>\n",
       "    <tr>\n",
       "      <th>4</th>\n",
       "      <td>https://auction.catawiki.com/kavels/30855213-f...</td>\n",
       "      <td>benign</td>\n",
       "      <td>auction</td>\n",
       "      <td>catawiki</td>\n",
       "      <td>com</td>\n",
       "      <td>auction.catawiki.com</td>\n",
       "      <td>/kavels/30855213-france-stock-of-red-cross-boo...</td>\n",
       "      <td>None</td>\n",
       "      <td>0</td>\n",
       "      <td>0</td>\n",
       "      <td>84</td>\n",
       "      <td>8</td>\n",
       "      <td>56</td>\n",
       "      <td>0</td>\n",
       "      <td>4</td>\n",
       "      <td>0</td>\n",
       "      <td>0</td>\n",
       "      <td>9</td>\n",
       "      <td>24</td>\n",
       "      <td>5</td>\n",
       "      <td>0</td>\n",
       "      <td>3.308695</td>\n",
       "      <td>4.530369</td>\n",
       "      <td>0</td>\n",
       "      <td>0</td>\n",
       "      <td>0</td>\n",
       "      <td>0</td>\n",
       "    </tr>\n",
       "  </tbody>\n",
       "</table>\n",
       "</div>"
      ],
      "text/plain": [
       "                                                 url   label subdomain  \\\n",
       "0       https://casalalapicera.com/categoria/marcas/  benign             \n",
       "1      https://catalogue-lumiere.com/regates-retour/  benign             \n",
       "2       https://www.ceriseclub.com/avis/bijouxbylola  benign       www   \n",
       "3  https://www.catholiccastmedia.com/home/cross-1...  benign       www   \n",
       "4  https://auction.catawiki.com/kavels/30855213-f...  benign   auction   \n",
       "\n",
       "              domain suffix                   hostname  \\\n",
       "0     casalalapicera    com        .casalalapicera.com   \n",
       "1  catalogue-lumiere    com     .catalogue-lumiere.com   \n",
       "2         ceriseclub    com         www.ceriseclub.com   \n",
       "3  catholiccastmedia    com  www.catholiccastmedia.com   \n",
       "4           catawiki    com       auction.catawiki.com   \n",
       "\n",
       "                                                path query  \\\n",
       "0                                 /categoria/marcas/  None   \n",
       "1                                   /regates-retour/  None   \n",
       "2                                 /avis/bijouxbylola  None   \n",
       "3                       /home/cross-1264110-overlay/  None   \n",
       "4  /kavels/30855213-france-stock-of-red-cross-boo...  None   \n",
       "\n",
       "   subdomain_null_ind  subdomain_www_ind  length_url  length_domain  \\\n",
       "0                   1                  0          44             14   \n",
       "1                   1                  0          45             17   \n",
       "2                   0                  1          44             10   \n",
       "3                   0                  1          61             17   \n",
       "4                   0                  0          84              8   \n",
       "\n",
       "   length_path  domain_dot_cnt  url_slash_cnt  path_dot_cnt  \\\n",
       "0           18               0              5             0   \n",
       "1           16               0              4             0   \n",
       "2           18               0              4             0   \n",
       "3           28               0              5             0   \n",
       "4           56               0              4             0   \n",
       "\n",
       "   hostname_dash_cnt  url_digit_cnt  url_special_char_cnt  \\\n",
       "0                  0              0                     7   \n",
       "1                  1              0                     8   \n",
       "2                  0              0                     7   \n",
       "3                  0              7                    17   \n",
       "4                  0              9                    24   \n",
       "\n",
       "   url_reserved_char_cnt  url_hex_pattern_ind  hostname_entropy  url_entropy  \\\n",
       "0                      6                    0          3.176110     3.686403   \n",
       "1                      5                    0          3.606937     3.949985   \n",
       "2                      5                    0          3.419382     4.293881   \n",
       "3                      6                    0          3.543465     4.412649   \n",
       "4                      5                    0          3.308695     4.530369   \n",
       "\n",
       "   php_ind  abuse_ind  admin_ind  verification_ind  \n",
       "0        0          0          0                 0  \n",
       "1        0          0          0                 0  \n",
       "2        0          0          0                 0  \n",
       "3        0          0          0                 0  \n",
       "4        0          0          0                 0  "
      ]
     },
     "execution_count": 10,
     "metadata": {},
     "output_type": "execute_result"
    }
   ],
   "source": [
    "df.head()"
   ]
  },
  {
   "cell_type": "code",
   "execution_count": 101,
   "metadata": {},
   "outputs": [],
   "source": [
    "df['protocol'] = df['url'].apply(lambda x: x.split('://')[0])"
   ]
  },
  {
   "cell_type": "code",
   "execution_count": 102,
   "metadata": {},
   "outputs": [],
   "source": [
    "good_df = df[df['label'] == 'benign']\n",
    "bad_df = df[df['label'] == 'phishing']"
   ]
  },
  {
   "cell_type": "code",
   "execution_count": 16,
   "metadata": {},
   "outputs": [
    {
     "data": {
      "text/plain": [
       "(1488165, 1724)"
      ]
     },
     "execution_count": 16,
     "metadata": {},
     "output_type": "execute_result"
    }
   ],
   "source": [
    "len(good_df), len(bad_df)"
   ]
  },
  {
   "cell_type": "markdown",
   "metadata": {},
   "source": [
    "# EDA"
   ]
  },
  {
   "cell_type": "code",
   "execution_count": 11,
   "metadata": {},
   "outputs": [
    {
     "data": {
      "text/html": [
       "<div>\n",
       "<style scoped>\n",
       "    .dataframe tbody tr th:only-of-type {\n",
       "        vertical-align: middle;\n",
       "    }\n",
       "\n",
       "    .dataframe tbody tr th {\n",
       "        vertical-align: top;\n",
       "    }\n",
       "\n",
       "    .dataframe thead th {\n",
       "        text-align: right;\n",
       "    }\n",
       "</style>\n",
       "<table border=\"1\" class=\"dataframe\">\n",
       "  <thead>\n",
       "    <tr style=\"text-align: right;\">\n",
       "      <th></th>\n",
       "      <th>subdomain_null_ind</th>\n",
       "      <th>subdomain_www_ind</th>\n",
       "      <th>length_url</th>\n",
       "      <th>length_domain</th>\n",
       "      <th>length_path</th>\n",
       "      <th>domain_dot_cnt</th>\n",
       "      <th>url_slash_cnt</th>\n",
       "      <th>path_dot_cnt</th>\n",
       "      <th>hostname_dash_cnt</th>\n",
       "      <th>url_digit_cnt</th>\n",
       "      <th>url_special_char_cnt</th>\n",
       "      <th>url_reserved_char_cnt</th>\n",
       "      <th>url_hex_pattern_ind</th>\n",
       "      <th>hostname_entropy</th>\n",
       "      <th>url_entropy</th>\n",
       "      <th>php_ind</th>\n",
       "      <th>abuse_ind</th>\n",
       "      <th>admin_ind</th>\n",
       "      <th>verification_ind</th>\n",
       "    </tr>\n",
       "  </thead>\n",
       "  <tbody>\n",
       "    <tr>\n",
       "      <th>count</th>\n",
       "      <td>1.489889e+06</td>\n",
       "      <td>1.489889e+06</td>\n",
       "      <td>1.489889e+06</td>\n",
       "      <td>1.489889e+06</td>\n",
       "      <td>1.489889e+06</td>\n",
       "      <td>1.489889e+06</td>\n",
       "      <td>1.489889e+06</td>\n",
       "      <td>1.489889e+06</td>\n",
       "      <td>1.489889e+06</td>\n",
       "      <td>1.489889e+06</td>\n",
       "      <td>1.489889e+06</td>\n",
       "      <td>1.489889e+06</td>\n",
       "      <td>1.489889e+06</td>\n",
       "      <td>1.489889e+06</td>\n",
       "      <td>1.489889e+06</td>\n",
       "      <td>1.489889e+06</td>\n",
       "      <td>1.489889e+06</td>\n",
       "      <td>1.489889e+06</td>\n",
       "      <td>1.489889e+06</td>\n",
       "    </tr>\n",
       "    <tr>\n",
       "      <th>mean</th>\n",
       "      <td>3.058832e-01</td>\n",
       "      <td>5.160895e-01</td>\n",
       "      <td>7.131759e+01</td>\n",
       "      <td>1.140411e+01</td>\n",
       "      <td>3.748538e+01</td>\n",
       "      <td>5.638004e-05</td>\n",
       "      <td>4.720105e+00</td>\n",
       "      <td>3.617189e-01</td>\n",
       "      <td>1.095947e-01</td>\n",
       "      <td>5.939263e+00</td>\n",
       "      <td>2.021893e+01</td>\n",
       "      <td>6.508359e+00</td>\n",
       "      <td>5.080848e-02</td>\n",
       "      <td>3.348631e+00</td>\n",
       "      <td>4.329695e+00</td>\n",
       "      <td>7.108382e-02</td>\n",
       "      <td>3.228428e-04</td>\n",
       "      <td>1.371243e-03</td>\n",
       "      <td>3.423074e-05</td>\n",
       "    </tr>\n",
       "    <tr>\n",
       "      <th>std</th>\n",
       "      <td>4.607806e-01</td>\n",
       "      <td>4.997412e-01</td>\n",
       "      <td>4.372083e+01</td>\n",
       "      <td>5.131486e+00</td>\n",
       "      <td>3.284613e+01</td>\n",
       "      <td>1.300527e-02</td>\n",
       "      <td>1.719464e+00</td>\n",
       "      <td>5.124572e-01</td>\n",
       "      <td>3.838287e-01</td>\n",
       "      <td>1.050420e+01</td>\n",
       "      <td>2.403302e+01</td>\n",
       "      <td>2.968818e+00</td>\n",
       "      <td>2.196065e-01</td>\n",
       "      <td>3.236509e-01</td>\n",
       "      <td>2.880826e-01</td>\n",
       "      <td>2.569649e-01</td>\n",
       "      <td>1.796493e-02</td>\n",
       "      <td>3.700491e-02</td>\n",
       "      <td>5.850606e-03</td>\n",
       "    </tr>\n",
       "    <tr>\n",
       "      <th>min</th>\n",
       "      <td>0.000000e+00</td>\n",
       "      <td>0.000000e+00</td>\n",
       "      <td>0.000000e+00</td>\n",
       "      <td>0.000000e+00</td>\n",
       "      <td>0.000000e+00</td>\n",
       "      <td>0.000000e+00</td>\n",
       "      <td>0.000000e+00</td>\n",
       "      <td>0.000000e+00</td>\n",
       "      <td>0.000000e+00</td>\n",
       "      <td>0.000000e+00</td>\n",
       "      <td>0.000000e+00</td>\n",
       "      <td>0.000000e+00</td>\n",
       "      <td>0.000000e+00</td>\n",
       "      <td>-0.000000e+00</td>\n",
       "      <td>0.000000e+00</td>\n",
       "      <td>0.000000e+00</td>\n",
       "      <td>0.000000e+00</td>\n",
       "      <td>0.000000e+00</td>\n",
       "      <td>0.000000e+00</td>\n",
       "    </tr>\n",
       "    <tr>\n",
       "      <th>25%</th>\n",
       "      <td>0.000000e+00</td>\n",
       "      <td>0.000000e+00</td>\n",
       "      <td>4.600000e+01</td>\n",
       "      <td>8.000000e+00</td>\n",
       "      <td>1.600000e+01</td>\n",
       "      <td>0.000000e+00</td>\n",
       "      <td>4.000000e+00</td>\n",
       "      <td>0.000000e+00</td>\n",
       "      <td>0.000000e+00</td>\n",
       "      <td>0.000000e+00</td>\n",
       "      <td>1.000000e+01</td>\n",
       "      <td>5.000000e+00</td>\n",
       "      <td>0.000000e+00</td>\n",
       "      <td>3.155639e+00</td>\n",
       "      <td>4.139071e+00</td>\n",
       "      <td>0.000000e+00</td>\n",
       "      <td>0.000000e+00</td>\n",
       "      <td>0.000000e+00</td>\n",
       "      <td>0.000000e+00</td>\n",
       "    </tr>\n",
       "    <tr>\n",
       "      <th>50%</th>\n",
       "      <td>0.000000e+00</td>\n",
       "      <td>1.000000e+00</td>\n",
       "      <td>6.200000e+01</td>\n",
       "      <td>1.100000e+01</td>\n",
       "      <td>2.800000e+01</td>\n",
       "      <td>0.000000e+00</td>\n",
       "      <td>4.000000e+00</td>\n",
       "      <td>0.000000e+00</td>\n",
       "      <td>0.000000e+00</td>\n",
       "      <td>3.000000e+00</td>\n",
       "      <td>1.500000e+01</td>\n",
       "      <td>6.000000e+00</td>\n",
       "      <td>0.000000e+00</td>\n",
       "      <td>3.375000e+00</td>\n",
       "      <td>4.315312e+00</td>\n",
       "      <td>0.000000e+00</td>\n",
       "      <td>0.000000e+00</td>\n",
       "      <td>0.000000e+00</td>\n",
       "      <td>0.000000e+00</td>\n",
       "    </tr>\n",
       "    <tr>\n",
       "      <th>75%</th>\n",
       "      <td>1.000000e+00</td>\n",
       "      <td>1.000000e+00</td>\n",
       "      <td>8.500000e+01</td>\n",
       "      <td>1.500000e+01</td>\n",
       "      <td>5.000000e+01</td>\n",
       "      <td>0.000000e+00</td>\n",
       "      <td>5.000000e+00</td>\n",
       "      <td>1.000000e+00</td>\n",
       "      <td>0.000000e+00</td>\n",
       "      <td>8.000000e+00</td>\n",
       "      <td>2.300000e+01</td>\n",
       "      <td>7.000000e+00</td>\n",
       "      <td>0.000000e+00</td>\n",
       "      <td>3.576618e+00</td>\n",
       "      <td>4.512944e+00</td>\n",
       "      <td>0.000000e+00</td>\n",
       "      <td>0.000000e+00</td>\n",
       "      <td>0.000000e+00</td>\n",
       "      <td>0.000000e+00</td>\n",
       "    </tr>\n",
       "    <tr>\n",
       "      <th>max</th>\n",
       "      <td>1.000000e+00</td>\n",
       "      <td>1.000000e+00</td>\n",
       "      <td>3.287000e+03</td>\n",
       "      <td>5.200000e+01</td>\n",
       "      <td>1.787000e+03</td>\n",
       "      <td>3.000000e+00</td>\n",
       "      <td>3.800000e+01</td>\n",
       "      <td>1.300000e+01</td>\n",
       "      <td>1.000000e+01</td>\n",
       "      <td>1.144000e+03</td>\n",
       "      <td>2.110000e+03</td>\n",
       "      <td>1.970000e+02</td>\n",
       "      <td>1.000000e+00</td>\n",
       "      <td>4.688499e+00</td>\n",
       "      <td>6.028824e+00</td>\n",
       "      <td>1.000000e+00</td>\n",
       "      <td>1.000000e+00</td>\n",
       "      <td>1.000000e+00</td>\n",
       "      <td>1.000000e+00</td>\n",
       "    </tr>\n",
       "  </tbody>\n",
       "</table>\n",
       "</div>"
      ],
      "text/plain": [
       "       subdomain_null_ind  subdomain_www_ind    length_url  length_domain  \\\n",
       "count        1.489889e+06       1.489889e+06  1.489889e+06   1.489889e+06   \n",
       "mean         3.058832e-01       5.160895e-01  7.131759e+01   1.140411e+01   \n",
       "std          4.607806e-01       4.997412e-01  4.372083e+01   5.131486e+00   \n",
       "min          0.000000e+00       0.000000e+00  0.000000e+00   0.000000e+00   \n",
       "25%          0.000000e+00       0.000000e+00  4.600000e+01   8.000000e+00   \n",
       "50%          0.000000e+00       1.000000e+00  6.200000e+01   1.100000e+01   \n",
       "75%          1.000000e+00       1.000000e+00  8.500000e+01   1.500000e+01   \n",
       "max          1.000000e+00       1.000000e+00  3.287000e+03   5.200000e+01   \n",
       "\n",
       "        length_path  domain_dot_cnt  url_slash_cnt  path_dot_cnt  \\\n",
       "count  1.489889e+06    1.489889e+06   1.489889e+06  1.489889e+06   \n",
       "mean   3.748538e+01    5.638004e-05   4.720105e+00  3.617189e-01   \n",
       "std    3.284613e+01    1.300527e-02   1.719464e+00  5.124572e-01   \n",
       "min    0.000000e+00    0.000000e+00   0.000000e+00  0.000000e+00   \n",
       "25%    1.600000e+01    0.000000e+00   4.000000e+00  0.000000e+00   \n",
       "50%    2.800000e+01    0.000000e+00   4.000000e+00  0.000000e+00   \n",
       "75%    5.000000e+01    0.000000e+00   5.000000e+00  1.000000e+00   \n",
       "max    1.787000e+03    3.000000e+00   3.800000e+01  1.300000e+01   \n",
       "\n",
       "       hostname_dash_cnt  url_digit_cnt  url_special_char_cnt  \\\n",
       "count       1.489889e+06   1.489889e+06          1.489889e+06   \n",
       "mean        1.095947e-01   5.939263e+00          2.021893e+01   \n",
       "std         3.838287e-01   1.050420e+01          2.403302e+01   \n",
       "min         0.000000e+00   0.000000e+00          0.000000e+00   \n",
       "25%         0.000000e+00   0.000000e+00          1.000000e+01   \n",
       "50%         0.000000e+00   3.000000e+00          1.500000e+01   \n",
       "75%         0.000000e+00   8.000000e+00          2.300000e+01   \n",
       "max         1.000000e+01   1.144000e+03          2.110000e+03   \n",
       "\n",
       "       url_reserved_char_cnt  url_hex_pattern_ind  hostname_entropy  \\\n",
       "count           1.489889e+06         1.489889e+06      1.489889e+06   \n",
       "mean            6.508359e+00         5.080848e-02      3.348631e+00   \n",
       "std             2.968818e+00         2.196065e-01      3.236509e-01   \n",
       "min             0.000000e+00         0.000000e+00     -0.000000e+00   \n",
       "25%             5.000000e+00         0.000000e+00      3.155639e+00   \n",
       "50%             6.000000e+00         0.000000e+00      3.375000e+00   \n",
       "75%             7.000000e+00         0.000000e+00      3.576618e+00   \n",
       "max             1.970000e+02         1.000000e+00      4.688499e+00   \n",
       "\n",
       "        url_entropy       php_ind     abuse_ind     admin_ind  \\\n",
       "count  1.489889e+06  1.489889e+06  1.489889e+06  1.489889e+06   \n",
       "mean   4.329695e+00  7.108382e-02  3.228428e-04  1.371243e-03   \n",
       "std    2.880826e-01  2.569649e-01  1.796493e-02  3.700491e-02   \n",
       "min    0.000000e+00  0.000000e+00  0.000000e+00  0.000000e+00   \n",
       "25%    4.139071e+00  0.000000e+00  0.000000e+00  0.000000e+00   \n",
       "50%    4.315312e+00  0.000000e+00  0.000000e+00  0.000000e+00   \n",
       "75%    4.512944e+00  0.000000e+00  0.000000e+00  0.000000e+00   \n",
       "max    6.028824e+00  1.000000e+00  1.000000e+00  1.000000e+00   \n",
       "\n",
       "       verification_ind  \n",
       "count      1.489889e+06  \n",
       "mean       3.423074e-05  \n",
       "std        5.850606e-03  \n",
       "min        0.000000e+00  \n",
       "25%        0.000000e+00  \n",
       "50%        0.000000e+00  \n",
       "75%        0.000000e+00  \n",
       "max        1.000000e+00  "
      ]
     },
     "execution_count": 11,
     "metadata": {},
     "output_type": "execute_result"
    }
   ],
   "source": [
    "df.describe()"
   ]
  },
  {
   "cell_type": "markdown",
   "metadata": {},
   "source": [
    "## Correlation plot"
   ]
  },
  {
   "cell_type": "code",
   "execution_count": null,
   "metadata": {},
   "outputs": [],
   "source": [
    "corr = df.corr()\n",
    "plt.figure(figsize=(8,6))\n",
    "sns.heatmap(corr)"
   ]
  },
  {
   "cell_type": "markdown",
   "metadata": {},
   "source": [
    "## Distros"
   ]
  },
  {
   "cell_type": "code",
   "execution_count": 24,
   "metadata": {},
   "outputs": [],
   "source": [
    "def plot_hist_overlay(col, n_bins=20):\n",
    "    val_min = df[col].min()\n",
    "    val_max = df[col].max()\n",
    "    \n",
    "    bins = np.linspace(val_min, val_max, n_bins)\n",
    "    plt.hist([good_df[col], bad_df[col]], bins, density=True, label=['good', 'bad'], alpha=0.5)\n",
    "    plt.legend()\n",
    "    plt.xlabel(col)\n",
    "    plt.ylabel('Fraction');"
   ]
  },
  {
   "cell_type": "code",
   "execution_count": 25,
   "metadata": {},
   "outputs": [
    {
     "data": {
      "image/png": "[encoded data removed]",
      "text/plain": [
       "<Figure size 432x288 with 1 Axes>"
      ]
     },
     "metadata": {
      "needs_background": "light"
     },
     "output_type": "display_data"
    }
   ],
   "source": [
    "plot_hist_overlay('url_entropy')"
   ]
  },
  {
   "cell_type": "code",
   "execution_count": 26,
   "metadata": {},
   "outputs": [
    {
     "data": {
      "image/png": "[encoded data removed]",
      "text/plain": [
       "<Figure size 432x288 with 1 Axes>"
      ]
     },
     "metadata": {
      "needs_background": "light"
     },
     "output_type": "display_data"
    }
   ],
   "source": [
    "plot_hist_overlay('hostname_entropy')"
   ]
  },
  {
   "cell_type": "code",
   "execution_count": 27,
   "metadata": {},
   "outputs": [
    {
     "data": {
      "image/png": "[encoded data removed]",
      "text/plain": [
       "<Figure size 432x288 with 1 Axes>"
      ]
     },
     "metadata": {
      "needs_background": "light"
     },
     "output_type": "display_data"
    }
   ],
   "source": [
    "plot_hist_overlay('length_url')"
   ]
  },
  {
   "cell_type": "code",
   "execution_count": 114,
   "metadata": {},
   "outputs": [
    {
     "data": {
      "image/png": "[encoded data removed]",
      "text/plain": [
       "<Figure size 432x288 with 1 Axes>"
      ]
     },
     "metadata": {
      "needs_background": "light"
     },
     "output_type": "display_data"
    }
   ],
   "source": [
    "plot_hist_overlay('domain_dot_cnt')"
   ]
  },
  {
   "cell_type": "code",
   "execution_count": 115,
   "metadata": {},
   "outputs": [
    {
     "data": {
      "text/plain": [
       "count    1488165.0\n",
       "mean           0.0\n",
       "std            0.0\n",
       "min            0.0\n",
       "25%            0.0\n",
       "50%            0.0\n",
       "75%            0.0\n",
       "max            0.0\n",
       "Name: domain_dot_cnt, dtype: float64"
      ]
     },
     "execution_count": 115,
     "metadata": {},
     "output_type": "execute_result"
    }
   ],
   "source": [
    "good_df['domain_dot_cnt'].describe()"
   ]
  },
  {
   "cell_type": "code",
   "execution_count": 116,
   "metadata": {},
   "outputs": [
    {
     "data": {
      "text/plain": [
       "count    1724.000000\n",
       "mean        0.048724\n",
       "std         0.379317\n",
       "min         0.000000\n",
       "25%         0.000000\n",
       "50%         0.000000\n",
       "75%         0.000000\n",
       "max         3.000000\n",
       "Name: domain_dot_cnt, dtype: float64"
      ]
     },
     "execution_count": 116,
     "metadata": {},
     "output_type": "execute_result"
    }
   ],
   "source": [
    "bad_df['domain_dot_cnt'].describe()"
   ]
  },
  {
   "cell_type": "code",
   "execution_count": 117,
   "metadata": {},
   "outputs": [
    {
     "data": {
      "image/png": "[encoded data removed]",
      "text/plain": [
       "<Figure size 432x288 with 1 Axes>"
      ]
     },
     "metadata": {
      "needs_background": "light"
     },
     "output_type": "display_data"
    }
   ],
   "source": [
    "plot_hist_overlay('hostname_entropy')"
   ]
  },
  {
   "cell_type": "code",
   "execution_count": 28,
   "metadata": {},
   "outputs": [],
   "source": [
    "from scipy import stats"
   ]
  },
  {
   "cell_type": "code",
   "execution_count": 30,
   "metadata": {},
   "outputs": [
    {
     "data": {
      "text/plain": [
       "Ttest_indResult(statistic=-4.36784739823145, pvalue=1.254855651051436e-05)"
      ]
     },
     "execution_count": 30,
     "metadata": {},
     "output_type": "execute_result"
    }
   ],
   "source": [
    "stats.ttest_ind(good_df['length_url'], bad_df['length_url'])"
   ]
  },
  {
   "cell_type": "code",
   "execution_count": 32,
   "metadata": {},
   "outputs": [],
   "source": [
    "num_cols = df.select_dtypes(exclude=['object'])\n",
    "non_cnt_cols = [col for col in num_cols if re.search('_ind', col) is None]"
   ]
  },
  {
   "cell_type": "code",
   "execution_count": 33,
   "metadata": {},
   "outputs": [],
   "source": [
    "res_dict = {}\n",
    "for col in non_cnt_cols:\n",
    "    res_dict[col] = stats.ttest_ind(good_df[col], bad_df[col])    "
   ]
  },
  {
   "cell_type": "code",
   "execution_count": 111,
   "metadata": {},
   "outputs": [],
   "source": [
    "res_df = pd.DataFrame(res_dict).T\n",
    "res_df.columns=['t-statistic', 'p-val']"
   ]
  },
  {
   "cell_type": "code",
   "execution_count": 112,
   "metadata": {},
   "outputs": [
    {
     "data": {
      "text/html": [
       "<div>\n",
       "<style scoped>\n",
       "    .dataframe tbody tr th:only-of-type {\n",
       "        vertical-align: middle;\n",
       "    }\n",
       "\n",
       "    .dataframe tbody tr th {\n",
       "        vertical-align: top;\n",
       "    }\n",
       "\n",
       "    .dataframe thead th {\n",
       "        text-align: right;\n",
       "    }\n",
       "</style>\n",
       "<table border=\"1\" class=\"dataframe\">\n",
       "  <thead>\n",
       "    <tr style=\"text-align: right;\">\n",
       "      <th></th>\n",
       "      <th>t-statistic</th>\n",
       "      <th>p-val</th>\n",
       "    </tr>\n",
       "  </thead>\n",
       "  <tbody>\n",
       "    <tr>\n",
       "      <th>url_entropy</th>\n",
       "      <td>-3.757208</td>\n",
       "      <td>1.718262e-04</td>\n",
       "    </tr>\n",
       "    <tr>\n",
       "      <th>length_url</th>\n",
       "      <td>-4.367847</td>\n",
       "      <td>1.254856e-05</td>\n",
       "    </tr>\n",
       "    <tr>\n",
       "      <th>length_domain</th>\n",
       "      <td>5.821820</td>\n",
       "      <td>5.822194e-09</td>\n",
       "    </tr>\n",
       "    <tr>\n",
       "      <th>length_path</th>\n",
       "      <td>6.282314</td>\n",
       "      <td>3.336629e-10</td>\n",
       "    </tr>\n",
       "    <tr>\n",
       "      <th>url_special_char_cnt</th>\n",
       "      <td>-9.512533</td>\n",
       "      <td>1.863369e-21</td>\n",
       "    </tr>\n",
       "    <tr>\n",
       "      <th>url_slash_cnt</th>\n",
       "      <td>-9.874366</td>\n",
       "      <td>5.385971e-23</td>\n",
       "    </tr>\n",
       "    <tr>\n",
       "      <th>url_reserved_char_cnt</th>\n",
       "      <td>-12.383939</td>\n",
       "      <td>3.205601e-35</td>\n",
       "    </tr>\n",
       "    <tr>\n",
       "      <th>hostname_entropy</th>\n",
       "      <td>-14.610979</td>\n",
       "      <td>2.409083e-48</td>\n",
       "    </tr>\n",
       "    <tr>\n",
       "      <th>path_dot_cnt</th>\n",
       "      <td>-15.255809</td>\n",
       "      <td>1.520024e-52</td>\n",
       "    </tr>\n",
       "    <tr>\n",
       "      <th>url_digit_cnt</th>\n",
       "      <td>-20.479707</td>\n",
       "      <td>3.364454e-93</td>\n",
       "    </tr>\n",
       "    <tr>\n",
       "      <th>hostname_dash_cnt</th>\n",
       "      <td>-21.604576</td>\n",
       "      <td>1.687586e-103</td>\n",
       "    </tr>\n",
       "    <tr>\n",
       "      <th>domain_dot_cnt</th>\n",
       "      <td>-156.744151</td>\n",
       "      <td>0.000000e+00</td>\n",
       "    </tr>\n",
       "  </tbody>\n",
       "</table>\n",
       "</div>"
      ],
      "text/plain": [
       "                       t-statistic          p-val\n",
       "url_entropy              -3.757208   1.718262e-04\n",
       "length_url               -4.367847   1.254856e-05\n",
       "length_domain             5.821820   5.822194e-09\n",
       "length_path               6.282314   3.336629e-10\n",
       "url_special_char_cnt     -9.512533   1.863369e-21\n",
       "url_slash_cnt            -9.874366   5.385971e-23\n",
       "url_reserved_char_cnt   -12.383939   3.205601e-35\n",
       "hostname_entropy        -14.610979   2.409083e-48\n",
       "path_dot_cnt            -15.255809   1.520024e-52\n",
       "url_digit_cnt           -20.479707   3.364454e-93\n",
       "hostname_dash_cnt       -21.604576  1.687586e-103\n",
       "domain_dot_cnt         -156.744151   0.000000e+00"
      ]
     },
     "execution_count": 112,
     "metadata": {},
     "output_type": "execute_result"
    }
   ],
   "source": [
    "res_df.sort_values(by='p-val', ascending=False)"
   ]
  },
  {
   "cell_type": "markdown",
   "metadata": {},
   "source": [
    "## Chi-Squared"
   ]
  },
  {
   "cell_type": "markdown",
   "metadata": {},
   "source": [
    "`chi2_contingency` computes chi-squared stastic and p-value for independence hypothesis test for a contingency table. A contingency table, or cross-tabulation, lists the observations by category. Guideline: observed & expected frequ > 5 (for all cells).\n",
    "\n",
    " \n",
    "\n",
    "Refs:\n",
    "\n",
    "- http://lagrange.univ-lyon1.fr/docs/scipy/0.17.1/generated/scipy.stats.chi2_contingency.html\n",
    "\n",
    "- https://en.wikipedia.org/wiki/Contingency_table\n"
   ]
  },
  {
   "cell_type": "code",
   "execution_count": 38,
   "metadata": {},
   "outputs": [],
   "source": [
    "from scipy.stats import chi2_contingency"
   ]
  },
  {
   "cell_type": "code",
   "execution_count": 103,
   "metadata": {},
   "outputs": [
    {
     "data": {
      "text/plain": [
       "Index(['url', 'label', 'subdomain', 'domain', 'suffix', 'hostname', 'path',\n",
       "       'query', 'subdomain_null_ind', 'subdomain_www_ind', 'length_url',\n",
       "       'length_domain', 'length_path', 'domain_dot_cnt', 'url_slash_cnt',\n",
       "       'path_dot_cnt', 'hostname_dash_cnt', 'url_digit_cnt',\n",
       "       'url_special_char_cnt', 'url_reserved_char_cnt', 'url_hex_pattern_ind',\n",
       "       'hostname_entropy', 'url_entropy', 'php_ind', 'abuse_ind', 'admin_ind',\n",
       "       'verification_ind', 'expanded_url', 'protocol'],\n",
       "      dtype='object')"
      ]
     },
     "execution_count": 103,
     "metadata": {},
     "output_type": "execute_result"
    }
   ],
   "source": [
    "df.columns"
   ]
  },
  {
   "cell_type": "code",
   "execution_count": 40,
   "metadata": {},
   "outputs": [],
   "source": [
    "bool_cols = [col for col in df.columns if re.search('_ind', col) is not None]"
   ]
  },
  {
   "cell_type": "code",
   "execution_count": 104,
   "metadata": {},
   "outputs": [],
   "source": [
    "conting_cols = ['suffix', 'protocol'] + bool_cols"
   ]
  },
  {
   "cell_type": "code",
   "execution_count": 43,
   "metadata": {},
   "outputs": [],
   "source": [
    "target = 'label'"
   ]
  },
  {
   "cell_type": "code",
   "execution_count": 105,
   "metadata": {},
   "outputs": [],
   "source": [
    "chi2_dict = {}\n",
    "\n",
    "for col in conting_cols:\n",
    "    col1 = col\n",
    "    col2 = target\n",
    "\n",
    "    crosstab = pd.crosstab(df[col1], df[col2])\n",
    "    chi_test = chi2_contingency(crosstab)\n",
    "    chi2 = chi_test[0]\n",
    "    n = crosstab.sum().sum()\n",
    "    phi2 = chi2/n\n",
    "    r,k = crosstab.shape\n",
    "    phi2corr = max(0, phi2-((k-1)*(r-1))/(n-1))\n",
    "    rcorr = r-((r-1)**2)/(n-1)\n",
    "    kcorr = k-((k-1)**2)/(n-1)\n",
    "    V = np.sqrt(phi2corr/min((kcorr-1),(rcorr-1)))\n",
    "    chi2_dict[col] = [np.round(chi_test[0],0), chi_test[1], V]"
   ]
  },
  {
   "cell_type": "code",
   "execution_count": 113,
   "metadata": {},
   "outputs": [
    {
     "data": {
      "image/png": "[encoded data removed]",
      "text/plain": [
       "<Figure size 576x360 with 1 Axes>"
      ]
     },
     "metadata": {
      "needs_background": "light"
     },
     "output_type": "display_data"
    }
   ],
   "source": [
    "res_list = [[x[0], x[1][2]] for x in list(chi2_dict.items())]\n",
    "res_list.sort(key=lambda x: x[-1])\n",
    "ns = range(len(res_list))\n",
    "labels = [x[0] for x in res_list]\n",
    "data = [x[1] for x in res_list]\n",
    "\n",
    "plt.figure(figsize=(8, 5))\n",
    "plt.barh(ns, data)\n",
    "plt.ylabel('Feature', fontsize=14)\n",
    "plt.yticks(ns, labels, fontsize=12)\n",
    "plt.xlabel('Cramers V', fontsize=14);"
   ]
  },
  {
   "cell_type": "markdown",
   "metadata": {},
   "source": [
    "### Investigate Suffix"
   ]
  },
  {
   "cell_type": "code",
   "execution_count": 48,
   "metadata": {},
   "outputs": [
    {
     "data": {
      "text/html": [
       "<div>\n",
       "<style scoped>\n",
       "    .dataframe tbody tr th:only-of-type {\n",
       "        vertical-align: middle;\n",
       "    }\n",
       "\n",
       "    .dataframe tbody tr th {\n",
       "        vertical-align: top;\n",
       "    }\n",
       "\n",
       "    .dataframe thead th {\n",
       "        text-align: right;\n",
       "    }\n",
       "</style>\n",
       "<table border=\"1\" class=\"dataframe\">\n",
       "  <thead>\n",
       "    <tr style=\"text-align: right;\">\n",
       "      <th>label</th>\n",
       "      <th>benign</th>\n",
       "      <th>phishing</th>\n",
       "    </tr>\n",
       "    <tr>\n",
       "      <th>suffix</th>\n",
       "      <th></th>\n",
       "      <th></th>\n",
       "    </tr>\n",
       "  </thead>\n",
       "  <tbody>\n",
       "    <tr>\n",
       "      <th></th>\n",
       "      <td>0</td>\n",
       "      <td>29</td>\n",
       "    </tr>\n",
       "    <tr>\n",
       "      <th>COM</th>\n",
       "      <td>2</td>\n",
       "      <td>0</td>\n",
       "    </tr>\n",
       "    <tr>\n",
       "      <th>ac.id</th>\n",
       "      <td>0</td>\n",
       "      <td>5</td>\n",
       "    </tr>\n",
       "    <tr>\n",
       "      <th>ac.ke</th>\n",
       "      <td>0</td>\n",
       "      <td>1</td>\n",
       "    </tr>\n",
       "    <tr>\n",
       "      <th>ac.th</th>\n",
       "      <td>0</td>\n",
       "      <td>8</td>\n",
       "    </tr>\n",
       "    <tr>\n",
       "      <th>ae</th>\n",
       "      <td>0</td>\n",
       "      <td>1</td>\n",
       "    </tr>\n",
       "    <tr>\n",
       "      <th>ai</th>\n",
       "      <td>0</td>\n",
       "      <td>1</td>\n",
       "    </tr>\n",
       "    <tr>\n",
       "      <th>al</th>\n",
       "      <td>0</td>\n",
       "      <td>1</td>\n",
       "    </tr>\n",
       "    <tr>\n",
       "      <th>am</th>\n",
       "      <td>0</td>\n",
       "      <td>1</td>\n",
       "    </tr>\n",
       "    <tr>\n",
       "      <th>app</th>\n",
       "      <td>0</td>\n",
       "      <td>35</td>\n",
       "    </tr>\n",
       "    <tr>\n",
       "      <th>asia</th>\n",
       "      <td>0</td>\n",
       "      <td>4</td>\n",
       "    </tr>\n",
       "    <tr>\n",
       "      <th>at</th>\n",
       "      <td>0</td>\n",
       "      <td>1</td>\n",
       "    </tr>\n",
       "    <tr>\n",
       "      <th>be</th>\n",
       "      <td>0</td>\n",
       "      <td>8</td>\n",
       "    </tr>\n",
       "    <tr>\n",
       "      <th>berlin</th>\n",
       "      <td>0</td>\n",
       "      <td>1</td>\n",
       "    </tr>\n",
       "    <tr>\n",
       "      <th>biz</th>\n",
       "      <td>0</td>\n",
       "      <td>2</td>\n",
       "    </tr>\n",
       "    <tr>\n",
       "      <th>br</th>\n",
       "      <td>0</td>\n",
       "      <td>1</td>\n",
       "    </tr>\n",
       "    <tr>\n",
       "      <th>by</th>\n",
       "      <td>0</td>\n",
       "      <td>4</td>\n",
       "    </tr>\n",
       "    <tr>\n",
       "      <th>bz</th>\n",
       "      <td>0</td>\n",
       "      <td>1</td>\n",
       "    </tr>\n",
       "    <tr>\n",
       "      <th>ca</th>\n",
       "      <td>0</td>\n",
       "      <td>6</td>\n",
       "    </tr>\n",
       "    <tr>\n",
       "      <th>cam</th>\n",
       "      <td>0</td>\n",
       "      <td>1</td>\n",
       "    </tr>\n",
       "    <tr>\n",
       "      <th>cc</th>\n",
       "      <td>0</td>\n",
       "      <td>15</td>\n",
       "    </tr>\n",
       "    <tr>\n",
       "      <th>cl</th>\n",
       "      <td>0</td>\n",
       "      <td>9</td>\n",
       "    </tr>\n",
       "    <tr>\n",
       "      <th>clinic</th>\n",
       "      <td>0</td>\n",
       "      <td>1</td>\n",
       "    </tr>\n",
       "    <tr>\n",
       "      <th>club</th>\n",
       "      <td>0</td>\n",
       "      <td>5</td>\n",
       "    </tr>\n",
       "    <tr>\n",
       "      <th>cm</th>\n",
       "      <td>0</td>\n",
       "      <td>2</td>\n",
       "    </tr>\n",
       "    <tr>\n",
       "      <th>cn</th>\n",
       "      <td>0</td>\n",
       "      <td>17</td>\n",
       "    </tr>\n",
       "    <tr>\n",
       "      <th>co</th>\n",
       "      <td>0</td>\n",
       "      <td>10</td>\n",
       "    </tr>\n",
       "    <tr>\n",
       "      <th>co.ao</th>\n",
       "      <td>0</td>\n",
       "      <td>2</td>\n",
       "    </tr>\n",
       "    <tr>\n",
       "      <th>co.id</th>\n",
       "      <td>0</td>\n",
       "      <td>3</td>\n",
       "    </tr>\n",
       "    <tr>\n",
       "      <th>co.il</th>\n",
       "      <td>0</td>\n",
       "      <td>2</td>\n",
       "    </tr>\n",
       "    <tr>\n",
       "      <th>co.in</th>\n",
       "      <td>0</td>\n",
       "      <td>1</td>\n",
       "    </tr>\n",
       "    <tr>\n",
       "      <th>co.jp</th>\n",
       "      <td>0</td>\n",
       "      <td>1</td>\n",
       "    </tr>\n",
       "    <tr>\n",
       "      <th>co.ke</th>\n",
       "      <td>0</td>\n",
       "      <td>1</td>\n",
       "    </tr>\n",
       "    <tr>\n",
       "      <th>co.kr</th>\n",
       "      <td>0</td>\n",
       "      <td>3</td>\n",
       "    </tr>\n",
       "    <tr>\n",
       "      <th>co.nz</th>\n",
       "      <td>0</td>\n",
       "      <td>1</td>\n",
       "    </tr>\n",
       "    <tr>\n",
       "      <th>co.uk</th>\n",
       "      <td>0</td>\n",
       "      <td>13</td>\n",
       "    </tr>\n",
       "    <tr>\n",
       "      <th>co.za</th>\n",
       "      <td>0</td>\n",
       "      <td>6</td>\n",
       "    </tr>\n",
       "    <tr>\n",
       "      <th>co.zw</th>\n",
       "      <td>0</td>\n",
       "      <td>1</td>\n",
       "    </tr>\n",
       "    <tr>\n",
       "      <th>com</th>\n",
       "      <td>1488163</td>\n",
       "      <td>956</td>\n",
       "    </tr>\n",
       "    <tr>\n",
       "      <th>com.ar</th>\n",
       "      <td>0</td>\n",
       "      <td>2</td>\n",
       "    </tr>\n",
       "    <tr>\n",
       "      <th>com.au</th>\n",
       "      <td>0</td>\n",
       "      <td>12</td>\n",
       "    </tr>\n",
       "    <tr>\n",
       "      <th>com.br</th>\n",
       "      <td>0</td>\n",
       "      <td>30</td>\n",
       "    </tr>\n",
       "    <tr>\n",
       "      <th>com.co</th>\n",
       "      <td>0</td>\n",
       "      <td>2</td>\n",
       "    </tr>\n",
       "    <tr>\n",
       "      <th>com.gt</th>\n",
       "      <td>0</td>\n",
       "      <td>1</td>\n",
       "    </tr>\n",
       "    <tr>\n",
       "      <th>com.mx</th>\n",
       "      <td>0</td>\n",
       "      <td>1</td>\n",
       "    </tr>\n",
       "    <tr>\n",
       "      <th>com.my</th>\n",
       "      <td>0</td>\n",
       "      <td>1</td>\n",
       "    </tr>\n",
       "    <tr>\n",
       "      <th>com.ng</th>\n",
       "      <td>0</td>\n",
       "      <td>1</td>\n",
       "    </tr>\n",
       "    <tr>\n",
       "      <th>com.np</th>\n",
       "      <td>0</td>\n",
       "      <td>2</td>\n",
       "    </tr>\n",
       "    <tr>\n",
       "      <th>com.pk</th>\n",
       "      <td>0</td>\n",
       "      <td>2</td>\n",
       "    </tr>\n",
       "    <tr>\n",
       "      <th>com.pl</th>\n",
       "      <td>0</td>\n",
       "      <td>1</td>\n",
       "    </tr>\n",
       "    <tr>\n",
       "      <th>...</th>\n",
       "      <td>...</td>\n",
       "      <td>...</td>\n",
       "    </tr>\n",
       "    <tr>\n",
       "      <th>mu</th>\n",
       "      <td>0</td>\n",
       "      <td>1</td>\n",
       "    </tr>\n",
       "    <tr>\n",
       "      <th>mx</th>\n",
       "      <td>0</td>\n",
       "      <td>10</td>\n",
       "    </tr>\n",
       "    <tr>\n",
       "      <th>name</th>\n",
       "      <td>0</td>\n",
       "      <td>1</td>\n",
       "    </tr>\n",
       "    <tr>\n",
       "      <th>net</th>\n",
       "      <td>0</td>\n",
       "      <td>73</td>\n",
       "    </tr>\n",
       "    <tr>\n",
       "      <th>nl</th>\n",
       "      <td>0</td>\n",
       "      <td>2</td>\n",
       "    </tr>\n",
       "    <tr>\n",
       "      <th>nu</th>\n",
       "      <td>0</td>\n",
       "      <td>1</td>\n",
       "    </tr>\n",
       "    <tr>\n",
       "      <th>online</th>\n",
       "      <td>0</td>\n",
       "      <td>1</td>\n",
       "    </tr>\n",
       "    <tr>\n",
       "      <th>org</th>\n",
       "      <td>0</td>\n",
       "      <td>34</td>\n",
       "    </tr>\n",
       "    <tr>\n",
       "      <th>org.au</th>\n",
       "      <td>0</td>\n",
       "      <td>2</td>\n",
       "    </tr>\n",
       "    <tr>\n",
       "      <th>org.br</th>\n",
       "      <td>0</td>\n",
       "      <td>1</td>\n",
       "    </tr>\n",
       "    <tr>\n",
       "      <th>org.in</th>\n",
       "      <td>0</td>\n",
       "      <td>1</td>\n",
       "    </tr>\n",
       "    <tr>\n",
       "      <th>org.np</th>\n",
       "      <td>0</td>\n",
       "      <td>1</td>\n",
       "    </tr>\n",
       "    <tr>\n",
       "      <th>org.sv</th>\n",
       "      <td>0</td>\n",
       "      <td>1</td>\n",
       "    </tr>\n",
       "    <tr>\n",
       "      <th>org.uk</th>\n",
       "      <td>0</td>\n",
       "      <td>1</td>\n",
       "    </tr>\n",
       "    <tr>\n",
       "      <th>page</th>\n",
       "      <td>0</td>\n",
       "      <td>1</td>\n",
       "    </tr>\n",
       "    <tr>\n",
       "      <th>ph</th>\n",
       "      <td>0</td>\n",
       "      <td>1</td>\n",
       "    </tr>\n",
       "    <tr>\n",
       "      <th>pk</th>\n",
       "      <td>0</td>\n",
       "      <td>1</td>\n",
       "    </tr>\n",
       "    <tr>\n",
       "      <th>pl</th>\n",
       "      <td>0</td>\n",
       "      <td>15</td>\n",
       "    </tr>\n",
       "    <tr>\n",
       "      <th>pro</th>\n",
       "      <td>0</td>\n",
       "      <td>5</td>\n",
       "    </tr>\n",
       "    <tr>\n",
       "      <th>pt</th>\n",
       "      <td>0</td>\n",
       "      <td>1</td>\n",
       "    </tr>\n",
       "    <tr>\n",
       "      <th>re</th>\n",
       "      <td>0</td>\n",
       "      <td>1</td>\n",
       "    </tr>\n",
       "    <tr>\n",
       "      <th>realty</th>\n",
       "      <td>0</td>\n",
       "      <td>1</td>\n",
       "    </tr>\n",
       "    <tr>\n",
       "      <th>ro</th>\n",
       "      <td>0</td>\n",
       "      <td>6</td>\n",
       "    </tr>\n",
       "    <tr>\n",
       "      <th>rs</th>\n",
       "      <td>0</td>\n",
       "      <td>3</td>\n",
       "    </tr>\n",
       "    <tr>\n",
       "      <th>ru</th>\n",
       "      <td>0</td>\n",
       "      <td>55</td>\n",
       "    </tr>\n",
       "    <tr>\n",
       "      <th>sch.id</th>\n",
       "      <td>0</td>\n",
       "      <td>1</td>\n",
       "    </tr>\n",
       "    <tr>\n",
       "      <th>se</th>\n",
       "      <td>0</td>\n",
       "      <td>12</td>\n",
       "    </tr>\n",
       "    <tr>\n",
       "      <th>shopping</th>\n",
       "      <td>0</td>\n",
       "      <td>1</td>\n",
       "    </tr>\n",
       "    <tr>\n",
       "      <th>si</th>\n",
       "      <td>0</td>\n",
       "      <td>1</td>\n",
       "    </tr>\n",
       "    <tr>\n",
       "      <th>site</th>\n",
       "      <td>0</td>\n",
       "      <td>11</td>\n",
       "    </tr>\n",
       "    <tr>\n",
       "      <th>sk</th>\n",
       "      <td>0</td>\n",
       "      <td>3</td>\n",
       "    </tr>\n",
       "    <tr>\n",
       "      <th>space</th>\n",
       "      <td>0</td>\n",
       "      <td>3</td>\n",
       "    </tr>\n",
       "    <tr>\n",
       "      <th>su</th>\n",
       "      <td>0</td>\n",
       "      <td>2</td>\n",
       "    </tr>\n",
       "    <tr>\n",
       "      <th>support</th>\n",
       "      <td>0</td>\n",
       "      <td>2</td>\n",
       "    </tr>\n",
       "    <tr>\n",
       "      <th>tech</th>\n",
       "      <td>0</td>\n",
       "      <td>3</td>\n",
       "    </tr>\n",
       "    <tr>\n",
       "      <th>tk</th>\n",
       "      <td>0</td>\n",
       "      <td>1</td>\n",
       "    </tr>\n",
       "    <tr>\n",
       "      <th>tl</th>\n",
       "      <td>0</td>\n",
       "      <td>2</td>\n",
       "    </tr>\n",
       "    <tr>\n",
       "      <th>to</th>\n",
       "      <td>0</td>\n",
       "      <td>3</td>\n",
       "    </tr>\n",
       "    <tr>\n",
       "      <th>top</th>\n",
       "      <td>0</td>\n",
       "      <td>13</td>\n",
       "    </tr>\n",
       "    <tr>\n",
       "      <th>uk</th>\n",
       "      <td>0</td>\n",
       "      <td>1</td>\n",
       "    </tr>\n",
       "    <tr>\n",
       "      <th>us</th>\n",
       "      <td>0</td>\n",
       "      <td>6</td>\n",
       "    </tr>\n",
       "    <tr>\n",
       "      <th>uy</th>\n",
       "      <td>0</td>\n",
       "      <td>1</td>\n",
       "    </tr>\n",
       "    <tr>\n",
       "      <th>vn</th>\n",
       "      <td>0</td>\n",
       "      <td>6</td>\n",
       "    </tr>\n",
       "    <tr>\n",
       "      <th>website</th>\n",
       "      <td>0</td>\n",
       "      <td>3</td>\n",
       "    </tr>\n",
       "    <tr>\n",
       "      <th>wf</th>\n",
       "      <td>0</td>\n",
       "      <td>1</td>\n",
       "    </tr>\n",
       "    <tr>\n",
       "      <th>work</th>\n",
       "      <td>0</td>\n",
       "      <td>2</td>\n",
       "    </tr>\n",
       "    <tr>\n",
       "      <th>world</th>\n",
       "      <td>0</td>\n",
       "      <td>1</td>\n",
       "    </tr>\n",
       "    <tr>\n",
       "      <th>ws</th>\n",
       "      <td>0</td>\n",
       "      <td>1</td>\n",
       "    </tr>\n",
       "    <tr>\n",
       "      <th>xyz</th>\n",
       "      <td>0</td>\n",
       "      <td>5</td>\n",
       "    </tr>\n",
       "    <tr>\n",
       "      <th>zone</th>\n",
       "      <td>0</td>\n",
       "      <td>1</td>\n",
       "    </tr>\n",
       "  </tbody>\n",
       "</table>\n",
       "<p>148 rows × 2 columns</p>\n",
       "</div>"
      ],
      "text/plain": [
       "label      benign  phishing\n",
       "suffix                     \n",
       "                0        29\n",
       "COM             2         0\n",
       "ac.id           0         5\n",
       "ac.ke           0         1\n",
       "ac.th           0         8\n",
       "ae              0         1\n",
       "ai              0         1\n",
       "al              0         1\n",
       "am              0         1\n",
       "app             0        35\n",
       "asia            0         4\n",
       "at              0         1\n",
       "be              0         8\n",
       "berlin          0         1\n",
       "biz             0         2\n",
       "br              0         1\n",
       "by              0         4\n",
       "bz              0         1\n",
       "ca              0         6\n",
       "cam             0         1\n",
       "cc              0        15\n",
       "cl              0         9\n",
       "clinic          0         1\n",
       "club            0         5\n",
       "cm              0         2\n",
       "cn              0        17\n",
       "co              0        10\n",
       "co.ao           0         2\n",
       "co.id           0         3\n",
       "co.il           0         2\n",
       "co.in           0         1\n",
       "co.jp           0         1\n",
       "co.ke           0         1\n",
       "co.kr           0         3\n",
       "co.nz           0         1\n",
       "co.uk           0        13\n",
       "co.za           0         6\n",
       "co.zw           0         1\n",
       "com       1488163       956\n",
       "com.ar          0         2\n",
       "com.au          0        12\n",
       "com.br          0        30\n",
       "com.co          0         2\n",
       "com.gt          0         1\n",
       "com.mx          0         1\n",
       "com.my          0         1\n",
       "com.ng          0         1\n",
       "com.np          0         2\n",
       "com.pk          0         2\n",
       "com.pl          0         1\n",
       "...           ...       ...\n",
       "mu              0         1\n",
       "mx              0        10\n",
       "name            0         1\n",
       "net             0        73\n",
       "nl              0         2\n",
       "nu              0         1\n",
       "online          0         1\n",
       "org             0        34\n",
       "org.au          0         2\n",
       "org.br          0         1\n",
       "org.in          0         1\n",
       "org.np          0         1\n",
       "org.sv          0         1\n",
       "org.uk          0         1\n",
       "page            0         1\n",
       "ph              0         1\n",
       "pk              0         1\n",
       "pl              0        15\n",
       "pro             0         5\n",
       "pt              0         1\n",
       "re              0         1\n",
       "realty          0         1\n",
       "ro              0         6\n",
       "rs              0         3\n",
       "ru              0        55\n",
       "sch.id          0         1\n",
       "se              0        12\n",
       "shopping        0         1\n",
       "si              0         1\n",
       "site            0        11\n",
       "sk              0         3\n",
       "space           0         3\n",
       "su              0         2\n",
       "support         0         2\n",
       "tech            0         3\n",
       "tk              0         1\n",
       "tl              0         2\n",
       "to              0         3\n",
       "top             0        13\n",
       "uk              0         1\n",
       "us              0         6\n",
       "uy              0         1\n",
       "vn              0         6\n",
       "website         0         3\n",
       "wf              0         1\n",
       "work            0         2\n",
       "world           0         1\n",
       "ws              0         1\n",
       "xyz             0         5\n",
       "zone            0         1\n",
       "\n",
       "[148 rows x 2 columns]"
      ]
     },
     "execution_count": 48,
     "metadata": {},
     "output_type": "execute_result"
    }
   ],
   "source": [
    "col1 = 'suffix'\n",
    "col2 = target\n",
    "\n",
    "crosstab = pd.crosstab(df[col1], df[col2])\n",
    "crosstab"
   ]
  },
  {
   "cell_type": "code",
   "execution_count": 49,
   "metadata": {},
   "outputs": [
    {
     "data": {
      "text/plain": [
       "148"
      ]
     },
     "execution_count": 49,
     "metadata": {},
     "output_type": "execute_result"
    }
   ],
   "source": [
    "len(crosstab)"
   ]
  },
  {
   "cell_type": "code",
   "execution_count": 59,
   "metadata": {},
   "outputs": [
    {
     "data": {
      "text/html": [
       "<div>\n",
       "<style scoped>\n",
       "    .dataframe tbody tr th:only-of-type {\n",
       "        vertical-align: middle;\n",
       "    }\n",
       "\n",
       "    .dataframe tbody tr th {\n",
       "        vertical-align: top;\n",
       "    }\n",
       "\n",
       "    .dataframe thead th {\n",
       "        text-align: right;\n",
       "    }\n",
       "</style>\n",
       "<table border=\"1\" class=\"dataframe\">\n",
       "  <thead>\n",
       "    <tr style=\"text-align: right;\">\n",
       "      <th>label</th>\n",
       "      <th>benign</th>\n",
       "      <th>phishing</th>\n",
       "    </tr>\n",
       "    <tr>\n",
       "      <th>suffix</th>\n",
       "      <th></th>\n",
       "      <th></th>\n",
       "    </tr>\n",
       "  </thead>\n",
       "  <tbody>\n",
       "    <tr>\n",
       "      <th>name</th>\n",
       "      <td>0</td>\n",
       "      <td>1</td>\n",
       "    </tr>\n",
       "    <tr>\n",
       "      <th>net</th>\n",
       "      <td>0</td>\n",
       "      <td>73</td>\n",
       "    </tr>\n",
       "    <tr>\n",
       "      <th>nl</th>\n",
       "      <td>0</td>\n",
       "      <td>2</td>\n",
       "    </tr>\n",
       "    <tr>\n",
       "      <th>nu</th>\n",
       "      <td>0</td>\n",
       "      <td>1</td>\n",
       "    </tr>\n",
       "    <tr>\n",
       "      <th>online</th>\n",
       "      <td>0</td>\n",
       "      <td>1</td>\n",
       "    </tr>\n",
       "    <tr>\n",
       "      <th>org</th>\n",
       "      <td>0</td>\n",
       "      <td>34</td>\n",
       "    </tr>\n",
       "    <tr>\n",
       "      <th>org.au</th>\n",
       "      <td>0</td>\n",
       "      <td>2</td>\n",
       "    </tr>\n",
       "    <tr>\n",
       "      <th>org.br</th>\n",
       "      <td>0</td>\n",
       "      <td>1</td>\n",
       "    </tr>\n",
       "    <tr>\n",
       "      <th>org.in</th>\n",
       "      <td>0</td>\n",
       "      <td>1</td>\n",
       "    </tr>\n",
       "    <tr>\n",
       "      <th>org.np</th>\n",
       "      <td>0</td>\n",
       "      <td>1</td>\n",
       "    </tr>\n",
       "    <tr>\n",
       "      <th>org.sv</th>\n",
       "      <td>0</td>\n",
       "      <td>1</td>\n",
       "    </tr>\n",
       "    <tr>\n",
       "      <th>org.uk</th>\n",
       "      <td>0</td>\n",
       "      <td>1</td>\n",
       "    </tr>\n",
       "    <tr>\n",
       "      <th>page</th>\n",
       "      <td>0</td>\n",
       "      <td>1</td>\n",
       "    </tr>\n",
       "    <tr>\n",
       "      <th>ph</th>\n",
       "      <td>0</td>\n",
       "      <td>1</td>\n",
       "    </tr>\n",
       "    <tr>\n",
       "      <th>pk</th>\n",
       "      <td>0</td>\n",
       "      <td>1</td>\n",
       "    </tr>\n",
       "    <tr>\n",
       "      <th>pl</th>\n",
       "      <td>0</td>\n",
       "      <td>15</td>\n",
       "    </tr>\n",
       "    <tr>\n",
       "      <th>pro</th>\n",
       "      <td>0</td>\n",
       "      <td>5</td>\n",
       "    </tr>\n",
       "    <tr>\n",
       "      <th>pt</th>\n",
       "      <td>0</td>\n",
       "      <td>1</td>\n",
       "    </tr>\n",
       "    <tr>\n",
       "      <th>re</th>\n",
       "      <td>0</td>\n",
       "      <td>1</td>\n",
       "    </tr>\n",
       "    <tr>\n",
       "      <th>realty</th>\n",
       "      <td>0</td>\n",
       "      <td>1</td>\n",
       "    </tr>\n",
       "    <tr>\n",
       "      <th>ro</th>\n",
       "      <td>0</td>\n",
       "      <td>6</td>\n",
       "    </tr>\n",
       "    <tr>\n",
       "      <th>rs</th>\n",
       "      <td>0</td>\n",
       "      <td>3</td>\n",
       "    </tr>\n",
       "    <tr>\n",
       "      <th>ru</th>\n",
       "      <td>0</td>\n",
       "      <td>55</td>\n",
       "    </tr>\n",
       "    <tr>\n",
       "      <th>sch.id</th>\n",
       "      <td>0</td>\n",
       "      <td>1</td>\n",
       "    </tr>\n",
       "    <tr>\n",
       "      <th>se</th>\n",
       "      <td>0</td>\n",
       "      <td>12</td>\n",
       "    </tr>\n",
       "    <tr>\n",
       "      <th>shopping</th>\n",
       "      <td>0</td>\n",
       "      <td>1</td>\n",
       "    </tr>\n",
       "    <tr>\n",
       "      <th>si</th>\n",
       "      <td>0</td>\n",
       "      <td>1</td>\n",
       "    </tr>\n",
       "    <tr>\n",
       "      <th>site</th>\n",
       "      <td>0</td>\n",
       "      <td>11</td>\n",
       "    </tr>\n",
       "    <tr>\n",
       "      <th>sk</th>\n",
       "      <td>0</td>\n",
       "      <td>3</td>\n",
       "    </tr>\n",
       "    <tr>\n",
       "      <th>space</th>\n",
       "      <td>0</td>\n",
       "      <td>3</td>\n",
       "    </tr>\n",
       "    <tr>\n",
       "      <th>su</th>\n",
       "      <td>0</td>\n",
       "      <td>2</td>\n",
       "    </tr>\n",
       "    <tr>\n",
       "      <th>support</th>\n",
       "      <td>0</td>\n",
       "      <td>2</td>\n",
       "    </tr>\n",
       "    <tr>\n",
       "      <th>tech</th>\n",
       "      <td>0</td>\n",
       "      <td>3</td>\n",
       "    </tr>\n",
       "    <tr>\n",
       "      <th>tk</th>\n",
       "      <td>0</td>\n",
       "      <td>1</td>\n",
       "    </tr>\n",
       "    <tr>\n",
       "      <th>tl</th>\n",
       "      <td>0</td>\n",
       "      <td>2</td>\n",
       "    </tr>\n",
       "    <tr>\n",
       "      <th>to</th>\n",
       "      <td>0</td>\n",
       "      <td>3</td>\n",
       "    </tr>\n",
       "    <tr>\n",
       "      <th>top</th>\n",
       "      <td>0</td>\n",
       "      <td>13</td>\n",
       "    </tr>\n",
       "    <tr>\n",
       "      <th>uk</th>\n",
       "      <td>0</td>\n",
       "      <td>1</td>\n",
       "    </tr>\n",
       "    <tr>\n",
       "      <th>us</th>\n",
       "      <td>0</td>\n",
       "      <td>6</td>\n",
       "    </tr>\n",
       "    <tr>\n",
       "      <th>uy</th>\n",
       "      <td>0</td>\n",
       "      <td>1</td>\n",
       "    </tr>\n",
       "    <tr>\n",
       "      <th>vn</th>\n",
       "      <td>0</td>\n",
       "      <td>6</td>\n",
       "    </tr>\n",
       "    <tr>\n",
       "      <th>website</th>\n",
       "      <td>0</td>\n",
       "      <td>3</td>\n",
       "    </tr>\n",
       "    <tr>\n",
       "      <th>wf</th>\n",
       "      <td>0</td>\n",
       "      <td>1</td>\n",
       "    </tr>\n",
       "    <tr>\n",
       "      <th>work</th>\n",
       "      <td>0</td>\n",
       "      <td>2</td>\n",
       "    </tr>\n",
       "    <tr>\n",
       "      <th>world</th>\n",
       "      <td>0</td>\n",
       "      <td>1</td>\n",
       "    </tr>\n",
       "    <tr>\n",
       "      <th>ws</th>\n",
       "      <td>0</td>\n",
       "      <td>1</td>\n",
       "    </tr>\n",
       "    <tr>\n",
       "      <th>xyz</th>\n",
       "      <td>0</td>\n",
       "      <td>5</td>\n",
       "    </tr>\n",
       "    <tr>\n",
       "      <th>zone</th>\n",
       "      <td>0</td>\n",
       "      <td>1</td>\n",
       "    </tr>\n",
       "  </tbody>\n",
       "</table>\n",
       "</div>"
      ],
      "text/plain": [
       "label     benign  phishing\n",
       "suffix                    \n",
       "name           0         1\n",
       "net            0        73\n",
       "nl             0         2\n",
       "nu             0         1\n",
       "online         0         1\n",
       "org            0        34\n",
       "org.au         0         2\n",
       "org.br         0         1\n",
       "org.in         0         1\n",
       "org.np         0         1\n",
       "org.sv         0         1\n",
       "org.uk         0         1\n",
       "page           0         1\n",
       "ph             0         1\n",
       "pk             0         1\n",
       "pl             0        15\n",
       "pro            0         5\n",
       "pt             0         1\n",
       "re             0         1\n",
       "realty         0         1\n",
       "ro             0         6\n",
       "rs             0         3\n",
       "ru             0        55\n",
       "sch.id         0         1\n",
       "se             0        12\n",
       "shopping       0         1\n",
       "si             0         1\n",
       "site           0        11\n",
       "sk             0         3\n",
       "space          0         3\n",
       "su             0         2\n",
       "support        0         2\n",
       "tech           0         3\n",
       "tk             0         1\n",
       "tl             0         2\n",
       "to             0         3\n",
       "top            0        13\n",
       "uk             0         1\n",
       "us             0         6\n",
       "uy             0         1\n",
       "vn             0         6\n",
       "website        0         3\n",
       "wf             0         1\n",
       "work           0         2\n",
       "world          0         1\n",
       "ws             0         1\n",
       "xyz            0         5\n",
       "zone           0         1"
      ]
     },
     "execution_count": 59,
     "metadata": {},
     "output_type": "execute_result"
    }
   ],
   "source": [
    "crosstab[100:]"
   ]
  },
  {
   "cell_type": "code",
   "execution_count": 60,
   "metadata": {},
   "outputs": [
    {
     "data": {
      "text/plain": [
       "com    1488163\n",
       "COM          2\n",
       "Name: suffix, dtype: int64"
      ]
     },
     "execution_count": 60,
     "metadata": {},
     "output_type": "execute_result"
    }
   ],
   "source": [
    "good_df['suffix'].value_counts(dropna=False)"
   ]
  },
  {
   "cell_type": "code",
   "execution_count": 118,
   "metadata": {},
   "outputs": [
    {
     "data": {
      "text/plain": [
       "com         0.554524\n",
       "net         0.042343\n",
       "ru          0.031903\n",
       "app         0.020302\n",
       "org         0.019722\n",
       "com.br      0.017401\n",
       "            0.016821\n",
       "ly          0.011601\n",
       "cn          0.009861\n",
       "in          0.009861\n",
       "cc          0.008701\n",
       "pl          0.008701\n",
       "de          0.008121\n",
       "co.uk       0.007541\n",
       "top         0.007541\n",
       "se          0.006961\n",
       "com.au      0.006961\n",
       "fr          0.006381\n",
       "info        0.006381\n",
       "site        0.006381\n",
       "com.tr      0.006381\n",
       "mx          0.005800\n",
       "co          0.005800\n",
       "cl          0.005220\n",
       "es          0.005220\n",
       "ac.th       0.004640\n",
       "me          0.004640\n",
       "be          0.004640\n",
       "it          0.004640\n",
       "ml          0.004640\n",
       "io          0.004060\n",
       "cz          0.004060\n",
       "co.za       0.003480\n",
       "icu         0.003480\n",
       "us          0.003480\n",
       "vn          0.003480\n",
       "ir          0.003480\n",
       "ca          0.003480\n",
       "ro          0.003480\n",
       "id          0.003480\n",
       "ac.id       0.002900\n",
       "pro         0.002900\n",
       "club        0.002900\n",
       "ga          0.002900\n",
       "xyz         0.002900\n",
       "by          0.002320\n",
       "com.ua      0.002320\n",
       "asia        0.002320\n",
       "gle         0.002320\n",
       "ms          0.001740\n",
       "              ...   \n",
       "gdn         0.000580\n",
       "re          0.000580\n",
       "name        0.000580\n",
       "edu.au      0.000580\n",
       "life        0.000580\n",
       "ac.ke       0.000580\n",
       "co.in       0.000580\n",
       "berlin      0.000580\n",
       "org.np      0.000580\n",
       "kr          0.000580\n",
       "ws          0.000580\n",
       "li          0.000580\n",
       "ind.br      0.000580\n",
       "org.br      0.000580\n",
       "com.pl      0.000580\n",
       "edu.tr      0.000580\n",
       "org.uk      0.000580\n",
       "edu.pl      0.000580\n",
       "page        0.000580\n",
       "zone        0.000580\n",
       "clinic      0.000580\n",
       "do          0.000580\n",
       "online      0.000580\n",
       "edu.ar      0.000580\n",
       "md          0.000580\n",
       "co.nz       0.000580\n",
       "kz          0.000580\n",
       "pt          0.000580\n",
       "at          0.000580\n",
       "org.in      0.000580\n",
       "mu          0.000580\n",
       "ae          0.000580\n",
       "edu.ph      0.000580\n",
       "com.my      0.000580\n",
       "hosting     0.000580\n",
       "ph          0.000580\n",
       "gg          0.000580\n",
       "cv          0.000580\n",
       "realty      0.000580\n",
       "org.sv      0.000580\n",
       "sch.id      0.000580\n",
       "uk          0.000580\n",
       "monster     0.000580\n",
       "shopping    0.000580\n",
       "com.mx      0.000580\n",
       "ai          0.000580\n",
       "mk.ua       0.000580\n",
       "am          0.000580\n",
       "com.tw      0.000580\n",
       "bz          0.000580\n",
       "Name: suffix, Length: 147, dtype: float64"
      ]
     },
     "execution_count": 118,
     "metadata": {},
     "output_type": "execute_result"
    }
   ],
   "source": [
    "bad_df['suffix'].value_counts(1, dropna=False)"
   ]
  },
  {
   "cell_type": "markdown",
   "metadata": {},
   "source": [
    "It appears I have only pulled in '.com' URLs from the CommonCrawl.\n",
    "- Which index files contain other TLD's?\n",
    "- Is there an efficient way to pull a subset from each of the 300+ cc_index files?\n",
    "    - This would still entail downloading and extracting each of the files, which is time-consuming."
   ]
  },
  {
   "cell_type": "markdown",
   "metadata": {},
   "source": [
    "Other #TODO:\n",
    "- apply lower-case \n",
    "- expand .ly URLs"
   ]
  },
  {
   "cell_type": "code",
   "execution_count": 61,
   "metadata": {},
   "outputs": [
    {
     "data": {
      "text/plain": [
       "20"
      ]
     },
     "execution_count": 61,
     "metadata": {},
     "output_type": "execute_result"
    }
   ],
   "source": [
    "len(df[df['suffix'] == 'ly'])"
   ]
  },
  {
   "cell_type": "code",
   "execution_count": 62,
   "metadata": {},
   "outputs": [],
   "source": [
    "# df['short_url'] = df['url']\n",
    "df['expanded_url'] = df['url']"
   ]
  },
  {
   "cell_type": "code",
   "execution_count": 65,
   "metadata": {},
   "outputs": [
    {
     "data": {
      "text/plain": [
       "14836                             https://bit.ly/2MQKBAs\n",
       "208559     https://bit.ly/2OJzKL6?facebook-terms-service\n",
       "287099                             http://bit.ly/2QQYUZC\n",
       "323251                            https://bit.ly/2sEIJob\n",
       "349106                            https://bit.ly/34fyZyx\n",
       "352250                            https://bit.ly/2ruvMfR\n",
       "416696                            https://bit.ly/2Dco3G7\n",
       "437620                           https://cutt.ly/7eKRCj8\n",
       "572131     https://bit.ly/35KF2vk?facebook-terms-service\n",
       "651738                            https://bit.ly/2IMaKzb\n",
       "653935                          http://www.snip.ly/3kqwy\n",
       "655869                           https://cutt.ly/SwdVcdy\n",
       "708542                           https://cutt.ly/VeMeGSl\n",
       "853901                           https://cutt.ly/KBCBank\n",
       "861061                           https://cutt.ly/xeKRVFf\n",
       "976246                                http://bit.ly/lTAU\n",
       "1166465                            http://bit.ly/33EtKqR\n",
       "1266505                            http://bit.ly/2s78UU1\n",
       "1413625                           https://bit.ly/2s3hcMR\n",
       "1462383                           https://bit.ly/2Dik2jw\n",
       "Name: url, dtype: object"
      ]
     },
     "execution_count": 65,
     "metadata": {},
     "output_type": "execute_result"
    }
   ],
   "source": [
    "ly_urls = df[df['suffix'] == 'ly']['url']\n",
    "ly_urls"
   ]
  },
  {
   "cell_type": "code",
   "execution_count": 64,
   "metadata": {},
   "outputs": [
    {
     "data": {
      "text/plain": [
       "'https://bit.ly/2MQKBAs'"
      ]
     },
     "execution_count": 64,
     "metadata": {},
     "output_type": "execute_result"
    }
   ],
   "source": [
    "ly_list = list(df[df['suffix'] == 'ly']['url'])\n",
    "ly_list[0]"
   ]
  },
  {
   "cell_type": "code",
   "execution_count": null,
   "metadata": {},
   "outputs": [],
   "source": [
    "df.loc[14836, 'expanded_url'] = 'https://bachkhoa144.com/wp-login.php'"
   ]
  },
  {
   "cell_type": "code",
   "execution_count": 71,
   "metadata": {},
   "outputs": [
    {
     "data": {
      "text/plain": [
       "208559    https://bit.ly/2OJzKL6?facebook-terms-service\n",
       "Name: url, dtype: object"
      ]
     },
     "execution_count": 71,
     "metadata": {},
     "output_type": "execute_result"
    }
   ],
   "source": [
    "i = 1\n",
    "ly_urls[i:i+1]"
   ]
  },
  {
   "cell_type": "code",
   "execution_count": 72,
   "metadata": {},
   "outputs": [],
   "source": [
    "def set_expanded_url(loc, val):\n",
    "    df.loc[loc, 'expanded_url'] = val "
   ]
  },
  {
   "cell_type": "code",
   "execution_count": 73,
   "metadata": {},
   "outputs": [],
   "source": [
    "set_expanded_url(208559, 'NOT VALID')"
   ]
  },
  {
   "cell_type": "code",
   "execution_count": 74,
   "metadata": {},
   "outputs": [
    {
     "data": {
      "text/plain": [
       "287099    http://bit.ly/2QQYUZC\n",
       "Name: url, dtype: object"
      ]
     },
     "execution_count": 74,
     "metadata": {},
     "output_type": "execute_result"
    }
   ],
   "source": [
    "i = 2\n",
    "ly_urls[i:i+1]"
   ]
  },
  {
   "cell_type": "code",
   "execution_count": 75,
   "metadata": {},
   "outputs": [],
   "source": [
    "set_expanded_url(287099, 'https://compt321.blogspot.com/')"
   ]
  },
  {
   "cell_type": "code",
   "execution_count": null,
   "metadata": {},
   "outputs": [],
   "source": []
  },
  {
   "cell_type": "code",
   "execution_count": 77,
   "metadata": {},
   "outputs": [
    {
     "data": {
      "text/plain": [
       "323251    https://bit.ly/2sEIJob\n",
       "Name: url, dtype: object"
      ]
     },
     "execution_count": 77,
     "metadata": {},
     "output_type": "execute_result"
    }
   ],
   "source": [
    "i = 3\n",
    "ly_urls[i:i+1]"
   ]
  },
  {
   "cell_type": "code",
   "execution_count": 78,
   "metadata": {},
   "outputs": [],
   "source": [
    "set_expanded_url(323251, 'https://runandhelpfree.com/cgi-sys/suspendedpage.cgi')"
   ]
  },
  {
   "cell_type": "code",
   "execution_count": 79,
   "metadata": {},
   "outputs": [
    {
     "data": {
      "text/plain": [
       "349106    https://bit.ly/34fyZyx\n",
       "Name: url, dtype: object"
      ]
     },
     "execution_count": 79,
     "metadata": {},
     "output_type": "execute_result"
    }
   ],
   "source": [
    "i = 4\n",
    "ly_urls[i:i+1]"
   ]
  },
  {
   "cell_type": "code",
   "execution_count": 80,
   "metadata": {},
   "outputs": [],
   "source": [
    "set_expanded_url(349106, 'https://walkshantyhobby.com/congratulate/attentive/')"
   ]
  },
  {
   "cell_type": "code",
   "execution_count": null,
   "metadata": {},
   "outputs": [],
   "source": []
  },
  {
   "cell_type": "code",
   "execution_count": 81,
   "metadata": {},
   "outputs": [
    {
     "data": {
      "text/plain": [
       "352250    https://bit.ly/2ruvMfR\n",
       "Name: url, dtype: object"
      ]
     },
     "execution_count": 81,
     "metadata": {},
     "output_type": "execute_result"
    }
   ],
   "source": [
    "i = 5\n",
    "ly_urls[i:i+1]"
   ]
  },
  {
   "cell_type": "code",
   "execution_count": 82,
   "metadata": {},
   "outputs": [],
   "source": [
    "set_expanded_url(352250, 'https://www.uttermost-rosenberg.com/fortunate/')"
   ]
  },
  {
   "cell_type": "code",
   "execution_count": null,
   "metadata": {},
   "outputs": [],
   "source": []
  },
  {
   "cell_type": "code",
   "execution_count": 83,
   "metadata": {},
   "outputs": [
    {
     "data": {
      "text/plain": [
       "416696    https://bit.ly/2Dco3G7\n",
       "Name: url, dtype: object"
      ]
     },
     "execution_count": 83,
     "metadata": {},
     "output_type": "execute_result"
    }
   ],
   "source": [
    "i = 6\n",
    "ly_urls[i:i+1]"
   ]
  },
  {
   "cell_type": "code",
   "execution_count": 84,
   "metadata": {},
   "outputs": [],
   "source": [
    "set_expanded_url(416696, 'https://lewd-furlong-clubhouse.com/doorkeeper/upsilon/')"
   ]
  },
  {
   "cell_type": "code",
   "execution_count": null,
   "metadata": {},
   "outputs": [],
   "source": []
  },
  {
   "cell_type": "code",
   "execution_count": 85,
   "metadata": {},
   "outputs": [
    {
     "data": {
      "text/plain": [
       "437620    https://cutt.ly/7eKRCj8\n",
       "Name: url, dtype: object"
      ]
     },
     "execution_count": 85,
     "metadata": {},
     "output_type": "execute_result"
    }
   ],
   "source": [
    "i = 7\n",
    "ly_urls[i:i+1]"
   ]
  },
  {
   "cell_type": "code",
   "execution_count": 86,
   "metadata": {},
   "outputs": [],
   "source": [
    "set_expanded_url(437620, 'https://cutt.ly/caution')"
   ]
  },
  {
   "cell_type": "code",
   "execution_count": null,
   "metadata": {},
   "outputs": [],
   "source": []
  },
  {
   "cell_type": "code",
   "execution_count": 87,
   "metadata": {},
   "outputs": [
    {
     "data": {
      "text/plain": [
       "572131    https://bit.ly/35KF2vk?facebook-terms-service\n",
       "Name: url, dtype: object"
      ]
     },
     "execution_count": 87,
     "metadata": {},
     "output_type": "execute_result"
    }
   ],
   "source": [
    "i = 8\n",
    "ly_urls[i:i+1]"
   ]
  },
  {
   "cell_type": "code",
   "execution_count": 88,
   "metadata": {},
   "outputs": [],
   "source": [
    "set_expanded_url(572131, 'http://5556.16mb.com/support.htm')"
   ]
  },
  {
   "cell_type": "code",
   "execution_count": null,
   "metadata": {},
   "outputs": [],
   "source": []
  },
  {
   "cell_type": "code",
   "execution_count": 89,
   "metadata": {},
   "outputs": [
    {
     "data": {
      "text/plain": [
       "651738    https://bit.ly/2IMaKzb\n",
       "Name: url, dtype: object"
      ]
     },
     "execution_count": 89,
     "metadata": {},
     "output_type": "execute_result"
    }
   ],
   "source": [
    "i = 9\n",
    "ly_urls[i:i+1]"
   ]
  },
  {
   "cell_type": "code",
   "execution_count": 90,
   "metadata": {},
   "outputs": [],
   "source": [
    "set_expanded_url(651738, 'https://bac-10.blogspot.com/')"
   ]
  },
  {
   "cell_type": "code",
   "execution_count": null,
   "metadata": {},
   "outputs": [],
   "source": []
  },
  {
   "cell_type": "code",
   "execution_count": 91,
   "metadata": {},
   "outputs": [
    {
     "data": {
      "text/plain": [
       "653935    http://www.snip.ly/3kqwy\n",
       "Name: url, dtype: object"
      ]
     },
     "execution_count": 91,
     "metadata": {},
     "output_type": "execute_result"
    }
   ],
   "source": [
    "i = 10\n",
    "ly_urls[i:i+1]"
   ]
  },
  {
   "cell_type": "code",
   "execution_count": 92,
   "metadata": {},
   "outputs": [],
   "source": [
    "set_expanded_url(653935, 'https://snip.ly/3kqwy')"
   ]
  },
  {
   "cell_type": "code",
   "execution_count": null,
   "metadata": {},
   "outputs": [],
   "source": []
  },
  {
   "cell_type": "code",
   "execution_count": 93,
   "metadata": {},
   "outputs": [
    {
     "data": {
      "text/plain": [
       "655869    https://cutt.ly/SwdVcdy\n",
       "Name: url, dtype: object"
      ]
     },
     "execution_count": 93,
     "metadata": {},
     "output_type": "execute_result"
    }
   ],
   "source": [
    "i = 11\n",
    "ly_urls[i:i+1]"
   ]
  },
  {
   "cell_type": "code",
   "execution_count": 95,
   "metadata": {},
   "outputs": [],
   "source": [
    "set_expanded_url(655869, 'https://app.surveymethods.com/EndUser.aspx?F0D4B8A0F8B7A0A7FB')"
   ]
  },
  {
   "cell_type": "code",
   "execution_count": null,
   "metadata": {},
   "outputs": [],
   "source": []
  },
  {
   "cell_type": "code",
   "execution_count": 96,
   "metadata": {},
   "outputs": [
    {
     "data": {
      "text/plain": [
       "708542    https://cutt.ly/VeMeGSl\n",
       "Name: url, dtype: object"
      ]
     },
     "execution_count": 96,
     "metadata": {},
     "output_type": "execute_result"
    }
   ],
   "source": [
    "i = 12\n",
    "ly_urls[i:i+1]"
   ]
  },
  {
   "cell_type": "code",
   "execution_count": 97,
   "metadata": {},
   "outputs": [],
   "source": [
    "set_expanded_url(708542, 'https://www.vodi.me//content/gmx/gmx.php')"
   ]
  },
  {
   "cell_type": "code",
   "execution_count": null,
   "metadata": {},
   "outputs": [],
   "source": []
  },
  {
   "cell_type": "code",
   "execution_count": 98,
   "metadata": {},
   "outputs": [
    {
     "data": {
      "text/plain": [
       "853901    https://cutt.ly/KBCBank\n",
       "Name: url, dtype: object"
      ]
     },
     "execution_count": 98,
     "metadata": {},
     "output_type": "execute_result"
    }
   ],
   "source": [
    "i = 13\n",
    "ly_urls[i:i+1]"
   ]
  },
  {
   "cell_type": "code",
   "execution_count": 99,
   "metadata": {},
   "outputs": [],
   "source": [
    "set_expanded_url(853901, 'https://cutt.ly/KBCBank')"
   ]
  },
  {
   "cell_type": "markdown",
   "metadata": {},
   "source": [
    "### Protocol"
   ]
  },
  {
   "cell_type": "code",
   "execution_count": 107,
   "metadata": {},
   "outputs": [
    {
     "data": {
      "text/html": [
       "<div>\n",
       "<style scoped>\n",
       "    .dataframe tbody tr th:only-of-type {\n",
       "        vertical-align: middle;\n",
       "    }\n",
       "\n",
       "    .dataframe tbody tr th {\n",
       "        vertical-align: top;\n",
       "    }\n",
       "\n",
       "    .dataframe thead th {\n",
       "        text-align: right;\n",
       "    }\n",
       "</style>\n",
       "<table border=\"1\" class=\"dataframe\">\n",
       "  <thead>\n",
       "    <tr style=\"text-align: right;\">\n",
       "      <th>label</th>\n",
       "      <th>benign</th>\n",
       "      <th>phishing</th>\n",
       "    </tr>\n",
       "    <tr>\n",
       "      <th>protocol</th>\n",
       "      <th></th>\n",
       "      <th></th>\n",
       "    </tr>\n",
       "  </thead>\n",
       "  <tbody>\n",
       "    <tr>\n",
       "      <th></th>\n",
       "      <td>0</td>\n",
       "      <td>1</td>\n",
       "    </tr>\n",
       "    <tr>\n",
       "      <th>http</th>\n",
       "      <td>536296</td>\n",
       "      <td>996</td>\n",
       "    </tr>\n",
       "    <tr>\n",
       "      <th>https</th>\n",
       "      <td>951869</td>\n",
       "      <td>727</td>\n",
       "    </tr>\n",
       "  </tbody>\n",
       "</table>\n",
       "</div>"
      ],
      "text/plain": [
       "label     benign  phishing\n",
       "protocol                  \n",
       "               0         1\n",
       "http      536296       996\n",
       "https     951869       727"
      ]
     },
     "execution_count": 107,
     "metadata": {},
     "output_type": "execute_result"
    }
   ],
   "source": [
    "col1 = 'protocol'\n",
    "col2 = target\n",
    "\n",
    "crosstab = pd.crosstab(df[col1], df[col2])\n",
    "crosstab"
   ]
  },
  {
   "cell_type": "code",
   "execution_count": 108,
   "metadata": {},
   "outputs": [
    {
     "data": {
      "text/plain": [
       "1216.7029217621814"
      ]
     },
     "execution_count": 108,
     "metadata": {},
     "output_type": "execute_result"
    }
   ],
   "source": [
    "chi_test = chi2_contingency(crosstab)\n",
    "chi2 = chi_test[0]\n",
    "chi2"
   ]
  },
  {
   "cell_type": "code",
   "execution_count": 109,
   "metadata": {},
   "outputs": [
    {
     "data": {
      "text/plain": [
       "(1216.7029217621814,\n",
       " 6.256298787991566e-265,\n",
       " 2,\n",
       " array([[9.98842867e-01, 1.15713318e-03],\n",
       "        [5.36670282e+05, 6.21718402e+02],\n",
       "        [9.51493720e+05, 1.10228044e+03]]))"
      ]
     },
     "execution_count": 109,
     "metadata": {},
     "output_type": "execute_result"
    }
   ],
   "source": [
    "chi_test"
   ]
  },
  {
   "cell_type": "markdown",
   "metadata": {},
   "source": [
    "## examples"
   ]
  },
  {
   "cell_type": "code",
   "execution_count": 120,
   "metadata": {},
   "outputs": [
    {
     "data": {
      "text/plain": [
       "['http://www.celebritieswithacne.com/201907/t20190702_16980231.htm',\n",
       " 'https://cefeuskennel.com/2014/09/17/varga-ar-en-angel-nu/?replytocom=75',\n",
       " 'https://www.cemnet.com/home/tags/Dangote%20Cement?page=5',\n",
       " 'https://www.cccp-mult.com/shishi/article/1082025.html']"
      ]
     },
     "execution_count": 120,
     "metadata": {},
     "output_type": "execute_result"
    }
   ],
   "source": [
    "list(good_df.sample(4)['url'].values)"
   ]
  },
  {
   "cell_type": "code",
   "execution_count": 125,
   "metadata": {},
   "outputs": [],
   "source": [
    "import sys"
   ]
  },
  {
   "cell_type": "code",
   "execution_count": 123,
   "metadata": {},
   "outputs": [],
   "source": [
    "import time"
   ]
  },
  {
   "cell_type": "code",
   "execution_count": 130,
   "metadata": {},
   "outputs": [],
   "source": [
    "def reporthook(count):\n",
    "    global start_time\n",
    "    if count == 0:\n",
    "        start_time = time.time()\n",
    "        return\n",
    "    duration = time.time() - start_time\n",
    "    sys.stdout.write(\"\\r...%d seconds passed\" % (duration))\n",
    "    sys.stdout.flush()"
   ]
  },
  {
   "cell_type": "code",
   "execution_count": 131,
   "metadata": {},
   "outputs": [
    {
     "name": "stdout",
     "output_type": "stream",
     "text": [
      "...8 seconds passed"
     ]
    }
   ],
   "source": [
    "for i in range(5):\n",
    "    reporthook(i)\n",
    "    time.sleep(2)"
   ]
  },
  {
   "cell_type": "code",
   "execution_count": 132,
   "metadata": {},
   "outputs": [],
   "source": [
    "import urllib"
   ]
  },
  {
   "cell_type": "code",
   "execution_count": null,
   "metadata": {},
   "outputs": [],
   "source": [
    "urllib.request.urlretrieve()"
   ]
  }
 ],
 "metadata": {
  "kernelspec": {
   "display_name": "Python 3",
   "language": "python",
   "name": "python3"
  },
  "language_info": {
   "codemirror_mode": {
    "name": "ipython",
    "version": 3
   },
   "file_extension": ".py",
   "mimetype": "text/x-python",
   "name": "python",
   "nbconvert_exporter": "python",
   "pygments_lexer": "ipython3",
   "version": "3.6.7"
  }
 },
 "nbformat": 4,
 "nbformat_minor": 2
}
