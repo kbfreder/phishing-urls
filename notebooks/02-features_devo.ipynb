{
 "cells": [
  {
   "cell_type": "code",
   "execution_count": 1,
   "metadata": {},
   "outputs": [
    {
     "name": "stderr",
     "output_type": "stream",
     "text": [
      "/Users/kendra/anaconda3/lib/python3.6/site-packages/matplotlib/__init__.py:886: MatplotlibDeprecationWarning: \n",
      "examples.directory is deprecated; in the future, examples will be found relative to the 'datapath' directory.\n",
      "  \"found relative to the 'datapath' directory.\".format(key))\n"
     ]
    }
   ],
   "source": [
    "import pandas as pd\n",
    "import numpy as np\n",
    "import re\n",
    "import tldextract\n",
    "\n",
    "import warnings\n",
    "warnings.filterwarnings(category=FutureWarning, action='ignore')\n",
    "\n",
    "import matplotlib.pyplot as plt\n",
    "import seaborn as sns"
   ]
  },
  {
   "cell_type": "markdown",
   "metadata": {},
   "source": [
    "## Load Data"
   ]
  },
  {
   "cell_type": "code",
   "execution_count": 2,
   "metadata": {},
   "outputs": [],
   "source": [
    "full_df = pd.read_pickle('../data/interim/train_df.pkl')"
   ]
  },
  {
   "cell_type": "code",
   "execution_count": 3,
   "metadata": {},
   "outputs": [
    {
     "data": {
      "text/html": [
       "<div>\n",
       "<style scoped>\n",
       "    .dataframe tbody tr th:only-of-type {\n",
       "        vertical-align: middle;\n",
       "    }\n",
       "\n",
       "    .dataframe tbody tr th {\n",
       "        vertical-align: top;\n",
       "    }\n",
       "\n",
       "    .dataframe thead th {\n",
       "        text-align: right;\n",
       "    }\n",
       "</style>\n",
       "<table border=\"1\" class=\"dataframe\">\n",
       "  <thead>\n",
       "    <tr style=\"text-align: right;\">\n",
       "      <th></th>\n",
       "      <th>url</th>\n",
       "      <th>label</th>\n",
       "    </tr>\n",
       "  </thead>\n",
       "  <tbody>\n",
       "    <tr>\n",
       "      <th>0</th>\n",
       "      <td>http://catholicmom.com/2016/03/15/daily-gospel...</td>\n",
       "      <td>benign</td>\n",
       "    </tr>\n",
       "    <tr>\n",
       "      <th>1</th>\n",
       "      <td>http://ceepharmajobs.com/2019/03/</td>\n",
       "      <td>benign</td>\n",
       "    </tr>\n",
       "    <tr>\n",
       "      <th>2</th>\n",
       "      <td>https://www.centralisd.com/apps/news/article/1...</td>\n",
       "      <td>benign</td>\n",
       "    </tr>\n",
       "    <tr>\n",
       "      <th>3</th>\n",
       "      <td>https://www.ceoutlook.com/2013/04/01/car-stere...</td>\n",
       "      <td>benign</td>\n",
       "    </tr>\n",
       "    <tr>\n",
       "      <th>4</th>\n",
       "      <td>http://www.celebzz.com/robots.txt</td>\n",
       "      <td>benign</td>\n",
       "    </tr>\n",
       "  </tbody>\n",
       "</table>\n",
       "</div>"
      ],
      "text/plain": [
       "                                                 url   label\n",
       "0  http://catholicmom.com/2016/03/15/daily-gospel...  benign\n",
       "1                  http://ceepharmajobs.com/2019/03/  benign\n",
       "2  https://www.centralisd.com/apps/news/article/1...  benign\n",
       "3  https://www.ceoutlook.com/2013/04/01/car-stere...  benign\n",
       "4                  http://www.celebzz.com/robots.txt  benign"
      ]
     },
     "execution_count": 3,
     "metadata": {},
     "output_type": "execute_result"
    }
   ],
   "source": [
    "full_df.head()"
   ]
  },
  {
   "cell_type": "code",
   "execution_count": 4,
   "metadata": {},
   "outputs": [
    {
     "data": {
      "text/plain": [
       "(7449443, 2)"
      ]
     },
     "execution_count": 4,
     "metadata": {},
     "output_type": "execute_result"
    }
   ],
   "source": [
    "full_df.shape"
   ]
  },
  {
   "cell_type": "code",
   "execution_count": 3,
   "metadata": {},
   "outputs": [],
   "source": [
    "df = full_df.sample(100)"
   ]
  },
  {
   "cell_type": "markdown",
   "metadata": {},
   "source": [
    "# Extract URL parts"
   ]
  },
  {
   "cell_type": "markdown",
   "metadata": {},
   "source": [
    "# Create Features"
   ]
  },
  {
   "cell_type": "markdown",
   "metadata": {},
   "source": [
    "## TLD (top level domain) parts"
   ]
  },
  {
   "cell_type": "code",
   "execution_count": 17,
   "metadata": {},
   "outputs": [
    {
     "data": {
      "text/plain": [
       "'https://forums.southpark.cc.com/forum/viewtopic.php?f=19&t=26526&p=563736'"
      ]
     },
     "execution_count": 17,
     "metadata": {},
     "output_type": "execute_result"
    }
   ],
   "source": [
    "url = df.sample()['url'].values[0]\n",
    "url"
   ]
  },
  {
   "cell_type": "code",
   "execution_count": 11,
   "metadata": {},
   "outputs": [
    {
     "data": {
      "text/plain": [
       "ExtractResult(subdomain='www', domain='catholiccompany', suffix='com')"
      ]
     },
     "execution_count": 11,
     "metadata": {},
     "output_type": "execute_result"
    }
   ],
   "source": [
    "tld_res = tldextract.extract(url)\n",
    "tld_res"
   ]
  },
  {
   "cell_type": "code",
   "execution_count": 12,
   "metadata": {},
   "outputs": [
    {
     "data": {
      "text/plain": [
       "tldextract.tldextract.ExtractResult"
      ]
     },
     "execution_count": 12,
     "metadata": {},
     "output_type": "execute_result"
    }
   ],
   "source": [
    "type(tld_res)"
   ]
  },
  {
   "cell_type": "code",
   "execution_count": 13,
   "metadata": {},
   "outputs": [
    {
     "data": {
      "text/plain": [
       "'www'"
      ]
     },
     "execution_count": 13,
     "metadata": {},
     "output_type": "execute_result"
    }
   ],
   "source": [
    "tld_res.subdomain"
   ]
  },
  {
   "cell_type": "code",
   "execution_count": 14,
   "metadata": {},
   "outputs": [
    {
     "data": {
      "text/plain": [
       "'catholiccompany'"
      ]
     },
     "execution_count": 14,
     "metadata": {},
     "output_type": "execute_result"
    }
   ],
   "source": [
    "tld_res.domain"
   ]
  },
  {
   "cell_type": "code",
   "execution_count": 15,
   "metadata": {},
   "outputs": [
    {
     "data": {
      "text/plain": [
       "'com'"
      ]
     },
     "execution_count": 15,
     "metadata": {},
     "output_type": "execute_result"
    }
   ],
   "source": [
    "tld_res.suffix"
   ]
  },
  {
   "cell_type": "code",
   "execution_count": 8,
   "metadata": {},
   "outputs": [],
   "source": [
    "df['tld_extract'] = df['url'].map(tldextract.extract)\n",
    "\n",
    "df['subdomain'] = df['tld_extract'].apply(lambda x: x.subdomain)\n",
    "df['domain'] = df['tld_extract'].apply(lambda x: x.domain)\n",
    "df['suffix'] = df['tld_extract'].apply(lambda x: x.suffix)"
   ]
  },
  {
   "cell_type": "code",
   "execution_count": 9,
   "metadata": {},
   "outputs": [
    {
     "data": {
      "text/html": [
       "<div>\n",
       "<style scoped>\n",
       "    .dataframe tbody tr th:only-of-type {\n",
       "        vertical-align: middle;\n",
       "    }\n",
       "\n",
       "    .dataframe tbody tr th {\n",
       "        vertical-align: top;\n",
       "    }\n",
       "\n",
       "    .dataframe thead th {\n",
       "        text-align: right;\n",
       "    }\n",
       "</style>\n",
       "<table border=\"1\" class=\"dataframe\">\n",
       "  <thead>\n",
       "    <tr style=\"text-align: right;\">\n",
       "      <th></th>\n",
       "      <th>url</th>\n",
       "      <th>label</th>\n",
       "      <th>tld_extract</th>\n",
       "      <th>subdomain</th>\n",
       "      <th>domain</th>\n",
       "      <th>suffix</th>\n",
       "    </tr>\n",
       "  </thead>\n",
       "  <tbody>\n",
       "    <tr>\n",
       "      <th>6748065</th>\n",
       "      <td>https://www.century21global.com/zh-hk/office/c...</td>\n",
       "      <td>benign</td>\n",
       "      <td>(www, century21global, com)</td>\n",
       "      <td>www</td>\n",
       "      <td>century21global</td>\n",
       "      <td>com</td>\n",
       "    </tr>\n",
       "    <tr>\n",
       "      <th>3375259</th>\n",
       "      <td>https://www.catimini.com/fr-fr/website/40-ling...</td>\n",
       "      <td>benign</td>\n",
       "      <td>(www, catimini, com)</td>\n",
       "      <td>www</td>\n",
       "      <td>catimini</td>\n",
       "      <td>com</td>\n",
       "    </tr>\n",
       "    <tr>\n",
       "      <th>5567924</th>\n",
       "      <td>https://cq.centanet.com/ershoufang-ditie/t4p1h...</td>\n",
       "      <td>benign</td>\n",
       "      <td>(cq, centanet, com)</td>\n",
       "      <td>cq</td>\n",
       "      <td>centanet</td>\n",
       "      <td>com</td>\n",
       "    </tr>\n",
       "    <tr>\n",
       "      <th>528739</th>\n",
       "      <td>https://greenfoottech.catsone.com/careers/3019...</td>\n",
       "      <td>benign</td>\n",
       "      <td>(greenfoottech, catsone, com)</td>\n",
       "      <td>greenfoottech</td>\n",
       "      <td>catsone</td>\n",
       "      <td>com</td>\n",
       "    </tr>\n",
       "    <tr>\n",
       "      <th>3118246</th>\n",
       "      <td>https://bj.centanet.com/ershoufang-ditie/p3a11...</td>\n",
       "      <td>benign</td>\n",
       "      <td>(bj, centanet, com)</td>\n",
       "      <td>bj</td>\n",
       "      <td>centanet</td>\n",
       "      <td>com</td>\n",
       "    </tr>\n",
       "  </tbody>\n",
       "</table>\n",
       "</div>"
      ],
      "text/plain": [
       "                                                       url   label  \\\n",
       "6748065  https://www.century21global.com/zh-hk/office/c...  benign   \n",
       "3375259  https://www.catimini.com/fr-fr/website/40-ling...  benign   \n",
       "5567924  https://cq.centanet.com/ershoufang-ditie/t4p1h...  benign   \n",
       "528739   https://greenfoottech.catsone.com/careers/3019...  benign   \n",
       "3118246  https://bj.centanet.com/ershoufang-ditie/p3a11...  benign   \n",
       "\n",
       "                           tld_extract      subdomain           domain suffix  \n",
       "6748065    (www, century21global, com)            www  century21global    com  \n",
       "3375259           (www, catimini, com)            www         catimini    com  \n",
       "5567924            (cq, centanet, com)             cq         centanet    com  \n",
       "528739   (greenfoottech, catsone, com)  greenfoottech          catsone    com  \n",
       "3118246            (bj, centanet, com)             bj         centanet    com  "
      ]
     },
     "execution_count": 9,
     "metadata": {},
     "output_type": "execute_result"
    }
   ],
   "source": [
    "df.head()"
   ]
  },
  {
   "cell_type": "markdown",
   "metadata": {},
   "source": [
    "### And their lengths"
   ]
  },
  {
   "cell_type": "code",
   "execution_count": 10,
   "metadata": {},
   "outputs": [],
   "source": [
    "df['length_url'] = df['url'].map(len)\n",
    "df['length_domain'] = df['domain'].map(len)"
   ]
  },
  {
   "cell_type": "markdown",
   "metadata": {},
   "source": [
    "### Number of dots in domain name"
   ]
  },
  {
   "cell_type": "code",
   "execution_count": 11,
   "metadata": {},
   "outputs": [],
   "source": [
    "df['domain_dots_cnt'] = df['domain'].str.count('.')"
   ]
  },
  {
   "cell_type": "code",
   "execution_count": 12,
   "metadata": {},
   "outputs": [
    {
     "data": {
      "image/png": "[encoded data removed]",
      "text/plain": [
       "<Figure size 432x288 with 1 Axes>"
      ]
     },
     "metadata": {
      "needs_background": "light"
     },
     "output_type": "display_data"
    }
   ],
   "source": [
    "plt.hist(df['domain_dots_cnt']);"
   ]
  },
  {
   "cell_type": "code",
   "execution_count": 13,
   "metadata": {},
   "outputs": [
    {
     "data": {
      "text/html": [
       "<div>\n",
       "<style scoped>\n",
       "    .dataframe tbody tr th:only-of-type {\n",
       "        vertical-align: middle;\n",
       "    }\n",
       "\n",
       "    .dataframe tbody tr th {\n",
       "        vertical-align: top;\n",
       "    }\n",
       "\n",
       "    .dataframe thead th {\n",
       "        text-align: right;\n",
       "    }\n",
       "</style>\n",
       "<table border=\"1\" class=\"dataframe\">\n",
       "  <thead>\n",
       "    <tr style=\"text-align: right;\">\n",
       "      <th></th>\n",
       "      <th>url</th>\n",
       "      <th>domain</th>\n",
       "    </tr>\n",
       "  </thead>\n",
       "  <tbody>\n",
       "    <tr>\n",
       "      <th>7249891</th>\n",
       "      <td>https://www.centralilglass.com/robots.txt</td>\n",
       "      <td>centralilglass</td>\n",
       "    </tr>\n",
       "    <tr>\n",
       "      <th>5772481</th>\n",
       "      <td>https://centerstageokc.com/robots.txt</td>\n",
       "      <td>centerstageokc</td>\n",
       "    </tr>\n",
       "    <tr>\n",
       "      <th>2888314</th>\n",
       "      <td>https://centurynovelty.com/products/man-paper-...</td>\n",
       "      <td>centurynovelty</td>\n",
       "    </tr>\n",
       "    <tr>\n",
       "      <th>5785117</th>\n",
       "      <td>http://www.ccbottlecutter.com/umxjz/91438.html</td>\n",
       "      <td>ccbottlecutter</td>\n",
       "    </tr>\n",
       "    <tr>\n",
       "      <th>3110306</th>\n",
       "      <td>https://celebestopnews.com/politik/2019/06/set...</td>\n",
       "      <td>celebestopnews</td>\n",
       "    </tr>\n",
       "  </tbody>\n",
       "</table>\n",
       "</div>"
      ],
      "text/plain": [
       "                                                       url          domain\n",
       "7249891          https://www.centralilglass.com/robots.txt  centralilglass\n",
       "5772481              https://centerstageokc.com/robots.txt  centerstageokc\n",
       "2888314  https://centurynovelty.com/products/man-paper-...  centurynovelty\n",
       "5785117     http://www.ccbottlecutter.com/umxjz/91438.html  ccbottlecutter\n",
       "3110306  https://celebestopnews.com/politik/2019/06/set...  celebestopnews"
      ]
     },
     "execution_count": 13,
     "metadata": {},
     "output_type": "execute_result"
    }
   ],
   "source": [
    "df[df['domain_dots_cnt'] == 14].sample(5)[['url', 'domain']]"
   ]
  },
  {
   "cell_type": "markdown",
   "metadata": {},
   "source": [
    "What did this do???"
   ]
  },
  {
   "cell_type": "code",
   "execution_count": 102,
   "metadata": {},
   "outputs": [
    {
     "data": {
      "text/plain": [
       "'cascadecenters'"
      ]
     },
     "execution_count": 102,
     "metadata": {},
     "output_type": "execute_result"
    }
   ],
   "source": [
    "test_domain = df.loc[2167067, 'domain']\n",
    "test_domain"
   ]
  },
  {
   "cell_type": "code",
   "execution_count": 103,
   "metadata": {},
   "outputs": [
    {
     "data": {
      "text/plain": [
       "0"
      ]
     },
     "execution_count": 103,
     "metadata": {},
     "output_type": "execute_result"
    }
   ],
   "source": [
    "test_domain.count('.')"
   ]
  },
  {
   "cell_type": "markdown",
   "metadata": {},
   "source": [
    "Try this:"
   ]
  },
  {
   "cell_type": "code",
   "execution_count": 14,
   "metadata": {},
   "outputs": [],
   "source": [
    "df['domain_dots_cnt'] = df['domain'].apply(lambda s: s.count('.'))"
   ]
  },
  {
   "cell_type": "code",
   "execution_count": 15,
   "metadata": {},
   "outputs": [
    {
     "data": {
      "image/png": "[encoded data removed]",
      "text/plain": [
       "<Figure size 432x288 with 1 Axes>"
      ]
     },
     "metadata": {
      "needs_background": "light"
     },
     "output_type": "display_data"
    }
   ],
   "source": [
    "plt.hist(df['domain_dots_cnt']);"
   ]
  },
  {
   "cell_type": "code",
   "execution_count": 16,
   "metadata": {},
   "outputs": [
    {
     "data": {
      "text/plain": [
       "0    100\n",
       "Name: domain_dots_cnt, dtype: int64"
      ]
     },
     "execution_count": 16,
     "metadata": {},
     "output_type": "execute_result"
    }
   ],
   "source": [
    "df['domain_dots_cnt'].value_counts()"
   ]
  },
  {
   "cell_type": "markdown",
   "metadata": {},
   "source": [
    "This might not be unreasonable, given that we're only looking at 100 URLs"
   ]
  },
  {
   "cell_type": "markdown",
   "metadata": {},
   "source": [
    "### Subdomain inds"
   ]
  },
  {
   "cell_type": "code",
   "execution_count": 120,
   "metadata": {},
   "outputs": [
    {
     "data": {
      "text/plain": [
       "''"
      ]
     },
     "execution_count": 120,
     "metadata": {},
     "output_type": "execute_result"
    }
   ],
   "source": [
    "sd = df.loc[2167067, 'subdomain']\n",
    "sd"
   ]
  },
  {
   "cell_type": "code",
   "execution_count": 121,
   "metadata": {},
   "outputs": [
    {
     "data": {
      "text/plain": [
       "True"
      ]
     },
     "execution_count": 121,
     "metadata": {},
     "output_type": "execute_result"
    }
   ],
   "source": [
    "sd == ''"
   ]
  },
  {
   "cell_type": "code",
   "execution_count": 122,
   "metadata": {},
   "outputs": [],
   "source": [
    "df['subdomain_null_ind'] = np.where(df['subdomain'] == '', 1, 0)\n",
    "df['subdomain_www_ind'] = np.where(df['subdomain'] == 'www', 1, 0)"
   ]
  },
  {
   "cell_type": "code",
   "execution_count": 123,
   "metadata": {},
   "outputs": [
    {
     "data": {
      "text/plain": [
       "0    66\n",
       "1    34\n",
       "Name: subdomain_null_ind, dtype: int64"
      ]
     },
     "execution_count": 123,
     "metadata": {},
     "output_type": "execute_result"
    }
   ],
   "source": [
    "df['subdomain_null_ind'].value_counts()"
   ]
  },
  {
   "cell_type": "code",
   "execution_count": 124,
   "metadata": {},
   "outputs": [
    {
     "data": {
      "text/plain": [
       "1    50\n",
       "0    50\n",
       "Name: subdomain_www_ind, dtype: int64"
      ]
     },
     "execution_count": 124,
     "metadata": {},
     "output_type": "execute_result"
    }
   ],
   "source": [
    "df['subdomain_www_ind'].value_counts()"
   ]
  },
  {
   "cell_type": "markdown",
   "metadata": {},
   "source": [
    "## Number of slashes in URL"
   ]
  },
  {
   "cell_type": "code",
   "execution_count": 17,
   "metadata": {},
   "outputs": [],
   "source": [
    "df['url_slashes_cnt'] = df['url'].apply(lambda x: x.count('/'))"
   ]
  },
  {
   "cell_type": "code",
   "execution_count": 18,
   "metadata": {},
   "outputs": [
    {
     "data": {
      "text/plain": [
       "count    100.000000\n",
       "mean       4.550000\n",
       "std        1.520068\n",
       "min        3.000000\n",
       "25%        3.000000\n",
       "50%        4.000000\n",
       "75%        5.000000\n",
       "max       12.000000\n",
       "Name: url_slashes_cnt, dtype: float64"
      ]
     },
     "execution_count": 18,
     "metadata": {},
     "output_type": "execute_result"
    }
   ],
   "source": [
    "df['url_slashes_cnt'].describe()"
   ]
  },
  {
   "cell_type": "code",
   "execution_count": 23,
   "metadata": {},
   "outputs": [
    {
     "name": "stdout",
     "output_type": "stream",
     "text": [
      "https://cbcinews.com/us-visa-process-may-become-simplified-for-indians-key-things-to-know/\n",
      "2175981    4\n",
      "Name: url_slashes_cnt, dtype: int64\n"
     ]
    }
   ],
   "source": [
    "i = df.sample().index\n",
    "print(df.loc[i, 'url'].values[0])\n",
    "print(df.loc[i, 'url_slashes_cnt'])"
   ]
  },
  {
   "cell_type": "markdown",
   "metadata": {},
   "source": [
    "## Number of digits"
   ]
  },
  {
   "cell_type": "code",
   "execution_count": 26,
   "metadata": {},
   "outputs": [],
   "source": [
    "digits = re.compile(r'[0-9]')\n",
    "df['url_digit_cnt'] = df['url'].apply(lambda x: len(re.findall(digits, x)))"
   ]
  },
  {
   "cell_type": "code",
   "execution_count": 27,
   "metadata": {},
   "outputs": [
    {
     "data": {
      "image/png": "[encoded data removed]",
      "text/plain": [
       "<Figure size 432x288 with 1 Axes>"
      ]
     },
     "metadata": {
      "needs_background": "light"
     },
     "output_type": "display_data"
    }
   ],
   "source": [
    "plt.hist(df['url_digit_cnt']);"
   ]
  },
  {
   "cell_type": "code",
   "execution_count": 28,
   "metadata": {},
   "outputs": [
    {
     "name": "stdout",
     "output_type": "stream",
     "text": [
      "http://www.cbbbg.com/dobavi-firma/52-/2486-.html\n",
      "1741685    6\n",
      "Name: url_digit_cnt, dtype: int64\n"
     ]
    }
   ],
   "source": [
    "i = df.sample().index\n",
    "print(df.loc[i, 'url'].values[0])\n",
    "print(df.loc[i, 'url_digit_cnt'])"
   ]
  },
  {
   "cell_type": "markdown",
   "metadata": {},
   "source": [
    "## Subdomain\n",
    "i.e. HTTP or HTTPS"
   ]
  },
  {
   "cell_type": "code",
   "execution_count": 29,
   "metadata": {},
   "outputs": [
    {
     "data": {
      "text/plain": [
       "'https://www.casumo.com/en-nz/play/all-aces-poker/'"
      ]
     },
     "execution_count": 29,
     "metadata": {},
     "output_type": "execute_result"
    }
   ],
   "source": [
    "url = df.sample()['url'].values[0]\n",
    "url"
   ]
  },
  {
   "cell_type": "code",
   "execution_count": 19,
   "metadata": {},
   "outputs": [
    {
     "data": {
      "text/plain": [
       "'https'"
      ]
     },
     "execution_count": 19,
     "metadata": {},
     "output_type": "execute_result"
    }
   ],
   "source": [
    "url.split('://')[0]"
   ]
  },
  {
   "cell_type": "code",
   "execution_count": 33,
   "metadata": {},
   "outputs": [],
   "source": [
    "df['protocol'] = df['url'].apply(lambda x: x.split('://')[0])"
   ]
  },
  {
   "cell_type": "code",
   "execution_count": 96,
   "metadata": {},
   "outputs": [
    {
     "data": {
      "text/plain": [
       "https    70\n",
       "http     30\n",
       "Name: protocol, dtype: int64"
      ]
     },
     "execution_count": 96,
     "metadata": {},
     "output_type": "execute_result"
    }
   ],
   "source": [
    "df['protocol'].value_counts(dropna=False)"
   ]
  },
  {
   "cell_type": "markdown",
   "metadata": {},
   "source": [
    "Since only 2 values, this is essentially Boolean. Encode as such?"
   ]
  },
  {
   "cell_type": "markdown",
   "metadata": {},
   "source": [
    "## Special Characters"
   ]
  },
  {
   "cell_type": "markdown",
   "metadata": {},
   "source": [
    "This website lists different kinds of characters in URLs: https://perishablepress.com/stop-using-unsafe-characters-in-urls/"
   ]
  },
  {
   "cell_type": "markdown",
   "metadata": {},
   "source": [
    "This paper says these are suspicious characters:  _, =, (,), %, & and @.\n",
    "(https://www.researchgate.net/publication/324014302_Malicious_URLs_Detection_Using_Decision_Tree_Classifiers_and_Majority_Voting_Technique) "
   ]
  },
  {
   "cell_type": "code",
   "execution_count": 62,
   "metadata": {},
   "outputs": [],
   "source": [
    "special_chars = re.compile(\"[$-_.+!*'\\(\\)\\,]\")"
   ]
  },
  {
   "cell_type": "code",
   "execution_count": 63,
   "metadata": {},
   "outputs": [],
   "source": [
    "df['special_char_ind'] = df['url'].apply(lambda x: 1 if re.search(special_chars, x) is not None else 0)"
   ]
  },
  {
   "cell_type": "code",
   "execution_count": 64,
   "metadata": {},
   "outputs": [
    {
     "data": {
      "text/plain": [
       "1    100\n",
       "Name: special_char_ind, dtype: int64"
      ]
     },
     "execution_count": 64,
     "metadata": {},
     "output_type": "execute_result"
    }
   ],
   "source": [
    "df['special_char_ind'].value_counts()"
   ]
  },
  {
   "cell_type": "markdown",
   "metadata": {},
   "source": [
    "Not terribly informative"
   ]
  },
  {
   "cell_type": "markdown",
   "metadata": {},
   "source": [
    "Try anything that's *not* a common character (alphanumeric / : = & _ - . ? .)"
   ]
  },
  {
   "cell_type": "code",
   "execution_count": 30,
   "metadata": {},
   "outputs": [],
   "source": [
    "special_chars = re.compile('[^a-zA-Z0-9:/=&_\\-\\.\\?]')"
   ]
  },
  {
   "cell_type": "code",
   "execution_count": 31,
   "metadata": {},
   "outputs": [
    {
     "data": {
      "text/plain": [
       "'https://www.casumo.com/en-nz/play/all-aces-poker/'"
      ]
     },
     "execution_count": 31,
     "metadata": {},
     "output_type": "execute_result"
    }
   ],
   "source": [
    "url"
   ]
  },
  {
   "cell_type": "code",
   "execution_count": 33,
   "metadata": {},
   "outputs": [
    {
     "name": "stdout",
     "output_type": "stream",
     "text": [
      "None\n"
     ]
    }
   ],
   "source": [
    "print(re.search(special_chars, url))"
   ]
  },
  {
   "cell_type": "markdown",
   "metadata": {},
   "source": [
    "As expected."
   ]
  },
  {
   "cell_type": "code",
   "execution_count": 34,
   "metadata": {},
   "outputs": [],
   "source": [
    "df['special_char_ind'] = df['url'].apply(lambda x: 1 if re.search(special_chars, x) is not None else 0)"
   ]
  },
  {
   "cell_type": "code",
   "execution_count": 35,
   "metadata": {},
   "outputs": [
    {
     "data": {
      "text/plain": [
       "0    94\n",
       "1     6\n",
       "Name: special_char_ind, dtype: int64"
      ]
     },
     "execution_count": 35,
     "metadata": {},
     "output_type": "execute_result"
    }
   ],
   "source": [
    "df['special_char_ind'].value_counts()"
   ]
  },
  {
   "cell_type": "code",
   "execution_count": 36,
   "metadata": {},
   "outputs": [
    {
     "data": {
      "text/plain": [
       "5259594    https://www.cd-chap.com/%D8%AF%D8%B1%D8%A8%D8%...\n",
       "3522573    http://ceccas.com/sexy-direct-le-en-adolescent...\n",
       "3825796    https://www.cbssports.com/mlb/teams/stats/SEA/...\n",
       "4725806    https://search.cctv.com/?qtext=%E8%82%B2%E9%BE%84\n",
       "4095811       https://www.castorus.com/montpellier,d66537510\n",
       "Name: url, dtype: object"
      ]
     },
     "execution_count": 36,
     "metadata": {},
     "output_type": "execute_result"
    }
   ],
   "source": [
    "special_df = df[df['special_char_ind'] == 1].sample(5)['url']\n",
    "special_df"
   ]
  },
  {
   "cell_type": "code",
   "execution_count": 39,
   "metadata": {},
   "outputs": [
    {
     "data": {
      "text/plain": [
       "'http://ceccas.com/sexy-direct-le-en-adolescents-mamie-t%C3%A9l%C3%A9phone-cam-cach%C3%A9-porno-mms-cams-salons-montrer-gratuit'"
      ]
     },
     "execution_count": 39,
     "metadata": {},
     "output_type": "execute_result"
    }
   ],
   "source": [
    "special_df.iloc[1]"
   ]
  },
  {
   "cell_type": "code",
   "execution_count": 40,
   "metadata": {},
   "outputs": [
    {
     "data": {
      "text/plain": [
       "'https://www.cbssports.com/mlb/teams/stats/SEA/seattle-mariners/preseason/PIT-BASIC/yearly?/%3F&_3:col_1=12&/&_1:col_1=6&_3:col_1=18&_3:col_2=3&_1:col_1=17&_1:col_2=12'"
      ]
     },
     "execution_count": 40,
     "metadata": {},
     "output_type": "execute_result"
    }
   ],
   "source": [
    "special_df.iloc[2]"
   ]
  },
  {
   "cell_type": "code",
   "execution_count": 41,
   "metadata": {},
   "outputs": [
    {
     "data": {
      "text/plain": [
       "'https://search.cctv.com/?qtext=%E8%82%B2%E9%BE%84'"
      ]
     },
     "execution_count": 41,
     "metadata": {},
     "output_type": "execute_result"
    }
   ],
   "source": [
    "special_df.iloc[3]"
   ]
  },
  {
   "cell_type": "markdown",
   "metadata": {},
   "source": [
    "### Count"
   ]
  },
  {
   "cell_type": "code",
   "execution_count": 62,
   "metadata": {},
   "outputs": [],
   "source": [
    "special_chars = re.compile(\"[$-_.+!*'\\(\\)\\,]\")"
   ]
  },
  {
   "cell_type": "code",
   "execution_count": 167,
   "metadata": {},
   "outputs": [
    {
     "data": {
      "text/plain": [
       "'http://www.certiferme.com/sante/conseil-%C2%AB-etude-de-l-alimentation-totale-%C2%BB-en-france-1-1196.html'"
      ]
     },
     "execution_count": 167,
     "metadata": {},
     "output_type": "execute_result"
    }
   ],
   "source": [
    "url = df.loc[5790614, 'url']\n",
    "url"
   ]
  },
  {
   "cell_type": "code",
   "execution_count": 170,
   "metadata": {},
   "outputs": [
    {
     "data": {
      "text/plain": [
       "4"
      ]
     },
     "execution_count": 170,
     "metadata": {},
     "output_type": "execute_result"
    }
   ],
   "source": [
    "len(re.findall(special_chars, url))"
   ]
  },
  {
   "cell_type": "code",
   "execution_count": 172,
   "metadata": {},
   "outputs": [],
   "source": [
    "df['special_char_cnt'] = df['url'].apply(lambda x: len(re.findall(special_chars, x)))"
   ]
  },
  {
   "cell_type": "code",
   "execution_count": 175,
   "metadata": {},
   "outputs": [
    {
     "data": {
      "text/plain": [
       "(array([97.,  1.,  0.,  0.,  0.,  0.,  0.,  1.,  0.,  1.]),\n",
       " array([ 0. ,  4.5,  9. , 13.5, 18. , 22.5, 27. , 31.5, 36. , 40.5, 45. ]),\n",
       " <a list of 10 Patch objects>)"
      ]
     },
     "execution_count": 175,
     "metadata": {},
     "output_type": "execute_result"
    },
    {
     "data": {
      "image/png": "[encoded data removed]",
      "text/plain": [
       "<Figure size 432x288 with 1 Axes>"
      ]
     },
     "metadata": {
      "needs_background": "light"
     },
     "output_type": "display_data"
    }
   ],
   "source": [
    "plt.hist(df['special_char_cnt']);"
   ]
  },
  {
   "cell_type": "markdown",
   "metadata": {},
   "source": [
    "Counting special characters may be more discriminative than a simple indicator"
   ]
  },
  {
   "cell_type": "markdown",
   "metadata": {},
   "source": [
    "Do the same with \"reserved\" characters"
   ]
  },
  {
   "cell_type": "code",
   "execution_count": 173,
   "metadata": {},
   "outputs": [],
   "source": [
    "reserved_chars = re.compile(r'[;/\\?:@=&]')"
   ]
  },
  {
   "cell_type": "code",
   "execution_count": 177,
   "metadata": {},
   "outputs": [],
   "source": [
    "df['reserved_char_cnt'] = df['url'].apply(lambda x: len(re.findall(reserved_chars, x)))"
   ]
  },
  {
   "cell_type": "code",
   "execution_count": 178,
   "metadata": {},
   "outputs": [
    {
     "data": {
      "image/png": "[encoded data removed]",
      "text/plain": [
       "<Figure size 432x288 with 1 Axes>"
      ]
     },
     "metadata": {
      "needs_background": "light"
     },
     "output_type": "display_data"
    }
   ],
   "source": [
    "plt.hist(df['reserved_char_cnt']);"
   ]
  },
  {
   "cell_type": "markdown",
   "metadata": {},
   "source": [
    "## Hex"
   ]
  },
  {
   "cell_type": "markdown",
   "metadata": {},
   "source": [
    "This post suggests %[A-Z][A-Z] is URL-encoding of hex: https://stackoverflow.com/questions/25222973/weird-characters-in-url"
   ]
  },
  {
   "cell_type": "markdown",
   "metadata": {},
   "source": [
    "This page confirms that encoding consists of one or more character triplets, starting with `%`, followed by two hexadecimal digis (i.e. [0-9A-Z]): https://www.url-encode-decode.com/"
   ]
  },
  {
   "cell_type": "markdown",
   "metadata": {},
   "source": [
    "See also: https://en.wikipedia.org/wiki/Percent-encoding"
   ]
  },
  {
   "cell_type": "code",
   "execution_count": 92,
   "metadata": {},
   "outputs": [],
   "source": [
    "hex_pattern = re.compile(\"(%[0-9A-F]{2})\")"
   ]
  },
  {
   "cell_type": "code",
   "execution_count": 81,
   "metadata": {},
   "outputs": [
    {
     "data": {
      "text/plain": [
       "'https://search.cctv.com/?qtext=%E7%AC%AC%E4%B8%89%E5%B1%8A%E6%96%B0%E5%86%9C%E6%9D%91%E7%94%B5%E8%A7%86%E8%89%BA%E6%9C%AF%E8%8A%82'"
      ]
     },
     "execution_count": 81,
     "metadata": {},
     "output_type": "execute_result"
    }
   ],
   "source": [
    "special_url"
   ]
  },
  {
   "cell_type": "code",
   "execution_count": 82,
   "metadata": {},
   "outputs": [
    {
     "data": {
      "text/plain": [
       "<_sre.SRE_Match object; span=(31, 130), match='%E7%AC%AC%E4%B8%89%E5%B1%8A%E6%96%B0%E5%86%9C%E6%>"
      ]
     },
     "execution_count": 82,
     "metadata": {},
     "output_type": "execute_result"
    }
   ],
   "source": [
    "re.search(hex_pattern, special_url)"
   ]
  },
  {
   "cell_type": "code",
   "execution_count": 93,
   "metadata": {},
   "outputs": [],
   "source": [
    "df['hex_pattern_ind'] = df['url'].apply(lambda x: 1 if re.search(hex_pattern, x) is not None else 0)"
   ]
  },
  {
   "cell_type": "code",
   "execution_count": 94,
   "metadata": {},
   "outputs": [
    {
     "data": {
      "text/plain": [
       "0    95\n",
       "1     5\n",
       "Name: hex_pattern_ind, dtype: int64"
      ]
     },
     "execution_count": 94,
     "metadata": {},
     "output_type": "execute_result"
    }
   ],
   "source": [
    "df['hex_pattern_ind'].value_counts()"
   ]
  },
  {
   "cell_type": "code",
   "execution_count": 95,
   "metadata": {},
   "outputs": [
    {
     "data": {
      "text/plain": [
       "2167067    https://cascadecenters.com/index.php?tray=topi...\n",
       "5790614    http://www.certiferme.com/sante/conseil-%C2%AB...\n",
       "6909835    https://search.cctv.com/?qtext=%E7%AC%AC%E4%B8...\n",
       "4393411    https://cuttingtools.ceratizit.com/se/sv/bearb...\n",
       "4542755    http://www.century21nets.com/name/11/27/27210/...\n",
       "Name: url, dtype: object"
      ]
     },
     "execution_count": 95,
     "metadata": {},
     "output_type": "execute_result"
    }
   ],
   "source": [
    "df[df['hex_pattern_ind'] == 1]['url']"
   ]
  },
  {
   "cell_type": "markdown",
   "metadata": {},
   "source": [
    "These are the same as the 'special character' URLs. Consider modifying special characters to not include Hex char's"
   ]
  },
  {
   "cell_type": "code",
   "execution_count": 115,
   "metadata": {},
   "outputs": [
    {
     "data": {
      "text/html": [
       "<div>\n",
       "<style scoped>\n",
       "    .dataframe tbody tr th:only-of-type {\n",
       "        vertical-align: middle;\n",
       "    }\n",
       "\n",
       "    .dataframe tbody tr th {\n",
       "        vertical-align: top;\n",
       "    }\n",
       "\n",
       "    .dataframe thead th {\n",
       "        text-align: right;\n",
       "    }\n",
       "</style>\n",
       "<table border=\"1\" class=\"dataframe\">\n",
       "  <thead>\n",
       "    <tr style=\"text-align: right;\">\n",
       "      <th></th>\n",
       "      <th>url</th>\n",
       "      <th>label</th>\n",
       "      <th>tld_extract</th>\n",
       "      <th>subdomain</th>\n",
       "      <th>domain</th>\n",
       "      <th>suffix</th>\n",
       "      <th>length_url</th>\n",
       "      <th>length_domain</th>\n",
       "      <th>protocol</th>\n",
       "      <th>special_char_ind</th>\n",
       "      <th>hex_pattern_ind</th>\n",
       "      <th>domain_dots_cnt</th>\n",
       "      <th>url_slashes_cnt</th>\n",
       "    </tr>\n",
       "  </thead>\n",
       "  <tbody>\n",
       "    <tr>\n",
       "      <th>3552891</th>\n",
       "      <td>https://catused.cat.com/nl/bouw/rupsgraafmachi...</td>\n",
       "      <td>benign</td>\n",
       "      <td>(catused, cat, com)</td>\n",
       "      <td>catused</td>\n",
       "      <td>cat</td>\n",
       "      <td>com</td>\n",
       "      <td>122</td>\n",
       "      <td>3</td>\n",
       "      <td>https</td>\n",
       "      <td>0</td>\n",
       "      <td>0</td>\n",
       "      <td>0</td>\n",
       "      <td>7</td>\n",
       "    </tr>\n",
       "    <tr>\n",
       "      <th>4932367</th>\n",
       "      <td>https://www.cbssports.com/mlb/teams/stats/KC/k...</td>\n",
       "      <td>benign</td>\n",
       "      <td>(www, cbssports, com)</td>\n",
       "      <td>www</td>\n",
       "      <td>cbssports</td>\n",
       "      <td>com</td>\n",
       "      <td>140</td>\n",
       "      <td>9</td>\n",
       "      <td>https</td>\n",
       "      <td>0</td>\n",
       "      <td>0</td>\n",
       "      <td>0</td>\n",
       "      <td>10</td>\n",
       "    </tr>\n",
       "    <tr>\n",
       "      <th>5817193</th>\n",
       "      <td>https://www.cbsnews.com/news/cops-girlfriend-p...</td>\n",
       "      <td>benign</td>\n",
       "      <td>(www, cbsnews, com)</td>\n",
       "      <td>www</td>\n",
       "      <td>cbsnews</td>\n",
       "      <td>com</td>\n",
       "      <td>106</td>\n",
       "      <td>7</td>\n",
       "      <td>https</td>\n",
       "      <td>0</td>\n",
       "      <td>0</td>\n",
       "      <td>0</td>\n",
       "      <td>5</td>\n",
       "    </tr>\n",
       "    <tr>\n",
       "      <th>2499166</th>\n",
       "      <td>https://auction.catawiki.com/auctions/autobidd...</td>\n",
       "      <td>benign</td>\n",
       "      <td>(auction, catawiki, com)</td>\n",
       "      <td>auction</td>\n",
       "      <td>catawiki</td>\n",
       "      <td>com</td>\n",
       "      <td>83</td>\n",
       "      <td>8</td>\n",
       "      <td>https</td>\n",
       "      <td>0</td>\n",
       "      <td>0</td>\n",
       "      <td>0</td>\n",
       "      <td>4</td>\n",
       "    </tr>\n",
       "    <tr>\n",
       "      <th>2167067</th>\n",
       "      <td>https://cascadecenters.com/index.php?tray=topi...</td>\n",
       "      <td>benign</td>\n",
       "      <td>(, cascadecenters, com)</td>\n",
       "      <td></td>\n",
       "      <td>cascadecenters</td>\n",
       "      <td>com</td>\n",
       "      <td>423</td>\n",
       "      <td>14</td>\n",
       "      <td>https</td>\n",
       "      <td>1</td>\n",
       "      <td>1</td>\n",
       "      <td>0</td>\n",
       "      <td>3</td>\n",
       "    </tr>\n",
       "  </tbody>\n",
       "</table>\n",
       "</div>"
      ],
      "text/plain": [
       "                                                       url   label  \\\n",
       "3552891  https://catused.cat.com/nl/bouw/rupsgraafmachi...  benign   \n",
       "4932367  https://www.cbssports.com/mlb/teams/stats/KC/k...  benign   \n",
       "5817193  https://www.cbsnews.com/news/cops-girlfriend-p...  benign   \n",
       "2499166  https://auction.catawiki.com/auctions/autobidd...  benign   \n",
       "2167067  https://cascadecenters.com/index.php?tray=topi...  benign   \n",
       "\n",
       "                      tld_extract subdomain          domain suffix  \\\n",
       "3552891       (catused, cat, com)   catused             cat    com   \n",
       "4932367     (www, cbssports, com)       www       cbssports    com   \n",
       "5817193       (www, cbsnews, com)       www         cbsnews    com   \n",
       "2499166  (auction, catawiki, com)   auction        catawiki    com   \n",
       "2167067   (, cascadecenters, com)            cascadecenters    com   \n",
       "\n",
       "         length_url  length_domain protocol  special_char_ind  \\\n",
       "3552891         122              3    https                 0   \n",
       "4932367         140              9    https                 0   \n",
       "5817193         106              7    https                 0   \n",
       "2499166          83              8    https                 0   \n",
       "2167067         423             14    https                 1   \n",
       "\n",
       "         hex_pattern_ind  domain_dots_cnt  url_slashes_cnt  \n",
       "3552891                0                0                7  \n",
       "4932367                0                0               10  \n",
       "5817193                0                0                5  \n",
       "2499166                0                0                4  \n",
       "2167067                1                0                3  "
      ]
     },
     "execution_count": 115,
     "metadata": {},
     "output_type": "execute_result"
    }
   ],
   "source": [
    "df.head()"
   ]
  },
  {
   "cell_type": "markdown",
   "metadata": {},
   "source": [
    "## Path"
   ]
  },
  {
   "cell_type": "markdown",
   "metadata": {},
   "source": [
    "Ref: https://www.oreilly.com/library/view/regular-expressions-cookbook/9780596802837/ch07s12.html"
   ]
  },
  {
   "cell_type": "code",
   "execution_count": 42,
   "metadata": {},
   "outputs": [],
   "source": [
    "path_regex = re.compile(r\"^([a-z][a-z0-9+\\-.]*:(//[^/?#]+)?)?([a-zA-Z0-9\\-._~%!$&'()*+,;=:@/]*)\")\n",
    "# path_regex = re.compile(r\"([a-z0-9\\-._~%!$&'()*+,;=:@/]*)\")"
   ]
  },
  {
   "cell_type": "code",
   "execution_count": 43,
   "metadata": {},
   "outputs": [
    {
     "data": {
      "text/plain": [
       "'http://www.catchingfeatures.com/comps/raceinfo.php?raceid=5246'"
      ]
     },
     "execution_count": 43,
     "metadata": {},
     "output_type": "execute_result"
    }
   ],
   "source": [
    "test_url = df.sample()['url'].values[0]\n",
    "test_url"
   ]
  },
  {
   "cell_type": "code",
   "execution_count": 44,
   "metadata": {},
   "outputs": [
    {
     "data": {
      "text/plain": [
       "[('http://www.catchingfeatures.com',\n",
       "  '//www.catchingfeatures.com',\n",
       "  '/comps/raceinfo.php')]"
      ]
     },
     "execution_count": 44,
     "metadata": {},
     "output_type": "execute_result"
    }
   ],
   "source": [
    "re.findall(path_regex, test_url)"
   ]
  },
  {
   "cell_type": "code",
   "execution_count": 46,
   "metadata": {},
   "outputs": [
    {
     "data": {
      "text/plain": [
       "'/comps/raceinfo.php'"
      ]
     },
     "execution_count": 46,
     "metadata": {},
     "output_type": "execute_result"
    }
   ],
   "source": [
    "re.findall(path_regex, test_url)[0][-1]"
   ]
  },
  {
   "cell_type": "code",
   "execution_count": 48,
   "metadata": {},
   "outputs": [],
   "source": [
    "df['path'] = df['url'].apply(lambda x: re.findall(path_regex, x)[0][-1])"
   ]
  },
  {
   "cell_type": "code",
   "execution_count": 49,
   "metadata": {},
   "outputs": [
    {
     "data": {
      "text/html": [
       "<div>\n",
       "<style scoped>\n",
       "    .dataframe tbody tr th:only-of-type {\n",
       "        vertical-align: middle;\n",
       "    }\n",
       "\n",
       "    .dataframe tbody tr th {\n",
       "        vertical-align: top;\n",
       "    }\n",
       "\n",
       "    .dataframe thead th {\n",
       "        text-align: right;\n",
       "    }\n",
       "</style>\n",
       "<table border=\"1\" class=\"dataframe\">\n",
       "  <thead>\n",
       "    <tr style=\"text-align: right;\">\n",
       "      <th></th>\n",
       "      <th>url</th>\n",
       "      <th>path</th>\n",
       "    </tr>\n",
       "  </thead>\n",
       "  <tbody>\n",
       "    <tr>\n",
       "      <th>6748065</th>\n",
       "      <td>https://www.century21global.com/zh-hk/office/c...</td>\n",
       "      <td>/zh-hk/office/century-21-cobham---esher-C21111...</td>\n",
       "    </tr>\n",
       "    <tr>\n",
       "      <th>3375259</th>\n",
       "      <td>https://www.catimini.com/fr-fr/website/40-ling...</td>\n",
       "      <td>/fr-fr/website/40-linge-de-maison</td>\n",
       "    </tr>\n",
       "    <tr>\n",
       "      <th>5567924</th>\n",
       "      <td>https://cq.centanet.com/ershoufang-ditie/t4p1h...</td>\n",
       "      <td>/ershoufang-ditie/t4p1h1a75l3m3u20/</td>\n",
       "    </tr>\n",
       "    <tr>\n",
       "      <th>528739</th>\n",
       "      <td>https://greenfoottech.catsone.com/careers/3019...</td>\n",
       "      <td>/careers/3019-General/jobs/7162911-Vice-Presid...</td>\n",
       "    </tr>\n",
       "    <tr>\n",
       "      <th>3118246</th>\n",
       "      <td>https://bj.centanet.com/ershoufang-ditie/p3a11...</td>\n",
       "      <td>/ershoufang-ditie/p3a111l4o2u0/</td>\n",
       "    </tr>\n",
       "  </tbody>\n",
       "</table>\n",
       "</div>"
      ],
      "text/plain": [
       "                                                       url  \\\n",
       "6748065  https://www.century21global.com/zh-hk/office/c...   \n",
       "3375259  https://www.catimini.com/fr-fr/website/40-ling...   \n",
       "5567924  https://cq.centanet.com/ershoufang-ditie/t4p1h...   \n",
       "528739   https://greenfoottech.catsone.com/careers/3019...   \n",
       "3118246  https://bj.centanet.com/ershoufang-ditie/p3a11...   \n",
       "\n",
       "                                                      path  \n",
       "6748065  /zh-hk/office/century-21-cobham---esher-C21111...  \n",
       "3375259                  /fr-fr/website/40-linge-de-maison  \n",
       "5567924                /ershoufang-ditie/t4p1h1a75l3m3u20/  \n",
       "528739   /careers/3019-General/jobs/7162911-Vice-Presid...  \n",
       "3118246                    /ershoufang-ditie/p3a111l4o2u0/  "
      ]
     },
     "execution_count": 49,
     "metadata": {},
     "output_type": "execute_result"
    }
   ],
   "source": [
    "df[['url', 'path']].head()"
   ]
  },
  {
   "cell_type": "code",
   "execution_count": 50,
   "metadata": {},
   "outputs": [],
   "source": [
    "df['length_path'] = df['path'].map(len)"
   ]
  },
  {
   "cell_type": "code",
   "execution_count": 51,
   "metadata": {},
   "outputs": [
    {
     "data": {
      "image/png": "[encoded data removed]",
      "text/plain": [
       "<Figure size 432x288 with 1 Axes>"
      ]
     },
     "metadata": {
      "needs_background": "light"
     },
     "output_type": "display_data"
    }
   ],
   "source": [
    "plt.hist(df['length_path']);"
   ]
  },
  {
   "cell_type": "code",
   "execution_count": 52,
   "metadata": {},
   "outputs": [
    {
     "data": {
      "text/plain": [
       "count    100.000000\n",
       "mean      35.660000\n",
       "std       26.545262\n",
       "min        1.000000\n",
       "25%       14.000000\n",
       "50%       28.000000\n",
       "75%       50.500000\n",
       "max      121.000000\n",
       "Name: length_path, dtype: float64"
      ]
     },
     "execution_count": 52,
     "metadata": {},
     "output_type": "execute_result"
    }
   ],
   "source": [
    "df['length_path'].describe()"
   ]
  },
  {
   "cell_type": "code",
   "execution_count": 53,
   "metadata": {},
   "outputs": [
    {
     "data": {
      "text/html": [
       "<div>\n",
       "<style scoped>\n",
       "    .dataframe tbody tr th:only-of-type {\n",
       "        vertical-align: middle;\n",
       "    }\n",
       "\n",
       "    .dataframe tbody tr th {\n",
       "        vertical-align: top;\n",
       "    }\n",
       "\n",
       "    .dataframe thead th {\n",
       "        text-align: right;\n",
       "    }\n",
       "</style>\n",
       "<table border=\"1\" class=\"dataframe\">\n",
       "  <thead>\n",
       "    <tr style=\"text-align: right;\">\n",
       "      <th></th>\n",
       "      <th>url</th>\n",
       "      <th>path</th>\n",
       "    </tr>\n",
       "  </thead>\n",
       "  <tbody>\n",
       "    <tr>\n",
       "      <th>6824131</th>\n",
       "      <td>https://shop.catalog-on-demand.com/?product_ca...</td>\n",
       "      <td>/</td>\n",
       "    </tr>\n",
       "    <tr>\n",
       "      <th>5306950</th>\n",
       "      <td>https://www.centrohipnosisamets.com/</td>\n",
       "      <td>/</td>\n",
       "    </tr>\n",
       "    <tr>\n",
       "      <th>4725806</th>\n",
       "      <td>https://search.cctv.com/?qtext=%E8%82%B2%E9%BE%84</td>\n",
       "      <td>/</td>\n",
       "    </tr>\n",
       "  </tbody>\n",
       "</table>\n",
       "</div>"
      ],
      "text/plain": [
       "                                                       url path\n",
       "6824131  https://shop.catalog-on-demand.com/?product_ca...    /\n",
       "5306950               https://www.centrohipnosisamets.com/    /\n",
       "4725806  https://search.cctv.com/?qtext=%E8%82%B2%E9%BE%84    /"
      ]
     },
     "execution_count": 53,
     "metadata": {},
     "output_type": "execute_result"
    }
   ],
   "source": [
    "df[df['length_path'] == 1][['url', 'path']]"
   ]
  },
  {
   "cell_type": "markdown",
   "metadata": {},
   "source": [
    "Note that when there is no path, this return '/' (with a length of 1). To be correct, could/should subtract 1 from length_path"
   ]
  },
  {
   "cell_type": "markdown",
   "metadata": {},
   "source": [
    "### Num dots"
   ]
  },
  {
   "cell_type": "code",
   "execution_count": 54,
   "metadata": {},
   "outputs": [],
   "source": [
    "df['path_dot_cnt'] = df['path'].apply(lambda x: x.count('.'))"
   ]
  },
  {
   "cell_type": "code",
   "execution_count": 55,
   "metadata": {},
   "outputs": [
    {
     "data": {
      "image/png": "[encoded data removed]",
      "text/plain": [
       "<Figure size 432x288 with 1 Axes>"
      ]
     },
     "metadata": {
      "needs_background": "light"
     },
     "output_type": "display_data"
    }
   ],
   "source": [
    "plt.hist(df['path_dot_cnt']);"
   ]
  },
  {
   "cell_type": "markdown",
   "metadata": {},
   "source": [
    "## Query"
   ]
  },
  {
   "cell_type": "code",
   "execution_count": null,
   "metadata": {},
   "outputs": [],
   "source": [
    "test_url = df.sample()['url'].values[0]\n",
    "test_url"
   ]
  },
  {
   "cell_type": "code",
   "execution_count": 56,
   "metadata": {},
   "outputs": [],
   "source": [
    "QUERY_REGEX = re.compile(r\"\\?([a-z0-9\\-._~%!$&'()*+,;=:@/]*)#?\")"
   ]
  },
  {
   "cell_type": "code",
   "execution_count": 213,
   "metadata": {},
   "outputs": [],
   "source": [
    "re.match(QUERY_REGEX, test_url)"
   ]
  },
  {
   "cell_type": "code",
   "execution_count": 215,
   "metadata": {},
   "outputs": [
    {
     "data": {
      "text/plain": [
       "['_3:col_1=2&_3:col_2=13&_1:col_1=6&_1:col_2=11']"
      ]
     },
     "execution_count": 215,
     "metadata": {},
     "output_type": "execute_result"
    }
   ],
   "source": [
    "re.findall(QUERY_REGEX, test_url)"
   ]
  },
  {
   "cell_type": "code",
   "execution_count": 216,
   "metadata": {},
   "outputs": [
    {
     "data": {
      "text/plain": [
       "<_sre.SRE_Match object; span=(94, 140), match='?_3:col_1=2&_3:col_2=13&_1:col_1=6&_1:col_2=11'>"
      ]
     },
     "execution_count": 216,
     "metadata": {},
     "output_type": "execute_result"
    }
   ],
   "source": [
    "re.search(QUERY_REGEX, test_url)"
   ]
  },
  {
   "cell_type": "code",
   "execution_count": 249,
   "metadata": {},
   "outputs": [
    {
     "data": {
      "text/plain": [
       "'https://auction.catawiki.com/auctions/autobidding?auction_id=257435&lot_id=28724703'"
      ]
     },
     "execution_count": 249,
     "metadata": {},
     "output_type": "execute_result"
    }
   ],
   "source": [
    "test_url = df.loc[2499166, 'url']\n",
    "test_url"
   ]
  },
  {
   "cell_type": "code",
   "execution_count": 251,
   "metadata": {},
   "outputs": [],
   "source": [
    "re.match(QUERY_REGEX, test_url)"
   ]
  },
  {
   "cell_type": "code",
   "execution_count": 244,
   "metadata": {},
   "outputs": [
    {
     "data": {
      "text/plain": [
       "'?auction_id=257435&lot_id=28724703'"
      ]
     },
     "execution_count": 244,
     "metadata": {},
     "output_type": "execute_result"
    }
   ],
   "source": [
    "re.search(QUERY_REGEX, test_url).group(0)"
   ]
  },
  {
   "cell_type": "code",
   "execution_count": 240,
   "metadata": {},
   "outputs": [
    {
     "data": {
      "text/plain": [
       "['auction_id=257435&lot_id=28724703']"
      ]
     },
     "execution_count": 240,
     "metadata": {},
     "output_type": "execute_result"
    }
   ],
   "source": [
    "re.findall(QUERY_REGEX, test_url)"
   ]
  },
  {
   "cell_type": "markdown",
   "metadata": {},
   "source": [
    "When there is no query, this approach won't work, as `re.search` returns `None`"
   ]
  },
  {
   "cell_type": "code",
   "execution_count": 57,
   "metadata": {},
   "outputs": [
    {
     "data": {
      "text/plain": [
       "'https://www.casamundo.com/rekreacni-domy/belgie/vychodni-flandry/moerbeke-waas'"
      ]
     },
     "execution_count": 57,
     "metadata": {},
     "output_type": "execute_result"
    }
   ],
   "source": [
    "test_url = df.sample()['url'].values[0]\n",
    "test_url"
   ]
  },
  {
   "cell_type": "code",
   "execution_count": 59,
   "metadata": {},
   "outputs": [
    {
     "name": "stdout",
     "output_type": "stream",
     "text": [
      "None\n"
     ]
    }
   ],
   "source": [
    "print(re.search(QUERY_REGEX, test_url))"
   ]
  },
  {
   "cell_type": "code",
   "execution_count": 60,
   "metadata": {},
   "outputs": [],
   "source": [
    "# I couldn't get this to work\n",
    "# df['query_stg'] = df['url'].apply(lambda x: re.search(QUERY_REGEX, x))\n",
    "# df['query'] = np.where(~df['query_stg'].isna(),\n",
    "#                        df['query_stg'].apply(lambda x: x.group(0)),\n",
    "#                        None)"
   ]
  },
  {
   "cell_type": "code",
   "execution_count": 272,
   "metadata": {},
   "outputs": [],
   "source": [
    "def get_query(url):\n",
    "    try: \n",
    "        return re.search(QUERY_REGEX, url).group(0)\n",
    "    except AttributeError:\n",
    "        return None"
   ]
  },
  {
   "cell_type": "code",
   "execution_count": 274,
   "metadata": {},
   "outputs": [],
   "source": [
    "df['query'] = df['url'].apply(get_query)"
   ]
  },
  {
   "cell_type": "code",
   "execution_count": null,
   "metadata": {},
   "outputs": [],
   "source": []
  },
  {
   "cell_type": "code",
   "execution_count": 275,
   "metadata": {},
   "outputs": [
    {
     "data": {
      "text/html": [
       "<div>\n",
       "<style scoped>\n",
       "    .dataframe tbody tr th:only-of-type {\n",
       "        vertical-align: middle;\n",
       "    }\n",
       "\n",
       "    .dataframe tbody tr th {\n",
       "        vertical-align: top;\n",
       "    }\n",
       "\n",
       "    .dataframe thead th {\n",
       "        text-align: right;\n",
       "    }\n",
       "</style>\n",
       "<table border=\"1\" class=\"dataframe\">\n",
       "  <thead>\n",
       "    <tr style=\"text-align: right;\">\n",
       "      <th></th>\n",
       "      <th>url</th>\n",
       "      <th>query_stg</th>\n",
       "      <th>query</th>\n",
       "    </tr>\n",
       "  </thead>\n",
       "  <tbody>\n",
       "    <tr>\n",
       "      <th>3552891</th>\n",
       "      <td>https://catused.cat.com/nl/bouw/rupsgraafmachi...</td>\n",
       "      <td>None</td>\n",
       "      <td>None</td>\n",
       "    </tr>\n",
       "    <tr>\n",
       "      <th>4932367</th>\n",
       "      <td>https://www.cbssports.com/mlb/teams/stats/KC/k...</td>\n",
       "      <td>&lt;_sre.SRE_Match object; span=(94, 140), match=...</td>\n",
       "      <td>?_3:col_1=2&amp;_3:col_2=13&amp;_1:col_1=6&amp;_1:col_2=11</td>\n",
       "    </tr>\n",
       "    <tr>\n",
       "      <th>5817193</th>\n",
       "      <td>https://www.cbsnews.com/news/cops-girlfriend-p...</td>\n",
       "      <td>None</td>\n",
       "      <td>None</td>\n",
       "    </tr>\n",
       "    <tr>\n",
       "      <th>2499166</th>\n",
       "      <td>https://auction.catawiki.com/auctions/autobidd...</td>\n",
       "      <td>&lt;_sre.SRE_Match object; span=(49, 83), match='...</td>\n",
       "      <td>?auction_id=257435&amp;lot_id=28724703</td>\n",
       "    </tr>\n",
       "    <tr>\n",
       "      <th>2167067</th>\n",
       "      <td>https://cascadecenters.com/index.php?tray=topi...</td>\n",
       "      <td>&lt;_sre.SRE_Match object; span=(36, 86), match='...</td>\n",
       "      <td>?tray=topic&amp;tid=top10572&amp;cid=74&amp;ordertop10590=...</td>\n",
       "    </tr>\n",
       "  </tbody>\n",
       "</table>\n",
       "</div>"
      ],
      "text/plain": [
       "                                                       url  \\\n",
       "3552891  https://catused.cat.com/nl/bouw/rupsgraafmachi...   \n",
       "4932367  https://www.cbssports.com/mlb/teams/stats/KC/k...   \n",
       "5817193  https://www.cbsnews.com/news/cops-girlfriend-p...   \n",
       "2499166  https://auction.catawiki.com/auctions/autobidd...   \n",
       "2167067  https://cascadecenters.com/index.php?tray=topi...   \n",
       "\n",
       "                                                 query_stg  \\\n",
       "3552891                                               None   \n",
       "4932367  <_sre.SRE_Match object; span=(94, 140), match=...   \n",
       "5817193                                               None   \n",
       "2499166  <_sre.SRE_Match object; span=(49, 83), match='...   \n",
       "2167067  <_sre.SRE_Match object; span=(36, 86), match='...   \n",
       "\n",
       "                                                     query  \n",
       "3552891                                               None  \n",
       "4932367     ?_3:col_1=2&_3:col_2=13&_1:col_1=6&_1:col_2=11  \n",
       "5817193                                               None  \n",
       "2499166                 ?auction_id=257435&lot_id=28724703  \n",
       "2167067  ?tray=topic&tid=top10572&cid=74&ordertop10590=...  "
      ]
     },
     "execution_count": 275,
     "metadata": {},
     "output_type": "execute_result"
    }
   ],
   "source": [
    "df[['url', 'query_stg', 'query']].head()"
   ]
  },
  {
   "cell_type": "markdown",
   "metadata": {},
   "source": [
    "## Entropy"
   ]
  },
  {
   "cell_type": "markdown",
   "metadata": {},
   "source": [
    "Definition from https://rosettacode.org/wiki/Entropy"
   ]
  },
  {
   "cell_type": "code",
   "execution_count": 4,
   "metadata": {},
   "outputs": [],
   "source": [
    "from collections import Counter\n",
    "\n",
    "def shannon_specific_entropy(s):\n",
    "    N = len(s)\n",
    "    c = Counter(s)\n",
    "    h_sum = 0\n",
    "    for x, n_i in c.items():\n",
    "        f_i = n_i/N\n",
    "        h_sum += (f_i) * np.log2(f_i)\n",
    "        \n",
    "    h_sum = -h_sum\n",
    "    return h_sum"
   ]
  },
  {
   "cell_type": "code",
   "execution_count": 6,
   "metadata": {},
   "outputs": [
    {
     "data": {
      "text/plain": [
       "1.8464393446710154"
      ]
     },
     "execution_count": 6,
     "metadata": {},
     "output_type": "execute_result"
    }
   ],
   "source": [
    "shannon_specific_entropy('1223334444')"
   ]
  },
  {
   "cell_type": "code",
   "execution_count": 153,
   "metadata": {},
   "outputs": [
    {
     "data": {
      "text/plain": [
       "'https://forums.southpark.cc.com/forum/viewtopic.php?f=19&t=26526&p=563736'"
      ]
     },
     "execution_count": 153,
     "metadata": {},
     "output_type": "execute_result"
    }
   ],
   "source": [
    "url"
   ]
  },
  {
   "cell_type": "code",
   "execution_count": 154,
   "metadata": {},
   "outputs": [
    {
     "data": {
      "text/plain": [
       "4.627998963423238"
      ]
     },
     "execution_count": 154,
     "metadata": {},
     "output_type": "execute_result"
    }
   ],
   "source": [
    "shannon_specific_entropy(url)"
   ]
  },
  {
   "cell_type": "markdown",
   "metadata": {},
   "source": [
    "Apply to hostname & to full URL"
   ]
  },
  {
   "cell_type": "code",
   "execution_count": 158,
   "metadata": {},
   "outputs": [
    {
     "data": {
      "text/plain": [
       "'www.cbsnews.com'"
      ]
     },
     "execution_count": 158,
     "metadata": {},
     "output_type": "execute_result"
    }
   ],
   "source": [
    "tld_extract = df.loc[5817193, 'tld_extract']\n",
    "'.'.join(tld_extract)"
   ]
  },
  {
   "cell_type": "code",
   "execution_count": 159,
   "metadata": {},
   "outputs": [],
   "source": [
    "df['hostname'] = df['tld_extract'].apply(lambda x: '.'.join(x))"
   ]
  },
  {
   "cell_type": "code",
   "execution_count": 160,
   "metadata": {},
   "outputs": [],
   "source": [
    "df['hostname_entropy'] = df['hostname'].apply(shannon_specific_entropy)"
   ]
  },
  {
   "cell_type": "code",
   "execution_count": 162,
   "metadata": {},
   "outputs": [],
   "source": [
    "df['url_entropy'] = df['url'].apply(shannon_specific_entropy)"
   ]
  },
  {
   "cell_type": "markdown",
   "metadata": {},
   "source": [
    "## Hostname"
   ]
  },
  {
   "cell_type": "code",
   "execution_count": 285,
   "metadata": {},
   "outputs": [],
   "source": [
    "df['hostname_dash_cnt'] = df['hostname'].apply(lambda x: x.count('-'))"
   ]
  },
  {
   "cell_type": "code",
   "execution_count": 286,
   "metadata": {},
   "outputs": [
    {
     "data": {
      "image/png": "[encoded data removed]",
      "text/plain": [
       "<Figure size 432x288 with 1 Axes>"
      ]
     },
     "metadata": {
      "needs_background": "light"
     },
     "output_type": "display_data"
    }
   ],
   "source": [
    "plt.hist(df['hostname_dash_cnt']);"
   ]
  },
  {
   "cell_type": "markdown",
   "metadata": {},
   "source": [
    "## Suspicious words"
   ]
  },
  {
   "cell_type": "markdown",
   "metadata": {},
   "source": [
    "This paper lists several: https://www.researchgate.net/publication/324014302_Malicious_URLs_Detection_Using_Decision_Tree_Classifiers_and_Majority_Voting_Technique\n"
   ]
  },
  {
   "cell_type": "code",
   "execution_count": 181,
   "metadata": {},
   "outputs": [
    {
     "data": {
      "text/plain": [
       "1"
      ]
     },
     "execution_count": 181,
     "metadata": {},
     "output_type": "execute_result"
    }
   ],
   "source": [
    "s = 'www.example.com/php'\n",
    "\n",
    "s.count('php')"
   ]
  },
  {
   "cell_type": "code",
   "execution_count": 186,
   "metadata": {},
   "outputs": [],
   "source": [
    "df['url_php_ind'] = np.where(df['url'].str.count('php') == 0, 0, 1)"
   ]
  },
  {
   "cell_type": "code",
   "execution_count": 187,
   "metadata": {},
   "outputs": [
    {
     "data": {
      "text/html": [
       "<div>\n",
       "<style scoped>\n",
       "    .dataframe tbody tr th:only-of-type {\n",
       "        vertical-align: middle;\n",
       "    }\n",
       "\n",
       "    .dataframe tbody tr th {\n",
       "        vertical-align: top;\n",
       "    }\n",
       "\n",
       "    .dataframe thead th {\n",
       "        text-align: right;\n",
       "    }\n",
       "</style>\n",
       "<table border=\"1\" class=\"dataframe\">\n",
       "  <thead>\n",
       "    <tr style=\"text-align: right;\">\n",
       "      <th></th>\n",
       "      <th>url</th>\n",
       "      <th>label</th>\n",
       "      <th>tld_extract</th>\n",
       "      <th>subdomain</th>\n",
       "      <th>domain</th>\n",
       "      <th>suffix</th>\n",
       "      <th>length_url</th>\n",
       "      <th>length_domain</th>\n",
       "      <th>protocol</th>\n",
       "      <th>special_char_ind</th>\n",
       "      <th>...</th>\n",
       "      <th>query_ind</th>\n",
       "      <th>hostname</th>\n",
       "      <th>hostname_entropy</th>\n",
       "      <th>url_entropy</th>\n",
       "      <th>special_char_cnt</th>\n",
       "      <th>reserced_char_cnt</th>\n",
       "      <th>reserved_char_cnt</th>\n",
       "      <th>url_digit_cnt</th>\n",
       "      <th>url_php</th>\n",
       "      <th>url_php_ind</th>\n",
       "    </tr>\n",
       "  </thead>\n",
       "  <tbody>\n",
       "    <tr>\n",
       "      <th>3552891</th>\n",
       "      <td>https://catused.cat.com/nl/bouw/rupsgraafmachi...</td>\n",
       "      <td>benign</td>\n",
       "      <td>(catused, cat, com)</td>\n",
       "      <td>catused</td>\n",
       "      <td>cat</td>\n",
       "      <td>com</td>\n",
       "      <td>122</td>\n",
       "      <td>3</td>\n",
       "      <td>https</td>\n",
       "      <td>0</td>\n",
       "      <td>...</td>\n",
       "      <td>0</td>\n",
       "      <td>catused.cat.com</td>\n",
       "      <td>3.189898</td>\n",
       "      <td>4.749386</td>\n",
       "      <td>0</td>\n",
       "      <td>8</td>\n",
       "      <td>8</td>\n",
       "      <td>18</td>\n",
       "      <td>0</td>\n",
       "      <td>0</td>\n",
       "    </tr>\n",
       "    <tr>\n",
       "      <th>4932367</th>\n",
       "      <td>https://www.cbssports.com/mlb/teams/stats/KC/k...</td>\n",
       "      <td>benign</td>\n",
       "      <td>(www, cbssports, com)</td>\n",
       "      <td>www</td>\n",
       "      <td>cbssports</td>\n",
       "      <td>com</td>\n",
       "      <td>140</td>\n",
       "      <td>9</td>\n",
       "      <td>https</td>\n",
       "      <td>0</td>\n",
       "      <td>...</td>\n",
       "      <td>1</td>\n",
       "      <td>www.cbssports.com</td>\n",
       "      <td>3.175123</td>\n",
       "      <td>4.851127</td>\n",
       "      <td>0</td>\n",
       "      <td>23</td>\n",
       "      <td>23</td>\n",
       "      <td>14</td>\n",
       "      <td>0</td>\n",
       "      <td>0</td>\n",
       "    </tr>\n",
       "    <tr>\n",
       "      <th>5817193</th>\n",
       "      <td>https://www.cbsnews.com/news/cops-girlfriend-p...</td>\n",
       "      <td>benign</td>\n",
       "      <td>(www, cbsnews, com)</td>\n",
       "      <td>www</td>\n",
       "      <td>cbsnews</td>\n",
       "      <td>com</td>\n",
       "      <td>106</td>\n",
       "      <td>7</td>\n",
       "      <td>https</td>\n",
       "      <td>0</td>\n",
       "      <td>...</td>\n",
       "      <td>0</td>\n",
       "      <td>www.cbsnews.com</td>\n",
       "      <td>2.973557</td>\n",
       "      <td>4.297062</td>\n",
       "      <td>0</td>\n",
       "      <td>6</td>\n",
       "      <td>6</td>\n",
       "      <td>0</td>\n",
       "      <td>0</td>\n",
       "      <td>0</td>\n",
       "    </tr>\n",
       "    <tr>\n",
       "      <th>2499166</th>\n",
       "      <td>https://auction.catawiki.com/auctions/autobidd...</td>\n",
       "      <td>benign</td>\n",
       "      <td>(auction, catawiki, com)</td>\n",
       "      <td>auction</td>\n",
       "      <td>catawiki</td>\n",
       "      <td>com</td>\n",
       "      <td>83</td>\n",
       "      <td>8</td>\n",
       "      <td>https</td>\n",
       "      <td>0</td>\n",
       "      <td>...</td>\n",
       "      <td>1</td>\n",
       "      <td>auction.catawiki.com</td>\n",
       "      <td>3.308695</td>\n",
       "      <td>4.559759</td>\n",
       "      <td>0</td>\n",
       "      <td>9</td>\n",
       "      <td>9</td>\n",
       "      <td>14</td>\n",
       "      <td>0</td>\n",
       "      <td>0</td>\n",
       "    </tr>\n",
       "    <tr>\n",
       "      <th>2167067</th>\n",
       "      <td>https://cascadecenters.com/index.php?tray=topi...</td>\n",
       "      <td>benign</td>\n",
       "      <td>(, cascadecenters, com)</td>\n",
       "      <td></td>\n",
       "      <td>cascadecenters</td>\n",
       "      <td>com</td>\n",
       "      <td>423</td>\n",
       "      <td>14</td>\n",
       "      <td>https</td>\n",
       "      <td>1</td>\n",
       "      <td>...</td>\n",
       "      <td>1</td>\n",
       "      <td>.cascadecenters.com</td>\n",
       "      <td>3.260828</td>\n",
       "      <td>4.666683</td>\n",
       "      <td>6</td>\n",
       "      <td>38</td>\n",
       "      <td>38</td>\n",
       "      <td>83</td>\n",
       "      <td>1</td>\n",
       "      <td>1</td>\n",
       "    </tr>\n",
       "  </tbody>\n",
       "</table>\n",
       "<p>5 rows × 26 columns</p>\n",
       "</div>"
      ],
      "text/plain": [
       "                                                       url   label  \\\n",
       "3552891  https://catused.cat.com/nl/bouw/rupsgraafmachi...  benign   \n",
       "4932367  https://www.cbssports.com/mlb/teams/stats/KC/k...  benign   \n",
       "5817193  https://www.cbsnews.com/news/cops-girlfriend-p...  benign   \n",
       "2499166  https://auction.catawiki.com/auctions/autobidd...  benign   \n",
       "2167067  https://cascadecenters.com/index.php?tray=topi...  benign   \n",
       "\n",
       "                      tld_extract subdomain          domain suffix  \\\n",
       "3552891       (catused, cat, com)   catused             cat    com   \n",
       "4932367     (www, cbssports, com)       www       cbssports    com   \n",
       "5817193       (www, cbsnews, com)       www         cbsnews    com   \n",
       "2499166  (auction, catawiki, com)   auction        catawiki    com   \n",
       "2167067   (, cascadecenters, com)            cascadecenters    com   \n",
       "\n",
       "         length_url  length_domain protocol  special_char_ind     ...       \\\n",
       "3552891         122              3    https                 0     ...        \n",
       "4932367         140              9    https                 0     ...        \n",
       "5817193         106              7    https                 0     ...        \n",
       "2499166          83              8    https                 0     ...        \n",
       "2167067         423             14    https                 1     ...        \n",
       "\n",
       "         query_ind              hostname  hostname_entropy  url_entropy  \\\n",
       "3552891          0       catused.cat.com          3.189898     4.749386   \n",
       "4932367          1     www.cbssports.com          3.175123     4.851127   \n",
       "5817193          0       www.cbsnews.com          2.973557     4.297062   \n",
       "2499166          1  auction.catawiki.com          3.308695     4.559759   \n",
       "2167067          1   .cascadecenters.com          3.260828     4.666683   \n",
       "\n",
       "         special_char_cnt reserced_char_cnt  reserved_char_cnt url_digit_cnt  \\\n",
       "3552891                 0                 8                  8            18   \n",
       "4932367                 0                23                 23            14   \n",
       "5817193                 0                 6                  6             0   \n",
       "2499166                 0                 9                  9            14   \n",
       "2167067                 6                38                 38            83   \n",
       "\n",
       "         url_php  url_php_ind  \n",
       "3552891        0            0  \n",
       "4932367        0            0  \n",
       "5817193        0            0  \n",
       "2499166        0            0  \n",
       "2167067        1            1  \n",
       "\n",
       "[5 rows x 26 columns]"
      ]
     },
     "execution_count": 187,
     "metadata": {},
     "output_type": "execute_result"
    }
   ],
   "source": [
    "df.head()"
   ]
  },
  {
   "cell_type": "code",
   "execution_count": 188,
   "metadata": {},
   "outputs": [],
   "source": [
    "SUSPICIOUS_WORDS = ['php', 'abuse', 'admin', 'verification']\n",
    "\n",
    "for word in SUSPICIOUS_WORDS:\n",
    "    col_name = word + '_ind'\n",
    "    df[col_name] = np.where(df['url'].str.count(word) == 0, 0, 1)"
   ]
  }
 ],
 "metadata": {
  "kernelspec": {
   "display_name": "Python 3",
   "language": "python",
   "name": "python3"
  },
  "language_info": {
   "codemirror_mode": {
    "name": "ipython",
    "version": 3
   },
   "file_extension": ".py",
   "mimetype": "text/x-python",
   "name": "python",
   "nbconvert_exporter": "python",
   "pygments_lexer": "ipython3",
   "version": "3.6.7"
  }
 },
 "nbformat": 4,
 "nbformat_minor": 2
}
