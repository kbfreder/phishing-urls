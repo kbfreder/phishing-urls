{
 "cells": [
  {
   "cell_type": "code",
   "execution_count": 1,
   "metadata": {},
   "outputs": [
    {
     "name": "stderr",
     "output_type": "stream",
     "text": [
      "/Users/kendra/anaconda3/lib/python3.6/site-packages/matplotlib/__init__.py:886: MatplotlibDeprecationWarning: \n",
      "examples.directory is deprecated; in the future, examples will be found relative to the 'datapath' directory.\n",
      "  \"found relative to the 'datapath' directory.\".format(key))\n"
     ]
    }
   ],
   "source": [
    "import os\n",
    "import sys\n",
    "import feather\n",
    "import joblib\n",
    "import pandas as pd\n",
    "import numpy as np\n",
    "import re\n",
    "import matplotlib.pyplot as plt\n",
    "from matplotlib import ticker\n",
    "import seaborn as sns\n",
    "\n",
    "from sklearn.preprocessing import LabelEncoder\n",
    "from sklearn.metrics import f1_score\n",
    "from sklearn.metrics import precision_score, recall_score, precision_recall_curve\n",
    "from sklearn.metrics import classification_report, confusion_matrix\n",
    "\n",
    "# project_dir = os.path.dirname(os.path.dirname(os.path.abspath(os.path.curdir)))\n",
    "project_dir = os.path.dirname(os.path.abspath(os.path.curdir))\n",
    "new_path = os.path.join(project_dir, 'src')\n",
    "sys.path.append(new_path)\n",
    "\n",
    "import util as u\n",
    "from model import pipeline as p"
   ]
  },
  {
   "cell_type": "markdown",
   "metadata": {},
   "source": [
    "Load data"
   ]
  },
  {
   "cell_type": "code",
   "execution_count": 2,
   "metadata": {},
   "outputs": [],
   "source": [
    "df = feather.read_dataframe('../data/processed/test_pred.feather')"
   ]
  },
  {
   "cell_type": "code",
   "execution_count": 3,
   "metadata": {},
   "outputs": [
    {
     "data": {
      "text/html": [
       "<div>\n",
       "<style scoped>\n",
       "    .dataframe tbody tr th:only-of-type {\n",
       "        vertical-align: middle;\n",
       "    }\n",
       "\n",
       "    .dataframe tbody tr th {\n",
       "        vertical-align: top;\n",
       "    }\n",
       "\n",
       "    .dataframe thead th {\n",
       "        text-align: right;\n",
       "    }\n",
       "</style>\n",
       "<table border=\"1\" class=\"dataframe\">\n",
       "  <thead>\n",
       "    <tr style=\"text-align: right;\">\n",
       "      <th></th>\n",
       "      <th>url</th>\n",
       "      <th>label</th>\n",
       "      <th>subdomain</th>\n",
       "      <th>domain</th>\n",
       "      <th>suffix</th>\n",
       "      <th>hostname</th>\n",
       "      <th>path</th>\n",
       "      <th>query</th>\n",
       "      <th>subdomain_null_ind</th>\n",
       "      <th>subdomain_www_ind</th>\n",
       "      <th>...</th>\n",
       "      <th>length_path_frac_url_len</th>\n",
       "      <th>length_domain_frac_url_len</th>\n",
       "      <th>url_slash_cnt_frac_url_len</th>\n",
       "      <th>url_digit_cnt_frac_url_len</th>\n",
       "      <th>url_special_char_cnt_frac_url_len</th>\n",
       "      <th>url_reserved_char_cnt_frac_url_len</th>\n",
       "      <th>benign_PREDICT_PROBA</th>\n",
       "      <th>phishing_PREDICT_PROBA</th>\n",
       "      <th>PREDICTION</th>\n",
       "      <th>PRED_CORRECT_IND</th>\n",
       "    </tr>\n",
       "  </thead>\n",
       "  <tbody>\n",
       "    <tr>\n",
       "      <th>0</th>\n",
       "      <td>https://artist.cdjournal.com/d/-/4219040104</td>\n",
       "      <td>benign</td>\n",
       "      <td>artist</td>\n",
       "      <td>cdjournal</td>\n",
       "      <td>com</td>\n",
       "      <td>artist.cdjournal.com</td>\n",
       "      <td>/d/-/4219040104</td>\n",
       "      <td>None</td>\n",
       "      <td>0</td>\n",
       "      <td>0</td>\n",
       "      <td>...</td>\n",
       "      <td>0.348837</td>\n",
       "      <td>0.209302</td>\n",
       "      <td>0.116279</td>\n",
       "      <td>0.232558</td>\n",
       "      <td>0.441860</td>\n",
       "      <td>0.139535</td>\n",
       "      <td>0.998840</td>\n",
       "      <td>0.001160</td>\n",
       "      <td>benign</td>\n",
       "      <td>0</td>\n",
       "    </tr>\n",
       "    <tr>\n",
       "      <th>1</th>\n",
       "      <td>https://pittsburgh.cbslocal.com/category/photo...</td>\n",
       "      <td>benign</td>\n",
       "      <td>pittsburgh</td>\n",
       "      <td>cbslocal</td>\n",
       "      <td>com</td>\n",
       "      <td>pittsburgh.cbslocal.com</td>\n",
       "      <td>/category/photo-galleries/page/2/</td>\n",
       "      <td>None</td>\n",
       "      <td>0</td>\n",
       "      <td>0</td>\n",
       "      <td>...</td>\n",
       "      <td>0.515625</td>\n",
       "      <td>0.125000</td>\n",
       "      <td>0.109375</td>\n",
       "      <td>0.015625</td>\n",
       "      <td>0.187500</td>\n",
       "      <td>0.125000</td>\n",
       "      <td>0.998675</td>\n",
       "      <td>0.001325</td>\n",
       "      <td>benign</td>\n",
       "      <td>0</td>\n",
       "    </tr>\n",
       "    <tr>\n",
       "      <th>2</th>\n",
       "      <td>https://www.casasdosol.com/imovel/Quintinha-em...</td>\n",
       "      <td>benign</td>\n",
       "      <td>www</td>\n",
       "      <td>casasdosol</td>\n",
       "      <td>com</td>\n",
       "      <td>www.casasdosol.com</td>\n",
       "      <td>/imovel/Quintinha-em-Achete/6205862</td>\n",
       "      <td>None</td>\n",
       "      <td>0</td>\n",
       "      <td>1</td>\n",
       "      <td>...</td>\n",
       "      <td>0.573770</td>\n",
       "      <td>0.163934</td>\n",
       "      <td>0.081967</td>\n",
       "      <td>0.114754</td>\n",
       "      <td>0.311475</td>\n",
       "      <td>0.098361</td>\n",
       "      <td>0.999867</td>\n",
       "      <td>0.000133</td>\n",
       "      <td>benign</td>\n",
       "      <td>0</td>\n",
       "    </tr>\n",
       "    <tr>\n",
       "      <th>3</th>\n",
       "      <td>https://www.centroidpm.com/barcelonas-car-free...</td>\n",
       "      <td>benign</td>\n",
       "      <td>www</td>\n",
       "      <td>centroidpm</td>\n",
       "      <td>com</td>\n",
       "      <td>www.centroidpm.com</td>\n",
       "      <td>/barcelonas-car-free-superblocks-could-save-hu...</td>\n",
       "      <td>None</td>\n",
       "      <td>0</td>\n",
       "      <td>1</td>\n",
       "      <td>...</td>\n",
       "      <td>0.761468</td>\n",
       "      <td>0.091743</td>\n",
       "      <td>0.036697</td>\n",
       "      <td>0.000000</td>\n",
       "      <td>0.155963</td>\n",
       "      <td>0.045872</td>\n",
       "      <td>0.999938</td>\n",
       "      <td>0.000062</td>\n",
       "      <td>benign</td>\n",
       "      <td>0</td>\n",
       "    </tr>\n",
       "    <tr>\n",
       "      <th>4</th>\n",
       "      <td>http://casinobrend.com/casino-software/thunder...</td>\n",
       "      <td>benign</td>\n",
       "      <td></td>\n",
       "      <td>casinobrend</td>\n",
       "      <td>com</td>\n",
       "      <td>.casinobrend.com</td>\n",
       "      <td>/casino-software/thunderkick/attachment/thunde...</td>\n",
       "      <td>None</td>\n",
       "      <td>1</td>\n",
       "      <td>0</td>\n",
       "      <td>...</td>\n",
       "      <td>0.721519</td>\n",
       "      <td>0.139241</td>\n",
       "      <td>0.075949</td>\n",
       "      <td>0.000000</td>\n",
       "      <td>0.126582</td>\n",
       "      <td>0.088608</td>\n",
       "      <td>0.999195</td>\n",
       "      <td>0.000805</td>\n",
       "      <td>benign</td>\n",
       "      <td>0</td>\n",
       "    </tr>\n",
       "  </tbody>\n",
       "</table>\n",
       "<p>5 rows × 37 columns</p>\n",
       "</div>"
      ],
      "text/plain": [
       "                                                 url   label   subdomain  \\\n",
       "0        https://artist.cdjournal.com/d/-/4219040104  benign      artist   \n",
       "1  https://pittsburgh.cbslocal.com/category/photo...  benign  pittsburgh   \n",
       "2  https://www.casasdosol.com/imovel/Quintinha-em...  benign         www   \n",
       "3  https://www.centroidpm.com/barcelonas-car-free...  benign         www   \n",
       "4  http://casinobrend.com/casino-software/thunder...  benign               \n",
       "\n",
       "        domain suffix                 hostname  \\\n",
       "0    cdjournal    com     artist.cdjournal.com   \n",
       "1     cbslocal    com  pittsburgh.cbslocal.com   \n",
       "2   casasdosol    com       www.casasdosol.com   \n",
       "3   centroidpm    com       www.centroidpm.com   \n",
       "4  casinobrend    com         .casinobrend.com   \n",
       "\n",
       "                                                path query  \\\n",
       "0                                    /d/-/4219040104  None   \n",
       "1                  /category/photo-galleries/page/2/  None   \n",
       "2                /imovel/Quintinha-em-Achete/6205862  None   \n",
       "3  /barcelonas-car-free-superblocks-could-save-hu...  None   \n",
       "4  /casino-software/thunderkick/attachment/thunde...  None   \n",
       "\n",
       "   subdomain_null_ind  subdomain_www_ind        ...         \\\n",
       "0                   0                  0        ...          \n",
       "1                   0                  0        ...          \n",
       "2                   0                  1        ...          \n",
       "3                   0                  1        ...          \n",
       "4                   1                  0        ...          \n",
       "\n",
       "   length_path_frac_url_len  length_domain_frac_url_len  \\\n",
       "0                  0.348837                    0.209302   \n",
       "1                  0.515625                    0.125000   \n",
       "2                  0.573770                    0.163934   \n",
       "3                  0.761468                    0.091743   \n",
       "4                  0.721519                    0.139241   \n",
       "\n",
       "   url_slash_cnt_frac_url_len  url_digit_cnt_frac_url_len  \\\n",
       "0                    0.116279                    0.232558   \n",
       "1                    0.109375                    0.015625   \n",
       "2                    0.081967                    0.114754   \n",
       "3                    0.036697                    0.000000   \n",
       "4                    0.075949                    0.000000   \n",
       "\n",
       "   url_special_char_cnt_frac_url_len  url_reserved_char_cnt_frac_url_len  \\\n",
       "0                           0.441860                            0.139535   \n",
       "1                           0.187500                            0.125000   \n",
       "2                           0.311475                            0.098361   \n",
       "3                           0.155963                            0.045872   \n",
       "4                           0.126582                            0.088608   \n",
       "\n",
       "   benign_PREDICT_PROBA  phishing_PREDICT_PROBA  PREDICTION  PRED_CORRECT_IND  \n",
       "0              0.998840                0.001160      benign                 0  \n",
       "1              0.998675                0.001325      benign                 0  \n",
       "2              0.999867                0.000133      benign                 0  \n",
       "3              0.999938                0.000062      benign                 0  \n",
       "4              0.999195                0.000805      benign                 0  \n",
       "\n",
       "[5 rows x 37 columns]"
      ]
     },
     "execution_count": 3,
     "metadata": {},
     "output_type": "execute_result"
    }
   ],
   "source": [
    "df.head()"
   ]
  },
  {
   "cell_type": "markdown",
   "metadata": {},
   "source": [
    "Define y_true & y_pred:"
   ]
  },
  {
   "cell_type": "code",
   "execution_count": 3,
   "metadata": {},
   "outputs": [],
   "source": [
    "y_true = df['label']\n",
    "y_pred = df['PREDICTION']\n",
    "y_proba = df['phishing_PREDICT_PROBA']\n",
    "\n",
    "enc = LabelEncoder()\n",
    "y_true_enc = enc.fit_transform(y_true)"
   ]
  },
  {
   "cell_type": "markdown",
   "metadata": {},
   "source": [
    "# \"Default\" model"
   ]
  },
  {
   "cell_type": "markdown",
   "metadata": {},
   "source": [
    "Analyze \"default\" model, i.e. with a threshold of 50% (y_probab >50% --> Phishing, <50% --> Benign)"
   ]
  },
  {
   "cell_type": "markdown",
   "metadata": {},
   "source": [
    "Note: the calibration of RandomForest's `predict_proba` is decently calibrated: https://scikit-learn.org/stable/modules/calibration.html"
   ]
  },
  {
   "cell_type": "code",
   "execution_count": 103,
   "metadata": {},
   "outputs": [],
   "source": [
    "f1 = f1_score(y_true, y_pred, pos_label='phishing')\n",
    "precision = precision_score(y_true, y_pred, pos_label='phishing')\n",
    "recall = recall_score(y_true, y_pred, pos_label='phishing')"
   ]
  },
  {
   "cell_type": "code",
   "execution_count": 62,
   "metadata": {},
   "outputs": [
    {
     "data": {
      "text/plain": [
       "(0.2015847860538827, 0.99375, 0.11216931216931217)"
      ]
     },
     "execution_count": 62,
     "metadata": {},
     "output_type": "execute_result"
    }
   ],
   "source": [
    "f1, precision, recall"
   ]
  },
  {
   "cell_type": "code",
   "execution_count": 11,
   "metadata": {},
   "outputs": [],
   "source": [
    "clf_report = classification_report(y_true, y_pred) #, pos_label='phishing')"
   ]
  },
  {
   "cell_type": "code",
   "execution_count": 12,
   "metadata": {},
   "outputs": [
    {
     "name": "stdout",
     "output_type": "stream",
     "text": [
      "              precision    recall  f1-score   support\n",
      "\n",
      "      benign       1.00      1.00      1.00   2480313\n",
      "    phishing       0.99      0.11      0.20      2835\n",
      "\n",
      "   micro avg       1.00      1.00      1.00   2483148\n",
      "   macro avg       1.00      0.56      0.60   2483148\n",
      "weighted avg       1.00      1.00      1.00   2483148\n",
      "\n"
     ]
    }
   ],
   "source": [
    "print(clf_report)"
   ]
  },
  {
   "cell_type": "code",
   "execution_count": 13,
   "metadata": {},
   "outputs": [],
   "source": [
    "cm = confusion_matrix(y_true, y_pred)"
   ]
  },
  {
   "cell_type": "code",
   "execution_count": 36,
   "metadata": {},
   "outputs": [
    {
     "data": {
      "image/png": "[encoded data removed]",
      "text/plain": [
       "<Figure size 432x288 with 1 Axes>"
      ]
     },
     "metadata": {
      "needs_background": "light"
     },
     "output_type": "display_data"
    }
   ],
   "source": [
    "u.plot_conf_matrix(cm, ['benign', 'phishing'])"
   ]
  },
  {
   "cell_type": "markdown",
   "metadata": {},
   "source": [
    "Define & calculate the False Positive Rate:"
   ]
  },
  {
   "cell_type": "code",
   "execution_count": 40,
   "metadata": {},
   "outputs": [],
   "source": [
    "def false_pos_rate(tn, fp):\n",
    "    return 1 - (tn / (tn + fp))"
   ]
  },
  {
   "cell_type": "code",
   "execution_count": 41,
   "metadata": {},
   "outputs": [
    {
     "data": {
      "text/plain": [
       "8.063498437849148e-07"
      ]
     },
     "execution_count": 41,
     "metadata": {},
     "output_type": "execute_result"
    }
   ],
   "source": [
    "false_pos_rate(cm[0][0], cm[0][1])"
   ]
  },
  {
   "cell_type": "markdown",
   "metadata": {},
   "source": [
    "# Investigate Threshold"
   ]
  },
  {
   "cell_type": "markdown",
   "metadata": {},
   "source": [
    "For this, we need the probabilities of the positive class (phishing)"
   ]
  },
  {
   "cell_type": "markdown",
   "metadata": {},
   "source": [
    "### Plot the Precision-Recall curve:"
   ]
  },
  {
   "cell_type": "code",
   "execution_count": 11,
   "metadata": {},
   "outputs": [
    {
     "data": {
      "text/plain": [
       "<module 'util' from '/Users/kendra/Documents/data_science/Projects/phishing-urls/src/util.py'>"
      ]
     },
     "execution_count": 11,
     "metadata": {},
     "output_type": "execute_result"
    }
   ],
   "source": [
    "from importlib import reload\n",
    "reload(u)"
   ]
  },
  {
   "cell_type": "code",
   "execution_count": 12,
   "metadata": {},
   "outputs": [
    {
     "data": {
      "image/png": "[encoded data removed]",
      "text/plain": [
       "<Figure size 381.6x288 with 1 Axes>"
      ]
     },
     "metadata": {
      "needs_background": "light"
     },
     "output_type": "display_data"
    }
   ],
   "source": [
    "prec, rec, thr = u.plot_prec_recall_curve(y_true, y_proba, pos_label='phishing')"
   ]
  },
  {
   "cell_type": "markdown",
   "metadata": {},
   "source": [
    "### Plot an example Cost Function"
   ]
  },
  {
   "cell_type": "markdown",
   "metadata": {},
   "source": [
    "The cost function is generic, and assumes a constant cost per false-negative (fn_cost) and false-positive (fp_cost). The costs are arbitrarily chosen, to demonstrate this approach rather than to be an accurate portrayal of actual cost."
   ]
  },
  {
   "cell_type": "markdown",
   "metadata": {},
   "source": [
    "Our labels must be binary:"
   ]
  },
  {
   "cell_type": "code",
   "execution_count": 86,
   "metadata": {},
   "outputs": [],
   "source": [
    "def cost_function(threshold):\n",
    "    y_pred = np.array(y_proba > threshold)\n",
    "    \n",
    "    fpos = y_pred * (1 - y_true_enc) \n",
    "    fneg = (1 - y_pred) * y_true_enc\n",
    "    \n",
    "    cost_fp = fpos * fp_cost\n",
    "    cost_fn = fneg * fn_cost\n",
    "    \n",
    "    return np.sum(cost_fp + cost_fn)"
   ]
  },
  {
   "cell_type": "code",
   "execution_count": 109,
   "metadata": {},
   "outputs": [
    {
     "data": {
      "image/png": "[encoded data removed]",
      "text/plain": [
       "<Figure size 381.6x288 with 1 Axes>"
      ]
     },
     "metadata": {
      "needs_background": "light"
     },
     "output_type": "display_data"
    }
   ],
   "source": [
    "thr_rng = np.linspace(0.01,1,100)\n",
    "fn_cost = 1\n",
    "fp_cost = 10\n",
    "\n",
    "fig = plt.figure(figsize=(5.3,4))\n",
    "ax = fig.add_subplot(111)\n",
    "\n",
    "plt.plot(thr_rng, np.vectorize(cost_function)(thr_rng), lw=3, alpha=0.8, color='#70ADBA')\n",
    "\n",
    "plt.xlim([-0.05, 1.05])\n",
    "ax.set_ylabel('Cost (arbitrary)', fontsize=16)\n",
    "ax.yaxis.set_major_formatter(ticker.StrMethodFormatter('{x:,.0f}'))\n",
    "ymin, ymax = ax.get_ylim()\n",
    "\n",
    "plt.xlabel('Prediction Threshold', fontsize=16)\n",
    "\n",
    "plt.xticks(fontsize=14)\n",
    "plt.yticks(fontsize=14)\n",
    "ax.spines['right'].set_visible(False)\n",
    "ax.spines['top'].set_visible(False)\n",
    "\n",
    "plt.title('10:1 False Pos:False Neg Cost', fontsize=16);\n",
    "\n",
    "# plt.legend(loc=(0.80, 0.45), fontsize=16, frameon=False)"
   ]
  },
  {
   "cell_type": "markdown",
   "metadata": {},
   "source": [
    "We want to minimze our cost, so we would set our threshold around 0.2"
   ]
  },
  {
   "cell_type": "code",
   "execution_count": 58,
   "metadata": {},
   "outputs": [],
   "source": [
    "thr_opt = 0.2"
   ]
  },
  {
   "cell_type": "markdown",
   "metadata": {},
   "source": [
    "## Re-calculate model metrics\n",
    "using this \"optimal\" threshold"
   ]
  },
  {
   "cell_type": "code",
   "execution_count": 111,
   "metadata": {},
   "outputs": [],
   "source": [
    "new_y_pred = [1 if x > thr_opt else 0 for x in y_proba]\n",
    "new_cm = confusion_matrix(y_true_enc, new_y_pred)\n",
    "new_clf_report = classification_report(y_true_enc, new_y_pred)"
   ]
  },
  {
   "cell_type": "code",
   "execution_count": 114,
   "metadata": {},
   "outputs": [
    {
     "data": {
      "image/png": "[encoded data removed]",
      "text/plain": [
       "<Figure size 432x288 with 1 Axes>"
      ]
     },
     "metadata": {
      "needs_background": "light"
     },
     "output_type": "display_data"
    }
   ],
   "source": [
    "u.plot_conf_matrix(new_cm, labels=['benign', 'phishing'])"
   ]
  },
  {
   "cell_type": "code",
   "execution_count": 115,
   "metadata": {},
   "outputs": [
    {
     "name": "stdout",
     "output_type": "stream",
     "text": [
      "              precision    recall  f1-score   support\n",
      "\n",
      "           0       1.00      1.00      1.00   2480313\n",
      "           1       0.90      0.23      0.37      2835\n",
      "\n",
      "   micro avg       1.00      1.00      1.00   2483148\n",
      "   macro avg       0.95      0.62      0.69   2483148\n",
      "weighted avg       1.00      1.00      1.00   2483148\n",
      "\n"
     ]
    }
   ],
   "source": [
    "print(new_clf_report)"
   ]
  },
  {
   "cell_type": "code",
   "execution_count": 116,
   "metadata": {},
   "outputs": [
    {
     "data": {
      "text/plain": [
       "3.0238119140602038e-05"
      ]
     },
     "execution_count": 116,
     "metadata": {},
     "output_type": "execute_result"
    }
   ],
   "source": [
    "false_pos_rate(new_cm[0][0], new_cm[0][1])"
   ]
  },
  {
   "cell_type": "code",
   "execution_count": 117,
   "metadata": {},
   "outputs": [
    {
     "data": {
      "text/plain": [
       "(0.37066069428891374, 0.898236092265943, 0.23350970017636685)"
      ]
     },
     "execution_count": 117,
     "metadata": {},
     "output_type": "execute_result"
    }
   ],
   "source": [
    "f1 = f1_score(y_true_enc, new_y_pred)\n",
    "precision = precision_score(y_true_enc, new_y_pred)\n",
    "recall = recall_score(y_true_enc, new_y_pred)\n",
    "f1, precision, recall"
   ]
  },
  {
   "cell_type": "markdown",
   "metadata": {},
   "source": [
    "# Feature importance"
   ]
  },
  {
   "cell_type": "markdown",
   "metadata": {},
   "source": [
    "Load model:"
   ]
  },
  {
   "cell_type": "code",
   "execution_count": 8,
   "metadata": {},
   "outputs": [],
   "source": [
    "import joblib"
   ]
  },
  {
   "cell_type": "code",
   "execution_count": 9,
   "metadata": {},
   "outputs": [],
   "source": [
    "model = joblib.load('../models/rf_model')"
   ]
  },
  {
   "cell_type": "markdown",
   "metadata": {},
   "source": [
    "Model is a `FeatureUnion` of pre-processing steps and the classifier. \n",
    "\n",
    "Feature names will be the first item in the transformer list:"
   ]
  },
  {
   "cell_type": "code",
   "execution_count": 21,
   "metadata": {},
   "outputs": [],
   "source": [
    "trx_list = model.steps[0][1].transformer_list\n",
    "features = [x[0] for x in trx_list]"
   ]
  },
  {
   "cell_type": "markdown",
   "metadata": {},
   "source": [
    "We get feature importances from the classifier object:"
   ]
  },
  {
   "cell_type": "code",
   "execution_count": 16,
   "metadata": {},
   "outputs": [
    {
     "data": {
      "text/plain": [
       "RandomForestClassifier(bootstrap=True, class_weight=None, criterion='entropy',\n",
       "            max_depth=10, max_features='auto', max_leaf_nodes=None,\n",
       "            min_impurity_decrease=0.0, min_impurity_split=None,\n",
       "            min_samples_leaf=1, min_samples_split=2,\n",
       "            min_weight_fraction_leaf=0.0, n_estimators=100, n_jobs=None,\n",
       "            oob_score=False, random_state=None, verbose=0,\n",
       "            warm_start=False)"
      ]
     },
     "execution_count": 16,
     "metadata": {},
     "output_type": "execute_result"
    }
   ],
   "source": [
    "clf = model.steps[1][1]\n",
    "clf"
   ]
  },
  {
   "cell_type": "markdown",
   "metadata": {},
   "source": [
    "Zip them together, sort, & plot:"
   ]
  },
  {
   "cell_type": "code",
   "execution_count": 23,
   "metadata": {},
   "outputs": [],
   "source": [
    "ft_imp_list = list(zip(features, clf.feature_importances_))"
   ]
  },
  {
   "cell_type": "code",
   "execution_count": 38,
   "metadata": {},
   "outputs": [
    {
     "data": {
      "image/png": "[encoded data removed]",
      "text/plain": [
       "<Figure size 576x432 with 1 Axes>"
      ]
     },
     "metadata": {
      "needs_background": "light"
     },
     "output_type": "display_data"
    }
   ],
   "source": [
    "ft_imp_list.sort(key=lambda x: x[1])\n",
    "ns = range(len(ft_imp_list))\n",
    "labels = [x[0] for x in ft_imp_list]\n",
    "data = [x[1] for x in ft_imp_list]\n",
    "\n",
    "plt.figure(figsize=(8, 6))\n",
    "plt.barh(ns, data)\n",
    "plt.ylabel('Feature', fontsize=14)\n",
    "plt.yticks(ns, labels, fontsize=12)\n",
    "plt.xlabel('Feature Importance', fontsize=14);"
   ]
  },
  {
   "cell_type": "markdown",
   "metadata": {},
   "source": [
    "# Check for over-fitting"
   ]
  },
  {
   "cell_type": "code",
   "execution_count": 44,
   "metadata": {},
   "outputs": [],
   "source": [
    "y_pred_train = pd.read_pickle('../data/processed/train_pred.pkl')"
   ]
  },
  {
   "cell_type": "code",
   "execution_count": 46,
   "metadata": {},
   "outputs": [
    {
     "data": {
      "text/plain": [
       "array(['benign', 'benign', 'benign', 'benign', 'benign', 'benign',\n",
       "       'benign', 'benign', 'benign', 'benign'], dtype=object)"
      ]
     },
     "execution_count": 46,
     "metadata": {},
     "output_type": "execute_result"
    }
   ],
   "source": [
    "y_pred_train[:10]"
   ]
  },
  {
   "cell_type": "code",
   "execution_count": 47,
   "metadata": {},
   "outputs": [],
   "source": [
    "import feather"
   ]
  },
  {
   "cell_type": "code",
   "execution_count": 52,
   "metadata": {},
   "outputs": [],
   "source": [
    "train_df = feather.read_dataframe('../data/processed/tmp.feather')"
   ]
  },
  {
   "cell_type": "code",
   "execution_count": 53,
   "metadata": {},
   "outputs": [
    {
     "data": {
      "text/html": [
       "<div>\n",
       "<style scoped>\n",
       "    .dataframe tbody tr th:only-of-type {\n",
       "        vertical-align: middle;\n",
       "    }\n",
       "\n",
       "    .dataframe tbody tr th {\n",
       "        vertical-align: top;\n",
       "    }\n",
       "\n",
       "    .dataframe thead th {\n",
       "        text-align: right;\n",
       "    }\n",
       "</style>\n",
       "<table border=\"1\" class=\"dataframe\">\n",
       "  <thead>\n",
       "    <tr style=\"text-align: right;\">\n",
       "      <th></th>\n",
       "      <th>url</th>\n",
       "      <th>label</th>\n",
       "      <th>subdomain</th>\n",
       "      <th>domain</th>\n",
       "      <th>suffix</th>\n",
       "      <th>hostname</th>\n",
       "      <th>path</th>\n",
       "      <th>query</th>\n",
       "      <th>subdomain_null_ind</th>\n",
       "      <th>subdomain_www_ind</th>\n",
       "      <th>...</th>\n",
       "      <th>length_path_frac_url_len</th>\n",
       "      <th>length_domain_frac_url_len</th>\n",
       "      <th>url_slash_cnt_frac_url_len</th>\n",
       "      <th>url_digit_cnt_frac_url_len</th>\n",
       "      <th>url_special_char_cnt_frac_url_len</th>\n",
       "      <th>url_reserved_char_cnt_frac_url_len</th>\n",
       "      <th>benign_PREDICT_PROBA</th>\n",
       "      <th>phishing_PREDICT_PROBA</th>\n",
       "      <th>PREDICTION</th>\n",
       "      <th>PRED_CORRECT_IND</th>\n",
       "    </tr>\n",
       "  </thead>\n",
       "  <tbody>\n",
       "    <tr>\n",
       "      <th>0</th>\n",
       "      <td>https://casadeldisfraz.com/en/381-disfraces-ma...</td>\n",
       "      <td>benign</td>\n",
       "      <td></td>\n",
       "      <td>casadeldisfraz</td>\n",
       "      <td>com</td>\n",
       "      <td>.casadeldisfraz.com</td>\n",
       "      <td>/en/381-disfraces-mascotas</td>\n",
       "      <td>None</td>\n",
       "      <td>1</td>\n",
       "      <td>0</td>\n",
       "      <td>...</td>\n",
       "      <td>0.500000</td>\n",
       "      <td>0.269231</td>\n",
       "      <td>0.076923</td>\n",
       "      <td>0.057692</td>\n",
       "      <td>0.211538</td>\n",
       "      <td>0.096154</td>\n",
       "      <td>0.999061</td>\n",
       "      <td>0.000939</td>\n",
       "      <td>benign</td>\n",
       "      <td>0</td>\n",
       "    </tr>\n",
       "    <tr>\n",
       "      <th>1</th>\n",
       "      <td>https://www.cbs7.com/content/news/Engineer-sen...</td>\n",
       "      <td>benign</td>\n",
       "      <td>www</td>\n",
       "      <td>cbs7</td>\n",
       "      <td>com</td>\n",
       "      <td>www.cbs7.com</td>\n",
       "      <td>/content/news/Engineer-sent-to-the-hospital-af...</td>\n",
       "      <td>None</td>\n",
       "      <td>0</td>\n",
       "      <td>1</td>\n",
       "      <td>...</td>\n",
       "      <td>0.823009</td>\n",
       "      <td>0.035398</td>\n",
       "      <td>0.044248</td>\n",
       "      <td>0.088496</td>\n",
       "      <td>0.292035</td>\n",
       "      <td>0.053097</td>\n",
       "      <td>0.999955</td>\n",
       "      <td>0.000045</td>\n",
       "      <td>benign</td>\n",
       "      <td>0</td>\n",
       "    </tr>\n",
       "    <tr>\n",
       "      <th>2</th>\n",
       "      <td>https://century21norte.com/en/propiedades/edif...</td>\n",
       "      <td>benign</td>\n",
       "      <td></td>\n",
       "      <td>century21norte</td>\n",
       "      <td>com</td>\n",
       "      <td>.century21norte.com</td>\n",
       "      <td>/en/propiedades/edificios/local-comercial-de-c...</td>\n",
       "      <td>None</td>\n",
       "      <td>1</td>\n",
       "      <td>0</td>\n",
       "      <td>...</td>\n",
       "      <td>0.857923</td>\n",
       "      <td>0.076503</td>\n",
       "      <td>0.032787</td>\n",
       "      <td>0.087432</td>\n",
       "      <td>0.278689</td>\n",
       "      <td>0.038251</td>\n",
       "      <td>0.959658</td>\n",
       "      <td>0.040342</td>\n",
       "      <td>benign</td>\n",
       "      <td>0</td>\n",
       "    </tr>\n",
       "    <tr>\n",
       "      <th>3</th>\n",
       "      <td>http://apps.cccski.com/ViewSkierDetails.asp?sk...</td>\n",
       "      <td>benign</td>\n",
       "      <td>apps</td>\n",
       "      <td>cccski</td>\n",
       "      <td>com</td>\n",
       "      <td>apps.cccski.com</td>\n",
       "      <td>/ViewSkierDetails.asp</td>\n",
       "      <td>?skierid=30834</td>\n",
       "      <td>0</td>\n",
       "      <td>0</td>\n",
       "      <td>...</td>\n",
       "      <td>0.368421</td>\n",
       "      <td>0.105263</td>\n",
       "      <td>0.052632</td>\n",
       "      <td>0.087719</td>\n",
       "      <td>0.298246</td>\n",
       "      <td>0.105263</td>\n",
       "      <td>0.999330</td>\n",
       "      <td>0.000670</td>\n",
       "      <td>benign</td>\n",
       "      <td>0</td>\n",
       "    </tr>\n",
       "    <tr>\n",
       "      <th>4</th>\n",
       "      <td>https://ccbcessexknights.com/sports/wvball/201...</td>\n",
       "      <td>benign</td>\n",
       "      <td></td>\n",
       "      <td>ccbcessexknights</td>\n",
       "      <td>com</td>\n",
       "      <td>.ccbcessexknights.com</td>\n",
       "      <td>/sports/wvball/2018-19/teams/ccbcessex</td>\n",
       "      <td>None</td>\n",
       "      <td>1</td>\n",
       "      <td>0</td>\n",
       "      <td>...</td>\n",
       "      <td>0.575758</td>\n",
       "      <td>0.242424</td>\n",
       "      <td>0.106061</td>\n",
       "      <td>0.090909</td>\n",
       "      <td>0.242424</td>\n",
       "      <td>0.121212</td>\n",
       "      <td>0.998718</td>\n",
       "      <td>0.001282</td>\n",
       "      <td>benign</td>\n",
       "      <td>0</td>\n",
       "    </tr>\n",
       "  </tbody>\n",
       "</table>\n",
       "<p>5 rows × 37 columns</p>\n",
       "</div>"
      ],
      "text/plain": [
       "                                                 url   label subdomain  \\\n",
       "0  https://casadeldisfraz.com/en/381-disfraces-ma...  benign             \n",
       "1  https://www.cbs7.com/content/news/Engineer-sen...  benign       www   \n",
       "2  https://century21norte.com/en/propiedades/edif...  benign             \n",
       "3  http://apps.cccski.com/ViewSkierDetails.asp?sk...  benign      apps   \n",
       "4  https://ccbcessexknights.com/sports/wvball/201...  benign             \n",
       "\n",
       "             domain suffix               hostname  \\\n",
       "0    casadeldisfraz    com    .casadeldisfraz.com   \n",
       "1              cbs7    com           www.cbs7.com   \n",
       "2    century21norte    com    .century21norte.com   \n",
       "3            cccski    com        apps.cccski.com   \n",
       "4  ccbcessexknights    com  .ccbcessexknights.com   \n",
       "\n",
       "                                                path           query  \\\n",
       "0                         /en/381-disfraces-mascotas            None   \n",
       "1  /content/news/Engineer-sent-to-the-hospital-af...            None   \n",
       "2  /en/propiedades/edificios/local-comercial-de-c...            None   \n",
       "3                              /ViewSkierDetails.asp  ?skierid=30834   \n",
       "4             /sports/wvball/2018-19/teams/ccbcessex            None   \n",
       "\n",
       "   subdomain_null_ind  subdomain_www_ind        ...         \\\n",
       "0                   1                  0        ...          \n",
       "1                   0                  1        ...          \n",
       "2                   1                  0        ...          \n",
       "3                   0                  0        ...          \n",
       "4                   1                  0        ...          \n",
       "\n",
       "   length_path_frac_url_len  length_domain_frac_url_len  \\\n",
       "0                  0.500000                    0.269231   \n",
       "1                  0.823009                    0.035398   \n",
       "2                  0.857923                    0.076503   \n",
       "3                  0.368421                    0.105263   \n",
       "4                  0.575758                    0.242424   \n",
       "\n",
       "   url_slash_cnt_frac_url_len  url_digit_cnt_frac_url_len  \\\n",
       "0                    0.076923                    0.057692   \n",
       "1                    0.044248                    0.088496   \n",
       "2                    0.032787                    0.087432   \n",
       "3                    0.052632                    0.087719   \n",
       "4                    0.106061                    0.090909   \n",
       "\n",
       "   url_special_char_cnt_frac_url_len  url_reserved_char_cnt_frac_url_len  \\\n",
       "0                           0.211538                            0.096154   \n",
       "1                           0.292035                            0.053097   \n",
       "2                           0.278689                            0.038251   \n",
       "3                           0.298246                            0.105263   \n",
       "4                           0.242424                            0.121212   \n",
       "\n",
       "   benign_PREDICT_PROBA  phishing_PREDICT_PROBA  PREDICTION  PRED_CORRECT_IND  \n",
       "0              0.999061                0.000939      benign                 0  \n",
       "1              0.999955                0.000045      benign                 0  \n",
       "2              0.959658                0.040342      benign                 0  \n",
       "3              0.999330                0.000670      benign                 0  \n",
       "4              0.998718                0.001282      benign                 0  \n",
       "\n",
       "[5 rows x 37 columns]"
      ]
     },
     "execution_count": 53,
     "metadata": {},
     "output_type": "execute_result"
    }
   ],
   "source": [
    "train_df.head()"
   ]
  },
  {
   "cell_type": "code",
   "execution_count": 59,
   "metadata": {},
   "outputs": [],
   "source": [
    "y_train = train_df['label']\n",
    "y_train_enc = enc.fit_transform(y_train)\n",
    "# y_pred_train = train_df['PREDICTION']\n",
    "y_proba_train = train_df['phishing_PREDICT_PROBA']\n",
    "\n",
    "y_pred_train = [1 if x > thr_opt else 0 for x in y_proba_train]\n",
    "train_clf_report = classification_report(y_train_enc, y_pred_train)"
   ]
  },
  {
   "cell_type": "code",
   "execution_count": 60,
   "metadata": {},
   "outputs": [
    {
     "name": "stdout",
     "output_type": "stream",
     "text": [
      "              precision    recall  f1-score   support\n",
      "\n",
      "           0       1.00      1.00      1.00   7440939\n",
      "           1       0.84      0.23      0.36      8503\n",
      "\n",
      "   micro avg       1.00      1.00      1.00   7449442\n",
      "   macro avg       0.92      0.61      0.68   7449442\n",
      "weighted avg       1.00      1.00      1.00   7449442\n",
      "\n"
     ]
    }
   ],
   "source": [
    "print(train_clf_report)"
   ]
  },
  {
   "cell_type": "code",
   "execution_count": 61,
   "metadata": {},
   "outputs": [
    {
     "data": {
      "text/plain": [
       "0.3597521501895866"
      ]
     },
     "execution_count": 61,
     "metadata": {},
     "output_type": "execute_result"
    }
   ],
   "source": [
    "f1_score(y_train_enc, y_pred_train)"
   ]
  },
  {
   "cell_type": "markdown",
   "metadata": {},
   "source": [
    "F1-score for test set was 0.37066, so we are not over-fitting"
   ]
  },
  {
   "cell_type": "markdown",
   "metadata": {},
   "source": [
    "# Precision-Recall at optimal threshold"
   ]
  },
  {
   "cell_type": "code",
   "execution_count": null,
   "metadata": {},
   "outputs": [],
   "source": []
  },
  {
   "cell_type": "code",
   "execution_count": null,
   "metadata": {},
   "outputs": [],
   "source": []
  },
  {
   "cell_type": "code",
   "execution_count": 14,
   "metadata": {},
   "outputs": [
    {
     "data": {
      "image/png": "[encoded data removed]",
      "text/plain": [
       "<Figure size 381.6x288 with 1 Axes>"
      ]
     },
     "metadata": {
      "needs_background": "light"
     },
     "output_type": "display_data"
    }
   ],
   "source": [
    "thr_opt = 0.2\n",
    "\n",
    "opt_idx = np.argwhere(thr > thr_opt)[0]\n",
    "prec_opt = prec[opt_idx]\n",
    "rec_opt = rec[opt_idx]\n",
    "\n",
    "fig = plt.figure(figsize=(5.3,4))\n",
    "\n",
    "ax = fig.add_subplot(111)\n",
    "\n",
    "plt.plot(rec, prec, label=\"\", color='#70ADBA', lw=3, alpha=.8)\n",
    "\n",
    "plt.xlim([-0.0, 1.05])\n",
    "plt.ylim([-0.0, 1.05])\n",
    "plt.yticks([0.2, 0.4, 0.6, 0.8, 1.0],labels=[\"0.2\", \"0.4\",\"0.6\",\"0.8\",\"1.0\"],fontsize=14)\n",
    "\n",
    "plt.plot(rec_opt, prec_opt, color='orange', marker='o', markersize=16)\n",
    "\n",
    "plt.xlabel('Recall', fontsize=16)\n",
    "plt.ylabel('Precision', fontsize=16)\n",
    "plt.xticks(fontsize=14)\n",
    "plt.yticks(fontsize=14)\n",
    "ax.spines['right'].set_visible(False)\n",
    "ax.spines['top'].set_visible(False);"
   ]
  },
  {
   "cell_type": "code",
   "execution_count": 15,
   "metadata": {},
   "outputs": [
    {
     "data": {
      "image/png": "[encoded data removed]",
      "text/plain": [
       "<Figure size 381.6x288 with 1 Axes>"
      ]
     },
     "metadata": {
      "needs_background": "light"
     },
     "output_type": "display_data"
    }
   ],
   "source": [
    "thr_opt = 0.8\n",
    "\n",
    "opt_idx = np.argwhere(thr > thr_opt)[0]\n",
    "prec_opt = prec[opt_idx]\n",
    "rec_opt = rec[opt_idx]\n",
    "\n",
    "fig = plt.figure(figsize=(5.3,4))\n",
    "\n",
    "ax = fig.add_subplot(111)\n",
    "\n",
    "plt.plot(rec, prec, label=\"\", color='#70ADBA', lw=3, alpha=.8)\n",
    "\n",
    "plt.xlim([-0.0, 1.05])\n",
    "plt.ylim([-0.0, 1.05])\n",
    "plt.yticks([0.2, 0.4, 0.6, 0.8, 1.0],labels=[\"0.2\", \"0.4\",\"0.6\",\"0.8\",\"1.0\"],fontsize=14)\n",
    "\n",
    "plt.plot(rec_opt, prec_opt, color='orange', marker='o', markersize=16)\n",
    "\n",
    "plt.xlabel('Recall', fontsize=16)\n",
    "plt.ylabel('Precision', fontsize=16)\n",
    "plt.xticks(fontsize=14)\n",
    "plt.yticks(fontsize=14)\n",
    "ax.spines['right'].set_visible(False)\n",
    "ax.spines['top'].set_visible(False);"
   ]
  },
  {
   "cell_type": "code",
   "execution_count": 16,
   "metadata": {},
   "outputs": [
    {
     "name": "stdout",
     "output_type": "stream",
     "text": [
      "Threshold of:  0.2\n"
     ]
    },
    {
     "data": {
      "image/png": "[encoded data removed]",
      "text/plain": [
       "<Figure size 432x288 with 1 Axes>"
      ]
     },
     "metadata": {
      "needs_background": "light"
     },
     "output_type": "display_data"
    },
    {
     "name": "stdout",
     "output_type": "stream",
     "text": [
      "              precision    recall  f1-score   support\n",
      "\n",
      "           0       1.00      1.00      1.00   2480313\n",
      "           1       0.90      0.23      0.37      2835\n",
      "\n",
      "   micro avg       1.00      1.00      1.00   2483148\n",
      "   macro avg       0.95      0.62      0.69   2483148\n",
      "weighted avg       1.00      1.00      1.00   2483148\n",
      "\n",
      "Threshold of:  0.5\n"
     ]
    },
    {
     "data": {
      "image/png": "[encoded data removed]",
      "text/plain": [
       "<Figure size 432x288 with 1 Axes>"
      ]
     },
     "metadata": {
      "needs_background": "light"
     },
     "output_type": "display_data"
    },
    {
     "name": "stdout",
     "output_type": "stream",
     "text": [
      "              precision    recall  f1-score   support\n",
      "\n",
      "           0       1.00      1.00      1.00   2480313\n",
      "           1       0.99      0.11      0.20      2835\n",
      "\n",
      "   micro avg       1.00      1.00      1.00   2483148\n",
      "   macro avg       1.00      0.56      0.60   2483148\n",
      "weighted avg       1.00      1.00      1.00   2483148\n",
      "\n",
      "Threshold of:  0.8\n"
     ]
    },
    {
     "data": {
      "image/png": "[encoded data removed]",
      "text/plain": [
       "<Figure size 432x288 with 1 Axes>"
      ]
     },
     "metadata": {
      "needs_background": "light"
     },
     "output_type": "display_data"
    },
    {
     "name": "stdout",
     "output_type": "stream",
     "text": [
      "              precision    recall  f1-score   support\n",
      "\n",
      "           0       1.00      1.00      1.00   2480313\n",
      "           1       1.00      0.02      0.04      2835\n",
      "\n",
      "   micro avg       1.00      1.00      1.00   2483148\n",
      "   macro avg       1.00      0.51      0.52   2483148\n",
      "weighted avg       1.00      1.00      1.00   2483148\n",
      "\n"
     ]
    }
   ],
   "source": [
    "for thr_opt in [0.2, 0.5, 0.8]:\n",
    "\n",
    "    new_y_pred = [1 if x > thr_opt else 0 for x in y_proba]\n",
    "    new_cm = confusion_matrix(y_true_enc, new_y_pred)\n",
    "    new_clf_report = classification_report(y_true_enc, new_y_pred)\n",
    "    print('Threshold of: ', thr_opt)\n",
    "    u.plot_conf_matrix(new_cm, labels=['benign', 'phishing'])\n",
    "    print(new_clf_report)"
   ]
  },
  {
   "cell_type": "code",
   "execution_count": null,
   "metadata": {},
   "outputs": [],
   "source": []
  }
 ],
 "metadata": {
  "kernelspec": {
   "display_name": "Python 3",
   "language": "python",
   "name": "python3"
  },
  "language_info": {
   "codemirror_mode": {
    "name": "ipython",
    "version": 3
   },
   "file_extension": ".py",
   "mimetype": "text/x-python",
   "name": "python",
   "nbconvert_exporter": "python",
   "pygments_lexer": "ipython3",
   "version": "3.6.7"
  }
 },
 "nbformat": 4,
 "nbformat_minor": 2
}
