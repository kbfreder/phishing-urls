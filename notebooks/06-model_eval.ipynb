{
 "cells": [
  {
   "cell_type": "code",
   "execution_count": 1,
   "metadata": {},
   "outputs": [],
   "source": [
    "import os\n",
    "import sys\n",
    "import feather\n",
    "import joblib\n",
    "import pandas as pd\n",
    "import numpy as np\n",
    "import re\n",
    "import matplotlib.pyplot as plt\n",
    "from matplotlib import ticker\n",
    "import seaborn as sns\n",
    "\n",
    "from sklearn.metrics import f1_score\n",
    "from sklearn.metrics import precision_score, recall_score, precision_recall_curve\n",
    "from sklearn.metrics import classification_report, confusion_matrix\n",
    "\n",
    "# project_dir = os.path.dirname(os.path.dirname(os.path.abspath(os.path.curdir)))\n",
    "project_dir = os.path.dirname(os.path.abspath(os.path.curdir))\n",
    "new_path = os.path.join(project_dir, 'src')\n",
    "sys.path.append(new_path)\n",
    "\n",
    "import util as u\n",
    "from model import pipeline as p"
   ]
  },
  {
   "cell_type": "markdown",
   "metadata": {},
   "source": [
    "Load data"
   ]
  },
  {
   "cell_type": "code",
   "execution_count": 3,
   "metadata": {},
   "outputs": [],
   "source": [
    "df = feather.read_dataframe('../data/processed/test_pred.feather')"
   ]
  },
  {
   "cell_type": "code",
   "execution_count": 7,
   "metadata": {},
   "outputs": [
    {
     "data": {
      "text/html": [
       "<div>\n",
       "<style scoped>\n",
       "    .dataframe tbody tr th:only-of-type {\n",
       "        vertical-align: middle;\n",
       "    }\n",
       "\n",
       "    .dataframe tbody tr th {\n",
       "        vertical-align: top;\n",
       "    }\n",
       "\n",
       "    .dataframe thead th {\n",
       "        text-align: right;\n",
       "    }\n",
       "</style>\n",
       "<table border=\"1\" class=\"dataframe\">\n",
       "  <thead>\n",
       "    <tr style=\"text-align: right;\">\n",
       "      <th></th>\n",
       "      <th>url</th>\n",
       "      <th>label</th>\n",
       "      <th>subdomain</th>\n",
       "      <th>domain</th>\n",
       "      <th>suffix</th>\n",
       "      <th>hostname</th>\n",
       "      <th>path</th>\n",
       "      <th>query</th>\n",
       "      <th>subdomain_null_ind</th>\n",
       "      <th>subdomain_www_ind</th>\n",
       "      <th>...</th>\n",
       "      <th>length_path_frac_url_len</th>\n",
       "      <th>length_domain_frac_url_len</th>\n",
       "      <th>url_slash_cnt_frac_url_len</th>\n",
       "      <th>url_digit_cnt_frac_url_len</th>\n",
       "      <th>url_special_char_cnt_frac_url_len</th>\n",
       "      <th>url_reserved_char_cnt_frac_url_len</th>\n",
       "      <th>benign_PREDICT_PROBA</th>\n",
       "      <th>phishing_PREDICT_PROBA</th>\n",
       "      <th>PREDICTION</th>\n",
       "      <th>PRED_CORRECT_IND</th>\n",
       "    </tr>\n",
       "  </thead>\n",
       "  <tbody>\n",
       "    <tr>\n",
       "      <th>0</th>\n",
       "      <td>https://artist.cdjournal.com/d/-/4219040104</td>\n",
       "      <td>benign</td>\n",
       "      <td>artist</td>\n",
       "      <td>cdjournal</td>\n",
       "      <td>com</td>\n",
       "      <td>artist.cdjournal.com</td>\n",
       "      <td>/d/-/4219040104</td>\n",
       "      <td>None</td>\n",
       "      <td>0</td>\n",
       "      <td>0</td>\n",
       "      <td>...</td>\n",
       "      <td>0.348837</td>\n",
       "      <td>0.209302</td>\n",
       "      <td>0.116279</td>\n",
       "      <td>0.232558</td>\n",
       "      <td>0.441860</td>\n",
       "      <td>0.139535</td>\n",
       "      <td>0.998840</td>\n",
       "      <td>0.001160</td>\n",
       "      <td>benign</td>\n",
       "      <td>1</td>\n",
       "    </tr>\n",
       "    <tr>\n",
       "      <th>1</th>\n",
       "      <td>https://pittsburgh.cbslocal.com/category/photo...</td>\n",
       "      <td>benign</td>\n",
       "      <td>pittsburgh</td>\n",
       "      <td>cbslocal</td>\n",
       "      <td>com</td>\n",
       "      <td>pittsburgh.cbslocal.com</td>\n",
       "      <td>/category/photo-galleries/page/2/</td>\n",
       "      <td>None</td>\n",
       "      <td>0</td>\n",
       "      <td>0</td>\n",
       "      <td>...</td>\n",
       "      <td>0.515625</td>\n",
       "      <td>0.125000</td>\n",
       "      <td>0.109375</td>\n",
       "      <td>0.015625</td>\n",
       "      <td>0.187500</td>\n",
       "      <td>0.125000</td>\n",
       "      <td>0.998675</td>\n",
       "      <td>0.001325</td>\n",
       "      <td>benign</td>\n",
       "      <td>1</td>\n",
       "    </tr>\n",
       "    <tr>\n",
       "      <th>2</th>\n",
       "      <td>https://www.casasdosol.com/imovel/Quintinha-em...</td>\n",
       "      <td>benign</td>\n",
       "      <td>www</td>\n",
       "      <td>casasdosol</td>\n",
       "      <td>com</td>\n",
       "      <td>www.casasdosol.com</td>\n",
       "      <td>/imovel/Quintinha-em-Achete/6205862</td>\n",
       "      <td>None</td>\n",
       "      <td>0</td>\n",
       "      <td>1</td>\n",
       "      <td>...</td>\n",
       "      <td>0.573770</td>\n",
       "      <td>0.163934</td>\n",
       "      <td>0.081967</td>\n",
       "      <td>0.114754</td>\n",
       "      <td>0.311475</td>\n",
       "      <td>0.098361</td>\n",
       "      <td>0.999867</td>\n",
       "      <td>0.000133</td>\n",
       "      <td>benign</td>\n",
       "      <td>1</td>\n",
       "    </tr>\n",
       "    <tr>\n",
       "      <th>3</th>\n",
       "      <td>https://www.centroidpm.com/barcelonas-car-free...</td>\n",
       "      <td>benign</td>\n",
       "      <td>www</td>\n",
       "      <td>centroidpm</td>\n",
       "      <td>com</td>\n",
       "      <td>www.centroidpm.com</td>\n",
       "      <td>/barcelonas-car-free-superblocks-could-save-hu...</td>\n",
       "      <td>None</td>\n",
       "      <td>0</td>\n",
       "      <td>1</td>\n",
       "      <td>...</td>\n",
       "      <td>0.761468</td>\n",
       "      <td>0.091743</td>\n",
       "      <td>0.036697</td>\n",
       "      <td>0.000000</td>\n",
       "      <td>0.155963</td>\n",
       "      <td>0.045872</td>\n",
       "      <td>0.999938</td>\n",
       "      <td>0.000062</td>\n",
       "      <td>benign</td>\n",
       "      <td>1</td>\n",
       "    </tr>\n",
       "    <tr>\n",
       "      <th>4</th>\n",
       "      <td>http://casinobrend.com/casino-software/thunder...</td>\n",
       "      <td>benign</td>\n",
       "      <td></td>\n",
       "      <td>casinobrend</td>\n",
       "      <td>com</td>\n",
       "      <td>.casinobrend.com</td>\n",
       "      <td>/casino-software/thunderkick/attachment/thunde...</td>\n",
       "      <td>None</td>\n",
       "      <td>1</td>\n",
       "      <td>0</td>\n",
       "      <td>...</td>\n",
       "      <td>0.721519</td>\n",
       "      <td>0.139241</td>\n",
       "      <td>0.075949</td>\n",
       "      <td>0.000000</td>\n",
       "      <td>0.126582</td>\n",
       "      <td>0.088608</td>\n",
       "      <td>0.999195</td>\n",
       "      <td>0.000805</td>\n",
       "      <td>benign</td>\n",
       "      <td>1</td>\n",
       "    </tr>\n",
       "  </tbody>\n",
       "</table>\n",
       "<p>5 rows × 37 columns</p>\n",
       "</div>"
      ],
      "text/plain": [
       "                                                 url   label   subdomain  \\\n",
       "0        https://artist.cdjournal.com/d/-/4219040104  benign      artist   \n",
       "1  https://pittsburgh.cbslocal.com/category/photo...  benign  pittsburgh   \n",
       "2  https://www.casasdosol.com/imovel/Quintinha-em...  benign         www   \n",
       "3  https://www.centroidpm.com/barcelonas-car-free...  benign         www   \n",
       "4  http://casinobrend.com/casino-software/thunder...  benign               \n",
       "\n",
       "        domain suffix                 hostname  \\\n",
       "0    cdjournal    com     artist.cdjournal.com   \n",
       "1     cbslocal    com  pittsburgh.cbslocal.com   \n",
       "2   casasdosol    com       www.casasdosol.com   \n",
       "3   centroidpm    com       www.centroidpm.com   \n",
       "4  casinobrend    com         .casinobrend.com   \n",
       "\n",
       "                                                path query  \\\n",
       "0                                    /d/-/4219040104  None   \n",
       "1                  /category/photo-galleries/page/2/  None   \n",
       "2                /imovel/Quintinha-em-Achete/6205862  None   \n",
       "3  /barcelonas-car-free-superblocks-could-save-hu...  None   \n",
       "4  /casino-software/thunderkick/attachment/thunde...  None   \n",
       "\n",
       "   subdomain_null_ind  subdomain_www_ind        ...         \\\n",
       "0                   0                  0        ...          \n",
       "1                   0                  0        ...          \n",
       "2                   0                  1        ...          \n",
       "3                   0                  1        ...          \n",
       "4                   1                  0        ...          \n",
       "\n",
       "   length_path_frac_url_len  length_domain_frac_url_len  \\\n",
       "0                  0.348837                    0.209302   \n",
       "1                  0.515625                    0.125000   \n",
       "2                  0.573770                    0.163934   \n",
       "3                  0.761468                    0.091743   \n",
       "4                  0.721519                    0.139241   \n",
       "\n",
       "   url_slash_cnt_frac_url_len  url_digit_cnt_frac_url_len  \\\n",
       "0                    0.116279                    0.232558   \n",
       "1                    0.109375                    0.015625   \n",
       "2                    0.081967                    0.114754   \n",
       "3                    0.036697                    0.000000   \n",
       "4                    0.075949                    0.000000   \n",
       "\n",
       "   url_special_char_cnt_frac_url_len  url_reserved_char_cnt_frac_url_len  \\\n",
       "0                           0.441860                            0.139535   \n",
       "1                           0.187500                            0.125000   \n",
       "2                           0.311475                            0.098361   \n",
       "3                           0.155963                            0.045872   \n",
       "4                           0.126582                            0.088608   \n",
       "\n",
       "   benign_PREDICT_PROBA  phishing_PREDICT_PROBA  PREDICTION  PRED_CORRECT_IND  \n",
       "0              0.998840                0.001160      benign                 1  \n",
       "1              0.998675                0.001325      benign                 1  \n",
       "2              0.999867                0.000133      benign                 1  \n",
       "3              0.999938                0.000062      benign                 1  \n",
       "4              0.999195                0.000805      benign                 1  \n",
       "\n",
       "[5 rows x 37 columns]"
      ]
     },
     "execution_count": 7,
     "metadata": {},
     "output_type": "execute_result"
    }
   ],
   "source": [
    "df.head()"
   ]
  },
  {
   "cell_type": "markdown",
   "metadata": {},
   "source": [
    "Define y_true & y_pred:"
   ]
  },
  {
   "cell_type": "code",
   "execution_count": 102,
   "metadata": {},
   "outputs": [],
   "source": [
    "y_true = df['label']\n",
    "y_pred = df['PREDICTION']"
   ]
  },
  {
   "cell_type": "markdown",
   "metadata": {},
   "source": [
    "# \"Default\" model"
   ]
  },
  {
   "cell_type": "markdown",
   "metadata": {},
   "source": [
    "Analyze \"default\" model, i.e. with a threshold of 50% (>50% --> Phishing, <50% --> Benign)"
   ]
  },
  {
   "cell_type": "markdown",
   "metadata": {},
   "source": [
    "Note: the calibration of RandomForest's `predict_proba` is decently calibrated: https://scikit-learn.org/stable/modules/calibration.html"
   ]
  },
  {
   "cell_type": "code",
   "execution_count": 103,
   "metadata": {},
   "outputs": [],
   "source": [
    "f1 = f1_score(y_true, y_pred, pos_label='phishing')\n",
    "precision = precision_score(y_true, y_pred, pos_label='phishing')\n",
    "recall = recall_score(y_true, y_pred, pos_label='phishing')"
   ]
  },
  {
   "cell_type": "code",
   "execution_count": 62,
   "metadata": {},
   "outputs": [
    {
     "data": {
      "text/plain": [
       "(0.2015847860538827, 0.99375, 0.11216931216931217)"
      ]
     },
     "execution_count": 62,
     "metadata": {},
     "output_type": "execute_result"
    }
   ],
   "source": [
    "f1, precision, recall"
   ]
  },
  {
   "cell_type": "code",
   "execution_count": 11,
   "metadata": {},
   "outputs": [],
   "source": [
    "clf_report = classification_report(y_true, y_pred) #, pos_label='phishing')"
   ]
  },
  {
   "cell_type": "code",
   "execution_count": 12,
   "metadata": {},
   "outputs": [
    {
     "name": "stdout",
     "output_type": "stream",
     "text": [
      "              precision    recall  f1-score   support\n",
      "\n",
      "      benign       1.00      1.00      1.00   2480313\n",
      "    phishing       0.99      0.11      0.20      2835\n",
      "\n",
      "   micro avg       1.00      1.00      1.00   2483148\n",
      "   macro avg       1.00      0.56      0.60   2483148\n",
      "weighted avg       1.00      1.00      1.00   2483148\n",
      "\n"
     ]
    }
   ],
   "source": [
    "print(clf_report)"
   ]
  },
  {
   "cell_type": "code",
   "execution_count": 13,
   "metadata": {},
   "outputs": [],
   "source": [
    "cm = confusion_matrix(y_true, y_pred)"
   ]
  },
  {
   "cell_type": "code",
   "execution_count": 36,
   "metadata": {},
   "outputs": [
    {
     "data": {
      "image/png": "[encoded data removed]",
      "text/plain": [
       "<Figure size 432x288 with 1 Axes>"
      ]
     },
     "metadata": {
      "needs_background": "light"
     },
     "output_type": "display_data"
    }
   ],
   "source": [
    "u.plot_conf_matrix(cm, ['benign', 'phishing'])"
   ]
  },
  {
   "cell_type": "markdown",
   "metadata": {},
   "source": [
    "Define & calculate the False Positive Rate:"
   ]
  },
  {
   "cell_type": "code",
   "execution_count": 40,
   "metadata": {},
   "outputs": [],
   "source": [
    "def false_pos_rate(tn, fp):\n",
    "    return 1 - (tn / (tn + fp))"
   ]
  },
  {
   "cell_type": "code",
   "execution_count": 41,
   "metadata": {},
   "outputs": [
    {
     "data": {
      "text/plain": [
       "8.063498437849148e-07"
      ]
     },
     "execution_count": 41,
     "metadata": {},
     "output_type": "execute_result"
    }
   ],
   "source": [
    "false_pos_rate(cm[0][0], cm[0][1])"
   ]
  },
  {
   "cell_type": "markdown",
   "metadata": {},
   "source": [
    "# Investigate Threshold"
   ]
  },
  {
   "cell_type": "markdown",
   "metadata": {},
   "source": [
    "For this, we need the probabilities of the positive class (phishing)"
   ]
  },
  {
   "cell_type": "code",
   "execution_count": 69,
   "metadata": {},
   "outputs": [],
   "source": [
    "y_proba = df['phishing_PREDICT_PROBA']"
   ]
  },
  {
   "cell_type": "markdown",
   "metadata": {},
   "source": [
    "### Plot the Precision-Recall curve:"
   ]
  },
  {
   "cell_type": "code",
   "execution_count": 118,
   "metadata": {},
   "outputs": [
    {
     "data": {
      "image/png": "[encoded data removed]",
      "text/plain": [
       "<Figure size 381.6x288 with 1 Axes>"
      ]
     },
     "metadata": {
      "needs_background": "light"
     },
     "output_type": "display_data"
    }
   ],
   "source": [
    "prec, rec = u.plot_prec_recall_curve(y_true, y_proba, pos_label='phishing')"
   ]
  },
  {
   "cell_type": "markdown",
   "metadata": {},
   "source": [
    "### Plot an example Cost Function"
   ]
  },
  {
   "cell_type": "markdown",
   "metadata": {},
   "source": [
    "The cost function is generic, and assumes a constant cost per false-negative (fn_cost) and false-positive (fp_cost). The costs are arbitrarily chosen, to demonstrate this approach rather than to be an accurate portrayal of actual cost."
   ]
  },
  {
   "cell_type": "markdown",
   "metadata": {},
   "source": [
    "Our labels must be binary:"
   ]
  },
  {
   "cell_type": "code",
   "execution_count": 77,
   "metadata": {},
   "outputs": [],
   "source": [
    "from sklearn.preprocessing import LabelEncoder"
   ]
  },
  {
   "cell_type": "code",
   "execution_count": 84,
   "metadata": {},
   "outputs": [],
   "source": [
    "enc = LabelEncoder()\n",
    "y_true_enc = enc.fit_transform(y_true)"
   ]
  },
  {
   "cell_type": "code",
   "execution_count": 86,
   "metadata": {},
   "outputs": [],
   "source": [
    "def cost_function(threshold):\n",
    "    y_pred = np.array(y_proba > threshold)\n",
    "    \n",
    "    fpos = y_pred * (1 - y_true_enc) \n",
    "    fneg = (1 - y_pred) * y_true_enc\n",
    "    \n",
    "    cost_fp = fpos * fp_cost\n",
    "    cost_fn = fneg * fn_cost\n",
    "    \n",
    "    return np.sum(cost_fp + cost_fn)"
   ]
  },
  {
   "cell_type": "code",
   "execution_count": 109,
   "metadata": {},
   "outputs": [
    {
     "data": {
      "image/png": "[encoded data removed]",
      "text/plain": [
       "<Figure size 381.6x288 with 1 Axes>"
      ]
     },
     "metadata": {
      "needs_background": "light"
     },
     "output_type": "display_data"
    }
   ],
   "source": [
    "thr_rng = np.linspace(0.01,1,100)\n",
    "fn_cost = 1\n",
    "fp_cost = 10\n",
    "\n",
    "fig = plt.figure(figsize=(5.3,4))\n",
    "ax = fig.add_subplot(111)\n",
    "\n",
    "plt.plot(thr_rng, np.vectorize(cost_function)(thr_rng), lw=3, alpha=0.8, color='#70ADBA')\n",
    "\n",
    "plt.xlim([-0.05, 1.05])\n",
    "ax.set_ylabel('Cost (arbitrary)', fontsize=16)\n",
    "ax.yaxis.set_major_formatter(ticker.StrMethodFormatter('{x:,.0f}'))\n",
    "ymin, ymax = ax.get_ylim()\n",
    "\n",
    "plt.xlabel('Prediction Threshold', fontsize=16)\n",
    "\n",
    "plt.xticks(fontsize=14)\n",
    "plt.yticks(fontsize=14)\n",
    "ax.spines['right'].set_visible(False)\n",
    "ax.spines['top'].set_visible(False)\n",
    "\n",
    "plt.title('10:1 False Pos:False Neg Cost', fontsize=16);\n",
    "\n",
    "# plt.legend(loc=(0.80, 0.45), fontsize=16, frameon=False)"
   ]
  },
  {
   "cell_type": "markdown",
   "metadata": {},
   "source": [
    "We want to minimze our cost, so we would set our threshold around 0.2"
   ]
  },
  {
   "cell_type": "code",
   "execution_count": 110,
   "metadata": {},
   "outputs": [],
   "source": [
    "thr_opt = 0.2"
   ]
  },
  {
   "cell_type": "markdown",
   "metadata": {},
   "source": [
    "## Re-calculate model metrics\n",
    "using this \"optimal\" threshold"
   ]
  },
  {
   "cell_type": "code",
   "execution_count": 111,
   "metadata": {},
   "outputs": [],
   "source": [
    "new_y_pred = [1 if x > thr_opt else 0 for x in y_proba]\n",
    "new_cm = confusion_matrix(y_true_enc, new_y_pred)\n",
    "new_clf_report = classification_report(y_true_enc, new_y_pred)"
   ]
  },
  {
   "cell_type": "code",
   "execution_count": 114,
   "metadata": {},
   "outputs": [
    {
     "data": {
      "image/png": "[encoded data removed]",
      "text/plain": [
       "<Figure size 432x288 with 1 Axes>"
      ]
     },
     "metadata": {
      "needs_background": "light"
     },
     "output_type": "display_data"
    }
   ],
   "source": [
    "u.plot_conf_matrix(new_cm, labels=['benign', 'phishing'])"
   ]
  },
  {
   "cell_type": "code",
   "execution_count": 115,
   "metadata": {},
   "outputs": [
    {
     "name": "stdout",
     "output_type": "stream",
     "text": [
      "              precision    recall  f1-score   support\n",
      "\n",
      "           0       1.00      1.00      1.00   2480313\n",
      "           1       0.90      0.23      0.37      2835\n",
      "\n",
      "   micro avg       1.00      1.00      1.00   2483148\n",
      "   macro avg       0.95      0.62      0.69   2483148\n",
      "weighted avg       1.00      1.00      1.00   2483148\n",
      "\n"
     ]
    }
   ],
   "source": [
    "print(new_clf_report)"
   ]
  },
  {
   "cell_type": "code",
   "execution_count": 116,
   "metadata": {},
   "outputs": [
    {
     "data": {
      "text/plain": [
       "3.0238119140602038e-05"
      ]
     },
     "execution_count": 116,
     "metadata": {},
     "output_type": "execute_result"
    }
   ],
   "source": [
    "false_pos_rate(new_cm[0][0], new_cm[0][1])"
   ]
  },
  {
   "cell_type": "code",
   "execution_count": 117,
   "metadata": {},
   "outputs": [
    {
     "data": {
      "text/plain": [
       "(0.37066069428891374, 0.898236092265943, 0.23350970017636685)"
      ]
     },
     "execution_count": 117,
     "metadata": {},
     "output_type": "execute_result"
    }
   ],
   "source": [
    "f1 = f1_score(y_true_enc, new_y_pred)\n",
    "precision = precision_score(y_true_enc, new_y_pred)\n",
    "recall = recall_score(y_true_enc, new_y_pred)\n",
    "f1, precision, recall"
   ]
  }
 ],
 "metadata": {
  "kernelspec": {
   "display_name": "Python 3",
   "language": "python",
   "name": "python3"
  },
  "language_info": {
   "codemirror_mode": {
    "name": "ipython",
    "version": 3
   },
   "file_extension": ".py",
   "mimetype": "text/x-python",
   "name": "python",
   "nbconvert_exporter": "python",
   "pygments_lexer": "ipython3",
   "version": "3.6.7"
  }
 },
 "nbformat": 4,
 "nbformat_minor": 2
}
