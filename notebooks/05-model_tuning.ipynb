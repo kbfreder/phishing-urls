{
 "cells": [
  {
   "cell_type": "code",
   "execution_count": 1,
   "metadata": {},
   "outputs": [
    {
     "name": "stderr",
     "output_type": "stream",
     "text": [
      "/Users/kendra/anaconda3/lib/python3.6/site-packages/matplotlib/__init__.py:886: MatplotlibDeprecationWarning: \n",
      "examples.directory is deprecated; in the future, examples will be found relative to the 'datapath' directory.\n",
      "  \"found relative to the 'datapath' directory.\".format(key))\n"
     ]
    }
   ],
   "source": [
    "import os, sys\n",
    "import feather\n",
    "import re\n",
    "import pandas as pd\n",
    "import numpy as np\n",
    "import time\n",
    "\n",
    "import matplotlib.pyplot as plt\n",
    "import seaborn as sns\n",
    "\n",
    "from sklearn.preprocessing import LabelEncoder\n",
    "from sklearn.preprocessing import LabelEncoder, OneHotEncoder, StandardScaler\n",
    "from sklearn.pipeline import FeatureUnion\n",
    "from sklearn.preprocessing import LabelEncoder, OneHotEncoder, StandardScaler\n",
    "from sklearn.linear_model import LogisticRegression\n",
    "from sklearn.ensemble import RandomForestClassifier, GradientBoostingClassifier\n",
    "from sklearn.naive_bayes import GaussianNB\n",
    "from sklearn.neighbors import KNeighborsClassifier\n",
    "from sklearn.model_selection import train_test_split\n",
    "\n",
    "\n",
    "# project_dir = os.path.dirname(os.path.dirname(os.path.abspath(os.path.curdir)))\n",
    "project_dir = os.path.dirname(os.path.abspath(os.path.curdir))\n",
    "new_path = os.path.join(project_dir, 'src')\n",
    "sys.path.append(new_path)\n",
    "\n",
    "import util as u\n",
    "from model import pipeline as p\n",
    "\n",
    "pd.options.display.max_columns = 100"
   ]
  },
  {
   "cell_type": "code",
   "execution_count": 2,
   "metadata": {},
   "outputs": [],
   "source": [
    "full_df = feather.read_dataframe('../data/processed/train_df.feather')"
   ]
  },
  {
   "cell_type": "code",
   "execution_count": 6,
   "metadata": {},
   "outputs": [
    {
     "data": {
      "text/plain": [
       "(7449443, 27)"
      ]
     },
     "execution_count": 6,
     "metadata": {},
     "output_type": "execute_result"
    }
   ],
   "source": [
    "full_df.shape"
   ]
  },
  {
   "cell_type": "code",
   "execution_count": 3,
   "metadata": {},
   "outputs": [
    {
     "data": {
      "text/plain": [
       "benign      0.998858\n",
       "phishing    0.001142\n",
       "Name: label, dtype: float64"
      ]
     },
     "execution_count": 3,
     "metadata": {},
     "output_type": "execute_result"
    }
   ],
   "source": [
    "full_df['label'].value_counts(1)"
   ]
  },
  {
   "cell_type": "code",
   "execution_count": 5,
   "metadata": {},
   "outputs": [],
   "source": [
    "# take subset of data for initial model assessment\n",
    "df = full_df.sample(frac=0.2).reset_index(drop=True)"
   ]
  },
  {
   "cell_type": "code",
   "execution_count": 37,
   "metadata": {},
   "outputs": [
    {
     "data": {
      "text/plain": [
       "(1489889, 33)"
      ]
     },
     "execution_count": 37,
     "metadata": {},
     "output_type": "execute_result"
    }
   ],
   "source": [
    "df.shape"
   ]
  },
  {
   "cell_type": "code",
   "execution_count": 38,
   "metadata": {},
   "outputs": [
    {
     "data": {
      "text/plain": [
       "274694"
      ]
     },
     "execution_count": 38,
     "metadata": {},
     "output_type": "execute_result"
    }
   ],
   "source": [
    "len(df.dropna())"
   ]
  },
  {
   "cell_type": "markdown",
   "metadata": {},
   "source": [
    "Discovered that a few entries had empty URL's -- remove these"
   ]
  },
  {
   "cell_type": "code",
   "execution_count": 39,
   "metadata": {},
   "outputs": [
    {
     "data": {
      "text/plain": [
       "1489888"
      ]
     },
     "execution_count": 39,
     "metadata": {},
     "output_type": "execute_result"
    }
   ],
   "source": [
    "len(df.dropna(subset=['url']))"
   ]
  },
  {
   "cell_type": "code",
   "execution_count": 40,
   "metadata": {},
   "outputs": [
    {
     "data": {
      "text/plain": [
       "(1489888, 33)"
      ]
     },
     "execution_count": 40,
     "metadata": {},
     "output_type": "execute_result"
    }
   ],
   "source": [
    "df = df.dropna(subset=['url'])"
   ]
  },
  {
   "cell_type": "code",
   "execution_count": 41,
   "metadata": {},
   "outputs": [
    {
     "data": {
      "text/plain": [
       "benign      0.998868\n",
       "phishing    0.001132\n",
       "Name: label, dtype: float64"
      ]
     },
     "execution_count": 41,
     "metadata": {},
     "output_type": "execute_result"
    }
   ],
   "source": [
    "# Make sure we've retained proportion of labels\n",
    "df['label'].value_counts(1)"
   ]
  },
  {
   "cell_type": "code",
   "execution_count": 6,
   "metadata": {},
   "outputs": [],
   "source": [
    "del full_df"
   ]
  },
  {
   "cell_type": "markdown",
   "metadata": {},
   "source": [
    "Convert int to float64"
   ]
  },
  {
   "cell_type": "code",
   "execution_count": 42,
   "metadata": {},
   "outputs": [],
   "source": [
    "int_cols = df.select_dtypes(include='int').columns\n",
    "int_cols = [col for col in int_cols if re.search('_ind', col) is None]\n",
    "\n",
    "for col in int_cols:\n",
    "    df[col] = df[col].astype(np.float64)"
   ]
  },
  {
   "cell_type": "markdown",
   "metadata": {},
   "source": [
    "From EDA: Correlated features:\n",
    "- length_url with length_path, url_X_cnt, and url_entropy\n",
    "    - convert to fraction"
   ]
  },
  {
   "cell_type": "code",
   "execution_count": 43,
   "metadata": {},
   "outputs": [],
   "source": [
    "cols_to_convert = ['length_path', 'length_domain', 'url_slash_cnt',\n",
    "       'url_digit_cnt', 'url_special_char_cnt', 'url_reserved_char_cnt']\n",
    "\n",
    "for col in cols_to_convert:\n",
    "    new_col_name = col + '_frac_url_len'\n",
    "    df[new_col_name] = df[col] / df['length_url']"
   ]
  },
  {
   "cell_type": "code",
   "execution_count": 12,
   "metadata": {},
   "outputs": [],
   "source": [
    "# def extract_base_suffix(s):\n",
    "#     if len(s) > 0:\n",
    "#         return s.split('.')[0]\n",
    "#     else:\n",
    "#         return s\n",
    "\n",
    "# df['base_suffix'] = df['suffix'].apply(extract_base_suffix)"
   ]
  },
  {
   "cell_type": "markdown",
   "metadata": {},
   "source": [
    "### Split into X, y and a further train-test"
   ]
  },
  {
   "cell_type": "code",
   "execution_count": 44,
   "metadata": {},
   "outputs": [],
   "source": [
    "target = 'label'\n",
    "X = df.drop(columns=target)\n",
    "y = df[target]\n",
    "\n",
    "enc = LabelEncoder()\n",
    "y_enc = enc.fit_transform(y)\n",
    "\n",
    "X_train, X_test, y_train, y_test = train_test_split(X, y_enc, test_size=0.25)"
   ]
  },
  {
   "cell_type": "markdown",
   "metadata": {},
   "source": [
    "# Preprocessing"
   ]
  },
  {
   "cell_type": "code",
   "execution_count": 18,
   "metadata": {},
   "outputs": [],
   "source": [
    "all_cols = df.columns\n",
    "\n",
    "target = 'label'\n",
    "\n",
    "proc_dict = {\n",
    "#     'base_suffix':[p.Consolidate(1), OneHotEncoder(handle_unknown='ignore')]\n",
    "            }\n",
    "\n",
    "num_cols = [col for col in all_cols if re.search('_cnt', col) is not None] + \\\n",
    "            ['length_url', 'hostname_entropy', 'url_entropy']\n",
    "\n",
    "bool_cols = [col for col in all_cols if re.search('_ind', col) is not None]\n",
    "\n",
    "pass_thru_cols = [col for col in all_cols if re.search('_frac_url_len', col) is not None]\n",
    "\n",
    "for col in num_cols:\n",
    "    proc_dict[col] = [StandardScaler()]\n",
    "\n",
    "for col in bool_cols + pass_thru_cols:\n",
    "    proc_dict[col] = [p.PassThrough()]"
   ]
  },
  {
   "cell_type": "markdown",
   "metadata": {},
   "source": [
    "Do not include suffix, as benign only contains '.com', so this is a leaky variable of sorts"
   ]
  },
  {
   "cell_type": "code",
   "execution_count": null,
   "metadata": {},
   "outputs": [],
   "source": [
    "model_cols = ['subdomain_null_ind', 'subdomain_www_ind', 'length_url',\n",
    "              'domain_dot_cnt', 'path_dot_cnt', 'hostname_dash_cnt',\n",
    "              'hostname_entropy', 'url_entropy', 'php_ind',\n",
    "              'admin_ind', 'verification_ind', 'length_path_frac_url_len',\n",
    "              'length_domain_frac_url_len', 'url_slash_cnt_frac_url_len',\n",
    "              'url_digit_cnt_frac_url_len', 'url_special_char_cnt_frac_url_len',\n",
    "              'url_reserved_char_cnt_frac_url_len']"
   ]
  },
  {
   "cell_type": "code",
   "execution_count": 19,
   "metadata": {},
   "outputs": [],
   "source": [
    "preproc_pipe = FeatureUnion(p.gen_pipeline(model_cols, proc_dict))"
   ]
  },
  {
   "cell_type": "markdown",
   "metadata": {},
   "source": [
    "# Tune Random Forest"
   ]
  },
  {
   "cell_type": "markdown",
   "metadata": {},
   "source": [
    "As the algorithm took ~10 min to fit-predict one iteration, 3- to 5-fold cross validation inside a `GridSearchCV` would be time prohibitive. We'll use a train-test-split of our subset of our train data (so, we are still sufficiently protected from out hold-out test set), and perform tuning \"by hand\"."
   ]
  },
  {
   "cell_type": "code",
   "execution_count": 11,
   "metadata": {},
   "outputs": [],
   "source": [
    "from sklearn.pipeline import make_pipeline\n",
    "from sklearn.metrics import f1_score"
   ]
  },
  {
   "cell_type": "code",
   "execution_count": 45,
   "metadata": {},
   "outputs": [],
   "source": [
    "X_train_proc = preproc_pipe.fit_transform(X_train, y_train)\n",
    "X_test_proc = preproc_pipe.transform(X_test)"
   ]
  },
  {
   "cell_type": "markdown",
   "metadata": {},
   "source": [
    "Test out our code, while tweaking a hyperparamter (`min_impurity_decrease`):"
   ]
  },
  {
   "cell_type": "code",
   "execution_count": 56,
   "metadata": {},
   "outputs": [
    {
     "name": "stdout",
     "output_type": "stream",
     "text": [
      "Fitting model....\n",
      "Predicting test...\n"
     ]
    },
    {
     "name": "stderr",
     "output_type": "stream",
     "text": [
      "/Users/kendra/anaconda3/lib/python3.6/site-packages/sklearn/metrics/classification.py:1143: UndefinedMetricWarning: F-score is ill-defined and being set to 0.0 due to no predicted samples.\n",
      "  'precision', 'predicted', average, warn_for)\n"
     ]
    },
    {
     "name": "stdout",
     "output_type": "stream",
     "text": [
      "Test score:  0.0\n",
      "Train score:  0.0\n",
      "Elapsed time: 45 seconds\n"
     ]
    },
    {
     "name": "stderr",
     "output_type": "stream",
     "text": [
      "/Users/kendra/anaconda3/lib/python3.6/site-packages/sklearn/metrics/classification.py:1143: UndefinedMetricWarning: F-score is ill-defined and being set to 0.0 due to no predicted samples.\n",
      "  'precision', 'predicted', average, warn_for)\n"
     ]
    }
   ],
   "source": [
    "model = RandomForestClassifier(n_estimators=100, min_impurity_decrease=0.001)\n",
    "start_time = time.time()\n",
    "print('Fitting model....')\n",
    "model.fit(X_train_proc, y_train)\n",
    "print('Predicting test...')\n",
    "y_pred_test = model.predict(X_test_proc)\n",
    "print('Test score: ', f1_score(y_test, y_pred_test))\n",
    "y_pred_train = model.predict(X_train_proc)\n",
    "print('Train score: ', f1_score(y_train, y_pred_train))\n",
    "\n",
    "duration = time.time() - start_time\n",
    "print('Elapsed time: {:.0f} seconds'.format(duration))"
   ]
  },
  {
   "cell_type": "code",
   "execution_count": 57,
   "metadata": {},
   "outputs": [],
   "source": [
    "def compare_train_test(model):    \n",
    "    start_time = time.time()\n",
    "    print('Fitting model....')\n",
    "    model.fit(X_train_proc, y_train)\n",
    "    print('Predicting test...')\n",
    "    y_pred_test = model.predict(X_test_proc)\n",
    "    print('Test score: ', f1_score(y_test, y_pred_test))\n",
    "    y_pred_train = model.predict(X_train_proc)\n",
    "    print('Train score: ', f1_score(y_train, y_pred_train))\n",
    "\n",
    "    duration = time.time() - start_time\n",
    "    print('Elapsed time: {:.0f} seconds'.format(duration))\n",
    "    return model"
   ]
  },
  {
   "cell_type": "markdown",
   "metadata": {},
   "source": [
    "## Criterion"
   ]
  },
  {
   "cell_type": "code",
   "execution_count": 58,
   "metadata": {},
   "outputs": [
    {
     "name": "stdout",
     "output_type": "stream",
     "text": [
      "Fitting model....\n",
      "Predicting test...\n",
      "Test score:  0.08482142857142858\n",
      "Train score:  0.12658227848101267\n",
      "Elapsed time: 314 seconds\n"
     ]
    }
   ],
   "source": [
    "base_rf = compare_train_test(RandomForestClassifier(n_estimators=100, max_depth=10, criterion='gini'))"
   ]
  },
  {
   "cell_type": "code",
   "execution_count": 59,
   "metadata": {},
   "outputs": [
    {
     "name": "stdout",
     "output_type": "stream",
     "text": [
      "Fitting model....\n",
      "Predicting test...\n",
      "Test score:  0.20545073375262055\n",
      "Train score:  0.257617728531856\n",
      "Elapsed time: 329 seconds\n"
     ]
    }
   ],
   "source": [
    "rf2 = compare_train_test(RandomForestClassifier(n_estimators=100, max_depth=10, criterion='entropy'))"
   ]
  },
  {
   "cell_type": "markdown",
   "metadata": {},
   "source": [
    "Entropy is an improvement"
   ]
  },
  {
   "cell_type": "markdown",
   "metadata": {},
   "source": [
    "## Max depth of trees"
   ]
  },
  {
   "cell_type": "code",
   "execution_count": 60,
   "metadata": {},
   "outputs": [
    {
     "name": "stdout",
     "output_type": "stream",
     "text": [
      "Fitting model....\n",
      "Predicting test...\n",
      "Test score:  0.018518518518518517\n",
      "Train score:  0.017336485421591805\n",
      "Elapsed time: 182 seconds\n"
     ]
    }
   ],
   "source": [
    "rf3 = compare_train_test(RandomForestClassifier(n_estimators=100, max_depth=5, criterion='entropy'))"
   ]
  },
  {
   "cell_type": "code",
   "execution_count": 61,
   "metadata": {},
   "outputs": [
    {
     "name": "stdout",
     "output_type": "stream",
     "text": [
      "Fitting model....\n",
      "Predicting test...\n",
      "Test score:  0.07640449438202247\n",
      "Train score:  0.1321455085374907\n",
      "Elapsed time: 247 seconds\n"
     ]
    }
   ],
   "source": [
    "rf4 = compare_train_test(RandomForestClassifier(n_estimators=100, max_depth=8, criterion='entropy'))"
   ]
  },
  {
   "cell_type": "code",
   "execution_count": 62,
   "metadata": {},
   "outputs": [
    {
     "name": "stdout",
     "output_type": "stream",
     "text": [
      "Fitting model....\n",
      "Predicting test...\n",
      "Test score:  0.20545073375262055\n",
      "Train score:  0.26482758620689656\n",
      "Elapsed time: 437 seconds\n"
     ]
    }
   ],
   "source": [
    "rf5 = compare_train_test(RandomForestClassifier(n_estimators=150, max_depth=10, criterion='entropy'))"
   ]
  },
  {
   "cell_type": "code",
   "execution_count": 63,
   "metadata": {},
   "outputs": [
    {
     "name": "stdout",
     "output_type": "stream",
     "text": [
      "Fitting model....\n",
      "Predicting test...\n",
      "Test score:  0.16702355460385437\n",
      "Train score:  0.22065063649222064\n",
      "Elapsed time: 264 seconds\n"
     ]
    }
   ],
   "source": [
    "rf6 = compare_train_test(RandomForestClassifier(n_estimators=100, max_depth=9, criterion='entropy'))"
   ]
  },
  {
   "cell_type": "code",
   "execution_count": 64,
   "metadata": {},
   "outputs": [
    {
     "name": "stdout",
     "output_type": "stream",
     "text": [
      "Fitting model....\n",
      "Predicting test...\n",
      "Test score:  0.25254582484725047\n",
      "Train score:  0.3490813648293963\n",
      "Elapsed time: 333 seconds\n"
     ]
    }
   ],
   "source": [
    "rf7 = compare_train_test(RandomForestClassifier(n_estimators=100, max_depth=12, criterion='entropy'))"
   ]
  },
  {
   "cell_type": "markdown",
   "metadata": {},
   "source": [
    "By now, I can make a plot of results. If I had to do this over, I'd have generated & collected the data more programatically"
   ]
  },
  {
   "cell_type": "code",
   "execution_count": 3,
   "metadata": {},
   "outputs": [],
   "source": [
    "depths = [5, 8, 9, 10, 12]\n",
    "res_test = [0.018518518518518517, 0.07640449438202247, 0.16702355460385437, 0.20545073375262055, 0.25254582484725047]\n",
    "res_train = [0.017336485421591805, 0.1321455085374907, 0.22065063649222064, 0.257617728531856, 0.3490813648293963]"
   ]
  },
  {
   "cell_type": "code",
   "execution_count": 4,
   "metadata": {},
   "outputs": [
    {
     "data": {
      "image/png": "[encoded data removed]",
      "text/plain": [
       "<Figure size 432x288 with 1 Axes>"
      ]
     },
     "metadata": {
      "needs_background": "light"
     },
     "output_type": "display_data"
    }
   ],
   "source": [
    "plt.plot(depths, res_test, label='test', marker='o')\n",
    "plt.plot(depths, res_train, label='train', marker='o')\n",
    "plt.legend()\n",
    "plt.xlabel('Max Tree Depth')\n",
    "plt.ylabel('F1-score');"
   ]
  },
  {
   "cell_type": "markdown",
   "metadata": {},
   "source": [
    "### Overfitting!"
   ]
  },
  {
   "cell_type": "markdown",
   "metadata": {},
   "source": [
    "What if we eliminate the restriction on `max_depth`?"
   ]
  },
  {
   "cell_type": "code",
   "execution_count": 65,
   "metadata": {},
   "outputs": [
    {
     "name": "stdout",
     "output_type": "stream",
     "text": [
      "Fitting model....\n",
      "Predicting test...\n",
      "Test score:  0.34980988593155893\n",
      "Train score:  0.9919935948759007\n",
      "Elapsed time: 413 seconds\n"
     ]
    }
   ],
   "source": [
    "rf7 = compare_train_test(RandomForestClassifier(n_estimators=100, criterion='entropy'))"
   ]
  },
  {
   "cell_type": "code",
   "execution_count": 88,
   "metadata": {},
   "outputs": [
    {
     "data": {
      "text/plain": [
       "3769"
      ]
     },
     "execution_count": 88,
     "metadata": {},
     "output_type": "execute_result"
    }
   ],
   "source": [
    "n_nodes = estimator.tree_.node_count\n",
    "children_left = estimator.tree_.children_left\n",
    "children_right = estimator.tree_.children_right\n",
    "feature = estimator.tree_.feature\n",
    "threshold = estimator.tree_.threshold\n",
    "\n",
    "node_depth = np.zeros(shape=n_nodes, dtype=np.int64)\n",
    "is_leaves = np.zeros(shape=n_nodes, dtype=bool)\n",
    "stack = [(0, -1)]  # seed is the root node id and its parent depth\n",
    "while len(stack) > 0:\n",
    "    node_id, parent_depth = stack.pop()\n",
    "    node_depth[node_id] = parent_depth + 1\n",
    "\n",
    "    # If we have a test node\n",
    "    if (children_left[node_id] != children_right[node_id]):\n",
    "        stack.append((children_left[node_id], parent_depth + 1))\n",
    "        stack.append((children_right[node_id], parent_depth + 1))\n",
    "    else:\n",
    "        is_leaves[node_id] = True"
   ]
  },
  {
   "cell_type": "code",
   "execution_count": 92,
   "metadata": {},
   "outputs": [
    {
     "data": {
      "text/plain": [
       "array([0, 1, 2, ..., 3, 4, 4])"
      ]
     },
     "execution_count": 92,
     "metadata": {},
     "output_type": "execute_result"
    }
   ],
   "source": [
    "node_depth"
   ]
  },
  {
   "cell_type": "code",
   "execution_count": 93,
   "metadata": {},
   "outputs": [
    {
     "data": {
      "text/plain": [
       "37"
      ]
     },
     "execution_count": 93,
     "metadata": {},
     "output_type": "execute_result"
    }
   ],
   "source": [
    "max(node_depth)"
   ]
  },
  {
   "cell_type": "code",
   "execution_count": 94,
   "metadata": {},
   "outputs": [],
   "source": [
    "def get_tree_depth(estimator):\n",
    "    n_nodes = estimator.tree_.node_count\n",
    "    children_left = estimator.tree_.children_left\n",
    "    children_right = estimator.tree_.children_right\n",
    "    feature = estimator.tree_.feature\n",
    "    threshold = estimator.tree_.threshold\n",
    "\n",
    "    node_depth = np.zeros(shape=n_nodes, dtype=np.int64)\n",
    "    is_leaves = np.zeros(shape=n_nodes, dtype=bool)\n",
    "    stack = [(0, -1)]  # seed is the root node id and its parent depth\n",
    "    while len(stack) > 0:\n",
    "        node_id, parent_depth = stack.pop()\n",
    "        node_depth[node_id] = parent_depth + 1\n",
    "\n",
    "        # If we have a test node\n",
    "        if (children_left[node_id] != children_right[node_id]):\n",
    "            stack.append((children_left[node_id], parent_depth + 1))\n",
    "            stack.append((children_right[node_id], parent_depth + 1))\n",
    "        else:\n",
    "            is_leaves[node_id] = True\n",
    "    \n",
    "    return max(node_depth)"
   ]
  },
  {
   "cell_type": "code",
   "execution_count": 95,
   "metadata": {},
   "outputs": [],
   "source": [
    "max_depths = [get_tree_depth(est) for est in rf7.estimators_]"
   ]
  },
  {
   "cell_type": "code",
   "execution_count": 97,
   "metadata": {},
   "outputs": [],
   "source": [
    "import matplotlib.pyplot as plt"
   ]
  },
  {
   "cell_type": "code",
   "execution_count": 98,
   "metadata": {},
   "outputs": [
    {
     "data": {
      "text/plain": [
       "(array([ 2., 12., 20., 27.,  9., 12.,  7.,  6.,  4.,  1.]),\n",
       " array([30. , 31.8, 33.6, 35.4, 37.2, 39. , 40.8, 42.6, 44.4, 46.2, 48. ]),\n",
       " <a list of 10 Patch objects>)"
      ]
     },
     "execution_count": 98,
     "metadata": {},
     "output_type": "execute_result"
    },
    {
     "data": {
      "image/png": "[encoded data removed]",
      "text/plain": [
       "<Figure size 432x288 with 1 Axes>"
      ]
     },
     "metadata": {
      "needs_background": "light"
     },
     "output_type": "display_data"
    }
   ],
   "source": [
    "plt.hist(max_depths)"
   ]
  },
  {
   "cell_type": "code",
   "execution_count": 5,
   "metadata": {},
   "outputs": [],
   "source": [
    "depths = [5, 8, 9, 10, 12, 35]\n",
    "res_test = [0.018518518518518517, 0.07640449438202247, 0.16702355460385437, 0.20545073375262055, 0.25254582484725047,\n",
    "           0.34980988593155893]\n",
    "res_train = [0.017336485421591805, 0.1321455085374907, 0.22065063649222064, 0.257617728531856, 0.3490813648293963,\n",
    "            0.9919935948759007]"
   ]
  },
  {
   "cell_type": "code",
   "execution_count": 6,
   "metadata": {},
   "outputs": [
    {
     "data": {
      "image/png": "[encoded data removed]",
      "text/plain": [
       "<Figure size 432x288 with 1 Axes>"
      ]
     },
     "metadata": {
      "needs_background": "light"
     },
     "output_type": "display_data"
    }
   ],
   "source": [
    "plt.plot(depths, res_test, label='test', marker='o')\n",
    "plt.plot(depths, res_train, label='train', marker='o')\n",
    "plt.legend()\n",
    "plt.xlabel('Max Tree Depth')\n",
    "plt.ylabel('F1-score');"
   ]
  },
  {
   "cell_type": "markdown",
   "metadata": {},
   "source": [
    "Now that's overfitting!"
   ]
  },
  {
   "cell_type": "markdown",
   "metadata": {},
   "source": [
    "## n_estimators"
   ]
  },
  {
   "cell_type": "code",
   "execution_count": 108,
   "metadata": {},
   "outputs": [
    {
     "name": "stdout",
     "output_type": "stream",
     "text": [
      "Fitting model....\n",
      "Predicting test...\n",
      "Test score:  0.19789473684210523\n",
      "Train score:  0.2636300897170462\n",
      "Elapsed time: 217 seconds\n"
     ]
    }
   ],
   "source": [
    "rf8 = compare_train_test(RandomForestClassifier(n_estimators=75, max_depth=10, criterion='entropy'))"
   ]
  },
  {
   "cell_type": "code",
   "execution_count": 115,
   "metadata": {},
   "outputs": [],
   "source": [
    "depths = [5, 8, 9, 10, 12]\n",
    "res_test = [0.018518518518518517, 0.07640449438202247, 0.16702355460385437, 0.20545073375262055, \n",
    "            0.25254582484725047]\n",
    "res_train = [0.017336485421591805, 0.1321455085374907, 0.22065063649222064, 0.257617728531856, \n",
    "             0.3490813648293963]"
   ]
  },
  {
   "cell_type": "code",
   "execution_count": 116,
   "metadata": {},
   "outputs": [],
   "source": [
    "depth_75 = [10]\n",
    "res_test_75 = [0.19789473684210523,]\n",
    "res_train_75 = [0.2636300897170462]"
   ]
  },
  {
   "cell_type": "code",
   "execution_count": 117,
   "metadata": {},
   "outputs": [
    {
     "data": {
      "text/plain": [
       "<matplotlib.legend.Legend at 0x1b4cb1ab70>"
      ]
     },
     "execution_count": 117,
     "metadata": {},
     "output_type": "execute_result"
    },
    {
     "data": {
      "image/png": "[encoded data removed]",
      "text/plain": [
       "<Figure size 432x288 with 1 Axes>"
      ]
     },
     "metadata": {
      "needs_background": "light"
     },
     "output_type": "display_data"
    }
   ],
   "source": [
    "plt.plot(depths, res_test, label='test', marker='o')\n",
    "plt.plot(depths, res_train, label='train', marker='o')\n",
    "plt.plot(depth_75, res_test_75, label='test', marker='x', color='blue')\n",
    "plt.plot(depth_75, res_train_75, label='train', marker='x', color='orange')\n",
    "\n",
    "plt.legend()"
   ]
  },
  {
   "cell_type": "markdown",
   "metadata": {},
   "source": [
    "75 estimators is slightly more over-fit than 100."
   ]
  },
  {
   "cell_type": "code",
   "execution_count": null,
   "metadata": {},
   "outputs": [],
   "source": []
  }
 ],
 "metadata": {
  "kernelspec": {
   "display_name": "Python 3",
   "language": "python",
   "name": "python3"
  },
  "language_info": {
   "codemirror_mode": {
    "name": "ipython",
    "version": 3
   },
   "file_extension": ".py",
   "mimetype": "text/x-python",
   "name": "python",
   "nbconvert_exporter": "python",
   "pygments_lexer": "ipython3",
   "version": "3.6.7"
  }
 },
 "nbformat": 4,
 "nbformat_minor": 2
}
