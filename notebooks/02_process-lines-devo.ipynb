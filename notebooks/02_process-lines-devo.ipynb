{
 "cells": [
  {
   "cell_type": "code",
   "execution_count": 1,
   "metadata": {
    "ExecuteTime": {
     "end_time": "2019-12-06T23:23:57.104198Z",
     "start_time": "2019-12-06T23:23:47.011455Z"
    }
   },
   "outputs": [],
   "source": [
    "import gc\n",
    "import gzip\n",
    "import time\n",
    "import json\n",
    "import shutil\n",
    "import os\n",
    "import sys\n",
    "import tldextract\n",
    "import collections\n",
    "import pandas as pd\n",
    "from tqdm import tqdm\n",
    "import urllib.request\n",
    "\n",
    "# had to add:\n",
    "from multiprocessing import Pool"
   ]
  },
  {
   "cell_type": "code",
   "execution_count": 3,
   "metadata": {
    "ExecuteTime": {
     "end_time": "2019-12-06T23:24:40.645052Z",
     "start_time": "2019-12-06T23:24:40.641051Z"
    }
   },
   "outputs": [],
   "source": [
    "storage_folder = '../data/raw/index_paths/'\n",
    "file_prefix = 'https://commoncrawl.s3.amazonaws.com/'"
   ]
  },
  {
   "cell_type": "markdown",
   "metadata": {},
   "source": [
    "`cc-index.paths` file has already been downloaded & extracted"
   ]
  },
  {
   "cell_type": "code",
   "execution_count": 4,
   "metadata": {
    "ExecuteTime": {
     "end_time": "2019-12-06T23:24:42.851001Z",
     "start_time": "2019-12-06T23:24:42.844997Z"
    }
   },
   "outputs": [],
   "source": [
    "index_file_name = 'cc-index.paths.gz'\n",
    "file_name = storage_folder + index_file_name\n",
    "file_unzipped = file_name.split('.gz')[0]"
   ]
  },
  {
   "cell_type": "code",
   "execution_count": 5,
   "metadata": {
    "ExecuteTime": {
     "end_time": "2019-12-06T23:25:07.925206Z",
     "start_time": "2019-12-06T23:25:07.917205Z"
    }
   },
   "outputs": [
    {
     "data": {
      "text/plain": [
       "'../data/index_paths/cc-index.paths'"
      ]
     },
     "execution_count": 5,
     "metadata": {},
     "output_type": "execute_result"
    }
   ],
   "source": [
    "file_unzipped"
   ]
  },
  {
   "cell_type": "code",
   "execution_count": 7,
   "metadata": {
    "ExecuteTime": {
     "end_time": "2019-12-06T23:25:33.909917Z",
     "start_time": "2019-12-06T23:25:33.899910Z"
    }
   },
   "outputs": [],
   "source": [
    "def read_every_line(fname,\n",
    "                    max_lines=-1):\n",
    "    lines = []\n",
    "    with open(fname, encoding='utf-8') as f:\n",
    "        for i, l in enumerate(f):\n",
    "            lines.append(l)\n",
    "            if i>max_lines and max_lines>0:\n",
    "                break\n",
    "    return lines"
   ]
  },
  {
   "cell_type": "code",
   "execution_count": 8,
   "metadata": {
    "ExecuteTime": {
     "end_time": "2019-12-06T23:25:34.447900Z",
     "start_time": "2019-12-06T23:25:34.380905Z"
    }
   },
   "outputs": [],
   "source": [
    "lines = read_every_line(file_unzipped, 1e8)"
   ]
  },
  {
   "cell_type": "code",
   "execution_count": 9,
   "metadata": {
    "ExecuteTime": {
     "end_time": "2019-12-06T23:25:38.651036Z",
     "start_time": "2019-12-06T23:25:38.636041Z"
    }
   },
   "outputs": [
    {
     "name": "stdout",
     "output_type": "stream",
     "text": [
      "302 lines extracted\n"
     ]
    }
   ],
   "source": [
    "print('{} lines extracted'.format(len(lines)))\n",
    "lines = [line.replace('\\n','') for line in lines]"
   ]
  },
  {
   "cell_type": "markdown",
   "metadata": {},
   "source": [
    "`lines` is a list of url suffixes for compressed cdx files:"
   ]
  },
  {
   "cell_type": "code",
   "execution_count": 10,
   "metadata": {
    "ExecuteTime": {
     "end_time": "2019-12-06T23:25:43.524760Z",
     "start_time": "2019-12-06T23:25:43.517754Z"
    }
   },
   "outputs": [
    {
     "data": {
      "text/plain": [
       "'cc-index/collections/CC-MAIN-2019-47/indexes/cdx-00000.gz'"
      ]
     },
     "execution_count": 10,
     "metadata": {},
     "output_type": "execute_result"
    }
   ],
   "source": [
    "lines[0]"
   ]
  },
  {
   "cell_type": "markdown",
   "metadata": {},
   "source": [
    "Code to generate url and filename from this list:"
   ]
  },
  {
   "cell_type": "code",
   "execution_count": 11,
   "metadata": {
    "ExecuteTime": {
     "end_time": "2019-12-06T23:25:47.237670Z",
     "start_time": "2019-12-06T23:25:47.228666Z"
    }
   },
   "outputs": [],
   "source": [
    "file_dict = collections.OrderedDict()\n",
    "\n",
    "n = 1\n",
    "\n",
    "# iterate over the index files\n",
    "for i, cc_index in enumerate(lines[:n]):\n",
    "    cc_index_file = cc_index.split('/')[-1]\n",
    "    file_dict[os.path.join(storage_folder, cc_index_file)] = file_prefix + cc_index"
   ]
  },
  {
   "cell_type": "markdown",
   "metadata": {},
   "source": [
    "Code to extract data from the lines of a cdx index file:"
   ]
  },
  {
   "cell_type": "code",
   "execution_count": 13,
   "metadata": {
    "ExecuteTime": {
     "end_time": "2019-12-06T23:27:45.821704Z",
     "start_time": "2019-12-06T23:27:45.805697Z"
    }
   },
   "outputs": [],
   "source": [
    "def process_index_file_line(line):\n",
    "    assert type(line)==str\n",
    "    \n",
    "    try:\n",
    "        lst = line.replace('\\n','').split()\n",
    "        ts = lst[1] # some sort of identifier\n",
    "        data = json.loads(line.replace('\\n','').split(ts)[-1].strip())\n",
    "    except:\n",
    "        return ()\n",
    "    \n",
    "    if data['status'] != '200':\n",
    "        return ()\n",
    "    else:\n",
    "        try:\n",
    "            language = data['languages']\n",
    "        except:\n",
    "            language = 'none'\n",
    "            \n",
    "        try:\n",
    "            _tldextract = tldextract.extract(data['url'])\n",
    "            tup = (ts,\n",
    "                   data['url'],\n",
    "                   _tldextract.suffix,\n",
    "                   data['length'],\n",
    "                   data['offset'],\n",
    "                   data['filename'],\n",
    "                   language              \n",
    "                )\n",
    "            return tup\n",
    "        except:\n",
    "            return ()"
   ]
  },
  {
   "cell_type": "markdown",
   "metadata": {},
   "source": [
    "Let's process the first 100 lines "
   ]
  },
  {
   "cell_type": "code",
   "execution_count": 18,
   "metadata": {
    "ExecuteTime": {
     "end_time": "2019-12-06T23:30:56.150387Z",
     "start_time": "2019-12-06T23:30:56.144383Z"
    }
   },
   "outputs": [],
   "source": [
    "file_name = 'cdx-00000.gz'\n",
    "df_name = file_name.replace('.gz','.feather')\n",
    "file_unzipped = file_name.split('.gz')[0]"
   ]
  },
  {
   "cell_type": "code",
   "execution_count": 20,
   "metadata": {
    "ExecuteTime": {
     "end_time": "2019-12-06T23:31:59.687028Z",
     "start_time": "2019-12-06T23:31:59.682028Z"
    }
   },
   "outputs": [],
   "source": [
    "file_unzipped_path = storage_folder + file_unzipped"
   ]
  },
  {
   "cell_type": "code",
   "execution_count": 21,
   "metadata": {
    "ExecuteTime": {
     "end_time": "2019-12-06T23:32:04.936548Z",
     "start_time": "2019-12-06T23:32:04.929548Z"
    }
   },
   "outputs": [
    {
     "data": {
      "text/plain": [
       "'../data/index_paths/cdx-00000'"
      ]
     },
     "execution_count": 21,
     "metadata": {},
     "output_type": "execute_result"
    }
   ],
   "source": [
    "file_unzipped_path"
   ]
  },
  {
   "cell_type": "code",
   "execution_count": 22,
   "metadata": {
    "ExecuteTime": {
     "end_time": "2019-12-06T23:32:13.752744Z",
     "start_time": "2019-12-06T23:32:13.713737Z"
    }
   },
   "outputs": [],
   "source": [
    "lines = read_every_line(file_unzipped_path, 100)"
   ]
  },
  {
   "cell_type": "code",
   "execution_count": 23,
   "metadata": {
    "ExecuteTime": {
     "end_time": "2019-12-06T23:32:16.919669Z",
     "start_time": "2019-12-06T23:32:16.912668Z"
    }
   },
   "outputs": [
    {
     "data": {
      "text/plain": [
       "'0,0,1)/ 20191118114721 {\"url\": \"http://1.0.0/\", \"mime\": \"text/html\", \"mime-detected\": \"text/html\", \"status\": \"403\", \"digest\": \"BSLJKUCKYURNLM3IWKP45ZYNTS3AISL6\", \"length\": \"1902\", \"offset\": \"14531\", \"filename\": \"crawl-data/CC-MAIN-2019-47/segments/1573496669755.17/crawldiagnostics/CC-MAIN-20191118104047-20191118132047-00107.warc.gz\"}\\n'"
      ]
     },
     "execution_count": 23,
     "metadata": {},
     "output_type": "execute_result"
    }
   ],
   "source": [
    "lines[0]"
   ]
  },
  {
   "cell_type": "code",
   "execution_count": 24,
   "metadata": {
    "ExecuteTime": {
     "end_time": "2019-12-06T23:32:25.961476Z",
     "start_time": "2019-12-06T23:32:25.953469Z"
    }
   },
   "outputs": [
    {
     "name": "stdout",
     "output_type": "stream",
     "text": [
      "102 lines extracted\n"
     ]
    }
   ],
   "source": [
    "print('{} lines extracted'.format(len(lines)))"
   ]
  },
  {
   "cell_type": "code",
   "execution_count": 26,
   "metadata": {
    "ExecuteTime": {
     "end_time": "2019-12-06T23:32:47.527890Z",
     "start_time": "2019-12-06T23:32:47.521883Z"
    }
   },
   "outputs": [],
   "source": [
    "# out = list_multiprocessing(lines, process_index_file_line, workers=8)\n",
    "out_0 = process_index_file_line(lines[0])"
   ]
  },
  {
   "cell_type": "code",
   "execution_count": 27,
   "metadata": {
    "ExecuteTime": {
     "end_time": "2019-12-06T23:32:50.266003Z",
     "start_time": "2019-12-06T23:32:50.258002Z"
    }
   },
   "outputs": [
    {
     "data": {
      "text/plain": [
       "()"
      ]
     },
     "execution_count": 27,
     "metadata": {},
     "output_type": "execute_result"
    }
   ],
   "source": [
    "out_0"
   ]
  },
  {
   "cell_type": "code",
   "execution_count": 28,
   "metadata": {
    "ExecuteTime": {
     "end_time": "2019-12-06T23:33:25.265533Z",
     "start_time": "2019-12-06T23:33:24.946989Z"
    }
   },
   "outputs": [],
   "source": [
    "out = []\n",
    "\n",
    "for line in lines:\n",
    "    out.append(process_index_file_line(line))"
   ]
  },
  {
   "cell_type": "code",
   "execution_count": 31,
   "metadata": {
    "ExecuteTime": {
     "end_time": "2019-12-06T23:34:27.354938Z",
     "start_time": "2019-12-06T23:34:27.347941Z"
    }
   },
   "outputs": [],
   "source": [
    "out =  [_ for _ in out if _ != ()]"
   ]
  },
  {
   "cell_type": "code",
   "execution_count": 33,
   "metadata": {
    "ExecuteTime": {
     "end_time": "2019-12-06T23:34:31.667100Z",
     "start_time": "2019-12-06T23:34:31.656114Z"
    }
   },
   "outputs": [
    {
     "data": {
      "text/plain": [
       "[('20191121011733',\n",
       "  'http://13.126.102.0:8081/',\n",
       "  '',\n",
       "  '3914',\n",
       "  '939069',\n",
       "  'crawl-data/CC-MAIN-2019-47/segments/1573496670643.58/warc/CC-MAIN-20191121000300-20191121024300-00085.warc.gz',\n",
       "  'eng'),\n",
       " ('20191119195841',\n",
       "  'http://18.222.110.0/bruxism/',\n",
       "  '',\n",
       "  '30118',\n",
       "  '1127143',\n",
       "  'crawl-data/CC-MAIN-2019-47/segments/1573496670255.18/warc/CC-MAIN-20191119195450-20191119223450-00094.warc.gz',\n",
       "  'eng'),\n",
       " ('20191119211958',\n",
       "  'http://18.222.110.0/children/',\n",
       "  '',\n",
       "  '28678',\n",
       "  '1353987',\n",
       "  'crawl-data/CC-MAIN-2019-47/segments/1573496670255.18/warc/CC-MAIN-20191119195450-20191119223450-00465.warc.gz',\n",
       "  'eng'),\n",
       " ('20191119195846',\n",
       "  'http://18.222.110.0/facial-aesthetics/',\n",
       "  '',\n",
       "  '29722',\n",
       "  '1025626',\n",
       "  'crawl-data/CC-MAIN-2019-47/segments/1573496670255.18/warc/CC-MAIN-20191119195450-20191119223450-00406.warc.gz',\n",
       "  'eng'),\n",
       " ('20191119202823',\n",
       "  'http://18.222.110.0/general-dentistry/',\n",
       "  '',\n",
       "  '32010',\n",
       "  '1108906',\n",
       "  'crawl-data/CC-MAIN-2019-47/segments/1573496670255.18/warc/CC-MAIN-20191119195450-20191119223450-00345.warc.gz',\n",
       "  'eng')]"
      ]
     },
     "execution_count": 33,
     "metadata": {},
     "output_type": "execute_result"
    }
   ],
   "source": [
    "out[:5]"
   ]
  },
  {
   "cell_type": "code",
   "execution_count": 34,
   "metadata": {
    "ExecuteTime": {
     "end_time": "2019-12-06T23:34:34.365079Z",
     "start_time": "2019-12-06T23:34:34.355053Z"
    }
   },
   "outputs": [
    {
     "data": {
      "text/plain": [
       "71"
      ]
     },
     "execution_count": 34,
     "metadata": {},
     "output_type": "execute_result"
    }
   ],
   "source": [
    "len(out)"
   ]
  },
  {
   "cell_type": "code",
   "execution_count": 35,
   "metadata": {
    "ExecuteTime": {
     "end_time": "2019-12-06T23:34:37.414768Z",
     "start_time": "2019-12-06T23:34:37.372211Z"
    }
   },
   "outputs": [],
   "source": [
    "ts_list       = [_[0] for _ in out]\n",
    "url_list      = [_[1] for _ in out]\n",
    "tld           = [_[2] for _ in out]\n",
    "length_list   = [_[3] for _ in out]\n",
    "offset_list   = [_[4] for _ in out]\n",
    "warc_list     = [_[5] for _ in out]\n",
    "language_list = [_[6] for _ in out]\n",
    "\n",
    "cols = ['ts','url','tld','length','offset','warc','language']\n",
    "df = pd.DataFrame(data={\n",
    "    'ts':ts_list,\n",
    "    'url':url_list,\n",
    "    'tld':tld,\n",
    "    'length':length_list,\n",
    "    'offset':offset_list,\n",
    "    'warc':warc_list,\n",
    "    'language':language_list}\n",
    "                  ,columns=cols)\n",
    "\n",
    "df['wet'] = df.warc.apply(lambda x: x.replace('/warc/','/wet/').replace('.warc.','.warc.wet.'))\n",
    "df['wet'] = df['wet'].apply(lambda x: file_prefix + x)"
   ]
  },
  {
   "cell_type": "code",
   "execution_count": 36,
   "metadata": {
    "ExecuteTime": {
     "end_time": "2019-12-06T23:34:40.271916Z",
     "start_time": "2019-12-06T23:34:40.050808Z"
    }
   },
   "outputs": [
    {
     "data": {
      "text/html": [
       "<div>\n",
       "<style scoped>\n",
       "    .dataframe tbody tr th:only-of-type {\n",
       "        vertical-align: middle;\n",
       "    }\n",
       "\n",
       "    .dataframe tbody tr th {\n",
       "        vertical-align: top;\n",
       "    }\n",
       "\n",
       "    .dataframe thead th {\n",
       "        text-align: right;\n",
       "    }\n",
       "</style>\n",
       "<table border=\"1\" class=\"dataframe\">\n",
       "  <thead>\n",
       "    <tr style=\"text-align: right;\">\n",
       "      <th></th>\n",
       "      <th>ts</th>\n",
       "      <th>url</th>\n",
       "      <th>tld</th>\n",
       "      <th>length</th>\n",
       "      <th>offset</th>\n",
       "      <th>warc</th>\n",
       "      <th>language</th>\n",
       "      <th>wet</th>\n",
       "    </tr>\n",
       "  </thead>\n",
       "  <tbody>\n",
       "    <tr>\n",
       "      <th>0</th>\n",
       "      <td>20191121011733</td>\n",
       "      <td>http://13.126.102.0:8081/</td>\n",
       "      <td></td>\n",
       "      <td>3914</td>\n",
       "      <td>939069</td>\n",
       "      <td>crawl-data/CC-MAIN-2019-47/segments/1573496670...</td>\n",
       "      <td>eng</td>\n",
       "      <td>https://commoncrawl.s3.amazonaws.com/crawl-dat...</td>\n",
       "    </tr>\n",
       "    <tr>\n",
       "      <th>1</th>\n",
       "      <td>20191119195841</td>\n",
       "      <td>http://18.222.110.0/bruxism/</td>\n",
       "      <td></td>\n",
       "      <td>30118</td>\n",
       "      <td>1127143</td>\n",
       "      <td>crawl-data/CC-MAIN-2019-47/segments/1573496670...</td>\n",
       "      <td>eng</td>\n",
       "      <td>https://commoncrawl.s3.amazonaws.com/crawl-dat...</td>\n",
       "    </tr>\n",
       "    <tr>\n",
       "      <th>2</th>\n",
       "      <td>20191119211958</td>\n",
       "      <td>http://18.222.110.0/children/</td>\n",
       "      <td></td>\n",
       "      <td>28678</td>\n",
       "      <td>1353987</td>\n",
       "      <td>crawl-data/CC-MAIN-2019-47/segments/1573496670...</td>\n",
       "      <td>eng</td>\n",
       "      <td>https://commoncrawl.s3.amazonaws.com/crawl-dat...</td>\n",
       "    </tr>\n",
       "    <tr>\n",
       "      <th>3</th>\n",
       "      <td>20191119195846</td>\n",
       "      <td>http://18.222.110.0/facial-aesthetics/</td>\n",
       "      <td></td>\n",
       "      <td>29722</td>\n",
       "      <td>1025626</td>\n",
       "      <td>crawl-data/CC-MAIN-2019-47/segments/1573496670...</td>\n",
       "      <td>eng</td>\n",
       "      <td>https://commoncrawl.s3.amazonaws.com/crawl-dat...</td>\n",
       "    </tr>\n",
       "    <tr>\n",
       "      <th>4</th>\n",
       "      <td>20191119202823</td>\n",
       "      <td>http://18.222.110.0/general-dentistry/</td>\n",
       "      <td></td>\n",
       "      <td>32010</td>\n",
       "      <td>1108906</td>\n",
       "      <td>crawl-data/CC-MAIN-2019-47/segments/1573496670...</td>\n",
       "      <td>eng</td>\n",
       "      <td>https://commoncrawl.s3.amazonaws.com/crawl-dat...</td>\n",
       "    </tr>\n",
       "  </tbody>\n",
       "</table>\n",
       "</div>"
      ],
      "text/plain": [
       "               ts                                     url tld length   offset  \\\n",
       "0  20191121011733               http://13.126.102.0:8081/       3914   939069   \n",
       "1  20191119195841            http://18.222.110.0/bruxism/      30118  1127143   \n",
       "2  20191119211958           http://18.222.110.0/children/      28678  1353987   \n",
       "3  20191119195846  http://18.222.110.0/facial-aesthetics/      29722  1025626   \n",
       "4  20191119202823  http://18.222.110.0/general-dentistry/      32010  1108906   \n",
       "\n",
       "                                                warc language  \\\n",
       "0  crawl-data/CC-MAIN-2019-47/segments/1573496670...      eng   \n",
       "1  crawl-data/CC-MAIN-2019-47/segments/1573496670...      eng   \n",
       "2  crawl-data/CC-MAIN-2019-47/segments/1573496670...      eng   \n",
       "3  crawl-data/CC-MAIN-2019-47/segments/1573496670...      eng   \n",
       "4  crawl-data/CC-MAIN-2019-47/segments/1573496670...      eng   \n",
       "\n",
       "                                                 wet  \n",
       "0  https://commoncrawl.s3.amazonaws.com/crawl-dat...  \n",
       "1  https://commoncrawl.s3.amazonaws.com/crawl-dat...  \n",
       "2  https://commoncrawl.s3.amazonaws.com/crawl-dat...  \n",
       "3  https://commoncrawl.s3.amazonaws.com/crawl-dat...  \n",
       "4  https://commoncrawl.s3.amazonaws.com/crawl-dat...  "
      ]
     },
     "execution_count": 36,
     "metadata": {},
     "output_type": "execute_result"
    }
   ],
   "source": [
    "df.head()"
   ]
  },
  {
   "cell_type": "code",
   "execution_count": null,
   "metadata": {},
   "outputs": [],
   "source": []
  },
  {
   "cell_type": "code",
   "execution_count": 37,
   "metadata": {
    "ExecuteTime": {
     "end_time": "2019-12-06T23:47:52.065739Z",
     "start_time": "2019-12-06T23:38:46.619806Z"
    }
   },
   "outputs": [
    {
     "name": "stdout",
     "output_type": "stream",
     "text": [
      "9815044 lines extracted\n",
      "8113086 lines extracted\n"
     ]
    }
   ],
   "source": [
    "lines = read_every_line(file_unzipped_path, 1e8)\n",
    "print('{} lines extracted'.format(len(lines)))\n",
    "\n",
    "out = []\n",
    "\n",
    "for line in lines:\n",
    "    out.append(process_index_file_line(line))\n",
    "\n",
    "out =  [_ for _ in out if _ != ()]\n",
    "print('{} lines extracted'.format(len(out)))\n",
    "\n",
    "ts_list       = [_[0] for _ in out]\n",
    "url_list      = [_[1] for _ in out]\n",
    "tld           = [_[2] for _ in out]\n",
    "length_list   = [_[3] for _ in out]\n",
    "offset_list   = [_[4] for _ in out]\n",
    "warc_list     = [_[5] for _ in out]\n",
    "language_list = [_[6] for _ in out]\n",
    "\n",
    "cols = ['ts','url','tld','length','offset','warc','language']\n",
    "df = pd.DataFrame(data={\n",
    "    'ts':ts_list,\n",
    "    'url':url_list,\n",
    "    'tld':tld,\n",
    "    'length':length_list,\n",
    "    'offset':offset_list,\n",
    "    'warc':warc_list,\n",
    "    'language':language_list}\n",
    "                  ,columns=cols)\n",
    "\n",
    "df['wet'] = df.warc.apply(lambda x: x.replace('/warc/','/wet/').replace('.warc.','.warc.wet.'))\n",
    "df['wet'] = df['wet'].apply(lambda x: file_prefix + x)"
   ]
  },
  {
   "cell_type": "code",
   "execution_count": 38,
   "metadata": {
    "ExecuteTime": {
     "end_time": "2019-12-06T23:47:58.345710Z",
     "start_time": "2019-12-06T23:47:58.169721Z"
    }
   },
   "outputs": [
    {
     "data": {
      "text/html": [
       "<div>\n",
       "<style scoped>\n",
       "    .dataframe tbody tr th:only-of-type {\n",
       "        vertical-align: middle;\n",
       "    }\n",
       "\n",
       "    .dataframe tbody tr th {\n",
       "        vertical-align: top;\n",
       "    }\n",
       "\n",
       "    .dataframe thead th {\n",
       "        text-align: right;\n",
       "    }\n",
       "</style>\n",
       "<table border=\"1\" class=\"dataframe\">\n",
       "  <thead>\n",
       "    <tr style=\"text-align: right;\">\n",
       "      <th></th>\n",
       "      <th>ts</th>\n",
       "      <th>url</th>\n",
       "      <th>tld</th>\n",
       "      <th>length</th>\n",
       "      <th>offset</th>\n",
       "      <th>warc</th>\n",
       "      <th>language</th>\n",
       "      <th>wet</th>\n",
       "    </tr>\n",
       "  </thead>\n",
       "  <tbody>\n",
       "    <tr>\n",
       "      <th>0</th>\n",
       "      <td>20191121011733</td>\n",
       "      <td>http://13.126.102.0:8081/</td>\n",
       "      <td></td>\n",
       "      <td>3914</td>\n",
       "      <td>939069</td>\n",
       "      <td>crawl-data/CC-MAIN-2019-47/segments/1573496670...</td>\n",
       "      <td>eng</td>\n",
       "      <td>https://commoncrawl.s3.amazonaws.com/crawl-dat...</td>\n",
       "    </tr>\n",
       "    <tr>\n",
       "      <th>1</th>\n",
       "      <td>20191119195841</td>\n",
       "      <td>http://18.222.110.0/bruxism/</td>\n",
       "      <td></td>\n",
       "      <td>30118</td>\n",
       "      <td>1127143</td>\n",
       "      <td>crawl-data/CC-MAIN-2019-47/segments/1573496670...</td>\n",
       "      <td>eng</td>\n",
       "      <td>https://commoncrawl.s3.amazonaws.com/crawl-dat...</td>\n",
       "    </tr>\n",
       "    <tr>\n",
       "      <th>2</th>\n",
       "      <td>20191119211958</td>\n",
       "      <td>http://18.222.110.0/children/</td>\n",
       "      <td></td>\n",
       "      <td>28678</td>\n",
       "      <td>1353987</td>\n",
       "      <td>crawl-data/CC-MAIN-2019-47/segments/1573496670...</td>\n",
       "      <td>eng</td>\n",
       "      <td>https://commoncrawl.s3.amazonaws.com/crawl-dat...</td>\n",
       "    </tr>\n",
       "    <tr>\n",
       "      <th>3</th>\n",
       "      <td>20191119195846</td>\n",
       "      <td>http://18.222.110.0/facial-aesthetics/</td>\n",
       "      <td></td>\n",
       "      <td>29722</td>\n",
       "      <td>1025626</td>\n",
       "      <td>crawl-data/CC-MAIN-2019-47/segments/1573496670...</td>\n",
       "      <td>eng</td>\n",
       "      <td>https://commoncrawl.s3.amazonaws.com/crawl-dat...</td>\n",
       "    </tr>\n",
       "    <tr>\n",
       "      <th>4</th>\n",
       "      <td>20191119202823</td>\n",
       "      <td>http://18.222.110.0/general-dentistry/</td>\n",
       "      <td></td>\n",
       "      <td>32010</td>\n",
       "      <td>1108906</td>\n",
       "      <td>crawl-data/CC-MAIN-2019-47/segments/1573496670...</td>\n",
       "      <td>eng</td>\n",
       "      <td>https://commoncrawl.s3.amazonaws.com/crawl-dat...</td>\n",
       "    </tr>\n",
       "  </tbody>\n",
       "</table>\n",
       "</div>"
      ],
      "text/plain": [
       "               ts                                     url tld length   offset  \\\n",
       "0  20191121011733               http://13.126.102.0:8081/       3914   939069   \n",
       "1  20191119195841            http://18.222.110.0/bruxism/      30118  1127143   \n",
       "2  20191119211958           http://18.222.110.0/children/      28678  1353987   \n",
       "3  20191119195846  http://18.222.110.0/facial-aesthetics/      29722  1025626   \n",
       "4  20191119202823  http://18.222.110.0/general-dentistry/      32010  1108906   \n",
       "\n",
       "                                                warc language  \\\n",
       "0  crawl-data/CC-MAIN-2019-47/segments/1573496670...      eng   \n",
       "1  crawl-data/CC-MAIN-2019-47/segments/1573496670...      eng   \n",
       "2  crawl-data/CC-MAIN-2019-47/segments/1573496670...      eng   \n",
       "3  crawl-data/CC-MAIN-2019-47/segments/1573496670...      eng   \n",
       "4  crawl-data/CC-MAIN-2019-47/segments/1573496670...      eng   \n",
       "\n",
       "                                                 wet  \n",
       "0  https://commoncrawl.s3.amazonaws.com/crawl-dat...  \n",
       "1  https://commoncrawl.s3.amazonaws.com/crawl-dat...  \n",
       "2  https://commoncrawl.s3.amazonaws.com/crawl-dat...  \n",
       "3  https://commoncrawl.s3.amazonaws.com/crawl-dat...  \n",
       "4  https://commoncrawl.s3.amazonaws.com/crawl-dat...  "
      ]
     },
     "execution_count": 38,
     "metadata": {},
     "output_type": "execute_result"
    }
   ],
   "source": [
    "df.head()"
   ]
  },
  {
   "cell_type": "code",
   "execution_count": 39,
   "metadata": {
    "ExecuteTime": {
     "end_time": "2019-12-06T23:50:55.879537Z",
     "start_time": "2019-12-06T23:48:03.678441Z"
    }
   },
   "outputs": [],
   "source": [
    "df_name = file_name.replace('.gz','.feather')\n",
    "df = df.dropna().drop_duplicates().reset_index(drop=True)\n",
    "df.to_feather(df_name)"
   ]
  },
  {
   "cell_type": "markdown",
   "metadata": {},
   "source": [
    "Try searching from s3://commoncrawl/cc-index/table/cc-main/warc/ instead\n",
    "\n",
    "Schema here: https://commoncrawl.s3.amazonaws.com/cc-index/table/cc-main/index.html\n",
    "\n",
    "Want URL from there, not the one here with numbers"
   ]
  },
  {
   "cell_type": "code",
   "execution_count": 40,
   "metadata": {
    "ExecuteTime": {
     "end_time": "2019-12-06T23:51:48.188632Z",
     "start_time": "2019-12-06T23:51:48.146609Z"
    }
   },
   "outputs": [
    {
     "data": {
      "text/plain": [
       "(8113086, 8)"
      ]
     },
     "execution_count": 40,
     "metadata": {},
     "output_type": "execute_result"
    }
   ],
   "source": [
    "df.shape"
   ]
  },
  {
   "cell_type": "code",
   "execution_count": 42,
   "metadata": {
    "ExecuteTime": {
     "end_time": "2019-12-06T23:55:30.842331Z",
     "start_time": "2019-12-06T23:55:30.836329Z"
    }
   },
   "outputs": [],
   "source": [
    "import re"
   ]
  },
  {
   "cell_type": "code",
   "execution_count": 48,
   "metadata": {
    "ExecuteTime": {
     "end_time": "2019-12-06T23:56:41.565215Z",
     "start_time": "2019-12-06T23:56:41.558207Z"
    }
   },
   "outputs": [
    {
     "data": {
      "text/plain": [
       "True"
      ]
     },
     "execution_count": 48,
     "metadata": {},
     "output_type": "execute_result"
    }
   ],
   "source": [
    "d = 'http://18.222.110.0/general-dentistry/'\n",
    "re.search(r'\\d', d) is not None"
   ]
  },
  {
   "cell_type": "code",
   "execution_count": 49,
   "metadata": {
    "ExecuteTime": {
     "end_time": "2019-12-06T23:57:01.858151Z",
     "start_time": "2019-12-06T23:57:01.831155Z"
    }
   },
   "outputs": [],
   "source": [
    "mini_df = df[:10]"
   ]
  },
  {
   "cell_type": "code",
   "execution_count": 50,
   "metadata": {
    "ExecuteTime": {
     "end_time": "2019-12-06T23:57:06.112649Z",
     "start_time": "2019-12-06T23:57:06.055099Z"
    }
   },
   "outputs": [
    {
     "data": {
      "text/html": [
       "<div>\n",
       "<style scoped>\n",
       "    .dataframe tbody tr th:only-of-type {\n",
       "        vertical-align: middle;\n",
       "    }\n",
       "\n",
       "    .dataframe tbody tr th {\n",
       "        vertical-align: top;\n",
       "    }\n",
       "\n",
       "    .dataframe thead th {\n",
       "        text-align: right;\n",
       "    }\n",
       "</style>\n",
       "<table border=\"1\" class=\"dataframe\">\n",
       "  <thead>\n",
       "    <tr style=\"text-align: right;\">\n",
       "      <th></th>\n",
       "      <th>ts</th>\n",
       "      <th>url</th>\n",
       "      <th>tld</th>\n",
       "      <th>length</th>\n",
       "      <th>offset</th>\n",
       "      <th>warc</th>\n",
       "      <th>language</th>\n",
       "      <th>wet</th>\n",
       "    </tr>\n",
       "  </thead>\n",
       "  <tbody>\n",
       "    <tr>\n",
       "      <th>0</th>\n",
       "      <td>20191121011733</td>\n",
       "      <td>http://13.126.102.0:8081/</td>\n",
       "      <td></td>\n",
       "      <td>3914</td>\n",
       "      <td>939069</td>\n",
       "      <td>crawl-data/CC-MAIN-2019-47/segments/1573496670...</td>\n",
       "      <td>eng</td>\n",
       "      <td>https://commoncrawl.s3.amazonaws.com/crawl-dat...</td>\n",
       "    </tr>\n",
       "    <tr>\n",
       "      <th>1</th>\n",
       "      <td>20191119195841</td>\n",
       "      <td>http://18.222.110.0/bruxism/</td>\n",
       "      <td></td>\n",
       "      <td>30118</td>\n",
       "      <td>1127143</td>\n",
       "      <td>crawl-data/CC-MAIN-2019-47/segments/1573496670...</td>\n",
       "      <td>eng</td>\n",
       "      <td>https://commoncrawl.s3.amazonaws.com/crawl-dat...</td>\n",
       "    </tr>\n",
       "    <tr>\n",
       "      <th>2</th>\n",
       "      <td>20191119211958</td>\n",
       "      <td>http://18.222.110.0/children/</td>\n",
       "      <td></td>\n",
       "      <td>28678</td>\n",
       "      <td>1353987</td>\n",
       "      <td>crawl-data/CC-MAIN-2019-47/segments/1573496670...</td>\n",
       "      <td>eng</td>\n",
       "      <td>https://commoncrawl.s3.amazonaws.com/crawl-dat...</td>\n",
       "    </tr>\n",
       "    <tr>\n",
       "      <th>3</th>\n",
       "      <td>20191119195846</td>\n",
       "      <td>http://18.222.110.0/facial-aesthetics/</td>\n",
       "      <td></td>\n",
       "      <td>29722</td>\n",
       "      <td>1025626</td>\n",
       "      <td>crawl-data/CC-MAIN-2019-47/segments/1573496670...</td>\n",
       "      <td>eng</td>\n",
       "      <td>https://commoncrawl.s3.amazonaws.com/crawl-dat...</td>\n",
       "    </tr>\n",
       "    <tr>\n",
       "      <th>4</th>\n",
       "      <td>20191119202823</td>\n",
       "      <td>http://18.222.110.0/general-dentistry/</td>\n",
       "      <td></td>\n",
       "      <td>32010</td>\n",
       "      <td>1108906</td>\n",
       "      <td>crawl-data/CC-MAIN-2019-47/segments/1573496670...</td>\n",
       "      <td>eng</td>\n",
       "      <td>https://commoncrawl.s3.amazonaws.com/crawl-dat...</td>\n",
       "    </tr>\n",
       "    <tr>\n",
       "      <th>5</th>\n",
       "      <td>20191119211031</td>\n",
       "      <td>http://18.222.110.0/orthodontics/</td>\n",
       "      <td></td>\n",
       "      <td>31933</td>\n",
       "      <td>1382548</td>\n",
       "      <td>crawl-data/CC-MAIN-2019-47/segments/1573496670...</td>\n",
       "      <td>eng</td>\n",
       "      <td>https://commoncrawl.s3.amazonaws.com/crawl-dat...</td>\n",
       "    </tr>\n",
       "    <tr>\n",
       "      <th>6</th>\n",
       "      <td>20191119195855</td>\n",
       "      <td>http://18.222.110.0/smile-makeovers/</td>\n",
       "      <td></td>\n",
       "      <td>29301</td>\n",
       "      <td>1805231</td>\n",
       "      <td>crawl-data/CC-MAIN-2019-47/segments/1573496670...</td>\n",
       "      <td>eng</td>\n",
       "      <td>https://commoncrawl.s3.amazonaws.com/crawl-dat...</td>\n",
       "    </tr>\n",
       "    <tr>\n",
       "      <th>7</th>\n",
       "      <td>20191121143531</td>\n",
       "      <td>http://39.106.117.0/2019/09/22/hello-world/</td>\n",
       "      <td></td>\n",
       "      <td>20320</td>\n",
       "      <td>2568454</td>\n",
       "      <td>crawl-data/CC-MAIN-2019-47/segments/1573496670...</td>\n",
       "      <td>zho,eng</td>\n",
       "      <td>https://commoncrawl.s3.amazonaws.com/crawl-dat...</td>\n",
       "    </tr>\n",
       "    <tr>\n",
       "      <th>8</th>\n",
       "      <td>20191121143530</td>\n",
       "      <td>http://39.106.117.0/robots.txt</td>\n",
       "      <td></td>\n",
       "      <td>623</td>\n",
       "      <td>22456</td>\n",
       "      <td>crawl-data/CC-MAIN-2019-47/segments/1573496670...</td>\n",
       "      <td>none</td>\n",
       "      <td>https://commoncrawl.s3.amazonaws.com/crawl-dat...</td>\n",
       "    </tr>\n",
       "    <tr>\n",
       "      <th>9</th>\n",
       "      <td>20191111224255</td>\n",
       "      <td>http://45.163.117.0:5661/sipweb/trabalhador/lo...</td>\n",
       "      <td></td>\n",
       "      <td>2933</td>\n",
       "      <td>2471191</td>\n",
       "      <td>crawl-data/CC-MAIN-2019-47/segments/1573496664...</td>\n",
       "      <td>por</td>\n",
       "      <td>https://commoncrawl.s3.amazonaws.com/crawl-dat...</td>\n",
       "    </tr>\n",
       "  </tbody>\n",
       "</table>\n",
       "</div>"
      ],
      "text/plain": [
       "               ts                                                url tld  \\\n",
       "0  20191121011733                          http://13.126.102.0:8081/       \n",
       "1  20191119195841                       http://18.222.110.0/bruxism/       \n",
       "2  20191119211958                      http://18.222.110.0/children/       \n",
       "3  20191119195846             http://18.222.110.0/facial-aesthetics/       \n",
       "4  20191119202823             http://18.222.110.0/general-dentistry/       \n",
       "5  20191119211031                  http://18.222.110.0/orthodontics/       \n",
       "6  20191119195855               http://18.222.110.0/smile-makeovers/       \n",
       "7  20191121143531        http://39.106.117.0/2019/09/22/hello-world/       \n",
       "8  20191121143530                     http://39.106.117.0/robots.txt       \n",
       "9  20191111224255  http://45.163.117.0:5661/sipweb/trabalhador/lo...       \n",
       "\n",
       "  length   offset                                               warc language  \\\n",
       "0   3914   939069  crawl-data/CC-MAIN-2019-47/segments/1573496670...      eng   \n",
       "1  30118  1127143  crawl-data/CC-MAIN-2019-47/segments/1573496670...      eng   \n",
       "2  28678  1353987  crawl-data/CC-MAIN-2019-47/segments/1573496670...      eng   \n",
       "3  29722  1025626  crawl-data/CC-MAIN-2019-47/segments/1573496670...      eng   \n",
       "4  32010  1108906  crawl-data/CC-MAIN-2019-47/segments/1573496670...      eng   \n",
       "5  31933  1382548  crawl-data/CC-MAIN-2019-47/segments/1573496670...      eng   \n",
       "6  29301  1805231  crawl-data/CC-MAIN-2019-47/segments/1573496670...      eng   \n",
       "7  20320  2568454  crawl-data/CC-MAIN-2019-47/segments/1573496670...  zho,eng   \n",
       "8    623    22456  crawl-data/CC-MAIN-2019-47/segments/1573496670...     none   \n",
       "9   2933  2471191  crawl-data/CC-MAIN-2019-47/segments/1573496664...      por   \n",
       "\n",
       "                                                 wet  \n",
       "0  https://commoncrawl.s3.amazonaws.com/crawl-dat...  \n",
       "1  https://commoncrawl.s3.amazonaws.com/crawl-dat...  \n",
       "2  https://commoncrawl.s3.amazonaws.com/crawl-dat...  \n",
       "3  https://commoncrawl.s3.amazonaws.com/crawl-dat...  \n",
       "4  https://commoncrawl.s3.amazonaws.com/crawl-dat...  \n",
       "5  https://commoncrawl.s3.amazonaws.com/crawl-dat...  \n",
       "6  https://commoncrawl.s3.amazonaws.com/crawl-dat...  \n",
       "7  https://commoncrawl.s3.amazonaws.com/crawl-dat...  \n",
       "8  https://commoncrawl.s3.amazonaws.com/crawl-dat...  \n",
       "9  https://commoncrawl.s3.amazonaws.com/crawl-dat...  "
      ]
     },
     "execution_count": 50,
     "metadata": {},
     "output_type": "execute_result"
    }
   ],
   "source": [
    "mini_df"
   ]
  },
  {
   "cell_type": "code",
   "execution_count": 52,
   "metadata": {
    "ExecuteTime": {
     "end_time": "2019-12-06T23:57:39.115906Z",
     "start_time": "2019-12-06T23:57:39.111927Z"
    }
   },
   "outputs": [],
   "source": [
    "import numpy as np"
   ]
  },
  {
   "cell_type": "code",
   "execution_count": 54,
   "metadata": {
    "ExecuteTime": {
     "end_time": "2019-12-07T00:00:49.540672Z",
     "start_time": "2019-12-06T23:57:46.616133Z"
    }
   },
   "outputs": [
    {
     "name": "stderr",
     "output_type": "stream",
     "text": [
      "C:\\Users\\AC53654\\Anaconda\\lib\\site-packages\\ipykernel_launcher.py:1: SettingWithCopyWarning: \n",
      "A value is trying to be set on a copy of a slice from a DataFrame.\n",
      "Try using .loc[row_indexer,col_indexer] = value instead\n",
      "\n",
      "See the caveats in the documentation: http://pandas.pydata.org/pandas-docs/stable/indexing.html#indexing-view-versus-copy\n",
      "  \"\"\"Entry point for launching an IPython kernel.\n"
     ]
    }
   ],
   "source": [
    "mini_df['url_has_numbers'] = np.where(mini_df['url'].str.contains(r'\\d'), 1, 0)"
   ]
  },
  {
   "cell_type": "code",
   "execution_count": 55,
   "metadata": {
    "ExecuteTime": {
     "end_time": "2019-12-07T00:00:50.024662Z",
     "start_time": "2019-12-07T00:00:49.562669Z"
    }
   },
   "outputs": [
    {
     "data": {
      "text/html": [
       "<div>\n",
       "<style scoped>\n",
       "    .dataframe tbody tr th:only-of-type {\n",
       "        vertical-align: middle;\n",
       "    }\n",
       "\n",
       "    .dataframe tbody tr th {\n",
       "        vertical-align: top;\n",
       "    }\n",
       "\n",
       "    .dataframe thead th {\n",
       "        text-align: right;\n",
       "    }\n",
       "</style>\n",
       "<table border=\"1\" class=\"dataframe\">\n",
       "  <thead>\n",
       "    <tr style=\"text-align: right;\">\n",
       "      <th></th>\n",
       "      <th>ts</th>\n",
       "      <th>url</th>\n",
       "      <th>tld</th>\n",
       "      <th>length</th>\n",
       "      <th>offset</th>\n",
       "      <th>warc</th>\n",
       "      <th>language</th>\n",
       "      <th>wet</th>\n",
       "      <th>url_has_numbers</th>\n",
       "    </tr>\n",
       "  </thead>\n",
       "  <tbody>\n",
       "    <tr>\n",
       "      <th>0</th>\n",
       "      <td>20191121011733</td>\n",
       "      <td>http://13.126.102.0:8081/</td>\n",
       "      <td></td>\n",
       "      <td>3914</td>\n",
       "      <td>939069</td>\n",
       "      <td>crawl-data/CC-MAIN-2019-47/segments/1573496670...</td>\n",
       "      <td>eng</td>\n",
       "      <td>https://commoncrawl.s3.amazonaws.com/crawl-dat...</td>\n",
       "      <td>1</td>\n",
       "    </tr>\n",
       "    <tr>\n",
       "      <th>1</th>\n",
       "      <td>20191119195841</td>\n",
       "      <td>http://18.222.110.0/bruxism/</td>\n",
       "      <td></td>\n",
       "      <td>30118</td>\n",
       "      <td>1127143</td>\n",
       "      <td>crawl-data/CC-MAIN-2019-47/segments/1573496670...</td>\n",
       "      <td>eng</td>\n",
       "      <td>https://commoncrawl.s3.amazonaws.com/crawl-dat...</td>\n",
       "      <td>1</td>\n",
       "    </tr>\n",
       "    <tr>\n",
       "      <th>2</th>\n",
       "      <td>20191119211958</td>\n",
       "      <td>http://18.222.110.0/children/</td>\n",
       "      <td></td>\n",
       "      <td>28678</td>\n",
       "      <td>1353987</td>\n",
       "      <td>crawl-data/CC-MAIN-2019-47/segments/1573496670...</td>\n",
       "      <td>eng</td>\n",
       "      <td>https://commoncrawl.s3.amazonaws.com/crawl-dat...</td>\n",
       "      <td>1</td>\n",
       "    </tr>\n",
       "    <tr>\n",
       "      <th>3</th>\n",
       "      <td>20191119195846</td>\n",
       "      <td>http://18.222.110.0/facial-aesthetics/</td>\n",
       "      <td></td>\n",
       "      <td>29722</td>\n",
       "      <td>1025626</td>\n",
       "      <td>crawl-data/CC-MAIN-2019-47/segments/1573496670...</td>\n",
       "      <td>eng</td>\n",
       "      <td>https://commoncrawl.s3.amazonaws.com/crawl-dat...</td>\n",
       "      <td>1</td>\n",
       "    </tr>\n",
       "    <tr>\n",
       "      <th>4</th>\n",
       "      <td>20191119202823</td>\n",
       "      <td>http://18.222.110.0/general-dentistry/</td>\n",
       "      <td></td>\n",
       "      <td>32010</td>\n",
       "      <td>1108906</td>\n",
       "      <td>crawl-data/CC-MAIN-2019-47/segments/1573496670...</td>\n",
       "      <td>eng</td>\n",
       "      <td>https://commoncrawl.s3.amazonaws.com/crawl-dat...</td>\n",
       "      <td>1</td>\n",
       "    </tr>\n",
       "    <tr>\n",
       "      <th>5</th>\n",
       "      <td>20191119211031</td>\n",
       "      <td>http://18.222.110.0/orthodontics/</td>\n",
       "      <td></td>\n",
       "      <td>31933</td>\n",
       "      <td>1382548</td>\n",
       "      <td>crawl-data/CC-MAIN-2019-47/segments/1573496670...</td>\n",
       "      <td>eng</td>\n",
       "      <td>https://commoncrawl.s3.amazonaws.com/crawl-dat...</td>\n",
       "      <td>1</td>\n",
       "    </tr>\n",
       "    <tr>\n",
       "      <th>6</th>\n",
       "      <td>20191119195855</td>\n",
       "      <td>http://18.222.110.0/smile-makeovers/</td>\n",
       "      <td></td>\n",
       "      <td>29301</td>\n",
       "      <td>1805231</td>\n",
       "      <td>crawl-data/CC-MAIN-2019-47/segments/1573496670...</td>\n",
       "      <td>eng</td>\n",
       "      <td>https://commoncrawl.s3.amazonaws.com/crawl-dat...</td>\n",
       "      <td>1</td>\n",
       "    </tr>\n",
       "    <tr>\n",
       "      <th>7</th>\n",
       "      <td>20191121143531</td>\n",
       "      <td>http://39.106.117.0/2019/09/22/hello-world/</td>\n",
       "      <td></td>\n",
       "      <td>20320</td>\n",
       "      <td>2568454</td>\n",
       "      <td>crawl-data/CC-MAIN-2019-47/segments/1573496670...</td>\n",
       "      <td>zho,eng</td>\n",
       "      <td>https://commoncrawl.s3.amazonaws.com/crawl-dat...</td>\n",
       "      <td>1</td>\n",
       "    </tr>\n",
       "    <tr>\n",
       "      <th>8</th>\n",
       "      <td>20191121143530</td>\n",
       "      <td>http://39.106.117.0/robots.txt</td>\n",
       "      <td></td>\n",
       "      <td>623</td>\n",
       "      <td>22456</td>\n",
       "      <td>crawl-data/CC-MAIN-2019-47/segments/1573496670...</td>\n",
       "      <td>none</td>\n",
       "      <td>https://commoncrawl.s3.amazonaws.com/crawl-dat...</td>\n",
       "      <td>1</td>\n",
       "    </tr>\n",
       "    <tr>\n",
       "      <th>9</th>\n",
       "      <td>20191111224255</td>\n",
       "      <td>http://45.163.117.0:5661/sipweb/trabalhador/lo...</td>\n",
       "      <td></td>\n",
       "      <td>2933</td>\n",
       "      <td>2471191</td>\n",
       "      <td>crawl-data/CC-MAIN-2019-47/segments/1573496664...</td>\n",
       "      <td>por</td>\n",
       "      <td>https://commoncrawl.s3.amazonaws.com/crawl-dat...</td>\n",
       "      <td>1</td>\n",
       "    </tr>\n",
       "  </tbody>\n",
       "</table>\n",
       "</div>"
      ],
      "text/plain": [
       "               ts                                                url tld  \\\n",
       "0  20191121011733                          http://13.126.102.0:8081/       \n",
       "1  20191119195841                       http://18.222.110.0/bruxism/       \n",
       "2  20191119211958                      http://18.222.110.0/children/       \n",
       "3  20191119195846             http://18.222.110.0/facial-aesthetics/       \n",
       "4  20191119202823             http://18.222.110.0/general-dentistry/       \n",
       "5  20191119211031                  http://18.222.110.0/orthodontics/       \n",
       "6  20191119195855               http://18.222.110.0/smile-makeovers/       \n",
       "7  20191121143531        http://39.106.117.0/2019/09/22/hello-world/       \n",
       "8  20191121143530                     http://39.106.117.0/robots.txt       \n",
       "9  20191111224255  http://45.163.117.0:5661/sipweb/trabalhador/lo...       \n",
       "\n",
       "  length   offset                                               warc language  \\\n",
       "0   3914   939069  crawl-data/CC-MAIN-2019-47/segments/1573496670...      eng   \n",
       "1  30118  1127143  crawl-data/CC-MAIN-2019-47/segments/1573496670...      eng   \n",
       "2  28678  1353987  crawl-data/CC-MAIN-2019-47/segments/1573496670...      eng   \n",
       "3  29722  1025626  crawl-data/CC-MAIN-2019-47/segments/1573496670...      eng   \n",
       "4  32010  1108906  crawl-data/CC-MAIN-2019-47/segments/1573496670...      eng   \n",
       "5  31933  1382548  crawl-data/CC-MAIN-2019-47/segments/1573496670...      eng   \n",
       "6  29301  1805231  crawl-data/CC-MAIN-2019-47/segments/1573496670...      eng   \n",
       "7  20320  2568454  crawl-data/CC-MAIN-2019-47/segments/1573496670...  zho,eng   \n",
       "8    623    22456  crawl-data/CC-MAIN-2019-47/segments/1573496670...     none   \n",
       "9   2933  2471191  crawl-data/CC-MAIN-2019-47/segments/1573496664...      por   \n",
       "\n",
       "                                                 wet  url_has_numbers  \n",
       "0  https://commoncrawl.s3.amazonaws.com/crawl-dat...                1  \n",
       "1  https://commoncrawl.s3.amazonaws.com/crawl-dat...                1  \n",
       "2  https://commoncrawl.s3.amazonaws.com/crawl-dat...                1  \n",
       "3  https://commoncrawl.s3.amazonaws.com/crawl-dat...                1  \n",
       "4  https://commoncrawl.s3.amazonaws.com/crawl-dat...                1  \n",
       "5  https://commoncrawl.s3.amazonaws.com/crawl-dat...                1  \n",
       "6  https://commoncrawl.s3.amazonaws.com/crawl-dat...                1  \n",
       "7  https://commoncrawl.s3.amazonaws.com/crawl-dat...                1  \n",
       "8  https://commoncrawl.s3.amazonaws.com/crawl-dat...                1  \n",
       "9  https://commoncrawl.s3.amazonaws.com/crawl-dat...                1  "
      ]
     },
     "execution_count": 55,
     "metadata": {},
     "output_type": "execute_result"
    }
   ],
   "source": [
    "mini_df"
   ]
  },
  {
   "cell_type": "code",
   "execution_count": 56,
   "metadata": {
    "ExecuteTime": {
     "end_time": "2019-12-07T00:02:24.670955Z",
     "start_time": "2019-12-07T00:02:12.226320Z"
    }
   },
   "outputs": [],
   "source": [
    "df['url_has_numbers'] = np.where(df['url'].str.contains(r'\\d'), 1, 0)"
   ]
  },
  {
   "cell_type": "code",
   "execution_count": 57,
   "metadata": {
    "ExecuteTime": {
     "end_time": "2019-12-07T00:02:41.063354Z",
     "start_time": "2019-12-07T00:02:40.319453Z"
    }
   },
   "outputs": [
    {
     "data": {
      "text/html": [
       "<div>\n",
       "<style scoped>\n",
       "    .dataframe tbody tr th:only-of-type {\n",
       "        vertical-align: middle;\n",
       "    }\n",
       "\n",
       "    .dataframe tbody tr th {\n",
       "        vertical-align: top;\n",
       "    }\n",
       "\n",
       "    .dataframe thead th {\n",
       "        text-align: right;\n",
       "    }\n",
       "</style>\n",
       "<table border=\"1\" class=\"dataframe\">\n",
       "  <thead>\n",
       "    <tr style=\"text-align: right;\">\n",
       "      <th></th>\n",
       "      <th>ts</th>\n",
       "      <th>url</th>\n",
       "      <th>tld</th>\n",
       "      <th>length</th>\n",
       "      <th>offset</th>\n",
       "      <th>warc</th>\n",
       "      <th>language</th>\n",
       "      <th>wet</th>\n",
       "      <th>url_has_numbers</th>\n",
       "    </tr>\n",
       "  </thead>\n",
       "  <tbody>\n",
       "    <tr>\n",
       "      <th>1665204</th>\n",
       "      <td>20191117011531</td>\n",
       "      <td>https://cws.agency/robots.txt</td>\n",
       "      <td>agency</td>\n",
       "      <td>888</td>\n",
       "      <td>2422723</td>\n",
       "      <td>crawl-data/CC-MAIN-2019-47/segments/1573496668...</td>\n",
       "      <td>none</td>\n",
       "      <td>https://commoncrawl.s3.amazonaws.com/crawl-dat...</td>\n",
       "      <td>0</td>\n",
       "    </tr>\n",
       "    <tr>\n",
       "      <th>449162</th>\n",
       "      <td>20191119124630</td>\n",
       "      <td>https://www.superu.ad/artiach-galeta-sense-suc...</td>\n",
       "      <td>ad</td>\n",
       "      <td>47081</td>\n",
       "      <td>1003821030</td>\n",
       "      <td>crawl-data/CC-MAIN-2019-47/segments/1573496670...</td>\n",
       "      <td>cat</td>\n",
       "      <td>https://commoncrawl.s3.amazonaws.com/crawl-dat...</td>\n",
       "      <td>1</td>\n",
       "    </tr>\n",
       "    <tr>\n",
       "      <th>8044329</th>\n",
       "      <td>20191120021437</td>\n",
       "      <td>https://catalogo.biblio.unc.edu.ar/Search/Resu...</td>\n",
       "      <td>edu.ar</td>\n",
       "      <td>7375</td>\n",
       "      <td>343077730</td>\n",
       "      <td>crawl-data/CC-MAIN-2019-47/segments/1573496670...</td>\n",
       "      <td>eng,spa</td>\n",
       "      <td>https://commoncrawl.s3.amazonaws.com/crawl-dat...</td>\n",
       "      <td>1</td>\n",
       "    </tr>\n",
       "    <tr>\n",
       "      <th>2659709</th>\n",
       "      <td>20191122191105</td>\n",
       "      <td>https://xelta.do.am/index/europai_unio_tanacsa...</td>\n",
       "      <td>am</td>\n",
       "      <td>13002</td>\n",
       "      <td>1067358257</td>\n",
       "      <td>crawl-data/CC-MAIN-2019-47/segments/1573496671...</td>\n",
       "      <td>hun</td>\n",
       "      <td>https://commoncrawl.s3.amazonaws.com/crawl-dat...</td>\n",
       "      <td>1</td>\n",
       "    </tr>\n",
       "    <tr>\n",
       "      <th>745156</th>\n",
       "      <td>20191114122217</td>\n",
       "      <td>https://easyshopping.ae/4-pcs-hair-brush-black...</td>\n",
       "      <td>ae</td>\n",
       "      <td>15707</td>\n",
       "      <td>386762379</td>\n",
       "      <td>crawl-data/CC-MAIN-2019-47/segments/1573496668...</td>\n",
       "      <td>eng</td>\n",
       "      <td>https://commoncrawl.s3.amazonaws.com/crawl-dat...</td>\n",
       "      <td>1</td>\n",
       "    </tr>\n",
       "    <tr>\n",
       "      <th>4138891</th>\n",
       "      <td>20191112181007</td>\n",
       "      <td>https://www.bumeran.com.ar/empleos/jr-para-aud...</td>\n",
       "      <td>com.ar</td>\n",
       "      <td>22152</td>\n",
       "      <td>757494735</td>\n",
       "      <td>crawl-data/CC-MAIN-2019-47/segments/1573496665...</td>\n",
       "      <td>spa</td>\n",
       "      <td>https://commoncrawl.s3.amazonaws.com/crawl-dat...</td>\n",
       "      <td>1</td>\n",
       "    </tr>\n",
       "    <tr>\n",
       "      <th>4174606</th>\n",
       "      <td>20191115054759</td>\n",
       "      <td>https://www.cachitadeco.com.ar/productos/50-of...</td>\n",
       "      <td>com.ar</td>\n",
       "      <td>13664</td>\n",
       "      <td>713241060</td>\n",
       "      <td>crawl-data/CC-MAIN-2019-47/segments/1573496668...</td>\n",
       "      <td>spa</td>\n",
       "      <td>https://commoncrawl.s3.amazonaws.com/crawl-dat...</td>\n",
       "      <td>1</td>\n",
       "    </tr>\n",
       "    <tr>\n",
       "      <th>6251484</th>\n",
       "      <td>20191117111510</td>\n",
       "      <td>https://iluminacionda.mercadoshops.com.ar/sist...</td>\n",
       "      <td>com.ar</td>\n",
       "      <td>14074</td>\n",
       "      <td>483936286</td>\n",
       "      <td>crawl-data/CC-MAIN-2019-47/segments/1573496668...</td>\n",
       "      <td>spa</td>\n",
       "      <td>https://commoncrawl.s3.amazonaws.com/crawl-dat...</td>\n",
       "      <td>1</td>\n",
       "    </tr>\n",
       "    <tr>\n",
       "      <th>349682</th>\n",
       "      <td>20191115051119</td>\n",
       "      <td>https://omgv.academy/heroku/</td>\n",
       "      <td>academy</td>\n",
       "      <td>18853</td>\n",
       "      <td>558554563</td>\n",
       "      <td>crawl-data/CC-MAIN-2019-47/segments/1573496668...</td>\n",
       "      <td>deu</td>\n",
       "      <td>https://commoncrawl.s3.amazonaws.com/crawl-dat...</td>\n",
       "      <td>0</td>\n",
       "    </tr>\n",
       "    <tr>\n",
       "      <th>8105238</th>\n",
       "      <td>20191122235549</td>\n",
       "      <td>http://odo.biblio.unc.edu.ar/cgi-bin/koha/opac...</td>\n",
       "      <td>edu.ar</td>\n",
       "      <td>38786</td>\n",
       "      <td>124561181</td>\n",
       "      <td>crawl-data/CC-MAIN-2019-47/segments/1573496672...</td>\n",
       "      <td>eng,spa</td>\n",
       "      <td>https://commoncrawl.s3.amazonaws.com/crawl-dat...</td>\n",
       "      <td>1</td>\n",
       "    </tr>\n",
       "  </tbody>\n",
       "</table>\n",
       "</div>"
      ],
      "text/plain": [
       "                     ts                                                url  \\\n",
       "1665204  20191117011531                      https://cws.agency/robots.txt   \n",
       "449162   20191119124630  https://www.superu.ad/artiach-galeta-sense-suc...   \n",
       "8044329  20191120021437  https://catalogo.biblio.unc.edu.ar/Search/Resu...   \n",
       "2659709  20191122191105  https://xelta.do.am/index/europai_unio_tanacsa...   \n",
       "745156   20191114122217  https://easyshopping.ae/4-pcs-hair-brush-black...   \n",
       "4138891  20191112181007  https://www.bumeran.com.ar/empleos/jr-para-aud...   \n",
       "4174606  20191115054759  https://www.cachitadeco.com.ar/productos/50-of...   \n",
       "6251484  20191117111510  https://iluminacionda.mercadoshops.com.ar/sist...   \n",
       "349682   20191115051119                       https://omgv.academy/heroku/   \n",
       "8105238  20191122235549  http://odo.biblio.unc.edu.ar/cgi-bin/koha/opac...   \n",
       "\n",
       "             tld length      offset  \\\n",
       "1665204   agency    888     2422723   \n",
       "449162        ad  47081  1003821030   \n",
       "8044329   edu.ar   7375   343077730   \n",
       "2659709       am  13002  1067358257   \n",
       "745156        ae  15707   386762379   \n",
       "4138891   com.ar  22152   757494735   \n",
       "4174606   com.ar  13664   713241060   \n",
       "6251484   com.ar  14074   483936286   \n",
       "349682   academy  18853   558554563   \n",
       "8105238   edu.ar  38786   124561181   \n",
       "\n",
       "                                                      warc language  \\\n",
       "1665204  crawl-data/CC-MAIN-2019-47/segments/1573496668...     none   \n",
       "449162   crawl-data/CC-MAIN-2019-47/segments/1573496670...      cat   \n",
       "8044329  crawl-data/CC-MAIN-2019-47/segments/1573496670...  eng,spa   \n",
       "2659709  crawl-data/CC-MAIN-2019-47/segments/1573496671...      hun   \n",
       "745156   crawl-data/CC-MAIN-2019-47/segments/1573496668...      eng   \n",
       "4138891  crawl-data/CC-MAIN-2019-47/segments/1573496665...      spa   \n",
       "4174606  crawl-data/CC-MAIN-2019-47/segments/1573496668...      spa   \n",
       "6251484  crawl-data/CC-MAIN-2019-47/segments/1573496668...      spa   \n",
       "349682   crawl-data/CC-MAIN-2019-47/segments/1573496668...      deu   \n",
       "8105238  crawl-data/CC-MAIN-2019-47/segments/1573496672...  eng,spa   \n",
       "\n",
       "                                                       wet  url_has_numbers  \n",
       "1665204  https://commoncrawl.s3.amazonaws.com/crawl-dat...                0  \n",
       "449162   https://commoncrawl.s3.amazonaws.com/crawl-dat...                1  \n",
       "8044329  https://commoncrawl.s3.amazonaws.com/crawl-dat...                1  \n",
       "2659709  https://commoncrawl.s3.amazonaws.com/crawl-dat...                1  \n",
       "745156   https://commoncrawl.s3.amazonaws.com/crawl-dat...                1  \n",
       "4138891  https://commoncrawl.s3.amazonaws.com/crawl-dat...                1  \n",
       "4174606  https://commoncrawl.s3.amazonaws.com/crawl-dat...                1  \n",
       "6251484  https://commoncrawl.s3.amazonaws.com/crawl-dat...                1  \n",
       "349682   https://commoncrawl.s3.amazonaws.com/crawl-dat...                0  \n",
       "8105238  https://commoncrawl.s3.amazonaws.com/crawl-dat...                1  "
      ]
     },
     "execution_count": 57,
     "metadata": {},
     "output_type": "execute_result"
    }
   ],
   "source": [
    "df.sample(10)"
   ]
  },
  {
   "cell_type": "code",
   "execution_count": 58,
   "metadata": {
    "ExecuteTime": {
     "end_time": "2019-12-07T00:03:00.897177Z",
     "start_time": "2019-12-07T00:03:00.815119Z"
    }
   },
   "outputs": [
    {
     "data": {
      "text/plain": [
       "5422212"
      ]
     },
     "execution_count": 58,
     "metadata": {},
     "output_type": "execute_result"
    }
   ],
   "source": [
    "df['url_has_numbers'].sum()"
   ]
  },
  {
   "cell_type": "code",
   "execution_count": 59,
   "metadata": {
    "ExecuteTime": {
     "end_time": "2019-12-07T00:03:22.791675Z",
     "start_time": "2019-12-07T00:03:22.735683Z"
    }
   },
   "outputs": [
    {
     "data": {
      "text/plain": [
       "0.668329165991831"
      ]
     },
     "execution_count": 59,
     "metadata": {},
     "output_type": "execute_result"
    }
   ],
   "source": [
    "df['url_has_numbers'].sum() / len(df)"
   ]
  },
  {
   "cell_type": "code",
   "execution_count": 60,
   "metadata": {
    "ExecuteTime": {
     "end_time": "2019-12-07T00:08:12.703602Z",
     "start_time": "2019-12-07T00:08:12.607603Z"
    }
   },
   "outputs": [
    {
     "name": "stdout",
     "output_type": "stream",
     "text": [
      "<class 'pandas.core.frame.DataFrame'>\n",
      "RangeIndex: 8113086 entries, 0 to 8113085\n",
      "Data columns (total 9 columns):\n",
      "ts                 object\n",
      "url                object\n",
      "tld                object\n",
      "length             object\n",
      "offset             object\n",
      "warc               object\n",
      "language           object\n",
      "wet                object\n",
      "url_has_numbers    int32\n",
      "dtypes: int32(1), object(8)\n",
      "memory usage: 526.1+ MB\n"
     ]
    }
   ],
   "source": [
    "df.info()"
   ]
  },
  {
   "cell_type": "code",
   "execution_count": null,
   "metadata": {},
   "outputs": [],
   "source": []
  }
 ],
 "metadata": {
  "hide_input": false,
  "kernelspec": {
   "display_name": "Python 3",
   "language": "python",
   "name": "python3"
  },
  "language_info": {
   "codemirror_mode": {
    "name": "ipython",
    "version": 3
   },
   "file_extension": ".py",
   "mimetype": "text/x-python",
   "name": "python",
   "nbconvert_exporter": "python",
   "pygments_lexer": "ipython3",
   "version": "3.6.7"
  },
  "toc": {
   "base_numbering": 1,
   "nav_menu": {},
   "number_sections": true,
   "sideBar": true,
   "skip_h1_title": false,
   "title_cell": "Table of Contents",
   "title_sidebar": "Contents",
   "toc_cell": false,
   "toc_position": {},
   "toc_section_display": true,
   "toc_window_display": false
  }
 },
 "nbformat": 4,
 "nbformat_minor": 2
}
