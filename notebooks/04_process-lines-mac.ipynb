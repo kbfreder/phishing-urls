{
 "cells": [
  {
   "cell_type": "code",
   "execution_count": 1,
   "metadata": {
    "ExecuteTime": {
     "end_time": "2019-12-06T23:23:57.104198Z",
     "start_time": "2019-12-06T23:23:47.011455Z"
    }
   },
   "outputs": [],
   "source": [
    "import gc\n",
    "import gzip\n",
    "import time\n",
    "import json\n",
    "import shutil\n",
    "import os\n",
    "import sys\n",
    "import tldextract\n",
    "import collections\n",
    "import pandas as pd\n",
    "from tqdm import tqdm\n",
    "import urllib.request\n",
    "\n",
    "# had to add:\n",
    "from multiprocessing import Pool"
   ]
  },
  {
   "cell_type": "code",
   "execution_count": null,
   "metadata": {},
   "outputs": [],
   "source": [
    "import random"
   ]
  },
  {
   "cell_type": "code",
   "execution_count": 36,
   "metadata": {
    "ExecuteTime": {
     "end_time": "2019-12-06T23:24:40.645052Z",
     "start_time": "2019-12-06T23:24:40.641051Z"
    }
   },
   "outputs": [],
   "source": [
    "storage_folder = '../data/raw/'\n",
    "remote_file_prefix = 'https://commoncrawl.s3.amazonaws.com/'"
   ]
  },
  {
   "cell_type": "code",
   "execution_count": 10,
   "metadata": {
    "ExecuteTime": {
     "end_time": "2019-12-06T23:24:42.851001Z",
     "start_time": "2019-12-06T23:24:42.844997Z"
    }
   },
   "outputs": [],
   "source": [
    "index_file_name = 'cc-index.paths.gz'\n",
    "file_name = storage_folder + index_file_name\n",
    "file_unzipped = file_name.split('.gz')[0]"
   ]
  },
  {
   "cell_type": "code",
   "execution_count": 11,
   "metadata": {
    "ExecuteTime": {
     "end_time": "2019-12-06T23:25:07.925206Z",
     "start_time": "2019-12-06T23:25:07.917205Z"
    }
   },
   "outputs": [
    {
     "data": {
      "text/plain": [
       "'../data/raw/cc-index.paths'"
      ]
     },
     "execution_count": 11,
     "metadata": {},
     "output_type": "execute_result"
    }
   ],
   "source": [
    "file_unzipped"
   ]
  },
  {
   "cell_type": "code",
   "execution_count": 12,
   "metadata": {},
   "outputs": [
    {
     "data": {
      "text/plain": [
       "True"
      ]
     },
     "execution_count": 12,
     "metadata": {},
     "output_type": "execute_result"
    }
   ],
   "source": [
    "os.path.isfile(file_unzipped)"
   ]
  },
  {
   "cell_type": "code",
   "execution_count": 13,
   "metadata": {},
   "outputs": [],
   "source": [
    "if not os.path.isfile(file_unzipped):\n",
    "    with gzip.open(file_name, 'rb') as f_in:\n",
    "        with open(file_unzipped, 'wb') as f_out:\n",
    "            shutil.copyfileobj(f_in, f_out)"
   ]
  },
  {
   "cell_type": "code",
   "execution_count": 14,
   "metadata": {
    "ExecuteTime": {
     "end_time": "2019-12-06T23:25:33.909917Z",
     "start_time": "2019-12-06T23:25:33.899910Z"
    }
   },
   "outputs": [],
   "source": [
    "def read_every_line(fname,\n",
    "                    max_lines=-1):\n",
    "    lines = []\n",
    "    with open(fname, encoding='utf-8') as f:\n",
    "        for i, l in enumerate(f):\n",
    "            lines.append(l)\n",
    "            if i>max_lines and max_lines>0:\n",
    "                break\n",
    "    return lines"
   ]
  },
  {
   "cell_type": "code",
   "execution_count": 39,
   "metadata": {},
   "outputs": [
    {
     "name": "stdout",
     "output_type": "stream",
     "text": [
      "302 lines extracted\n"
     ]
    }
   ],
   "source": [
    "idx_lines = read_every_line(file_unzipped, 1e8)\n",
    "num_lines = len(idx_lines)\n",
    "print('{} lines extracted'.format(num_lines))\n",
    "idx_lines = [line.replace('\\n','') for line in idx_lines]"
   ]
  },
  {
   "cell_type": "code",
   "execution_count": 29,
   "metadata": {},
   "outputs": [
    {
     "data": {
      "text/plain": [
       "'cc-index/collections/CC-MAIN-2019-47/indexes/cdx-00071.gz'"
      ]
     },
     "execution_count": 29,
     "metadata": {},
     "output_type": "execute_result"
    }
   ],
   "source": [
    "cdx_lines[71]"
   ]
  },
  {
   "cell_type": "code",
   "execution_count": 46,
   "metadata": {
    "ExecuteTime": {
     "end_time": "2019-12-06T23:25:47.237670Z",
     "start_time": "2019-12-06T23:25:47.228666Z"
    }
   },
   "outputs": [],
   "source": [
    "i = random.choice(range(num_lines))\n",
    "idx_root = cdx_lines[i]\n",
    "idx_file = idx.split('/')[-1]\n",
    "# file_dict[os.path.join(storage_folder, cc_index_file)] = file_prefix + cc_index\n",
    "local_file_name = os.path.join(storage_folder, idx_file)\n",
    "url = remote_file_prefix + idx_root"
   ]
  },
  {
   "cell_type": "code",
   "execution_count": 47,
   "metadata": {},
   "outputs": [
    {
     "data": {
      "text/plain": [
       "'cc-index/collections/CC-MAIN-2019-47/indexes/cdx-00047.gz'"
      ]
     },
     "execution_count": 47,
     "metadata": {},
     "output_type": "execute_result"
    }
   ],
   "source": [
    "idx_root"
   ]
  },
  {
   "cell_type": "code",
   "execution_count": 45,
   "metadata": {},
   "outputs": [
    {
     "data": {
      "text/plain": [
       "'cdx-00144.gz'"
      ]
     },
     "execution_count": 45,
     "metadata": {},
     "output_type": "execute_result"
    }
   ],
   "source": [
    "idx_file"
   ]
  },
  {
   "cell_type": "code",
   "execution_count": 48,
   "metadata": {},
   "outputs": [
    {
     "data": {
      "text/plain": [
       "('../data/raw/cdx-00144.gz',\n",
       " 'https://commoncrawl.s3.amazonaws.com/cc-index/collections/CC-MAIN-2019-47/indexes/cdx-00047.gz')"
      ]
     },
     "execution_count": 48,
     "metadata": {},
     "output_type": "execute_result"
    }
   ],
   "source": [
    "# file_dict\n",
    "local_file_name, url"
   ]
  },
  {
   "cell_type": "code",
   "execution_count": 35,
   "metadata": {},
   "outputs": [
    {
     "data": {
      "text/plain": [
       "OrderedDict([('../data/raw/cdx-00097.gz',\n",
       "              'https://commoncrawl.s3.amazonaws.com/cc-index/collections/CC-MAIN-2019-47/indexes/cdx-00097.gz')])"
      ]
     },
     "execution_count": 35,
     "metadata": {},
     "output_type": "execute_result"
    }
   ],
   "source": [
    "file_dict"
   ]
  },
  {
   "cell_type": "code",
   "execution_count": 50,
   "metadata": {},
   "outputs": [],
   "source": [
    "def reporthook(count, block_size, total_size):\n",
    "    global start_time\n",
    "    if count == 0:\n",
    "        start_time = time.time()\n",
    "        return\n",
    "    duration = time.time() - start_time\n",
    "    progress_size = int(count * block_size)\n",
    "    speed = int(progress_size / (1024 * duration))\n",
    "    percent = int(count * block_size * 100 / total_size)\n",
    "    sys.stdout.write(\"\\r...%d%%, %d MB, %d KB/s, %d seconds passed\" %\n",
    "                    (percent, progress_size / (1024 * 1024), speed, duration))\n",
    "    sys.stdout.flush()\n",
    "\n",
    "def save(url, filename):\n",
    "    urllib.request.urlretrieve(url, filename, reporthook)"
   ]
  },
  {
   "cell_type": "code",
   "execution_count": 51,
   "metadata": {},
   "outputs": [
    {
     "name": "stdout",
     "output_type": "stream",
     "text": [
      "PROCESSING INDEX FILE ...\n",
      "Downloading index file ../data/raw/cdx-00144.gz ...\n",
      "...100%, 776 MB, 635 KB/s, 1252 seconds passed"
     ]
    }
   ],
   "source": [
    "# print('PROCESSING INDEX FILE [{}]/[{}] ...'.format(i,len(file_dict)))\n",
    "print('PROCESSING INDEX FILE ...')\n",
    "print('Downloading index file {} ...'.format(local_file_name))\n",
    "save(url, local_file_name)"
   ]
  },
  {
   "cell_type": "code",
   "execution_count": 52,
   "metadata": {},
   "outputs": [],
   "source": [
    "def process_index_file(file_name):\n",
    "    print('Unzipping index file ... ')\n",
    "\n",
    "    df_name = file_name.replace('.gz','.feather')\n",
    "    file_unzipped = file_name.split('.gz')[0]\n",
    "\n",
    "    if not os.path.isfile(file_unzipped):\n",
    "        with gzip.open(file_name, 'rb') as f_in:\n",
    "            with open(file_unzipped, 'wb') as f_out:\n",
    "                shutil.copyfileobj(f_in, f_out)\n",
    "\n",
    "    lines = read_every_line(file_unzipped, 1e8)\n",
    "    print('{} lines extracted'.format(len(lines)))\n",
    "\n",
    "    print('Pre-processing index lines ... ')\n",
    "    out = list_multiprocessing(lines, process_index_file_line, workers=4)\n",
    "#     out = []\n",
    "\n",
    "#     for line in lines:\n",
    "#         out.append(process_index_file_line(line))\n",
    "\n",
    "    # filter out blank lines\n",
    "    out =  [_ for _ in out if _ != ()]\n",
    "\n",
    "    print('Index pre-processed!')\n",
    "\n",
    "    print('Processing index dataframe ... ')\n",
    "\n",
    "    ts_list       = [_[0] for _ in out]\n",
    "    url_list      = [_[1] for _ in out]\n",
    "    tld           = [_[2] for _ in out]\n",
    "    # length_list   = [_[3] for _ in out]\n",
    "    # offset_list   = [_[4] for _ in out]\n",
    "    # warc_list     = [_[5] for _ in out]\n",
    "    # language_list = [_[6] for _ in out]\n",
    "\n",
    "    cols = ['ts','url']#,'tld','length','offset','warc','language']\n",
    "    df = pd.DataFrame(data={\n",
    "        'ts':ts_list,\n",
    "        'url':url_list,\n",
    "#         'tld':tld,\n",
    "#         'length':length_list,\n",
    "#         'offset':offset_list,\n",
    "#         'warc':warc_list,\n",
    "#         'language':language_list\n",
    "    }\n",
    "                      ,columns=cols)\n",
    "\n",
    "#     df['wet'] = df.warc.apply(lambda x: x.replace('/warc/','/wet/').replace('.warc.','.warc.wet.'))\n",
    "#     df['wet'] = df['wet'].apply(lambda x: file_prefix + x)\n",
    "\n",
    "\n",
    "#     os.remove(file_name)\n",
    "#     os.remove(file_unzipped)\n",
    "#     print('Files removed ... ')\n",
    "\n",
    "    df = df.dropna().drop_duplicates().reset_index(drop=True)\n",
    "    print('Index dataframe is ready!')\n",
    "\n",
    "    print('Saving Dataframe ... ')    \n",
    "    df.to_feather(df_name)\n",
    "    print('Dataframe saved ... ')"
   ]
  },
  {
   "cell_type": "code",
   "execution_count": 53,
   "metadata": {},
   "outputs": [],
   "source": [
    "def process_index_file_line(line):\n",
    "    assert type(line)==str\n",
    "\n",
    "    try:\n",
    "        lst = line.replace('\\n','').split()\n",
    "        ts = lst[1]\n",
    "        data = json.loads(line.replace('\\n','').split(ts)[-1].strip())\n",
    "    except:\n",
    "        return ()\n",
    "\n",
    "    if data['status'] != '200':\n",
    "        return ()\n",
    "    else:\n",
    "#         try:\n",
    "#             language = data['languages']\n",
    "#         except:\n",
    "#             language = 'none'\n",
    "\n",
    "        try:\n",
    "            _tldextract = tldextract.extract(data['url'])\n",
    "            tup = (ts,\n",
    "                   data['url'],\n",
    "                   _tldextract.suffix,\n",
    "                   # data['length'],\n",
    "                   # data['offset'],\n",
    "                   # data['filename'],\n",
    "#                    language\n",
    "                )\n",
    "            return tup\n",
    "        except:\n",
    "            return ()"
   ]
  },
  {
   "cell_type": "code",
   "execution_count": 57,
   "metadata": {},
   "outputs": [],
   "source": [
    "def list_multiprocessing(param_lst,\n",
    "                         func,\n",
    "                         **kwargs):\n",
    "\n",
    "    workers = kwargs.pop('workers')\n",
    "\n",
    "    with Pool(workers) as p:\n",
    "        apply_lst = [([params], func, i, kwargs) for i,params in enumerate(param_lst)]\n",
    "        result = list(tqdm(p.imap(_apply_lst, apply_lst), total=len(apply_lst)))\n",
    "\n",
    "    # lists do not need such sorting, but this can be useful later\n",
    "    result=sorted(result,key=lambda x:x[0])\n",
    "    return [_[1] for _ in result]\n",
    "\n",
    "\n",
    "def _apply_lst(args):\n",
    "    params, func, num, kwargs = args\n",
    "    return num, func(*params,**kwargs)"
   ]
  },
  {
   "cell_type": "code",
   "execution_count": 58,
   "metadata": {},
   "outputs": [
    {
     "name": "stdout",
     "output_type": "stream",
     "text": [
      "Starting at  1575747070.7111099\n",
      "Processing index file...\n",
      "Unzipping index file ... \n",
      "12032727 lines extracted\n",
      "Pre-processing index lines ... \n"
     ]
    },
    {
     "name": "stderr",
     "output_type": "stream",
     "text": [
      "100%|██████████| 12032727/12032727 [10:52<00:00, 18438.18it/s]\n"
     ]
    },
    {
     "name": "stdout",
     "output_type": "stream",
     "text": [
      "Index pre-processed!\n",
      "Processing index dataframe ... \n",
      "Index dataframe is ready!\n",
      "Saving Dataframe ... \n",
      "Dataframe saved ... \n",
      "Elapsed time 106 min\n"
     ]
    }
   ],
   "source": [
    "start_time = time.time()\n",
    "# print('Starting at ', start_time)\n",
    "print('Processing index file...')\n",
    "process_index_file(local_file_name)\n",
    "gc.collect()\n",
    "duration = int((time.time() - start_time) / 60)\n",
    "print('Elapsed time {} min'.format(duration))"
   ]
  },
  {
   "cell_type": "code",
   "execution_count": null,
   "metadata": {},
   "outputs": [],
   "source": []
  },
  {
   "cell_type": "code",
   "execution_count": null,
   "metadata": {},
   "outputs": [],
   "source": []
  },
  {
   "cell_type": "code",
   "execution_count": null,
   "metadata": {},
   "outputs": [],
   "source": []
  },
  {
   "cell_type": "code",
   "execution_count": null,
   "metadata": {},
   "outputs": [],
   "source": []
  },
  {
   "cell_type": "code",
   "execution_count": null,
   "metadata": {},
   "outputs": [],
   "source": []
  },
  {
   "cell_type": "code",
   "execution_count": 40,
   "metadata": {
    "ExecuteTime": {
     "end_time": "2019-12-06T23:51:48.188632Z",
     "start_time": "2019-12-06T23:51:48.146609Z"
    }
   },
   "outputs": [
    {
     "data": {
      "text/plain": [
       "(8113086, 8)"
      ]
     },
     "execution_count": 40,
     "metadata": {},
     "output_type": "execute_result"
    }
   ],
   "source": [
    "df.shape"
   ]
  },
  {
   "cell_type": "code",
   "execution_count": 42,
   "metadata": {
    "ExecuteTime": {
     "end_time": "2019-12-06T23:55:30.842331Z",
     "start_time": "2019-12-06T23:55:30.836329Z"
    }
   },
   "outputs": [],
   "source": [
    "import re"
   ]
  },
  {
   "cell_type": "code",
   "execution_count": 48,
   "metadata": {
    "ExecuteTime": {
     "end_time": "2019-12-06T23:56:41.565215Z",
     "start_time": "2019-12-06T23:56:41.558207Z"
    }
   },
   "outputs": [
    {
     "data": {
      "text/plain": [
       "True"
      ]
     },
     "execution_count": 48,
     "metadata": {},
     "output_type": "execute_result"
    }
   ],
   "source": [
    "d = 'http://18.222.110.0/general-dentistry/'\n",
    "re.search(r'\\d', d) is not None"
   ]
  },
  {
   "cell_type": "code",
   "execution_count": 49,
   "metadata": {
    "ExecuteTime": {
     "end_time": "2019-12-06T23:57:01.858151Z",
     "start_time": "2019-12-06T23:57:01.831155Z"
    }
   },
   "outputs": [],
   "source": [
    "mini_df = df[:10]"
   ]
  },
  {
   "cell_type": "code",
   "execution_count": 50,
   "metadata": {
    "ExecuteTime": {
     "end_time": "2019-12-06T23:57:06.112649Z",
     "start_time": "2019-12-06T23:57:06.055099Z"
    }
   },
   "outputs": [
    {
     "data": {
      "text/html": [
       "<div>\n",
       "<style scoped>\n",
       "    .dataframe tbody tr th:only-of-type {\n",
       "        vertical-align: middle;\n",
       "    }\n",
       "\n",
       "    .dataframe tbody tr th {\n",
       "        vertical-align: top;\n",
       "    }\n",
       "\n",
       "    .dataframe thead th {\n",
       "        text-align: right;\n",
       "    }\n",
       "</style>\n",
       "<table border=\"1\" class=\"dataframe\">\n",
       "  <thead>\n",
       "    <tr style=\"text-align: right;\">\n",
       "      <th></th>\n",
       "      <th>ts</th>\n",
       "      <th>url</th>\n",
       "      <th>tld</th>\n",
       "      <th>length</th>\n",
       "      <th>offset</th>\n",
       "      <th>warc</th>\n",
       "      <th>language</th>\n",
       "      <th>wet</th>\n",
       "    </tr>\n",
       "  </thead>\n",
       "  <tbody>\n",
       "    <tr>\n",
       "      <th>0</th>\n",
       "      <td>20191121011733</td>\n",
       "      <td>http://13.126.102.0:8081/</td>\n",
       "      <td></td>\n",
       "      <td>3914</td>\n",
       "      <td>939069</td>\n",
       "      <td>crawl-data/CC-MAIN-2019-47/segments/1573496670...</td>\n",
       "      <td>eng</td>\n",
       "      <td>https://commoncrawl.s3.amazonaws.com/crawl-dat...</td>\n",
       "    </tr>\n",
       "    <tr>\n",
       "      <th>1</th>\n",
       "      <td>20191119195841</td>\n",
       "      <td>http://18.222.110.0/bruxism/</td>\n",
       "      <td></td>\n",
       "      <td>30118</td>\n",
       "      <td>1127143</td>\n",
       "      <td>crawl-data/CC-MAIN-2019-47/segments/1573496670...</td>\n",
       "      <td>eng</td>\n",
       "      <td>https://commoncrawl.s3.amazonaws.com/crawl-dat...</td>\n",
       "    </tr>\n",
       "    <tr>\n",
       "      <th>2</th>\n",
       "      <td>20191119211958</td>\n",
       "      <td>http://18.222.110.0/children/</td>\n",
       "      <td></td>\n",
       "      <td>28678</td>\n",
       "      <td>1353987</td>\n",
       "      <td>crawl-data/CC-MAIN-2019-47/segments/1573496670...</td>\n",
       "      <td>eng</td>\n",
       "      <td>https://commoncrawl.s3.amazonaws.com/crawl-dat...</td>\n",
       "    </tr>\n",
       "    <tr>\n",
       "      <th>3</th>\n",
       "      <td>20191119195846</td>\n",
       "      <td>http://18.222.110.0/facial-aesthetics/</td>\n",
       "      <td></td>\n",
       "      <td>29722</td>\n",
       "      <td>1025626</td>\n",
       "      <td>crawl-data/CC-MAIN-2019-47/segments/1573496670...</td>\n",
       "      <td>eng</td>\n",
       "      <td>https://commoncrawl.s3.amazonaws.com/crawl-dat...</td>\n",
       "    </tr>\n",
       "    <tr>\n",
       "      <th>4</th>\n",
       "      <td>20191119202823</td>\n",
       "      <td>http://18.222.110.0/general-dentistry/</td>\n",
       "      <td></td>\n",
       "      <td>32010</td>\n",
       "      <td>1108906</td>\n",
       "      <td>crawl-data/CC-MAIN-2019-47/segments/1573496670...</td>\n",
       "      <td>eng</td>\n",
       "      <td>https://commoncrawl.s3.amazonaws.com/crawl-dat...</td>\n",
       "    </tr>\n",
       "    <tr>\n",
       "      <th>5</th>\n",
       "      <td>20191119211031</td>\n",
       "      <td>http://18.222.110.0/orthodontics/</td>\n",
       "      <td></td>\n",
       "      <td>31933</td>\n",
       "      <td>1382548</td>\n",
       "      <td>crawl-data/CC-MAIN-2019-47/segments/1573496670...</td>\n",
       "      <td>eng</td>\n",
       "      <td>https://commoncrawl.s3.amazonaws.com/crawl-dat...</td>\n",
       "    </tr>\n",
       "    <tr>\n",
       "      <th>6</th>\n",
       "      <td>20191119195855</td>\n",
       "      <td>http://18.222.110.0/smile-makeovers/</td>\n",
       "      <td></td>\n",
       "      <td>29301</td>\n",
       "      <td>1805231</td>\n",
       "      <td>crawl-data/CC-MAIN-2019-47/segments/1573496670...</td>\n",
       "      <td>eng</td>\n",
       "      <td>https://commoncrawl.s3.amazonaws.com/crawl-dat...</td>\n",
       "    </tr>\n",
       "    <tr>\n",
       "      <th>7</th>\n",
       "      <td>20191121143531</td>\n",
       "      <td>http://39.106.117.0/2019/09/22/hello-world/</td>\n",
       "      <td></td>\n",
       "      <td>20320</td>\n",
       "      <td>2568454</td>\n",
       "      <td>crawl-data/CC-MAIN-2019-47/segments/1573496670...</td>\n",
       "      <td>zho,eng</td>\n",
       "      <td>https://commoncrawl.s3.amazonaws.com/crawl-dat...</td>\n",
       "    </tr>\n",
       "    <tr>\n",
       "      <th>8</th>\n",
       "      <td>20191121143530</td>\n",
       "      <td>http://39.106.117.0/robots.txt</td>\n",
       "      <td></td>\n",
       "      <td>623</td>\n",
       "      <td>22456</td>\n",
       "      <td>crawl-data/CC-MAIN-2019-47/segments/1573496670...</td>\n",
       "      <td>none</td>\n",
       "      <td>https://commoncrawl.s3.amazonaws.com/crawl-dat...</td>\n",
       "    </tr>\n",
       "    <tr>\n",
       "      <th>9</th>\n",
       "      <td>20191111224255</td>\n",
       "      <td>http://45.163.117.0:5661/sipweb/trabalhador/lo...</td>\n",
       "      <td></td>\n",
       "      <td>2933</td>\n",
       "      <td>2471191</td>\n",
       "      <td>crawl-data/CC-MAIN-2019-47/segments/1573496664...</td>\n",
       "      <td>por</td>\n",
       "      <td>https://commoncrawl.s3.amazonaws.com/crawl-dat...</td>\n",
       "    </tr>\n",
       "  </tbody>\n",
       "</table>\n",
       "</div>"
      ],
      "text/plain": [
       "               ts                                                url tld  \\\n",
       "0  20191121011733                          http://13.126.102.0:8081/       \n",
       "1  20191119195841                       http://18.222.110.0/bruxism/       \n",
       "2  20191119211958                      http://18.222.110.0/children/       \n",
       "3  20191119195846             http://18.222.110.0/facial-aesthetics/       \n",
       "4  20191119202823             http://18.222.110.0/general-dentistry/       \n",
       "5  20191119211031                  http://18.222.110.0/orthodontics/       \n",
       "6  20191119195855               http://18.222.110.0/smile-makeovers/       \n",
       "7  20191121143531        http://39.106.117.0/2019/09/22/hello-world/       \n",
       "8  20191121143530                     http://39.106.117.0/robots.txt       \n",
       "9  20191111224255  http://45.163.117.0:5661/sipweb/trabalhador/lo...       \n",
       "\n",
       "  length   offset                                               warc language  \\\n",
       "0   3914   939069  crawl-data/CC-MAIN-2019-47/segments/1573496670...      eng   \n",
       "1  30118  1127143  crawl-data/CC-MAIN-2019-47/segments/1573496670...      eng   \n",
       "2  28678  1353987  crawl-data/CC-MAIN-2019-47/segments/1573496670...      eng   \n",
       "3  29722  1025626  crawl-data/CC-MAIN-2019-47/segments/1573496670...      eng   \n",
       "4  32010  1108906  crawl-data/CC-MAIN-2019-47/segments/1573496670...      eng   \n",
       "5  31933  1382548  crawl-data/CC-MAIN-2019-47/segments/1573496670...      eng   \n",
       "6  29301  1805231  crawl-data/CC-MAIN-2019-47/segments/1573496670...      eng   \n",
       "7  20320  2568454  crawl-data/CC-MAIN-2019-47/segments/1573496670...  zho,eng   \n",
       "8    623    22456  crawl-data/CC-MAIN-2019-47/segments/1573496670...     none   \n",
       "9   2933  2471191  crawl-data/CC-MAIN-2019-47/segments/1573496664...      por   \n",
       "\n",
       "                                                 wet  \n",
       "0  https://commoncrawl.s3.amazonaws.com/crawl-dat...  \n",
       "1  https://commoncrawl.s3.amazonaws.com/crawl-dat...  \n",
       "2  https://commoncrawl.s3.amazonaws.com/crawl-dat...  \n",
       "3  https://commoncrawl.s3.amazonaws.com/crawl-dat...  \n",
       "4  https://commoncrawl.s3.amazonaws.com/crawl-dat...  \n",
       "5  https://commoncrawl.s3.amazonaws.com/crawl-dat...  \n",
       "6  https://commoncrawl.s3.amazonaws.com/crawl-dat...  \n",
       "7  https://commoncrawl.s3.amazonaws.com/crawl-dat...  \n",
       "8  https://commoncrawl.s3.amazonaws.com/crawl-dat...  \n",
       "9  https://commoncrawl.s3.amazonaws.com/crawl-dat...  "
      ]
     },
     "execution_count": 50,
     "metadata": {},
     "output_type": "execute_result"
    }
   ],
   "source": [
    "mini_df"
   ]
  },
  {
   "cell_type": "code",
   "execution_count": null,
   "metadata": {},
   "outputs": [],
   "source": []
  },
  {
   "cell_type": "code",
   "execution_count": 52,
   "metadata": {
    "ExecuteTime": {
     "end_time": "2019-12-06T23:57:39.115906Z",
     "start_time": "2019-12-06T23:57:39.111927Z"
    }
   },
   "outputs": [],
   "source": [
    "import numpy as np"
   ]
  },
  {
   "cell_type": "code",
   "execution_count": 54,
   "metadata": {
    "ExecuteTime": {
     "end_time": "2019-12-07T00:00:49.540672Z",
     "start_time": "2019-12-06T23:57:46.616133Z"
    }
   },
   "outputs": [
    {
     "name": "stderr",
     "output_type": "stream",
     "text": [
      "C:\\Users\\AC53654\\Anaconda\\lib\\site-packages\\ipykernel_launcher.py:1: SettingWithCopyWarning: \n",
      "A value is trying to be set on a copy of a slice from a DataFrame.\n",
      "Try using .loc[row_indexer,col_indexer] = value instead\n",
      "\n",
      "See the caveats in the documentation: http://pandas.pydata.org/pandas-docs/stable/indexing.html#indexing-view-versus-copy\n",
      "  \"\"\"Entry point for launching an IPython kernel.\n"
     ]
    }
   ],
   "source": [
    "mini_df['url_has_numbers'] = np.where(mini_df['url'].str.contains(r'\\d'), 1, 0)"
   ]
  },
  {
   "cell_type": "code",
   "execution_count": 55,
   "metadata": {
    "ExecuteTime": {
     "end_time": "2019-12-07T00:00:50.024662Z",
     "start_time": "2019-12-07T00:00:49.562669Z"
    }
   },
   "outputs": [
    {
     "data": {
      "text/html": [
       "<div>\n",
       "<style scoped>\n",
       "    .dataframe tbody tr th:only-of-type {\n",
       "        vertical-align: middle;\n",
       "    }\n",
       "\n",
       "    .dataframe tbody tr th {\n",
       "        vertical-align: top;\n",
       "    }\n",
       "\n",
       "    .dataframe thead th {\n",
       "        text-align: right;\n",
       "    }\n",
       "</style>\n",
       "<table border=\"1\" class=\"dataframe\">\n",
       "  <thead>\n",
       "    <tr style=\"text-align: right;\">\n",
       "      <th></th>\n",
       "      <th>ts</th>\n",
       "      <th>url</th>\n",
       "      <th>tld</th>\n",
       "      <th>length</th>\n",
       "      <th>offset</th>\n",
       "      <th>warc</th>\n",
       "      <th>language</th>\n",
       "      <th>wet</th>\n",
       "      <th>url_has_numbers</th>\n",
       "    </tr>\n",
       "  </thead>\n",
       "  <tbody>\n",
       "    <tr>\n",
       "      <th>0</th>\n",
       "      <td>20191121011733</td>\n",
       "      <td>http://13.126.102.0:8081/</td>\n",
       "      <td></td>\n",
       "      <td>3914</td>\n",
       "      <td>939069</td>\n",
       "      <td>crawl-data/CC-MAIN-2019-47/segments/1573496670...</td>\n",
       "      <td>eng</td>\n",
       "      <td>https://commoncrawl.s3.amazonaws.com/crawl-dat...</td>\n",
       "      <td>1</td>\n",
       "    </tr>\n",
       "    <tr>\n",
       "      <th>1</th>\n",
       "      <td>20191119195841</td>\n",
       "      <td>http://18.222.110.0/bruxism/</td>\n",
       "      <td></td>\n",
       "      <td>30118</td>\n",
       "      <td>1127143</td>\n",
       "      <td>crawl-data/CC-MAIN-2019-47/segments/1573496670...</td>\n",
       "      <td>eng</td>\n",
       "      <td>https://commoncrawl.s3.amazonaws.com/crawl-dat...</td>\n",
       "      <td>1</td>\n",
       "    </tr>\n",
       "    <tr>\n",
       "      <th>2</th>\n",
       "      <td>20191119211958</td>\n",
       "      <td>http://18.222.110.0/children/</td>\n",
       "      <td></td>\n",
       "      <td>28678</td>\n",
       "      <td>1353987</td>\n",
       "      <td>crawl-data/CC-MAIN-2019-47/segments/1573496670...</td>\n",
       "      <td>eng</td>\n",
       "      <td>https://commoncrawl.s3.amazonaws.com/crawl-dat...</td>\n",
       "      <td>1</td>\n",
       "    </tr>\n",
       "    <tr>\n",
       "      <th>3</th>\n",
       "      <td>20191119195846</td>\n",
       "      <td>http://18.222.110.0/facial-aesthetics/</td>\n",
       "      <td></td>\n",
       "      <td>29722</td>\n",
       "      <td>1025626</td>\n",
       "      <td>crawl-data/CC-MAIN-2019-47/segments/1573496670...</td>\n",
       "      <td>eng</td>\n",
       "      <td>https://commoncrawl.s3.amazonaws.com/crawl-dat...</td>\n",
       "      <td>1</td>\n",
       "    </tr>\n",
       "    <tr>\n",
       "      <th>4</th>\n",
       "      <td>20191119202823</td>\n",
       "      <td>http://18.222.110.0/general-dentistry/</td>\n",
       "      <td></td>\n",
       "      <td>32010</td>\n",
       "      <td>1108906</td>\n",
       "      <td>crawl-data/CC-MAIN-2019-47/segments/1573496670...</td>\n",
       "      <td>eng</td>\n",
       "      <td>https://commoncrawl.s3.amazonaws.com/crawl-dat...</td>\n",
       "      <td>1</td>\n",
       "    </tr>\n",
       "    <tr>\n",
       "      <th>5</th>\n",
       "      <td>20191119211031</td>\n",
       "      <td>http://18.222.110.0/orthodontics/</td>\n",
       "      <td></td>\n",
       "      <td>31933</td>\n",
       "      <td>1382548</td>\n",
       "      <td>crawl-data/CC-MAIN-2019-47/segments/1573496670...</td>\n",
       "      <td>eng</td>\n",
       "      <td>https://commoncrawl.s3.amazonaws.com/crawl-dat...</td>\n",
       "      <td>1</td>\n",
       "    </tr>\n",
       "    <tr>\n",
       "      <th>6</th>\n",
       "      <td>20191119195855</td>\n",
       "      <td>http://18.222.110.0/smile-makeovers/</td>\n",
       "      <td></td>\n",
       "      <td>29301</td>\n",
       "      <td>1805231</td>\n",
       "      <td>crawl-data/CC-MAIN-2019-47/segments/1573496670...</td>\n",
       "      <td>eng</td>\n",
       "      <td>https://commoncrawl.s3.amazonaws.com/crawl-dat...</td>\n",
       "      <td>1</td>\n",
       "    </tr>\n",
       "    <tr>\n",
       "      <th>7</th>\n",
       "      <td>20191121143531</td>\n",
       "      <td>http://39.106.117.0/2019/09/22/hello-world/</td>\n",
       "      <td></td>\n",
       "      <td>20320</td>\n",
       "      <td>2568454</td>\n",
       "      <td>crawl-data/CC-MAIN-2019-47/segments/1573496670...</td>\n",
       "      <td>zho,eng</td>\n",
       "      <td>https://commoncrawl.s3.amazonaws.com/crawl-dat...</td>\n",
       "      <td>1</td>\n",
       "    </tr>\n",
       "    <tr>\n",
       "      <th>8</th>\n",
       "      <td>20191121143530</td>\n",
       "      <td>http://39.106.117.0/robots.txt</td>\n",
       "      <td></td>\n",
       "      <td>623</td>\n",
       "      <td>22456</td>\n",
       "      <td>crawl-data/CC-MAIN-2019-47/segments/1573496670...</td>\n",
       "      <td>none</td>\n",
       "      <td>https://commoncrawl.s3.amazonaws.com/crawl-dat...</td>\n",
       "      <td>1</td>\n",
       "    </tr>\n",
       "    <tr>\n",
       "      <th>9</th>\n",
       "      <td>20191111224255</td>\n",
       "      <td>http://45.163.117.0:5661/sipweb/trabalhador/lo...</td>\n",
       "      <td></td>\n",
       "      <td>2933</td>\n",
       "      <td>2471191</td>\n",
       "      <td>crawl-data/CC-MAIN-2019-47/segments/1573496664...</td>\n",
       "      <td>por</td>\n",
       "      <td>https://commoncrawl.s3.amazonaws.com/crawl-dat...</td>\n",
       "      <td>1</td>\n",
       "    </tr>\n",
       "  </tbody>\n",
       "</table>\n",
       "</div>"
      ],
      "text/plain": [
       "               ts                                                url tld  \\\n",
       "0  20191121011733                          http://13.126.102.0:8081/       \n",
       "1  20191119195841                       http://18.222.110.0/bruxism/       \n",
       "2  20191119211958                      http://18.222.110.0/children/       \n",
       "3  20191119195846             http://18.222.110.0/facial-aesthetics/       \n",
       "4  20191119202823             http://18.222.110.0/general-dentistry/       \n",
       "5  20191119211031                  http://18.222.110.0/orthodontics/       \n",
       "6  20191119195855               http://18.222.110.0/smile-makeovers/       \n",
       "7  20191121143531        http://39.106.117.0/2019/09/22/hello-world/       \n",
       "8  20191121143530                     http://39.106.117.0/robots.txt       \n",
       "9  20191111224255  http://45.163.117.0:5661/sipweb/trabalhador/lo...       \n",
       "\n",
       "  length   offset                                               warc language  \\\n",
       "0   3914   939069  crawl-data/CC-MAIN-2019-47/segments/1573496670...      eng   \n",
       "1  30118  1127143  crawl-data/CC-MAIN-2019-47/segments/1573496670...      eng   \n",
       "2  28678  1353987  crawl-data/CC-MAIN-2019-47/segments/1573496670...      eng   \n",
       "3  29722  1025626  crawl-data/CC-MAIN-2019-47/segments/1573496670...      eng   \n",
       "4  32010  1108906  crawl-data/CC-MAIN-2019-47/segments/1573496670...      eng   \n",
       "5  31933  1382548  crawl-data/CC-MAIN-2019-47/segments/1573496670...      eng   \n",
       "6  29301  1805231  crawl-data/CC-MAIN-2019-47/segments/1573496670...      eng   \n",
       "7  20320  2568454  crawl-data/CC-MAIN-2019-47/segments/1573496670...  zho,eng   \n",
       "8    623    22456  crawl-data/CC-MAIN-2019-47/segments/1573496670...     none   \n",
       "9   2933  2471191  crawl-data/CC-MAIN-2019-47/segments/1573496664...      por   \n",
       "\n",
       "                                                 wet  url_has_numbers  \n",
       "0  https://commoncrawl.s3.amazonaws.com/crawl-dat...                1  \n",
       "1  https://commoncrawl.s3.amazonaws.com/crawl-dat...                1  \n",
       "2  https://commoncrawl.s3.amazonaws.com/crawl-dat...                1  \n",
       "3  https://commoncrawl.s3.amazonaws.com/crawl-dat...                1  \n",
       "4  https://commoncrawl.s3.amazonaws.com/crawl-dat...                1  \n",
       "5  https://commoncrawl.s3.amazonaws.com/crawl-dat...                1  \n",
       "6  https://commoncrawl.s3.amazonaws.com/crawl-dat...                1  \n",
       "7  https://commoncrawl.s3.amazonaws.com/crawl-dat...                1  \n",
       "8  https://commoncrawl.s3.amazonaws.com/crawl-dat...                1  \n",
       "9  https://commoncrawl.s3.amazonaws.com/crawl-dat...                1  "
      ]
     },
     "execution_count": 55,
     "metadata": {},
     "output_type": "execute_result"
    }
   ],
   "source": [
    "mini_df"
   ]
  },
  {
   "cell_type": "code",
   "execution_count": 56,
   "metadata": {
    "ExecuteTime": {
     "end_time": "2019-12-07T00:02:24.670955Z",
     "start_time": "2019-12-07T00:02:12.226320Z"
    }
   },
   "outputs": [],
   "source": [
    "df['url_has_numbers'] = np.where(df['url'].str.contains(r'\\d'), 1, 0)"
   ]
  },
  {
   "cell_type": "code",
   "execution_count": 57,
   "metadata": {
    "ExecuteTime": {
     "end_time": "2019-12-07T00:02:41.063354Z",
     "start_time": "2019-12-07T00:02:40.319453Z"
    }
   },
   "outputs": [
    {
     "data": {
      "text/html": [
       "<div>\n",
       "<style scoped>\n",
       "    .dataframe tbody tr th:only-of-type {\n",
       "        vertical-align: middle;\n",
       "    }\n",
       "\n",
       "    .dataframe tbody tr th {\n",
       "        vertical-align: top;\n",
       "    }\n",
       "\n",
       "    .dataframe thead th {\n",
       "        text-align: right;\n",
       "    }\n",
       "</style>\n",
       "<table border=\"1\" class=\"dataframe\">\n",
       "  <thead>\n",
       "    <tr style=\"text-align: right;\">\n",
       "      <th></th>\n",
       "      <th>ts</th>\n",
       "      <th>url</th>\n",
       "      <th>tld</th>\n",
       "      <th>length</th>\n",
       "      <th>offset</th>\n",
       "      <th>warc</th>\n",
       "      <th>language</th>\n",
       "      <th>wet</th>\n",
       "      <th>url_has_numbers</th>\n",
       "    </tr>\n",
       "  </thead>\n",
       "  <tbody>\n",
       "    <tr>\n",
       "      <th>1665204</th>\n",
       "      <td>20191117011531</td>\n",
       "      <td>https://cws.agency/robots.txt</td>\n",
       "      <td>agency</td>\n",
       "      <td>888</td>\n",
       "      <td>2422723</td>\n",
       "      <td>crawl-data/CC-MAIN-2019-47/segments/1573496668...</td>\n",
       "      <td>none</td>\n",
       "      <td>https://commoncrawl.s3.amazonaws.com/crawl-dat...</td>\n",
       "      <td>0</td>\n",
       "    </tr>\n",
       "    <tr>\n",
       "      <th>449162</th>\n",
       "      <td>20191119124630</td>\n",
       "      <td>https://www.superu.ad/artiach-galeta-sense-suc...</td>\n",
       "      <td>ad</td>\n",
       "      <td>47081</td>\n",
       "      <td>1003821030</td>\n",
       "      <td>crawl-data/CC-MAIN-2019-47/segments/1573496670...</td>\n",
       "      <td>cat</td>\n",
       "      <td>https://commoncrawl.s3.amazonaws.com/crawl-dat...</td>\n",
       "      <td>1</td>\n",
       "    </tr>\n",
       "    <tr>\n",
       "      <th>8044329</th>\n",
       "      <td>20191120021437</td>\n",
       "      <td>https://catalogo.biblio.unc.edu.ar/Search/Resu...</td>\n",
       "      <td>edu.ar</td>\n",
       "      <td>7375</td>\n",
       "      <td>343077730</td>\n",
       "      <td>crawl-data/CC-MAIN-2019-47/segments/1573496670...</td>\n",
       "      <td>eng,spa</td>\n",
       "      <td>https://commoncrawl.s3.amazonaws.com/crawl-dat...</td>\n",
       "      <td>1</td>\n",
       "    </tr>\n",
       "    <tr>\n",
       "      <th>2659709</th>\n",
       "      <td>20191122191105</td>\n",
       "      <td>https://xelta.do.am/index/europai_unio_tanacsa...</td>\n",
       "      <td>am</td>\n",
       "      <td>13002</td>\n",
       "      <td>1067358257</td>\n",
       "      <td>crawl-data/CC-MAIN-2019-47/segments/1573496671...</td>\n",
       "      <td>hun</td>\n",
       "      <td>https://commoncrawl.s3.amazonaws.com/crawl-dat...</td>\n",
       "      <td>1</td>\n",
       "    </tr>\n",
       "    <tr>\n",
       "      <th>745156</th>\n",
       "      <td>20191114122217</td>\n",
       "      <td>https://easyshopping.ae/4-pcs-hair-brush-black...</td>\n",
       "      <td>ae</td>\n",
       "      <td>15707</td>\n",
       "      <td>386762379</td>\n",
       "      <td>crawl-data/CC-MAIN-2019-47/segments/1573496668...</td>\n",
       "      <td>eng</td>\n",
       "      <td>https://commoncrawl.s3.amazonaws.com/crawl-dat...</td>\n",
       "      <td>1</td>\n",
       "    </tr>\n",
       "    <tr>\n",
       "      <th>4138891</th>\n",
       "      <td>20191112181007</td>\n",
       "      <td>https://www.bumeran.com.ar/empleos/jr-para-aud...</td>\n",
       "      <td>com.ar</td>\n",
       "      <td>22152</td>\n",
       "      <td>757494735</td>\n",
       "      <td>crawl-data/CC-MAIN-2019-47/segments/1573496665...</td>\n",
       "      <td>spa</td>\n",
       "      <td>https://commoncrawl.s3.amazonaws.com/crawl-dat...</td>\n",
       "      <td>1</td>\n",
       "    </tr>\n",
       "    <tr>\n",
       "      <th>4174606</th>\n",
       "      <td>20191115054759</td>\n",
       "      <td>https://www.cachitadeco.com.ar/productos/50-of...</td>\n",
       "      <td>com.ar</td>\n",
       "      <td>13664</td>\n",
       "      <td>713241060</td>\n",
       "      <td>crawl-data/CC-MAIN-2019-47/segments/1573496668...</td>\n",
       "      <td>spa</td>\n",
       "      <td>https://commoncrawl.s3.amazonaws.com/crawl-dat...</td>\n",
       "      <td>1</td>\n",
       "    </tr>\n",
       "    <tr>\n",
       "      <th>6251484</th>\n",
       "      <td>20191117111510</td>\n",
       "      <td>https://iluminacionda.mercadoshops.com.ar/sist...</td>\n",
       "      <td>com.ar</td>\n",
       "      <td>14074</td>\n",
       "      <td>483936286</td>\n",
       "      <td>crawl-data/CC-MAIN-2019-47/segments/1573496668...</td>\n",
       "      <td>spa</td>\n",
       "      <td>https://commoncrawl.s3.amazonaws.com/crawl-dat...</td>\n",
       "      <td>1</td>\n",
       "    </tr>\n",
       "    <tr>\n",
       "      <th>349682</th>\n",
       "      <td>20191115051119</td>\n",
       "      <td>https://omgv.academy/heroku/</td>\n",
       "      <td>academy</td>\n",
       "      <td>18853</td>\n",
       "      <td>558554563</td>\n",
       "      <td>crawl-data/CC-MAIN-2019-47/segments/1573496668...</td>\n",
       "      <td>deu</td>\n",
       "      <td>https://commoncrawl.s3.amazonaws.com/crawl-dat...</td>\n",
       "      <td>0</td>\n",
       "    </tr>\n",
       "    <tr>\n",
       "      <th>8105238</th>\n",
       "      <td>20191122235549</td>\n",
       "      <td>http://odo.biblio.unc.edu.ar/cgi-bin/koha/opac...</td>\n",
       "      <td>edu.ar</td>\n",
       "      <td>38786</td>\n",
       "      <td>124561181</td>\n",
       "      <td>crawl-data/CC-MAIN-2019-47/segments/1573496672...</td>\n",
       "      <td>eng,spa</td>\n",
       "      <td>https://commoncrawl.s3.amazonaws.com/crawl-dat...</td>\n",
       "      <td>1</td>\n",
       "    </tr>\n",
       "  </tbody>\n",
       "</table>\n",
       "</div>"
      ],
      "text/plain": [
       "                     ts                                                url  \\\n",
       "1665204  20191117011531                      https://cws.agency/robots.txt   \n",
       "449162   20191119124630  https://www.superu.ad/artiach-galeta-sense-suc...   \n",
       "8044329  20191120021437  https://catalogo.biblio.unc.edu.ar/Search/Resu...   \n",
       "2659709  20191122191105  https://xelta.do.am/index/europai_unio_tanacsa...   \n",
       "745156   20191114122217  https://easyshopping.ae/4-pcs-hair-brush-black...   \n",
       "4138891  20191112181007  https://www.bumeran.com.ar/empleos/jr-para-aud...   \n",
       "4174606  20191115054759  https://www.cachitadeco.com.ar/productos/50-of...   \n",
       "6251484  20191117111510  https://iluminacionda.mercadoshops.com.ar/sist...   \n",
       "349682   20191115051119                       https://omgv.academy/heroku/   \n",
       "8105238  20191122235549  http://odo.biblio.unc.edu.ar/cgi-bin/koha/opac...   \n",
       "\n",
       "             tld length      offset  \\\n",
       "1665204   agency    888     2422723   \n",
       "449162        ad  47081  1003821030   \n",
       "8044329   edu.ar   7375   343077730   \n",
       "2659709       am  13002  1067358257   \n",
       "745156        ae  15707   386762379   \n",
       "4138891   com.ar  22152   757494735   \n",
       "4174606   com.ar  13664   713241060   \n",
       "6251484   com.ar  14074   483936286   \n",
       "349682   academy  18853   558554563   \n",
       "8105238   edu.ar  38786   124561181   \n",
       "\n",
       "                                                      warc language  \\\n",
       "1665204  crawl-data/CC-MAIN-2019-47/segments/1573496668...     none   \n",
       "449162   crawl-data/CC-MAIN-2019-47/segments/1573496670...      cat   \n",
       "8044329  crawl-data/CC-MAIN-2019-47/segments/1573496670...  eng,spa   \n",
       "2659709  crawl-data/CC-MAIN-2019-47/segments/1573496671...      hun   \n",
       "745156   crawl-data/CC-MAIN-2019-47/segments/1573496668...      eng   \n",
       "4138891  crawl-data/CC-MAIN-2019-47/segments/1573496665...      spa   \n",
       "4174606  crawl-data/CC-MAIN-2019-47/segments/1573496668...      spa   \n",
       "6251484  crawl-data/CC-MAIN-2019-47/segments/1573496668...      spa   \n",
       "349682   crawl-data/CC-MAIN-2019-47/segments/1573496668...      deu   \n",
       "8105238  crawl-data/CC-MAIN-2019-47/segments/1573496672...  eng,spa   \n",
       "\n",
       "                                                       wet  url_has_numbers  \n",
       "1665204  https://commoncrawl.s3.amazonaws.com/crawl-dat...                0  \n",
       "449162   https://commoncrawl.s3.amazonaws.com/crawl-dat...                1  \n",
       "8044329  https://commoncrawl.s3.amazonaws.com/crawl-dat...                1  \n",
       "2659709  https://commoncrawl.s3.amazonaws.com/crawl-dat...                1  \n",
       "745156   https://commoncrawl.s3.amazonaws.com/crawl-dat...                1  \n",
       "4138891  https://commoncrawl.s3.amazonaws.com/crawl-dat...                1  \n",
       "4174606  https://commoncrawl.s3.amazonaws.com/crawl-dat...                1  \n",
       "6251484  https://commoncrawl.s3.amazonaws.com/crawl-dat...                1  \n",
       "349682   https://commoncrawl.s3.amazonaws.com/crawl-dat...                0  \n",
       "8105238  https://commoncrawl.s3.amazonaws.com/crawl-dat...                1  "
      ]
     },
     "execution_count": 57,
     "metadata": {},
     "output_type": "execute_result"
    }
   ],
   "source": [
    "df.sample(10)"
   ]
  },
  {
   "cell_type": "code",
   "execution_count": 58,
   "metadata": {
    "ExecuteTime": {
     "end_time": "2019-12-07T00:03:00.897177Z",
     "start_time": "2019-12-07T00:03:00.815119Z"
    }
   },
   "outputs": [
    {
     "data": {
      "text/plain": [
       "5422212"
      ]
     },
     "execution_count": 58,
     "metadata": {},
     "output_type": "execute_result"
    }
   ],
   "source": [
    "df['url_has_numbers'].sum()"
   ]
  },
  {
   "cell_type": "code",
   "execution_count": 59,
   "metadata": {
    "ExecuteTime": {
     "end_time": "2019-12-07T00:03:22.791675Z",
     "start_time": "2019-12-07T00:03:22.735683Z"
    }
   },
   "outputs": [
    {
     "data": {
      "text/plain": [
       "0.668329165991831"
      ]
     },
     "execution_count": 59,
     "metadata": {},
     "output_type": "execute_result"
    }
   ],
   "source": [
    "df['url_has_numbers'].sum() / len(df)"
   ]
  },
  {
   "cell_type": "code",
   "execution_count": 60,
   "metadata": {
    "ExecuteTime": {
     "end_time": "2019-12-07T00:08:12.703602Z",
     "start_time": "2019-12-07T00:08:12.607603Z"
    }
   },
   "outputs": [
    {
     "name": "stdout",
     "output_type": "stream",
     "text": [
      "<class 'pandas.core.frame.DataFrame'>\n",
      "RangeIndex: 8113086 entries, 0 to 8113085\n",
      "Data columns (total 9 columns):\n",
      "ts                 object\n",
      "url                object\n",
      "tld                object\n",
      "length             object\n",
      "offset             object\n",
      "warc               object\n",
      "language           object\n",
      "wet                object\n",
      "url_has_numbers    int32\n",
      "dtypes: int32(1), object(8)\n",
      "memory usage: 526.1+ MB\n"
     ]
    }
   ],
   "source": [
    "df.info()"
   ]
  },
  {
   "cell_type": "code",
   "execution_count": null,
   "metadata": {},
   "outputs": [],
   "source": []
  }
 ],
 "metadata": {
  "hide_input": false,
  "kernelspec": {
   "display_name": "Python 3",
   "language": "python",
   "name": "python3"
  },
  "language_info": {
   "codemirror_mode": {
    "name": "ipython",
    "version": 3
   },
   "file_extension": ".py",
   "mimetype": "text/x-python",
   "name": "python",
   "nbconvert_exporter": "python",
   "pygments_lexer": "ipython3",
   "version": "3.6.7"
  },
  "toc": {
   "base_numbering": 1,
   "nav_menu": {},
   "number_sections": true,
   "sideBar": true,
   "skip_h1_title": false,
   "title_cell": "Table of Contents",
   "title_sidebar": "Contents",
   "toc_cell": false,
   "toc_position": {},
   "toc_section_display": true,
   "toc_window_display": false
  }
 },
 "nbformat": 4,
 "nbformat_minor": 2
}
