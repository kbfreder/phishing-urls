{
 "cells": [
  {
   "cell_type": "code",
   "execution_count": 1,
   "metadata": {},
   "outputs": [],
   "source": [
    "import time\n",
    "import json\n",
    "import shutil\n",
    "import os\n",
    "import feather\n",
    "import pandas as pd\n",
    "import numpy as np\n",
    "import zlib\n",
    "import json\n",
    "import random\n",
    "import requests\n",
    "import matplotlib.pyplot as plt\n",
    "from pandas.io.json import json_normalize\n",
    "\n",
    "import logging\n",
    "logging.basicConfig(level=logging.INFO)"
   ]
  },
  {
   "cell_type": "code",
   "execution_count": 2,
   "metadata": {},
   "outputs": [],
   "source": [
    "def extract_file(file_path):\n",
    "    file_suffix = file_path.split('.')[-1]\n",
    "    unzipped_path = file_path.replace('.' + file_suffix, '')\n",
    "    \n",
    "    if not os.path.exists(unzipped_path):\n",
    "        with gzip.open(file_path, 'rb') as f_in:\n",
    "            with open(unzipped_path, 'wb') as f_out:\n",
    "                shutil.copyfileobj(f_in, f_out)\n",
    "    \n",
    "    return unzipped_path\n",
    "\n",
    "\n",
    "def read_every_line(fname, max_lines=-1):\n",
    "    lines = []\n",
    "    with open(fname, encoding='utf-8') as f:\n",
    "        for i, line in enumerate(f):\n",
    "            lines.append(line.replace('\\n',''))\n",
    "            if i > max_lines and max_lines > 0:\n",
    "                break \n",
    "    return lines\n",
    "\n",
    "\n",
    "def decompress_stream(stream):\n",
    "    o = zlib.decompressobj(16 + zlib.MAX_WBITS)\n",
    "\n",
    "    for chunk in stream:\n",
    "        yield o.decompress(chunk)\n",
    "\n",
    "    yield o.flush()"
   ]
  },
  {
   "cell_type": "code",
   "execution_count": 68,
   "metadata": {},
   "outputs": [
    {
     "data": {
      "text/plain": [
       "15"
      ]
     },
     "execution_count": 68,
     "metadata": {},
     "output_type": "execute_result"
    }
   ],
   "source": [
    "zlib.MAX_WBITS"
   ]
  },
  {
   "cell_type": "code",
   "execution_count": 3,
   "metadata": {},
   "outputs": [],
   "source": [
    "cols_to_keep = ['ts', 'url', 'languages']\n",
    "\n",
    "def parse_index_file(file_name):\n",
    "    # Read data from file\n",
    "    with open(file_name, 'rb') as f:\n",
    "        data = f.read()\n",
    "    \n",
    "    # Decode data\n",
    "    string_data = data.decode('UTF-8')  \n",
    "    \n",
    "    # Parse data\n",
    "    lines = string_data.split('\\n')\n",
    "    file_data = []\n",
    "    \n",
    "    for line in lines:\n",
    "        if line:\n",
    "            ts = line.split('{')[0].split()[-1] # timestamp\n",
    "            line_json = '{' + line.split('{')[-1]\n",
    "            try:\n",
    "                line_data = json.loads(line_json)\n",
    "                line_data.update({'ts': ts})\n",
    "            except:\n",
    "                logging.debug('Error parsing json data {} in file {}'.format(line_json, file_name))\n",
    "                line_data = {}\n",
    "\n",
    "            file_data.append(line_data)\n",
    "    \n",
    "    # Covert from JSON to DataFrame\n",
    "#     print('...Lines extracted: {}'.format(len(file_data)))\n",
    "    df = json_normalize(file_data)\n",
    "    df = df.drop_duplicates().reset_index(drop=True)\n",
    "    df = df.drop(columns=[col for col in df.columns if col not in cols_to_keep])\n",
    "    \n",
    "    return df"
   ]
  },
  {
   "cell_type": "code",
   "execution_count": 3,
   "metadata": {},
   "outputs": [
    {
     "name": "stdout",
     "output_type": "stream",
     "text": [
      "302 lines extracted\n"
     ]
    }
   ],
   "source": [
    "# Set variables for Paths File and remote / web location\n",
    "yearmonth = '2019-47'\n",
    "url_prefix = 'https://commoncrawl.s3.amazonaws.com/'\n",
    "paths_file_name = 'cc-index.paths.gz'\n",
    "\n",
    "# Variables derives from the above\n",
    "# storage_folder = './crawl-data/CC-MAIN-' + yearmonth\n",
    "storage_folder = '../data/raw/'\n",
    "paths_file = os.path.join(storage_folder, paths_file_name)\n",
    "paths_file_unzipped = extract_file(paths_file)\n",
    "\n",
    "# Read paths from paths file, convert to URLs\n",
    "paths = read_every_line(paths_file_unzipped, 1e8)\n",
    "print('{} lines extracted'.format(len(paths)))\n",
    "path_urls = [url_prefix + path for path in paths]"
   ]
  },
  {
   "cell_type": "code",
   "execution_count": 4,
   "metadata": {},
   "outputs": [],
   "source": [
    "# Save index files to their own folder\n",
    "index_folder = os.path.join(storage_folder, 'index-files/')\n",
    "\n",
    "if not os.path.isdir(index_folder):\n",
    "    os.mkdir(index_folder)"
   ]
  },
  {
   "cell_type": "markdown",
   "metadata": {},
   "source": [
    "Previously, downloaded 700 chunks per file. This generated ~900,000 URLs. We want ~3X that."
   ]
  },
  {
   "cell_type": "code",
   "execution_count": null,
   "metadata": {},
   "outputs": [],
   "source": [
    "dir_size = 0\n",
    "for f in os.listdir(index_folder):\n",
    "    dir_size += os.path.getsize(os.path.join(index_folder, f))"
   ]
  },
  {
   "cell_type": "code",
   "execution_count": 10,
   "metadata": {},
   "outputs": [
    {
     "name": "stdout",
     "output_type": "stream",
     "text": [
      "Directory size is 467300467 MB, or 467300 KB, or 467 GB\n"
     ]
    }
   ],
   "source": [
    "print(f'Directory size is {dir_size} MB, or {int(dir_size/1000)} KB, or {int(dir_size/1000000)} GB')"
   ]
  },
  {
   "cell_type": "code",
   "execution_count": 27,
   "metadata": {},
   "outputs": [
    {
     "name": "stdout",
     "output_type": "stream",
     "text": [
      "Downloading file 300 out of 302Downloads complete!\n",
      "Elapsed time: 11 minutes\n"
     ]
    }
   ],
   "source": [
    "# Visit each index URL, download & save chunks\n",
    "n_chunks = 2200 # initial estimate was 669; tried 700. Need 3x as much ==> 2100\n",
    "start_time = time.time()\n",
    "\n",
    "for c, url in enumerate(path_urls, 1):\n",
    "    \n",
    "    # Derive save-to path from url\n",
    "    save_file_name = url.split('/')[-1].replace('.gz', '')\n",
    "    \n",
    "    if 'cdx-' in save_file_name: # don't download non cdx-index files\n",
    "        save_path = os.path.join(index_folder, save_file_name)\n",
    "\n",
    "        # Open a stream Request to the URL, define generator\n",
    "        r = requests.get(url, stream=True)\n",
    "        data_stream = decompress_stream(r.iter_content(1024))\n",
    "\n",
    "        # Create file, wrtie data chunks to it:\n",
    "        save_file = open(save_path, 'wb')\n",
    "\n",
    "        if c % 10 == 0 or c == 1:\n",
    "            sys.stdout.write('\\rDownloading file {} out of {}'.format(c, len(path_urls)))\n",
    "            sys.stdout.flush()\n",
    "\n",
    "        for i in range(n_chunks):\n",
    "            chunk = next(data_stream)\n",
    "            if chunk:\n",
    "                save_file.write(chunk)\n",
    "\n",
    "        # Close file & Request connection\n",
    "        save_file.close()\n",
    "        r.close()\n",
    "\n",
    "\n",
    "duration = (time.time() - start_time) / 60\n",
    "print('Downloads complete!')\n",
    "print('Elapsed time: {:.0f} minutes'.format(duration))"
   ]
  },
  {
   "cell_type": "code",
   "execution_count": 28,
   "metadata": {},
   "outputs": [
    {
     "name": "stdout",
     "output_type": "stream",
     "text": [
      "Directory size is 468484900 MB, or 468484 KB, or 468 GB\n"
     ]
    }
   ],
   "source": [
    "dir_size = 0\n",
    "for f in os.listdir(index_folder):\n",
    "    dir_size += os.path.getsize(os.path.join(index_folder, f))\n",
    "\n",
    "print(f'Directory size is {dir_size} MB, or {int(dir_size/1000)} KB, or {int(dir_size/1000000)} GB')"
   ]
  },
  {
   "cell_type": "code",
   "execution_count": 29,
   "metadata": {},
   "outputs": [
    {
     "name": "stdout",
     "output_type": "stream",
     "text": [
      "Parsing file 300 out of 301\n",
      "Parsing complete! 900,000 total records extracted.\n",
      "Elapsed time: 11 minutes\n"
     ]
    }
   ],
   "source": [
    "# Process / parse the files\n",
    "i = 1\n",
    "master_df = pd.DataFrame()\n",
    "\n",
    "start_time = time.time()\n",
    "for file in os.listdir(index_folder): #[:50]:\n",
    "    if 'cdx-' in file:\n",
    "        if i % 10 == 0 or i == 1:\n",
    "            sys.stdout.write('\\rParsing file {} out of {}'.format(i, len(os.listdir(index_folder))))\n",
    "            sys.stdout.flush()\n",
    "        \n",
    "        file_path = os.path.join(index_folder, file)\n",
    "        df = parse_index_file(file_path)\n",
    "        \n",
    "        master_df = pd.concat([master_df, df], sort=False)\n",
    "        i += 1\n",
    "\n",
    "print('')\n",
    "print('Parsing complete! {:,} total records extracted.'.format(len(master_df)))\n",
    "print('Elapsed time: {:.0f} minutes'.format(duration))"
   ]
  },
  {
   "cell_type": "markdown",
   "metadata": {},
   "source": [
    "This is not quite the 2.8 Million I'd hoped for"
   ]
  },
  {
   "cell_type": "code",
   "execution_count": 30,
   "metadata": {},
   "outputs": [
    {
     "name": "stdout",
     "output_type": "stream",
     "text": [
      "Saving DataFrame...\n"
     ]
    }
   ],
   "source": [
    "print('Saving DataFrame...')\n",
    "data_path = '../data/raw/'\n",
    "master_file = 'cc_urls_' + yearmonth\n",
    "feather.write_dataframe(master_df, os.path.join(data_path, master_file))"
   ]
  },
  {
   "cell_type": "code",
   "execution_count": 37,
   "metadata": {},
   "outputs": [
    {
     "name": "stdout",
     "output_type": "stream",
     "text": [
      "Number of chunks in file 675,711\n",
      "Downloading chunk 900 out of 1000\n",
      "Number of chunks in file 795,057\n",
      "Downloading chunk 900 out of 1000\n",
      "Number of chunks in file 891,064\n",
      "Downloading chunk 900 out of 1000\n",
      "Number of chunks in file 634,091\n",
      "Downloading chunk 900 out of 1000\n",
      "Number of chunks in file 692,414\n",
      "Downloading chunk 900 out of 1000\n",
      "Downloads complete!\n",
      "Elapsed time: 0 minutes\n"
     ]
    }
   ],
   "source": [
    "# Visit each index URL, download & save chunks\n",
    "n_chunks = 1000 # initial estimate was 669; tried 700. Need 3x as much ==> 2100\n",
    "chunk_size = 1024\n",
    "start_time = time.time()\n",
    "\n",
    "for c, url in enumerate(path_urls[:5], 1):\n",
    "    \n",
    "    # Derive save-to path from url\n",
    "    save_file_name = url.split('/')[-1].replace('.gz', '')\n",
    "    \n",
    "    if 'cdx-' in save_file_name: # don't download non cdx-index files\n",
    "        save_path = os.path.join(index_folder, save_file_name)\n",
    "#         print(f'Old file size: {os.path.getsize(save_path):,}')\n",
    "\n",
    "        # Open a stream Request to the URL, define generator\n",
    "        r = requests.get(url, stream=True)\n",
    "        file_size = int(r.headers['Content-Length'])\n",
    "        total_chunks = file_size / chunk_size\n",
    "        print(f'Number of chunks in file {int(total_chunks):,}')\n",
    "        \n",
    "        data_stream = decompress_stream(r.iter_content(chunk_size))\n",
    "        \n",
    "        # Create file, wrtie data chunks to it:\n",
    "        save_file = open(save_path, 'wb')\n",
    "\n",
    "#         if c % 10 == 0 or c == 1:\n",
    "#             sys.stdout.write('\\rDownloading file {} out of {}'.format(c, len(path_urls)))\n",
    "#             sys.stdout.flush()\n",
    "\n",
    "        for i in range(n_chunks):\n",
    "#             print(i)\n",
    "            if i % 100 == 0 or i == 0:\n",
    "                sys.stdout.write('\\rDownloading chunk {} out of {}'.format(i, n_chunks))\n",
    "                sys.stdout.flush()\n",
    "            chunk = next(data_stream)\n",
    "            if chunk:\n",
    "                save_file.write(chunk)\n",
    "\n",
    "        # Close file & Request connection\n",
    "        save_file.close()\n",
    "        r.close()\n",
    "#         print(f'New file size: {os.path.getsize(save_path):,}')\n",
    "        print('')\n",
    "        \n",
    "\n",
    "\n",
    "duration = (time.time() - start_time) / 60\n",
    "print('Downloads complete!')\n",
    "print('Elapsed time: {:.0f} minutes'.format(duration))"
   ]
  },
  {
   "cell_type": "code",
   "execution_count": 38,
   "metadata": {},
   "outputs": [],
   "source": [
    "file_list = ['cdx-0000' + str(x) for x in range(5)]"
   ]
  },
  {
   "cell_type": "code",
   "execution_count": 39,
   "metadata": {},
   "outputs": [
    {
     "data": {
      "text/plain": [
       "['cdx-00000', 'cdx-00001', 'cdx-00002', 'cdx-00003', 'cdx-00004']"
      ]
     },
     "execution_count": 39,
     "metadata": {},
     "output_type": "execute_result"
    }
   ],
   "source": [
    "file_list"
   ]
  },
  {
   "cell_type": "code",
   "execution_count": 40,
   "metadata": {},
   "outputs": [
    {
     "name": "stdout",
     "output_type": "stream",
     "text": [
      "Parsing file 1 out of 301\n",
      "Parsing complete! 15,000 total records extracted.\n",
      "Elapsed time: 0 minutes\n"
     ]
    }
   ],
   "source": [
    "# Process / parse the files\n",
    "i = 1\n",
    "master_df = pd.DataFrame()\n",
    "\n",
    "start_time = time.time()\n",
    "for file in file_list:#os.listdir(index_folder): #[:50]:\n",
    "    if 'cdx-' in file:\n",
    "        if i % 10 == 0 or i == 1:\n",
    "            sys.stdout.write('\\rParsing file {} out of {}'.format(i, len(os.listdir(index_folder))))\n",
    "            sys.stdout.flush()\n",
    "        \n",
    "        file_path = os.path.join(index_folder, file)\n",
    "        df = parse_index_file(file_path)\n",
    "        \n",
    "        master_df = pd.concat([master_df, df], sort=False)\n",
    "        i += 1\n",
    "\n",
    "print('')\n",
    "print('Parsing complete! {:,} total records extracted.'.format(len(master_df)))\n",
    "print('Elapsed time: {:.0f} minutes'.format(duration))"
   ]
  },
  {
   "cell_type": "code",
   "execution_count": 41,
   "metadata": {},
   "outputs": [],
   "source": [
    "file_list = ['cdx-0000' + str(x) for x in range(5, 10)]"
   ]
  },
  {
   "cell_type": "code",
   "execution_count": 42,
   "metadata": {},
   "outputs": [
    {
     "data": {
      "text/plain": [
       "['cdx-00005', 'cdx-00006', 'cdx-00007', 'cdx-00008', 'cdx-00009']"
      ]
     },
     "execution_count": 42,
     "metadata": {},
     "output_type": "execute_result"
    }
   ],
   "source": [
    "file_list"
   ]
  },
  {
   "cell_type": "code",
   "execution_count": 43,
   "metadata": {},
   "outputs": [
    {
     "name": "stdout",
     "output_type": "stream",
     "text": [
      "Parsing file 1 out of 301\n",
      "Parsing complete! 15,000 total records extracted.\n",
      "Elapsed time: 0 minutes\n"
     ]
    }
   ],
   "source": [
    "# Process / parse the files\n",
    "i = 1\n",
    "master_df = pd.DataFrame()\n",
    "\n",
    "start_time = time.time()\n",
    "for file in file_list:#os.listdir(index_folder): #[:50]:\n",
    "    if 'cdx-' in file:\n",
    "        if i % 10 == 0 or i == 1:\n",
    "            sys.stdout.write('\\rParsing file {} out of {}'.format(i, len(os.listdir(index_folder))))\n",
    "            sys.stdout.flush()\n",
    "        \n",
    "        file_path = os.path.join(index_folder, file)\n",
    "        df = parse_index_file(file_path)\n",
    "        \n",
    "        master_df = pd.concat([master_df, df], sort=False)\n",
    "        i += 1\n",
    "\n",
    "print('')\n",
    "print('Parsing complete! {:,} total records extracted.'.format(len(master_df)))\n",
    "print('Elapsed time: {:.0f} minutes'.format(duration))"
   ]
  },
  {
   "cell_type": "code",
   "execution_count": 56,
   "metadata": {},
   "outputs": [],
   "source": [
    "save_path = os.path.join(index_folder, 'text.txt')\n",
    "\n",
    "save_file = open(save_path, 'wb')\n",
    "\n",
    "#         if c % 10 == 0 or c == 1:\n",
    "#             sys.stdout.write('\\rDownloading file {} out of {}'.format(c, len(path_urls)))\n",
    "#             sys.stdout.flush()\n",
    "\n",
    "for i in range(10):\n",
    "    chunk = b'This is a line \\n'\n",
    "    save_file.write(chunk)\n",
    "\n",
    "# Close file & Request connection\n",
    "save_file.close()"
   ]
  },
  {
   "cell_type": "code",
   "execution_count": 57,
   "metadata": {},
   "outputs": [
    {
     "name": "stdout",
     "output_type": "stream",
     "text": [
      "b'This is a line \\nThis is a line \\nThis is a line \\nThis is a line \\nThis is a line \\nThis is a line \\nThis is a line \\nThis is a line \\nThis is a line \\nThis is a line \\n'\n"
     ]
    }
   ],
   "source": [
    "with open(save_path, 'rb') as f:\n",
    "    data = f.read()\n",
    "\n",
    "print(data)"
   ]
  },
  {
   "cell_type": "code",
   "execution_count": 58,
   "metadata": {},
   "outputs": [
    {
     "name": "stdout",
     "output_type": "stream",
     "text": [
      "Number of chunks in file 675,711\n",
      "Downloading chunk 0 out of 100File size: 0\n",
      "File size: 8461\n",
      "File size: 14624\n",
      "File size: 21192\n",
      "File size: 27132\n",
      "File size: 33061\n",
      "File size: 38574\n",
      "File size: 45339\n",
      "File size: 51835\n",
      "File size: 58175\n",
      "Downloading chunk 10 out of 100File size: 64031\n",
      "File size: 72916\n",
      "File size: 78991\n",
      "File size: 83538\n",
      "File size: 91808\n",
      "File size: 102570\n",
      "File size: 113864\n",
      "File size: 124336\n",
      "File size: 137572\n",
      "File size: 150840\n",
      "Downloading chunk 20 out of 100File size: 159241\n",
      "File size: 169224\n",
      "File size: 177800\n",
      "File size: 187487\n",
      "File size: 197144\n",
      "File size: 207400\n",
      "File size: 217149\n",
      "File size: 223152\n",
      "File size: 231036\n",
      "File size: 239864\n",
      "Downloading chunk 30 out of 100File size: 247526\n",
      "File size: 252596\n",
      "File size: 259243\n",
      "File size: 264586\n",
      "File size: 270108\n",
      "File size: 277058\n",
      "File size: 285030\n",
      "File size: 291478\n",
      "File size: 298008\n",
      "File size: 304171\n",
      "Downloading chunk 40 out of 100File size: 313995\n",
      "File size: 323524\n",
      "File size: 329723\n",
      "File size: 337966\n",
      "File size: 346125\n",
      "File size: 353114\n",
      "File size: 357751\n",
      "File size: 362835\n",
      "File size: 368890\n",
      "File size: 378276\n",
      "Downloading chunk 50 out of 100File size: 390125\n",
      "File size: 398623\n",
      "File size: 404027\n",
      "File size: 409983\n",
      "File size: 415517\n",
      "File size: 421193\n",
      "File size: 427183\n",
      "File size: 432173\n",
      "File size: 438273\n",
      "File size: 443905\n",
      "Downloading chunk 60 out of 100File size: 450442\n",
      "File size: 456952\n",
      "File size: 461710\n",
      "File size: 468760\n",
      "File size: 474885\n",
      "File size: 480983\n",
      "File size: 487557\n",
      "File size: 493777\n",
      "File size: 500900\n",
      "File size: 509571\n",
      "Downloading chunk 70 out of 100File size: 518139\n",
      "File size: 526922\n",
      "File size: 533334\n",
      "File size: 538818\n",
      "File size: 545015\n",
      "File size: 549761\n",
      "File size: 554844\n",
      "File size: 554844\n",
      "File size: 558854\n",
      "File size: 569528\n",
      "Downloading chunk 80 out of 100File size: 576042\n",
      "File size: 576042\n",
      "File size: 588263\n",
      "File size: 597000\n",
      "File size: 603311\n",
      "File size: 607449\n",
      "File size: 612709\n",
      "File size: 617893\n",
      "File size: 627253\n",
      "File size: 631552\n",
      "Downloading chunk 90 out of 100File size: 640024\n",
      "File size: 644858\n",
      "File size: 649319\n",
      "File size: 649319\n",
      "File size: 660052\n",
      "File size: 668143\n",
      "File size: 672551\n",
      "File size: 676973\n",
      "File size: 681322\n",
      "File size: 681322\n",
      "\n",
      "Downloads complete!\n",
      "Elapsed time: 0 minutes\n"
     ]
    }
   ],
   "source": [
    "# Visit each index URL, download & save chunks\n",
    "n_chunks = 100 # initial estimate was 669; tried 700. Need 3x as much ==> 2100\n",
    "chunk_size = 1024\n",
    "start_time = time.time()\n",
    "\n",
    "for c, url in enumerate(path_urls[:1], 1):\n",
    "    \n",
    "    # Derive save-to path from url\n",
    "    save_file_name = url.split('/')[-1].replace('.gz', '')\n",
    "    \n",
    "    if 'cdx-' in save_file_name: # don't download non cdx-index files\n",
    "        save_path = os.path.join(index_folder, save_file_name)\n",
    "\n",
    "        # Open a stream Request to the URL, define generator\n",
    "        r = requests.get(url, stream=True)\n",
    "        file_size = int(r.headers['Content-Length'])\n",
    "        total_chunks = file_size / chunk_size\n",
    "        print(f'Number of chunks in file {int(total_chunks):,}')\n",
    "        \n",
    "        data_stream = decompress_stream(r.iter_content(chunk_size))\n",
    "        \n",
    "        # Create file, wrtie data chunks to it:\n",
    "        save_file = open(save_path, 'wb')\n",
    "\n",
    "#         if c % 10 == 0 or c == 1:\n",
    "#             sys.stdout.write('\\rDownloading file {} out of {}'.format(c, len(path_urls)))\n",
    "#             sys.stdout.flush()\n",
    "\n",
    "        for i in range(n_chunks):\n",
    "#             print(i)\n",
    "            if i % 10 == 0 or i == 0:\n",
    "                sys.stdout.write('\\rDownloading chunk {} out of {}'.format(i, n_chunks))\n",
    "                sys.stdout.flush()\n",
    "            chunk = next(data_stream)\n",
    "            if chunk:\n",
    "                save_file.write(chunk)\n",
    "                print(f'File size: {os.path.getsize(save_path)}')\n",
    "\n",
    "        # Close file & Request connection\n",
    "        save_file.close()\n",
    "        r.close()\n",
    "#         print(f'New file size: {os.path.getsize(save_path):,}')\n",
    "        print('')\n",
    "        \n",
    "\n",
    "\n",
    "duration = (time.time() - start_time) / 60\n",
    "print('Downloads complete!')\n",
    "print('Elapsed time: {:.0f} minutes'.format(duration))"
   ]
  },
  {
   "cell_type": "code",
   "execution_count": 59,
   "metadata": {},
   "outputs": [
    {
     "name": "stdout",
     "output_type": "stream",
     "text": [
      "Parsing file 1 out of 302\n",
      "Parsing complete! 1,380 total records extracted.\n",
      "Elapsed time: 0 minutes\n"
     ]
    }
   ],
   "source": [
    "# Process / parse the files\n",
    "i = 1\n",
    "master_df = pd.DataFrame()\n",
    "\n",
    "start_time = time.time()\n",
    "for file in ['cdx-00000']:#os.listdir(index_folder): #[:50]:\n",
    "    if 'cdx-' in file:\n",
    "        if i % 10 == 0 or i == 1:\n",
    "            sys.stdout.write('\\rParsing file {} out of {}'.format(i, len(os.listdir(index_folder))))\n",
    "            sys.stdout.flush()\n",
    "        \n",
    "        file_path = os.path.join(index_folder, file)\n",
    "        df = parse_index_file(file_path)\n",
    "        \n",
    "        master_df = pd.concat([master_df, df], sort=False)\n",
    "        i += 1\n",
    "\n",
    "print('')\n",
    "print('Parsing complete! {:,} total records extracted.'.format(len(master_df)))\n",
    "print('Elapsed time: {:.0f} minutes'.format(duration))"
   ]
  },
  {
   "cell_type": "code",
   "execution_count": 63,
   "metadata": {},
   "outputs": [
    {
     "name": "stdout",
     "output_type": "stream",
     "text": [
      "Records per chunk: 13.80\n"
     ]
    }
   ],
   "source": [
    "print(f'Records per chunk: {(1380 / 100):.2f}')"
   ]
  },
  {
   "cell_type": "code",
   "execution_count": 65,
   "metadata": {},
   "outputs": [
    {
     "name": "stdout",
     "output_type": "stream",
     "text": [
      "Chunks per file: 724.6\n"
     ]
    }
   ],
   "source": [
    "print(f'Chunks per file: {3e6 / 3e2 / 13.8:.1f}')"
   ]
  },
  {
   "cell_type": "code",
   "execution_count": 66,
   "metadata": {},
   "outputs": [
    {
     "name": "stdout",
     "output_type": "stream",
     "text": [
      "Number of chunks in file 675,711\n",
      "Downloading chunk 990 out of 1000\n",
      "Downloads complete!\n",
      "Parsing file 1 out of 302\n",
      "Parsing complete! 3,000 total records extracted.\n"
     ]
    }
   ],
   "source": [
    "# Visit each index URL, download & save chunks\n",
    "n_chunks = 1000 # initial estimate was 669; tried 700. Need 3x as much ==> 2100\n",
    "chunk_size = 1024\n",
    "start_time = time.time()\n",
    "\n",
    "for c, url in enumerate(path_urls[:1], 1):\n",
    "    \n",
    "    # Derive save-to path from url\n",
    "    save_file_name = url.split('/')[-1].replace('.gz', '')\n",
    "    \n",
    "    if 'cdx-' in save_file_name: # don't download non cdx-index files\n",
    "        save_path = os.path.join(index_folder, save_file_name)\n",
    "\n",
    "        # Open a stream Request to the URL, define generator\n",
    "        r = requests.get(url, stream=True)\n",
    "        file_size = int(r.headers['Content-Length'])\n",
    "        total_chunks = file_size / chunk_size\n",
    "        print(f'Number of chunks in file {int(total_chunks):,}')\n",
    "        \n",
    "        data_stream = decompress_stream(r.iter_content(chunk_size))\n",
    "        \n",
    "        # Create file, wrtie data chunks to it:\n",
    "        save_file = open(save_path, 'wb')\n",
    "\n",
    "#         if c % 10 == 0 or c == 1:\n",
    "#             sys.stdout.write('\\rDownloading file {} out of {}'.format(c, len(path_urls)))\n",
    "#             sys.stdout.flush()\n",
    "\n",
    "        for i in range(n_chunks):\n",
    "#             print(i)\n",
    "            if i % 10 == 0 or i == 0:\n",
    "                sys.stdout.write('\\rDownloading chunk {} out of {}'.format(i, n_chunks))\n",
    "                sys.stdout.flush()\n",
    "            chunk = next(data_stream)\n",
    "            if chunk:\n",
    "                save_file.write(chunk)\n",
    "#                 print(f'File size: {os.path.getsize(save_path)}')\n",
    "\n",
    "        # Close file & Request connection\n",
    "        save_file.close()\n",
    "        r.close()\n",
    "#         print(f'New file size: {os.path.getsize(save_path):,}')\n",
    "        print('')\n",
    "        \n",
    "\n",
    "\n",
    "duration = (time.time() - start_time) / 60\n",
    "print('Downloads complete!')\n",
    "\n",
    "# Process / parse the files\n",
    "i = 1\n",
    "master_df = pd.DataFrame()\n",
    "\n",
    "start_time = time.time()\n",
    "for file in ['cdx-00000']:#os.listdir(index_folder): #[:50]:\n",
    "    if 'cdx-' in file:\n",
    "        if i % 10 == 0 or i == 1:\n",
    "            sys.stdout.write('\\rParsing file {} out of {}'.format(i, len(os.listdir(index_folder))))\n",
    "            sys.stdout.flush()\n",
    "        \n",
    "        file_path = os.path.join(index_folder, file)\n",
    "        df = parse_index_file(file_path)\n",
    "        \n",
    "        master_df = pd.concat([master_df, df], sort=False)\n",
    "        i += 1\n",
    "\n",
    "print('')\n",
    "print('Parsing complete! {:,} total records extracted.'.format(len(master_df)))\n",
    "# print('Elapsed time: {:.0f} minutes'.format(duration))"
   ]
  },
  {
   "cell_type": "code",
   "execution_count": null,
   "metadata": {},
   "outputs": [],
   "source": []
  },
  {
   "cell_type": "code",
   "execution_count": 67,
   "metadata": {},
   "outputs": [
    {
     "name": "stdout",
     "output_type": "stream",
     "text": [
      "Number of chunks in file 675,711\n",
      "Downloading chunk 4990 out of 5000\n",
      "Downloads complete!\n",
      "Parsing file 1 out of 302\n",
      "Parsing complete! 3,000 total records extracted.\n"
     ]
    }
   ],
   "source": [
    "# Visit each index URL, download & save chunks\n",
    "n_chunks = 5000 # initial estimate was 669; tried 700. Need 3x as much ==> 2100\n",
    "chunk_size = 1024\n",
    "start_time = time.time()\n",
    "\n",
    "for c, url in enumerate(path_urls[:1], 1):\n",
    "    \n",
    "    # Derive save-to path from url\n",
    "    save_file_name = url.split('/')[-1].replace('.gz', '')\n",
    "    \n",
    "    if 'cdx-' in save_file_name: # don't download non cdx-index files\n",
    "        save_path = os.path.join(index_folder, save_file_name)\n",
    "\n",
    "        # Open a stream Request to the URL, define generator\n",
    "        r = requests.get(url, stream=True)\n",
    "        file_size = int(r.headers['Content-Length'])\n",
    "        total_chunks = file_size / chunk_size\n",
    "        print(f'Number of chunks in file {int(total_chunks):,}')\n",
    "        \n",
    "        data_stream = decompress_stream(r.iter_content(chunk_size))\n",
    "        \n",
    "        # Create file, wrtie data chunks to it:\n",
    "        save_file = open(save_path, 'wb')\n",
    "\n",
    "#         if c % 10 == 0 or c == 1:\n",
    "#             sys.stdout.write('\\rDownloading file {} out of {}'.format(c, len(path_urls)))\n",
    "#             sys.stdout.flush()\n",
    "\n",
    "        for i in range(n_chunks):\n",
    "#             print(i)\n",
    "            if i % 10 == 0 or i == 0:\n",
    "                sys.stdout.write('\\rDownloading chunk {} out of {}'.format(i, n_chunks))\n",
    "                sys.stdout.flush()\n",
    "            chunk = next(data_stream)\n",
    "            if chunk:\n",
    "                save_file.write(chunk)\n",
    "#                 print(f'File size: {os.path.getsize(save_path)}')\n",
    "\n",
    "        # Close file & Request connection\n",
    "        save_file.close()\n",
    "        r.close()\n",
    "#         print(f'New file size: {os.path.getsize(save_path):,}')\n",
    "        print('')\n",
    "        \n",
    "\n",
    "\n",
    "duration = (time.time() - start_time) / 60\n",
    "print('Downloads complete!')\n",
    "\n",
    "# Process / parse the files\n",
    "i = 1\n",
    "master_df = pd.DataFrame()\n",
    "\n",
    "start_time = time.time()\n",
    "for file in ['cdx-00000']:#os.listdir(index_folder): #[:50]:\n",
    "    if 'cdx-' in file:\n",
    "        if i % 10 == 0 or i == 1:\n",
    "            sys.stdout.write('\\rParsing file {} out of {}'.format(i, len(os.listdir(index_folder))))\n",
    "            sys.stdout.flush()\n",
    "        \n",
    "        file_path = os.path.join(index_folder, file)\n",
    "        df = parse_index_file(file_path)\n",
    "        \n",
    "        master_df = pd.concat([master_df, df], sort=False)\n",
    "        i += 1\n",
    "\n",
    "print('')\n",
    "print('Parsing complete! {:,} total records extracted.'.format(len(master_df)))\n",
    "# print('Elapsed time: {:.0f} minutes'.format(duration))"
   ]
  },
  {
   "cell_type": "markdown",
   "metadata": {},
   "source": [
    "WTH:\n",
    "- 100 chunks --> 1,300 records\n",
    "- 1000 chunks --> 3,000 records\n",
    "- 5000 chunks --> 3,000 records"
   ]
  },
  {
   "cell_type": "code",
   "execution_count": 69,
   "metadata": {},
   "outputs": [
    {
     "name": "stdout",
     "output_type": "stream",
     "text": [
      "Number of chunks in file 675,711\n"
     ]
    }
   ],
   "source": [
    "url = path_urls[0]\n",
    "r = requests.get(url, stream=True)\n",
    "file_size = int(r.headers['Content-Length'])\n",
    "total_chunks = file_size / chunk_size\n",
    "print(f'Number of chunks in file {int(total_chunks):,}')\n",
    "data_stream = decompress_stream(r.iter_content(chunk_size))"
   ]
  },
  {
   "cell_type": "code",
   "execution_count": 70,
   "metadata": {},
   "outputs": [],
   "source": [
    "data = []\n",
    "chunk = next(data_stream)\n",
    "data.append(chunk)"
   ]
  },
  {
   "cell_type": "code",
   "execution_count": 71,
   "metadata": {
    "collapsed": true
   },
   "outputs": [
    {
     "data": {
      "text/plain": [
       "b'0,0,1)/ 20191118114721 {\"url\": \"http://1.0.0/\", \"mime\": \"text/html\", \"mime-detected\": \"text/html\", \"status\": \"403\", \"digest\": \"BSLJKUCKYURNLM3IWKP45ZYNTS3AISL6\", \"length\": \"1902\", \"offset\": \"14531\", \"filename\": \"crawl-data/CC-MAIN-2019-47/segments/1573496669755.17/crawldiagnostics/CC-MAIN-20191118104047-20191118132047-00107.warc.gz\"}\\n0,0,1)/robots.txt 20191118114721 {\"url\": \"http://1.0.0/robots.txt\", \"mime\": \"text/html\", \"mime-detected\": \"text/html\", \"status\": \"403\", \"digest\": \"XJRHYYWVMGQXDNSPYDODVZ7AEWGUZE26\", \"length\": \"1908\", \"offset\": \"3747\", \"filename\": \"crawl-data/CC-MAIN-2019-47/segments/1573496669755.17/robotstxt/CC-MAIN-20191118104047-20191118132047-00070.warc.gz\"}\\n0,102,126,13:8081)/ 20191121011733 {\"url\": \"http://13.126.102.0:8081/\", \"mime\": \"text/html\", \"mime-detected\": \"application/xhtml+xml\", \"status\": \"200\", \"digest\": \"WHIH3EQGQHFPB4LQIEUK6OTOPESI5AFZ\", \"length\": \"3914\", \"offset\": \"939069\", \"filename\": \"crawl-data/CC-MAIN-2019-47/segments/1573496670643.58/warc/CC-MAIN-20191121000300-20191121024300-00085.warc.gz\", \"charset\": \"UTF-8\", \"languages\": \"eng\"}\\n0,102,126,13:8081)/robots.txt 20191121011733 {\"url\": \"http://13.126.102.0:8081/robots.txt\", \"mime\": \"text/html\", \"mime-detected\": \"application/xhtml+xml\", \"status\": \"404\", \"digest\": \"AS23RBWCBWELK7XKNWH7RATCJJFMDZI5\", \"length\": \"1115\", \"offset\": \"2890\", \"filename\": \"crawl-data/CC-MAIN-2019-47/segments/1573496670643.58/robotstxt/CC-MAIN-20191121000300-20191121024300-00272.warc.gz\"}\\n0,110,222,18)/bruxism 20191119195841 {\"url\": \"http://18.222.110.0/bruxism/\", \"mime\": \"text/html\", \"mime-detected\": \"application/xhtml+xml\", \"status\": \"200\", \"digest\": \"YSM2B2XM7GV6O3PZNVGIEVT3O7WMARNT\", \"length\": \"30118\", \"offset\": \"1127143\", \"filename\": \"crawl-data/CC-MAIN-2019-47/segments/1573496670255.18/warc/CC-MAIN-20191119195450-20191119223450-00094.warc.gz\", \"charset\": \"UTF-8\", \"languages\": \"eng\"}\\n0,110,222,18)/children 20191119211958 {\"url\": \"http://18.222.110.0/children/\", \"mime\": \"text/html\", \"mime-detected\": \"application/xhtml+xml\", \"status\": \"200\", \"digest\": \"XUBZKAMBKOXSKJRQHS3VF4N5EAA7OTC7\", \"length\": \"28678\", \"offset\": \"1353987\", \"filename\": \"crawl-data/CC-MAIN-2019-47/segments/1573496670255.18/warc/CC-MAIN-20191119195450-20191119223450-00465.warc.gz\", \"charset\": \"UTF-8\", \"languages\": \"eng\"}\\n0,110,222,18)/facial-aesthetics 20191119195846 {\"url\": \"http://18.222.110.0/facial-aesthetics/\", \"mime\": \"text/html\", \"mime-detected\": \"application/xhtml+xml\", \"status\": \"200\", \"digest\": \"YZBQMPQXVSK22VYXFBEEQYV4LDH2DWKT\", \"length\": \"29722\", \"offset\": \"1025626\", \"filename\": \"crawl-data/CC-MAIN-2019-47/segments/1573496670255.18/warc/CC-MAIN-20191119195450-20191119223450-00406.warc.gz\", \"charset\": \"UTF-8\", \"languages\": \"eng\"}\\n0,110,222,18)/general-dentistry 20191119202823 {\"url\": \"http://18.222.110.0/general-dentistry/\", \"mime\": \"text/html\", \"mime-detected\": \"application/xhtml+xml\", \"status\": \"200\", \"digest\": \"46H75PEOPWSFLOOHYYFUUBTQTPFT22WT\", \"length\": \"32010\", \"offset\": \"1108906\", \"filename\": \"crawl-data/CC-MAIN-2019-47/segments/1573496670255.18/warc/CC-MAIN-20191119195450-20191119223450-00345.warc.gz\", \"charset\": \"UTF-8\", \"languages\": \"eng\"}\\n0,110,222,18)/orthodontics 20191119211031 {\"url\": \"http://18.222.110.0/orthodontics/\", \"mime\": \"text/html\", \"mime-detected\": \"application/xhtml+xml\", \"status\": \"200\", \"digest\": \"5R5C6G5JJZGUDVRBLZYYCRQ3COZ3RSOT\", \"length\": \"31933\", \"offset\": \"1382548\", \"filename\": \"crawl-data/CC-MAIN-2019-47/segments/1573496670255.18/warc/CC-MAIN-20191119195450-20191119223450-00192.warc.gz\", \"charset\": \"UTF-8\", \"languages\": \"eng\"}\\n0,110,222,18)/robots.txt 20191119195841 {\"url\": \"http://18.222.110.0/robots.txt\", \"mime\": \"text/html\", \"mime-detected\": \"text/html\", \"status\": \"404\", \"digest\": \"XXW6D365ALXMHZPOGTVVKXSEEJ6SXMXR\", \"length\": \"601\", \"offset\": \"6941\", \"filename\": \"crawl-data/CC-MAIN-2019-47/segments/1573496670255.18/robotstxt/CC-MAIN-2019111'"
      ]
     },
     "execution_count": 71,
     "metadata": {},
     "output_type": "execute_result"
    }
   ],
   "source": [
    "chunk"
   ]
  },
  {
   "cell_type": "code",
   "execution_count": 75,
   "metadata": {},
   "outputs": [],
   "source": [
    "data = ''\n",
    "data += chunk.decode()"
   ]
  },
  {
   "cell_type": "code",
   "execution_count": 76,
   "metadata": {},
   "outputs": [
    {
     "data": {
      "text/plain": [
       "3883"
      ]
     },
     "execution_count": 76,
     "metadata": {},
     "output_type": "execute_result"
    }
   ],
   "source": [
    "len(data)"
   ]
  },
  {
   "cell_type": "code",
   "execution_count": 77,
   "metadata": {},
   "outputs": [],
   "source": [
    "chunk = next(data_stream)\n",
    "data += chunk.decode()"
   ]
  },
  {
   "cell_type": "code",
   "execution_count": 78,
   "metadata": {},
   "outputs": [
    {
     "data": {
      "text/plain": [
       "8461"
      ]
     },
     "execution_count": 78,
     "metadata": {},
     "output_type": "execute_result"
    }
   ],
   "source": [
    "len(data)"
   ]
  },
  {
   "cell_type": "code",
   "execution_count": null,
   "metadata": {},
   "outputs": [],
   "source": []
  },
  {
   "cell_type": "code",
   "execution_count": 79,
   "metadata": {},
   "outputs": [
    {
     "name": "stdout",
     "output_type": "stream",
     "text": [
      "14624\n",
      "21192\n",
      "27132\n",
      "33061\n",
      "38574\n",
      "45339\n",
      "51835\n",
      "58175\n",
      "64031\n",
      "72916\n"
     ]
    }
   ],
   "source": [
    "for _ in range(10):\n",
    "    chunk = next(data_stream)\n",
    "    data += chunk.decode()\n",
    "    print(len(data))"
   ]
  },
  {
   "cell_type": "code",
   "execution_count": 80,
   "metadata": {},
   "outputs": [],
   "source": [
    "r.close()"
   ]
  },
  {
   "cell_type": "code",
   "execution_count": 82,
   "metadata": {},
   "outputs": [],
   "source": [
    "import numpy as np"
   ]
  },
  {
   "cell_type": "code",
   "execution_count": 85,
   "metadata": {},
   "outputs": [],
   "source": [
    "url = path_urls[0]\n",
    "r = requests.get(url, stream=True)\n",
    "data_stream = decompress_stream(r.iter_content(chunk_size))\n",
    "\n",
    "ns = np.arange(1000)\n",
    "data_size = []\n",
    "\n",
    "for _ in ns:\n",
    "    chunk = next(data_stream)\n",
    "    data += chunk.decode()\n",
    "    data_size.append(len(data))\n",
    "\n",
    "r.close()"
   ]
  },
  {
   "cell_type": "code",
   "execution_count": 88,
   "metadata": {},
   "outputs": [
    {
     "data": {
      "text/plain": [
       "<matplotlib.collections.PathCollection at 0x11e4f8a90>"
      ]
     },
     "execution_count": 88,
     "metadata": {},
     "output_type": "execute_result"
    },
    {
     "data": {
      "image/png": "[encoded data removed]",
      "text/plain": [
       "<Figure size 432x288 with 1 Axes>"
      ]
     },
     "metadata": {
      "needs_background": "light"
     },
     "output_type": "display_data"
    }
   ],
   "source": [
    "plt.scatter(ns, data_size)"
   ]
  },
  {
   "cell_type": "code",
   "execution_count": null,
   "metadata": {},
   "outputs": [],
   "source": []
  },
  {
   "cell_type": "code",
   "execution_count": 100,
   "metadata": {},
   "outputs": [],
   "source": [
    "url = path_urls[0]\n",
    "r = requests.get(url, stream=True)\n",
    "data_stream = decompress_stream(r.iter_content(chunk_size*8))\n",
    "\n",
    "ns = np.arange(200)\n",
    "data_size2 = []\n",
    "\n",
    "for _ in ns:\n",
    "    chunk = next(data_stream)\n",
    "    data += chunk.decode()\n",
    "    data_size2.append(len(data))\n",
    "\n",
    "r.close()"
   ]
  },
  {
   "cell_type": "code",
   "execution_count": 94,
   "metadata": {},
   "outputs": [
    {
     "data": {
      "image/png": "[encoded data removed]",
      "text/plain": [
       "<Figure size 432x288 with 1 Axes>"
      ]
     },
     "metadata": {
      "needs_background": "light"
     },
     "output_type": "display_data"
    }
   ],
   "source": [
    "plt.scatter(ns, data_size, label=f'Chunk size = {chunk_size} MB')\n",
    "plt.scatter(ns, data_size2, label=f'Chunk size = {chunk_size*8} MB')\n",
    "plt.xlabel('Number of chunks downloaded')\n",
    "plt.ylabel('Number of btyes downloaded')\n",
    "plt.legend();"
   ]
  },
  {
   "cell_type": "code",
   "execution_count": 95,
   "metadata": {},
   "outputs": [
    {
     "data": {
      "text/plain": [
       "25"
      ]
     },
     "execution_count": 95,
     "metadata": {},
     "output_type": "execute_result"
    }
   ],
   "source": [
    "np.argmax(data_size2)"
   ]
  },
  {
   "cell_type": "markdown",
   "metadata": {},
   "source": [
    "Increasing chunk size by 8 doubled the data size.\n",
    "\n",
    "I needed to triple the data size..."
   ]
  },
  {
   "cell_type": "code",
   "execution_count": 99,
   "metadata": {},
   "outputs": [],
   "source": [
    "url = path_urls[0]\n",
    "r = requests.get(url, stream=True)\n",
    "data_stream = decompress_stream(r.iter_content(chunk_size*16))\n",
    "\n",
    "ns = np.arange(100)\n",
    "data_size3 = []\n",
    "\n",
    "for _ in ns:\n",
    "    chunk = next(data_stream)\n",
    "    data += chunk.decode()\n",
    "    data_size3.append(len(data))\n",
    "\n",
    "r.close()"
   ]
  },
  {
   "cell_type": "code",
   "execution_count": 102,
   "metadata": {},
   "outputs": [
    {
     "data": {
      "image/png": "[encoded data removed]",
      "text/plain": [
       "<Figure size 432x288 with 1 Axes>"
      ]
     },
     "metadata": {
      "needs_background": "light"
     },
     "output_type": "display_data"
    }
   ],
   "source": [
    "plt.scatter(np.arange(len(data_size)), data_size, label=f'Chunk size = {chunk_size} MB')\n",
    "plt.scatter(np.arange(len(data_size2)), data_size2, label=f'Chunk size = {chunk_size*8} MB')\n",
    "plt.scatter(np.arange(len(data_size3)), data_size3, label=f'Chunk size = {chunk_size*16} MB')\n",
    "\n",
    "plt.xlabel('Number of chunks downloaded')\n",
    "plt.ylabel('Number of btyes downloaded')\n",
    "plt.legend();"
   ]
  },
  {
   "cell_type": "code",
   "execution_count": null,
   "metadata": {},
   "outputs": [],
   "source": [
    "url = path_urls[0]"
   ]
  },
  {
   "cell_type": "code",
   "execution_count": 107,
   "metadata": {},
   "outputs": [],
   "source": [
    "def get_url_data(url, n_chunks, chunk_size):\n",
    "    r = requests.get(url, stream=True)\n",
    "    data_stream = decompress_stream(r.iter_content(chunk_size))\n",
    "\n",
    "    ns = np.arange(n_chunks)\n",
    "    data = ''\n",
    "    data_size = []\n",
    "\n",
    "    for _ in ns:\n",
    "        chunk = next(data_stream)\n",
    "        data += chunk.decode()\n",
    "        data_size.append(len(data))\n",
    "\n",
    "    r.close()\n",
    "    \n",
    "    return ns, data_size"
   ]
  },
  {
   "cell_type": "code",
   "execution_count": 105,
   "metadata": {},
   "outputs": [
    {
     "data": {
      "text/plain": [
       "1024"
      ]
     },
     "execution_count": 105,
     "metadata": {},
     "output_type": "execute_result"
    }
   ],
   "source": [
    "chunk_size"
   ]
  },
  {
   "cell_type": "code",
   "execution_count": 109,
   "metadata": {},
   "outputs": [],
   "source": [
    "ns8, data_size8 = get_url_data(url, 200, chunk_size*8)"
   ]
  },
  {
   "cell_type": "code",
   "execution_count": 110,
   "metadata": {},
   "outputs": [],
   "source": [
    "ns16, data_size16 = get_url_data(url, 75, chunk_size*16)"
   ]
  },
  {
   "cell_type": "code",
   "execution_count": 111,
   "metadata": {},
   "outputs": [],
   "source": [
    "ns4, data_size4 = get_url_data(url, 200, chunk_size*4)"
   ]
  },
  {
   "cell_type": "code",
   "execution_count": 112,
   "metadata": {},
   "outputs": [],
   "source": [
    "ns = np.arange(1000)"
   ]
  },
  {
   "cell_type": "code",
   "execution_count": 113,
   "metadata": {},
   "outputs": [
    {
     "data": {
      "image/png": "[encoded data removed]",
      "text/plain": [
       "<Figure size 432x288 with 1 Axes>"
      ]
     },
     "metadata": {
      "needs_background": "light"
     },
     "output_type": "display_data"
    }
   ],
   "source": [
    "plt.scatter(ns, data_size, label=f'Chunk size = {chunk_size} MB')\n",
    "plt.scatter(ns4, data_size4, label=f'Chunk size = {chunk_size*4} MB')\n",
    "plt.scatter(ns8, data_size8, label=f'Chunk size = {chunk_size*8} MB')\n",
    "plt.scatter(ns16, data_size16, label=f'Chunk size = {chunk_size*16} MB')\n",
    "\n",
    "plt.xlabel('Number of chunks downloaded')\n",
    "plt.ylabel('Number of btyes downloaded')\n",
    "plt.legend();"
   ]
  },
  {
   "cell_type": "code",
   "execution_count": 114,
   "metadata": {},
   "outputs": [],
   "source": [
    "ns1, data_size1 = get_url_data(url, 500, 512)"
   ]
  },
  {
   "cell_type": "code",
   "execution_count": 115,
   "metadata": {},
   "outputs": [
    {
     "data": {
      "image/png": "[encoded data removed]",
      "text/plain": [
       "<Figure size 432x288 with 1 Axes>"
      ]
     },
     "metadata": {
      "needs_background": "light"
     },
     "output_type": "display_data"
    }
   ],
   "source": [
    "plt.scatter(ns1, data_size1, label=f'Chunk size = 512 MB')\n",
    "plt.scatter(ns, data_size, label=f'Chunk size = {chunk_size} MB')\n",
    "plt.scatter(ns4, data_size4, label=f'Chunk size = {chunk_size*4} MB')\n",
    "plt.scatter(ns8, data_size8, label=f'Chunk size = {chunk_size*8} MB')\n",
    "plt.scatter(ns16, data_size16, label=f'Chunk size = {chunk_size*16} MB')\n",
    "\n",
    "plt.xlabel('Number of chunks downloaded')\n",
    "plt.ylabel('Number of btyes downloaded')\n",
    "plt.legend();"
   ]
  },
  {
   "cell_type": "code",
   "execution_count": 118,
   "metadata": {},
   "outputs": [
    {
     "data": {
      "text/plain": [
       "'691928612'"
      ]
     },
     "execution_count": 118,
     "metadata": {},
     "output_type": "execute_result"
    }
   ],
   "source": [
    "r = requests.get(url, stream=True)\n",
    "r.headers['Content-Length']"
   ]
  },
  {
   "cell_type": "markdown",
   "metadata": {},
   "source": [
    "We are not at the size of the file"
   ]
  },
  {
   "cell_type": "code",
   "execution_count": 119,
   "metadata": {},
   "outputs": [
    {
     "data": {
      "text/plain": [
       "<generator object Response.iter_content.<locals>.generate at 0x114fe0af0>"
      ]
     },
     "execution_count": 119,
     "metadata": {},
     "output_type": "execute_result"
    }
   ],
   "source": [
    "r.iter_content(chunk_size = chunk_size)"
   ]
  },
  {
   "cell_type": "code",
   "execution_count": 120,
   "metadata": {},
   "outputs": [],
   "source": [
    "r.close()"
   ]
  },
  {
   "cell_type": "code",
   "execution_count": 133,
   "metadata": {},
   "outputs": [],
   "source": [
    "def decompress_stream_batch(chunk):\n",
    "    o = zlib.decompressobj(16 + zlib.MAX_WBITS)\n",
    "\n",
    "    o.decompress(chunk)\n",
    "\n",
    "    return o.flush()"
   ]
  },
  {
   "cell_type": "code",
   "execution_count": 122,
   "metadata": {},
   "outputs": [],
   "source": [
    "def get_url_data(url, n_chunks, chunk_size):\n",
    "    r = requests.get(url, stream=True)\n",
    "#     data_stream = decompress_stream(r.iter_content(chunk_size))\n",
    "    data_stream = decompress_stream_batch(r.iter_content(chunk_size))\n",
    "    \n",
    "    ns = np.arange(n_chunks)\n",
    "    data = ''\n",
    "    data_size = []\n",
    "\n",
    "    for _ in ns:\n",
    "        chunk = next(data_stream)\n",
    "        data += chunk.decode()\n",
    "        data_size.append(len(data))\n",
    "\n",
    "    r.close()\n",
    "    \n",
    "    return ns, data_size"
   ]
  },
  {
   "cell_type": "code",
   "execution_count": 123,
   "metadata": {
    "collapsed": true
   },
   "outputs": [
    {
     "ename": "TypeError",
     "evalue": "'bytes' object is not an iterator",
     "output_type": "error",
     "traceback": [
      "\u001b[0;31m---------------------------------------------------------------------------\u001b[0m",
      "\u001b[0;31mTypeError\u001b[0m                                 Traceback (most recent call last)",
      "\u001b[0;32m<ipython-input-123-d037eb6425e1>\u001b[0m in \u001b[0;36m<module>\u001b[0;34m\u001b[0m\n\u001b[0;32m----> 1\u001b[0;31m \u001b[0mns0\u001b[0m\u001b[0;34m,\u001b[0m \u001b[0mdata_size0\u001b[0m \u001b[0;34m=\u001b[0m \u001b[0mget_url_data\u001b[0m\u001b[0;34m(\u001b[0m\u001b[0murl\u001b[0m\u001b[0;34m,\u001b[0m \u001b[0;36m500\u001b[0m\u001b[0;34m,\u001b[0m \u001b[0;36m1024\u001b[0m\u001b[0;34m)\u001b[0m\u001b[0;34m\u001b[0m\u001b[0;34m\u001b[0m\u001b[0m\n\u001b[0m",
      "\u001b[0;32m<ipython-input-122-28e0e5a8c942>\u001b[0m in \u001b[0;36mget_url_data\u001b[0;34m(url, n_chunks, chunk_size)\u001b[0m\n\u001b[1;32m      9\u001b[0m \u001b[0;34m\u001b[0m\u001b[0m\n\u001b[1;32m     10\u001b[0m     \u001b[0;32mfor\u001b[0m \u001b[0m_\u001b[0m \u001b[0;32min\u001b[0m \u001b[0mns\u001b[0m\u001b[0;34m:\u001b[0m\u001b[0;34m\u001b[0m\u001b[0;34m\u001b[0m\u001b[0m\n\u001b[0;32m---> 11\u001b[0;31m         \u001b[0mchunk\u001b[0m \u001b[0;34m=\u001b[0m \u001b[0mnext\u001b[0m\u001b[0;34m(\u001b[0m\u001b[0mdata_stream\u001b[0m\u001b[0;34m)\u001b[0m\u001b[0;34m\u001b[0m\u001b[0;34m\u001b[0m\u001b[0m\n\u001b[0m\u001b[1;32m     12\u001b[0m         \u001b[0mdata\u001b[0m \u001b[0;34m+=\u001b[0m \u001b[0mchunk\u001b[0m\u001b[0;34m.\u001b[0m\u001b[0mdecode\u001b[0m\u001b[0;34m(\u001b[0m\u001b[0;34m)\u001b[0m\u001b[0;34m\u001b[0m\u001b[0;34m\u001b[0m\u001b[0m\n\u001b[1;32m     13\u001b[0m         \u001b[0mdata_size\u001b[0m\u001b[0;34m.\u001b[0m\u001b[0mappend\u001b[0m\u001b[0;34m(\u001b[0m\u001b[0mlen\u001b[0m\u001b[0;34m(\u001b[0m\u001b[0mdata\u001b[0m\u001b[0;34m)\u001b[0m\u001b[0;34m)\u001b[0m\u001b[0;34m\u001b[0m\u001b[0;34m\u001b[0m\u001b[0m\n",
      "\u001b[0;31mTypeError\u001b[0m: 'bytes' object is not an iterator"
     ]
    }
   ],
   "source": [
    "ns0, data_size0 = get_url_data(url, 500, 1024)"
   ]
  },
  {
   "cell_type": "code",
   "execution_count": 148,
   "metadata": {},
   "outputs": [],
   "source": [
    "r.close()"
   ]
  },
  {
   "cell_type": "code",
   "execution_count": 149,
   "metadata": {},
   "outputs": [],
   "source": [
    "r = requests.get(url, stream=True)\n",
    "#     data_stream = decompress_stream(r.iter_content(chunk_size))\n",
    "data_stream = r.iter_content(chunk_size)"
   ]
  },
  {
   "cell_type": "code",
   "execution_count": 150,
   "metadata": {},
   "outputs": [
    {
     "data": {
      "text/plain": [
       "<generator object Response.iter_content.<locals>.generate at 0x115a6cd58>"
      ]
     },
     "execution_count": 150,
     "metadata": {},
     "output_type": "execute_result"
    }
   ],
   "source": [
    "data_stream"
   ]
  },
  {
   "cell_type": "code",
   "execution_count": 151,
   "metadata": {},
   "outputs": [],
   "source": [
    "chunk = next(data_stream)"
   ]
  },
  {
   "cell_type": "code",
   "execution_count": 152,
   "metadata": {
    "collapsed": true
   },
   "outputs": [
    {
     "data": {
      "text/plain": [
       "b'\\x1f\\x8b\\x08\\x00\\x00\\x00\\x00\\x00\\x00\\x03\\xec\\xbdis\\xe3F\\xd2.\\xfa\\xfd\\xfe\\x8a\\x89\\x89\\xe8\\tw\\\\\\x89B\\xed\\x80#\\x1co`#\\t\\xee\\x0bH\\x00\\xfc\\xd2AI\\xec\\x16mI\\x94)\\xc9\\xdd\\xed\\x1b\\xe7\\xfc\\xf6[\\x05n@\\x01\\xa0H\\x80\\x9b\\xe7\\x9c\\x1e\\xdb#\\xaa\\t\\x10\\xcc\\'\\xb3r\\xcfT\\xae\\x94+\\xf0\\xf9\\xe6_P\\x01\\x1a\\x00@\\x05\\x003\\x08\\xfe\\xf5\\xff\\xfd\\xfb}\\xfe\\xf8\\xef_\\xff\\xf5\\xef\\x87\\xb7\\xb7\\x97_on@I))7\\xff\\xbe\\xfa\\xd7\\xbf\\x9f\\xa6O\\x13\\xf1\\x17o\\x93\\x1fo7\\x0foO\\x8f\\xab_^\\xdfO\\xde&wo\\x93\\xfb\\xc4\\xdf\\xbe\\xbe\\x8d\\xdf\\xde_\\xc5\\xaf\\xb1\\x82\\xc4/\\xee\\xa7\\xdf&\\xafo\\xe2\\x17F\\xbfQ\\xab\\x0f\\xccz0\\xe8\\xb5\\x1aM\\xe4x\\xf5\\x0e&\\xa3\\xa0\\xe5\\xf6\\x91\\xee\\xf4\\x1bT\\xbc\\xfbq\\xf2\\xfc\\xed\\xedA\\xbc\\x1bh\\n\\x14\\xbf\\x99}\\xfd\\xfa:\\t\\xaf\\x07\\x98  ~\\xf5u\\xca\\xdf6^<\\xda\\xdd|\\xfc\\xfd\\xf1\\xfa~\\xfc6\\xbe1\\xcd\\xeb\\xa6\\xee\\xb4\\xae\\xc5\\xd7\\xbb\\xc6\\xec\\xe6u\\xf2\\xedi\\xf2\\xfc\\xf6z\\x03\\x08CX\\xa3\\x94j\\x8c\\x90\\x12`7\\xe1E\\xf7\\xd3\\xf1\\xb7\\xe7\\xd9\\xeb\\xdb\\xf4\\xee5viH\\x19\\x05+\\x98m^\"(^*\\nPX\\xe9\\xfbx~W\\xfa\\xf6\\xf7\\xbf\\xff\\xd7\\xff\\xa3,\\xe89\\x9f\\xdd\\xce\\xde^Ko?\\xdev\\xa3\\xec\\xe6\\xfd\\x87\\xa7\\xb1_\\xebU\\x83\\xc0\\x1b6+]\\xdfj\\xf5;\\x81\\xd5\\xb6\\x86#\\xa6\\xdb^e0\\xb2a\\x92\\xc6j\\x9c\\xc6\\x88av\\x10\\x12/\\xbe$\\xff\\x8e;\\xd3VaJ\\x8c\\xb6@\\x81W\\x00\\xd2+\\x80~U\\x15u\\xc3\\xb7\\x10(\\x000\\x84\\x92\\xd4E%\\xfe\\xfe\\x12\\xbf\\xae\\xa4\\x84\\x97\\xec\\xc1\\xc3\\xe3\\x97\\x97\\xc7\\xe9\\xdd\\xf8m:{\\xbe\\xf9!\\xde\\xf5\\xff\\xfe\\x90i\\r\\x15%Nk\\xaf\\xeaT\\x91\\xdd\\xadt\\xab\\xe5\\x8e\\x81\\x1b]\\xc7\\x1e\\xd4i\\xdbmw\\xec\\xbeC\\xf4\\xf2(Nk\\xa4\\x01\\x1c\\xa7\\xb5\\x864\\x85jE\\xa8\\xcd\\x14\\x8aQ\\x89\\xa87\\x82n\\x12\\xa19\\x99\\x14\\x05)\\xca\\xe6%\\xc4\\xe2%\\xff\\xadJ\\xd6\\x84\\xe6\\x1f~\\xf70\\x9e/\\x9fh\\xe0\\x96\\xafC\\x86x\\x1c?\\x7f{\\x1f\\xf3/*~\\xcb\\xbfB: \\t\\xc6\\xdf\\x03\\x9a<B\\xb0\\x03H\\x9c\\xb5\\xe2 \\xe9}\\x88z\\x86g\\x1a\\x9e\\xdd\\xa83\\xbf\\xde\\xf2\\xaa\\xac\\xa7\\xbbf\\xadVnZ#\\x87H\\x02\\x01\\x00\\x89\\x83\\x04UM9\\x08DY\\x02\\x91\\x8d\\x13d0.\\x10@\\xb9\\x82\\x90c\\xa0~\\xbe\\xb9\\x9d\\xbf\\xff\\x98\\xbe>\\xad\\x0e\\x1c\\rhD\\xc5)\\x07\\x8eZ\\xe2W\\x94\\xf8\\x95\\xfc\\xdcY^sd\\xa9\\x08\\xfaMh@\\xbf\\xc9*C\\xdaF\\x9dQkXq\\xec\\xa1\\x8b\\xda\\xcck\\xea\\xbd\\x96+I\\x05g\\x18\\xe9\\x08\\xe24`\\x00\\xa3bD\\x87\\xe2\\x14J\\x95\\x8b\\x90V\\x98(\\xeb\\x97\\x10\"\\xf1\\x92\\xa3\\xa0\\xe1|r\\x11\\xc1\\xe5\\xeea\\xfax?\\x9f<\\xaf\\x81\\x81@@\\xb3\\x1d\\x98\\xd5EGF\\xc6\\x1f\\x18\\xa3\\xba\\xde4\\xeam\\xbf_\\xaf\\xf5\\xba\\xd5>\\x1a\\x96q\\x8b\\xd8\\xba\\xce\\xda\\xae\\xc9\\xe2\\xc8@\\x952\\x19\\x19D\\x90\\xa6\\x16\\xd2\\x0f\\xf9\\x90\\xc14\\xe7\\x89\\x15A\\xe6\\xeb\\xf8n:~\\xbc\\x1esb<L\\x84\\xd2\\x8f\\xcb\\x0e\\xdd\\x0eQ\\xe2\\xeacK\\xd1\\xc8\\xe86;]\\x7f\\xd8\\xafC8\\x0c\\xfc\\xb2a\\xdb\\xdd`\\x88\\x1bV\\x15Z^]\\x92\"\\xa81(\\x1bK\\x9c\\xd0t\\xa1\\xefO\\x8c\\x95B\\x0bc\\xf5m\\xf2<\\x99sr\\xdf\\xf3\\xe7\\x99\\xbe\\xbe\\xcd\\x7fn\\xc4I\\x81*L\\xd1/Q\\xac\\x12W\\x1f\\x19+L\\xab\\x8ct\\xecv\\xc7\\xeb\\x97\\x1b\\xed6\\xb7\\xbf\\xca\\x83\\x81\\xe1v\\xddN\\xd9\\x85\\xd0\\x93O<\\xfeU\\x14\\xf9\\xc4S\\xb8\\x969\\x03V\\xfc\\xff\\nc5\\x9b\\xbf=\\xcc\\xeeg\\xcf1\\x91\\xe2\\xa7\\x9e\\x82>PG\\xd1\\x0b\\x8f\\x8c\\x10\\xe9\\x11\\x93VH\\xad6\\xaa\\x0c\\xaca\\xcfh\\x8c\\x82\\xc0\\xecu\\x91\\xd9\\x1e\\xa1^\\xbf-#\\x044\\x84\\xe4\\x93O\\x85\\x04\\xab\\xa7G\\x88\\xffX\\x18\\xa1\\xa4\\x7f\\xb2\\x93\\xb9pP7E\\xb2\\xca|\\xdf\\xa3\\x16\\xa2Do\\xf8\\xcd\\xea\\xa8\\xd3\\xae\\xb8\\xc3a\\xdd\\xef\\xdbv\\x8d\\xf6\\xfd\\xa6\\xdf\\x8b\\x03B\\x15\\x10\\x87\\x83j\\xb8\\x90#\\xb8\\xc6\"\\xd3K\\xc9\\x16'"
      ]
     },
     "execution_count": 152,
     "metadata": {},
     "output_type": "execute_result"
    }
   ],
   "source": [
    "chunk"
   ]
  },
  {
   "cell_type": "code",
   "execution_count": 134,
   "metadata": {},
   "outputs": [],
   "source": [
    "# decomp_chunk = decompress_stream_batch(chunk)"
   ]
  },
  {
   "cell_type": "code",
   "execution_count": 135,
   "metadata": {},
   "outputs": [
    {
     "data": {
      "text/plain": [
       "b''"
      ]
     },
     "execution_count": 135,
     "metadata": {},
     "output_type": "execute_result"
    }
   ],
   "source": [
    "# decomp_chunk"
   ]
  },
  {
   "cell_type": "code",
   "execution_count": 153,
   "metadata": {},
   "outputs": [],
   "source": [
    "o = zlib.decompressobj(16 + zlib.MAX_WBITS)"
   ]
  },
  {
   "cell_type": "code",
   "execution_count": 154,
   "metadata": {
    "collapsed": true
   },
   "outputs": [
    {
     "data": {
      "text/plain": [
       "b'0,0,1)/ 20191118114721 {\"url\": \"http://1.0.0/\", \"mime\": \"text/html\", \"mime-detected\": \"text/html\", \"status\": \"403\", \"digest\": \"BSLJKUCKYURNLM3IWKP45ZYNTS3AISL6\", \"length\": \"1902\", \"offset\": \"14531\", \"filename\": \"crawl-data/CC-MAIN-2019-47/segments/1573496669755.17/crawldiagnostics/CC-MAIN-20191118104047-20191118132047-00107.warc.gz\"}\\n0,0,1)/robots.txt 20191118114721 {\"url\": \"http://1.0.0/robots.txt\", \"mime\": \"text/html\", \"mime-detected\": \"text/html\", \"status\": \"403\", \"digest\": \"XJRHYYWVMGQXDNSPYDODVZ7AEWGUZE26\", \"length\": \"1908\", \"offset\": \"3747\", \"filename\": \"crawl-data/CC-MAIN-2019-47/segments/1573496669755.17/robotstxt/CC-MAIN-20191118104047-20191118132047-00070.warc.gz\"}\\n0,102,126,13:8081)/ 20191121011733 {\"url\": \"http://13.126.102.0:8081/\", \"mime\": \"text/html\", \"mime-detected\": \"application/xhtml+xml\", \"status\": \"200\", \"digest\": \"WHIH3EQGQHFPB4LQIEUK6OTOPESI5AFZ\", \"length\": \"3914\", \"offset\": \"939069\", \"filename\": \"crawl-data/CC-MAIN-2019-47/segments/1573496670643.58/warc/CC-MAIN-20191121000300-20191121024300-00085.warc.gz\", \"charset\": \"UTF-8\", \"languages\": \"eng\"}\\n0,102,126,13:8081)/robots.txt 20191121011733 {\"url\": \"http://13.126.102.0:8081/robots.txt\", \"mime\": \"text/html\", \"mime-detected\": \"application/xhtml+xml\", \"status\": \"404\", \"digest\": \"AS23RBWCBWELK7XKNWH7RATCJJFMDZI5\", \"length\": \"1115\", \"offset\": \"2890\", \"filename\": \"crawl-data/CC-MAIN-2019-47/segments/1573496670643.58/robotstxt/CC-MAIN-20191121000300-20191121024300-00272.warc.gz\"}\\n0,110,222,18)/bruxism 20191119195841 {\"url\": \"http://18.222.110.0/bruxism/\", \"mime\": \"text/html\", \"mime-detected\": \"application/xhtml+xml\", \"status\": \"200\", \"digest\": \"YSM2B2XM7GV6O3PZNVGIEVT3O7WMARNT\", \"length\": \"30118\", \"offset\": \"1127143\", \"filename\": \"crawl-data/CC-MAIN-2019-47/segments/1573496670255.18/warc/CC-MAIN-20191119195450-20191119223450-00094.warc.gz\", \"charset\": \"UTF-8\", \"languages\": \"eng\"}\\n0,110,222,18)/children 20191119211958 {\"url\": \"http://18.222.110.0/children/\", \"mime\": \"text/html\", \"mime-detected\": \"application/xhtml+xml\", \"status\": \"200\", \"digest\": \"XUBZKAMBKOXSKJRQHS3VF4N5EAA7OTC7\", \"length\": \"28678\", \"offset\": \"1353987\", \"filename\": \"crawl-data/CC-MAIN-2019-47/segments/1573496670255.18/warc/CC-MAIN-20191119195450-20191119223450-00465.warc.gz\", \"charset\": \"UTF-8\", \"languages\": \"eng\"}\\n0,110,222,18)/facial-aesthetics 20191119195846 {\"url\": \"http://18.222.110.0/facial-aesthetics/\", \"mime\": \"text/html\", \"mime-detected\": \"application/xhtml+xml\", \"status\": \"200\", \"digest\": \"YZBQMPQXVSK22VYXFBEEQYV4LDH2DWKT\", \"length\": \"29722\", \"offset\": \"1025626\", \"filename\": \"crawl-data/CC-MAIN-2019-47/segments/1573496670255.18/warc/CC-MAIN-20191119195450-20191119223450-00406.warc.gz\", \"charset\": \"UTF-8\", \"languages\": \"eng\"}\\n0,110,222,18)/general-dentistry 20191119202823 {\"url\": \"http://18.222.110.0/general-dentistry/\", \"mime\": \"text/html\", \"mime-detected\": \"application/xhtml+xml\", \"status\": \"200\", \"digest\": \"46H75PEOPWSFLOOHYYFUUBTQTPFT22WT\", \"length\": \"32010\", \"offset\": \"1108906\", \"filename\": \"crawl-data/CC-MAIN-2019-47/segments/1573496670255.18/warc/CC-MAIN-20191119195450-20191119223450-00345.warc.gz\", \"charset\": \"UTF-8\", \"languages\": \"eng\"}\\n0,110,222,18)/orthodontics 20191119211031 {\"url\": \"http://18.222.110.0/orthodontics/\", \"mime\": \"text/html\", \"mime-detected\": \"application/xhtml+xml\", \"status\": \"200\", \"digest\": \"5R5C6G5JJZGUDVRBLZYYCRQ3COZ3RSOT\", \"length\": \"31933\", \"offset\": \"1382548\", \"filename\": \"crawl-data/CC-MAIN-2019-47/segments/1573496670255.18/warc/CC-MAIN-20191119195450-20191119223450-00192.warc.gz\", \"charset\": \"UTF-8\", \"languages\": \"eng\"}\\n0,110,222,18)/robots.txt 20191119195841 {\"url\": \"http://18.222.110.0/robots.txt\", \"mime\": \"text/html\", \"mime-detected\": \"text/html\", \"status\": \"404\", \"digest\": \"XXW6D365ALXMHZPOGTVVKXSEEJ6SXMXR\", \"length\": \"601\", \"offset\": \"6941\", \"filename\": \"crawl-data/CC-MAIN-2019-47/segments/1573496670255.18/robotstxt/CC-MAIN-2019111'"
      ]
     },
     "execution_count": 154,
     "metadata": {},
     "output_type": "execute_result"
    }
   ],
   "source": [
    "o.decompress(chunk)"
   ]
  },
  {
   "cell_type": "code",
   "execution_count": 139,
   "metadata": {},
   "outputs": [
    {
     "data": {
      "text/plain": [
       "b''"
      ]
     },
     "execution_count": 139,
     "metadata": {},
     "output_type": "execute_result"
    }
   ],
   "source": [
    "# o.flush()"
   ]
  },
  {
   "cell_type": "code",
   "execution_count": 155,
   "metadata": {},
   "outputs": [],
   "source": [
    "chunk = next(data_stream)"
   ]
  },
  {
   "cell_type": "code",
   "execution_count": 156,
   "metadata": {
    "collapsed": true
   },
   "outputs": [
    {
     "data": {
      "text/plain": [
       "b'\\x19\\x803\\x8d\\xb2\\xd7\\'\\xfe<\\xd7O\\xe3?&\\xb3\\xbf&\\xf3\\xb8\\x82!d;\\xb5\\xa5k\\x8fm\\n\\xe8\\xac\\xe22F\\x11\\xea\\xf9\\xa6\\xdb\\xf2\\x9d \\x80\\xa8\\xdf\\xb4GN\\xdf\\xf2Z:\\x92\\xd5\\x0b\\x92\\x11\\x00\\xaaB`1o<\\x9f@\\x10\\x90\\xd7Hc\\xdc\\x81\\xa1WH\\xfb|#nz\\xa3h7\\x10\\xde<L\\x1e\\x1fg\\xd7\\xdfg\\xf3\\xc7\\xfb\\xb5\\x0f\\xc3\\x8dO\\x92rx!\\x8d\\xfb/\\xdc\\x87\\x01\\x8c\\xc3\\x95~\\x8b\\xe2A\\x93\\x04R\\x8d\\xb6]n\\xf9\\x95\\xba\\xc5\\x9a~\\xcd\\x82Hw\\xadF\\x9b\\xf9\\x15\\xc4\\xb8fiUl\\t)\\x85\\xab\\x17\\xc9\\x81!T\\xc5\\x04\\x17CJ\\x85\\xa0DH\\xba\\x9b\\t8\\x8c\\x8a\\xb6yI\\x90x\\xc9\\r\\x01\\xb2\\x1fR\\x7f?\\xcc\\xae\\xd2\\xd0J\\xf12C\\x84\\x94\\xed\\x08m9\\xbe^\\x1e\\xc7\\xd3\\xe7lT\\xd6\\x7f\\xbdM\\xa3\\xf4a\\xdb\\xa0\\xdc\\xa3\\xb4\\xabm\\x86\\xbd\\x96\\xd1\\x1a6Z6\\x1d\\x19\\x06\\x19\\xf6\\x02\\xd7\\x91\\x0e0(\\xe9\\x13\\x081)\\xa8\\xef\\x97\\x90d\\xbb\\x95Y\\xb8p\\xe2I\\'\\x18\\xa75EW\\x98\\xfcJ(M\\x8dg\\x01\\xfe\\xbc0\\xe5\\x04\\xe3\\xe6\\x03\\xbfrA\\xf0\\xf0\\xe2\\x0c\\xaa\\xbf?\\xff\\xb1\\x17\\xb9\\x13\\xfa\\x029\\x18VQ\\x9f\\xb6Z\\xe5.l\\xf6\\x87>\\xf3G\\xf5@\\x0f\\xfa\\xa6O\\xbaFP\\x8b\\x93\\x1b3(\\xcb\\x00Q\\x0b\\x05Z(\\xc6\\x9c\\xb9\\xb6D\\xb58\\x81\\xb1\\n\\xc0\\xea%\\xe7\\x17(^rjCm;\\xb5_\\xa7/\\xdf\\'\\xb77o\\xf3\\xf1\\xed\\xf8\\xf1a|?\\x9b\\xdf<\\xce\\xbeM\\x9f\\x17\\xff-\\x85\\'\\xfa\\xfe8\\xecr\\xd7#G\\xc7\\xdc\\x00\\xd9m\\xec\\x05\\xa8\\xebc\\xe6\\xd7|o\\xa03\\x13v0kV\\x065*{\\x9b\\t\\x93\\x0bb&\\xd4\\xc0!PKS0\\x99\\x80qV\\xd9\\xeb\\xd8z\\x99\\xcd\\x97\\xc0\\xaaW\\x94\\xdb\\x01\\x80\\xa6I\\x10Q\\x08\\xa2J\\x8a\\x93\\th\\x89\\n\\x1b@\\xcd<\\xb2\\xf6\\x15\\x1e\\xb4\\x88\\x9b\\xe7\\x15\\x1e\\x82$\\xaf\\x9f;t\\x85\"`T\\xe5\\xd6O\\t\\xc0l\\xe1!\\n\\xe7j\\x0c6/\\x99\"^\\n\\x15\\xc2\\xa2X\\xcc\\'\\xf7\\xd39\\xff\\xfeY\\xf4{\\x9b5B\\xee\\x1e\\xdf\\tNM\\xa0\\xf26{\\x8c\\xfc\\xf5^\\xc8Hw>\\xb8\\x96\\x1f\\xf9\\x04\\xf6\\x9b=\\x86\\xba\\xedf\\xb7\\xec\\x92AE\\xc7\\xa3\\xc0Ev\\x1d\\xf5\\xdd\\x91.\\x85\\x92!Z8\\xf6Qo_\\xa1\\xf0L A\\xa8J\\'\\\\\\x94\\xe4\\xf3\\xc97\\xee\\x83O\\xe6\\x0f\\xf7\\xbf\\xffL\\xa5<\\xfb\\x88\\xf2\\xbd\\xe5\\x1d\\xaaV-8\\x1a\\x00}\\\\w\\xca\\x8d\\x8e\\xdb\\x1e\\x0c\\\\j\\x9b\\xfdv\\xdd\\xaaY\\r\\x9d\\x04n\\xc7\\x85\\xb4\\x87%\\x05\\x83\\x98\\x14\\xcb\\x07\\x00!N\\xc3\\x83@\\x90v\\\\eR\\x1f\\xc4Ed\\x17+k\\x81\\x92pY\\xe8\\x15\\x14\\xd1xm\\x93\\x13D\\xfc\\xfc\\xe3\\xb7L`\\xc2\\xe1P\\xb9e\\xb5\\x0c\\xdfkG0t\\xb9\\x1f^\\xab4\\xdb\\xc6\\x88\\xf9M.\\x05\\x95\\xa1[A\\x14\\xb9=\\x0eD\\xd7kV+q\\x04T\\x9apH(\"\\x05\\x0f*\\xa2q\\x00\\xb0\\x92\\n\\x00R\\x10\\xd1\\x00\\xdd\\xbc\\xa4H\\xbc\\xe4gT\\xc4\\x9cJ\\x03 \\x85\\xd8I\\xf5\\xb0+\\xd9\\x8f\\xe9\\x93S\\xa3_ce{\\x08\\xab\\xd0k9\\xcc\\xeb\\xeb\\xba\\xa9\\x0f\\xcaAG\\xd7\\x1b\\xb5N\\xd5\\x8c\\x03\\x00\\x90\\x1c\\x1d\\xc6\\xa0X2kM\\xfe\\xcc#(\\x13\\x03\\x02\\xa4#\\x08\\xaaW\\x9c\\xe4\\x1a\\xf7\\xc9\\x81\\xba\\xf2\\x1a\\xf8\\x11\\x89)\\x81\\xc9\\xe3F\\xe3~8\\xa7\\xb18m\\x16\\xb9\\x88\\x03\\xa7dM\\x9f6\\x9b\\xedz\\x99\\x94\\x8dJ\\xd5\\xf3\\xad\\xda\\xb0N\\x9a]\\xb7\\xee[-\\xcf\\n\\x86\\x92\\xfa\\xd54\\xc9\\x0eR`\\xd1\\xc0\\x13\\xe1\\x0c\\xa4\\xe1\\x8f\\xb2\\xde\\x82@\\n\\xc2x\\xf3R\\xc5\\xe2%gqu\\x0by\\xff\\xe7\\xeb\\xed\\xdd\\xe3\\xf4\\xfe\\xb7)\\x7f\\x07|\\xbc\\xfd\\xfd\\xfe\\xeb\\x9fo\\xf3\\x89\\x82~\\xbe\\xdci\\xdf\\xde\\xbf\\xdd\\xce\\xd8\\xd7ow\\x88L\\xdf^^\\xee\\x9e\\'\\xf7\\xf3\\xbb[\\x15\\xdf\\xde\\xfe\\xfe\\xf3I\\xfd\\xfa\\'x\\xb8{\\x9d*\\x8f?&+9`\\x80+\\x04%\\xe9\\xd9\\xc51Z}\\xa4\\xf3]\\xef\\xc1\\x86\\xf1\\xbb\\xf5\\xf5O\\xb7\\'>\\xb2c\\xae?\\xd2\\xe4\\x1f\\xe9\\xbe\\xbc\\x98\\xcf\\x13kn\\x1a*6\\x8c\\xdf\\x83\\xa6Z\\xee\\x82\\x07\\xf3\\xd5Q\\x1a\\xbe}n\\xa0'"
      ]
     },
     "execution_count": 156,
     "metadata": {},
     "output_type": "execute_result"
    }
   ],
   "source": [
    "chunk"
   ]
  },
  {
   "cell_type": "code",
   "execution_count": 157,
   "metadata": {
    "collapsed": true
   },
   "outputs": [
    {
     "data": {
      "text/plain": [
       "b'9195450-20191119223450-00314.warc.gz\"}\\n0,110,222,18)/smile-makeovers 20191119195855 {\"url\": \"http://18.222.110.0/smile-makeovers/\", \"mime\": \"text/html\", \"mime-detected\": \"application/xhtml+xml\", \"status\": \"200\", \"digest\": \"XA7GT77633RXCTNXIYY23SMEZISDWNA3\", \"length\": \"29301\", \"offset\": \"1805231\", \"filename\": \"crawl-data/CC-MAIN-2019-47/segments/1573496670255.18/warc/CC-MAIN-20191119195450-20191119223450-00514.warc.gz\", \"charset\": \"UTF-8\", \"languages\": \"eng\"}\\n0,117,106,39)/2019/09/22/hello-world 20191121143531 {\"url\": \"http://39.106.117.0/2019/09/22/hello-world/\", \"mime\": \"text/html\", \"mime-detected\": \"text/html\", \"status\": \"200\", \"digest\": \"LOEFNXGKD7MXJD23ATDLO7XG372WTNGE\", \"length\": \"20320\", \"offset\": \"2568454\", \"filename\": \"crawl-data/CC-MAIN-2019-47/segments/1573496670821.55/warc/CC-MAIN-20191121125509-20191121153509-00454.warc.gz\", \"charset\": \"UTF-8\", \"languages\": \"zho,eng\"}\\n0,117,106,39)/robots.txt 20191121143530 {\"url\": \"http://39.106.117.0/robots.txt\", \"mime\": \"text/plain\", \"mime-detected\": \"text/plain\", \"status\": \"200\", \"digest\": \"5S2OB6LK7EHO74WNBNVLNE6ZBB5VRYTI\", \"length\": \"623\", \"offset\": \"22456\", \"filename\": \"crawl-data/CC-MAIN-2019-47/segments/1573496670821.55/robotstxt/CC-MAIN-20191121125509-20191121153509-00143.warc.gz\"}\\n0,117,163,45:5661)/robots.txt 20191111224255 {\"url\": \"http://45.163.117.0:5661/robots.txt\", \"mime\": \"unk\", \"mime-detected\": \"text/plain\", \"status\": \"404\", \"digest\": \"3I42H3S6NNFQ2MSVX7XZKYAYSCX5QBYJ\", \"length\": \"472\", \"offset\": \"25589\", \"filename\": \"crawl-data/CC-MAIN-2019-47/segments/1573496664439.7/robotstxt/CC-MAIN-20191111214811-20191112002811-00129.warc.gz\"}\\n0,117,163,45:5661)/sipweb/trabalhador/login/login.xhtml 20191111224255 {\"url\": \"http://45.163.117.0:5661/sipweb/trabalhador/login/login.xhtml\", \"mime\": \"text/html\", \"mime-detected\": \"application/xhtml+xml\", \"status\": \"200\", \"digest\": \"WTY3EO4WY3QX47XJXWUA7C2P47MGUJ67\", \"length\": \"2933\", \"offset\": \"2471191\", \"filename\": \"crawl-data/CC-MAIN-2019-47/segments/1573496664439.7/warc/CC-MAIN-20191111214811-20191112002811-00558.warc.gz\", \"charset\": \"UTF-8\", \"languages\": \"por\"}\\n0,118,62,116)/robots.txt 20191115053606 {\"url\": \"http://116.62.118.0/robots.txt\", \"mime\": \"unk\", \"mime-detected\": \"text/plain\", \"status\": \"302\", \"digest\": \"3I42H3S6NNFQ2MSVX7XZKYAYSCX5QBYJ\", \"length\": \"538\", \"offset\": \"4060\", \"filename\": \"crawl-data/CC-MAIN-2019-47/segments/1573496668585.12/robotstxt/CC-MAIN-20191115042541-20191115070541-00457.warc.gz\", \"redirect\": \"http://116.62.118.0/toLogin.action\"}\\n0,118,62,116)/tologin.action 20191115053606 {\"url\": \"http://116.62.118.0/toLogin.action\", \"mime\": \"text/html\", \"mime-detected\": \"text/html\", \"status\": \"200\", \"digest\": \"ZX52SMR73QOMQFT5UGA4ZYT3EK3STZAZ\", \"length\": \"2326\", \"offset\": \"10062\", \"filename\": \"crawl-data/CC-MAIN-2019-47/segments/1573496668585.12/robotstxt/CC-MAIN-20191115042541-20191115070541-00228.warc.gz\"}\\n0,118,62,116)/toregisterhdjy.action 20191115053607 {\"url\": \"http://116.62.118.0/toRegisterHDJY.action\", \"mime\": \"text/html\", \"mime-detected\": \"text/html\", \"status\": \"200\", \"digest\": \"S4KIFLPTOUUT6ECSOKDJDLA5YTPT26R4\", \"length\": \"4374\", \"offset\": \"1133685\", \"filename\": \"crawl-data/CC-MAIN-2019-47/segments/1573496668585.12/warc/CC-MAIN-20191115042541-20191115070541-00157.warc.gz\", \"charset\": \"UTF-8\", \"languages\": \"zho\"}\\n0,12,186,2:8089)/ 20191113055157 {\"url\": \"http://2.186.12.0:8089/\", \"mime\": \"text/html\", \"mime-detected\": \"text/html\", \"status\": \"200\", \"digest\": \"RSOJGMOBZ7XMQOMGVTG363TRKDJQWMHG\", \"length\": \"861\", \"offset\": \"1863560\", \"filename\": \"crawl-data/CC-MAIN-2019-47/segments/1573496665985.40/warc/CC-MAIN-20191113035916-20191113063916-00443.warc.gz\", \"charset\": \"UTF-8\"}\\n0,12,186,2:8089)/robots.txt 20191113055157 {\"url\": \"http://2.186.12.0:8089/robots.txt\", \"mime\": \"text/html\", \"mime-detected\": \"text/html\", \"status\": \"404\", \"digest\": \"6BSJ7FEV2H2WNI7WSAACAUFYPAALJPHC\", \"length\": \"1378\", \"offset\": \"4169\", \"filename\": \"crawl-data/CC-MAIN-2019-47/segments/1573496665985.40/robotstxt/CC-MAIN-20191113035916-20191113063916-00518.warc.gz\"}\\n0,128,2,198)/18 20191120064652 {\"url\": \"http://198.2.128.0/18\", \"mime\": \"text/html\", \"mime-detected\": \"text/html\", \"status\": \"403\", \"digest\": \"XCX6MMOKF5FBGHWXDJVK5MQTKXDNWDYV\", \"length\": \"599\", \"offset\": \"20248\", \"filename\": \"crawl-data/CC-MAIN-2019-47/segments/1573496670512.94/crawldiagnostics/CC-MAIN-20191120060344-20191120084344-00488.warc.gz\"}\\n0,128,2,198)/18?fbclid=iwar2lbjdfqtre03ypc9gugbo7fgc35itppcnedrcb84bbjym8fq1hcsi0lxe 20191117160700 {\"url\": \"http://198.2.128.0/18?fbclid=IwAR2LBjDfqTRe03yPC9gugbo7fgC35iTppCneDrCB84BBjYM8FQ1hCsI0LXE'"
      ]
     },
     "execution_count": 157,
     "metadata": {},
     "output_type": "execute_result"
    }
   ],
   "source": [
    "o.decompress(chunk)"
   ]
  },
  {
   "cell_type": "code",
   "execution_count": 158,
   "metadata": {},
   "outputs": [],
   "source": [
    "chunk = next(data_stream)"
   ]
  },
  {
   "cell_type": "code",
   "execution_count": 159,
   "metadata": {
    "collapsed": true
   },
   "outputs": [
    {
     "data": {
      "text/plain": [
       "b'\", \"mime\": \"text/html\", \"mime-detected\": \"text/html\", \"status\": \"403\", \"digest\": \"XCX6MMOKF5FBGHWXDJVK5MQTKXDNWDYV\", \"length\": \"656\", \"offset\": \"40211\", \"filename\": \"crawl-data/CC-MAIN-2019-47/segments/1573496669183.52/crawldiagnostics/CC-MAIN-20191117142350-20191117170350-00226.warc.gz\"}\\n0,128,2,198)/robots.txt 20191117160700 {\"url\": \"http://198.2.128.0/robots.txt\", \"mime\": \"text/html\", \"mime-detected\": \"text/html\", \"status\": \"403\", \"digest\": \"XCX6MMOKF5FBGHWXDJVK5MQTKXDNWDYV\", \"length\": \"604\", \"offset\": \"12188\", \"filename\": \"crawl-data/CC-MAIN-2019-47/segments/1573496669183.52/robotstxt/CC-MAIN-20191117142350-20191117170350-00188.warc.gz\"}\\n0,128,2,198)/robots.txt 20191120064652 {\"url\": \"http://198.2.128.0/robots.txt\", \"mime\": \"text/html\", \"mime-detected\": \"text/html\", \"status\": \"403\", \"digest\": \"XCX6MMOKF5FBGHWXDJVK5MQTKXDNWDYV\", \"length\": \"605\", \"offset\": \"4500\", \"filename\": \"crawl-data/CC-MAIN-2019-47/segments/1573496670512.94/robotstxt/CC-MAIN-20191120060344-20191120084344-00188.warc.gz\"}\\n0,128,201,205)/20 20191120063500 {\"url\": \"http://205.201.128.0/20\", \"mime\": \"text/html\", \"mime-detected\": \"text/html\", \"status\": \"301\", \"digest\": \"TXFIWBGNR4HXCXYUKRVV65D2VO52PXSH\", \"length\": \"591\", \"offset\": \"30929\", \"filename\": \"crawl-data/CC-MAIN-2019-47/segments/1573496670512.94/crawldiagnostics/CC-MAIN-20191120060344-20191120084344-00023.warc.gz\", \"redirect\": \"https://mailchimp.com/about/mcsv-static\"}\\n0,128,201,205)/20?fbclid=iwar3s-fht_tpyygoo0lxhrhpwtzgddmyu7uv3c4_gtezfxcwbmdetyt6y7d4 20191119175421 {\"url\": \"http://205.201.128.0/20?fbclid=IwAR3S-FhT_tpYygOo0LXHrhPwtzGdDmYu7UV3c4_GteZFXCwBMDETYT6Y7D4\", \"mime\": \"text/html\", \"mime-detected\": \"text/html\", \"status\": \"301\", \"digest\": \"TXFIWBGNR4HXCXYUKRVV65D2VO52PXSH\", \"length\": \"654\", \"offset\": \"49334\", \"filename\": \"crawl-data/CC-MAIN-2019-47/segments/1573496670162.76/crawldiagnostics/CC-MAIN-20191119172137-20191119200137-00102.warc.gz\", \"redirect\": \"https://mailchimp.com/about/mcsv-static?fbclid=IwAR3S-FhT_tpYygOo0LXHrhPwtzGdDmYu7UV3c4_GteZFXCwBMDETYT6Y7D4\"}\\n0,128,201,205)/robots.txt 20191119175421 {\"url\": \"http://205.201.128.0/robots.txt\", \"mime\": \"text/html\", \"mime-detected\": \"text/html\", \"status\": \"301\", \"digest\": \"TXFIWBGNR4HXCXYUKRVV65D2VO52PXSH\", \"length\": \"597\", \"offset\": \"8082\", \"filename\": \"crawl-data/CC-MAIN-2019-47/segments/1573496670162.76/robotstxt/CC-MAIN-20191119172137-20191119200137-00404.warc.gz\", \"redirect\": \"https://mailchimp.com/about/mcsv-static\"}\\n0,128,201,205)/robots.txt 20191120063500 {\"url\": \"http://205.201.128.0/robots.txt\", \"mime\": \"text/html\", \"mime-detected\": \"text/html\", \"status\": \"301\", \"digest\": \"TXFIWBGNR4HXCXYUKRVV65D2VO52PXSH\", \"length\": \"596\", \"offset\": \"18027\", \"filename\": \"crawl-data/CC-MAIN-2019-47/segments/1573496670512.94/robotstxt/CC-MAIN-20191120060344-20191120084344-00404.warc.gz\", \"redirect\": \"https://mailchimp.com/about/mcsv-static\"}\\n0,129,198,52)/ 20191115023730 {\"url\": \"http://52.198.129.0/\", \"mime\": \"text/html\", \"mime-detected\": \"text/html\", \"status\": \"200\", \"digest\": \"N4GHZ2JPELYDIFVPNEOZXMLIA4LBH3HS\", \"length\": \"12446\", \"offset\": \"2388493\", \"filename\": \"crawl-data/CC-MAIN-2019-47/segments/1573496668561.61/warc/CC-MAIN-20191115015509-20191115043509-00435.warc.gz\", \"charset\": \"UTF-8\", \"languages\": \"jpn\"}\\n0,129,198,52)/robots.txt 20191115023729 {\"url\": \"http://52.198.129.0/robots.txt\", \"mime\": \"text/plain\", \"mime-detected\": \"text/plain\", \"status\": \"200\", \"digest\": \"5S2OB6LK7EHO74WNBNVLNE6ZBB5VRYTI\", \"length\": \"670\", \"offset\": \"27401\", \"filename\": \"crawl-data/CC-MAIN-2019-47/segments/1573496668561.61/robotstxt/CC-MAIN-20191115015509-20191115043509-00478.warc.gz\"}\\n0,135,237,35)/our-environmental-staff 20191117070525 {\"url\": \"http://35.237.135.0/our-environmental-staff/\", \"mime\": \"text/html\", \"mime-detected\": \"text/html\", \"status\": \"200\", \"digest\": \"O33ZNIHZMDG5DUCSVKZV3U46N5ZDIRI6\", \"length\": \"14495\", \"offset\": \"2665361\", \"filename\": \"crawl-data/CC-MAIN-2019-47/segments/1573496668896.47/warc/CC-MAIN-20191117064703-20191117092703-00028.warc.gz\", \"charset\": \"UTF-8\", \"languages\": \"eng\"}\\n0,135,237,35)/robots.txt 20191117070525 {\"url\": \"http://35.237.135.0/robots.txt\", \"mime\": \"text/plain\", \"mime-detected\": \"text/plain\", \"status\": \"200\", \"digest\": \"5S2OB6LK7EHO74WNBNVLNE6ZBB5VRYTI\", \"length\": \"712\", \"offset\": \"9631\", \"filename\": \"crawl-data/CC-MAIN-2019-47/segments/1573496668896.47/robotstxt/CC-MAIN-20191117064703-20191117092703-00184.warc.gz\"}\\n0,136,69,158:7006)/robots.txt 20191119055253 {\"url\": \"http://158.69.136.0:7006/robots.txt\", \"mime\": \"text/plain\", \"mime-detected\": \"text/plain\", \"status\": \"200\", \"digest\": \"SMTQW7YBYEAJNEWJSLFDPA3OZO6J25CM\", \"length\": \"460\", \"offset\": \"6165\", \"filename\": \"crawl-data/CC-MAIN-2019-47/segments/1573496670006.89/robotstxt/CC-MAIN-20191119042928-20191119070928-00247.warc.gz\"}\\n0,137,180,139)/epasti 20191122084604 {\"url\": \"https://139.180.137.0/epasti/\", \"mime\": \"text/html\", \"mime-detected\": \"text/html\", \"status\": \"200\", \"digest\": \"J4LO6HMOUZTQNLDBWDSNL5IXPHHB6OAO\", \"length\": \"2038\", \"offset\": \"288352229\", \"filename\": \"crawl-data/CC-MAIN-2019-47/segments/1573496671245.92/warc/CC-MAIN-20191122065327-20191122093327-00153.warc.gz\", \"charset\": \"UTF-8\", \"languages\": \"msa\"}\\n0,137,180,139)/robots.txt 20191122084603 {\"url\": \"https://139.180.137.0/robots.txt\", \"mime\": \"text/html\", \"mime-detected\": \"text/html\", \"status\": \"404\", \"digest\": \"ZWD6HYUGK76YLURAFRZ3R5F3GJLQ22XW\", \"length\": \"660\", \"offset\": \"2532349\", \"filename\": \"crawl-data/CC-MAIN-2019-47/segments/1573496671245.92/robotstxt/CC-MAIN-20191122065327-20191122093327-00447.warc.gz\"}\\n0,14,197,138)/ 20191119200810 {\"url\": \"http://138.197.14.0\", \"mime\": \"text/plain\", \"mime-detected\": \"text/plain\", \"status\": \"404\", \"digest\": \"VUR6IGEVFBRLNS4VT6XRMVJ3RCWIIXXT\", \"length\": \"510\", \"offset\": \"11486\", \"filename\": \"crawl-data/CC-MAIN-2019-47/segments/1573496670255.18/robotstxt/CC-MAIN-20191119195450-20191119223450-00141.warc.gz\"}\\n0,14,197,138)/ 20191119200810 {\"url\": \"http://138.197.14.0/\", \"mime\": \"text/plain\", \"mime-detected\": \"text/plain\", \"status\": \"404\", \"digest\": \"VUR6IGEVFBRLNS4VT6XRMVJ3RCWIIXXT\", \"length\": \"513\", \"offset\": \"19125\", \"filename\": \"crawl-data/CC-MAIN-2019-47/segments/1573496670'"
      ]
     },
     "execution_count": 159,
     "metadata": {},
     "output_type": "execute_result"
    }
   ],
   "source": [
    "o.decompress(chunk)"
   ]
  },
  {
   "cell_type": "code",
   "execution_count": 133,
   "metadata": {},
   "outputs": [],
   "source": [
    "# def decompress_stream_batch(chunk):\n",
    "#     o = zlib.decompressobj(16 + zlib.MAX_WBITS)\n",
    "#     return o.decompress(chunk)"
   ]
  },
  {
   "cell_type": "code",
   "execution_count": 20,
   "metadata": {},
   "outputs": [],
   "source": [
    "def get_url_data(url, n_chunks, chunk_size):\n",
    "    r = requests.get(url, stream=True)\n",
    "#     data_stream = decompress_stream(r.iter_content(chunk_size))\n",
    "    data_stream = r.iter_content(chunk_size)\n",
    "    o = zlib.decompressobj(16 + zlib.MAX_WBITS)\n",
    "    \n",
    "    ns = np.arange(n_chunks)\n",
    "    data = ''\n",
    "    data_size = []\n",
    "\n",
    "    for _ in ns:\n",
    "        chunk = next(data_stream)\n",
    "        decomp_chunk = o.decompress(chunk)\n",
    "        data += decomp_chunk.decode()\n",
    "        data_size.append(len(data))\n",
    "\n",
    "    r.close()\n",
    "    \n",
    "    return ns, data_size"
   ]
  },
  {
   "cell_type": "code",
   "execution_count": 21,
   "metadata": {},
   "outputs": [],
   "source": [
    "ns0, data_size0 = get_url_data(url, 500, 1024)"
   ]
  },
  {
   "cell_type": "code",
   "execution_count": 22,
   "metadata": {},
   "outputs": [],
   "source": [
    "ns8, data_size8 = get_url_data(url, 125, 1024*8)"
   ]
  },
  {
   "cell_type": "code",
   "execution_count": 26,
   "metadata": {},
   "outputs": [
    {
     "data": {
      "image/png": "[encoded data removed]",
      "text/plain": [
       "<Figure size 432x288 with 1 Axes>"
      ]
     },
     "metadata": {
      "needs_background": "light"
     },
     "output_type": "display_data"
    }
   ],
   "source": [
    "# plt.scatter(ns1, data_size1, label=f'Chunk size = 512 MB')\n",
    "plt.scatter(ns0, data_size0, label=f'Chunk size = 1024 MB')\n",
    "# plt.scatter(ns4, data_size4, label=f'Chunk size = {chunk_size*4} MB')\n",
    "plt.scatter(ns8, data_size8, label=f'Chunk size = {1024*8} MB')\n",
    "# plt.scatter(ns16, data_size16, label=f'Chunk size = {chunk_size*16} MB')\n",
    "\n",
    "plt.xlabel('Number of chunks downloaded')\n",
    "plt.ylabel('Number of btyes downloaded')\n",
    "plt.legend();"
   ]
  },
  {
   "cell_type": "code",
   "execution_count": 27,
   "metadata": {},
   "outputs": [
    {
     "data": {
      "text/plain": [
       "25"
      ]
     },
     "execution_count": 27,
     "metadata": {},
     "output_type": "execute_result"
    }
   ],
   "source": [
    "np.argmax(data_size8)"
   ]
  },
  {
   "cell_type": "code",
   "execution_count": 30,
   "metadata": {},
   "outputs": [
    {
     "data": {
      "text/plain": [
       "1.393277"
      ]
     },
     "execution_count": 30,
     "metadata": {},
     "output_type": "execute_result"
    }
   ],
   "source": [
    "np.max(data_size8) / 1e6"
   ]
  },
  {
   "cell_type": "code",
   "execution_count": 165,
   "metadata": {},
   "outputs": [],
   "source": [
    "chunk_size = 1024*8\n",
    "n_chunks = 23\n",
    "\n",
    "r = requests.get(url, stream=True)\n",
    "#     data_stream = decompress_stream(r.iter_content(chunk_size))\n",
    "data_stream = r.iter_content(chunk_size)\n",
    "o = zlib.decompressobj(16 + zlib.MAX_WBITS)\n",
    "\n",
    "ns = np.arange(n_chunks)\n",
    "data = ''\n",
    "data_size = []\n",
    "\n",
    "for _ in ns:\n",
    "    chunk = next(data_stream)\n",
    "    decomp_chunk = o.decompress(chunk)\n",
    "    data += decomp_chunk.decode()\n",
    "    data_size.append(len(data))\n"
   ]
  },
  {
   "cell_type": "code",
   "execution_count": 166,
   "metadata": {
    "collapsed": true
   },
   "outputs": [
    {
     "data": {
      "text/plain": [
       "b'\\x15\\x8d\\xbd\\x15Z\\xf9\\x89\\xb9\\xb9j\\xbaZ\\xb5`\\xab\\xfe/\\xb0\\xef\\x7f\\x82\\xfd\\xe9\\xc0\\x9a\\xb1\\x9f\\xdbC\\x9ayU\\xe9\\x1buU\\'\\x1a2k\\xa3\\x0e\\xe2@\\xabJ+\\x82\\xc2\\xc9B\\n\\x16\\xa2\\x94\\\\-B=;p\\xaa\\x8a\\x0c\\x07Tn=Y\\x8a\\xac\\x00Y&\\x8f\\x8f@\\x96\\xf8#;Xd\\xc7\\xe8\\xca&\\xba\\xcdSu\\x87_\\xdb\\xd5\\xb3\\x89\\xdf\\x07=U\\x8c\\xab\\x05t\\x98\\x01\\xdaO\\xea=`\\xd3y\\xac\\xba\\x01\\x82\\xa2#\\x86\\x11\\x1e1\\xc2\\x13y\\xa3\\xe6\\x80+\\xd1-\\xca\\x14\\xf7\\xe2\\xf0\\xee\\xcc\\x87\\xba\\xe9\\xc30u-v\\x8f\\x00d\\xe6l\\x9f(\\x82\\x0ep\\xa91N-\\x9b&\\x011\\x05\\xb5\\xb6\\x91t\\xc9T*I\\xee[\\x85\\xbbK\\xc5Y\\xe7\\x0c\\x84\\x7f\\x8e\\x7f\\xb2\\xcbc\\xf1sy\\xac\\xdc\\xd5w?\\xe5\\xfeo\\xd3\\'\\xf7\\xca#\\x10-\\xe5\\x07\\xaf\\x82\\xe4\\x03%l\\x89\\xe5\\xecP\\xed=\\x9db\\xd7\\xaa3f\\t\\n<\\x0f\\x8e0=\\x02\\xdc\\x92`\\xe7\\x7fyr3?\\xfd>\\xbby\\xcc\\x9b\\x00\\x00B\\xa95mK\\x1a`: \\x80\\x93z\\xf3\\xc5\\x03\\x1c\\x854\\x8b\\xc3\\xd1P3FZ>\\x1a\\x8fMW\\xc7\\xe9\\xc8\\x8d3\\xcd\\x0e*3\\xb5\\x031\\x95\\x11aY\\x941\\xcc\\xee\\xeeY\\x01\\x8b\\x15I\\x1d\\xd0\\xf6\\xb3\\xc0h\\xc4\\t\\xfbxoK2\\xe2\\x8f\\xec,\\xc8\\xdb\\xe5\\x98\\xaf\\xf9\\x7f\\rJ\\x8b\\x1b~\\x05I[\\xe6\\xd6\\x06${\\xe4\\xfe\\x86\\xd3\\xd1w}\\x1ck\\xa6\\xae\\r=\\x83\\x18\\xb4\\x86\\x05\\xd6toX\\x81\\x0c\\r\\x99\\xfd-\\x88&\\x02\\x84\\x0b\\x19\\x00\\xdcsl\\xf9\\x03\\x18\\xdd\\xbe\\xf7.D$Ey\\xce\\xdb\\xb8dd\\xfc\\xf9\\xf3\\xe7\\xe0v:\\xfb6\\x98\\x9d\\xdd\\x0e.\\xfe99]\\x9c_=T\\x9e\\x13t\\xc4V;\\x92\\x15\\xf5\\x0fE\\xe1\\x05\\xe8\\xd3\\x9b\\xd9\\xe5\\x19wu0\\xc96\\xfbg\\xa3D\\x13H\\xeck\\xa2\\x96\\xee\\x1b\\xec\\xdd\\x01[\\x83\\xe7\\xd8q;\\x9c\\xadr\\xa2\\xf1E\\xaa\\xcdE\\xf6\\x7f\\x86\\xaa\\x1c#\\xddw\\xed\\xd4M\\xe21H\\xab8\\xd3\\xc3\\xf1\\xc4L2\\xeayV\\x91\\x08\\xbe+\\xa0Hb,QR\\x19\\t{yI\\xa8D \\x1e \\xa55\\x1dX\\x02\\x1c\\xa5\\xc7\\x0cS>,\\x91?\\xf2\\xdf\\xba\\xee\\x93\\x87\\xdbD\\x06\\xb8\\xe9f\\xbcZ\\\\w@\\xd6L\\x00\\xde\\x02\\xaa\\xb7R\\xabP\\xe9\\x85n\\x1d\\xba\\xda\\xd8&4D\\x00\\xa7hL\\x8a\\xe1$\\xf2&\\xa6W\\x01!(\\x7f_\\xcd\\xb6Q\\xc8\\xd9\\xaf\\x9f\\xcd#R\\x9d\\t\\xc1\\x9dp\\x01(\\xd4q2\\xfa\\xab\\x8c\\xfc\\x08\\xfe\\xa1H\\x84_2\\xe7\\xb3\\xabo\\xebBB\\x08[\\xdd(\\x08\\x0e\\xd4G\\xc2\\xb3\\xf7N4\\xdf\\x8a\\x9d\\x03\\xdc-Y\\x11We\\r\\xa1\\x17\\xf8#\\xe0\\x05y\\xacy@\\xab\"\\xcf\\xc6CJrK 4EB\\xea\\x96\"c\\xa4\\xf4\\xec\\xee\\xafb4P\\xda#\\xec\\x94\\xf7S\\x80p\\xa3\\xa8\\x10\\xf2GI\\xc2\\xaf\\xc9}\\x10I\\xdfV\\xc8\\xf9Z\\xfa\\xefU\\x9b\\x82O1\\xa0\\xe30\\x1f\\x93\\xc8\\x89\\xf0\\xb0\\xcc\\x86V\\x05Rh\\xd4\\x84\\x96\\xdad\\x0c\\xecaZ\\x88\\xda\\x94\\x10F\\xc4j\\xdf\\xee\\x16\\xf7\\x08<S\\xcc\\xd9\\x01\\x03\\x92\\xc4\\xf09>\\x02@=\\x82x\\xb3m\\x85\\xc4\\xee\\xbb\\xa6\\x17\\x84WJ\\x03u@\\xf0a\\xec\\x07\\\\\\x07u\\x89\\xa03\"\\xc58\\x04\\x85\\xefD^dW\\xe9\\xd8\\xd3\\xc9\\xc8\\xaf\\'\\x02cs\\xabHL6\\xc5\\x8a\\n\\x94\\xbe\\xf3\\x90v\\xe9\\x8b\\xb5\\xe5|\\x82\\xb5\\xd6\\xb4&\\xfe\\xddMz\\xf5\\xed\\xea\\x84/\\x7f\"\\xcb\\'\\x12:\\xf96;?_\\x1c\\xff\\\\\\\\\\x9f\\x9f\\xad\\xc1\\xe1Q\\xe2\\xa6\\xe8\\x7f\\x02\\xceK\\x8b\\x1d\\x00=\\x12\\x91\\xc4\\x9e\\xb8)\\xa0\\xcc\\xa8H\\x92\\xc2HIV\\xe6C\\x94\\x99!\\xf5!\\x11\\x93\\xe3\\x1fB\\x7f\\x1b\\xe8\\xc9\\n\\xd3\\xf8\\xdfc\\x9e\\xea\\x0b\\xa9\\xc2-\\xe8\\x1d\\x9d\\xcdn\\x9fApz{\\xf3mq}2=\\xbbX\\xa7j\\x91U\\x97\\x99f\\x14\\xb7\\x03\\xb7\\xcd%\\x0e\\x80\\xd6$\\n\\x8b\\x04\\xa6\\xa1\\x91\\x04\\x93\"\\x1dUu\\xad\\x01;F\\xe1\\xd0\\xd1\\xd20\\x86\\xcd\\xb3&jW\\xec\\xdb \\xd8{*\\xddN=\\xe8\\xb6+\\x9fk;km\\xada^!\\xf2\\x0ei\\x9f\\x83\\x89\\r\\xb0\\xe5z&\\x0c\\x87\\x05\\xf62\\x1cWZ8\\xca\\x93\\xd4\\xc2\\xe3\\xbc\\x8e\\x85\\xcc\\x94\\xfbne\\x9b\\xb5o\\xaa\\xbc\\x9f\\x91N\\xcf\\x18\\xe8]\\x88 \\xf1JQ\\x8e\\x18\\xa1e\\xc0\\xabx\\xa6g\\xf3\\xc5\\xc9\\xc5\\xbf\\xab\\xdf\\x99\\xca5\\xb8\\x80\\xb7\\x8f\\xe1Y,)\\x08\\x83\\x16o;\\x80\\x03NteE\\xf4\\xb6\\x156\\xe9\\xbf\\xa9\\xac\\xfe\\xb8<\\x1b\\xf0\\xe7\\xd9\\xe0\\xe2j\\xf6\\x95\\xaf\\xda\\x89\\xc9\\xd5\\xf9\\xf4.\\x03\\xf2\\x99S\\x92\\x00\\xc3\\x1eR\\xd3\\xa7\\x96c\\x854wQl\\xd2\\xb8N\\xfc22\\xeb\\xc0\\x8c,\\x01\\x14\\xb1\\xca\\x8d\\x99pLR\\xf7\\x84\\x05\\xab\\xec\\xa6o\\xf7\\xe3\\xf2\\x06M\\xaa\\x04\\xd7\\x8f*\\xe4\\x8f\\xbc\\x87\\x92\\xfaZD@\\x13\\x11\\xd8\\xe2\\xa7z\\x06\\x11\\xf0\\x96\\x88\\x141\\x01\\xa6>)sfi\\xf81\\x88\\x86\\xb5\\x97\\xd8\\xde\\xb0t\\xc2\\x91m\\xe5V(\"\"\\x06i!\\x06=CV;\\x01\\xc2\\xb4\\xdf\\xd7\\x02\\x02\\x1b\\x80\\xa06\\xd7\\xf93\\x80\\xc0\\xb7\\x04\\x04\\xc6\\xda\\xb8\\xb2mvF*\\xa8\\x07\\xc0K\\x9dl\\xec;\\xba\\x99\\x84f\\x8d\\xf2p\"\\x02\"8\\xba\\x14\\xee\\xe7\\xebYG\\xb2\\xd3\\t\\x01\\xa2#}\\x03\\x90f\\xe5\\xe1\\xabP8\\xe0\\xed0\\xa9G\\xb5\\xe9!\\xcd\\xabls\\x04\\x88gZH\\x9bd\\xda(\\xac\\xa9\\xa1\\xd3R\\x10DX\\x1c|\\xa0\\x00\\xd03\\xdb\\xfd\\x9e\\xc6\\xdd\\x85\\x87]\\x84\\xc6b\\xcf0Fh\\x08\\x8f\\xd8\\xcf1+\\x8d\\xe7K_]/n\\x16\\xa7\\x8b\\xf3\\x05\\xdb\\xf6\\xfa\\xc7\\xf9\\x8c\\xd1\\xe3I\\x8a;\\x91dH[\\xa6\\x13\\xb0\\x7f\\x1e@xG\\xfb\\xd5R\\x9d+\\xed_{\\xcaCLk\\x84h\\xee[\\x95\\x13\\xa6f\\x94\\x0e\\x13#\\x0cF^\\xe4\\x1785\\x84\\x1cFH\\xc5f>\\xbcP\\x8d\\xe2\\xde\\xcda\\xc9\\x80\\xb4w\\x0f#\\x12o\\xa3\\xab\\xae\\x1f!\\xe4\\x8f\\xbcM\\xccv\\x86\\xca\\xda\\'%\\xa0v=;\\x9d\\xcdo\\xa6\\xcb5\\xa9Og\\xd77\\xf3\\xb3\\xe9\\xe2l\\xf6y~\\xb3\\xd8DOiqT5\\xd1{i\\xc5\\x03X,\\x8eg\\xa7(\\x1f[\\xa3\\ni\\x85\\x8d\\xc68\\xa2\\x81VCW\\xf3\\xe3\\x008BH\\x04\\x13\\xb1\\xf7\\x98,\\xc9\\n\\xe9\\xd9\\x95i\\'\\x14!\\xd9.\\x1b\\xb8\\x1b\\xc5\\xa6\\x1e\\xfc\\xea\\xd3vPe\\x18\\x8eC[\\x8b\\x8aZ\\x87f\\x1c\\xe5\\x9e9\\xceS=\\xce|T\\xeb\\x16\\x89J\\xf0\\x14\\x19\\x05\\x8a\\xbe\\xc4\\xbe\\xa1\\x93\\x07T\\xbau\\xe1.h\\x90$h^T>\\x02H=juf\\x01\\x19\\xf0\\x8a\\xd9fb\\x03\\x91\\x06\\xbc\\xa1\\x13}\\xa9)\\xd9\\xe3\\x05\\xbd\\xfb\\xfd\\x9d\\x12;u\\xdcI=)\\xf2:\\x0b\\xbd(u\\xec\\xd2\\x08\\r\\x9cfq\\x10\\x0ek!\\x1aN\\xc5T\\x05\\x80\\xa9\\xda3ATU\\xe8\\x80>\\xe3\\xb8\\x95\\x99\\xdd\\xc1\\xee\\xaf\\xf5#\\xe4\\x8d$\\xb9REp\\'\\xad\\xff\\xef\\xe7\\xec3\\xa3\\xc67\\xb0\\xca\\xead\\xaf*\\xab\\x9f?\\x99\\x9d\\x9d..o\\xd8\\'\\xe0F\\xf6\\x9f\\xfc\\x94|\\xba\\xf9\\xf9\\xdb\\xcd\\xe7O\\xf2SL\\x9a*\\xf0\\x13L\\xb6_~\\xaf\\xce\\xf7\\xa6\\xeb\\x8c}f\\xbf\\x9ad\\xe5xl\\xd04\\xc8\\x1cf\\xa7\\xc0|d\\x05\\xcc\\xaa\\xaf\\x98\\x99/\\x98\\xf3\\x08\\x8a\\xb2\\x0c\\x03&T\\xfae\\x0b=\"\\xd9\\x16,\\xe9\\x04\\x91\\xbd\\xb9{7\\x9c\\x17\\x00\\xa7@}-\\xe0-\\xf3\\x05^\\x04\\xfc\\xf9\\xe5\\x0f\\x0bxT\\xbb \\xd2\\x13\\xcd\\x05.$\\xc6\\x04\\xc2J3\\x8cq\\x96EqJH\\x95\\xf9\\x02\\xe0\\xb2\"fUB\\x04%\\xac\\xf6\\x8c\\xb9\\xec\\x02\\xf8\\xb63\\x04\\xb6\\x02\\\\Q:\\x10Y\\xdc|\\x9a\\x9e\\x9f7qo\\xe9\\x06\\xfc2\\xee\\x9d\\xbb\\xf0\\xe5\\xef\\xb7:,\\xfc\\x99\\t\\n\\xafH\\x0b}\\x1cM\\x0c\\x98\\x8c\\x83\\n$\\xb0v\\xf2J\\xf3\\xf2q\\x19\\x8a\\xf9\\x05\\xaa*\\x0ey\\x86\\x18\\xf1b\\xf7\\xb7\\x87_\\xder\\xd4\\xd5c\\n9\\x85G\\xb2\\xbcj\\xa1\\xfe\\x906\\xf8\\x19|~R\\'\\x83e\\x8c\\xd5\\x96\\x16\\xc3\\xbc?\\xba<\\xa0\\xab\\xf60\\xe2\\xbb\\x87\\x85id\\x13\\xcd\\x80\\x963\\xb2\\x86c\\xdf\\xa26p\\xc6I\\x89H\\x8dl\\xcfqS1\\r\\x04b\\xd2\\x18\\xb8\\x8ce\\xa2\\xf4\\xed\\xe1\\xa3\\x80\\x81\\xdc\\x9eb\\xcb\\xfb\\xc3\\xc8\\x92\\xba~\\xa4|\\xac\\x03Gi\\xcb6tW\\x8b\\xf3n\\x94NE\\x94\\x90\\xd4R\\r\\xbb\\x89\\xd2C\\n\\xa7\\x0e\\x8c7@\\xa9\\xc2>\\xb0\\x8a\\x02\\xa5Fe\\x87:\\xd1c3(q\\xed\\x1bZ\\xa0\\x85 \\xf2\\xc5v\\xf5Ti\\x1c&\\x05a\\xf6\\xbf\\xb7\\x87\\x89\\x89\\xa2\\xbe0\\xb5\\xb5Y\\xe2\\x00\\xb5\\x8f\\x19x\\x00\\xe8\\xb0:iQ\\xa2b\\x9c\\x04\\xaeUe\\x9e>\\xa9Pd{\\xb00\\x81\\xeb -4\\xab\\x91\\x10J\"b\\x9b%\\xc8\\x0b\\x06\\xf6\\x02\\xc63}\\x96\\xba\\x0e\\x0e\\x16\\xfcJt\\x95\\xc8\\xc1l.\\xb2\\xd9\\x14\\x1aaUn\\x96\\x89\\xb1\\x1f\\x1a\\xf0\\x0c\\x8e;\\x1a\\xf76\\xab\\x1a\\xed-\\xc6\\x13\\x98\\x06!\\x18[Y\\x06\\x9c\\xc8\\xd5*\\xd7\\xd0 \\xf1\\xea\\tA\\x93\\xa1\\xa5\\x8b\\xa5\\x97\\xe2\\x88^f\\x14\\xed\\xa9\\x07\\xf1K\\xa5\\x97\\x9d\\xad\\x88%\\xf5\\xd9\\xf6\\x16<\\x19jq\\xb1X.\\x07\\xf3\\xc5I\\x93\\xfem\\xd9\\x04\\xafAb\\xaf\\x99i\\x02&\\xf5\\xd0(\\xb4\\x80\\xa2\\x11\\xc1~\\xae\\x1bZ\\x84\\xab\\xc2\\x8a\\xd3$H\\xb0\\xef\\xa6\\xbapEP\\xb1M7aJ\\xcc^ \\xd9\\xbe-4o6\\xf8Z,6(x\\x87\\n=\\x02Pe2\\xa8\\xb5\\x8c\\x12\\xf1\\xf6\\x86rKv\\x93L\\x07\\xec\\xb5\\x01\\xa5{\\xf7\\xb7\\xf6\\xcb\\xef\\x10%\\x10\\x92\\xa4\\x9eql\\x0c\\xd4\\x01z&]\\x10\\xf1,\\x9eu\\xba \\x92\\x15\\xa0\\xdc\\xa5\\x0bb\\xd1\\x01\\xf1\\x1c\\xa9\\xd9\\xaf\\x14Km\\x9e\\xed\\x0fKj\\xb1+\\x82\\x02{Z\\xad\\x98\\xc9\\x14\\xda\\xdd\\x15\\x81\\xfd\\xca\\x0e\\x99\\x8c\\xd7\\x8f\\xaa\\xc4\\x1f_ \\xf5\\xff}Y\\\\\\xdf.\\xafO\\xd8o\\xec\\x8bN?_m\\xc7\\xdc\\x8d\\xd7\\xfb_\\x07\\r\\xcaO\\x10\\xf1\\x93 \\n\\x1d;\\xc2\\xa0H\\xbdpT\\xe5\\xa1\\x8bIa\\x99\\x9aG\\x1c1\\xe4\\x0c\\x84$&\\xa2\\xf4\\xee\\xd4r\\xcf\\xe5/v;\\xeabv\\x08\\xe0\\xcb\\x08\\xfc<\\xbd\\x9a\\x9eO\\xbf\\x7f\\x9f\\x9em\\xc7\\xf4\\xcd\\xf7\\x0f\\x80A\\x8c\\xbc\\xaa\\x8c\\'A\\x1c\\x86@K\\x83Q\\x96PoR\\x8e\\xa1\\x0f \\x89#$tb#P\\xd4<)\\x04\\xfd\\xbaT?\\xb0\\xff\\x0b\\x18t\\x9f\\x02Y\\x8c\\xfeS\\xf5\\x08JG2\\x81\\xbf\\x9f\\xcc\\x97\\xa7\\xdf\\x16\\x8b\\xf3\\x93\\xab\\xdb\\xcf\\xe7\\xf3\\xe5\\xb7\\xbf\\xae\\x98\"z\\xf20Q\\x18p\\xab\\x90\\xca\\xcd\\x06!\\xec\\xd5\\x01\\x94\\x06T]e\\xc4\\xb4.q\\x00\\xe5(\\x1f\\x9bz\\xac\\xe5\\xba\\x97U\\x96\\x15S\\xdf\\x07XG\\x06\\xcc3\\x9aX\\xe1h,\\xb4\\xc4Q\\x9as\\xc9zN\\x8ef\\x94 \\x12\\xfb\\xde/\"\\x01\\x98\\xbe\\xa9J\\xca\\xfa\\x11A\\xfe\\xc8\\xeb\"\\xe5\\xe7.\\xe4\\xfbD\\xf1\\xcb\\xef\\xcbo\\x83\\x9b\\x7fOW\\xc9\\xe27?;\\t,b\\xd9\\xd6\\x85\\x98\\xe3\\xd7\\xd2\\nl\\x13\\xbfC\\xeaN\\xc3\\x82D\\x80k\\xb0\\x14:\\x85e\\x0c\\x99\\xdd`\\xd4\\xb9S\\x80\\xa1\\x11\\x8cB$\\xeaN\\x8a \\xc0\\x14f\\xca\\xed\\x05\\xb1g\\x9a\\x10w@\\xf5\\xffS\\xf7gMq#\\xdb\\xfa8\\xfcU\\xde\\x9b_Gt\\xbc\\x18\\xa4\\x1c\\xa5\\x8ep\\xf4\\xd1<\\xcf\\xb3n:\\xca\\xa6\\xecf7\\x06\\x0e\\xe0v\\xf7\\xb98\\x9f\\xfd\\x9fY\\x14TUJ\\x05T\\xa9\\n|zo\\x1b\\x84Q\\n\\xd6\\xa3\\\\\\xb9\\xc6g\\xc9\\xe0%\\x9a\\xb61\\xa8\\x06V\\x94z\\xc2[\\x8e\\xd0\\xa8\\x11E%^\\xf29\\xd24\\x89\\xe8)\"/\\xa3\\xf3\\xe6~\\x1c\\x16\\xfd\\r\")\\x13+\\x03\\xa8\\xc24\\xf93i\\x1c&#\\x19byuI0\\xbf\\xe4;\\x89\\x0c\\x94\\xda\\xa3\\xa8\\x7f\\xcc\\xbe\\x9c\\x9d\\xcf\\xaf\\xfe\\x95\\x16\\xb3\\x0b.w\\x92\\xb7p\\xef\\xe4-1d\\x8d\\x0e3\\x1d\\xfa!\\xa4\\xb6f\\x1b&\\x8d\"\\xd3\\xe9\\x8a\\x88\\x84\\xc8\\xab3\\x88L\\xa1i\\x82\\x92A\\x19\\x99\"+t\\xea|\\xb1\\x07\\xa9\\x8fV\\x87o\\x13\\xb8\\x0cw\\xae\\xa0=\\xf9\\xeb1\\xad9\\x06\\x0e\\x1d\\x80\\x83\\xc6\\xb8tG\\xc1\\xa1G\\x02\\'-\\x0c\\x17\\xe8}\\x86\\x8c02\\x8a\\x16\\x19\\r\\x8f\\xe1B\\x946\\xb0\\xb4\\xc3F \\xd3\\xa5X4u\\t\\xa7\\x04\\x9eZ\\xe5\\xb7\\x078\\x90\\xec\\x96\\xa3\\xd9\\x00Ga\\xfe73\\xc8x/\\xcb\\xe8!\"\\x01D\\xa5\\x11\\xd2U\\x99a\\xa2\\x9c>\\xe4\\x9b\\x8f;\\x91\\x8f\\xe6\\xae\\x1b\\xe6a\\x9a\\x13\\xdd\\xb7K]7q\\xdfS-\\xea\\xfa\\xbe3j\\xad\\x13\\x18*\\x80D\\x84\\x1c(T\\xe4\\x89\\xe7\\x08\\xe7\\x85T\\xb6{{LH\\xecE\\xc5du\\x89\\x00\\xbf\\xe4,\\xc7`SOmH\\xfb\\x9e\\xfd\\x82g\\x9f\\xbe_\\x9d\\xcf\\xae\\xae\\xaf\\xaf~\\xccg\\xf7\\x7f\\xceo\\xb9 8\\xa7\\xc4\\xda\\xf6x-\\x08%_O\\x7f\\\\\\xafyX\\xafX[\\xef\\xb8qZ\\xb3\\xac\\xda\\xb4\\x89\\x1b\\x84\\x9a*r+h\\xd8V\\x14\\xda\\x05\\xc9\\xed\\xb2/c;\\xdf\\xc4\\t\\xc9\\xe2\\x98_\\x04%U\\x9a\\xe6,>\"5:\\x1eb\\x1bHX\\xde\\x96\\xf1\\xf2\\x8a\\xe4\\x83\\xa2`\\xf5\\x83<\\xb6\\x87\\x1e\\x11ev6\\'\\x9d\\xe2\\xee\\xd6\\xafg\\xff\\xb9\\xfb\\xf3_&\\xd8u\\xaa\\xaf\\xf3\\xebU8\\x8bmZy<w\\xcd~\\x88e\\xf1\\x86\\n\\xc6W9\\xbc\\xc2\\xcb\\x8d\\xac\\x8d\\x01p-\\x90\\xe4\\xa1\\xdf\\x17a\\x10\\x14\\xd0\\xd0\\xa1\\x97\\xa2\\x12\\xc7\\x1d\\x14\\x11\\x13\\xeb\\xa4 D\\xccc\\x9a\\x16JQ\\x01\\xc0\\xa7x<\\xb0\\xce#\\x9ad\\xd5gOe\\x15\\x92E\\x9f=\\x80;\\')G\\xd1\\x1a\\x8b8\\xbe\\x12\\xa2q\\x8d\\xf7\\xfd\\xea\\xaf\\x9dl\\xb2\\x81\\xb2\\x83\\x1e\\x02.,H\\x1c\\xdb\\x19\\x88\\x8a\\xba\\xa5m\\x1ftZW\\x18-\\xce\\xf4N`h\\x1d\\x8c5\\x87\\x00MSvOx<\\x13p\\xdc\\x02\\n\\xbb\\x14\\x95\\xddR\\xd8\\xaa$\\xcb\\xbf\\x9e]\\xdd\\xdd\\xdcnl\\x05uD\\xa5\\xad\\xcb\\x99\\xdfv\\x16\\xdf\\xa5\\xb7\\xd7G\\xe8\\xb0(#vt\\xe8\\x18eF\\x9c\\x06\\x14\\xb7Zi\\x1bE\\x9a\\xd7Q\\xc6>\\xed\\xebA\\x0b\\xb8HR\\xcc\\\\{\\x95Nk\\x8a\\xdc\\xef\\xdd\\x87\\xd2\\xce\\xa3\\xe4F\\xe1\\x18\\x7f\\xf7\\x99\\xb6{\\x19\\x93\\xe3\\x96\\xd2zn\\t\\x88\\x8f\\xab\\xb4nZ#\\n\\xfd&\\xe9\\xca\\x14D\\x95n\\x81\\xd6\\x12O\\x11\\xd1i\\x04\\xeaD?\\x7f\\xc2\\x06\\xe0Ex\\xc2\\x06P\\x94E\\x16\\xef\\xa9\\xd1^\\xe6\\xf3I\\x87N\\x88\\xc2\\xa4\\xfbp\\x8eo\\xbc\\xe9\\x8b\\xf7\\xe2v\\xfe\\xf7\\xc5\\xdd\\xc5\\xbd\\xe8k#Q\\x10\"I\\r\\x06d\"\\x876\\xa6\\x80\\x9cB\\xf5\\xc5\\xf8\\x1f\\x90\\xd9A\\xba\\x1a\\xf2\\xc0\\x8eVH$q\\x18\\xee\\xa6@F8\\x08^\\x16\\xcd1_;+\\xecp\\x19\\xf9\\x9d\\x95\\xf7ij\\xbb\\x19@nl\\xc5F\\x96\\xf6\\x0e\\xc4\\xb1/\\xb2e\\x02*\\xa6\\x14\\x98\\x10\\xa6u\\xed>J{;\\x05\\xc1613\\xe3P\\x10\\xb3|\"K\\x9cDKe\\xfbUa{\\xfd|v~}\\xb7\\xe0O\\xe4\\xb6\\x04\\x9f\\x1b\\xf6\\x9f\\xbb\\x9b\\xdf\\xe7\\xff\\xcc?_\\x7f\\xfa\\xcf\\xc7\\x7f\\xfe\\xb9\\xf9\\xc1LL\\xe9)\\xf2\\xc7\\x1dl0\\xa2\\x08\\xe4\\x85#\\xc6\\xd0\\x90\\x1fT\\x81\"\\x0b+7\\xc2\\xca-3\\x08\\x17+\\x1f^\\x7f\\x07\\xa8C\\x8e\\xeb\\xd2\\xa6m;7\\xc4$\\xb2k\\x17\\xe7\\xa6Y\\xf4E\\x1dZ\\xa1\\xc8[\\x07\\x86\\x13\\xd4e\\x8c\\xc94\\xe3\\x85ydH9%\\xa3,\\x8d\\x80\\xb7\\xf9\\x00 \\xaf.\\t\\x8f0-\\x82K;\\x17y\\xaf*\\xac\\x06\\xd0\\x8e\\xe4\\x8c^\\x8f\\xde1wT\\x9a\\xb4I\\xe24A\\xa09\\x9a\\xd3\\x940\\xec\\r\\xa6\\xda+\\x17{\\xd0\\xd6\\x1c\\xa2\\t\\x01[\\xb1HXY\\x86\\x13\\'c\\xb3=q\\xb4\\r I\\x81\\xc3\\xfdDd\\xce\\x90\\xf9\\xeb\\xd9\\xfc\\xe6\\xd3\\xd9\\xe7\\xf9\\xb7;\\xf6\\x91\\xd7\\xbe\\xac\\xd8\\xb4\\x99\\xc2\\x1d\\xe9\\x95\\xe3\\x0c\\x99\\x9cEh!\\xf4\\xc5\\xcd\\x06\\xbb\\xd9Ju~\\xf3q\\xfd\\xb1\\xdeu\\x1d\\x18V\\x06\\xb6p\\x07b\\xdb6R\\x0c\\xaa0\\xee\\x02\\xe8\\x07\\x9d\\x9e\\x085\\x88hPO \\x13\\xaa*t\\xda\\x11\\x82\\xd8\\xb2\\xa7h|\\xc64X\\x94c\\xe0\\xd5%\\xc0x\\x91\\xb2\\x80t\\xe7A\\xaaC\\x9c\\xc6\\xc8\\xe69D#\\xc5\\x04\\x1b\\x10\\xbd\\x19\\xc5\\xbf\\x1d\\x97\\xd8GI\\x94XQ\\x1fSS34\\x0f\\xf9V\\xa9\\xc7\\x9e\\xe7\\xd4\\x89\\xe0{\\x01$\\xb6c\\xd3\\xa9v\\xce#4\\xcf\\xd0\\xcdo\\xc1\\x07ced\\x7fp^\\x88\\x05\\x83\\xec\\xa8_\\x85%\\n\\x144\\xd2K\\x8a\\xb8\\xf0\\xe1R)\\xf1\\xbb\\x8f\\x1c\\xf4.\\xa22kh\\xa7w\\x96\\xe6\\xc7V\\xe3\\x17\\xa1m\\xa6\\x1aL\\xfa\\x84\\xf8\\x00\\x1b\\x91\\xb8+D\\xb6S\\x05O,$\\xdb\\xbbUK&\\xd2sbG[\\xc4\\xce\\x9c\\xf41:\\x0eA\\xec\\xe8\\'\\x13\\xbb\\x10i`\\x92;L[\\xe8\\x1e\\x1dr\\xcf\\xbf\\xed\\xa3uK\\\\\\xec\\xca\\x08\\t\\xc4@\\xec\\xcf\\x8e\\xaa\\xfa\\t\\xdevy\\xe2H\\x8b\\xfd\\xc5\\x0eU2\\x10;&\\'h\\xcd\\x9bb\\xf7Jh\\xc4\\xd0A\\xdc\\x7f[\\xaa\\xf3\\xc3\\x1b\\x9eF\\xda\\xbb\\x85Q%vQ4N\\x054\\x00\\xb3<\\xc2I\\xeb\\xf9\\x9e\\xa3k\\xae\\xbd)R\\xa8R\\x91\\xb3\\x1dr\\xf2\\xb0\\xa9]\\xe7\\xbc\\xdas\\xfcX\\xc5\\x12\\x02\\x18\\xc9\\xabK*\\xf1K\\x1e\\x8c\\xde\\xad\\x1auY\\xd9\\x7fr>\\xbb\\x12\\x11\\x18{\\xe39\\x16C\\xf7m\\x1d\\x8b\\x9f\\x88?\\x11\\x8a\\xa0HX\\x9e\\xd8)\\xb8\\x84\\xe4\\x997}\\x0b.<\\x8a\\xbf\\xf9\\xa6\\xa3\\x13Y\\xe5i\\x82-Q\\x1a\\x15A8\\x92+\\x93\\x99\\x90Uf\\xde\\xa3\\xb74cv\\x9e` \\x94\\xd0\\xf3\\x02\\x97\\x89\\xe1\\x1aJN\\xd13\\x1a\\x86\\xc9\\x0b0\\xdb\\xe3\\xe9\\x92\\xf9\\xcd\\xfc\\x92\\x9b\\xf9x\\xbb\\xdc\\xff\\xf9\\xf7\\xee\\xcb\\xa6\\xc4\\xc7J\\xc2\\xd6%\\xce\\xef\\xd8A\\xdd\\xecU\\toGV\\x1e\\x18\\xb6A+\\x84\\xe2\\xa6\\x85MW7\\xbd\\x8d\\x8c\\xa8\\x0cK?j7\\x85\\x8dUY\\x146Ddb\\xe9\\xf5\\xa3\\xb8\\xc7C\\x96[%\\xbd\\xe7\\\\\\x02\\x86\\x08/\\x19{\\xe8i\\xe5\\xd9\\x95\\xeb\\xef\\xb7W\\xb3\\xcb\\x7f\\xfe\\xf8\\xe7\\xea\\xdf\\xff\\xfc\\xcf\\x92\\x84\\xe7\\xf2\\xfa\\xeb\\xf5\\xd5\\xe9\\xec3\\x17\\xe5\\xef\\xdff_\\xff\\xb88_u\\x111\\x8f\\x0e\\xc2\\x91.\"\\xb6&\\xaf#S\\x96|d\\n\\x18_;\\xbc\\xfe\\x9al\\xac\\xed\\x9d\\x1fc\\xe2D\\xe4U^\\xd5\\x1au\\xa1\\x9b\\x1a\\xcab\\x0f[\\x9a\\x83\\xc24\\xa7\\xc0\\xd7\\x8b\\x1c\\x08,\\r\\x98\\xe1 \\xc62T\\x00\\xa6\\xd5\\x05P^\\xc4w\\xaa\\x8e\\xb7\\x0b\\x01\\xb6\\x03V\\x15~\\x80\\x0fR|\\xa8\\xf0\\x03d7\\xb6\\x9f\\x8dn\\xb1\\x17\\xd0\\x9d\\x9f_\\xdc\\xbf\\x02]0b\\xde\\xbe\\x88\\xee\\xc3\\xdao\\x84.tp\\x03<\\rk8\\x86)\\x8c\\x1d\\xa8\\xd9Yn\\x85\\xa6V\\x06\\x85\\x9dGB\\xe9\\x1aB\\x92\\x18\\xa9bG+\\xc4\\xd3\\xa2!{\\xa1+K\\xfb:\\xe2/ \\xfb\\xcf\\xcd\\xfc\\xf6\\xfe\\x05d\\x99912\\xec\\xf5ed\\x17k\\xbf\\x11\\xb2N\\x0e\\xbc,\\xa8\\xdd\\xb2\\xb7\\r\\xb7\\x04v\\xe6F!\\xb5\\xfb\"\\xcbH\\x93\\xa5\\xa4\\x14\\xf6\\xad\\x8c\\xc4\\x10\\x0b\\x86|p\\xde;\\xec[\\xb4o\\x12ID\\xf6\\xc7_K\\xc1\\x7f\\xbe:\\x9b}\\xba\\xe3\\x13\\xe3\\xee\\x9f>\\xe1\\xa4\\x92w\\xeb\\x85>\\no]\\x1b\\x99\\xc04\\x84\\xd5\\x7fZ\\xd8\\x88\\x9fY\\xf8\\xf0\\x98f\\xbd\\x1e\\xd7]\\x9b\\x95]\\x18P\\xec6-\\xae]\\xea\\x18\\xae\\xd6\\x05\\xc8w\\xc4L\\x00\\x8f\\xb4\\x8a\\xb4R\\n3\\xf5\\xe0\\xc4,,\\xaf\\x1cQ\\xc73\\x83<H\\xc2>\\xae.\\xa1\\xc4/y\\x87\\xfbn]\\x81\\xdc\\xb8\\xdf\\x1bX*\\x02+\\xe1\\xb1\\xb2\\xf9\\xdd\\x81\\xa5\\xc7\\x02\\xd6\\x8c\\x8d\\xa6t\\\\\\xe4\\x12\\xe0\\x97!1*\\x98\\x14\\x1d5\\xb5\\xc2\\xcbi\\x84r\\xa1\\x9e\\x9e\\xd7\\xdc\\x88\\x8c\\xc5\\xccm\\x00\\xd3jR\\xf7\\x05vgN\\xbd\\xfd\\x81U\\x06;\\x16\\x130t\\xecv\\x07V9\\x16\\xb0\\x15%\\xa44\\x99\\xcbW\\xfa-\\xb0b-m\\xb0\\xd6V\\x004\\x99\\xeev\\x10\\tA\\x0e\\x19+\\xe2\\xd8H\\x99\\x93\\x0b\\x92\\x89\\x8dZ\\xfb\\x00\\x8b\\xd4\\x9d\\xe7F\\xee\\x0f\\xac:\\x00V\\x82#\\x8d\\xbe\\xbb\\x03\\xab\\x1e\\rX\\xdb70N;?\\xcfs-\\x81\\x10\\xc50Bq\\xd561v\\xbb\\xca\\x15Y\\x14\\x88\"\\xf6\\xc0\\x00\\x89\\xc8\\xe4=v,Rw\\x8b\\xb5L\\x01\\x96\\xe1%\\x02\\x0b\\xc6h\\x1bw\\x06\\xf6q\\xe1#\\xc4\\xd0\\xa0o\\x94\\x1dtZ\\x988vQ\\xfbM\\xdaa\\x08\\xb3\\xa2\\xf2I\\xe8\\xe1\\xb2\\x12w\\xac<pxT@\\xc0\\xc4a$\\xfb\\x01\\xab\\xec\\x15D\\xdb\\x0fXyp\\xc627\\xe0\\x00\\xaa\\xf8q\\xe1\\xc3\\x03\\xdba\\xce\\xb9V\\'=p\\xfd\\xb2\\r\\rhb+6\\xdd$\\x0e!\\n\\xec\\xa4\\x11\\x80\\xa5@\\x11I\\xbbx\\x8d\\xc3\\xc4\\xbe\\x82\\xbd\\x80\\x85d\\xf7\\n\\xf7\\xbdw,\\x18\\xecXH\\xa5\\xb1\\xf1\\x8a\\xbb\\x02\\x0b\\x8e\\x05,\\xa9\\xc2,\\xeb\\xd3\\xb4\\xf7\\n\\x1a\\x1b\\x14\\x06\\x9a\\x9b\\x9a\\xado\\xc69\\xb1\\xec4\\xca\\xc4\\x1dK\\x08\\x1a\\x02\\x8b&\\xb6.\\xec\\t\\xec\\xce#S\\xf6\\x07\\x16\\x0ev,\\xc2#Q\\xf1\\xdd\\x81\\x85\\xc7\\x02VO\\xf2\\x06U\\xc0\\xcb=\\x8bm[\\xcd\\x08\\x89\\x13S\\xd8T\\x84\\xc6Ul\\x06\\xe2\\xc8m8(\\xaf\\xe7\\xa5\\x91`\\xda\\x9c\\xe0\\xfd\\x80\\xdd\\xa3\\x08x\\x7fU\\x8c\\x86~\\xac:\\x92\\xe0\\xdb\\x1dXt,`}\\x0b\\xb6-A\\xae\\xee\\x06=\\x85\\x8e\\xde\\x13\\xdf\\xa8\\xcc\\x82\\xf4zG[{\\x00,CB\\xe4\\x8e#l\\xcf\\xa2w\\xb0\\x8a\\xf9\\xcc\\xb97\\x03\\x16\\x0f\\xfdX*\\x1db\\xc7\\xe2c\\x01\\xeb\\xb4\\xb5]c\\x8a}\\x80\\xa1\\r\\xdb\\xc4\\xb0\\xd3$\\xafIh\\xa3\\xb8\\x89\\x91%V.C(N\\xf6\\xe6\\x14\\x92\\xcaDV\\xdf=\\x81\\xdd\\xcd\\xdd\\x99\\x04\\xec \\xf2\\xc4\\xeb\\x7f\\x0e\\xe0\\xee\\xc8G\\x8b<9\\xae\\xeb\\xa7Z\\xecy)\\x0cj\\xe4\\xc4>.\\xba,\\x0e(6\\xa0\\xcd\\xfe\\x13\\x89\\x8e \\x11\\xd3\\xf5\\xb2D\\x11T&\\x0e?\\xdc\\x07XY\\x96\\xde\\x0e\\xd8A\\xe4If\\xb7\\r\\xdb\\xd4w\\x07\\xf6h\\x91\\xa7\\xca\\x8bB\\x9c\\xa6\\xa4\\xa5z\\xe6\\xb7\\xa1S\\xd8F\\xd5\\xb4\\xbae\\xbaa\\xe7\\x95H\\xf4c\\x15u8>\\x80yt\\xe4\\x1d\\xceX\\x9e\\xe2|3\\xe3i3\\xf2\\xb4\\x08^\\xab\\xe0\\x10V\\xf1\\xd1\"O\\x98ZZ\\xe1\\xfb\\xc0L\\xb4^/\\x92\\x1cFz\\xe8\\xe6f\\xdf\\xf60\\xb6\\xf4N\\x98[7\\xe6\\xc72\\xf3\\x14M\\xcb\\x80\\xef\\x97\\x00\\xc0\\xe8\\xedB\\x8a\\xb2*\\x00\\x0b$,\\x1d\\xe4\\x8c=Z\\xe4I\\xcfB\\xb7\\n\\xb1\\xdf\\xb4\\x0c\\xcc\\xc2\\xb7k\\x92\\xe7Q\\xa7\\xf9\\xb4l\\xd8g\\xd5 \\t@\\xc4\\xf6 \\x99\\x17\\x13\\x93w\\x01\\xf6\\xed\\xacb \\x89\\xc0\\xca|p\\xd0t`\\xc1\\xd1\"O\\x00V\\xb0\\xb7BT1t\\x11\\xed]\\x14\\x93\\xb4BZ\\x02;\\x1a\\x15V 2\\xf1b\\xa2\\x88\\x95B\\x0c\\x9e\\x89\\xfcu{\\x02\\xbb\\xa3\\xbb3e\\xc7\\x02y\\xb0c\\xe5\\xb12\\xd2\\xdd\\x81=Z\\xe4\\tWDo\\xbc^\\xb7;\\xcdK-\\x8cu\\xb7\\xab+&p\\xaa\\x07\\r-*]\\x04V\\xa1\"\\xe9?R9K\\xf8\\xdb\\x03\\xbb>\\xf2\\xed\\xe8\\xc0\\x82\\xc1\\x8e\\x85c\\x933v\\x07\\xf6h\\x91\\'\\xd80(\\x91a\\x18\\xbaYVq\\xe5\\xe7\\xa8.5\\xaf\\x03\\x1d\\xd1\\xd2P\\xb3\\r\\x01X\\x15(b\\xda\\x0e\\xf3q\"\\x93\\x8c\\xa7}\\x81\\xdd}p\\xd9\\xde\\xc0\\xc2\\xc1\\x8e\\x05\\xf4\\x10I\\x00p\\xb4\\xc8\\x93cc/\\xd4j\\xdbk\\xda\\x0e\\x07\\x99E\\xb1N\\xed0\\x08=\\x98\\xf9\\x81\\xdd\\x0b\\r\\x8e2\\xa1b\\x80BF\\x90Lf\\x0c\\xd8\\x0b\\xd87tw\\x00\\x1aZ\\xc5\\xcaAT\\xf1\\xd1\"Ou\\x98V\\x19\\x06\\x86\\xe5\\xf44j\\xb0\\x93[\\xd4L\\x0b\\x0b\\xb6PK\\xab\\xd6\\x15\\xa6\\xe1\\xc8T\\x95\\x87\\xc6\\x93B&\\x92\\x9f\\xefW\\x16\\xb3#\\xfb\\xf5\\xa4\\x1d\\x8b\\x07;\\x16\\x1d$@\\x01\\x8e\\x16y\\x8a\\xf3\\xd8\\xf7\\xb2\\xc8\\xc1>\\xb6-\\xdb2B;\\x84uPha\\x9a\\x18ZY\\x88\\x01\\n@DV{\\xe6\\xff\\x000\\xadOv_`\\xdf\\xce\\xdd\\x01d\\xc4\\x8f=D\\xac\\x18\\x1c/\\xf2\\x94\\xd4\\xd8\\xa4y\\xd9\\xb7a\\x02\\xbc2\\xaf\\xfa\\x826\\xb9ej\\x81\\xa1\\x19\\x16\\x14\\xdd\\x1d\\xac\\x0c\\xfcX\\xc8\\x99j\\xdf\\x01Xv\\xf7>\\xc0\\x9e|\\xb9\\x9d\\xed\\x07.\\x1d\\xfa\\xb2\\xf4\\x10\\xe51\\xe0h\\xd1\\'\\xc75m\\x977\\xfc\\xa5e\\xda$\\x91\\xa5\\x91\\xda5\\xe2\\xa2\\xd6\\xdd6Ay(\\x14\\x17\\xcbhI\\x95\\xben@Q>\\xcf\\xfc=\\xc0}C\\xcbx\\x18}\\xc2H:@\\xa5\"8Z\\xf4)\\r:\\x98\\x1a\\xb6\\x19\\xa7\\xa0\\xd1\\xbc\\x04\\xe4\\xb5i\\x94\\x01\\xa2Q\\tj\\xe8{b\\xb2]Udq\\x10\\x13&\\xb2\\xf4\\x0eU\\xe32>\\x9aa|9\\xbf\\xbd?\\xbb\\xfb\\xf3\\xfa\\xc7\\xe2\\xb3\\x8b\\xab/\\xd7k\\xfcK<kGG\\xa8\\xf3_\\xc2\\xf4iQ\\x8d\\x7f\\xe6=,z\\x84\\xa0S\\x05lS\\x8b\\xba.p@nE\\x86\\x87]\\xe8\\xdaF\\x92\\x96\\xb1I@\"\\xb8\\xb0D\\x05\\xc2>U\\x80J\\xa4\\x89\\xed\\x1d{\\xd5\\xc4\\xec\\xc8?\\xb7\\x839\\xcc \\xfc|9?\\x9b\\x9d\\xff}7gO\\xf8s\\xf9\\x85\\x15\\xa6\\xdc\\x83E\\x18\\xef~\\xba\\xaeV.\\x16+kO+\\x1f\\xc1 \\x0e\\xa0\\xe6\\x06\\xa5\\xde\\x15\\x10\\x14\\x85U\\xe4\\xbe\\x91\\xb5^bxI\\x9d\\xe4i&\\x84\\x89)\\x1a::\\x84\\x8f\\xafz\\x87\\x8d\\xaa\\xee\\xdc\\xde\\xb1\\x03\\xaa\\xe7\\xd7?\\xae.\\xafg\\xe7\\xcbk\\xfe\\xab1\\xf1\\xff>\\xbb\\xbf\\x9f}\\xfe\\xf3\\xfe\\xdf\\x9b\\xf9\\xc7\\x9b\\xf3/\\xbf\\\\\\x9c\\x7f\\xe4EOkp\\x13\\xb4{\\x88Qx\\xe4\\x12m{\\xe3\\x91%\\x7fdj\\xda\\xcbG\\xae\\xbf\\x07\\x1b\\xddZ\\x1f\\x1eW\\x19})\\xd6\\xbf\\x95\\xfd\\xfc/\\xbc\\x1a\\xae\\xdbj\\x86\\xe6\\xeb~\\xa1E\\xc0\\xe8R\\xaf\\xd4\\xc3\\xaa#I\\x95$\\x99\\xddi\\x02\\r\\x80\"\\x13E\\x15\\xd3\\xf4\\x0c=\\xf5]\\xbaC\\xa0\\xd8\\xa1{`\\xd0\\xd5\\xf5\\xb3\\x18\\xc2\\xdd\\x83\\x19\\xbb\\x83\\xae\\xbe\\t\\xe85\\x8e\\x830CV\\xed\\x9bmK\\xfb\\xb2\\xcc]\\xd7\\xca\\x88\\xdb\\xa6iP\\xc4\\x85\\xd06\\x82\\x18\\xbaC\"X^\\x8c\\xfe\\x1e\\xf66\\x14\\xb9\\x86\\x0e\\x0b:\\x90\\xd6A\\x97\\xc0\\xee\\x87\\xf5\\xce\\xa0\\x03\\xe9M@7c\\xc3\\xad\\xa2,\\x0b\\xea\"\\xc8j\\xb3.JJudV\\xad\\xef\\x9a=\\xb2\\x85I\\x8e\\x18\\xaa\\xec?\\xc1\\\\\\xa3DA\\x13\\xa9L\\x0f`\\xae\\xdd\\xdf~\\xbfb\\xbf\\xf5\\x83\\x0c\\x96?\\xf1Q^\\x85\\xf5f0\\x19\\x8f\\xd0\\x03\\x1f\\xfeU\\x90\\xdf\\xe4U\\xf0:;\\xce\\xac\\xcaM\\xa3\\xc6)\\xbb s\"\\x80\\xdc\\xc0\\x0cjjBl\\xc4\\x02\\xc7\\x9d\\xcc6\\x9d$\\x86\\xc8T\\xc0g\\x9c\\xbe\\xc3\\xbb@\\xa4wy\\x17\\xc0z\\x98\\x8cHop\\x16<\\x0cn8\\xfa\\xbb\\xd0u\\xb5f\\'u\\x94\\x13\\xcbL\\xaa<5\\x1a\\xa3\\xb6\\x90\\xe7 \\xbb\\x83\\x0eu\\x04:\\t\\xe6\\xaf\\xd1A~C&@V\\xde!q%\\x13\\x91\\xef\\xf0\\xc0\\xa0\\xc3\\xcd\\xc4\\xf2\\xee5>\\xbb\\x83\\x0e\\xdf\\x04t\\x083\\xcfF\\xa4\\xf74\\x17\\x85Ai\\xe6 \\x85\\xb4,B\\xd7\\xf1\\x13]\\xcb\\x85\\xb3\\x000\\xad/\\xf2\\\\\\xf2\\xc1\\x05\\x18\\xbdC\\x88\\\\\\xde,\\xa7~3\\x05\\x806\\xc2\\xa9\\xf2[(\\x00\\xf4&\\xefB\\x1f7I\\x15wf\\x91U\\xbd\\x16\\xa7H\\x87\\xb8\\xa8\\x93\\x06\\x85\\x8dE9\\x9d\\xa1\\xe0\\x01\\x00f\\x14\\x89\\xf5\\x9c\\x9c\\xcb\\x8b\\xbeG|\\x8e\\x88Dy\\x07\\x06\\x1d\\xaf\\x1b\\x83\\x8a\\xb4{rdw\\xd0\\xf1\\x9b\\x80\\xde\\xea\\x91SZ\\x8e\\x9e[Vd7\\x06\\xb6\\xad\\xd0\\x8au;\\xae\\x1d\\x1fd\\x00\\x08\\x94\\x00D\\x91d\\x91\\xe9\\x99-\\t\\xb0\\xf2\\x0eu(\\xf2Z3\\xeaQ@\\'\\x1b9\\xec\\xfdC;;\\x80N\\xde\\xc6\\x03\\x80\\x81\\xd7YIA,\\xccK\\xb6\\xf5\\nB\\x8d\\xb4A\\x85i\\xed\\xc5\\x9e-\\xf4\\xd0 L\\x96\\xae\\xc9\\x06\\xcf\\x07\\xdb\\xfd\\xef\\x11\\xb1\\x15g\\xb9\\x1f\\x1at\\xbav\\xd4\\xf3B\\xf17\\x00\\x9d\\xbe\\t\\xe8\\x0e\\xd6h\\xdf\\xe7Y\\x99\\xb6\\x86_\\xb8\\r4\\x13\\xa8\\x95]\\x08++\\x8fkqn\\x95\\xcc65\\xc4\\x03\\xfdN%Ez\\x17\\xfdN\\xde\\xe5\\xac_\\x8f\\xf6q\\x8e\\xd67x\\x19\\xde&\\xda\\xd7\\xe9^T$UQ;\\x89U\\xe4\\x19\\xf6\\xad>I\\xc3\\xcav3D\\\\7\\x85\\xe2\\xcb\\x80\\xc00\\xf2\\x03\\x89\\xacL\\xeb\\xca\\xd9\\xf7e\\xa0\\x87{\\x19\\xae.fW\\xff}\\xf1\\x10\\xd3\\xe7\\x8c\\xd1\\xeb\\xe9\\xd4\\xd7\\x11\\xfa\\x8c\\x02\\xce\\x97\\xcd.\\x8a\\xa7e\\x0f\\x1f\\xcao\\xf2\\x88j\\xba\\x1eZy[\\xdaI\\x0bH\\xeb\\xc7z\\xeeg\\xd02\\x9c0\\x86\\x89\\x98L\\x05\\xa2\\xb3\\x06\\x15\"\\x81\\xf7\\xb0\\xdbwL\\x94\\xef\\x16\\xca\\xe7\\xc9\\xb1O\\xb7\\xd7?\\xd8\\x92\\xd7lC\\xdc\\xdd\\xafgh\\x16u\\xfc{ob\\xbe\\xb4\\xbeX\\xba\\xbc\\xbe\\t\\x1f\\x96><\\xaea\\x19\\xd9&l\\x82\\xcer\\xe2\\xa0\\x8au\\'L\\x8a\\xac\\x8e\\xb2\\xb8jm\\xcb\\x82b\\xb7\\x1c;\\x88E%\\xad\\x00\\xf0.\\xd19\\x89\\xeeV\\xb3\\xb4;\\xb0\\x8f\\np\\x0b\\xb4p\\xef\\x18-_\\xdc\\\\.~Lp\\xfb\\\\OZ\\xaf6ZJ\\n\\x92!\\xc3\\x82\\x99SW\\x1d\\xacP\\x9d\\x95\\x91?P\\xbb\\n\\x10\\x95\\xae\\xa2\\x02\\xf5=\\xda4$\\xe5\\xd8\\xbbV\\x00\\xf7\\xee\\xe2\\xdb\\x8d\\x90_\\x95\\x10\\x1c\\x99\"\\xb9?\\xc4\\xc5\\xe3#\\x0e\\x0f\\xb4\\x97\\x86\\x8d\\xa3\\xc7\\xa0\\x88\\xcc4H\\xbb\\xdc\\t\\xdd6\\xee\\x93@\\xeb\\x8a\\xb435\\x91\\xe2G\\x1e\\x10\\xc1`*\\x83\\x89\\x03\\x8b\\xf7\\xe4\\xe3\\xdaw\\xa0\\xd1kq\\xbe\\xbe<\\xff\\xfb\\xfa\\xf2\\xfb\\xb7\\xab\\xcd\\xdc9\\xb3&\\xf6\\x0e\\xa5\\xf0e\\x93\\xcb\\xf3\\xfaq\\xd9\\xc3\\xe3\\x99\\xa7^\\xac\\x01\\x94\\xf5\\xa9\\xa1\\xe9\\x0e\\x00y\\x8e\\xec\\x90\\x164\\xd3\\x8a\\xde\\x8a\"\\xa1q\\x8e2\\x08\\x04<y\\xbe\\xea=j\\xfa\\xa5\\xbd)\\xec\\x9f\\xc3\\xf3\\xf3B\\xd2\\xcb\\x0f\\xb24, \\xc5\\xcc=\\xdc\\x15\\xcd\\xf1E\\x0f\\x8f\\xa5\\rj\\xbd0,\\xd4\\xe3\\xa2\\xa8C\\xbbm\\x1aj\\x86\\x06p=\\xc7\\xf0yi\\x9a\\x80\\xa5,V\\xa1\\x01\\x89\\xa1\\x81\\xdeaob|H\\x8e\\xcbg\\xf0\\x1cr\\xe5A\\x05\\xbe\\x86\\x02\\xf19<\\x8fV3\\xda9Vc\\xc5Q\\x98\\x86\\x0e\\xeaC\\xa2\\xe7U\\xe0G\\xba\\x1d\\x05ML}\\x17\\tx\\x12\"N\\xcc\\x91%U\\x81\\x13y\\xb0\\xf7+W\\x02\\xc78S\\x05\\xb1\\x0f\\xcaDef@\\xec\\\\M8\\xbe\\xe8\\xe1\\xb1\\x84f\\x1e\\x91\\xdeKz\\x12\\xdbV\\xae\\xe5>\\t\\xdc\\xc4rc\\xcd\\xc6F\\x96V\\x02{6g\\x9b\\x15\\xa7\\xa11?\\x9d\\xa2w(B\\xd9\\x83\\xd4|g0\\xe5a\\x9b\\xa3\\x84w\\x0fF\\x8f/zx0\\xe34j\\x9b\\x04Z\\x9e\\xe3\\xf4\\xad\\xe9\\x9b\\x8e\\x99DQ\\x9b\\x06aRQ\\xcdL\\x04~\\x08B\\x87\\xc6.\\xb3v\\x95w\\x880\\x00\\xf5\\xf8\\x87\\xa6<\\xe8l\\x94\\xd9}\\x13\\x0f\\xcd\\xe3\\xf1i\\xa5YD\\x92\\xb2\\xeb\\x0c\\x1aGE\\xcdvf\\xdakv\\xa0\\xd9}c\\xf8U\\xe3\\x15\\xa2\\x92\\x1dRV\"f\\x15\\xbdK\\x96\\xe0\\x18\\x06\\xad \\xf6\\x91fF\\xbc{\\xfb\\xf1\\xf8\\xa2\\x87\\xc7\\xb2B\\xd4\\xd3\\xc2\\xde\\x05\\xbe\\x91g]\\xab\\xd1\\xba\\xee\\x8d\\x98P\\xbb\\xa0Vl\\xe4B\\xeb13[\\x85\\x06U\\xded\\xae\\xd2\\xf7(\\xf4\\xdb\\xbd\\xbewg,\\xd1\\xb0\\x7f\\x11\\xab`\\xa2\\x8eEG\\xeb]\\xd4\\x90\\x9e\\xfa^\\xaa\\x17\\xba\\xd9\\xd1\\xd0\\xc7\\x89Qt\\x89\\x93\\xf7\\x80\\xb7A\\x91\\x1e\\x08\\xfb\\x12\\xa8\"\\xcd\\x1d\\xa2p\\xe9\\xad\\xbc-\\x96p\\xc7f\\xe3=\\xb0\\xe4\\\\\\xe5#=\\x8b\\x13\\xad\\x9f\\xd5\\xaa\\x87G\\x13\\xc0L3\\xcc\\xc0,Z\\x87\\x97\\xdfhq\\x92g}Y\\'\\x05j\\xc3\\xc4t\\x04\\x02Y\"\\xa3\\x01\\xa1\\x924u@\\xd1\\x9e\\xae\\x89t\\x8c\\xd8\\x9f(\\xf7\\x11?s\\x8f\\x0e\\xd4-\\xab\\x1e\\x1e\\xcd\\x82\\xf2\\x89\\x18\\xb9\\xe6P\\x8a\\xf5\\x00\\x17z\\x89\\r\\xc7q\\x8d\\xb0I\\xca4\\'\\xc2\\x08eE\\xa6b\\xbb\\x13\\xfb\\r\\x15\\xf9\\x1d\\x92\\xac\\x90\\xeeL\\xca\\xbe\\x9b\\xa3yq?\\xff&#\\xd1\\x9a\\x95UN\\xb9\\xb9\\'\\x9c\\x1bK\\x1e\\x1eK\\xb3\\xb7*\\x17d9\\xaaL\\xbf\\xc1\\xbeW\\xd7\\xb6\\x19a\\x9c\\xfamj3\\x84\\x85Vb\\x02%\\xb1s\\x02 \"\\xbd\\x8b\\xfd\\xa3\\xec\\xdc\"\\xbe+\\x8eC\\x8e\\x0e>\\xd2r\\x12\\x8eG\\xd3\\xb0\\xd0il\\xdf7\\x02\\x1a\\xc4\\xa5f\\x85\\x96\\xee\\x83\\xb8\\x0f\\xdd(nI\\xef\\xd8\\x96\\xd0\\xebO\\x89,\\x94>\\xcb\\xaaJ\\x81\\xf2\\x1e\\xf5\\xae\\xbb\\x8f\\xae9\\xb9\\xb8:\\x7f\\x05\\x96_\\xe6\\xf3\\xf3O\\xb3\\xcf\\x7f\\x9d\\xf1\\xb0\\xfb\\xe3\\xc5\\xb0a\\r\\xb3\\xdd\\xb5+\\xa6\\x1bK\\xdb\\xcb\\x8b\\xa3\\xb5\\xadiy\\x95\\x00\\xbb\\xcb\\x98u\\x0b[\\xcf\\x8chixV\\x02\\n\\xb3\\n\\xa0f\"\\xd1\\x16\\xc2pxz2\\x1f\\xe5\\x1dX\\xeb\\xd0\\xc1\\xc6\\x12\\xad\\xe3\\xcaw\\xd2S\\xe5\\xc1\\xa2\\xca\\x81OD\\xe6\\x9f\\x9c_\\xdc\\xdd\\\\\\xce\\xfe\\xfd\\x08xA7\\x91\\xa9\\xa4\\xb2s\\x143L>\\xaf\\xefa\\x15\\xee\\xec\\xc1l<\\xd2~\\xdd#\\xd7\\xdf\\x83=\\xeb\\x1d\\xfe\\xf9p\\x7f\\xf1\\xd7\\xec\\xc3\\xb7;\\x86\\xe5\\xc5\\xe7\\xf9\\x0b\\xafIS\\x07zT\\xfb\\xc4k)\\xa5\\x95\\x8f[;\\xf5,\\xd0\\x05\\xa8k+dS\\xe15Q\\x91$\\xf2\\xf3P\\x0c\\xe0{\\x1c\\xcb\\x92\\xb4K\\x95\\xe3\\xab\\xe0gv\\x9b\\x0cd\\x0c\\t\\xc3u\\x1d~\\xde\\xf2\"\\xed\\x9cN}\\x15\\xfc\\xc2#\\xdf\\x1c~\\xdc\\x96\\xadnW(\"\\xa5\\x9d&\\xa1\\xdb\\x1bn\\xed\\xa7u\\\\\\xa0\\xcan\\xa8)D2\\xd8O\\xaa\\x0eJ\\x9e\\x11\\xe7\\x06\\x7f\\x87a9H9@\\x19\\xd4\\xab\\xde\\x0b\"\\x11\\xce\\xa5\\x89\\xa9\\x04\\x04\\xb5\\xc0\\xd0;\\xce{!<\\xf2\\xcd\\xdf\\x8b\\xdc\\xca\\xdc\\xaa\\xd6u\\x1b\\xc2\\xc8\\xd61mb\\xcf3\\x8c\\xd4\\xab\\x1bP\\xd1\\x94\\x08M\\xec*\\x16\\xe7 3\\x8d.Q\\xf8\\x0e\\xbe\\x17\\x04\\xbbt\\xc2\\xbd\\n~\\xcaG\\x90\\xcb\\x12\\xa2H]\\x83\\x9f[\\x01\\xf2\\xd8\\xc4\\xc7C\\xc0/<\\xf2\\xcd\\xe17\\x9c\\x92\\xf6\\x8d\\x83\\x03\\x1a\\xa51\\x88pc\\xb9!1}\\xea\\xb49q\\x1c d\\xec\\x95a\\x16\\tJ\\n\\x9e:\\xd3p/.c Nc~\\x0e\\xfe\\xdb\\xbb\\xbbE\\xba\\x9c}\\x1c\\x9ax\\xfb\\x04-\\x1f\\x17\\xcc\\xef\\xee\\x8ef\\xd89\\x96\\xdb\\x14U\\xad\\xd5F\\xd7\\xd7n\\x00\\xb1\\xada\\xdd\\xa4\\x1d\\x8d\\xea\\xa4\\x0f}!\\xfbN\\x888nR\\x06*Q\\xa6\\xf5%\\xec\\xc9Z{\\x94\\x80\\xe5\\xdf\\xcb\\x00\\xc6\\xf7\\xdb[\\xf63\\x0e\\x99/\\xe5\\xdd\\xc3'"
      ]
     },
     "execution_count": 166,
     "metadata": {},
     "output_type": "execute_result"
    }
   ],
   "source": [
    "chunk"
   ]
  },
  {
   "cell_type": "code",
   "execution_count": 169,
   "metadata": {},
   "outputs": [
    {
     "data": {
      "text/plain": [
       "(52457, 1249297, 1249297)"
      ]
     },
     "execution_count": 169,
     "metadata": {},
     "output_type": "execute_result"
    }
   ],
   "source": [
    "len(decomp_chunk), len(data), data_size[-1]"
   ]
  },
  {
   "cell_type": "code",
   "execution_count": 170,
   "metadata": {},
   "outputs": [],
   "source": [
    "chunk = next(data_stream)\n",
    "decomp_chunk = o.decompress(chunk)\n",
    "data += decomp_chunk.decode()\n",
    "data_size.append(len(data))"
   ]
  },
  {
   "cell_type": "code",
   "execution_count": 171,
   "metadata": {},
   "outputs": [
    {
     "data": {
      "text/plain": [
       "(47320, 1296617, 1296617)"
      ]
     },
     "execution_count": 171,
     "metadata": {},
     "output_type": "execute_result"
    }
   ],
   "source": [
    "len(decomp_chunk), len(data), data_size[-1]"
   ]
  },
  {
   "cell_type": "code",
   "execution_count": 172,
   "metadata": {},
   "outputs": [],
   "source": [
    "chunk = next(data_stream)\n",
    "decomp_chunk = o.decompress(chunk)\n",
    "data += decomp_chunk.decode()\n",
    "data_size.append(len(data))"
   ]
  },
  {
   "cell_type": "code",
   "execution_count": 173,
   "metadata": {},
   "outputs": [
    {
     "data": {
      "text/plain": [
       "(51954, 1348571, 1348571)"
      ]
     },
     "execution_count": 173,
     "metadata": {},
     "output_type": "execute_result"
    }
   ],
   "source": [
    "len(decomp_chunk), len(data), data_size[-1]"
   ]
  },
  {
   "cell_type": "code",
   "execution_count": 174,
   "metadata": {
    "collapsed": true
   },
   "outputs": [
    {
     "data": {
      "text/plain": [
       "b')\\x89\\xfa\\x9c\\t\\xab\\xae+\\x80\\xcd\\xa6FEN\\xeb(|\\xa0\\xd7\\xde\\xf0N\\xc1\\xa0\\x1f\\x14S\\xf4>\\x9aw\\xe7~\\xd0\\xd7\\x82z\\xc3\\xee\\xf9\\xc8L\\xfc\\r,G\\xc6^\\xbe\\x84\\xe5\\xe3:\\xc7\\x850\\x8c}\\x97\\xa0$\\xd7\\xfd$r\\x9d0\\xae\\r\\nm\\xd7K,/\\xcd\\x08S\\xbe\\xc2\\xb6T\\xc4\\x8c\\x1c\\x05D&\\x87\\xa1\\x01\\xde\\r@\\xb2s\\x16|\\x0b\\x80#\\x9c\\t\\x8b0\\xc2\\x8b\\x88\\x1d3KA\\xa2\\x16\\x9a\\x95\\xe6v5\\xcc\"+\\xf4|\\xcd,c\\xa3u\\x91\\xef\\xb9\\tv\\xdcMX(\\x18\\xb4\\xd8+\\x87q&w\\xa7f\\x06kE\\xa3KasNl\\x89\\x9c\\x10^\\x08w\\xc6_\\xeb\\x87\\xce\\x81\\xeb\\xab\\xf3\\x0b\\xfe\\xae\\xfe\\xf1\\xf9\\xfc\\xa3\\xac\\xa8\\xbc\\xe0\\x15\\x03\\xe9\\x97\\xaf\\xd7\\x8b7\\xff\\xeb5\\x13\\xfejR\\t\\x92\\xf0H\\xb5\\x1c\\xe1\\x0c{dI\\x9c-\\xad\\xaf\\xee\\\\\\xa7|\\x15\\xe7\\xba\\xba\\xbd\\xfce\\xcb\\xa3\\x0e\\x1f./+\\xa3KM#&lO\\x19Z\\x9eTm\\x19\\xd4a\\xe5z4\\x08mW\\x1c\\x85\\x89\\xa0\\xd8\\x1f\\x0f\\x15D%y\\x1a}*f\\x9f\\x9c\\xe2\\xf1p9\\x90\\x01\"2^]b\\xc0/\\xf9v\\xdaf\\x89Z\\x95\\xf1\\xc1O\\x07\\xfb\\xe9?7W\\xcf\\xc3\\xfb\\x04#\\x93\\xe3\\xec\\xe2\\xf2\\x97\\xdb\\x9b?\\x1e>\\xfb|~\\xf7Q\\x96(|\\xa0\\x02XG\\x18\\xc1aY\\xc9+\\x106\\x1f\\x1e\\x90\\xa7\\x7f<|fl<\\xe0\\xf0 \\x93>4\\n-\\xa2\\tJS\\x10v\\x9a\\xd3\\xc344M\\xe0jI\\x1d\\xf9\\x03\\xf3\\x14\\x12asBI\\xc1\\x12\\x9cV\\x1b\\xb6\\x17\\xc8\\x08n\\x8b\\x0b\\x1c\\x11d\\x99n\\x82\\x8c\\xd1\\xd0\\xa1\\x9c\\x042\\x7f\\xc0\\xe1A\\xd6#\\xa3\\xc8\\xb3\\xa62m\\xda\\x99]\\xe4ez\\xe64\\x8da78 ~\\x95\\n\\xe7\"\\x92D\\xcb\\x86\\xf3x#<\\x8d\\xe9b/\\x90\\xd9Mo\\x0f2\\xfb)\\xd0:\\xc8\\xbc\\xc7\\xf0\\xa0 \\xf3\\x07\\x1c\\x1e\\xe4 \\xd6u\\x08\\xbb\\xa2-\\n\\xbd%m\\xd9\\xa7i\\x8c{\\xcb\\xafb\\x8d\\x98\\xb6-\\x14yBU\\x16\\xc7F\"\\xc0\\x7f\\xe9\\xb7\\x07Y\\x92\\xdfA]\\x03J\\xf1\\x86\\xba\\xc6\\xc3\\xf4\\xd94\\x90\\x97l]\\x87\\x05\\xb9m\\xb3\\xb8(i_XE\\x95W\\xa5U ;N\\xbd<\\xa7\\x1a\\xd6\\\\31D\\x90E\\x9e\\x06\\xc8\\x8b\\xce&r\\xd6\\xecw&om\\x19?\"\\xc8\\x10\\x13\\xba\\x0e2\\x1d\\xc9\\xbeL\\x02\\x99?\\xe0\\x08gr\\x17\\x82\\xb4\\xf3\\xb5\\xc0/\\xcc\"Ca\\xd0\\xe8\\xb5\\xd1\\x94\\xa1\\rm\\xac\\xebM-\\x82<P\\xd7\\xaa\\xca\\xa4\\xfe\\x0e o\\xaf\\xd7>&\\xc8\\x94\\x90\\ru=\\x12>\\x9a\\x062\\xdd%\\xf4\\xf0f\\x86\\x17Q\\x99\\xfd\\xf1\\x0e\\xeaz}R\\xe9\\x1b\\x82\\xacH\\x1b\\x86\\xd7H$\\x7f\"\\xc8\\xc7`\\x97\\xcb\\xcd\\xc2oh\\x14\\xbb \\xa5E\\xaak\\x9a\\xae3\\xb4\\xfd47\\xec\\xb4oS\\x814\\x10*T\\xec\\x9b\\xe4\\xcc)\\x13i\\xa6\\xf6\\x02\\x19\\xa2m\\xb1\\xdfc\\x82\\xacbi\\xf3L>4\\xc8\\xea.%.G\\xdb\\xc9B\\x11&T\\x88\\xbcl\\xb8}c\\x17j+C\\xf1\\x11AF\\x82\\x9fLG\\xa2\\x89\\x93@FG\\xf1\\x93\\x9d\\xa2G\\xa5G,\\x18D\\x9e\\xd7\\x04I[\\xd1\\xd8\\xa5e\\xdb\\xb9-)k$P\\xe42\\xc3K\\xc8\\x9f\\x03\\x85\\xfd\\xb2\\xd3\\xea\\xcd\\xf7\\xdc\\xc9`[\\xc4\\xff\\xa8 +pC]\\x8f4jL\\x04\\xf9(\\x8c\\x90E\\xe9\\x99\\xd4i\\n\\x13\\x92\\xb8\\xab\\xbb\\x0c\\x91\\x80\\x96\\x95\\x8b\\xb3\\xde\\x81\\xb0\\x14#^\\x92\\xd8E\\r(P\\x97\\xf59o\\xbc\\x93\\xd1;\\x04C8\\xdf\\xf8\\xc6N\\x1e\\xe9C\\x9d\\x06\\xb2,\\x1fA]\\xfbL$\\x06\\xc8B\\xdb\\x89c\\x17\\xf9\\xa8\\xcdJ\\xda\\xb6]E\\xca\\xc6Cq\\x1a\\x89;Y<\\x93!{\\x9b\\x97\\xb3;\\xde\\xd8\\xba\\xa6\\xdb\\xaa&\\x8e\\x0b\\xf2\\xe6N\\x1e)\\x8b\\x99\\n\\xf2\\x11vrm\\x97MQ\\xb7E\\xd9F\\x18Yuhh\\xb0\\x05\\x85\\x05\\xa1\\x8e!n\\xedP\\x04\\x19\\x89g2\\x01\\x90\\xd0i\\xad\\x11{\\x82\\xfc\\x1e\\xea\\x1al\\x82LF\\x88\\x13\\xa6\\x81\\x0c\\x8e\\x01\\xb2F\\x80\\x1f\\x98Z\\x17Y^\\x9f\\x14\\x98y\\xc9y\\x13\\xe7m\\xd2\\xd4z\\x99\\xd8\\xdd \\x18\\x82\\xc5\\x9eH\\t\\x11\"\\xbfG\\xec\\x9anK\\xd8\\x1e\\x15\\xe4M\\xeb\\x9a\\x80C\\x9f\\xc9\\xe0\\x18\\xd6\\xb5_\\x07\\xa1\\xde\\x074\\xea-\\xc3\\x0el\\x94v\\xd4\\xd4hd\\xe6\\x9d[\\x12\\xd2\\x0b 3\\x87I\\x8cx\\x91E\\xe5\\xe2;\\xecd\\xf8\\x0e\\xc1\\x10\\x04\\xc8\\xc6NF\\xe8\\xd0\\xd65\\xd8\\xa5\\x02\\xee\\xd5,\\xec\\xa42R\\xb7\\x8eHlB?\\xaf+\\x9c\\x99qZz\\x89\\xee\\xc2\\xa6\\xef\\x1dK\\xdc\\xc9b\\xd1\\x1bP\\x01\\x95\\xa7\\x95^\\xec\\t2y\\x0f\\xc3\\x0b\\x90\\xcd\\x04\\x85t\\xe0T#\\x7f\\xc0\\xe1A\\x06N\\xab\\x03\\xcb$$\\xf3@@\\x90UVZ\\xe0\\'n\\xd9\\xd8\\x91\\x16Uu#\\x82,\\x16M1\\xc3\\x8b\\xa0\\x89\\xc3\\x82\\xff\\x0f\\x19^@\\xdd<\\x93GJ\\x1d\\'\\x82\\xac\\x1ea\\'c\\xbd\\xac\\x9d\\xa2\\xab];\\x84E\\x92\\x84}\\xd9Y4\\xd0\\xfc\\xc0K}\\x90DB\\xc4\\x0b\\xc9\\xd2\\x00d\\x852G\\xe2\\xedA\\x96\\xc9;D\\xbc\\x18\\x06\\xca\\x86u=\\xd2I0\\x15d\\xe5\\xf0 \\x97\\xd4\\xd2Z\\xb7\\x8e\\xdd\\xd0\\xab\\xcd\\xbc\\x01eX&yfe\\xada\\xe7\\xa0r\\x9d\\x81\\xba\\x16\\x99\\x0f\\x88\\x02\\xf0DB\\x99=A~\\x87|2\\xc3@\\xddLP\\x1c\\\\]\\xab;4y\\xbd\\x16\\xe4(M\\x92\\xd83\\xbc\\xbc\\x08R\\x1b\\xb7A\\x00\\xfd\\xda\\xd2*\\x063t\\xb5\\x08\\x08\\xf4\\x8bP\\xc1\\x03\\xc3K\\x92\\'\\x92\\x8d\\xef\\x0b\\xf2\\xb66\\xa0\\xdd@\\x1et\\xfc?\\x94\\xf5\\xbcl5\\x1fu\\xec\\xfb\\x8e-\\xe8\\x83\\x89\\x86\\n8\\x901\\xbc\\xb5\\xe3\\xff\\x99P\\xe4\\x80b\\x81\\xc9[9\\x81\\xbf\\x9e}\\x9a\\xdfC\\xf2\\x94\\x90gj\\x10\\x8d\\r\\xa3\\x80\\xa7\\xca\\x93\\x94\\x1f\\xee8\\xecp\\xe4\\xe1X\\x84\\x02\\xc0\\\\o\\x0c\\xbd\\xb1\\xc2\\x80\\xb6A\\xdc\\xb84\\xd7J\\xc3\\xf7\\xed\\xc8\\xec=,\\x84\\xf6e\\xd1\\xf9 \\xbc\\x17c\\x92\\xb4\\x15\"+\\xa7\\xca\\x8b\\r\\xff\\x98\\x0f\\xe0\\xc1O\\xd3(\\xf0bD\\xdab\\xb6\\xab\\xacn\\x93\\xf9\\x08\\x8f\\xdf+\\xe4\\xfeV\\x13@v\\x15\\xbdX\\xce\\x02\\x98k?\\x91\\xda\\xe2A\\xf4\\xdb\\x19\\xfd\\xb6\\xc9\\x1c\\xc8\\x83q[\\x80\\x9c@\\xe5\\x84\\x82\\xdf\\xf8L\\xf6/_\\xefg\\xdf\\xef\\xff\\xfc\\x9d\\x19\\xee\\xaa\\xf4iN\\xa4\\xf9\\x17U9W\\xe7\\x8f%\\xbb\\x90w\\xbd\\x89\\x94qw|\\xce\\x198\\x85\\x1c\\t\\xb2\\x9c\\xd0\\xbeu\\xa5\\xc3\\x9f\\x06\\xd0\\r\\xb24\\xae<\\xabi\\x8c\\xca\\xa3iS7\\x91\\x1e\\xc4^\\x135~\\x0eu\\x91\\x8c\\x17\\x88\\xfd\\x83\\xccC\\xc3L\\xa0\\x13\\xc7\\x1b\\x03\\x99\\x99\\xe2*\\x1cg\\xdca\\xffA\\xf0\\xc8\"\\xc7\\x84\\xc8\\x07\\xdap\\x169Y\\xd9\\xad1i\\xad\\xb2z\\x03\\xb6am\\xf5\\xeb\\x81:`y\\xf5\\x00\\x1a\\xd4\\xd9i@Q\\xcb\\xf6\\x87\\xaew\\x16\\xb6\\xad\\xb4\\xc5\\xbeU\\x96\\x91\\x17i\\x99#2\\x89\\x03\\xb1\\x92\\x00p\\xc1N\\x9c\\n\\xf2\\x08\\xccv\\xde\\x9d\\xad\\xe8\\x80\\xc1\\x00G@O\\x16\\x1f\\xa1\\xfc\\x1b&x\\x0b\\xfb\\x97\\x84\\xa4\\xb1^j\\xb8\\x98\\xc8\\xceD\\xbf\\xe09Z\\xdc\\xff\\xf3\\xaa,!\\xe8\\xacJ\\xca\\xc4\\x89R\\xaa,\\x9d\\x92\\xed(\\xf0\\x11\\x19\\xb2\\x8a\\x9e\\x18F(WXh\\xc1\\x0b\\x03\\x86\\xc7\\x84\\x88\\xc2\\xfd\\xed\\xec\\xea\\xeefv;\\xbf\\xfa|1\\xdb\\x04b\\xa4\\xadr\\x0c\\x88r}\\x85\\xc3\\x1e\\xdd#s\\x83A\\t2\\xb7\\xa4a\\x13aB\\xab\\x86@7\\xd1-\\xc7\\xeb\\xa9e\\xa4b\\xcd\\xab\\xaa\\x88\\\\T2\\xc2\\n\\x84\\x87\\xc1c\\x940o\\x1b\\x14x+\\xbd\\xfe\\xb8\\xba\\xba\\xb9\\xbe]\\x87\\x8c\\xa8\\'\\x10?\\x11\\xeb\\xb3?\\x10\\x90\\x91\\xb1\\x8c\\x10\\x9f\\xb2o}\\x84\\xe7\\x08\\x9c\\xa3)Ik\\x10\\xdb CIW9MG\\xb0U\\x1b\\x86\\xe5\\xe1\\xd4\\x86n\\x8a\\x04\\xf9\\x03i\\x99R[SK\\xec\\x07\\xa7\\xd3R0T\\xe2\\x9cg\\xea8\\xeb(\\x9f\\xdc\\x08\\xa1\\xba\\xbaD\\x98_\\xf2\\xe3{o\\xb6\\x9d5\\x00\\xf8\\xb2g\\x12=\\x03\\xf8\\xec\\xcf\\xf9\\xe5\\xe5\\xf5\\x87\\x1f\\xd7\\xb7\\x97\\xe7+X\\xb8\\xfaz\\x11\\x96\\xf1E\\x8e\\x80V\\x1fy\\xd00\\x1b\\xe2tQ\\x8c\\x81I\\x8c\\xac\\xef\\xba\\x90\\xc6\\xa4i\\xb0\\x85\\x0bM@K&\\x03&1\\x99}\\x8dN#o\\xdb\\x0b-\\x04vc\\xf1\\x18Gk\\xf6\\xe9\\xfa\\xfb\\xfd\\n\\x1c\\x80\\xc7JE\\x05p\\x16\\xf7\\x1cc\\xe7h)\\x02}\\x9b5u\\xe5\\xb9m\\xdf\\xa6i\\x0bp\\x96\\xb8\\x95o\\xc6FM\\xa1p\\x8c\\xa8\\xaa*r(+\\x10cyb_\\xff>XHto6\\xf75,>]\\xdc\\xb3\\x1f\\xf9b\\xd9=\\xc8\\x05\\xb6\\xa6\\xcc\\x98\\xd5=<l\\x04`\\x86\\x0b\\x1c\\xf7\\xa8\\xb1\\xa24\\xefZ=5\\xcc\\xb8\\xadc\\\\;1\\xf2aN#\\x178Z\\x8c\\xc4\\xa2l\\x80\\x06\\xae\\x8a\\x02\\x812-\\x0f\\xb9\\x1f^S,\\xe35\\xbc.\\xaf\\xbf\\xae#\\xa4\\xc2\\x97\\x11\\xe2\\xdd\\xa1\\x87\\xdf9\\x96\\xeb\\xf7\\x00\\x98\\x86\\x073\\x08\\xba\\xa6wj?\\xae\\x81Nq\\xe7S\\xe4\\xfaT<s \\x12Ma\\x04\\x80:\\xad\\xd1e?$\\xe0\\x8e\\\\D\\xe3H,\\x07\\x11\\xae\\x81\\x01\\x95\\x91\\x88\\xb2\\x00\\xc6\\xe3\\x18\\xc3\\xc3\\xe3\\x91\\x04uFqL\\xad\\x8c\\x18U\\x11u^\\xa2W\\x8d^Y\\x1e\\xb40\\xce*0\\xd4dbK\\xb5\\x02\\x10\\x9dH\\t\\xba\\xdf\\xce8\\x08\\x1eC\\xbf\\xe5\\x95G\\xcbqC\\x88\\xb8\\x00\\x89N\\x98\\x8bb\\xb9\\tEM\\xac\\xc7u\\x18[\\xa4\\xd7u\\\\\\xe7])rI+\\xe2\\xd4\\xc1\\xe5\\xa4\\x9d\\xc9\\x88luS\\xb6\\xc2\\x82\\xe1`V\\x02P\\x99\\x9br\"\\xcb\\xa3\\x0e:\\'\\xbcDh\\x84#D\\xe6\\xc1,&\\xee\\xe37?\\xefH\\x12=\\xa0sQ\\xa7\\xd1\\xb2O\\x98\\x1a/\\xaf\\xf5e\\r\\x85\\xfd\\xbf\\xdf\\xef\\xbe\\xcd\\xaev\\x14\\xf4\\xc3M\\xc7\\xd0\\xfc\\x85\\xe9\\x99FA\\x1bH\\xed0\\xa6y\\x15\\xd0\\xce\\x8d\\xbcX\\xeb\\xa0\\xa9\\xe5\\xbeX\\x83\\x8d\\x07b\\x06\\x94 2Q\\xd1,%=\\xda\\xfa\\xbfM\\xc8\\x13F\\x1cp0\\x90\\xfa0\\xd0\\x19\\xc9p\\xc3R\\xa22E\\xcaHK\\x1b\\x1f\\xe7\\xccnz\\x02\\xe4\\xf1\\xbe\\xc9\\x88L\\xa5\\xca\\x95D\\xd6\\x1b\\xe6OLcz|bG\\x7f)v\\xbe\\x95$\\x1d\\xaa\\x1b\\x87\\xc0\\x08Y\\xee\\xdd\\xfd\\xf5\\xcd\\xc5\\xd5\\x97\\xeb\\xd3\\xbf\\xffdk\\x7f\\xbd>\\xe5\\x13\\x06\\xf9\\x17\\xf0B\\xaa\\xbf\\xf3\\x9f\\xf4\\xa3 \\xf31\\xf8F\\xe9\\xed_\\x05\\xe01UW\\xd5W~\\x1e\\xc1\\xa8(\\x8d2\\xe9[\\'\\xceb\\xb7\\x0e\\xeb\\xdc\\xb7\\r\\x17g\\x96)\\x9e\\x13B*\\x9fBr\\x98\\x89\\x12\\xbb\\xd3\\xdbCi\\x18\\x81g\\xe2V\\xd9\\x1f\\xb0\\x9a:(\\xf3\\x11\\x87\\x0c\\xe5\\x91\\xd9\\x91\\xca)\\xfb\\xe6\\'!\\x1f^_\\x15^\\x813\\xd8\\x9a\\xb8(\\xe28\\x8d\\xca\\xae\\xaf\\xa9]Y\\xb5\\xeeYnPfB\\x99\\x84,+H\\x08O\\xf14\\xdc\\xc4\\xc6 D18\\xa5[\\x92\\xab\\x12Og\\xa0\\xd5%\\xfb^\\x99G\\xa7\\xa4\\xad\\x1d\\xd9[\\xf5\\xd5\\t\\xf3\\xc3\\xc6P\\x18I\\xb0.\\xf0\\x18FED<~*\\xf3H\\xa4+A\\xf2\\xb4s\\xe4\\t\\x97\\xed\\t\\xd6m\\xe0\\xc8C\\x0e{&p\\x80\\x14vj\\xa3\\xdf\\x14\\x86\\xde\\x98\\xd4\\xd9\\xc1\\x04F9\\xb7$t\\xca\\xee}\\x94\\xfa\\xe2\\xfe\\xa3\\xea\\x1b7+\\x9a\\xc0\\xce\\xa2\\xa2\\xd1\\r\\xb6\\x07\\x8c \\x00\\xa9O\\xf2\\xac\\xb0q\\xefZ\\x8d\\x10\\x84\"P\\x8c\\xd8*`\\x9a\\xbe\\xa1\\x08\\x81S\\xf8\\x8c\\xbe\\x81|\\xce\\xd9\\xd3)\\xceCxPZ\\x9c\\xe2H\\x193\\x956\\x05\\x7fw\\x7f;\\x9f};\\xfd\\x06\\xbf\\xef%\\xf8\\xd5\\xed\\xeb\\x82\\x9f}?\\xbf\\xb8>\\xfb\\xe7\\xc3\\xb7\\x9b\\xf9W\\xbe\\xc8\\xa4\\x17\\x9fxf\\x98;^\\xab\\xf9U\\x9e\\xb9\\xad\\xcf^\\xf7\\xb4\\xcf\\xaa,\\xb3Z\\x0b\\x17\\xfa\\xa0\\xb4@\\xb0\\xa1\\x88\\xc2\\xb6\\xef4\\x95\\xf4\\x88\\xc0\\x98J\\xda.|8\\xc8]@x\\xc2\\xcc+\\x9e\\xbb\\xf8\\xf5\\xec\\xe6\\xdb\\x7ff7\\xf3\\xdb\\x8b\\xb3\\x1f\\xf3Ow\\x17wgw\\x17\\xec\\xf2\\xeb\\xf5\\xdfg\\x97|\\x1a\\xe3\\xe5\\xec\\xfe\\xe2\\xefk\\xf69\\xfb\\x17\\xe6\\x08\\xdf}\\xbf\\xbc\\x9f\\xfd\\xc1\\xaf\\xd6\\x18\\xd2\\xf9\\xc8e\\xe6\\x86\\x8e\\xf0kC\\xf9\\x94=\\xe7\\x94=o\\xa1\\x97&<\\xea\\xf0GLV\\xf5Z\\x109T\\xd7\\xf5\\xc6j2\\xdf\\xc2\\xd0Hc7\\xca\\xc34\\xf5MG\\x98\\x90\\xf28\\xfei\\x83\\xce\\x8c,[\\xcb\\xf7\\xc7\\x13\\x10\\xe9\\x14m\\xc1\\x93C\\x8a\\xc0\\xea\\x12\\xc9\\xfc\\x92\\x93mok\\x81xf\\xbe\\xf0Z\\x16d\\x1d\\xfc\\x11m\\xf7J,\\x8f\\xab\\xe8\\xec\\xd4u\\x9b\\xd0\\xc1>\\nik6\\x15\\xc9\\xa2\\xd4,\\xb2N\\xebq\\xa8\\x0b\\x11^LEg\\x85m\\x85\\xc3\\xe0\\xb2]\\xd3m\\x03\\x07\\xa9c\\x9bM\\xa1\\'2\\xa5LQ)\\xe3\\x85S\\x00b\\xe6s\\x8d\\x0c\\xe3\\xa4\\xa7\\n}\\x14\\xf9\\xe2\\xf6\\xe3\\x12\\x91\\xd5e\\x9e\\x14}\\xab\\xf5\\x96KB[_\\xe4\\x04IH\\xe2>\\xa4\\xb4\\xb3\\xcbM\\xb9\\x0fR\\x82\\x18MKp\\x10\\xacH\\xea)}&?\\x0bxI\\x81\\xb4\\x12\\xbb\\xb4H\\x13-\\x02\\x1f\\x83\\x93]\\x14;\\xd39\\xf3\\xcbk\\xb6\\x0f\\xeeg\\x97\\xb7\\x7fn\\x8a~\\xc41\\x1f\\x11}3\\xffd]^\\xa7\\x8b\\x15r\\xf7\\xf0\\xe2\\xafK\\x10\\xe5u\\xdb\\xf9.2C\\n\\x9d\\x14\\xc7n\\x1a\\x9a\\x8d\\x81aI\\x88\\x9e\\x88\\xe2\\x17\\x8b\\xfc\\xc1\\xd4\\xd7\\xfeQ\\xfe/y\\x84[a\\x80\\xc3s\\x1e\\xd2\\x13n\\xd0\\x12\\xbar+(\\xc3K\\x16k\\xf2\\xef\\x16\\x9c{\\xf4\\x94\\x9b\\xb1\\xf0@I\\xd7\\xc1\\x98\\xe6\\x1d\\x9dn1q\\x04\\xd8\\xa6\\x87x\\x1a\\xdb\\x1e\\xe1\\xf5\\xdb\\xa7\\xf8e!\\x13>\\x80k-\\x01.\\xc9\\x98\\xa0\\x07+\\x16?\\xe7vsA\\xfe\\xf8\\xf1\\xe3t\\xf6mv~\\xcb\\x0e\\xd8\\xd9\\xed_\\xdc\\xed~\\x06\\x0f\\x85\\xe9/\\xe6X\\xfc\\x1f\\xc4\\x03\\x13\\x89\\xc2i\\x05\\x84*U\\x99\\x13\\xbd}\"\\xd6B:L\\xdd\\xaf.1\\xe6\\x97\\x07\\xc4a$\\xba\\xf1\\xca\\x1d\\xf239zx\\xa0\\x8f\\xd8\\x91\\xa6N\\xe4mx\\xdc,[\\xd1\\xd9\\xbaKF\\xe6\\x95=+\\xf2\\x87M \\xff\\x1f\\x13\\xb9XEH \\x91&\\xba\\xd7\\xfbo\\x881\\x913\\x0f\\x8f\\x99\\x9b\\xdc\\xbf\\xbb\\xb9\\xbd\\xbe\\xba\\xbe\\x7f,\\xe2d\\'\\x86\\xca_\\xf2\\xa1\\xbc\\x01\\xaf\\x8ab\\xa7.|\\x18|\\xb5\\xbc\\xed\\xc8\\xd5P\\xb5\\x8b\\x127\\xce]\\x90\\x9aM\\xd3\\xa4\\xb9\\xd7\\xdb\\xb5m\\x98~\\x84\\xea\\xaa.M1\\xde\\xa4\\x883=\\x98\\xab\\xb5\\xe0\\x1b\\x9a\\xe6`+\\x102\\xcfv<\\x15\\x87$>_b\\xe5\\xde1\\xed\\xb3t\\xef\\xc0n4\\xe4_ng\\xeb\\xe4\\xb8k\\x08\\x8d\\xcc\\xf0{%H\\xc74J\\xb5\\x02\\xf5\\xa8\\xd6#\\xdc\\x96\\xb4v  a\\x89\\xb2\\x90z-\\x08434\\x84\\xdeGEd\\x8f\\xe1#\\x0c\\xc9Dn\\xc6G\\\\\\xb6\\x0f\\xf1\\xdb\\n\\x8e< \\xc8\\x85<\\xc4\\xc7G\\xc3\\xc9\\xab\\x13\\x18s\\n\\xde1\\np\\x1e\\xcdV\\x99\\x8c\\xe1\\xae\\x81\\xd6\\xbdJ\\x02\\xc3\\xd6)\\x1d\\xdfr1\\xd1\\x01\\x8eR\\xbbA~e: l\\xdc\\x1c\\xf8\\xb1\\x10_\\x82\\xca\\x90\\x89\\x1f1\\x85=\\xad7\\x8d\\x931\\x9f\\xca`|\\x0e6o\\xa1F\\xf2\\xea\\x92J\\xfc\\x92w\\x12\\xef\\xcc\\xda\\xfe\\x88\\x06:\\xc1\\xe4D\\x85\\xdc\\xc0g;\\xe0\\xf3\\xb7;\\xe6&\\x9c]^\\x7f\\xbd\\xb8\\xe2sY\\x7f\\xbf8gG\\xf6\\xb7\\xf9\\xdd\\xdd\\xec\\xe3\\x95\\xcc\\x0e3\\xe5\\x97\\xc5\\xf4\\xbd\\x8b\\xd5<Q\\xc0\\xcei0t\\x97\\x99\\x8f\\x8e\\xc9\\xa9\\x8c\\x1e\\xbd\\x07\\xe9q\\xed\\xf0im\\xcf|Z;~X;\\xe4k{\\xe5\\x11b\\x1d9\\x8a,\\x92\\xdb\\x9aW\\xd2\\xd2r,KK\\xb4\\xb8\\xca+\\xea6Y\\xdfU\\x02;\\xcf2N\\xb8N\\x98\\'\\xf1Z\\xcd)\\xc0R\\xe6d)\\xa7\\xaa2^\\x9a.\\xabHy\\xf2\\'\\x16\\xa5\\xd0\\xca\\x83[\\xf7B\\x99\\xc1(\\x88#C__\\r\\xd2[\\x95B\\xdb\\x96[\\xe6v\\x1e[}H\\xcc\\xbe\\xb7r\\xa3\\xd4k\\x98i\\x9a\\xee\\xc5\\xb4)\\x04\\xfe\\r\\xf6\\xb2\\x0b[\\r\\x01\\x05L\\x1c\\xce\\xbb\\xc4c{E\\xfa6P\\xa04(2@\\xd2\\t@\\xbc\\xaect\\xe6.w\\x16\\xf1H1\\'o)\\x05|\\x1e5\\xda\\xbfu\\xe6\\xb5\\x9e\\x86\\xe6Em\\x88\\xd2.\\xe9<l\\x95m\\x80PNI\\x18\\xebzU\\xa0\\xbc\\xe9\\x85I\\xb0\\x04\\x0b%hL\\xd3L{\\xfd\\'4\\x00l\\xce\\xd6\\x1b\\xc9\\xb2\\x9e_\\xdc}\\xbe\\xfe{~\\xfb\\xef\\xf5\\xf7\\xdbO\\x17\\x9f.\\xe7\\xa7\\xd7\\xb7_\\xd7\\xa59\\x82\\xd2\\xdd\\xfc\\xf6b~\\xb7+B\\x0fw\\x1d\\x1e\\x1d\\xd3\\xc3\\x05\\x8c\\x9c4\\xb2c-`G<\\xf2\\x12\\xd7v\\xbaXsAg\\x18\"\\xe7\\x10\\x19\\x0e\\xb3D\\xca\\xa4\\xa6\\xbd\\'x^p\\xca\\x9fA\\t=\\xeb\\x0cnEi)\\xd1u\\x84\\xd4\\x13\\xfc\\x9b\\x8a\\xb9Av>\\xff2\\xfb~y\\xff;S.\\x1f\\x99\\x1d\\xfc\\xed\\xfa\\x7f\\x98\\x8e\\x99\\xff? ]\\xb1\\xdf\\xea\\x92\\x7f\"++\\x97\\x11\\x02$\\x0e\\x92\\xe5\\xa6\\x1af\\x08\\xaa\\x8f\\x08.\\x16>3_\\xb1\\xee\\xe1\\x0f\\xa1\\xb2\\xa9\\xb3\\xact\\x1aO\\x07\\x94X\\xa9\\x16T]\\x17\\xa5\\xa0nR\\xd3\\x89\\x03]d\\xd9\\x86\\xf2\\xc0\\xc6F\\x8a\\xa2\\x92\\x89I,\\x85.F}o\\xe99\\x90\\x113\\xe2W\\x97\\x08\\xf0\\xcb\\xdd\\'\\xe7]\\xdc\\xcf\\xb6@:\\xe6\\xeb\\xf3\\xa0\\x92\\xfa*\\xe0~\\xdaN\\x9dAo\\x02\\xc6S\\x1b\\xd8\\x1f\\x81z\\xa6Yg\\x0bZ\\xb2LF\\x0f\\xa8\\x05\\n*Gac\\xd3\\x88<?#\\xb2W\\x8fR\\xe4\\x80P\\x17\\xa6N\\xd4\\x05E[\\x05\\xd4\\xa5^\\xee\\xe4\\x91]!\\xdf\\x89\\xbb\\x14\\x89\\xd1/\\xaa2\\x17c0]\\x00@\\xa8\\xa2i\\xb5\\xec\\xfbn\\x89\\xdd\\xba@\\xf8\\x96`_\\xbb\\xbf\\xfd~\\xc5^\\xc6\\x07A-\\x7f\\xb9q\\x8c\\xc6w\\n\\x12\\xa9\\xb7\\xb6\\xa0\\xf5\\x7ff\\xa7\\x10&\\xcf\\x89,\\x00\\xfb\\xef\\x14\\x00\\x86\\xa6\\x1c9\\x01\\x12>\\xa1ke@\\x0b\\xce\\xd0\\x11\\x0e\\x1d\\xaa\\x9cr\\xdarv\\xcb\\xa1\\xc2\\xc3\\xd3j\\xe4\\x88`\\xb4\\xb1\\xfd\")\\xd3\\xa2\\xc3Xe\\xee(zy\\xa0<\\xa7:WW\\x95VP\"P]TZ\\xc9\\x14\\xbc`\\x17\\x08R\\xbc\\x9c}\\xfap5\\xbf\\x7f\\x06\\x0e$\\xa9LRC\\xde\\xaa\\x9f\\x0e\\x0e\\xc1gQ\\x98\\x0f9\\x8dZ\\xe11\\x0e\\xf3\\x12\\x1a[\\xc31\\x07Dc\\xf9/;\\xee\\x91\\xc7\\xf5\\x0enA\\xf7)\\x884\\xcd\\xc6\\x91\\x85\"\\x92\\x1aZ\\xacY\\xaeeTI\\xe5\\x98U\\xed\\xa6B5\\x03\\x95\\x85\\xd4\\xad\\xa2\\xc8`\\xda!2}\\xa7l\\x1e(\\xaf\\xc6\\xe6\\xec\\xd0\\xe0\\x1c\\xe1\\xa4\\xcf}W\\xeb\\xf5\\xc6\\xcel\\xe2#\\xbb\\x0eM\\xd3\\t\\xfa4\\xcd\\xed:\\xf6ZH\\x84\\xd9#\\xfc\\x90\\x13\\xceyU\\xa1h*q\\xee\\x12\\xa0\\xd1Z\\x93m\\xa0\\xec:\\x03\\xfc\\xcb\\xed\\xece8^\\xa9\\xc0~\\x9a\\xbd\"\\x869\\x01g\\x01ygEv\\xbc\\xcd\\xf2\\x80\\xce0\\x16\\xfd\\xf3n\\x16!\\x1a\\x80\\x90\\xa2\\xc2\\xa9a\\xe8}21\\x87\\xd9,#%Y\\xafS_oe\\xf26\\rJ\\xb3\\xca\\x85qP\\xf9\\x1aE\\xa8I\\xdd\\xcc\\x8a\\xf5\\xaa\\xf6BX\\xc6\\xa6\\x90\\xa3\\x94\\x99L7\\xf1\\xc1T\\x9e\\xd8\\xb9\\xf0\\xa8\\xca\\xb6\\x97gm\\xd3g\\x12\\x1d\\x14\\xa8<+\\xfaW\\xaa\\xaa\\x9fU\\xf4\\xa2E\\xcc\\xfbh\\xdf+\\x15\\xb6E\\xf4\\x00\\x9f \\xcc\\x83\\xef\\xbc\\xcb\\xfc\\xfe\\xfa\\xeer\\xfeuv\\xb9\\xf8\\xec\\xc7\\xfc\\xd3*?\\x06\\xd0\\xd8\\x0e@\\xcc\\xf3\\x03O0,V\\x19.r\\x04\\x15\\xd5\\xe4v\\xdb\\xe7\\xb0\\xd7\\xb3$\\xa3-\\xfb\\xe3C\\xc3\\x0cZ\\xd7,[\\xcfnmq\\n9A\\x839S2\\x87bj\\xaa\\x8c\\xc8\\xa7D\\xde\\x92*\\x931\\x96V\\xdcK\\x12\\x82\\xfc\\x92\\x13\\xb2n\\xa3V~]\\xf1\\xa8\\x08\\xd9\\xcd\\xed\\xf5\\xfd\\xf5\\xe7\\xeb\\xcb\\xeb\\x87\\x9a\\xde\\xcfk\\x88\\xc9\\xaa4\\xdc8c\\x88\\x89k\\x1c\\x01\\xb02n\\xab\\x8ez1(5GCM\\xe2\\xa7.0\\xcc\\xac\\xb2\\nd\\xc4\\xb5+\\x92\\xda\\xcbP\\xcc\"\\xe3\\xe9\\x93\\x0b\\xf6\\xc2K\\xde\\xcaw\\xbe\\x1f^c\\xa4f\\x1c\\xa9a\\x05\\xe4\\x18R\\xc7\\xcc\\xf3\\xeb\\x16\\xd1\\xe3\\x08\\x97f\\xe8\\xb7\\xb5\\x1b\\xc7\\x10\\xf6\\xd4\\xad;\\xbb\\xeaq\\xa2\\x03\\x9a\\x0b9\\x00U\\x8c\\x0ecL\\'\\x1aeK|\\x9e!4\\xdb\\x02\\x12\\xa2\\xc3\\x80#a2g\\x07\\x0bX\\xf3\\xdbe\\x95\\x9d\\x19C\\xc3\\x8a}\\xd3):\\xa0\\xdf>R\\xdcb\\xeaE\\nq\\xd9\\x80>%VX\\xb7Z\\x17G\\x9e\\x13\\xc4\\x95Q\\xb7\\xb50/\\x8d :\\x98\\xc6N\\x90<q6\\x8b\\xc2[\\x93\\xc9\\xb8\\xf7\\x81d\\x050\\x1b\\xe7\\xe9\\x12\\xc8<\\xc7\\xb8h0\\xdc\\xb9\\xf9\\xf3\\xe4j~3\\x82\\xc1\\xc8\\xc9\\xbe@c\\xf8\\xda\\x0bh\\x1c\\xf3\\x8d\\xef\\x01-\\x1a\\xcb\\xcc\\x83\\xb8#\\xa0l\\xc2\\x0c\\x18\\x99\\x0eJ\\xdf\\xcbR\\x08\\xeaXh\\xff\\'P\\x12yLTij2d\\x89\\xca\\xf6\\xd3|\\x1b4Lt\\x83W\\x9e\\x9e0M\\xc2+\\x8a\\x1e\\x13\\xf1\\x7f\\xf2\\xd3\\xf7n~\\xfb\\xf7%s\\x14\\xfe\\\\TU\\xfc\\xf1\\xe7\\xefw\\xabV\\x03\\x82\\xd0X\\xd5\\x0bd\\xd6\\x15\\x9f\\xbb\\x8d\\xe8Zf~|\\xb1\\xe2\\xf0\\xdb\\xc57\\x1b\\x1c6mkZ\\x91\\x8b\\x9a\\xac\\r\\xa3\\xd2\\xd3k\\xa0\\x1b\\x89\\xe1\\xdau\\'\\x8c\\xe3\\x86Tt\\xd6\\xd9V\\xe1\\xfb|\\x120\\x94\\xf3R*\\xe3\\xfe\\x07\\x17\\x1b\\x94\\xd7z\\x0fT\\xc0/y\\x97\\xd5nY\\xaa\\xf5cb\\x80\\xddHc\\xc8.h\\x1dq\\xdb\\x00\\xd8\\xc6\\xb6\\x96T\\x9d\\x0e\\xcd4)}\\xb3-s=-B\\xd4\\xb1#$\\xa9\\x85m\\xa3@\\x91\\xe1U\\x9aH\\x9f\\xfd\\x88\\xcd3\\xcd![\\x00\\x02xP \\xc9\\x04\\x8f\\xc9\\x89<~43]\\x84\\xa8<\\xd2\\x00\\xa7\\xe0\\x87\\xc2\\x95\\x17KR\\'\\x0b\\x1b\\xe6\\xa6\\xef\\xe4\\x84\\x86\\xa8*\\xea\\xcc\\x8ft\\xad\\xb3S\\x003\\x10\\x82\\xbe)\\x1a\\xa10\\x12\\x03\\xd1p\\xe2\\xdd\\x97\\xd3\\x9c=\\x84\\t=E\\xcfu{rV\\x9a\\xb5nO\\x0c\\xf8%\\xef{\\x1b:\\x1c+i\\xff\\xef\\xfc\\xdb\\xcd\\xf5\\x8f\\xf9\\xed\\xb7\\x8b\\xb3\\xd9\\xe5\\xa7\\xd9\\xfd\\xed\\xf5\\xff\\xfc\\xcf\\xe9\\xfc\\xfbJ\\xf4\\xcc@\\x1f{\\xdb7E\\xbf\\xb6\\x8a\\xb6\\xb6\\xca1\\x18\\xc8\\x1aB\\x91e\\x14e\\xa01\\x83\\xa8\\xf7\\x8d\\x14\\xe6\\x95\\xd7!\\x8f`\\x18\\x05\\xbeP\\xc2\\xb5`[\\x15B\\xbc2\\x05\\x13\\xc72-\\xa1\\x18o\\x88\\xde\\x82\\x02{\\xf3\\xf7%px\\x19\\xad\\xb3O\\xf3\\xef\\xb7w\\xe7\\xf3\\xf9%\\xff}\\xce~\\\\\\\\\\x9d\\x9f\\xcf\\xfe\\xbd[\\xdf?\\x8a\\xf4\\xe2\\xfe\\xd9\\x06\\xe2\\xf8\\xe2\\xc70\\xd0l\\xa3\\xd2P\\xe7kVli12\\x9b6\\xd2\\\\\\x13Zyj\\xd2\\xba\\xa9\\x85M\\xa6(\\x92\\x18\\xbd\\xe7\\x14\\xf2\\xd3\\x0e\\x9c\\xfd\\xa0\\xdd\\x9b\\x08\\xf05\\xd0\\xae\\xd1f-\\x14!\\xd8\\x1f\\xc8\\xe3\\xd0i\\xf9\\x19v\\xf2$\\xc6Y\\xeb\\x05}\\xeb\\xea~\\\\Vm\\x14\\xd3P3\\xcb\\x1a!_<\\x88\\x80\\x10\\x8da\\xd6\\x17\\x95\\xa6\\x19p\\xfb\\xc0\\x06\\xe4\\xdd\\xaaew\\x83\\xed\\xe2\\xea\\xea\\xfa\\xef\\x87\\xa8\\xd6\\xb7\\x8b\\xab\\x8bo\\x17\\xffsq\\xf5\\xf5\\xc3\\xdd\\xf5\\xe5\\xec\\xf6\\xc3\\xed\\xc5\\xdd_\\x1f~\\\\\\xdc\\xff\\xf9a~5\\xbf\\xfd\\xfa\\xef\\x87\\xbb\\xfb\\xeb[\\xf6\\x98u\\xa5\\x8b\\xd0H\\xef\\xe9\\xeb`\\xde\\xe7\\xd1\\xc7\\xd8\\xcd\\x95m:\\x84t\\x95\\x8d\\x01rJ\\x12\\x96qdu\\x9d\\x9f\\x04N\\xd6\\xa7\\x99\\x10\\xa4S\\t\\x14\\xdd\\xad\\x87 \\xda\\x9b\\xbf\\x17\\xd2\\xd6\\xb9\\x00\\xcfx[\\x97\\xe7\\xfb\\xbd\\x1b\\xf7\\x0c\\x8b\\xfb\\xf9\\xed\\xa6\\xa53\\xd2\\x01\\xbb3\\xf2\\xcb\\x85\\x8f\\x80\\xab\\x16\\x82J\\xf7!*\\xb4\\xd6kB\\x1b\\xe2\\x86\\xc4q\\x1bEZ\\x0e\\x13\\xd3I\\x84\\xf2xU\\xc6\"\\xff\\x02\\x86D\\x99\\xcaI\\xb2\\x8f\\x9a&\\xbb\\xa5%\\x18\\xa6\\xeb\\r\"\\xcc\\x83f\\x7fdeU6\\x05x\\xeb\\x9b42\\x03\\x8f}\\x13s\\x05\\x98\\xf3\\x8c\\xdf\\xa0[\\xa1\\xafL\\xd0vn\\xa2\\xd9}\\x9fd\\x96\\x13\\xb9e_\\x86\\xb9\\xe3\\x14i\\x8f{*4+\\x130H\\xe3I\\xbc\\xf4fZ\\x11\\xb5\\x84!>U\\xb70Z\\xb1Sy\\x8d\\xd1\\x8a\\x97\\xfe<\\xc4\\xc1\\xf1\\x8e\\xb5\\x84+v\\x981(\\x80\\x84\\xe4\\x11B\\xc9\\x9f\\x1b\\n\\xd1I`\\xe2\\x04\\xcaD\\x1e7\"\\xc9\\xa7t\\xb4\\x88\\x8d\\x97\\xb3b\\x82\\xc8\\xd3%\\xe0\\xe3\\xe2\\xc9\\xc1\\xb1\\x00<\\xd512P\\xee\\xe7\\xc6B\\xd4R\\x94\\x00\\xa8L#\\xc7\\x95\\x01TO\\xd5\\xf1}\\xc1\\xdeW\\xf6\\x7f\\xba\\xba\\xa4<~z0,\\xc6\\xaa\\x06UL\\xc6j\\xdb7Q\\xd9\\xab\\xafs\\xd1\\xbd\\xc3\\x8c\\x88\\xdb/\\x9f\\x97\\xfd\\x18\\xcf\\xf1\\x16\\xd7\\x1el\\xb3\\xa2\\xb3z\\n,-\\xd7\\xf3\\x9c2_\\xae\\xb5\\xf5\\xc2\\xcc\\xf4\\xc8\\t\\xc40\\xac\\x18Vb\\xe6\\xf64\\xf7m\\x7f\\xfa{y\\xd8\\xc6\\xf6\\x9c\\xcc\\x97\\x07\\xc4\\xc8\\xf8\\x81\\x9f]\\xe6\"\\x95\\'\\x996O\\xef\\xf1\\x80x\\x86\\\\r\\xcb)\\xb1\\xb3\\xc4_w\\x0e\\xfc|\\x12\\x17\\x8c_\\xb0\\x1c\\x866\\xf9\\x1c\\xd8.\\xf2m\\x87\\xc1\\xae\"\\x07\\x12\\x91\\xd1\\xc8L\\xef\\x9f^\\xe4\\xe2\\x10&\\x00\\xa7qk?\\xaa\\xfb\\xed\\xbdM\\xdbt\\xfe\\xae\"\\x87\\xec|U\\xd1\\xffA\\xbd\"4Tb,M\\xecW\\x82\\xcc\\x89W\\x9fy\\xcb!;OU\\x19\\xae.\\xd9}\\xecr\\\\\\xe4\\xd2#\\x15\\xdbz\\x911f\\xff\\x8d\\x9c\\x9a\\x8f\\xdckX:R\\xb6\\xd2,\\ts\\xa0\\xf3\\xaa\\x0e\\r\\x0f\\x92.\\xd2\\xbd\\xce\\xca,\\xd3M\\xa9\\x1bwa%\\x92\\x10\\r\\xb2b\\nU\\xe0\\xc4\\xec\\x8b\\xc2^\\xcfS2\\xde\\x10\\xc1\\x04\\x03)\\x06\\xabKE\\xe6\\x97\\x12\\xf7\\xbe\\xf6\\xb6_\\xd6\\x00X\\x0f{!\\x89`:6<F\\x00\\xe1H\\xf1\\xad:5\\x00\\xce\\xba\\xcc\\ri_kv^\\xe5i\\xebf]b\\xa7\\xb0\\xf3\"\\xb1gR%\"G\\xadB\\t\\xb3\\x03\\xde\\x1e\\tHwlM\\xb9\\xdatx\\xd7\\xd0\\xf8\\xf3\\xfb\\xa7\\xefW_/>\\xfc5\\xfbv\\xb1\\xb15Fh\\xe3ET\\xd6\\xef=\\x02:\\x86EQ\\x12Dv\\x865PtAb\\xa6\\x94\\x90\\x12\\x07n\\x1f\\x96\\x1a\\xb0:A\\x05a1\\xfa\\x88\\xd9)8\\xd5\\xa0\\xdc\\x07\\x1d,\\xef6\\xbf\\xe7\\x19t\\xfe\\x9a\\x7f\\xba\\xf8\\xcf\\xec\\xaf\\xd9\\xd5\\x87\\x9b\\xdb\\x8b\\xbfgw\\x1b\\x10I\"\\xa3\\xd1\\x08D\\x83\\x05\\x8e\\x80S\\x15\\xebMjC\\xabH,\\xa74Q\\xac\\xb7q]\\x01\\xe2\\xa6DCu\\x19\\x08\\xad\\xde\\xaa\\xac\\x88\\xad\\xde*\\x13\\xf5\\xc4J\\xb1}pBx[\\xa5\\xd8\\xab\\x98l\\xd7q\\x1a\\xab\\xab|\\x1d@\\xc7e\\xdb\\x89\\x0c\\x9a\\xc5\\x86\\t\\x8a\\xda\\xef\\xb3\\xb2I2\\xcd\\x8du\\x97\\xf6Ye0\\xcf\\x19\\x08\\x13\\xb7\\x898\\x18N\\x99<Aq\\x89\\xcb3\\xc5\\x94\\xdb\\xc0Y\\x8b\\xe1\\xaf\\x04\\x8ee&o\\xf9\\xd7\\xb3\\xab\\xd9\\xed\\xf7o\\xd7W\\xcb\\x01/|J.\\xff\\x11?\\xde\\xfcq;\\x9f\\x9d_\\xcd\\x7f\\xdc\\xfdrq\\xfeQ\\xa6\\xe8\\x17\\xfeS\\x7f\\xe4_XU\\xc5\\x00\\xa0\\x82\\xb1\\x13G>\\xc5\\xf2\\x13,\\xc3\\x07<\\xad\\xf4\\xcb\\xf8\\xa3\\x0e\\xbf\\xaf\\xfa\\xcc\\x8bm/\\xf6\\xea*\\x0e3\\xab\\xecA\\xae\\x93&\\x02A\\x9e\\xe7\\x01\\xa0\\x89P\\x83\\x89%$f_T\\x0c\\xc0\\xc4\\x16U$\\x93Sy\\xbc\\xa2\\x0f\\xb1W\\x19\\x02uu\\t\\x01\\xbfd\\xa7\\x13\\xda\\xc6\\x10\\xfd\\xcf\\x07\\x9ec\\xbc\\xfeq\\xf7Ay\\x10\\xd8\\xc6\\xfe\\xba\\xffs&\\xe8\\xc1\\x17\\xe0^G\\x00\\x83\\x15\\xd6`\\x056\\xff)\\xa7\\x80\\r~\\x19y\\xd2\\xe1\\xa1\\xd6;\\'p\\xbbP7C\\xd7O\\x9b\\x0e\\x16q\\x97\\xf7AO\\xba\\xd8\\xd6\\x1c=\\x17\\xa0\\xe6\\ns\\x13j\\x95\\x1d\\xd7SY\\xfb\\xf6\\x81\\x1a\\xc9\\xdb\\xe6\\x07\\x1d\\x13j8\\n5\\xe0\\x93\\x86\\x0f\\x0c5<<\\xd4\\xad\\x1f\\x14yE\\\\Z\\xba\\x80F]g\\x19z\\x1dd\\x91i\\xd6Q\\xde:M\\xfd\\x12\\xd4\\x88\\xb9\\x88`\\xa2V\\xde\\x0f\\xeam\\xd6\\xff\\xbeP\\x8f\\x95,\\xbej\\xbf\\x1e\\x95\\x99\\xb7\\x8aK\\xd4\\xe5\\x08\\xa4n\\x16\\xd6yU\\xd6\\x0c\\x1b\\\\;\\xcc\\x96A]\\x0bu\\xe1\\xc4T\\xc4P\\x03Q\\x0f\\xa3q\\x9f)X\\xdc\\x02\\x10F\\x83\\x82E.i\\xc0L\\x94\\xf5\\xe6ZU\\xa22\\x19+\\x19\\xa1\\x9co\\x9c\\x1b&\\xf2\\x1b\\x04\\xf1\\x8bB\\xa7n\\x89\\x12=\\xf2+\\xa0\\x058\\xe8\\xab:\\xf1\\x13P\\xf8\\x14\\xb4N$p\\x9e\\x01i\\xb0\\r\\xf8\\xb8e\\x89L\\xf2\\x82)\\xcf\\x1c\\x9e\\x82\\xf1\\xe9\\x9cLL\\xd2\\x1a\\x07\\xa0\\xca\\x07c/8\\x00\\xa1\\xb2\\xfb\\xfc\\x83\\xcb\\xd9\\xfd\\x18$#\\xd3\\xa1\\x188X\\xa4\\xca\\x18\\x01\\xe7\\xe7\\xe2h\\x14\\xf7\\x00\\x9dfu<\\xe1\\xb2}<\\xd46pd4\\x98%\\xcc\\x04\\xce~\\xc1\\x13 \\xaf\\x15\\xaaSYa\\xe6\\xd2H\\xa1:\\xd3q\\x0b\\xe2\\xbf\\x9d\\xf7\\xc0\\xab}\\xda.f>l\\xe378r\\xf5\\xb2u\\x12/\\xd7\\xcd\\xb4\\xa8s\\xafv\\xec\\x08\\t=\\x00\\x9c\\xbaYx\\xed\\xff\\xbf\\xea\\xae\\xb4\\xb9m$\\xc9\\xfe\\x1a;f\"Zn\\xa0N`#:fq\\xdf\\xf7\\x8d/\\x13\\xd4a\\xb7\\xc6n\\xc9!\\xc9\\xd3\\xdb\\xfba\\x7f\\xfb\\x16H\\x8a\\x04\\x0b\\xa0x\\x80h\\xf5\\xc4x\\xd4\\xbc\\x90@\\xe5\\xab#++\\xf3%\\x91;\\xabn\\xd2\\x14\\xf3ZUe\\x94\\rcoA\\x95\\xbd+\\xfd\\x0eQY_\\xdb\\x8b\\x9b\\x9b\\xc7\\x1f\\x0f/+\\xb2\\xb9\\x1d\\xd5\\xe3\\xe1\\x14\\xcf\\xab^Y_\\xbcd\\x93\\xbb<\\x0e\\x8a[ZX\\x89T7\\xf0ij[\\x01\\tL\\xd3UL\\x9c\\xb5U\\x00\\x03\\x95/wJ)\\x8f\\x03\\xec\\x98\\x0f/S\\xdd\\xe6$\\x1c\\x90xZ\\xac\\xc3\\xafO\\xff~\\x0b\\x9b\\xa7\\xae.A/Le\\x05\\xcf\\xd0\\xff\\xbc\\x0f\\x9et}\\xfd\\x0c#\\xa5M\\x89\\xdf*\\x86\\xaa\\x1b\\xa9\\xe2\\'\\xb9\\xebEN\\xad\\x11\\xd3\\x83YR\\x01\\x8d\\xec\"\\x04\\x01\\xe5yG\\xba}\\xc8\\xc4j\\x14\\xe7!DNs\\xff\\xecAh\\xac\"\\xd4q\\xb3\\xd6_\\x95\\x19\\x86\\xf7\\xcfuG\\xa8\\xd3\\xdc>\\xe7\\xd7\\x87b\\x86\\xd3`\\xa1\\x00?u%[D\\xfa\\xf7\\x9f\\x1f\\x7f_\\xfc\\xbc\\xf8\\xf1\\xf2k7u=.\\xb9,\\xff\\xe7\\x1fl_\\xf0\\xfc\\xf8\\xf0\\x8b\\xf0\\x91)\\xff\\x97\\rK\\xacH?u5Z0Xj\\xbe\\xbbn\\x99\\xa9\\xbe\\xba\\xe4\\xf5\\x97\\xec\\x87wO\\xff{\\x7f\\xf7\\xeb\\x8f\\x87/\\xcfW\\xd7\\xf7\\xdfn\\xbb\\x17\\xbf\\xdf??\\xdf=<\\xb3\\xfe\\xf1\\xf9\\xe5\\xd3\\x8f\\x87\\xfb\\xab/O\\x8b\\xff\\xfd\\xb4x\\xf9\\xf9\\x03\\x807\\xbf\\x88\\xd7\\xb7\\xb7w\\xd7\\x9f?Spw\\x8d\\xa4k\\xf6? ~\\x86\\xb7\\xb7\\xb7\\xd7H^\\xdcH\\xc26u\\x1a \\xc2\\x1f\\x8b\\xeey4\\xbeI\\x9b\\x96|\\x80\\xca\\x07`\\xb2\\x7f\\xbb\\x17\\xb1\\x0f\\xa2\\xaa\\xfbf\\xdb\\xa6\\x0f\\xd0,R\\xff\\x03\\xd4\\xbb\\xeb>\\x00\\x0c\\x17\\xec\\x0f\\xf8\\xbc\\xfcsB\\x1b\\xd7\\x17A\\x8dI:\\xd4\\xd2\\x8f\\xaf\\x9a\\x9fa\\x15 0H\\xfc\\x08*\\x8dEl\\xdf\\xcc\\xa9\\x8f\\xd56\\x8e\\x0cd\\x1av\\x90\\xa8|\">e\\xb3/7\\xc9\\xc8\\xb2DDI\\x9e\\x9a\\xedM\\x99\\xbd\\xb3\\xa7HJ\\xc7\\x84\\x80\\xe5\\xed[$to;V\\xe4\\x93\\xbd\\x97\\xf3\\xf6\\xf4\\xdf\\x16\\xf7\\xdf^\\x1e\\xff\\xeb\\xe6\\xd7\\'\\xb6\"\\xdc?,>}\\xbf{z`k\\xc3\\xfd\\xc3\\xdd\\xd3\\x7f\\xef`\\x7fR\\xf7\\xeeR\\xdbG\\xf8\\xcbf\\xee\\xde\\xab\\xc6,;\\xf8h\\x83\\xd87H\\xd8m\\xd4;\\xf7e\\x1b\\xdby\\xa8C\\x83\\xd6$R1Lr\\rBXZ\\xbeg\\xea\\x15)\\xf2b\\xd0\\x97\\xf9\\xf4\\t \\x93.\\x1fqb\\xc9\\xbe\\xb3\\xfa2\\xfb\\xe0B}\\xb9\\xd7\\'\\x0fw\\xb2\\x8fgN\\xd0\\xbbs\\xefH\\x11\\x03\\xaes\\xb2^\\xd6\\x7f0\\xed\\xf0\\x83\\xb1N\\xb8|\\xb0M\\xcf=in5\\'\\xf7\\xae\\x013V\\xa5\\xd0\\x94\"\\x9c%\\xc0\\xf1\\xf2:\\xaf\\xba`\\x00j+y\\x9c\\xeb\\x8e\\xd1R\\xae\\xbc*\\xe5+AJ\\xb2(I\\x13\\x1d\\x94\\xaf=\\xeb0\\xff\\xd2\\x9e^\\x06\\xf1\\x9b\\xd5<O\\x9fU\\xd8\\xda\\xc7\\x16\\xb1\\xcf\\xfc\\xac\\xf2y9\\xab|\\xee\\xcf*\\x9f\\x97\\xb3\\xca\\xed\\xc5\\x16\\xcd\\xdb\\xe3\\'\\x9aK\\x8d\\x93c\\xa7\\xf7Sg\\xee\\xf3\\x06\\xc7z~\\x86\\xca\\xf8\\xec\\xbc37_~4X\\x06\\x89\\xa1\\xa9\\x05Jf\\xc5>&aB\\xca\\xd8\\x0b\\xa9W\\x812Rl\\x9aq\\xa3\\x81O7\\x97\\x90(\\xa3iU\\x9d/0\\x1a\\xa47Y\\x97\\xff\\x84\\xd1p\\xde\\x1a;\\xbd\\xeb\\x8f\\xd0\\x0f\\x1d7\\x8f\\xef^}\\xf9n\\x95\\x05-\\x8e!1[\\x8b\\x99\\xa0\\x8aV\\x064\\xcd[\\xe8\\xd5PKq\\x88\\\\\\xbe\\xfc\\xa5\\xc4g\\xcbcD\\xa5iaW\\x9bn\\xf5\\x06\\xf1\\xd0\\x9e\\xfe$\\x8ao2\\x0f^\\xae?\\xb1\\xcb\\xba\\xfe\\xb4\\xc1\\xe1-\\xbc\\xcf\\xc7zN\\x9cc?\\x87m\\x93\\xb58u\\xd4\\xb6\\xa1qkUj\\x8a\\x1d\\x15\\xb5(\\x8d-\\x87;c\\xc0\\x84w}w\\x95\\xc6\\x85\\xcbl9\\xce\\xc0\\x19\\x9c\\x83\\xf3\\x90\\xab\\x9d\\xa1$\\x8b\\x0c\\xa5\\xb7\\xf2\\xf1%\\x04G}Q\\xd2\\'Y|\\x15?\\x7f:~UZ\\x89\\xe5x\\xban#\\xa5\\xd0\\n\\xafri\\xa9\\xf9$\\xc1\\x96\\xed\\x956\\xe0<Q\\x88\\x0fo\\x91\\xe4i\\xd1\\xa7\\x13\\xd2\\xf1\\x85\\x91PHN\\xed\\xbf\\xdf]\\xffsu\\x18z\\xfb\\xf8\\x8f\\x9bo\\x8b\\xe7\\xe7\\x7f\\xde\\xdf\\xfe\\x02\\xc5\\x8f\\xec!~\\xfc\\xf3\\xe6\\xf1\\xf6\\xee\\x97+q\\x17\\x91a\\xcc\\xe4\\x18\"G\\t\\xbe\\xfc6(G\\xa6m\\xa6%[tj=o\\x15\\xa5\\xc6$\\xd3\\x92\\x14\\x14I\\x1e\\x12%\\xe1K\\x0c\\xf2^\\xc3\\xceE$O\\xdc\\x02\\x9dEm\\x01\\xf6\\xd2V\\xed?V\\xeaUy9\\x12V\\xb0\\x17V$\\x1c7\\xd0\\x8e\\x12<\\x837\\x98\\x8d@\\x95\\x00\\xdd\\x8c\\xcd\\xbc E\\x8c\\xcdXw2\\x90\\xab\\x04S\\xab\\x8d\\xf8\\x1aICw=C\\x85\\xbe\\x03c\\t\\xd8\\x1b\\x0bsIX\\xc9\\x1b\\xb0\\x8e\\x1d\\xb5\\x1c\\r+\\x99\\x19V\\xd7\\x0c\\xad\\xa8\\xd5\\n#\\xa9\\x1bW/ *i\\x88\\x1c+J\\xb2 \\xca\\x92\\x12\\xf3\\xb0\\xf2\\x89\\xc4Db\\x9f]\\x86\\xec\\xe4$X!>\\x9d\\xb7\\xe9tX\\xe9~XG2\\x89O\\x80\\x95\\xce\\x0ck\\xe4\\x07\\x8e\\xe9\\xd71-pSG\\x9e\\xd9\\xaaMJ\\xbcPw\\\\\\xc5j\\x0c\\xa8\\x1d\\x80\\x15P\\x91mO.\\xb3h\\x9e6ZO\\x8c\\xdc=\\x0fV\\xe9\\x8d\\xb5u\\xd2$,\\xcd\\x0c+5\\xb0\\x9f\\x1b\\x85\\xe9\\xb9\\xadB\"\\xd5\\xf35\\x95\\x86\\x81a\\xa1\\n+\\nB|\\xe2\\xc2\\xa0j5\\x15\\xd9p}\\x87\\xb5U \\xd3F+\\xfa\\x89\\x8a?\\x89\\x12\\xf8/\\x02\\xfa\\x15\\xedp\\x97\\xd5;\\x92\\xa9\\x03>\\xd1\\x0e\\xafU\\xd1-\\x02f\\x8e\\xa4\\xb1\"\\xa8\\xe1LkS;Qm\\xad\\xc84\\xa5\\x8a\\x92\\x82b\\xcf\\xf2\\xfc0H\\xb8(y\\xb0\\xf6\\xef\\xf6\\x03i\\x10'"
      ]
     },
     "execution_count": 174,
     "metadata": {},
     "output_type": "execute_result"
    }
   ],
   "source": [
    "chunk"
   ]
  },
  {
   "cell_type": "code",
   "execution_count": 175,
   "metadata": {},
   "outputs": [],
   "source": [
    "chunk = next(data_stream)\n",
    "decomp_chunk = o.decompress(chunk)\n",
    "data += decomp_chunk.decode()\n",
    "data_size.append(len(data))"
   ]
  },
  {
   "cell_type": "code",
   "execution_count": 176,
   "metadata": {},
   "outputs": [
    {
     "data": {
      "text/plain": [
       "(44706, 1393277, 1393277)"
      ]
     },
     "execution_count": 176,
     "metadata": {},
     "output_type": "execute_result"
    }
   ],
   "source": [
    "len(decomp_chunk), len(data), data_size[-1]"
   ]
  },
  {
   "cell_type": "code",
   "execution_count": null,
   "metadata": {},
   "outputs": [],
   "source": []
  },
  {
   "cell_type": "code",
   "execution_count": 177,
   "metadata": {},
   "outputs": [
    {
     "data": {
      "text/plain": [
       "(0, 1393277, 1393277)"
      ]
     },
     "execution_count": 177,
     "metadata": {},
     "output_type": "execute_result"
    }
   ],
   "source": [
    "chunk = next(data_stream)\n",
    "decomp_chunk = o.decompress(chunk)\n",
    "data += decomp_chunk.decode()\n",
    "data_size.append(len(data))\n",
    "\n",
    "len(decomp_chunk), len(data), data_size[-1]"
   ]
  },
  {
   "cell_type": "code",
   "execution_count": 178,
   "metadata": {},
   "outputs": [
    {
     "data": {
      "text/plain": [
       "b'\\x83\\xbf\\x84\\xab\\x13a\\\\\\xaa&\\x9e\\xe00\\xc0\\x1aMRlj\\x95\\x03\\x01\\x8a\\x01N\\x1db\\x94\\x01\\x89\\xfc\\xc8\\xec\\xf1F.\\xc6Y\\x11\\xb0\\xa2\\xab3\\xa4\\x1dHX\\x1a\\xc6\\xce\\xa5>\\x0br\\xd8\\xe3\\'\\x01\\xb9\\xe4\\xfd~\\xdc\\xd0T\\xd1m\\xad,\\x03\\x85\\x98\\x81\\xde$Nic\\xaa\\xa1\\x1a\\xa2\\xc6\\xe8I<\\x08\\xef\\x91\\x14O$e\\x8c\\xcb;\\xc0\\xe2\\x1b\\xeb\\xfd\\xe5\\x8e\\x9d\\xff\\xfb\\x81\\x0e\\xc0\\xd3N\\xc8g\\x8b\\x0b\\xc0\\xd8@\\x0f\\xe5\\x86\\xde\\x94\\xa9\\xe5!9K\\x95\\\\n\\x940\\xcdP\\x19\\x07\\x81\\xe2\\xd2\\x0fc\\x1d\\taA\\x9cH\\xd3\\x18U\\x17?\\xfdfx\\x18\\x8cw\\xcf\\xd7Ll\\xd1\\x7f\\xado.\\xb77\\xdf\\xf9z\\x8e0\\xae6\\xdeow\\x89{\\xe2\\xc2\\xd3L\\x0b\\xc3\\xd8)Q\\\\`\\xd3\\xd5*\\x99\\xf9gNb\\xa2\\xdb\\x95\\xce\\x935\\xd8y\\xc1\\x9d\\x95\\x18!J\\xce\\xe0\\x99P\\x9a\\x8d\\xabq\\xb8\\xf4\\x0f\\x9b\\xdd\\xb7\\xf5\\xb6\\xb7:\\x07E\\x0c\\xc6\\xe4 \\x1d\\x93Kl\\xb1ZX\\xf9\\xb9mR7\\xafPc\\xd2\\xaa&ve\\x1b:!F\\xac\\xdbaOy\\x95\\xf3MBZ.\\xc5\\x19\\xb6X2/\\x90\\xef\\x915\\x04\\x08O\\xc0\\xef3x\\x1aZ\\xec6\\x8d\\xef\\xab\\xa6\\x8f\\x9c\\x84\\x1d\\x91\\x01\\x8bn\\xb4\\xd2QUb\\x85Hw:\\xb0\\x11\\xcc\\x17r0\\x10(\\xa4\\x93p\\x1bG\\xd4\\x10\\xe0\\xac\\xb8\\xbd\\\\A\\xbcW\\x1d\\x87\\x08 4\\x1c\\xbf\\xa3\\x16\\x97(\\xe4T@QA\\xa2\\x12#\\xaa\\x1d\\x10P=!Uc4M\\xe0b\\x8cI7\\xc2\\xe9\\xdcn\\xac\\xb0\\xb4\\xa2g\\xa8\\xe3 8o\\x84s\\xbc\\x0c\\x87 \\x10N\\x08l>\\xa1\\xfa\\x86Bh\\x03\\xcb\\xa5\\x89\\xae@\\xcdR\\x12\\xb9\\xcd\\x18\\x0b\\xaf0\\xe4\\xc8\\xf1\\xdc\\xa8\\'\\x9e\\xe1Y7\\x04Br\\x86D\\x11I\\xf3f\\x18ok\\xfdtT\\xed\\x1e\\x0f\\xf2\\xfc\\x81\\x8c\\x9b~K\\x0b\\xc0\\xe6j\\xc8\\x8aMP\\x91\\x04\\xaa\\x8d\\xa1\\xc7\\x81\\x97*\\xa6\\xe2W,jq-\\xbd\\xf1?,\\xd3`\\x96LN%(\\x8e\\x8aYV\\'\\x93m\\x8e\\xc0v\\xb9\\xde\\xad/^9N\\xf7\\xd7\\xb7\\xaftP.\\x9bhwo<\\x8c\\x9f\\xf8\\x81\\xc5%\\xbc\\xaf\\xc1MJ\\x80\\xeb\\x99\\xa4\\x01\\xaa\\x85\\x8d\\x18X\\xb5\\xec\\x16\\xa5\\xadx\\xb9\\x95\\xf0\\xf7\\x8al\\xc5\\x11\\x97\\x14\\xe2\\x15<\\x0bMx6\\x8a\\xe2\\xf3\\xa2?\\xae\\x1f^\\xc80\\xb7\\x97\\x87\\xf5R\\xc0vLv\\xe6\\r\\xc7\\xafkj\\x01\\xe0p\\xa5\\x07\\x99l#\\xe0g\\r\\x02$\\xaa]\\xcb\\x06J\\xe1R\\xea6~\\x11w.\\x84\\x11\\xdfb\\xc1\\xe2\\r\\xc2\\xc2\\x96\\xcfG\\x0e\\x81\\xb9b\\x96\\xa7\\xe5~\\r\\x10\\x9fV\\xfca\\xf3\\xeb\\xdb\\xfa\\'\\x1fq\\xb6\\xcf\\x1e\\x0c\\xdf1{\\x0b`\\x18YJ\\x05\\xa3\\x9c\\x86J\\x9caU\\xf3\\x0b\\xd3\\x0f,\\x1b\\xf9\\xa1e\\xdbaew\\x8ak\\x04\\xf3G\\x9f \\t\\x13\\xef\\x9dF\\xf2\\x83\\xe7\\xbaw:X\\xf2\\xedU?\\xbb[B\\xa7\\xc3\\xb7ok\\x91\\x0e\\'({\\xa00RW+\\xfd2\\xa0e\\x80=\\x95\\xd8\\xb6\\x19$\\x91l\\x98=\\xd4n\\x9e\\x9e\\x08\\x89$LL\\xf5Fa\\x07g\\xab\\xa6\\x1d\\xacw\\x0fp\\x08K\\xc32\\xf5~CK\\xd4\\xcel\\x14\\x94*N\\xf2(\\xa2\\xbe\\x0b\\xa9-\\xe7\\xbe\\x8dd\\x94\\x12\\xcfu#=\\xe8\\xa0\\x86\\xb8\\x12(\\x06lU\\xa7\\x91hF\\x81\\x86f##>\\xad\\xf5\\xaf\\xcd5\\xdb\\xde\\xda\\x00\\xf1\\xdd\\xc6B\\xe1\\x84S\\xef\\x1d\\x93KP\\x12m\\xacFq\\xed\\x06\\x85\\xef$\\xd0qm\\x97\\xc24\\xce<\\x1b\\x18^\\xec(\\x1dJ\"!\\xfc%!\\x11X\\xdep\\x06\\xef#\\'\\x1f~\\xefP\\x12_V\\xfe\\xe6j}\\xb7~h\\xd7~\\x00\\xb9\\xad\\xe5\\xef\\x9d\\x80\\xea\\xc7\\xb6\\x17\\x80\\xd7\\xa2A\\xe5 \\x82\\xeb\\xd2O\\x9dJ\\xcbA\\xe1\\xd6qU\\xfb\\xd0+U[\\xab\\x9cnr\\xc15\\xceH\\x80\\xbc\\x14I?\\xf9\\xd6\\x89\\x9e\\x9c\\x13\\x0e\\x80\\xf7\\xfb\\xf6~{q\\xbf\\xbe\\xbe\\xba\\xfd\\x9d\\x1c\\xf4\\xf9+\\xdb\\x9b\\x86o\\xb7\\x1f\\x98]\\xe2\\xc8\\xac\\xe3\\x08\\x82\\xc0\\xc4\\xa1m\\x00\\x8b:\\x18\\xa4\\xa1R\\xe2\\xc2\\x8e\\x0c\\xcd\\xcbL\\xb5\\xeb\\xb3\\\\u\\x86R\\x00\\xce\\xd1\\x14<\\xa2\\xbd\\xe64P\\xfb\\xceND\\x85\\xe1A\\xcf\\x11sK\\xb034=\\xf53\\x1c\\x93(\\x92\\x1d\\xafL\\xedT\\xa7\\x96OB7\\xf0e\\x13\\xbb\\x1d:?[s\\x0eD\\xd8\\x96\\xb8\\xcf\\x01\\xe2|\\'\\xe8{\\xc5Q84V\\xfd\\x84mT\\x05E^\\xabE\\xe0\\x94\\x9e\\xaf\\xd7\\xd0v\\xc2(I\\xcaX\\xa5\\xa8\\x91\\x81Z\\xd4\\xddm\\x94#\\xb6IH<\\x0b\\x95\\x06I\\xf3\\xa5\\x88]\\x1e\\xe1\\xf6\\xe6\\xfb\\xf7\\xf5\\x85\\x88\\xf7o\\x08\\xe1\\xb0\\xd6\\x8b\\xf7\\xcc-\\x00\\xa0\\x9f\\xaa \\xccR\\x8c=\\xd3,SC\\x0eb$\\xc3\\xc2b\\xbfF\\xaa\\xeb\\x17\\xd6\\xc7\\x00\\xae$\\x82\\xceP\\x1b\\x05\\xab\\x19\\xbdm{s\\xcb1\\x9f\\x98_C<4\\x8c\\xd9{\\xff\\x12W~\\xb2l\\x14U\\xed\\xd4\\x8a\\x15\\xd9\\x19\\xb5\\x93\\xc8\\x8d\\xea@Wb-Qj\\r\\xc5|\\x01m\\xd5)_\\xaf(\\x01g(\\xa0\\x89\\xb3qG\\x0f\\x96\\xf8\\x82\\xfd\\xbd\\xdb\\x9b\\xcd\\xfdv\\xfd\\xd6\\xe7+ a\\x04Xo\\x96\\x16\\x80\\xcd\\xab\\n\\xbb\\tb]\\xd5\\xa0\\x99\\x17jax\\xb4\\x00\\xa5b\\xe7\\x89\\x1d\\x07\\xb6\\xcc\\xd3\\xd3\\x04I\\xecd\\x82+8\\xed\\xc6o\\\\\\xaf/\\x989\\x18\\xe9]\\xf0\\x8bGN\\xed\\xe2\\tDqhD\\xf2\\x81\\xcd\\x05\\xe0\\xcc\\x92R\\xab\"3\\xa6f\\x18\\x11\\xe0\\xe5$\\xcd\\x82$\\xad\\xab\\xc0LS\\xd7I\\xf9\\x1b\\\\\\xb6\\xa7q\\x0c\\n\\x11\\xfeN\\x12?\\x17O<\\x9b\\xdc\\xc5\\xe1\\xba\\xbf*T\\xf0\\xee\\xd8*7 2L\\xf2\\xe2\\x03\\x8bK\\x84\\x97:j\\xe2\\xdc\\x95M\\'\\x95\\xed(0\\xe3&\\xad\\xe2HU\\xb2\\xb2\\x00\\xae\\xe6vX\\xa3\\x02\\x7f\\x13\\x0f0\\x14)\\x9a\\xd8\\x1c3F\\xf7\\x82\\x9d\\x84\\x8b\\xf9\\xe53)pO<\\x08\\x03:\\n\\xc1g;Kt\\xf9\\xaa\\xa0\\xa4a\\x94\\xd6\\xb6\\xe7d\\x86e+\\xc4t\\xa3&\\x8a\"H\\xab\\xd0I \\x87\\x1b\\xc4\\x90/\\x87\"\\x11\\x01x\\x06\\xf1 \\xb6\\x8d\\xcf\\x89\\xdb\\xfd\\x9b\\xbc\\x0fG\\x0fm\\xf5.\\x04\\x08\\x87U\\xd4z\\xcc,\\xd1\\x8a\\xe6\\xe7\\x1e\\xaa\\x15D\\x90\\x95\\x1a$\\x05\\xb9W\\x07\\xd4uI]\\xbb91\\xf2\\xce\\xd5\\xbbH;\\xbb&\\x86+\\xf1\\x0c\\x8a\\x17\\x82tr\\xf0\\xf2>j\\xaf\\r\\r\\xbf\\xd7}\\xef\\xf6\\xaf\\xfd\\xdf@\\xd4:f\\x96@M-\\x93\\x06\\xe9\\xb2\\xa3\\xba\\x16P\\xaa:\\x88\\x1d7E0\\xb3\\x03\\x05\\x9a\\xc8\\xee\\xa0\\xd6\\xf1\\xb5\\x15\\xc0`\\x1ah##\\xce\\xf9n\\x1e\\xeey1\\xad\\xbd8\\x05\\x8b\\x03o\\xfb:F\\x16\\x00\\xcb\\xb0\\x1b\\xd5EFV\\x95\\xa9\\x19X\\x81\\x179 \\xf1MXPR;\\xa1\\xa9\\xf24\\t\\x08xF \\xcb\\x17D2\\xa9\\x9292\\xce\\x84s\\xb1[\\xae\\xd6\\x7f>\\xacw\\x17\\xeb\\xcb\\xcb\\xdb\\xc7\\x9b\\xb7\\xfd\\xac72a\\xfb\\xe3\\xa0\\r\\xf2C\\x9bKP%\\xca$\\xc8\\x92D\\xcd\\n\\xcb\\xf5\\xfd\\x1c\\x14I\\x98\\x07\\xb2\\x19\\xc1T-m\\x1f\\x9b\\xdd3\\x8e\\xa3J`D\\xc5\\xd5D\\x96\\xee(I\\xaeY\\xef\\x1c^\\x97\\xbe\\xbd\\x1e\\x7f\\t\\t\\xf7T\\r\\x99\\x93\\x0f\\nLz\\xac,\\x00\\x19a\\xf0\\xe4\\xd4\\x89\\n\\x97\\xed\\x8f,1\\x08c\\xd2\\xc00\\xab*\\xe8\\xc6P\\xa1\\x9d\\xceN\\xa1s\\xdfG^on\\xff\\x7f\\x03\\xd9\\xab\\xab|_\\xff\\xda\\xde|\\x7f\\xdd7a{3$\\x0e\\xaa\\x81\\xbdcm\\tn\\xbc\\xa1WJ+\\x82\\x17\\x84\\xb2\\xd7d1\\xac}\\xcf\\x83\\xc0\\xaf\\x8c\\x0cUZ\\xc5g\\x04\\x00\"\\xae\\x04FWt5\\xad\\x04F( \\xc2\\x17\\xd4\\xbf\\x81\\xc2\\xb6\\xeb\\x07\\x81\\xb7\\x97Hl_\\xb2\\r\\xf4\\xf4\\xab\\xa0\\xf7\\xe1\\xeb\\x89\\'\\x019\\t\\xb2\\x05CI\\xa7.\\n\\xbbn\\x90\\x8c\\x9aLEuf\\x15\\x9a\\x9b\\x81\\xc0\\xcc\\x13\\x9a\\x00Y\\xe6\\xb5\\xd3Z5\\n\\xce\\xd3`\\xbb\\xd6\\x9f\\x7f\\xce\\xb1`e~O\\xe3\\xdc\\xe2hi\\x0c\\xb6\\xdf\\x174(\\xb8\\x1chy\\x89\\xcb\\xd82W\\x00(\\xd2X\\xc5F\\x10\\xbb$G\\xc0\\xd2\\x10\\x88\\xc3\\x04UT\\x89y\\xaa\\x0b\\xf3\\xc0\\x8e`\\x85\\xc02\\x87I9\\xf98\\x17d\\x7f\\xb0\\x00\\xb6-\\xa9\\xef\\xe1Iu\\xe9\\x9e;\\xfd\\xb0H\\x87\\xb5\\xe3\\x1e3\\xb5\\xc4\\x15B\\x99\\xa9\\x89\\xa3Z\\xb5#\\x97fAu\\xd77\\xf4@\\xad\\x90\\xe39nPQ\\xbe>\\xdd\\x9e\\x81\\\\}\\x1a#\\x11\\x9f\\xa1\\xa0\\x02\\xc9\\x9c\\xa2x/+\\xce3s[y\\x9aA\\xc9\\xc2\\xc1\\xfb\\x17\\x80\\xc9\\xc4F\\x92\\x93L\\xce#j\\xba\\xa5^b\\xc7\\xd0j\\xc5\\xb3=7\\xc7\\x9a.\\xf3\\xe2\\xcb\\x82\\xc4\\xb7K\\xb3=\\r\\xc3\\x89\\xea\\xcb\\xa3\\xb2:<\\x1b\\x9d\\xb3%\\x0e\\x1d\\x11\\xb8c\\xf9\\xea\\xe0\\x8d\\xb2ke\\x01\\xbc\\xec&\\n\\x89\\xad\\x18Y\\xac\\x98\\xa0\\xae\\x83\\x80\\xe0T\\x03^Ud,\\xc2\\xb4:\\x05/\\x16E\\xf2\\xbc\\xe9\\xd5\\n\\ng\\xe8\\x18\\xc2\\xb31\\xc9^y^\\x00\\xef\\xbe\\xf5!F\\x86*+\\xf7\\x1bZ\\xa2\\x99\\xdd\\x84z\\x13BJ\\xc2\\x00f62\\x0c`*yX\\xc9U\\xe1\\xea\\xa5F:\\x9c\\xe9\\x0ei\\x93R\\x89\\xc03p6\\x11\\x9a\\xd3\\xc7~\\xafu/[\\x9a\\xb4\\xf2@\\'\\xc3\\xb6,Q:O\\xb3J\\x03,\\xdf\\xf6\\xab\\xd4\\x03\\x91f\\xc5\\xa4v\\xac,S\\xe5X\\xabj\\xb3s\\x88\\xbdP\\xfb\\xf6SoIB\\xe7\\x00n\\xb6{\\xf0\\xdf\\xb4\\xf4\\xd7\\x92\\xc7;\\xf7;\\xad4\\xfd)\\x08\\x1e\\xb5\\xb9\\xc4M\\x81\\x9b(\\x19\\xf2\\xa9\\x16\\x85\\x95i\\xc5VhF\\x81Q[0\\xb2\\xf4J\\xa7aG\\xaa\\xa7\\x93\\x92\\x8b\\xc2\\n\\t\\xe4\\x0c9\\xb9\\x00\\xe6\\xbcy=h3\\xe8\\'\\x80\\rc\\xdf\\xf6\\x1bZ\\xe2\\x8e\\xd5b\\xce\\xe6i\\x01\\xd1\\xcc\\xc6)RY11rB\\xc3\\xce\\x03\\x8f\\x84I\\xc4\\x87(]\\xfe\\x1e\\xf3 \\x80\\xc14:\\xd1\\xb8v\\x05:\\x97\\xdc\\xd9ons[\\xe7\\xbf8h\\x12\\x12O\\xdd7\\x7f\\xdbX\\xa2\\xec\\x9c #\\x89\\x90\\xadZ\\xa1\\x82\\n\\x15YZm\\xaa\\xc8\\x94+\\x84\\x8a\\x10\\xa8|\\xad\\x92\\x05\\xf8|8\\x89(\\x02Sw\\xccQZ\\xd8\\xe2\\xdcG\\xdd\\xf3:\\xbf\\xe4\\xcb,z\\xef\\xbb\\xe2i\\xbf9\\xa7c\\xd7cs\\t\\xde\\xac\\xcb6IJ\\xbd\\x80\\x92Z\\t\\xec\\x04\\x96\\x8a\\x03\\x1c\\x94\\xe8\\x85\\x1e8\\x8e\\xd7)b\"\\xc2\\x93\\xc0(\\x86\\xd3\\xae\\x10F6z\\x9d^Z\\x19\\x02%\\xd7\\x9a\\'\\x0c\\x932\\xe3M,\\xd1]\\xe2\\xc404\\x82\"\\xd5J\\x19\\xc6 &f\\xc2\\x12\\x03\\'\\xaa\\x8b\\xb4B\\xba\\xd2\\xe9.a\\x07\\n\\x97j\\x0b\\x12\\x9aH\\xb7\\x1c\\x07\\xd4lS\\x8f\\x0eVyO\\xe3\\xaa\\xcd\\xb4\\xe90v:ob\\t\\xa0<\\x97\\x00\\xcf\\xf4\\xbc\\xda\\xad v\\xa9\\x1c\\xd8u\\xa9yN\\x92\\x01\\x9bXa\\x87\\x89\\x8e\\xf8\\xe4Mb_mx\\x86\\x1bT4\\x9b\\xc4\\xdc{}?p\\xa0x\\xee\\xa7tlA\\x839\\x126\\xd4\\x02b\\x1f4\\x99\\\\G\\x8a\\xa9\\xa4\\x85\\xec\\xeaa\\x90\\xa1n\\xca\\x86\\xf86W$B\\x8a\\xcf\\xd0#\\x89\\xc8bX\\xbd\\xaa\\x13?\\xb5\\x88\\xef\\x97H\\xc00\\xdd\\xf1\\xf7\\r.!\\xb0\\x12iP\\x89I\\x06\\xbd\\xc4\\x8d\\xcb*\\xab\\xa0\\ncE\\xc9b\\xb9\\x08\\xb2\\xb8\\xea\\xb6ku\\x1a]E*\\x9e#\\x7f\\x83\\xb3\\xe9\\xabt\\xd7|?\\x868\\x8c\\xfb\\x07\\x89\\x8f\\xbfop\\t\\xedx+\\x04v\\xe2\\x06\\xb9\\xed\\xa5A\\x8c\\x1d\\x13\\xcb^\\xce\\xce7\\xd9\\xc8\\x9a\\xb8j\\xaan\\xfc\\xcf\\xc5\\x94\\x12\\xc3\\xe0,\\xdd\\xca\\xb3\\xb5~\\x1cY\\xf3\\xfd\\x88\\x84\\x1d\\x16\\xec\\xb1\\x13\\x00\\\\(!\\x08\\x14\\xe8\\xd7v\\x1a\\x824\\x91\\xe5\\xc2\\xc8\\xe4\\xa0\\xacl\\xcb\\xc2\\xb9\\n\\x81\\x92\\'<x@\\xe8\\x8cS\\x91\\xe8\\xd4\\xab\\xf0Q\\xe8\\x89\\xa7+\\xe4\\x0eH\\xbb\\x8f\\x89q>\\x95-\\xc5AC\\xa9\\x8e\\x99Z\\x00=\\xbd\\xcee\\xbd\\xf0\\x14\\xcd\\xcc\\x8cH#\\x00\\xd0&\\x0f\\x91\\xac6fl\\x174\\xeb\\x99\\xa7\\xd9\\xe11P4\\x91\\x15;\\xb2\\xd9|.\\xb1\\x95\\xeej\\xf3\\xf2\\x9b\\xad\\xb4\\x18>\\xad\\xe2\\xfc)\\xba\\x9b&\\xd6T?2}\\xd5t\\xca,+\\x10\\xfb\\x97bC\\xa2\\x84\\x90\\xf8\\x1eL\\xba\\x87\\x1f\\xe2{\\x95\\xdbp\\xf3,\\x11\\xccr\\xfb\\xe6\\xbf\\xb7\\xeb\\x8bo\\x97\\xeb}\\xec\\xd00n\\xecQ[K\\\\\\x188A\\xceN7\\x97\\x92,\\xb6|\\x8fB5-\\xcb\\x8a\\xa5\\xe3\\xc0\\x89<9\\xeaQy\\xe8(\\xc3\\xafV+z\\x86\\x92\\x17\\x12\\x16\\xc6\\xeef\\xbb\\x7fe\\x80\\xc7\\x06\\x9e/\\xb6\\x96\\xe0~\\xa9\\x96GS#Bj\\xd1\\x94\\xb9\\x8c\\r\\'\\xc4q\\xe3\\x1a\\xaeG#\\xa2\\xdb\\x1d18\\x829\\xb7#\\xec\\xd3I\\xd3\\x94\\x8b\\xc7\\x85+`6\\xe2P\\xffr\\xef\\xb6\\x87\\xc9\\xde\\xe0k\\xd5^[K\\x90\\x89\\xf4$/r\\xb7\\x89\\xd5\\xa8(\\x83P-\\x13\\x0b\\xd0\\xcc\\x0fc\\xd7\\x96\\x1d\\x0bv\\xda\\x1e\\xbb\\xe2*\\x18H/\\x82c\\x9f|\\xbb*\\xcc^I9X\\xef\\xab5\\xfb,\\xb7\\x07\\xb7u\\xab\\x81\\x04\\x86\\xf7\\xec-1\\x8d\\xd1\\xd7h\\x9a\\xe1\\xb0\\xd6l\\xa0Zy\\x1d6\\x1ae.\\xe8;~\\x96\\xc7\\x95\\xdase\\xc7m\\x9d\\xab\\x15\\x03\\xf1,\\x10.\\xbbs\\xfeZ\\xdf\\\\m\\x0f\\\\\\x10aad\\xc6\\xb7go\\x89\\xf6q\\xe4\\xf8i\\xd9\\xd0\\xaa\\xca\\x10t\\x1c\\xabJ@\\\\Un\\x02Hh\\x86Y\\xdd\\x99o\\xd3\\xb9\\xf0\\xc1+\\x86\\xe0\\x19z\\xfd!\\x9a\\xab\\xb5\\xf5`\\xc9\\xbbB\\xe1m\\xcdE\\x18\\xa6\\xccx\\xc4\\xd2\\x12\\xda8>\\xcb\\xcf\\x15\\xb7\\x905RW>\\x00f\\x967!P\\x82\\x98\\xa5yI\\x8a\\xf2\\x0f\\x0f>$a\\x16\\t\\x9f\\x03\\xb6\\xd9\\xaf\\xe9\\xda\\xc5\\xeee9 \\x16\\xdc\\x9e^\\xe4\\\\\\x96\\xe5@dT\\x00\\x1c\\xfaV\\xed\\x17\\xb0\\x84\\xa6e\\x81$\\xf2\\x9d(l \\xd2+\\xd8Q\\xbd\\xe9\\x8c\\x8b\\x16\\xdbB\\xf19\\xe6E\\x030\\x97\\x18\\xe3\\xebr\\xffb+\\xbd\\xd9\\xf5\\x13\\xc1\\xc8i\\xdb%oj\\x89<\\xc1\\xcd\\xb5R\\xad\\x89K\\xa3@\\xcd\\xad\\xbc)\\xe5\\xdc4\\x1aY\\x8e\\xe3\\xa4@jO~\\xce\\xb9\\x1c\\xfbdpE\\xcf1\\xe9{6\\x05\\xf7\\xdf\\xcb\\xfd\\xb8[\\xff\\xe8g4\\x90a\\xc3\\xa3\\x8eXZ\\xc2\\xe3b\\xd7\\xf2\\x11T\\x1b\\xd7m\\xea\\xcav\\x15WGy\\xa1\\xea\\x85\\x1b\\xa6\\xa9ou\\xae\\xc9;\\xbc\\xa2V\\x92h\"9v\\\\z\\'\\xcd\\x1d\\xa4</\\xf6\\xb1\\xbd\\xf2\\xb4\\xdb\\xf1\\x8e\\xad%\\\\\\x8e8\\xb1\\tb\\xac\\xa6$pS\\xacR\\xd5\\x06\\x05Rl\\x08\\xb0-[y\\xf1a5\\x1aK\"\\x01gH\\xef \\x9e\\xfbJ\\xe1\\xa0\\x82\\xf9\\xac\\xd4 \\x9e\\x14\\x93,W\\xb7\\xb4\\x13\\x14\\x1b\\x81\\'\\xe7\\xb1\\xa2\\x98@q\\xcc4E\\x81\\x97\\xa8\\x8a\\x1d\\x05I\\xcf`\\x0b^\\xa6O\\x94Da5\\xad\\xea<\\xae-\\x04\\xd1\\xb9Qz\\x8f\\xb0\\'\\x0e\\x94\\xf7>jk\\x89\\xe8\\xbft\\x02=\\xb7m\\xec\\x15U\\xe0&\\x86\\xaa\\x04~\\xec\\xe5\\x156dK\\x0b\\xd2.\\x9b\\x81\\x17\\x18\\xa6\"]M\\xd4\\x17\\x1e\\xd7\\xd1/\\x9c\\x1c\\x8c\\x0c\\xb80x\\x96V;\\xceN\\x07\\xe8$\\x1aJ\\x9f\\xb9%\\x88\\xb3\\xd4\\xcb*\\x0b!\\x1f\\xc6\\x04\\xe7\\xbe\\xa5\\xe6\\x15\\xd0*\\x8d\\xca\\n\\x01~\\xa0uCJ\\xde\\x01Y\\xfe\\x06\\x85s\\xd4/\\xe9\\xdc\\x07\\xdc\\xdeqt\\xb1{\\xbc\\xdb\\xae\\x7f\\x1cp\\x9eO\\xcb\\x06\\xba\\xc6\\x96\\xf0@\\xec\\x81F\\xd7\\xdc\\xbcH\\xe5&\\xf1L\\xaf&J%\\x07\\x95\\xacfD\\x89\\xf4\\x1e\\xc1\\xc4N\\x8f\\x01\\x95\\xc0\\xc4\\x96\\x90QG\\x1c\\x9d;\\xff\\xde_o^\\x9b\\xe8I\\xfaR:\\xcd\\xfdz\\xed-\\x11\\xa5 7\\xd6\\n\\xa27\\x8e\\x1b2\\x0c)$U\\xd2:`\\x98c\\x9d\\xaaUgJB\\xa7\\n\\x86\\x89\\x88\\xce\\xa1\\x12=#q\\xbd\\xa5H\\xb2c\\xea\\xfb\\xc5\\xfe\\xccCvZ\\xd0\\x81\\xd7\\xac\\xfb\\xef_b\\x90E&\\xcbQ\\xa6\\x07E\\xed\\xd5\\x91i\\x1brl\\xa4\\x01\\xa9\\xb3\\xb8L\\xd3\\xd0n\\xf8*\\x17\\x0b\\xdf\\xf8\\xf6F,\\x90\\xb3\\xf4\\xf5\\x8bp\\xb6\\x18\\xe5\\xf7\\x1a\\x7f\\xdb\\xde<\\xac\\xdf\\xda\\xc2\\x9f\\xb4\\xdb\\xd0\\xb0f\\x02\\xde\\xc6\\x12\\x12\\x0c\\x86\\xa2\\xe6\\xa4(\\xb0]XV\\xa5\\xbaq\\x92\\x16\\x8e\\x137\\xaa\\x86K\\xb5!]\\xac\\x00\\x7f1\\x00\\xda;\\xe93\\xb4\\x19\\xb3\\x9fd~\\xac\\x1e\\xdf\\xce\\xb0\\xa7\\xe6Sx*P\\x8f\\x8b\\x9c[a\\xc0\\xc2\\xfe(F\\x9eY\\x1bM\\xdc\\x8e*\\xb4\\x8b\\x06\\xd7\\t\\xac\\x8dD\\xd3\\x0b^\\x8c\\xad\\x8b\\xd2\\n 2\\xf1\\xe6m\\\\\\xe4x\\xfaD\\x9f\\xf7\"G\\xb6\\xce\\xed2\\xef\\x93\\x95\\xc90\\x99\\xd1\\xd7\\xb7.A\\xa8T\\xd2\\\\#\\xb4NL\\x16P\\xd02\\xad\\x82\\xaa\\xa0\\xec\\x0c\\xf0\\xc2L\\xf7\\xec\\xa2\\xd3\\xb8(\\xac\\xb8\\xedNZ\\xb1\\xc5\\x9b(\\x81?\\x8a\\xfb\\x8af\\xab1\\xbe\\xac\\xee\\xa1\\xa8h\\xab\\xa7\\x00\\xd9_=\\x05\\x9f\\xe5dE\\xa1N\\xb0BHc\\xe7VR*zb\\x941\\xb2\\x13P\\xcb\\x91S\\xc9\\x1a\\xee\\x14\\xf1\\x05\\x81?\\x95\\x84U\\xab\\xe1s\\x86\\xcc\\x19\\xce5\\xe6\\xf3\\xea\\xf6\\xef\\x9b\\xeb\\xdb\\xf5\\xd5\\xc5\\xfa\\xee\\x9aEj\\xad\\xbe\\xf5\\xfe\\xedK\\x0b\\x18\\x02\\x03o\\xaf\\x8f\\x98Z\\x00\\xb9\\x80\\xa2*\\xc7\\xae]yf`yY\\x96T\\xec\\xc8B^\\x06j-\\x93\\x8b\\xc0\\xe0\\x90c0\\xf1\\xc8\\xb1\\x10\\x8cLc,\\x8fC\\x0e\\xd2Y\\xa50\\xee\\x8e\\xcdsa\\x01\\xc5\\xb0\\xc8\\xefn\\xe9).j\\xe29\\x86j\\xa5\\xb2Kt\\x05&\\xa6\\xeb\\xa2\\xd8\\xad\\x1d\\xbd6)\\x8eR\\xb7\\'<\\xe7%\\xe9\\xe1ju\\x8e\\xfa\\xef\\x08e\\x8bc0\\xed\\xd6\\xdfoo.\\x1e\\xd8\\x9a\\xec:\\xfe%\\xb0/\\xe2\\xb0\\xbc\\xaake\\t\\xb8d\\x8f\\xa8\\xb1\\xee\\xear\\xa4\\xe2H\\xcf\\x15Ku\\x83\\x02\\xfa^\\xa8%Q\\x90},\\xdaK\\x00\\xc0\\xf4\\x0c\\xd1\\x1f\\xa0s\\xb6\\x8e\\xb6z!o\\xfa\\x90/Mho\\xfa\\xa0\\xec\\xb9\\xecK2,h?fj\\x91\\x89I\\xb1\\xecX\\xb8\\xf45\\xb7\\xac\\x80\\x1d\\xc7\\x11\\xf2\\x8b(I1-\\xd5@O\\xf8Z\\xb0\\xb0\\xa2\\x1d6\\x01\\xa6\\xd3\\xa2B\\x06\\x1eF_ <\\x02\\x1e\\x86\\x08\\xed\\x81\\'\\x89\\xed\\xcbV\\x88dN\\xad\\xc9\\xa7\\x15?\\x94e]\\xdf\\\\\\xedn\\xb7W{\\xc7\\x1aKS\\x06\\xdd\\x94\\x1d7\\xb6\\x88\\x12\\x97\\x13Q\\xad\\x0e\\xf3\\xc6\\xb4\\x9c\\x04\\x05UP\\x94\\x8eU\\xdb\\x95\\xec\\xc6v\\xad\\xf2\\x12O\\x82\\x04:\\xb5\\x0c0\\x91\\x945R\\xe2I\\x9a\\xdd\\xfb\\x9e\\x0e\\xa5\\x97\\x15\\xef\\xd4\\xa3\\x9e:\\xf0\\x87\\t\\x01\\x1d7\\xb6\\x08\\x8b\\\\7\\xaa\\x08\\x9a\\x84 l\\xc7 \\x8c-#I\\xa0n\\xd9\\t\\xac\\xd2\\x80\\xf2\\x91I\\xab\\x08\\xc7\\x87\\xfe\\x00O\\x9cr<N\\n\\xe8\\xf4qs\\x83\\x00\\xec\\xe8/]l\\xd9!vy\\xfd\\xf8mO\\xd1\\x10\\x90a\\x8a\\x86C\\xcc.\\xa1\\xa7@\\xa1]j\\x8a\\x9d\\xe6\\xc4\\xceM/\\xa5@\\xaf\\xa1\\x0f\\x1d\\xa8\\xd7Y\\xaa+=\\x8a\\xd9|\\xb8I\\x00\\x15\\'r%\\xc7\\xe9)\\xcc\\xaaq\\xf8\\xb4\\xfc\\xdd\\x9bPA\\x18\\x14j\\xee\\xbd{\\t.d\\xae\\xf9P\\xab\"K\\teU\\xcb\\xe3\\xc6N=]\\xd3\\x95$qL%\\xeb\\x84\\x99\\xb0\\xd3|\\x83\\xd9\\x8aM\\x9b|4Rfy\\xb6\\xf6\\xb7\\xa7\\x05~\\xf7\\n\\x94\\x0e\\xab\\xe0\\xf7\\x1bZ\\xa2.\\x1c\\xb8a\\x80\\xd5\\xcc@^LmJ\\x1d;\\xb2\\xb0\\x1c\\x06\\xc4\\xb4\\x8a\\x82V\\x1d\\xee\\xbf\\xc0\\xcf #\\x10\\xe1\\xd5\\x19\\xaaX\\x10\\xcfy\\xff\\xf9\\xbc\\xde\\x1d\\xe9\\xc9\\x96c0|[\\\\\\xb0\\xbb\\xa6\\xb0\\x01L\\xb3:\\xc4\\x84*\\x8d\\x93c\\xea\\xe7\\x19\\nC\\x05\"-Tb\\xb7\\xc3\\x15\\x17\\x00?\\xf3\\xbd\\xa5\\x1d\\x9c\\x83a\\x00\\xe6\\xcc\\xb6\\x9f\\x96\\xf99\\xf1\\xea\\xba\\xd7\\x93\\xc0\\xc50\\xeeU\\xaf\\x9d%(\\xfe\\x8aWyuH\\x13?\\xcd\\xb0\\x8fKd\\x9a\\x8aC\\x92\\xc8\\xad\\xa1b[\\n/b.\\xac:[\"a\\xbeq\\x06Q\\x0b\\x01\\xcf)K\\xf8\\xbc\\xdc\\xed\\xa0\\xef_\\xb7\\xdf\\xd8\\xe7\\xe0r\\x81\\'\\xe4\\xa4\\x13R\\xb9\\x1eSK\\xd0\\xe6\\xa0\\x1b\\xc9\\xaa\\x07\\xd5T\\xd5MRZQX\\x82F\\x8f\\xcb\\xdc.s\\xf6[\\x1dM^\\xb6\\x96\\xdc\\xd6(2\\x00&r\\xafF\\x81wz{\\xc6;\\xe0m\\xaf.\\xaeo\\xbfo{\\x9a\\x80\\x81\\x08\\xc8\\xb0\\x99\\x01\\x1d\\x1bK\\xf4\\xfef@-\\xe3R3\\x14\\x1d\\xa6zbh\\xa6JT/\\xa7f\\xaa\\x054\\xce;\\xda\\xbc\\x88\\x1f\\xaa\"\\n\\x90N\\r\\xfcG\\x8e\\n\\x9fKC\\xe1m\\x0c\\xd1K\\x91\\x83?\\xd2\\x9e\\x04\\xb0\\x87\\xb5\\xd2\\x1c\\xb5\\xb5\\xc4\\xf1\\xe6\\x042i\\x14Y\\xa5 tH\\x8d-\\xe4c\\x9c\\x19\\xb2\\x9f\"9\\xcde\\xbeo\\x1b\\xc0\\xce\\xed4lEe\\xa6\\xdd\\x03\\x8c\\x12\\xdf\\x15g\\xad&\\xb7\\xd3-\\xdbf\\xa5c5e\\x80\\xf1\\xa0@\\xbf\\xd7\\xce\\x12\\xb2\\xbb\\x91\\xee\\xd7>@a\\x14\\xbb\\xbeUa\\xa2\\xc2R7\\xa0\\x1e\\x14DFQ\\xd1\\x11m\\xea0\\x8b\\xc5Vb\\xe6\\x1c]\\xbf`6j\\xf1\\xdbD\\xd2g\\x9e[\\x9f\\xde\\x05hi\\x0c\\x83\\xe8\\xfc\\xefX[B\\xdf\\x15\"@b\\x14dr\\xa4\\xb0\\xd3MEJ\\xeaEV)#S\\xa7\\xd01;b\\x17\\x88\\xef\\xfc%\\xc2\\x8a\\xa03\\x1cq\\x08\\xcd\\xb6er\\x0b\\xde\\xdb\\x8a\\x81Fa\\xb7\\xa4\\xe35f\\x1d5\\xc4\\xf1\\x11U@\\rK\\x8b\\xf8 OC\\x10\\x96\\x9e\\x95\\xd9ug\\xe6i\\x87qE$\\xe6\\x8bg\\xe0\\x85\\xe3\\xd9\\xda~?\\x18,L\\xc0\\xa0x\\xf2s\\xe6\\t\\x87I\\xec\\xcaJ\\xac\\xbb\\xbe\\x8e\\x14T\\xa9\\xb1R\\xc0\\xdc\\xcc\\xd9Vi9\\xa6\\xa5ttI:\\xad\\xbe+\\x8a\\xc4\\xa9\\xb2\\xd7\\xa3dIf\\xeb\\xf4\\xfdk}\\xf9\\xf3\\xee\\xf6U\\x99\\x8e\\x1c\\xaa\\x93\\x0b\\x83\\xf8\"\\xbc\\x89%\\xaeob\\x10k\\xc8\\xce\\xd34\\xd6\\xd421\\xadBNqT\\x12\\x82\\xf4\\x08\\x86u\\x87\\xca\\x8f\\x10_\\x0ei\\x07f\\x9ec\\xea\\xd4\\xe9\\xc5\\xe3c@\\xb5u]N~P`g\\xf4 \\x84^\\xdf\\xbb\\x04\\xa5\\xc7.B@i\\xac\\x81\\xb0R\\xfd4\\xd0e\\xd7J\\x8b\\xd4\\xa7\\xa1\\xa9\\xba*\\xeaT\\xaa:\\xd0H\\x08I\\xd29\\xe4\\xecN\\xcf\\xa5\\x8fB\\xb3\\xa7\\xc7\\xf9\\xa4\\x00\\x7f\\xf7x}\\xbf\\xbe\\x10\\x85\\xdd\\xf6\\xdb\\xe3[\\xd9\\x8a \\x8c\\x07\\x9dX\\xef\\x1b\\\\B\"\\x8d\\x12/\\xa9U\\x95\\xa4\\xa4\\xc1\\xb2\\x02\\xd4 \\xd7\\xa2\\xc8R*`\\x87\\xc4(\\xf8\\x1a1\\xe8*\\xb6\\n+a5\\x99\\xda8\\xe2~\\x14\\xad\\xe6\\xac\\x88p\\xb9\\xf4\\xf3e\\xf60r\\xfe\\x92)4(r\\x134\\xb1B\\x15\\x126F\\x8c\\xd28F\\xc8\\xd1u\\x0f\\xc4\\xaa\\xa1wZ\\xe1Q\\'\\x9c\\x07\\x12\\x99~\\xf99\\x02\\x1d \\xcd9\\x97\\xf4\\xbd1\\x89p5lv\\xdbg\\xccH\\xf4\\xcc \\x87:\\x96\\xcb\\xb2\\xd2]\\r\\xda\\x0eF8\"Z%C\\xea\\x1b\\x91\\xd7\\xe9\\x0eD\\xbc\\xe6\\x12\\x91\\xe8\\xc4\\xc1\\x96\\xe3\\xb6\\xc4\\x11\\xcdK\\x1fA\\xf5\\xbc{\\xad\\x7f\\xae\\xb7\\xcf{\\xd8\\x9bgQ\\x01\\x0ccb\\x1d\\xb5\\xb5\\xc4iF\\x12\\x99\\xe2\\x0c\\xabr\\x13\\xa4U\\xac\\x98\\x9e\\\\\\x9bn\\x9c\\x11\\x04\\xdd\\xc0KPw#\\xe4\\xabU\\xed\\x04\"x\\x06W\\xc3\\xe2\\\\\\xa9\\xd7\\xc1z?5\\xfc\\xf5\\x9ff\\x00\\t\\'\\xed\\x8c\\xbd\\xf6\\x96`\\xaf&N\\x1d9\\xb9\\xae\\x95f\\x83]\\x1f\\xab(+\\xf4\\xd07U\\xc7tlE\\xe7\\xab\\x1f\\x0cC~h\\x1bm;\\xea>\\x1f\\xc2\\xf9\\xb4\\x97^C\\xf1\\xce\\x92_\\xf0\\x18\\xae\\x86\\xdd\\xcc\\xbcop\\t\\xbd\\xff\\xc8\\x06\\xa9\\xebdM\\x92\\xe3Zsa\\xad\\xd5\\x184\\x96\\x89\\xcdJ\\xce\\n\\xb5Sz\\xc4\\x88o?\\x03\\x04Nk\\x00\\x1dI\\xd8\\x12g\\xddC%\\xe90\\x00\\xe4\\x00d\\xe1\\t\\x18\\xee\\x84\\xbd\\xc6\\x96\\x18\\xdaf%EYf\\xa0\\x04\\xa5\\xacxU\\x18\\xa4\\xa9\\x8b\\xa9S;\\x99\\x1cU\\x9e\\xc3\\xd7\\xfc\\x99\\x07r\\xdd\\xbb\\x00R(L\\x13#\\x1f\\xe9\\x82t\\xb6]\\xf4\\xb7N\\xd2\\xb7\\xcd\\xee\\xdb\\xed\\xcd\\xe3\\xfdo\\xbe\\x81\\x08\\x91\\x00\\x07]\\xd0t\\x8d,q\\xe6%~\\x05#\\rE(\\xcb\\xaa\\\\\\xd62\\x147Z\\x85\\xfd(\\x87y]F\\x1d\\xb1, \\xf1\\xc95\\xa5/\\x85\\xac\\xf1\\\\\\x03\\t\\x88_0\\xee\\xe7\\x1a\\xb0/\\x08\\x16Vo/\\xd9\\xd7\\x85\\xbd\\x14\\xda\\xf8aN\\xb0z\\xf8;\\xc3xt{\\xef^B\\xf98\\xd3t\\x93\\xe2\\xc6\\xca2\\x13\\xd4\\x1e4-\\xec8\\xaa\\n\\x01IJ\\x80;3H\\xd9\\xa6\\xc7E\\xff+\\x08\\x804\\t\\x9e\\x91\\xbcc0\\x97\\xa2\\xd2\\xd3\\x02w\\xda/\\xb0\\x08\\x07\\xdd\\x98\\xed\\xbd{\\tbj\\red\\xfb\\xecH\"\\x06\\xb4\\xeb\\xca\\xa5e\\x05\\xb5\\x84\\x98(W\\x1b`\\xf3\\x02\\xabl\\xa7\\xe1R\\xe7\\x15\\xc1/\\xea\\x05\\x9f\\xdc\\x14\\x88O\\xf6\\x9e\\xf7r\\xb3\\xa7E~#\\x00\\xec\\x1fQd\\xd8\\x1d\\x0bob\\x89\\xa8\\xa2\\xd5\\x8f+]\\x9b\\x82\\xd2W\\xa2$\\xcfL\\x95\\xd6\\xb5\\xdf4\\x1e\\xc4q\\x86x\\x12*\\xcb+y\\x0e?F\\xa2x\\x06\\x1a\\xb8x\\xbaR\\xd2 \\xb0^g\\xd0\\xf3$p\\x02\\xc4a\\xc4\\x8fc\\xa6\\x96\\xb8\\\\1 \\xc1\\xb1S\\xe0\\x18\\xe6E^R\\xdf\\xaf\\xbdR\\xa3\\x16\\x0c*j\\xeb\\x84o\\x1ed\\x81\\x18\\x7f\\xb9\\xb2\\x12\\xa4\\xd5\\x19\\x82\\n\\x80\\xe6\\x04\\xefz\\xfb\\xefW\\xda\\xfd\\xc1\\xc5\\xca\\xb0\\xcb\\xb0\\xbdw/B[\\xf4M\\x8f\\xb8\\xa1#+\\xaaV\\xa9VB\\x92\\xc0\\xcb\\x1a\\x9a\\xc7\\xa1\\x9b\\'eGm\\x9a\\xfd\\xe0\\\\\\xfaL)\\x10\\xce!E\\xc66\\xe6\\x99\\x0e\\xabv\\x85\\xd9\\xdb\\x1f~W\\x98\\xf6nU\\xda\\x19\\xf5x\\xd8\\xa9\\xd5gf\\x89P\\xbd\\x86\\x96\\x13f\\xc0\\x08#j\\xf9\\x98\\xc5\\xe9J\\x99U\\xba\\xee\\'\\xb1\\xae\\x99\\x0e_\\xf0`\\x0e\\xc4\\x8b\\x90!H&\\xceU\\x18\\xa7?@\\xe7\\xca\\xb3~\\xaf\\xf4s\\xd9\\xfd`B/\\x8b\\xa6\\x06\\xa5W\\x1d\\x1bKHkB\\xe0\\xdaq\\n\\x12\\xe2\\xeb\\xb5b\\xc6\\xa6\\xa6\\xd9\\x95\\xa9j\\x8ac84\\xcf;#\\xf0P\\x87l\\x8f\\xc0ju\\x96Y\\\\\\xb3eU\\xbf\\xd7\\xb9\\xfd\\x0f\\xf6\\x80C\\x0e\\xf7\\xe0\\x1dp\\xdf\\xc4\\x02H)!Q\\x9b2p2\\xbd\\x8e\\x03\\xd9\\x96\\xad,vu9v=\\xc3\\x89]U\\xe6\\xe7\\x06A,r\\x19\\xd5\\x8a\\x1d\\xc0\\x13\\xe5\\x87G\\x8e\\xbd\\x9e\\xeb\\xba\\xf2\\xf7*\\xbf\\x86\\x05\\x87%\\xfb\\xa7\\xf8\\x1d\\x8a\\x83J\\xf6\\xc7L-\\xd1\\xe3\\xe95\\x86Z\\x84\\x08 E3Yl(\\x07v\\x90\\xb7\\xdd\\xb9\\xb5\\xa1f\\x9a\\xdb\\x01\\x0e\\x08|\\x97\\x19f\\xb9\\xf0\\x19\\xfa\\xdeY\\x808\\x17pO\\x84\\xd0\\'\\xa6L\\xb7!\\x97}\\xdeA\\x88\\xf16\\x96\\xe0p[\\x8d\\x177H\\xd6c_OPUfMQ\\x149\\xc9\\xca\\xa6rCDy\\xaa\\xcdk\\xe4\\xb7Wc\\x12\\x88H\\xa6\\xb5H\\x8c\\xcc\\x8b\\xc9l\\'\\xd7\\x1byw\\x9f\\xb3\\xcd\\xdcx8JO\\xef^\\x82\\xb2\\x81m\\xd4\\xe8\\xb2\\xa6\\x00\\xd3\\xcei\\x94\\xa59\\x0b\\x0b\\xad:5t\\xbfQ\\x0c\\xbf\\xd3\\xef\\x87:\\xb3\\xd3DI\\x9a<;m\\x14O{\\xbeM\\xf0i\\x85{s\\xac\\x96\\xa6\\xdd\\xb2\\xfc\\x86\\x03\\xb5x~U\\x007T\\x14Y\\xc9\\xa0\\x93\\xe6 b^\\x14\\xe4\\x9e\\x8c@\\x82C\\xc7Up\\xa7\\xd0\\x84\\xf8\\xbb\\xaf\\x15Kt\\xe0\\x19\\xc4Y\\xc0lL\\x8e\\xe7\\x95~\\xafS\\x0c\\xc3a\"-G,-1\\xe1\\x87\\xed}\\x16\\xf2\\x11\\xf4\\\\\\x88\\x88\\xe5`\\x8a\\r\\x05\\x87~\\xe4e\\x19\\xc9\\x82\\x0e7\\x8a\\x9d\\xfd\\x9c\\xa3\\xc1\\xf6\\xe2w\\x1a\\x8bmT\\xb41o\\x05\\xeae\\xc5\\xb9\\xb9LO\\x19\\xd7\\xb0\\x1e\\xdaC\\x03K\\xe8\\xf1\\x15r,\\xc7\\x1a\\xae\\x123I,\\xab2\\xcd\\xdc\\x03\\x9a*g\\x99JR\\xcb\\xe1\\x85\\xba_\\xb5g\\xf7\\xb3c@\\x11\\x99F\\x0c\\x18\\x85\\xd4\\x08A\\xdaw\\x90\\xfa\\xb5f\\xeb\\xfc\\\\3z\\xee;\\xbf[\\xff\\xdc\\x1c\\xd2\\x03\\xa0\\x08 \\xfba\\x86\\xc0\\xf6\\x8e\\xb5%.\\x97k\\x9f\\xba\\x1a\\xa28\\x08\\xa3\\xc0,b\\xa5\\x08\\xd5P\\xb1\\x1c+\\xca\\xcb(TxMS\\xc0\\x96\\x8eO\\xc2\\xd8Y\\x07\\xa6\\xd5{G\\xb5D\\x80\\xd9\\x12\\xe6_\\xeb\\xfb\\xc7\\x9fobF\\xc7\\xce7\\x01\\xe1a\\x04\\x8fw\\xed-\\xd1A\\xa6\\xe7\\xc4.\\x0c\\x03$^\\x99\\xc9\\xa9\\x17\\xa5E\\x99h\\xd0F\\x96\\x96\\xd2\\xca\\xe3k\\x1e\\xf0\\x85\\x0c\\xb0\\x17\\xe5#D\\xcf1*\\x999\\xe3\\xac\\x10\\xee5\\x9ew\\xca\\xf6\\x04\\x82a\\xc4\\xb7c\\xa6\\x96p>\\xf6\\xcd\\xf6\\r\\xc3)\\xcc\"gnWi\\xb9\\x13\\x02?iTl\\xab \\x8e\\xf8\\x98\\x9f\\x01\\xd7\\x19f\\'\\xe1i\\xc3E>\\x8d\\xd9\\xf1\\xde\\xfe\\xc9~\\xf2\\x9b\\xef\\x17?\\xd7\\xd7\\xebG\\xf6c\\xdf\\xb1\\xd4\\xf8\\xe9n\\xb8\\xcb\\xb8g\\xfe\\xdfjH\\x0c\\x82\\xf1C\\xa3K\\x14J\\x9a\\xb0\\xf6\\x90lf\\x9aQ\\xfb\\xb8\\xd2\\xab\\xc6\\xd1c\\x84\\x0cYV\\x90#W]\\x89v>\\xdf\\xa6D\\x12\\xa7i*\\x8d\\xbbz\\x16\\xc8\\\\w\\x9b\\xec\\xa7\\xb9Z\\xff\\xf9\\xb0\\xde\\xf5\\xe7\\xdc\\xec#\\x0f\\xeb-\\xeb\\xb5\\xb3\\x04[ W\\xaa\\x12\\x15\\xa0Q#_W#\\xc5\\xb4Q\\r=\\x18@\\x83\\xe8\\x9e\\t\\xf8\\xc9v\\xcc\\x05x\\xb6\\xc0\\xd3$\\xf1\\xcfO\\xbb\\xc5\\xd9D\\xf5_Z\\x9c\\x7f\\xb3\\xea{\\x8e>00\\xb5;fj\\x89<\\x81\\x05-\\x99\\xac\\xca2\\x94\\xe3\\x026q\\x94\\xe0\\xd2r\\x13\\xd9\\xf5t\\xcf\\xaf\\x9a\\xb0[>\\xe6\\x12r\\xccVr\\xaa\\x1a\\xfb\\xa8|\\\\\\x9c5\\xf8|^\\xf1\\xa7\\x80q{{\\x7f\\xb1\\xbd\\xfbq\\xfb[\\x86\\xf3\\xa5%pP\\x91\\xab\\xdf\\xd0\\x12W4j\\x9eCO\\xf7e,G\\x91\\x9c\\x86T\\x95c\"\\x17V\\\\\\x96\\x15*0?\\'\\xa6\\r\\xbc\\xb8M\\x12\\xaeDz\\x86B\\x8a8\\xab\\xc6\\xce\\xfez\\x1fh\\xa7>\\xd5\\xbc\\xf0\\xb0!1]#K\\x88p*q\\x03<\\x95b+Vr#E\\x96\\xae\\x10\\x95xJ\\\\EnYh\\xbc\\xa7\\xb5\\r\\xfb\\x1c`\\x88\\xbc\\xccB\\xf8\\\\\\xc0\\xe0\\xe9\\x8c\\x9d\\x81\\x80ue\\xf3\\xd9\\x87\\x86\\x03\\x03\\xcc>;K(\\x94\\xd1\"\\xc5a\\x9a\\xf8E\\xee\\xa8u\\x80\\x91\\x9b\\xba\\xae]\\x9b\\xa8L\\xe5\\xc2\\x83|\\xf1\\x9f}\\xeb\\xb8\\x93\\rc\\x89N\\xed\\x06\\xfc\\xa4\\xb4\\xe0\\x1d\\xd8\\x8eQBDH\\xc4Ag\\xda\\xe2\\xf9[M\\xec\\xaa\\xc8|\\xd7\\x8edS!q\\x11\\xbaT)\\xd5\\x90\\xeaY\\xa3\\x81\\x8a\\xf2\\x1b\"\\x04Bg\\xae\\x08\\xc5\\xe7Q\\xb4\\x9aK\\x9d\\xf8p\\x8d\\x9fU<\\xf6r\\xb7V3\\xe3t\\xa8\\x9e\\xcd,\\x91\\xb7\\x85*D\\x15\\xd6]\\x1b\\xfbrZ\\xfa\\xec\\xb5\\xef\\x99a\\x1c\\x00\\xc3\\xacj\\x9d\\xef\\x11\\x84\\xecCp\\x1b\"\\x0b\\x83W\\x93\\x94nGv\\x97\\xcd&\\xfb}\\xf4\\x1a\\x14\\x0f\\x1dL\\xb7\\xfc\\xed\\xa7\\xafh6I\\x13UQc\\x8f\\xed}e({\\x8aZ\\x85\\x8e\\x86\\x0c\\xa74\\r\\xc0o\\x80\\xec\\x87\\xe7B{\\x91\\x08\\xd29\\x9a\\x00O\\x0f4\\x86\\xc1\\xf4T\\xb8\\xdf\\xafhI`Pl\\xd8gf\\x89\\x82\\xb2\\xea\\x93F\\xf1\\x03\\x00t\\x93@\\x9cP;\\x8e\\xab<P3+\\xae\\xc24\\xeaD\\x86\\x14\\xf2\\x1ba+\\xb8q\\x86\\x13K8\\xbdk\\xf3}\\xc0\\xf8\\xab\\x9a\\xf6\\xbc\\x12\\xe80\\xee\\x0eob\\x89\\xd1!\\x91\\xa2\\x19E\\x13\\x04\\xc0\\x83N\\xd8N\\x0cAyV\\x87\\x96\\x11\\xa4\\xbam\\xa5\\xbcg\\xc1\\x0e\\xef\\x94\\xfd\\xac+\\x11\\x9f\\xe3\\xc8\\x9aM\\xd1\\xe3u\\x99o\\xef\\xf70\\x1a*\\xbc\\xf8\\xf6\\xe6%\\xf6=\\xdb0|P+u]\\x15\\x9aZ\\xcau\\r\\xad0\\t\\x13Y\\xc9MC\\xe9c}p5\\xfd\\x96\\x15\\x8c\\xcfP\\xd2\\x10\\xf0\\xcc\\xf1\\x04?\\x93B@\\xe20-\\xe8\\x83\\xf7/\\xc1\\xf6\\x88\\xd4H\\x03\\xc4m\\x88\\xef\\xbb\\xb2o\\xaa:\\xf0\\xa8\\x9f\\x1byR\\x19\\xaa\\x07zf9\\xf2\\x03\\xdd\\xdbIVS#\\x88Q\\xf2\\xcfsE\\x10w,Jc\\xe9\\xcfEg\\x10\\xfb\\xfep\\x03iX\\x1a|\\xd4\\xd6\\x12\\xda\\x02NE\\r=\\xb7\\n\\xafN]HC\\x8aT\\xb5\\x82T%Q\\xe1W$\\xe6\\xc5\\x16\\xdbi\\x94<t\"\\xa4g\\xd0\\xc4\\x11\\xa5\\xb9\\xa2\\x8a\\xbb\\xf5\\xfd\\xfd\\xdf\\xb7\\xbb\\xab\\x17v\\xe8\\xa1\\xcc\\n^\\r\\xdb\\x02\\xbbF\\x96\\xc8\\x81\\xcdF\\x0b\\xe3\\xcc4\\x1a\\xd5P\\x1c\\x03\\xe9Z\\x10\\xe2\\x02 #M\\xed\\xc8\\x80\\x9d\\xc9/]5\\x8f\\xb6wv\\xda8\\xb2q\\x1c\\x90\\xd9\\xc4\\xfa~\\xaf\\xf33\\x1f\\xa0;\\xf5E\\x1c&\\xba\\xd2kg\\t}\\xe7(\\xf2\\x1b\\xcdE0\\xd2i\\xa1\\xd3\\xca\\x03E\\x14\\x06AEq\\x96\\xc0\\x9atX\\x05\\x92\\xd8\\x11V\\xa7T8Ch\\x81\\xe8\\x9c\\x97bw\\x9b_\\xdf\\x1e\\xd9O{\\xb3\\xa7\\xd0v\\xa8\\x8a\\tW\\xc3\\x98\\xf7G,-\\x11x\\x84f\\x1dYF\\xea\\x84\\x85]\\xb8\\x9a\\x1c\\x83\\xd2Oq&{\\xd8\\x88\\xcc\\xd2\\xe8\\x94\\xe4\\xbb\\xd3\\xffD\\xc4\\xb2\\xb03hc\\xc2\\xd5\\\\\\xf7_w\\xec\\xf3mY\\xd4}\\xf3\\xac\\x8cxT\\xedM\\xa0`PI\\xe3]{K`\\x08\\x91Z\\x87\\xc85<_O\\xf3\\x08\\xea\\xa4\\xa8\\xea\\xd8PU\\xd8\\x90\\xc0\\xa4|\\xf0\\xd8\\x9d\\xe2#\\xad0\\xf3\\x8a\\xcf?\\xde\\xe0l\\xc5\\xa8\\xbb\\xcd\\xae%\\xe1\\xaco\\x0e\\x86It=\\xb0\\xbd\\xca\\x19\\xd4T\\xf6\\xbe\\xc1%\\x18!4\\xaah]!=G\\xbe\\x0fP\\xa0\\xd1\"Bu\\x16R\\xd7(h\\xdaCV\\xc5\\xbcb\\x0b\\x84\\x94\\x9e\\xe1n\\x0c\\x9d>]d\\x18\\x88\\xfb3j\\xdf\\xe6\\xd6\\xee~=\\xee\\xf6G\\x17#\\xb6\\x87\\x0f;\\x0c\\x87[_\\x00^\\xe0@\\xcf\\xaf\\xb0G2\\xc5\\xb7(\\x94m\\x15\\x15F\\xa1\\xf9al\\x99\\x06\\xc8\\xf8\\xf4\\x9b\\x85\\xa0\\x1d\\xc9hH\\xa53t\\xa5\\tp.9\\xd47\\x00^\\xaeS\\x8e\\xcc\\x8fyj\\xccX\\x89\\x03\\x0f\\xca\\x0fl.QI\\xc1N\\x80\\x0c\\x1a\\xc7nUV \\xc8\\xcc\\xcc\\xd3\\xf4\\xa2J\\x928\\x8b\\rC\\xe1\\xc5]`\\xe7\\x92\\x86\\x05@\\x0c\\xca3d\\x82\\xf3\\xa9\\xbb\\xbc\\xad{\\xefe\\xa8(`4\\x889\\xd9kg\\x01\\xcc\\xb0\\x92U^]\\xd5\\xbe\\xdd\\xc4r\\x03\\xb0\\xac\\x84T\\xad\\xa1\\xe18\\xb1\\xa6\\x87igw\\x85<\\xefU\\xc2T\\x9c8\\x92\\xf5\\xb3$\\x02\\xdf\\x8dP\\x0f\\x96\\xbb\\xcf\\xf3\\x04\"\\x9cx@.~+\\x8ai\\x98\\xd5\\xae\\x1b`\\xad\\xf2\\x91\\x17j\\xa6\\x93X\\x89\\xc32BS\\xce\\x02\\xe6v\\x1d\\x87\\xe3/\\xb3W\\x00\\xe1i\\r\\xa2#\\xfd\\xedt\\t\\xf0c\\xc0\\x1d\\xed\\x07`\\xe17\\x1c6T\\xf73:\\x01P\\x14\\x95v\\x8e\\x9d\\x8a\\xea\\x8d\\x8f-\\xbd\\x8a\\xe2\\xb0\\xa62\\xf1\\xf4Z1\\xc2T\\xe5\\xfdL\\x10\\xf9\\xb1\\x16\\x02&\\xd2\\xb4(f\\x14\\x9b\\x0e\\xcd\\xda\\x08\\xd02\\xf8\\xdb\\xf2H\\xcfe\\x9b\\x80\\x84a\\x9c\\x83\\x8e\\x8d%T\\xbe\\xe30\\xf7\\xe3Z\\xc9d\\x0b\\x07\\xaeZ\\x98v\\\\\\xe9\\xc8\\xb5\\xab\\xa0\\xb2`\\xe9v'"
      ]
     },
     "execution_count": 178,
     "metadata": {},
     "output_type": "execute_result"
    }
   ],
   "source": [
    "chunk"
   ]
  },
  {
   "cell_type": "code",
   "execution_count": 179,
   "metadata": {},
   "outputs": [
    {
     "data": {
      "text/plain": [
       "b''"
      ]
     },
     "execution_count": 179,
     "metadata": {},
     "output_type": "execute_result"
    }
   ],
   "source": [
    "o.decompress(chunk)"
   ]
  },
  {
   "cell_type": "code",
   "execution_count": 180,
   "metadata": {},
   "outputs": [
    {
     "data": {
      "text/plain": [
       "b''"
      ]
     },
     "execution_count": 180,
     "metadata": {},
     "output_type": "execute_result"
    }
   ],
   "source": [
    "o.flush()"
   ]
  },
  {
   "cell_type": "code",
   "execution_count": 183,
   "metadata": {},
   "outputs": [
    {
     "data": {
      "text/plain": [
       "b'\\x1f\\x8b\\x08\\x00\\x00\\x00\\x00\\x00\\x00\\x03\\xdc\\xbdYs\\x1bI\\xb25\\xf8>\\xbf\\xe2Z\\xbf]\\x9b\\xa2\\x94\\x19k\\xe2{\\xcb}\\xdf\\xf7|\\xf9\\x0c\"Q\\x12J\\x14I\\x03\\xc9\\xae\\xae;6\\xf3\\xdb\\'\\x92\\x8b\\x08D&\\xc8D.\\xc4\\xd8tY\\xab\\n\\x92\\xe0I\\xc4\\x81G\\xb8{\\x1c?.\\n\\xc2\\x1f\"\\xc6\\x7f\\xac\\xf0\\x1f\"\\x82\\xff\\xfd\\xf5a\\xfd\\xfd\\xeb\\xb7\\xf5\\xcd\\xd5zwq\\xb5\\xb9\\xbb\\xbd\\xdf>\\\\\\xfc\\xf5x\\xb5\\xbd\\xd8\\xfe\\\\\\xdf\\xfc\\x17\\x10\\xc4\\x95(\\x02 b$B\\xf2_\\xff\\xd7\\xbf\\x1ew\\xd7\\xff\\xfa_\\xff\\xf5\\xaf\\x1f\\x0f\\x0fw\\xff\\xeb\\xebWf\\xe0\\xcb\\n\\x7fa\\xe6\\xbe\\x88\\x82\\xf0\\xae\\xa9\\xaf\\xff\\xfa\\xe3\\xbf\\xfe\\xf5k\\xfbk\\xd3\\xbe\\xfda\\xf3\\x9f\\x87\\xaf?\\x1e~]\\xbf\\xfe&\\xfb\\xfb\\x0f\\x9b\\xcb\\x87\\xcdU\\xe7O\\xef\\x1f\\xd6\\x0f\\x8f\\xf7\\xedo\\x03Ah\\x7f\\xe3j\\xfb}s\\xff\\xd0\\xfe\\x06\\xad0R3]\\xb5d#\\xd4\\xe5Tu-\\xc5\\x8eK\\xdf*UT\\xc4a\\x92\\xb6\\x7f\\xfbzs\\xf3\\xfd\\xe1G\\xfb\\xb7E\\x91`\\xdc\\xfe\\xd6\\xed\\x9f\\x7f\\xdeo\\x9e\\x0c`L\\x10\\x12\\xdb\\xdf\\xfbs\\xcb\\xfe\\xe2\\xfa\\xf9\\x87\\xbb\\xdc\\xad\\xff\\xbe\\xbe\\xb8Z?\\xac\\xbf\\xaa\\xea\\x85/\\xdb\\xc1E\\xbb\\x0c\\x17\\x88~\\xbd\\xdf|\\xff\\xb5\\xb9y\\xb8\\xff*b\\n\\xd1\\x8a\\x10\\xcaV\\x05~\\xa1\\xab\\xaf\\x7f\\xafw\\x97\\x07\\x7f\\xfdi\\xd5\\x10\\xc4\\x88\\xbe\\xbd\\xa4\\xa0})\\x08\\xec\\x0f\\xbe\\xb4o\\xf8\\xf2\\xfd\\x7f\\xda\\x87_\\xfeX\\xef^~\\xa2<3.\\xa4\\xa7\\x9f{}\\xf3\\xfdq\\xcd>i\\xfb\\xbb\\xdb\\x9b\\xab\\x7f\\xfd\\xdf\\xff\\x87x\\x1c\\xb8\\xdb\\x9b\\xeb\\xed\\xcd\\xe6\\xe2\\xeez\\xfd\\x8fH\\x80\\xf4\\n\\x9b(\\x10DDp\\x02l\\x9c\\xa1\\x05@\\xcb\\xdd\\xca\\xcem\\xd9\\x82y\\xe2\\x86\\xaa\\xe3dZc\\xcbq\\x966E\\xe3\\x96N.s\\xa0A\\x0c\\xe8!hDB\"&\\x93@\\x13(\\x14\\xbfHR/h\\xa2\\x80\\x05\\x8c\\xe0\\xdbK\\x8a\\xda\\x97\\x82\\x80\\xa1t*h\\x7f\\xb0\\xcf\\xf1\\x01p\\xf7\\xdf)\\xa5\\x17\\xeb\\x1d\\xfb \\xdf6\\x0f\\x17\\xff0\\x0b\\x17\\xeb\\xfb\\xeb\\xedo\\xcf\\x03b\\xfb\\xeb)\\x10\\x1e3\\xb9\\x00\\x98\\xb5\\x8b=\\x05\\xe9f)c7N<L` \\xfb\\xc0wm\\xcb\\xf7\\xe3*\\xd390\\x01\\x15\\xa5C0E\\x06\\xa5\\xb4\\xc2\\xd3\\\\\\x10#\\xe9\\xcb\\xaa\\x1fM \\xae\\x90$\\x80\\xdf/\\x01\\x80\\xedKA\\x10\\xe0\\xcc.\\xb8\\xdb\\xdc\\xff\\xda^\\xdc}\\xbf\\xb8\\xbf\\xfd\\xf3\\xe1\\xc5\\x8f\\xde\\xfc\\x10\\x8b\\x92 \\x9d\\x00b\\x9f\\xb5\\x05\\xf0SUZ\\x05\\x86gY\\xb4\\xb2*J\\xb48N)\\xb6\\x15%\\xd0\\\\\\xbb\\x08<\\xc4\\xef\\xa0\\xcc\\t8g$+\\xbc\\x12>\\xdf\\x19!\"\\xf3:\\xe3\\xcf\\x8b\\xc7\\x9b\\x87\\xc7\\x9f\\xef\\x1e\\x81\\x18\\n\\xc2@\\x0c\\x8f\\x9a[\\x00\\xc4\\xd4\\xb1\\xca0\\rs\\xb7\\xb0SO\\xa78\\xf7\\x10\\xf1\\x00P\\\\\\xac\\x1b&T\\xb5\\xee1\\xb8:\\x04q%H\\xe2D\\x10G\\x1d\\x83\\xc2\\n\\xcc\\xe5\\x83\\x9b\\xdd\\xaf\\xf5\\xf6\\xe6\\xe2;\\xfb\\xd9_6\\xc0\\x17\\xdc\\x98\\xdf\\x89\\xec\\x81\\xabA\\xb8u\\xad,\\xe1snL\\x88\\x1b\\x07\\xb2n\\xd9Z\\xe4\\x07\\xa5A\\xd2\\xc8HJ\\xbb\\xa9s\\xdb\\x876\\x7f\\x00\\x82\\x15\\x7f\\x00b\\xf6\\x03O\\xda2\\xc9\\n\\x01\\xf0eE\\xfa\\xe0b\\x0b&\\x00\\xf6\\xef\\xb7\\x97Ph_\\n\\x02\\xc2\\'\\xfb\\xdcp\\xb8.\\xd8\\xbe\\xb7\\xbb\\xdd^\\xbd\\x9d{\\x02^a8\\x12\\xb6Wk\\x0b\\xc0W)\\xa9\\xad!\\x99\\xe8\\x8e\\xa1\\x16N\\x9e\\xf9F\\x1e\\xa5\\x86\\xe1\\x90\\x10\\xd6\\xbeF\\x01\\x0f\\x9f\\x08\\xb8\\xa0\\x13\\xb0\\xe5\\x15$\\xe9\\xf3\\x8f<\\x88g\\r`no\\x1e\\xef/.\\xd7\\xf7?.\\xbe\\xad/\\x7f\\xbe\\xedp\\xfc\\xd9\\'B\\x81\\x02q\\x10\\x90\\x1f\\x98\\\\\\x00\\xcd\\xb2\\xf2\\xeb\\x84ZuP\\xa0\\x06[Ib\\x99zX%\\x96\\x938\\xa5\\xe2S9\\xe2\\xf7N q\\xce(\\n+H\\x08\\x9av\\x02J@\\xfc\\x82q\\xff\\t\\xc8\\xbe?XX\\xbd\\xbd\\xc4\\xb0}\\xc9|\\x14\\x9f\\x1c\\xc0\\x0cB\\xf3i\\xe5\\xd7?\\x1fo\\xbaG\\xa0(\"\\xf6\\xdeaY\\xe0{\\xf6\\x16\\xc0\\xb10 \\xae\\x0cl6fJU\\x93\\x10\\x96\\x14\\x1a\\xba\\xd1\\xe8!\\x08\\n\\xec\\x96\\xbcW\\x8a`\\xc5\\x052+\\x16i \\xf0\\xf90B\\x16\\xfc\\xcc\\xb4\\xa9\\x1e.\\xf9\\xd3n\\xd8\\x03!\\x84\\x02\\x1e\\x03\\xe1\\xa1\\xbd\\x05 \\x94\\xf5(\\x80\\x8eJ\\xd2\\xd83u\\xd7\\x8a]KuU\\xd9H|\\xdd\\xb3\\x0b\\x15e<\\x84P\\x10\\xb9l\\x9e\\xb2`qZ6?\\nB\\x11,\\xe8\\x89\\xcc\\xd8v\\xdd\\xeb\\x8b\\xb0M\\xeeG\\x00\\xc9[\\\\\"-\\xf4\\xe3 \\x89\\x95\\xa2t\\x89K\\x1a\\x92\\xd2\\xd0sQ\\x12VuZ\\x96\\xa1f5\\x1fB\\x89\\x18\\x1e\\xf8\\x1c\\xde\\x08\\x16\\xf2\\xc6\\xbe\\xbd\\x14\\x10\\x91\\x8e\\xc0oI\\xe0@\\x1e\\xd4\\x86Y\\xe9\\xb9\\xcf`\\xb2L#\\xa0\\xba\\x1e\\xbb\\x1e\\x95\\rJ\\x02\\xcf\\xf0>\\xdcFE\\x01\\xc0\\x95x\\x06\\xe4\\x84\\xc5\\x91\\xbbX\\x89\\xd2\\xcf\\xed\\xfd\\xfdA`#\\xe2)\\x08\\xbe\\x9a\\\\\\x02ILQ\\x01C\\xa3*\\x89c\\xebe\\xe0\\x07\\xd03\\n/&\\x05*-/\\xec\\x066\\x1d$Y\\xb6/Q\\xf8\\xf9H\"8[\\x9aql\\xd9\\xb9\\\\\\x83\\xf9\";\\x14\\xa7!\\xb9\\\\\\xc2\\xe1(n\\x84]\\xd8Vi*K\\x87\\xbecC\\x1b\\x17\\x19A\\xb6ZU\\x9a_v\\x91\\x14y$! \\xe8\\x0c!*d\\x0b\\xb70\\x92\\xcf\\x87\\xd9\\x9eK\\x02I<1\\xd7\\xe8\\xb5\\xb8\\x00\\x8ea\\xe1{ET\\x04\\x81\\x97dZ\\xe8\\x1a(\\xd1\\xb5\\xdc\\xf7s\\xc51\"\\xb3\\x82\\xa4\\x8b#\\xe0pd\\t8\\x14\\xa6%\\x8e\\xe3p$ti\\x1c\\xb7\\xb7\\xfb\\xfb*\\\\\\xe1a\\xc5\\xd2w\\xcc-\\x80 D\\xd0Uh`e\\x95mc7\\xf0\\xf5H\\xf7d\\x82L/\\xf5\\xbd\\\\\\x0b\\xdc.\\x82\\x9d\\xd4\\x1fJ\\x924\\xad\\xda=\\x0eA\\xb4\\xf8\\xe9\\xf8\\xd7\\xed\\xcf\\xcdN\\x04\\xf0 @\\x85\\xc3..>\\xb2\\xb9D\\xe2ObE\\x0e\\xc2\\xa6\\x04\\x96\\x8d\\xf5X)Q\\x94\\xc2,\\xd0\\xcd@\\x0b\\x8b\\x10u*\\xdf`\\xc5\\xdd\\\\P\\x04\\xe89\\xf2~QX-\\re\\xb7\\x80C\\xc0\\xb0\\xc2\\xf7\\xfb\\x16\\x978\\x1c\\x91V\\xc0\\x98\\xfa)\\n0\\xb1K\\xe0\\x96> V\\xe0k\\x16\\xf4\\xaa\\xe8\\xf9\\xbe\\xf7\\x10F\\x81\\x83\\x91\\xe2\\xd5\\xb4b\\xea\\xd8\\xa4qq\\x8f<\\xa8\\x83\\xbf\\x84\\xab\\x13a\\\\\\xaa&\\x9e\\xe00\\xc0\\x1aMRlj\\x95\\x03\\x01\\x8a\\x01N\\x1db\\x94\\x01\\x89\\xfc\\xc8\\xec\\xf1F.\\xc6Y\\x11\\xb0\\xa2\\xab3\\xa4\\x1dHX\\x1a\\xc6\\xce\\xa5>\\x0br\\xd8\\xe3\\'\\x01\\xb9\\xe4\\xfd~\\xdc\\xd0T\\xd1m\\xad,\\x03\\x85\\x98\\x81\\xde$Nic\\xaa\\xa1\\x1a\\xa2\\xc6\\xe8I<\\x08\\xef\\x91\\x14O$e\\x8c\\xcb;\\xc0\\xe2\\x1b\\xeb\\xfd\\xe5\\x8e\\x9d\\xff\\xfb\\x81\\x0e\\xc0\\xd3N\\xc8g\\x8b\\x0b\\xc0\\xd8@\\x0f\\xe5\\x86\\xde\\x94\\xa9\\xe5!9K\\x95\\\\n\\x940\\xcdP\\x19\\x07\\x81\\xe2\\xd2\\x0fc\\x1d\\taA\\x9cH\\xd3\\x18U\\x17?\\xfdfx\\x18\\x8cw\\xcf\\xd7Ll\\xd1\\x7f\\xado.\\xb77\\xdf\\xf9z\\x8e0\\xae6\\xdeow\\x89{\\xe2\\xc2\\xd3L\\x0b\\xc3\\xd8)Q\\\\`\\xd3\\xd5*\\x99\\xf9gNb\\xa2\\xdb\\x95\\xce\\x935\\xd8y\\xc1\\x9d\\x95\\x18!J\\xce\\xe0\\x99P\\x9a\\x8d\\xabq\\xb8\\xf4\\x0f\\x9b\\xdd\\xb7\\xf5\\xb6\\xb7:\\x07E\\x0c\\xc6\\xe4 \\x1d\\x93Kl\\xb1ZX\\xf9\\xb9mR7\\xafPc\\xd2\\xaa&ve\\x1b:!F\\xac\\xdbaOy\\x95\\xf3MBZ.\\xc5\\x19\\xb6X2/\\x90\\xef\\x915\\x04\\x08O\\xc0\\xef3x\\x1aZ\\xec6\\x8d\\xef\\xab\\xa6\\x8f\\x9c\\x84\\x1d\\x91\\x01\\x8bn\\xb4\\xd2QUb\\x85Hw:\\xb0\\x11\\xcc\\x17r0\\x10(\\xa4\\x93p\\x1bG\\xd4\\x10\\xe0\\xac\\xb8\\xbd\\\\A\\xbcW\\x1d\\x87\\x08 4\\x1c\\xbf\\xa3\\x16\\x97(\\xe4T@QA\\xa2\\x12#\\xaa\\x1d\\x10P=!Uc4M\\xe0b\\x8cI7\\xc2\\xe9\\xdcn\\xac\\xb0\\xb4\\xa2g\\xa8\\xe3 8o\\x84s\\xbc\\x0c\\x87 \\x10N\\x08l>\\xa1\\xfa\\x86Bh\\x03\\xcb\\xa5\\x89\\xae@\\xcdR\\x12\\xb9\\xcd\\x18\\x0b\\xaf0\\xe4\\xc8\\xf1\\xdc\\xa8\\'\\x9e\\xe1Y7\\x04Br\\x86D\\x11I\\xf3f\\x18ok\\xfdtT\\xed\\x1e\\x0f\\xf2\\xfc\\x81\\x8c\\x9b~K\\x0b\\xc0\\xe6j\\xc8\\x8aMP\\x91\\x04\\xaa\\x8d\\xa1\\xc7\\x81\\x97*\\xa6\\xe2W,jq-\\xbd\\xf1?,\\xd3`\\x96LN%(\\x8e\\x8aYV\\'\\x93m\\x8e\\xc0v\\xb9\\xde\\xad/^9N\\xf7\\xd7\\xb7\\xaftP.\\x9bhwo<\\x8c\\x9f\\xf8\\x81\\xc5%\\xbc\\xaf\\xc1MJ\\x80\\xeb\\x99\\xa4\\x01\\xaa\\x85\\x8d\\x18X\\xb5\\xec\\x16\\xa5\\xadx\\xb9\\x95\\xf0\\xf7\\x8al\\xc5\\x11\\x97\\x14\\xe2\\x15<\\x0bMx6\\x8a\\xe2\\xf3\\xa2?\\xae\\x1f^\\xc80\\xb7\\x97\\x87\\xf5R\\xc0vLv\\xe6\\r\\xc7\\xafkj\\x01\\xe0p\\xa5\\x07\\x99l#\\xe0g\\r\\x02$\\xaa]\\xcb\\x06J\\xe1R\\xea6~\\x11w.\\x84\\x11\\xdfb\\xc1\\xe2\\r\\xc2\\xc2\\x96\\xcfG\\x0e\\x81\\xb9b\\x96\\xa7\\xe5~\\r\\x10\\x9fV\\xfca\\xf3\\xeb\\xdb\\xfa\\'\\x1fq\\xb6\\xcf\\x1e\\x0c\\xdf1{\\x0b`\\x18YJ\\x05\\xa3\\x9c\\x86J\\x9caU\\xf3\\x0b\\xd3\\x0f,\\x1b\\xf9\\xa1e\\xdbaew\\x8ak\\x04\\xf3G\\x9f \\t\\x13\\xef\\x9dF\\xf2\\x83\\xe7\\xbaw:X\\xf2\\xedU?\\xbb[B\\xa7\\xc3\\xb7ok\\x91\\x0e\\'({\\xa00RW+\\xfd2\\xa0e\\x80=\\x95\\xd8\\xb6\\x19$\\x91l\\x98=\\xd4n\\x9e\\x9e\\x08\\x89$LL\\xf5Fa\\x07g\\xab\\xa6\\x1d\\xacw\\x0fp\\x08K\\xc32\\xf5~CK\\xd4\\xcel\\x14\\x94*N\\xf2(\\xa2\\xbe\\x0b\\xa9-\\xe7\\xbe\\x8dd\\x94\\x12\\xcfu#=\\xe8\\xa0\\x86\\xb8\\x12(\\x06lU\\xa7\\x91hF\\x81\\x86f##>\\xad\\xf5\\xaf\\xcd5\\xdb\\xde\\xda\\x00\\xf1\\xdd\\xc6B\\xe1\\x84S\\xef\\x1d\\x93KP\\x12m\\xacFq\\xed\\x06\\x85\\xef$\\xd0qm\\x97\\xc24\\xce<\\x1b\\x18^\\xec(\\x1dJ\"!\\xfc%!\\x11X\\xdep\\x06\\xef#\\'\\x1f~\\xefP\\x12_V\\xfe\\xe6j}\\xb7~h\\xd7~\\x00\\xb9\\xad\\xe5\\xef\\x9d\\x80\\xea\\xc7\\xb6\\x17\\x80\\xd7\\xa2A\\xe5 \\x82\\xeb\\xd2O\\x9dJ\\xcbA\\xe1\\xd6qU\\xfb\\xd0+U[\\xab\\x9cnr\\xc15\\xceH\\x80\\xbc\\x14I?\\xf9\\xd6\\x89\\x9e\\x9c\\x13\\x0e\\x80\\xf7\\xfb\\xf6~{q\\xbf\\xbe\\xbe\\xba\\xfd\\x9d\\x1c\\xf4\\xf9+\\xdb\\x9b\\x86o\\xb7\\x1f\\x98]\\xe2\\xc8\\xac\\xe3\\x08\\x82\\xc0\\xc4\\xa1m\\x00\\x8b:\\x18\\xa4\\xa1R\\xe2\\xc2\\x8e\\x0c\\xcd\\xcbL\\xb5\\xeb\\xb3\\\\u\\x86R\\x00\\xce\\xd1\\x14<\\xa2\\xbd\\xe64P\\xfb\\xceND\\x85\\xe1A\\xcf\\x11sK\\xb034=\\xf53\\x1c\\x93(\\x92\\x1d\\xafL\\xedT\\xa7\\x96OB7\\xf0e\\x13\\xbb\\x1d:?[s\\x0eD\\xd8\\x96\\xb8\\xcf\\x01\\xe2|\\'\\xe8{\\xc5Q84V\\xfd\\x84mT\\x05E^\\xabE\\xe0\\x94\\x9e\\xaf\\xd7\\xd0v\\xc2(I\\xcaX\\xa5\\xa8\\x91\\x81Z\\xd4\\xddm\\x94#\\xb6IH<\\x0b\\x95\\x06I\\xf3\\xa5\\x88]\\x1e\\xe1\\xf6\\xe6\\xfb\\xf7\\xf5\\x85\\x88\\xf7o\\x08\\xe1\\xb0\\xd6\\x8b\\xf7\\xcc-\\x00\\xa0\\x9f\\xaa \\xccR\\x8c=\\xd3,SC\\x0eb$\\xc3\\xc2b\\xbfF\\xaa\\xeb\\x17\\xd6\\xc7\\x00\\xae$\\x82\\xceP\\x1b\\x05\\xab\\x19\\xbdm{s\\xcb1\\x9f\\x98_C<4\\x8c\\xd9{\\xff\\x12W~\\xb2l\\x14U\\xed\\xd4\\x8a\\x15\\xd9\\x19\\xb5\\x93\\xc8\\x8d\\xea@Wb-Qj\\r\\xc5|\\x01m\\xd5)_\\xaf(\\x01g(\\xa0\\x89\\xb3qG\\x0f\\x96\\xf8\\x82\\xfd\\xbd\\xdb\\x9b\\xcd\\xfdv\\xfd\\xd6\\xe7+ a\\x04Xo\\x96\\x16\\x80\\xcd\\xab\\n\\xbb\\tb]\\xd5\\xa0\\x99\\x17jax\\xb4\\x00\\xa5b\\xe7\\x89\\x1d\\x07\\xb6\\xcc\\xd3\\xd3\\x04I\\xecd\\x82+8\\xed\\xc6o\\\\\\xaf/\\x989\\x18\\xe9]\\xf0\\x8bGN\\xed\\xe2\\tDqhD\\xf2\\x81\\xcd\\x05\\xe0\\xcc\\x92R\\xab\"3\\xa6f\\x18\\x11\\xe0\\xe5$\\xcd\\x82$\\xad\\xab\\xc0LS\\xd7I\\xf9\\x1b\\\\\\xb6\\xa7q\\x0c\\n\\x11\\xfeN\\x12?\\x17O<\\x9b\\xdc\\xc5\\xe1\\xba\\xbf*T\\xf0\\xee\\xd8*7 2L\\xf2\\xe2\\x03\\x8bK\\x84\\x97:j\\xe2\\xdc\\x95M\\'\\x95\\xed(0\\xe3&\\xad\\xe2HU\\xb2\\xb2\\x00\\xae\\xe6vX\\xa3\\x02\\x7f\\x13\\x0f0\\x14)\\x9a\\xd8\\x1c3F\\xf7\\x82\\x9d\\x84\\x8b\\xf9\\xe53)pO<\\x08\\x03:\\n\\xc1g;Kt\\xf9\\xaa\\xa0\\xa4a\\x94\\xd6\\xb6\\xe7d\\x86e+\\xc4t\\xa3&\\x8a\"H\\xab\\xd0I \\x87\\x1b\\xc4\\x90/\\x87\"\\x11\\x01x\\x06\\xf1 \\xb6\\x8d\\xcf\\x89\\xdb\\xfd\\x9b\\xbc\\x0fG\\x0fm\\xf5.\\x04\\x08\\x87U\\xd4z\\xcc,\\xd1\\x8a\\xe6\\xe7\\x1e\\xaa\\x15D\\x90\\x95\\x1a$\\x05\\xb9W\\x07\\xd4uI]\\xbb91\\xf2\\xce\\xd5\\xbbH;\\xbb&\\x86+\\xf1\\x0c\\x8a\\x17\\x82tr\\xf0\\xf2>j\\xaf\\r\\r\\xbf\\xd7}\\xef\\xf6\\xaf\\xfd\\xdf@\\xd4:f\\x96@M-\\x93\\x06\\xe9\\xb2\\xa3\\xba\\x16P\\xaa:\\x88\\x1d7E0\\xb3\\x03\\x05\\x9a\\xc8\\xee\\xa0\\xd6\\xf1\\xb5\\x15\\xc0`\\x1ah##\\xce\\xf9n\\x1e\\xeey1\\xad\\xbd8\\x05\\x8b\\x03o\\xfb:F\\x16\\x00\\xcb\\xb0\\x1b\\xd5EFV\\x95\\xa9\\x19X\\x81\\x179 \\xf1MXPR;\\xa1\\xa9\\xf24\\t\\x08xF \\xcb\\x17D2\\xa9\\x9292\\xce\\x84s\\xb1[\\xae\\xd6\\x7f>\\xacw\\x17\\xeb\\xcb\\xcb\\xdb\\xc7\\x9b\\xb7\\xfd\\xac72a\\xfb\\xe3\\xa0\\r\\xf2C\\x9bKP%\\xca$\\xc8\\x92D\\xcd\\n\\xcb\\xf5\\xfd\\x1c\\x14I\\x98\\x07\\xb2\\x19\\xc1T-m\\x1f\\x9b\\xdd3\\x8e\\xa3J`D\\xc5\\xd5D\\x96\\xee(I\\xaeY\\xef\\x1c^\\x97\\xbe\\xbd\\x1e\\x7f\\t\\t\\xf7T\\r\\x99\\x93\\x0f\\nLz\\xac,\\x00\\x19a\\xf0\\xe4\\xd4\\x89\\n\\x97\\xed\\x8f,1\\x08c\\xd2\\xc00\\xab*\\xe8\\xc6P\\xa1\\x9d\\xceN\\xa1s\\xdfG^on\\xff\\x7f\\x03\\xd9\\xab\\xab|_\\xff\\xda\\xde|\\x7f\\xdd7a{3$\\x0e\\xaa\\x81\\xbdcm\\tn\\xbc\\xa1WJ+\\x82\\x17\\x84\\xb2\\xd7d1\\xac}\\xcf\\x83\\xc0\\xaf\\x8c\\x0cUZ\\xc5g\\x04\\x00\"\\xae\\x04FWt5\\xad\\x04F( \\xc2\\x17\\xd4\\xbf\\x81\\xc2\\xb6\\xeb\\x07\\x81\\xb7\\x97Hl_\\xb2\\r\\xf4\\xf4\\xab\\xa0\\xf7\\xe1\\xeb\\x89\\'\\x019\\t\\xb2\\x05CI\\xa7.\\n\\xbbn\\x90\\x8c\\x9aLEuf\\x15\\x9a\\x9b\\x81\\xc0\\xcc\\x13\\x9a\\x00Y\\xe6\\xb5\\xd3Z5\\n\\xce\\xd3`\\xbb\\xd6\\x9f\\x7f\\xce\\xb1`e~O\\xe3\\xdc\\xe2hi\\x0c\\xb6\\xdf\\x174(\\xb8\\x1chy\\x89\\xcb\\xd82W\\x00(\\xd2X\\xc5F\\x10\\xbb$G\\xc0\\xd2\\x10\\x88\\xc3\\x04UT\\x89y\\xaa\\x0b\\xf3\\xc0\\x8e`\\x85\\xc02\\x87I9\\xf98\\x17d\\x7f\\xb0\\x00\\xb6-\\xa9\\xef\\xe1Iu\\xe9\\x9e;\\xfd\\xb0H\\x87\\xb5\\xe3\\x1e3\\xb5\\xc4\\x15B\\x99\\xa9\\x89\\xa3Z\\xb5#\\x97fAu\\xd77\\xf4@\\xad\\x90\\xe39nPQ\\xbe>\\xdd\\x9e\\x81\\\\}\\x1a#\\x11\\x9f\\xa1\\xa0\\x02\\xc9\\x9c\\xa2x/+\\xce3s[y\\x9aA\\xc9\\xc2\\xc1\\xfb\\x17\\x80\\xc9\\xc4F\\x92\\x93L\\xce#j\\xba\\xa5^b\\xc7\\xd0j\\xc5\\xb3=7\\xc7\\x9a.\\xf3\\xe2\\xcb\\x82\\xc4\\xb7K\\xb3=\\r\\xc3\\x89\\xea\\xcb\\xa3\\xb2:<\\x1b\\x9d\\xb3%\\x0e\\x1d\\x11\\xb8c\\xf9\\xea\\xe0\\x8d\\xb2ke\\x01\\xbc\\xec&\\n\\x89\\xad\\x18Y\\xac\\x98\\xa0\\xae\\x83\\x80\\xe0T\\x03^Ud,\\xc2\\xb4:\\x05/\\x16E\\xf2\\xbc\\xe9\\xd5\\n\\ng\\xe8\\x18\\xc2\\xb31\\xc9^y^\\x00\\xef\\xbe\\xf5!F\\x86*+\\xf7\\x1bZ\\xa2\\x99\\xdd\\x84z\\x13BJ\\xc2\\x00f62\\x0c`*yX\\xc9U\\xe1\\xea\\xa5F:\\x9c\\xe9\\x0ei\\x93R\\x89\\xc03p6\\x11\\x9a\\xd3\\xc7~\\xafu/[\\x9a\\xb4\\xf2@\\'\\xc3\\xb6,Q:O\\xb3J\\x03,\\xdf\\xf6\\xab\\xd4\\x03\\x91f\\xc5\\xa4v\\xac,S\\xe5X\\xabj\\xb3s\\x88\\xbdP\\xfb\\xf6SoIB\\xe7\\x00n\\xb6{\\xf0\\xdf\\xb4\\xf4\\xd7\\x92\\xc7;\\xf7;\\xad4\\xfd)\\x08\\x1e\\xb5\\xb9\\xc4M\\x81\\x9b(\\x19\\xf2\\xa9\\x16\\x85\\x95i\\xc5VhF\\x81Q[0\\xb2\\xf4J\\xa7aG\\xaa\\xa7\\x93\\x92\\x8b\\xc2\\n\\t\\xe4\\x0c9\\xb9\\x00\\xe6\\xbcy=h3\\xe8\\'\\x80\\rc\\xdf\\xf6\\x1bZ\\xe2\\x8e\\xd5b\\xce\\xe6i\\x01\\xd1\\xcc\\xc6)RY11rB\\xc3\\xce\\x03\\x8f\\x84I\\xc4\\x87(]\\xfe\\x1e\\xf3 \\x80\\xc14:\\xd1\\xb8v\\x05:\\x97\\xdc\\xd9ons[\\xe7\\xbf8h\\x12\\x12O\\xdd7\\x7f\\xdbX\\xa2\\xec\\x9c #\\x89\\x90\\xadZ\\xa1\\x82\\n\\x15YZm\\xaa\\xc8\\x94+\\x84\\x8a\\x10\\xa8|\\xad\\x92\\x05\\xf8|8\\x89(\\x02Sw\\xccQZ\\xd8\\xe2\\xdcG\\xdd\\xf3:\\xbf\\xe4\\xcb,z\\xef\\xbb\\xe2i\\xbf9\\xa7c\\xd7cs\\t\\xde\\xac\\xcb6IJ\\xbd\\x80\\x92Z\\t\\xec\\x04\\x96\\x8a\\x03\\x1c\\x94\\xe8\\x85\\x1e8\\x8e\\xd7)b\"\\xc2\\x93\\xc0(\\x86\\xd3\\xae\\x10F6z\\x9d^Z\\x19\\x02%\\xd7\\x9a\\'\\x0c\\x932\\xe3M,\\xd1]\\xe2\\xc404\\x82\"\\xd5J\\x19\\xc6 &f\\xc2\\x12\\x03\\'\\xaa\\x8b\\xb4B\\xba\\xd2\\xe9.a\\x07\\n\\x97j\\x0b\\x12\\x9aH\\xb7\\x1c\\x07\\xd4lS\\x8f\\x0eVyO\\xe3\\xaa\\xcd\\xb4\\xe90v:ob\\t\\xa0<\\x97\\x00\\xcf\\xf4\\xbc\\xda\\xad v\\xa9\\x1c\\xd8u\\xa9yN\\x92\\x01\\x9bXa\\x87\\x89\\x8e\\xf8\\xe4Mb_mx\\x86\\x1bT4\\x9b\\xc4\\xdc{}?p\\xa0x\\xee\\xa7tlA\\x839\\x126\\xd4\\x02b\\x1f4\\x99\\\\G\\x8a\\xa9\\xa4\\x85\\xec\\xeaa\\x90\\xa1n\\xca\\x86\\xf86W$B\\x8a\\xcf\\xd0#\\x89\\xc8bX\\xbd\\xaa\\x13?\\xb5\\x88\\xef\\x97H\\xc00\\xdd\\xf1\\xf7\\r.!\\xb0\\x12iP\\x89I\\x06\\xbd\\xc4\\x8d\\xcb*\\xab\\xa0\\ncE\\xc9b\\xb9\\x08\\xb2\\xb8\\xea\\xb6ku\\x1a]E*\\x9e#\\x7f\\x83\\xb3\\xe9\\xabt\\xd7|?\\x868\\x8c\\xfb\\x07\\x89\\x8f\\xbfop\\t\\xedx+\\x04v\\xe2\\x06\\xb9\\xed\\xa5A\\x8c\\x1d\\x13\\xcb^\\xce\\xce7\\xd9\\xc8\\x9a\\xb8j\\xaan\\xfc\\xcf\\xc5\\x94\\x12\\xc3\\xe0,\\xdd\\xca\\xb3\\xb5~\\x1cY\\xf3\\xfd\\x88\\x84\\x1d\\x16\\xec\\xb1\\x13\\x00\\\\(!\\x08\\x14\\xe8\\xd7v\\x1a\\x824\\x91\\xe5\\xc2\\xc8\\xe4\\xa0\\xacl\\xcb\\xc2\\xb9\\n\\x81\\x92\\'<x@\\xe8\\x8cS\\x91\\xe8\\xd4\\xab\\xf0Q\\xe8\\x89\\xa7+\\xe4\\x0eH\\xbb\\x8f\\x89q>\\x95-\\xc5AC\\xa9\\x8e\\x99Z\\x00=\\xbd\\xcee\\xbd\\xf0\\x14\\xcd\\xcc\\x8cH#\\x00\\xd0&\\x0f\\x91\\xac6fl\\x174\\xeb\\x99\\xa7\\xd9\\xe11P4\\x91\\x15;\\xb2\\xd9|.\\xb1\\x95\\xeej\\xf3\\xf2\\x9b\\xad\\xb4\\x18>\\xad\\xe2\\xfc)\\xba\\x9b&\\xd6T?2}\\xd5t\\xca,+\\x10\\xfb\\x97bC\\xa2\\x84\\x90\\xf8\\x1eL\\xba\\x87\\x1f\\xe2{\\x95\\xdbp\\xf3,\\x11\\xccr\\xfb\\xe6\\xbf\\xb7\\xeb\\x8bo\\x97\\xeb}\\xec\\xd00n\\xecQ[K\\\\\\x188A\\xceN7\\x97\\x92,\\xb6|\\x8fB5-\\xcb\\x8a\\xa5\\xe3\\xc0\\x89<9\\xeaQy\\xe8(\\xc3\\xafV+z\\x86\\x92\\x17\\x12\\x16\\xc6\\xeef\\xbb\\x7fe\\x80\\xc7\\x06\\x9e/\\xb6\\x96\\xe0~\\xa9\\x96GS#Bj\\xd1\\x94\\xb9\\x8c\\r\\'\\xc4q\\xe3\\x1a\\xaeG#\\xa2\\xdb\\x1d18\\x829\\xb7#\\xec\\xd3I\\xd3\\x94\\x8b\\xc7\\x85+`6\\xe2P\\xffr\\xef\\xb6\\x87\\xc9\\xde\\xe0k\\xd5^[K\\x90\\x89\\xf4$/r\\xb7\\x89\\xd5\\xa8(\\x83P-\\x13\\x0b\\xd0\\xcc\\x0fc\\xd7\\x96\\x1d\\x0bv\\xda\\x1e\\xbb\\xe2*\\x18H/\\x82c\\x9f|\\xbb*\\xcc^I9X\\xef\\xab5\\xfb,\\xb7\\x07\\xb7u\\xab\\x81\\x04\\x86\\xf7\\xec-1\\x8d\\xd1\\xd7h\\x9a\\xe1\\xb0\\xd6l\\xa0Zy\\x1d6\\x1ae.\\xe8;~\\x96\\xc7\\x95\\xdase\\xc7m\\x9d\\xab\\x15\\x03\\xf1,\\x10.\\xbbs\\xfeZ\\xdf\\\\m\\x0f\\\\\\x10aad\\xc6\\xb7go\\x89\\xf6q\\xe4\\xf8i\\xd9\\xd0\\xaa\\xca\\x10t\\x1c\\xabJ@\\\\Un\\x02Hh\\x86Y\\xdd\\x99o\\xd3\\xb9\\xf0\\xc1+\\x86\\xe0\\x19z\\xfd!\\x9a\\xab\\xb5\\xf5`\\xc9\\xbbB\\xe1m\\xcdE\\x18\\xa6\\xccx\\xc4\\xd2\\x12\\xda8>\\xcb\\xcf\\x15\\xb7\\x905RW>\\x00f\\x967!P\\x82\\x98\\xa5yI\\x8a\\xf2\\x0f\\x0f>$a\\x16\\t\\x9f\\x03\\xb6\\xd9\\xaf\\xe9\\xda\\xc5\\xeee9 \\x16\\xdc\\x9e^\\xe4\\\\\\x96\\xe5@dT\\x00\\x1c\\xfaV\\xed\\x17\\xb0\\x84\\xa6e\\x81$\\xf2\\x9d(l \\xd2+\\xd8Q\\xbd\\xe9\\x8c\\x8b\\x16\\xdbB\\xf19\\xe6E\\x030\\x97\\x18\\xe3\\xebr\\xffb+\\xbd\\xd9\\xf5\\x13\\xc1\\xc8i\\xdb%oj\\x89<\\xc1\\xcd\\xb5R\\xad\\x89K\\xa3@\\xcd\\xad\\xbc)\\xe5\\xdc4\\x1aY\\x8e\\xe3\\xa4@jO~\\xce\\xb9\\x1c\\xfbdpE\\xcf1\\xe9{6\\x05\\xf7\\xdf\\xcb\\xfd\\xb8[\\xff\\xe8g4\\x90a\\xc3\\xa3\\x8eXZ\\xc2\\xe3b\\xd7\\xf2\\x11T\\x1b\\xd7m\\xea\\xcav\\x15WGy\\xa1\\xea\\x85\\x1b\\xa6\\xa9ou\\xae\\xc9;\\xbc\\xa2V\\x92h\"9v\\\\z\\'\\xcd\\x1d\\xa4</\\xf6\\xb1\\xbd\\xf2\\xb4\\xdb\\xf1\\x8e\\xad%\\\\\\x8e8\\xb1\\tb\\xac\\xa6$pS\\xacR\\xd5\\x06\\x05Rl\\x08\\xb0-[y\\xf1a5\\x1aK\"\\x01gH\\xef \\x9e\\xfbJ\\xe1\\xa0\\x82\\xf9\\xac\\xd4 \\x9e\\x14\\x93,W\\xb7\\xb4\\x13\\x14\\x1b\\x81\\'\\xe7\\xb1\\xa2\\x98@q\\xcc4E\\x81\\x97\\xa8\\x8a\\x1d\\x05I\\xcf`\\x0b^\\xa6O\\x94Da5\\xad\\xea<\\xae-\\x04\\xd1\\xb9Qz\\x8f\\xb0\\'\\x0e\\x94\\xf7>jk\\x89\\xe8\\xbft\\x02=\\xb7m\\xec\\x15U\\xe0&\\x86\\xaa\\x04~\\xec\\xe5\\x156dK\\x0b\\xd2.\\x9b\\x81\\x17\\x18\\xa6\"]M\\xd4\\x17\\x1e\\xd7\\xd1/\\x9c\\x1c\\x8c\\x0c\\xb80x\\x96V;\\xceN\\x07\\xe8$\\x1aJ\\x9f\\xb9%\\x88\\xb3\\xd4\\xcb*\\x0b!\\x1f\\xc6\\x04\\xe7\\xbe\\xa5\\xe6\\x15\\xd0*\\x8d\\xca\\n\\x01~\\xa0uCJ\\xde\\x01Y\\xfe\\x06\\x85s\\xd4/\\xe9\\xdc\\x07\\xdc\\xdeqt\\xb1{\\xbc\\xdb\\xae\\x7f\\x1cp\\x9eO\\xcb\\x06\\xba\\xc6\\x96\\xf0@\\xec\\x81F\\xd7\\xdc\\xbcH\\xe5&\\xf1L\\xaf&J%\\x07\\x95\\xacfD\\x89\\xf4\\x1e\\xc1\\xc4N\\x8f\\x01\\x95\\xc0\\xc4\\x96\\x90QG\\x1c\\x9d;\\xff\\xde_o^\\x9b\\xe8I\\xfaR:\\xcd\\xfdz\\xed-\\x11\\xa5 7\\xd6\\n\\xa27\\x8e\\x1b2\\x0c)$U\\xd2:`\\x98c\\x9d\\xaaUgJB\\xa7\\n\\x86\\x89\\x88\\xce\\xa1\\x12=#q\\xbd\\xa5H\\xb2c\\xea\\xfb\\xc5\\xfe\\xccCvZ\\xd0\\x81\\xd7\\xac\\xfb\\xef_b\\x90E&\\xcbQ\\xa6\\x07E\\xed\\xd5\\x91i\\x1brl\\xa4\\x01\\xa9\\xb3\\xb8L\\xd3\\xd0n\\xf8*\\x17\\x0b\\xdf\\xf8\\xf6F,\\x90\\xb3\\xf4\\xf5\\x8bp\\xb6\\x18\\xe5\\xf7\\x1a\\x7f\\xdb\\xde<\\xac\\xdf\\xda\\xc2\\x9f\\xb4\\xdb\\xd0\\xb0f\\x02\\xde\\xc6\\x12\\x12\\x0c\\x86\\xa2\\xe6\\xa4(\\xb0]XV\\xa5\\xbaq\\x92\\x16\\x8e\\x137\\xaa\\x86K\\xb5!]\\xac\\x00\\x7f1\\x00\\xda;\\xe93\\xb4\\x19\\xb3\\x9fd~\\xac\\x1e\\xdf\\xce\\xb0\\xa7\\xe6Sx*P\\x8f\\x8b\\x9c[a\\xc0\\xc2\\xfe(F\\x9eY\\x1bM\\xdc\\x8e*\\xb4\\x8b\\x06\\xd7\\t\\xac\\x8dD\\xd3\\x0b^\\x8c\\xad\\x8b\\xd2\\n 2\\xf1\\xe6m\\\\\\xe4x\\xfaD\\x9f\\xf7\"G\\xb6\\xce\\xed2\\xef\\x93\\x95\\xc90\\x99\\xd1\\xd7\\xb7.A\\xa8T\\xd2\\\\#\\xb4NL\\x16P\\xd02\\xad\\x82\\xaa\\xa0\\xec\\x0c\\xf0\\xc2L\\xf7\\xec\\xa2\\xd3\\xb8(\\xac\\xb8\\xedNZ\\xb1\\xc5\\x9b(\\x81?\\x8a\\xfb\\x8af\\xab1\\xbe\\xac\\xee\\xa1\\xa8h\\xab\\xa7\\x00\\xd9_=\\x05\\x9f\\xe5dE\\xa1N\\xb0BHc\\xe7VR*zb\\x941\\xb2\\x13P\\xcb\\x91S\\xc9\\x1a\\xee\\x14\\xf1\\x05\\x81?\\x95\\x84U\\xab\\xe1s\\x86\\xcc\\x19\\xce5\\xe6\\xf3\\xea\\xf6\\xef\\x9b\\xeb\\xdb\\xf5\\xd5\\xc5\\xfa\\xee\\x9aEj\\xad\\xbe\\xf5\\xfe\\xedK\\x0b\\x18\\x02\\x03o\\xaf\\x8f\\x98Z\\x00\\xb9\\x80\\xa2*\\xc7\\xae]yf`yY\\x96T\\xec\\xc8B^\\x06j-\\x93\\x8b\\xc0\\xe0\\x90c0\\xf1\\xc8\\xb1\\x10\\x8cLc,\\x8fC\\x0e\\xd2Y\\xa50\\xee\\x8e\\xcdsa\\x01\\xc5\\xb0\\xc8\\xefn\\xe9).j\\xe29\\x86j\\xa5\\xb2Kt\\x05&\\xa6\\xeb\\xa2\\xd8\\xad\\x1d\\xbd6)\\x8eR\\xb7\\'<\\xe7%\\xe9\\xe1ju\\x8e\\xfa\\xef\\x08e\\x8bc0\\xed\\xd6\\xdfoo.\\x1e\\xd8\\x9a\\xec:\\xfe%\\xb0/\\xe2\\xb0\\xbc\\xaake\\t\\xb8d\\x8f\\xa8\\xb1\\xee\\xear\\xa4\\xe2H\\xcf\\x15Ku\\x83\\x02\\xfa^\\xa8%Q\\x90},\\xdaK\\x00\\xc0\\xf4\\x0c\\xd1\\x1f\\xa0s\\xb6\\x8e\\xb6z!o\\xfa\\x90/Mho\\xfa\\xa0\\xec\\xb9\\xecK2,h?fj\\x91\\x89I\\xb1\\xecX\\xb8\\xf45\\xb7\\xac\\x80\\x1d\\xc7\\x11\\xf2\\x8b(I1-\\xd5@O\\xf8Z\\xb0\\xb0\\xa2\\x1d6\\x01\\xa6\\xd3\\xa2B\\x06\\x1eF_ <\\x02\\x1e\\x86\\x08\\xed\\x81\\'\\x89\\xed\\xcbV\\x88dN\\xad\\xc9\\xa7\\x15?\\x94e]\\xdf\\\\\\xedn\\xb7W{\\xc7\\x1aKS\\x06\\xdd\\x94\\x1d7\\xb6\\x88\\x12\\x97\\x13Q\\xad\\x0e\\xf3\\xc6\\xb4\\x9c\\x04\\x05UP\\x94\\x8eU\\xdb\\x95\\xec\\xc6v\\xad\\xf2\\x12O\\x82\\x04:\\xb5\\x0c0\\x91\\x945R\\xe2I\\x9a\\xdd\\xfb\\x9e\\x0e\\xa5\\x97\\x15\\xef\\xd4\\xa3\\x9e:\\xf0\\x87\\t\\x01\\x1d7\\xb6\\x08\\x8b\\\\7\\xaa\\x08\\x9a\\x84 l\\xc7 \\x8c-#I\\xa0n\\xd9\\t\\xac\\xd2\\x80\\xf2\\x91I\\xab\\x08\\xc7\\x87\\xfe\\x00O\\x9cr<N\\n\\xe8\\xf4qs\\x83\\x00\\xec\\xe8/]l\\xd9!vy\\xfd\\xf8mO\\xd1\\x10\\x90a\\x8a\\x86C\\xcc.\\xa1\\xa7@\\xa1]j\\x8a\\x9d\\xe6\\xc4\\xceM/\\xa5@\\xaf\\xa1\\x0f\\x1d\\xa8\\xd7Y\\xaa+=\\x8a\\xd9|\\xb8I\\x00\\x15\\'r%\\xc7\\xe9)\\xcc\\xaaq\\xf8\\xb4\\xfc\\xdd\\x9bPA\\x18\\x14j\\xee\\xbd{\\t.d\\xae\\xf9P\\xab\"K\\teU\\xcb\\xe3\\xc6N=]\\xd3\\x95$qL%\\xeb\\x84\\x99\\xb0\\xd3|\\x83\\xd9\\x8aM\\x9b|4Rfy\\xb6\\xf6\\xb7\\xa7\\x05~\\xf7\\n\\x94\\x0e\\xab\\xe0\\xf7\\x1bZ\\xa2.\\x1c\\xb8a\\x80\\xd5\\xcc@^LmJ\\x1d;\\xb2\\xb0\\x1c\\x06\\xc4\\xb4\\x8a\\x82V\\x1d\\xee\\xbf\\xc0\\xcf #\\x10\\xe1\\xd5\\x19\\xaaX\\x10\\xcfy\\xff\\xf9\\xbc\\xde\\x1d\\xe9\\xc9\\x96c0|[\\\\\\xb0\\xbb\\xa6\\xb0\\x01L\\xb3:\\xc4\\x84*\\x8d\\x93c\\xea\\xe7\\x19\\nC\\x05\"-Tb\\xb7\\xc3\\x15\\x17\\x00?\\xf3\\xbd\\xa5\\x1d\\x9c\\x83a\\x00\\xe6\\xcc\\xb6\\x9f\\x96\\xf99\\xf1\\xea\\xba\\xd7\\x93\\xc0\\xc50\\xeeU\\xaf\\x9d%(\\xfe\\x8aWyuH\\x13?\\xcd\\xb0\\x8fKd\\x9a\\x8aC\\x92\\xc8\\xad\\xa1b[\\n/b.\\xac:[\"a\\xbeq\\x06Q\\x0b\\x01\\xcf)K\\xf8\\xbc\\xdc\\xed\\xa0\\xef_\\xb7\\xdf\\xd8\\xe7\\xe0r\\x81\\'\\xe4\\xa4\\x13R\\xb9\\x1eSK\\xd0\\xe6\\xa0\\x1b\\xc9\\xaa\\x07\\xd5T\\xd5MRZQX\\x82F\\x8f\\xcb\\xdc.s\\xf6[\\x1dM^\\xb6\\x96\\xdc\\xd6(2\\x00&r\\xafF\\x81wz{\\xc6;\\xe0m\\xaf.\\xaeo\\xbfo{\\x9a\\x80\\x81\\x08\\xc8\\xb0\\x99\\x01\\x1d\\x1bK\\xf4\\xfef@-\\xe3R3\\x14\\x1d\\xa6zbh\\xa6JT/\\xa7f\\xaa\\x054\\xce;\\xda\\xbc\\x88\\x1f\\xaa\"\\n\\x90N\\r\\xfcG\\x8e\\n\\x9fKC\\xe1m\\x0c\\xd1K\\x91\\x83?\\xd2\\x9e\\x04\\xb0\\x87\\xb5\\xd2\\x1c\\xb5\\xb5\\xc4\\xf1\\xe6\\x042i\\x14Y\\xa5 tH\\x8d-\\xe4c\\x9c\\x19\\xb2\\x9f\"9\\xcde\\xbeo\\x1b\\xc0\\xce\\xed4lEe\\xa6\\xdd\\x03\\x8c\\x12\\xdf\\x15g\\xad&\\xb7\\xd3-\\xdbf\\xa5c5e\\x80\\xf1\\xa0@\\xbf\\xd7\\xce\\x12\\xb2\\xbb\\x91\\xee\\xd7>@a\\x14\\xbb\\xbeUa\\xa2\\xc2R7\\xa0\\x1e\\x14DFQ\\xd1\\x11m\\xea0\\x8b\\xc5Vb\\xe6\\x1c]\\xbf`6j\\xf1\\xdbD\\xd2g\\x9e[\\x9f\\xde\\x05hi\\x0c\\x83\\xe8\\xfc\\xefX[B\\xdf\\x15\"@b\\x14dr\\xa4\\xb0\\xd3MEJ\\xeaEV)#S\\xa7\\xd01;b\\x17\\x88\\xef\\xfc%\\xc2\\x8a\\xa03\\x1cq\\x08\\xcd\\xb6er\\x0b\\xde\\xdb\\x8a\\x81Fa\\xb7\\xa4\\xe35f\\x1d5\\xc4\\xf1\\x11U@\\rK\\x8b\\xf8 OC\\x10\\x96\\x9e\\x95\\xd9ug\\xe6i\\x87qE$\\xe6\\x8bg\\xe0\\x85\\xe3\\xd9\\xda~?\\x18,L\\xc0\\xa0x\\xf2s\\xe6\\t\\x87I\\xec\\xcaJ\\xac\\xbb\\xbe\\x8e\\x14T\\xa9\\xb1R\\xc0\\xdc\\xcc\\xd9Vi9\\xa6\\xa5ttI:\\xad\\xbe+\\x8a\\xc4\\xa9\\xb2\\xd7\\xa3dIf\\xeb\\xf4\\xfdk}\\xf9\\xf3\\xee\\xf6U\\x99\\x8e\\x1c\\xaa\\x93\\x0b\\x83\\xf8\"\\xbc\\x89%\\xaeob\\x10k\\xc8\\xce\\xd34\\xd6\\xd421\\xadBNqT\\x12\\x82\\xf4\\x08\\x86u\\x87\\xca\\x8f\\x10_\\x0ei\\x07f\\x9ec\\xea\\xd4\\xe9\\xc5\\xe3c@\\xb5u]N~P`g\\xf4 \\x84^\\xdf\\xbb\\x04\\xa5\\xc7.B@i\\xac\\x81\\xb0R\\xfd4\\xd0e\\xd7J\\x8b\\xd4\\xa7\\xa1\\xa9\\xba*\\xeaT\\xaa:\\xd0H\\x08I\\xd29\\xe4\\xecN\\xcf\\xa5\\x8fB\\xb3\\xa7\\xc7\\xf9\\xa4\\x00\\x7f\\xf7x}\\xbf\\xbe\\x10\\x85\\xdd\\xf6\\xdb\\xe3[\\xd9\\x8a \\x8c\\x07\\x9dX\\xef\\x1b\\\\B\"\\x8d\\x12/\\xa9U\\x95\\xa4\\xa4\\xc1\\xb2\\x02\\xd4 \\xd7\\xa2\\xc8R*`\\x87\\xc4(\\xf8\\x1a1\\xe8*\\xb6\\n+a5\\x99\\xda8\\xe2~\\x14\\xad\\xe6\\xac\\x88p\\xb9\\xf4\\xf3e\\xf60r\\xfe\\x92)4(r\\x134\\xb1B\\x15\\x126F\\x8c\\xd28F\\xc8\\xd1u\\x0f\\xc4\\xaa\\xa1wZ\\xe1Q\\'\\x9c\\x07\\x12\\x99~\\xf99\\x02\\x1d \\xcd9\\x97\\xf4\\xbd1\\x89p5lv\\xdbg\\xccH\\xf4\\xcc \\x87:\\x96\\xcb\\xb2\\xd2]\\r\\xda\\x0eF8\"Z%C\\xea\\x1b\\x91\\xd7\\xe9\\x0eD\\xbc\\xe6\\x12\\x91\\xe8\\xc4\\xc1\\x96\\xe3\\xb6\\xc4\\x11\\xcdK\\x1fA\\xf5\\xbc{\\xad\\x7f\\xae\\xb7\\xcf{\\xd8\\x9bgQ\\x01\\x0ccb\\x1d\\xb5\\xb5\\xc4iF\\x12\\x99\\xe2\\x0c\\xabr\\x13\\xa4U\\xac\\x98\\x9e\\\\\\x9bn\\x9c\\x11\\x04\\xdd\\xc0KPw#\\xe4\\xabU\\xed\\x04\"x\\x06W\\xc3\\xe2\\\\\\xa9\\xd7\\xc1z?5\\xfc\\xf5\\x9ff\\x00\\t\\'\\xed\\x8c\\xbd\\xf6\\x96`\\xaf&N\\x1d9\\xb9\\xae\\x95f\\x83]\\x1f\\xab(+\\xf4\\xd07U\\xc7tlE\\xe7\\xab\\x1f\\x0cC~h\\x1bm;\\xea>\\x1f\\xc2\\xf9\\xb4\\x97^C\\xf1\\xce\\x92_\\xf0\\x18\\xae\\x86\\xdd\\xcc\\xbcop\\t\\xbd\\xff\\xc8\\x06\\xa9\\xebdM\\x92\\xe3Zsa\\xad\\xd5\\x184\\x96\\x89\\xcdJ\\xce\\n\\xb5Sz\\xc4\\x88o?\\x03\\x04Nk\\x00\\x1dI\\xd8\\x12g\\xddC%\\xe90\\x00\\xe4\\x00d\\xe1\\t\\x18\\xee\\x84\\xbd\\xc6\\x96\\x18\\xdaf%EYf\\xa0\\x04\\xa5\\xacxU\\x18\\xa4\\xa9\\x8b\\xa9S;\\x99\\x1cU\\x9e\\xc3\\xd7\\xfc\\x99\\x07r\\xdd\\xbb\\x00R(L\\x13#\\x1f\\xe9\\x82t\\xb6]\\xf4\\xb7N\\xd2\\xb7\\xcd\\xee\\xdb\\xed\\xcd\\xe3\\xfdo\\xbe\\x81\\x08\\x91\\x00\\x07]\\xd0t\\x8d,q\\xe6%~\\x05#\\rE(\\xcb\\xaa\\\\\\xd62\\x147Z\\x85\\xfd(\\x87y]F\\x1d\\xb1, \\xf1\\xc95\\xa5/\\x85\\xac\\xf1\\\\\\x03\\t\\x88_0\\xee\\xe7\\x1a\\xb0/\\x08\\x16Vo/\\xd9\\xd7\\x85\\xbd\\x14\\xda\\xf8aN\\xb0z\\xf8;\\xc3xt{\\xef^B\\xf98\\xd3t\\x93\\xe2\\xc6\\xca2\\x13\\xd4\\x1e4-\\xec8\\xaa\\n\\x01IJ\\x80;3H\\xd9\\xa6\\xc7E\\xff+\\x08\\x804\\t\\x9e\\x91\\xbcc0\\x97\\xa2\\xd2\\xd3\\x02w\\xda/\\xb0\\x08\\x07\\xdd\\x98\\xed\\xbd{\\tbj\\red\\xfb\\xecH\"\\x06\\xb4\\xeb\\xca\\xa5e\\x05\\xb5\\x84\\x98(W\\x1b`\\xf3\\x02\\xabl\\xa7\\xe1R\\xe7\\x15\\xc1/\\xea\\x05\\x9f\\xdc\\x14\\x88O\\xf6\\x9e\\xf7r\\xb3\\xa7E~#\\x00\\xec\\x1fQd\\xd8\\x1d\\x0bob\\x89\\xa8\\xa2\\xd5\\x8f+]\\x9b\\x82\\xd2W\\xa2$\\xcfL\\x95\\xd6\\xb5\\xdf4\\x1e\\xc4q\\x86x\\x12*\\xcb+y\\x0e?F\\xa2x\\x06\\x1a\\xb8x\\xbaR\\xd2 \\xb0^g\\xd0\\xf3$p\\x02\\xc4a\\xc4\\x8fc\\xa6\\x96\\xb8\\\\1 \\xc1\\xb1S\\xe0\\x18\\xe6E^R\\xdf\\xaf\\xbdR\\xa3\\x16\\x0c*j\\xeb\\x84o\\x1ed\\x81\\x18\\x7f\\xb9\\xb2\\x12\\xa4\\xd5\\x19\\x82\\n\\x80\\xe6\\x04\\xefz\\xfb\\xefW\\xda\\xfd\\xc1\\xc5\\xca\\xb0\\xcb\\xb0\\xbdw/B[\\xf4M\\x8f\\xb8\\xa1#+\\xaaV\\xa9VB\\x92\\xc0\\xcb\\x1a\\x9a\\xc7\\xa1\\x9b\\'eGm\\x9a\\xfd\\xe0\\\\\\xfaL)\\x10\\xce!E\\xc66\\xe6\\x99\\x0e\\xabv\\x85\\xd9\\xdb\\x1f~W\\x98\\xf6nU\\xda\\x19\\xf5x\\xd8\\xa9\\xd5gf\\x89P\\xbd\\x86\\x96\\x13f\\xc0\\x08#j\\xf9\\x98\\xc5\\xe9J\\x99U\\xba\\xee\\'\\xb1\\xae\\x99\\x0e_\\xf0`\\x0e\\xc4\\x8b\\x90!H&\\xceU\\x18\\xa7?@\\xe7\\xca\\xb3~\\xaf\\xf4s\\xd9\\xfd`B/\\x8b\\xa6\\x06\\xa5W\\x1d\\x1bKHkB\\xe0\\xdaq\\n\\x12\\xe2\\xeb\\xb5b\\xc6\\xa6\\xa6\\xd9\\x95\\xa9j\\x8ac84\\xcf;#\\xf0P\\x87l\\x8f\\xc0ju\\x96Y\\\\\\xb3eU\\xbf\\xd7\\xb9\\xfd\\x0f\\xf6\\x80C\\x0e\\xf7\\xe0\\x1dp\\xdf\\xc4\\x02H)!Q\\x9b2p2\\xbd\\x8e\\x03\\xd9\\x96\\xad,vu9v=\\xc3\\x89]U\\xe6\\xe7\\x06A,r\\x19\\xd5\\x8a\\x1d\\xc0\\x13\\xe5\\x87G\\x8e\\xbd\\x9e\\xeb\\xba\\xf2\\xf7*\\xbf\\x86\\x05\\x87%\\xfb\\xa7\\xf8\\x1d\\x8a\\x83J\\xf6\\xc7L-\\xd1\\xe3\\xe95\\x86Z\\x84\\x08 E3Yl(\\x07v\\x90\\xb7\\xdd\\xb9\\xb5\\xa1f\\x9a\\xdb\\x01\\x0e\\x08|\\x97\\x19f\\xb9\\xf0\\x19\\xfa\\xdeY\\x808\\x17pO\\x84\\xd0\\'\\xa6L\\xb7!\\x97}\\xdeA\\x88\\xf16\\x96\\xe0p[\\x8d\\x177H\\xd6c_OPUfMQ\\x149\\xc9\\xca\\xa6rCDy\\xaa\\xcdk\\xe4\\xb7Wc\\x12\\x88H\\xa6\\xb5H\\x8c\\xcc\\x8b\\xc9l\\'\\xd7\\x1byw\\x9f\\xb3\\xcd\\xdcx8JO\\xef^\\x82\\xb2\\x81m\\xd4\\xe8\\xb2\\xa6\\x00\\xd3\\xcei\\x94\\xa59\\x0b\\x0b\\xad:5t\\xbfQ\\x0c\\xbf\\xd3\\xef\\x87:\\xb3\\xd3DI\\x9a<;m\\x14O{\\xbeM\\xf0i\\x85{s\\xac\\x96\\xa6\\xdd\\xb2\\xfc\\x86\\x03\\xb5x~U\\x007T\\x14Y\\xc9\\xa0\\x93\\xe6 b^\\x14\\xe4\\x9e\\x8c@\\x82C\\xc7Up\\xa7\\xd0\\x84\\xf8\\xbb\\xaf\\x15Kt\\xe0\\x19\\xc4Y\\xc0lL\\x8e\\xe7\\x95~\\xafS\\x0c\\xc3a\"-G,-1\\xe1\\x87\\xed}\\x16\\xf2\\x11\\xf4\\\\\\x88\\x88\\xe5`\\x8a\\r\\x05\\x87~\\xe4e\\x19\\xc9\\x82\\x0e7\\x8a\\x9d\\xfd\\x9c\\xa3\\xc1\\xf6\\xe2w\\x1a\\x8bmT\\xb41o\\x05\\xeae\\xc5\\xb9\\xb9LO\\x19\\xd7\\xb0\\x1e\\xdaC\\x03K\\xe8\\xf1\\x15r,\\xc7\\x1a\\xae\\x123I,\\xab2\\xcd\\xdc\\x03\\x9a*g\\x99JR\\xcb\\xe1\\x85\\xba_\\xb5g\\xf7\\xb3c@\\x11\\x99F\\x0c\\x18\\x85\\xd4\\x08A\\xdaw\\x90\\xfa\\xb5f\\xeb\\xfc\\\\3z\\xee;\\xbf[\\xff\\xdc\\x1c\\xd2\\x03\\xa0\\x08 \\xfba\\x86\\xc0\\xf6\\x8e\\xb5%.\\x97k\\x9f\\xba\\x1a\\xa28\\x08\\xa3\\xc0,b\\xa5\\x08\\xd5P\\xb1\\x1c+\\xca\\xcb(TxMS\\xc0\\x96\\x8eO\\xc2\\xd8Y\\x07\\xa6\\xd5{G\\xb5D\\x80\\xd9\\x12\\xe6_\\xeb\\xfb\\xc7\\x9fobF\\xc7\\xce7\\x01\\xe1a\\x04\\x8fw\\xed-\\xd1A\\xa6\\xe7\\xc4.\\x0c\\x03$^\\x99\\xc9\\xa9\\x17\\xa5E\\x99h\\xd0F\\x96\\x96\\xd2\\xca\\xe3k\\x1e\\xf0\\x85\\x0c\\xb0\\x17\\xe5#D\\xcf1*\\x999\\xe3\\xac\\x10\\xee5\\x9ew\\xca\\xf6\\x04\\x82a\\xc4\\xb7c\\xa6\\x96p>\\xf6\\xcd\\xf6\\r\\xc3)\\xcc\"gnWi\\xb9\\x13\\x02?iTl\\xab \\x8e\\xf8\\x98\\x9f\\x01\\xd7\\x19f\\'\\xe1i\\xc3E>\\x8d\\xd9\\xf1\\xde\\xfe\\xc9~\\xf2\\x9b\\xef\\x17?\\xd7\\xd7\\xebG\\xf6c\\xdf\\xb1\\xd4\\xf8\\xe9n\\xb8\\xcb\\xb8g\\xfe\\xdfjH\\x0c\\x82\\xf1C\\xa3K\\x14J\\x9a\\xb0\\xf6\\x90lf\\x9aQ\\xfb\\xb8\\xd2\\xab\\xc6\\xd1c\\x84\\x0cYV\\x90#W]\\x89v>\\xdf\\xa6D\\x12\\xa7i*\\x8d\\xbbz\\x16\\xc8\\\\w\\x9b\\xec\\xa7\\xb9Z\\xff\\xf9\\xb0\\xde\\xf5\\xe7\\xdc\\xec#\\x0f\\xeb-\\xeb\\xb5\\xb3\\x04[ W\\xaa\\x12\\x15\\xa0Q#_W#\\xc5\\xb4Q\\r=\\x18@\\x83\\xe8\\x9e\\t\\xf8\\xc9v\\xcc\\x05x\\xb6\\xc0\\xd3$\\xf1\\xcfO\\xbb\\xc5\\xd9D\\xf5_Z\\x9c\\x7f\\xb3\\xea{\\x8e>00\\xb5;fj\\x89<\\x81\\x05-\\x99\\xac\\xca2\\x94\\xe3\\x026q\\x94\\xe0\\xd2r\\x13\\xd9\\xf5t\\xcf\\xaf\\x9a\\xb0[>\\xe6\\x12r\\xccVr\\xaa\\x1a\\xfb\\xa8|\\\\\\x9c5\\xf8|^\\xf1\\xa7\\x80q{{\\x7f\\xb1\\xbd\\xfbq\\xfb[\\x86\\xf3\\xa5%pP\\x91\\xab\\xdf\\xd0\\x12W4j\\x9eCO\\xf7e,G\\x91\\x9c\\x86T\\x95c\"\\x17V\\\\\\x96\\x15*0?\\'\\xa6\\r\\xbc\\xb8M\\x12\\xaeDz\\x86B\\x8a8\\xab\\xc6\\xce\\xfez\\x1fh\\xa7>\\xd5\\xbc\\xf0\\xb0!1]#K\\x88p*q\\x03<\\x95b+Vr#E\\x96\\xae\\x10\\x95xJ\\\\EnYh\\xbc\\xa7\\xb5\\r\\xfb\\x1c`\\x88\\xbc\\xccB\\xf8\\\\\\xc0\\xe0\\xe9\\x8c\\x9d\\x81\\x80ue\\xf3\\xd9\\x87\\x86\\x03\\x03\\xcc>;K(\\x94\\xd1\"\\xc5a\\x9a\\xf8E\\xee\\xa8u\\x80\\x91\\x9b\\xba\\xae]\\x9b\\xa8L\\xe5\\xc2\\x83|\\xf1\\x9f}\\xeb\\xb8\\x93\\rc\\x89N\\xed\\x06\\xfc\\xa4\\xb4\\xe0\\x1d\\xd8\\x8eQBDH\\xc4Ag\\xda\\xe2\\xf9[M\\xec\\xaa\\xc8|\\xd7\\x8edS!q\\x11\\xbaT)\\xd5\\x90\\xeaY\\xa3\\x81\\x8a\\xf2\\x1b\"\\x04Bg\\xae\\x08\\xc5\\xe7Q\\xb4\\x9aK\\x9d\\xf8p\\x8d\\x9fU<\\xf6r\\xb7V3\\xe3t\\xa8\\x9e\\xcd,\\x91\\xb7\\x85*D\\x15\\xd6]\\x1b\\xfbrZ\\xfa\\xec\\xb5\\xef\\x99a\\x1c\\x00\\xc3\\xacj\\x9d\\xef\\x11\\x84\\xecCp\\x1b\"\\x0b\\x83W\\x93\\x94nGv\\x97\\xcd&\\xfb}\\xf4\\x1a\\x14\\x0f\\x1dL\\xb7\\xfc\\xed\\xa7\\xafh6I\\x13UQc\\x8f\\xed}e({\\x8aZ\\x85\\x8e\\x86\\x0c\\xa74\\r\\xc0o\\x80\\xec\\x87\\xe7B{\\x91\\x08\\xd29\\x9a\\x00O\\x0f4\\x86\\xc1\\xf4T\\xb8\\xdf\\xafhI`Pl\\xd8gf\\x89\\x82\\xb2\\xea\\x93F\\xf1\\x03\\x00t\\x93@\\x9cP;\\x8e\\xab<P3+\\xae\\xc24\\xeaD\\x86\\x14\\xf2\\x1ba+\\xb8q\\x86\\x13K8\\xbdk\\xf3}\\xc0\\xf8\\xab\\x9a\\xf6\\xbc\\x12\\xe80\\xee\\x0eob\\x89\\xd1!\\x91\\xa2\\x19E\\x13\\x04\\xc0\\x83N\\xd8N\\x0cAyV\\x87\\x96\\x11\\xa4\\xbam\\xa5\\xbcg\\xc1\\x0e\\xef\\x94\\xfd\\xac+\\x11\\x9f\\xe3\\xc8\\x9aM\\xd1\\xe3u\\x99o\\xef\\xf70\\x1a*\\xbc\\xf8\\xf6\\xe6%\\xf6=\\xdb0|P+u]\\x15\\x9aZ\\xcau\\r\\xad0\\t\\x13Y\\xc9MC\\xe9c}p5\\xfd\\x96\\x15\\x8c\\xcfP\\xd2\\x10\\xf0\\xcc\\xf1\\x04?\\x93B@\\xe20-\\xe8\\x83\\xf7/\\xc1\\xf6\\x88\\xd4H\\x03\\xc4m\\x88\\xef\\xbb\\xb2o\\xaa:\\xf0\\xa8\\x9f\\x1byR\\x19\\xaa\\x07zf9\\xf2\\x03\\xdd\\xdbIVS#\\x88Q\\xf2\\xcfsE\\x10w,Jc\\xe9\\xcfEg\\x10\\xfb\\xfep\\x03iX\\x1a|\\xd4\\xd6\\x12\\xda\\x02NE\\r=\\xb7\\n\\xafN]HC\\x8aT\\xb5\\x82T%Q\\xe1W$\\xe6\\xc5\\x16\\xdbi\\x94<t\"\\xa4g\\xd0\\xc4\\x11\\xa5\\xb9\\xa2\\x8a\\xbb\\xf5\\xfd\\xfd\\xdf\\xb7\\xbb\\xab\\x17v\\xe8\\xa1\\xcc\\n^\\r\\xdb\\x02\\xbbF\\x96\\xc8\\x81\\xcdF\\x0b\\xe3\\xcc4\\x1a\\xd5P\\x1c\\x03\\xe9Z\\x10\\xe2\\x02 #M\\xed\\xc8\\x80\\x9d\\xc9/]5\\x8f\\xb6wv\\xda8\\xb2q\\x1c\\x90\\xd9\\xc4\\xfa~\\xaf\\xf33\\x1f\\xa0;\\xf5E\\x1c&\\xba\\xd2kg\\t}\\xe7(\\xf2\\x1b\\xcdE0\\xd2i\\xa1\\xd3\\xca\\x03E\\x14\\x06AEq\\x96\\xc0\\x9atX\\x05\\x92\\xd8\\x11V\\xa7T8Ch\\x81\\xe8\\x9c\\x97bw\\x9b_\\xdf\\x1e\\xd9O{\\xb3\\xa7\\xd0v\\xa8\\x8a\\tW\\xc3\\x98\\xf7G,-\\x11x\\x84f\\x1dYF\\xea\\x84\\x85]\\xb8\\x9a\\x1c\\x83\\xd2Oq&{\\xd8\\x88\\xcc\\xd2\\xe8\\x94\\xe4\\xbb\\xd3\\xffD\\xc4\\xb2\\xb03hc\\xc2\\xd5\\\\\\xf7_w\\xec\\xf3mY\\xd4}\\xf3\\xac\\x8cxT\\xedM\\xa0`PI\\xe3]{K`\\x08\\x91Z\\x87\\xc85<_O\\xf3\\x08\\xea\\xa4\\xa8\\xea\\xd8PU\\xd8\\x90\\xc0\\xa4|\\xf0\\xd8\\x9d\\xe2#\\xad0\\xf3\\x8a\\xcf?\\xde\\xe0l\\xc5\\xa8\\xbb\\xcd\\xae%\\xe1\\xaco\\x0e\\x86It=\\xb0\\xbd\\xca\\x19\\xd4T\\xf6\\xbe\\xc1%\\x18!4\\xaah]!=G\\xbe\\x0fP\\xa0\\xd1\"Bu\\x16R\\xd7(h\\xdaCV\\xc5\\xbcb\\x0b\\x84\\x94\\x9e\\xe1n\\x0c\\x9d>]d\\x18\\x88\\xfb3j\\xdf\\xe6\\xd6\\xee~=\\xee\\xf6G\\x17#\\xb6\\x87\\x0f;\\x0c\\x87[_\\x00^\\xe0@\\xcf\\xaf\\xb0G2\\xc5\\xb7(\\x94m\\x15\\x15F\\xa1\\xf9al\\x99\\x06\\xc8\\xf8\\xf4\\x9b\\x85\\xa0\\x1d\\xc9hH\\xa53t\\xa5\\tp.9\\xd47\\x00^\\xaeS\\x8e\\xcc\\x8fyj\\xccX\\x89\\x03\\x0f\\xca\\x0fl.QI\\xc1N\\x80\\x0c\\x1a\\xc7nUV \\xc8\\xcc\\xcc\\xd3\\xf4\\xa2J\\x928\\x8b\\rC\\xe1\\xc5]`\\xe7\\x92\\x86\\x05@\\x0c\\xca3d\\x82\\xf3\\xa9\\xbb\\xbc\\xad{\\xefe\\xa8(`4\\x889\\xd9kg\\x01\\xcc\\xb0\\x92U^]\\xd5\\xbe\\xdd\\xc4r\\x03\\xb0\\xac\\x84T\\xad\\xa1\\xe18\\xb1\\xa6\\x87igw\\x85<\\xefU\\xc2T\\x9c8\\x92\\xf5\\xb3$\\x02\\xdf\\x8dP\\x0f\\x96\\xbb\\xcf\\xf3\\x04\"\\x9cx@.~+\\x8ai\\x98\\xd5\\xae\\x1b`\\xad\\xf2\\x91\\x17j\\xa6\\x93X\\x89\\xc32BS\\xce\\x02\\xe6v\\x1d\\x87\\xe3/\\xb3W\\x00\\xe1i\\r\\xa2#\\xfd\\xedt\\t\\xf0c\\xc0\\x1d\\xed\\x07`\\xe17\\x1c6T\\xf73:\\x01P\\x14\\x95v\\x8e\\x9d\\x8a\\xea\\x8d\\x8f-\\xbd\\x8a\\xe2\\xb0\\xa62\\xf1\\xf4Z1\\xc2T\\xe5\\xfdL\\x10\\xf9\\xb1\\x16\\x02&\\xd2\\xb4(f\\x14\\x9b\\x0e\\xcd\\xda\\x08\\xd02\\xf8\\xdb\\xf2H\\xcfe\\x9b\\x80\\x84a\\x9c\\x83\\x8e\\x8d%T\\xbe\\xe30\\xf7\\xe3Z\\xc9d\\x0b\\x07\\xaeZ\\x98v\\\\\\xe9\\xc8\\xb5\\xab\\xa0\\xb2`\\xe9v\\x83\\xbf\\x84\\xab\\x13a\\\\\\xaa&\\x9e\\xe00\\xc0\\x1aMRlj\\x95\\x03\\x01\\x8a\\x01N\\x1db\\x94\\x01\\x89\\xfc\\xc8\\xec\\xf1F.\\xc6Y\\x11\\xb0\\xa2\\xab3\\xa4\\x1dHX\\x1a\\xc6\\xce\\xa5>\\x0br\\xd8\\xe3\\'\\x01\\xb9\\xe4\\xfd~\\xdc\\xd0T\\xd1m\\xad,\\x03\\x85\\x98\\x81\\xde$Nic\\xaa\\xa1\\x1a\\xa2\\xc6\\xe8I<\\x08\\xef\\x91\\x14O$e\\x8c\\xcb;\\xc0\\xe2\\x1b\\xeb\\xfd\\xe5\\x8e\\x9d\\xff\\xfb\\x81\\x0e\\xc0\\xd3N\\xc8g\\x8b\\x0b\\xc0\\xd8@\\x0f\\xe5\\x86\\xde\\x94\\xa9\\xe5!9K\\x95\\\\n\\x940\\xcdP\\x19\\x07\\x81\\xe2\\xd2\\x0fc\\x1d\\taA\\x9cH\\xd3\\x18U\\x17?\\xfdfx\\x18\\x8cw\\xcf\\xd7Ll\\xd1\\x7f\\xado.\\xb77\\xdf\\xf9z\\x8e0\\xae6\\xdeow\\x89{\\xe2\\xc2\\xd3L\\x0b\\xc3\\xd8)Q\\\\`\\xd3\\xd5*\\x99\\xf9gNb\\xa2\\xdb\\x95\\xce\\x935\\xd8y\\xc1\\x9d\\x95\\x18!J\\xce\\xe0\\x99P\\x9a\\x8d\\xabq\\xb8\\xf4\\x0f\\x9b\\xdd\\xb7\\xf5\\xb6\\xb7:\\x07E\\x0c\\xc6\\xe4 \\x1d\\x93Kl\\xb1ZX\\xf9\\xb9mR7\\xafPc\\xd2\\xaa&ve\\x1b:!F\\xac\\xdbaOy\\x95\\xf3MBZ.\\xc5\\x19\\xb6X2/\\x90\\xef\\x915\\x04\\x08O\\xc0\\xef3x\\x1aZ\\xec6\\x8d\\xef\\xab\\xa6\\x8f\\x9c\\x84\\x1d\\x91\\x01\\x8bn\\xb4\\xd2QUb\\x85Hw:\\xb0\\x11\\xcc\\x17r0\\x10(\\xa4\\x93p\\x1bG\\xd4\\x10\\xe0\\xac\\xb8\\xbd\\\\A\\xbcW\\x1d\\x87\\x08 4\\x1c\\xbf\\xa3\\x16\\x97(\\xe4T@QA\\xa2\\x12#\\xaa\\x1d\\x10P=!Uc4M\\xe0b\\x8cI7\\xc2\\xe9\\xdcn\\xac\\xb0\\xb4\\xa2g\\xa8\\xe3 8o\\x84s\\xbc\\x0c\\x87 \\x10N\\x08l>\\xa1\\xfa\\x86Bh\\x03\\xcb\\xa5\\x89\\xae@\\xcdR\\x12\\xb9\\xcd\\x18\\x0b\\xaf0\\xe4\\xc8\\xf1\\xdc\\xa8\\'\\x9e\\xe1Y7\\x04Br\\x86D\\x11I\\xf3f\\x18ok\\xfdtT\\xed\\x1e\\x0f\\xf2\\xfc\\x81\\x8c\\x9b~K\\x0b\\xc0\\xe6j\\xc8\\x8aMP\\x91\\x04\\xaa\\x8d\\xa1\\xc7\\x81\\x97*\\xa6\\xe2W,jq-\\xbd\\xf1?,\\xd3`\\x96LN%(\\x8e\\x8aYV\\'\\x93m\\x8e\\xc0v\\xb9\\xde\\xad/^9N\\xf7\\xd7\\xb7\\xaftP.\\x9bhwo<\\x8c\\x9f\\xf8\\x81\\xc5%\\xbc\\xaf\\xc1MJ\\x80\\xeb\\x99\\xa4\\x01\\xaa\\x85\\x8d\\x18X\\xb5\\xec\\x16\\xa5\\xadx\\xb9\\x95\\xf0\\xf7\\x8al\\xc5\\x11\\x97\\x14\\xe2\\x15<\\x0bMx6\\x8a\\xe2\\xf3\\xa2?\\xae\\x1f^\\xc80\\xb7\\x97\\x87\\xf5R\\xc0vLv\\xe6\\r\\xc7\\xafkj\\x01\\xe0p\\xa5\\x07\\x99l#\\xe0g\\r\\x02$\\xaa]\\xcb\\x06J\\xe1R\\xea6~\\x11w.\\x84\\x11\\xdfb\\xc1\\xe2\\r\\xc2\\xc2\\x96\\xcfG\\x0e\\x81\\xb9b\\x96\\xa7\\xe5~\\r\\x10\\x9fV\\xfca\\xf3\\xeb\\xdb\\xfa\\'\\x1fq\\xb6\\xcf\\x1e\\x0c\\xdf1{\\x0b`\\x18YJ\\x05\\xa3\\x9c\\x86J\\x9caU\\xf3\\x0b\\xd3\\x0f,\\x1b\\xf9\\xa1e\\xdbaew\\x8ak\\x04\\xf3G\\x9f \\t\\x13\\xef\\x9dF\\xf2\\x83\\xe7\\xbaw:X\\xf2\\xedU?\\xbb[B\\xa7\\xc3\\xb7ok\\x91\\x0e\\'({\\xa00RW+\\xfd2\\xa0e\\x80=\\x95\\xd8\\xb6\\x19$\\x91l\\x98=\\xd4n\\x9e\\x9e\\x08\\x89$LL\\xf5Fa\\x07g\\xab\\xa6\\x1d\\xacw\\x0fp\\x08K\\xc32\\xf5~CK\\xd4\\xcel\\x14\\x94*N\\xf2(\\xa2\\xbe\\x0b\\xa9-\\xe7\\xbe\\x8dd\\x94\\x12\\xcfu#=\\xe8\\xa0\\x86\\xb8\\x12(\\x06lU\\xa7\\x91hF\\x81\\x86f##>\\xad\\xf5\\xaf\\xcd5\\xdb\\xde\\xda\\x00\\xf1\\xdd\\xc6B\\xe1\\x84S\\xef\\x1d\\x93KP\\x12m\\xacFq\\xed\\x06\\x85\\xef$\\xd0qm\\x97\\xc24\\xce<\\x1b\\x18^\\xec(\\x1dJ\"!\\xfc%!\\x11X\\xdep\\x06\\xef#\\'\\x1f~\\xefP\\x12_V\\xfe\\xe6j}\\xb7~h\\xd7~\\x00\\xb9\\xad\\xe5\\xef\\x9d\\x80\\xea\\xc7\\xb6\\x17\\x80\\xd7\\xa2A\\xe5 \\x82\\xeb\\xd2O\\x9dJ\\xcbA\\xe1\\xd6qU\\xfb\\xd0+U[\\xab\\x9cnr\\xc15\\xceH\\x80\\xbc\\x14I?\\xf9\\xd6\\x89\\x9e\\x9c\\x13\\x0e\\x80\\xf7\\xfb\\xf6~{q\\xbf\\xbe\\xbe\\xba\\xfd\\x9d\\x1c\\xf4\\xf9+\\xdb\\x9b\\x86o\\xb7\\x1f\\x98]\\xe2\\xc8\\xac\\xe3\\x08\\x82\\xc0\\xc4\\xa1m\\x00\\x8b:\\x18\\xa4\\xa1R\\xe2\\xc2\\x8e\\x0c\\xcd\\xcbL\\xb5\\xeb\\xb3\\\\u\\x86R\\x00\\xce\\xd1\\x14<\\xa2\\xbd\\xe64P\\xfb\\xceND\\x85\\xe1A\\xcf\\x11sK\\xb034=\\xf53\\x1c\\x93(\\x92\\x1d\\xafL\\xedT\\xa7\\x96OB7\\xf0e\\x13\\xbb\\x1d:?[s\\x0eD\\xd8\\x96\\xb8\\xcf\\x01\\xe2|\\'\\xe8{\\xc5Q84V\\xfd\\x84mT\\x05E^\\xabE\\xe0\\x94\\x9e\\xaf\\xd7\\xd0v\\xc2(I\\xcaX\\xa5\\xa8\\x91\\x81Z\\xd4\\xddm\\x94#\\xb6IH<\\x0b\\x95\\x06I\\xf3\\xa5\\x88]\\x1e\\xe1\\xf6\\xe6\\xfb\\xf7\\xf5\\x85\\x88\\xf7o\\x08\\xe1\\xb0\\xd6\\x8b\\xf7\\xcc-\\x00\\xa0\\x9f\\xaa \\xccR\\x8c=\\xd3,SC\\x0eb$\\xc3\\xc2b\\xbfF\\xaa\\xeb\\x17\\xd6\\xc7\\x00\\xae$\\x82\\xceP\\x1b\\x05\\xab\\x19\\xbdm{s\\xcb1\\x9f\\x98_C<4\\x8c\\xd9{\\xff\\x12W~\\xb2l\\x14U\\xed\\xd4\\x8a\\x15\\xd9\\x19\\xb5\\x93\\xc8\\x8d\\xea@Wb-Qj\\r\\xc5|\\x01m\\xd5)_\\xaf(\\x01g(\\xa0\\x89\\xb3qG\\x0f\\x96\\xf8\\x82\\xfd\\xbd\\xdb\\x9b\\xcd\\xfdv\\xfd\\xd6\\xe7+ a\\x04Xo\\x96\\x16\\x80\\xcd\\xab\\n\\xbb\\tb]\\xd5\\xa0\\x99\\x17jax\\xb4\\x00\\xa5b\\xe7\\x89\\x1d\\x07\\xb6\\xcc\\xd3\\xd3\\x04I\\xecd\\x82+8\\xed\\xc6o\\\\\\xaf/\\x989\\x18\\xe9]\\xf0\\x8bGN\\xed\\xe2\\tDqhD\\xf2\\x81\\xcd\\x05\\xe0\\xcc\\x92R\\xab\"3\\xa6f\\x18\\x11\\xe0\\xe5$\\xcd\\x82$\\xad\\xab\\xc0LS\\xd7I\\xf9\\x1b\\\\\\xb6\\xa7q\\x0c\\n\\x11\\xfeN\\x12?\\x17O<\\x9b\\xdc\\xc5\\xe1\\xba\\xbf*T\\xf0\\xee\\xd8*7 2L\\xf2\\xe2\\x03\\x8bK\\x84\\x97:j\\xe2\\xdc\\x95M\\'\\x95\\xed(0\\xe3&\\xad\\xe2HU\\xb2\\xb2\\x00\\xae\\xe6vX\\xa3\\x02\\x7f\\x13\\x0f0\\x14)\\x9a\\xd8\\x1c3F\\xf7\\x82\\x9d\\x84\\x8b\\xf9\\xe53)pO<\\x08\\x03:\\n\\xc1g;Kt\\xf9\\xaa\\xa0\\xa4a\\x94\\xd6\\xb6\\xe7d\\x86e+\\xc4t\\xa3&\\x8a\"H\\xab\\xd0I \\x87\\x1b\\xc4\\x90/\\x87\"\\x11\\x01x\\x06\\xf1 \\xb6\\x8d\\xcf\\x89\\xdb\\xfd\\x9b\\xbc\\x0fG\\x0fm\\xf5.\\x04\\x08\\x87U\\xd4z\\xcc,\\xd1\\x8a\\xe6\\xe7\\x1e\\xaa\\x15D\\x90\\x95\\x1a$\\x05\\xb9W\\x07\\xd4uI]\\xbb91\\xf2\\xce\\xd5\\xbbH;\\xbb&\\x86+\\xf1\\x0c\\x8a\\x17\\x82tr\\xf0\\xf2>j\\xaf\\r\\r\\xbf\\xd7}\\xef\\xf6\\xaf\\xfd\\xdf@\\xd4:f\\x96@M-\\x93\\x06\\xe9\\xb2\\xa3\\xba\\x16P\\xaa:\\x88\\x1d7E0\\xb3\\x03\\x05\\x9a\\xc8\\xee\\xa0\\xd6\\xf1\\xb5\\x15\\xc0`\\x1ah##\\xce\\xf9n\\x1e\\xeey1\\xad\\xbd8\\x05\\x8b\\x03o\\xfb:F\\x16\\x00\\xcb\\xb0\\x1b\\xd5EFV\\x95\\xa9\\x19X\\x81\\x179 \\xf1MXPR;\\xa1\\xa9\\xf24\\t\\x08xF \\xcb\\x17D2\\xa9\\x9292\\xce\\x84s\\xb1[\\xae\\xd6\\x7f>\\xacw\\x17\\xeb\\xcb\\xcb\\xdb\\xc7\\x9b\\xb7\\xfd\\xac72a\\xfb\\xe3\\xa0\\r\\xf2C\\x9bKP%\\xca$\\xc8\\x92D\\xcd\\n\\xcb\\xf5\\xfd\\x1c\\x14I\\x98\\x07\\xb2\\x19\\xc1T-m\\x1f\\x9b\\xdd3\\x8e\\xa3J`D\\xc5\\xd5D\\x96\\xee(I\\xaeY\\xef\\x1c^\\x97\\xbe\\xbd\\x1e\\x7f\\t\\t\\xf7T\\r\\x99\\x93\\x0f\\nLz\\xac,\\x00\\x19a\\xf0\\xe4\\xd4\\x89\\n\\x97\\xed\\x8f,1\\x08c\\xd2\\xc00\\xab*\\xe8\\xc6P\\xa1\\x9d\\xceN\\xa1s\\xdfG^on\\xff\\x7f\\x03\\xd9\\xab\\xab|_\\xff\\xda\\xde|\\x7f\\xdd7a{3$\\x0e\\xaa\\x81\\xbdcm\\tn\\xbc\\xa1WJ+\\x82\\x17\\x84\\xb2\\xd7d1\\xac}\\xcf\\x83\\xc0\\xaf\\x8c\\x0cUZ\\xc5g\\x04\\x00\"\\xae\\x04FWt5\\xad\\x04F( \\xc2\\x17\\xd4\\xbf\\x81\\xc2\\xb6\\xeb\\x07\\x81\\xb7\\x97Hl_\\xb2\\r\\xf4\\xf4\\xab\\xa0\\xf7\\xe1\\xeb\\x89\\'\\x019\\t\\xb2\\x05CI\\xa7.\\n\\xbbn\\x90\\x8c\\x9aLEuf\\x15\\x9a\\x9b\\x81\\xc0\\xcc\\x13\\x9a\\x00Y\\xe6\\xb5\\xd3Z5\\n\\xce\\xd3`\\xbb\\xd6\\x9f\\x7f\\xce\\xb1`e~O\\xe3\\xdc\\xe2hi\\x0c\\xb6\\xdf\\x174(\\xb8\\x1chy\\x89\\xcb\\xd82W\\x00(\\xd2X\\xc5F\\x10\\xbb$G\\xc0\\xd2\\x10\\x88\\xc3\\x04UT\\x89y\\xaa\\x0b\\xf3\\xc0\\x8e`\\x85\\xc02\\x87I9\\xf98\\x17d\\x7f\\xb0\\x00\\xb6-\\xa9\\xef\\xe1Iu\\xe9\\x9e;\\xfd\\xb0H\\x87\\xb5\\xe3\\x1e3\\xb5\\xc4\\x15B\\x99\\xa9\\x89\\xa3Z\\xb5#\\x97fAu\\xd77\\xf4@\\xad\\x90\\xe39nPQ\\xbe>\\xdd\\x9e\\x81\\\\}\\x1a#\\x11\\x9f\\xa1\\xa0\\x02\\xc9\\x9c\\xa2x/+\\xce3s[y\\x9aA\\xc9\\xc2\\xc1\\xfb\\x17\\x80\\xc9\\xc4F\\x92\\x93L\\xce#j\\xba\\xa5^b\\xc7\\xd0j\\xc5\\xb3=7\\xc7\\x9a.\\xf3\\xe2\\xcb\\x82\\xc4\\xb7K\\xb3=\\r\\xc3\\x89\\xea\\xcb\\xa3\\xb2:<\\x1b\\x9d\\xb3%\\x0e\\x1d\\x11\\xb8c\\xf9\\xea\\xe0\\x8d\\xb2ke\\x01\\xbc\\xec&\\n\\x89\\xad\\x18Y\\xac\\x98\\xa0\\xae\\x83\\x80\\xe0T\\x03^Ud,\\xc2\\xb4:\\x05/\\x16E\\xf2\\xbc\\xe9\\xd5\\n\\ng\\xe8\\x18\\xc2\\xb31\\xc9^y^\\x00\\xef\\xbe\\xf5!F\\x86*+\\xf7\\x1bZ\\xa2\\x99\\xdd\\x84z\\x13BJ\\xc2\\x00f62\\x0c`*yX\\xc9U\\xe1\\xea\\xa5F:\\x9c\\xe9\\x0ei\\x93R\\x89\\xc03p6\\x11\\x9a\\xd3\\xc7~\\xafu/[\\x9a\\xb4\\xf2@\\'\\xc3\\xb6,Q:O\\xb3J\\x03,\\xdf\\xf6\\xab\\xd4\\x03\\x91f\\xc5\\xa4v\\xac,S\\xe5X\\xabj\\xb3s\\x88\\xbdP\\xfb\\xf6SoIB\\xe7\\x00n\\xb6{\\xf0\\xdf\\xb4\\xf4\\xd7\\x92\\xc7;\\xf7;\\xad4\\xfd)\\x08\\x1e\\xb5\\xb9\\xc4M\\x81\\x9b(\\x19\\xf2\\xa9\\x16\\x85\\x95i\\xc5VhF\\x81Q[0\\xb2\\xf4J\\xa7aG\\xaa\\xa7\\x93\\x92\\x8b\\xc2\\n\\t\\xe4\\x0c9\\xb9\\x00\\xe6\\xbcy=h3\\xe8\\'\\x80\\rc\\xdf\\xf6\\x1bZ\\xe2\\x8e\\xd5b\\xce\\xe6i\\x01\\xd1\\xcc\\xc6)RY11rB\\xc3\\xce\\x03\\x8f\\x84I\\xc4\\x87(]\\xfe\\x1e\\xf3 \\x80\\xc14:\\xd1\\xb8v\\x05:\\x97\\xdc\\xd9ons[\\xe7\\xbf8h\\x12\\x12O\\xdd7\\x7f\\xdbX\\xa2\\xec\\x9c #\\x89\\x90\\xadZ\\xa1\\x82\\n\\x15YZm\\xaa\\xc8\\x94+\\x84\\x8a\\x10\\xa8|\\xad\\x92\\x05\\xf8|8\\x89(\\x02Sw\\xccQZ\\xd8\\xe2\\xdcG\\xdd\\xf3:\\xbf\\xe4\\xcb,z\\xef\\xbb\\xe2i\\xbf9\\xa7c\\xd7cs\\t\\xde\\xac\\xcb6IJ\\xbd\\x80\\x92Z\\t\\xec\\x04\\x96\\x8a\\x03\\x1c\\x94\\xe8\\x85\\x1e8\\x8e\\xd7)b\"\\xc2\\x93\\xc0(\\x86\\xd3\\xae\\x10F6z\\x9d^Z\\x19\\x02%\\xd7\\x9a\\'\\x0c\\x932\\xe3M,\\xd1]\\xe2\\xc404\\x82\"\\xd5J\\x19\\xc6 &f\\xc2\\x12\\x03\\'\\xaa\\x8b\\xb4B\\xba\\xd2\\xe9.a\\x07\\n\\x97j\\x0b\\x12\\x9aH\\xb7\\x1c\\x07\\xd4lS\\x8f\\x0eVyO\\xe3\\xaa\\xcd\\xb4\\xe90v:ob\\t\\xa0<\\x97\\x00\\xcf\\xf4\\xbc\\xda\\xad v\\xa9\\x1c\\xd8u\\xa9yN\\x92\\x01\\x9bXa\\x87\\x89\\x8e\\xf8\\xe4Mb_mx\\x86\\x1bT4\\x9b\\xc4\\xdc{}?p\\xa0x\\xee\\xa7tlA\\x839\\x126\\xd4\\x02b\\x1f4\\x99\\\\G\\x8a\\xa9\\xa4\\x85\\xec\\xeaa\\x90\\xa1n\\xca\\x86\\xf86W$B\\x8a\\xcf\\xd0#\\x89\\xc8bX\\xbd\\xaa\\x13?\\xb5\\x88\\xef\\x97H\\xc00\\xdd\\xf1\\xf7\\r.!\\xb0\\x12iP\\x89I\\x06\\xbd\\xc4\\x8d\\xcb*\\xab\\xa0\\ncE\\xc9b\\xb9\\x08\\xb2\\xb8\\xea\\xb6ku\\x1a]E*\\x9e#\\x7f\\x83\\xb3\\xe9\\xabt\\xd7|?\\x868\\x8c\\xfb\\x07\\x89\\x8f\\xbfop\\t\\xedx+\\x04v\\xe2\\x06\\xb9\\xed\\xa5A\\x8c\\x1d\\x13\\xcb^\\xce\\xce7\\xd9\\xc8\\x9a\\xb8j\\xaan\\xfc\\xcf\\xc5\\x94\\x12\\xc3\\xe0,\\xdd\\xca\\xb3\\xb5~\\x1cY\\xf3\\xfd\\x88\\x84\\x1d\\x16\\xec\\xb1\\x13\\x00\\\\(!\\x08\\x14\\xe8\\xd7v\\x1a\\x824\\x91\\xe5\\xc2\\xc8\\xe4\\xa0\\xacl\\xcb\\xc2\\xb9\\n\\x81\\x92\\'<x@\\xe8\\x8cS\\x91\\xe8\\xd4\\xab\\xf0Q\\xe8\\x89\\xa7+\\xe4\\x0eH\\xbb\\x8f\\x89q>\\x95-\\xc5AC\\xa9\\x8e\\x99Z\\x00=\\xbd\\xcee\\xbd\\xf0\\x14\\xcd\\xcc\\x8cH#\\x00\\xd0&\\x0f\\x91\\xac6fl\\x174\\xeb\\x99\\xa7\\xd9\\xe11P4\\x91\\x15;\\xb2\\xd9|.\\xb1\\x95\\xeej\\xf3\\xf2\\x9b\\xad\\xb4\\x18>\\xad\\xe2\\xfc)\\xba\\x9b&\\xd6T?2}\\xd5t\\xca,+\\x10\\xfb\\x97bC\\xa2\\x84\\x90\\xf8\\x1eL\\xba\\x87\\x1f\\xe2{\\x95\\xdbp\\xf3,\\x11\\xccr\\xfb\\xe6\\xbf\\xb7\\xeb\\x8bo\\x97\\xeb}\\xec\\xd00n\\xecQ[K\\\\\\x188A\\xceN7\\x97\\x92,\\xb6|\\x8fB5-\\xcb\\x8a\\xa5\\xe3\\xc0\\x89<9\\xeaQy\\xe8(\\xc3\\xafV+z\\x86\\x92\\x17\\x12\\x16\\xc6\\xeef\\xbb\\x7fe\\x80\\xc7\\x06\\x9e/\\xb6\\x96\\xe0~\\xa9\\x96GS#Bj\\xd1\\x94\\xb9\\x8c\\r\\'\\xc4q\\xe3\\x1a\\xaeG#\\xa2\\xdb\\x1d18\\x829\\xb7#\\xec\\xd3I\\xd3\\x94\\x8b\\xc7\\x85+`6\\xe2P\\xffr\\xef\\xb6\\x87\\xc9\\xde\\xe0k\\xd5^[K\\x90\\x89\\xf4$/r\\xb7\\x89\\xd5\\xa8(\\x83P-\\x13\\x0b\\xd0\\xcc\\x0fc\\xd7\\x96\\x1d\\x0bv\\xda\\x1e\\xbb\\xe2*\\x18H/\\x82c\\x9f|\\xbb*\\xcc^I9X\\xef\\xab5\\xfb,\\xb7\\x07\\xb7u\\xab\\x81\\x04\\x86\\xf7\\xec-1\\x8d\\xd1\\xd7h\\x9a\\xe1\\xb0\\xd6l\\xa0Zy\\x1d6\\x1ae.\\xe8;~\\x96\\xc7\\x95\\xdase\\xc7m\\x9d\\xab\\x15\\x03\\xf1,\\x10.\\xbbs\\xfeZ\\xdf\\\\m\\x0f\\\\\\x10aad\\xc6\\xb7go\\x89\\xf6q\\xe4\\xf8i\\xd9\\xd0\\xaa\\xca\\x10t\\x1c\\xabJ@\\\\Un\\x02Hh\\x86Y\\xdd\\x99o\\xd3\\xb9\\xf0\\xc1+\\x86\\xe0\\x19z\\xfd!\\x9a\\xab\\xb5\\xf5`\\xc9\\xbbB\\xe1m\\xcdE\\x18\\xa6\\xccx\\xc4\\xd2\\x12\\xda8>\\xcb\\xcf\\x15\\xb7\\x905RW>\\x00f\\x967!P\\x82\\x98\\xa5yI\\x8a\\xf2\\x0f\\x0f>$a\\x16\\t\\x9f\\x03\\xb6\\xd9\\xaf\\xe9\\xda\\xc5\\xeee9 \\x16\\xdc\\x9e^\\xe4\\\\\\x96\\xe5@dT\\x00\\x1c\\xfaV\\xed\\x17\\xb0\\x84\\xa6e\\x81$\\xf2\\x9d(l \\xd2+\\xd8Q\\xbd\\xe9\\x8c\\x8b\\x16\\xdbB\\xf19\\xe6E\\x030\\x97\\x18\\xe3\\xebr\\xffb+\\xbd\\xd9\\xf5\\x13\\xc1\\xc8i\\xdb%oj\\x89<\\xc1\\xcd\\xb5R\\xad\\x89K\\xa3@\\xcd\\xad\\xbc)\\xe5\\xdc4\\x1aY\\x8e\\xe3\\xa4@jO~\\xce\\xb9\\x1c\\xfbdpE\\xcf1\\xe9{6\\x05\\xf7\\xdf\\xcb\\xfd\\xb8[\\xff\\xe8g4\\x90a\\xc3\\xa3\\x8eXZ\\xc2\\xe3b\\xd7\\xf2\\x11T\\x1b\\xd7m\\xea\\xcav\\x15WGy\\xa1\\xea\\x85\\x1b\\xa6\\xa9ou\\xae\\xc9;\\xbc\\xa2V\\x92h\"9v\\\\z\\'\\xcd\\x1d\\xa4</\\xf6\\xb1\\xbd\\xf2\\xb4\\xdb\\xf1\\x8e\\xad%\\\\\\x8e8\\xb1\\tb\\xac\\xa6$pS\\xacR\\xd5\\x06\\x05Rl\\x08\\xb0-[y\\xf1a5\\x1aK\"\\x01gH\\xef \\x9e\\xfbJ\\xe1\\xa0\\x82\\xf9\\xac\\xd4 \\x9e\\x14\\x93,W\\xb7\\xb4\\x13\\x14\\x1b\\x81\\'\\xe7\\xb1\\xa2\\x98@q\\xcc4E\\x81\\x97\\xa8\\x8a\\x1d\\x05I\\xcf`\\x0b^\\xa6O\\x94Da5\\xad\\xea<\\xae-\\x04\\xd1\\xb9Qz\\x8f\\xb0\\'\\x0e\\x94\\xf7>jk\\x89\\xe8\\xbft\\x02=\\xb7m\\xec\\x15U\\xe0&\\x86\\xaa\\x04~\\xec\\xe5\\x156dK\\x0b\\xd2.\\x9b\\x81\\x17\\x18\\xa6\"]M\\xd4\\x17\\x1e\\xd7\\xd1/\\x9c\\x1c\\x8c\\x0c\\xb80x\\x96V;\\xceN\\x07\\xe8$\\x1aJ\\x9f\\xb9%\\x88\\xb3\\xd4\\xcb*\\x0b!\\x1f\\xc6\\x04\\xe7\\xbe\\xa5\\xe6\\x15\\xd0*\\x8d\\xca\\n\\x01~\\xa0uCJ\\xde\\x01Y\\xfe\\x06\\x85s\\xd4/\\xe9\\xdc\\x07\\xdc\\xdeqt\\xb1{\\xbc\\xdb\\xae\\x7f\\x1cp\\x9eO\\xcb\\x06\\xba\\xc6\\x96\\xf0@\\xec\\x81F\\xd7\\xdc\\xbcH\\xe5&\\xf1L\\xaf&J%\\x07\\x95\\xacfD\\x89\\xf4\\x1e\\xc1\\xc4N\\x8f\\x01\\x95\\xc0\\xc4\\x96\\x90QG\\x1c\\x9d;\\xff\\xde_o^\\x9b\\xe8I\\xfaR:\\xcd\\xfdz\\xed-\\x11\\xa5 7\\xd6\\n\\xa27\\x8e\\x1b2\\x0c)$U\\xd2:`\\x98c\\x9d\\xaaUgJB\\xa7\\n\\x86\\x89\\x88\\xce\\xa1\\x12=#q\\xbd\\xa5H\\xb2c\\xea\\xfb\\xc5\\xfe\\xccCvZ\\xd0\\x81\\xd7\\xac\\xfb\\xef_b\\x90E&\\xcbQ\\xa6\\x07E\\xed\\xd5\\x91i\\x1brl\\xa4\\x01\\xa9\\xb3\\xb8L\\xd3\\xd0n\\xf8*\\x17\\x0b\\xdf\\xf8\\xf6F,\\x90\\xb3\\xf4\\xf5\\x8bp\\xb6\\x18\\xe5\\xf7\\x1a\\x7f\\xdb\\xde<\\xac\\xdf\\xda\\xc2\\x9f\\xb4\\xdb\\xd0\\xb0f\\x02\\xde\\xc6\\x12\\x12\\x0c\\x86\\xa2\\xe6\\xa4(\\xb0]XV\\xa5\\xbaq\\x92\\x16\\x8e\\x137\\xaa\\x86K\\xb5!]\\xac\\x00\\x7f1\\x00\\xda;\\xe93\\xb4\\x19\\xb3\\x9fd~\\xac\\x1e\\xdf\\xce\\xb0\\xa7\\xe6Sx*P\\x8f\\x8b\\x9c[a\\xc0\\xc2\\xfe(F\\x9eY\\x1bM\\xdc\\x8e*\\xb4\\x8b\\x06\\xd7\\t\\xac\\x8dD\\xd3\\x0b^\\x8c\\xad\\x8b\\xd2\\n 2\\xf1\\xe6m\\\\\\xe4x\\xfaD\\x9f\\xf7\"G\\xb6\\xce\\xed2\\xef\\x93\\x95\\xc90\\x99\\xd1\\xd7\\xb7.A\\xa8T\\xd2\\\\#\\xb4NL\\x16P\\xd02\\xad\\x82\\xaa\\xa0\\xec\\x0c\\xf0\\xc2L\\xf7\\xec\\xa2\\xd3\\xb8(\\xac\\xb8\\xedNZ\\xb1\\xc5\\x9b(\\x81?\\x8a\\xfb\\x8af\\xab1\\xbe\\xac\\xee\\xa1\\xa8h\\xab\\xa7\\x00\\xd9_=\\x05\\x9f\\xe5dE\\xa1N\\xb0BHc\\xe7VR*zb\\x941\\xb2\\x13P\\xcb\\x91S\\xc9\\x1a\\xee\\x14\\xf1\\x05\\x81?\\x95\\x84U\\xab\\xe1s\\x86\\xcc\\x19\\xce5\\xe6\\xf3\\xea\\xf6\\xef\\x9b\\xeb\\xdb\\xf5\\xd5\\xc5\\xfa\\xee\\x9aEj\\xad\\xbe\\xf5\\xfe\\xedK\\x0b\\x18\\x02\\x03o\\xaf\\x8f\\x98Z\\x00\\xb9\\x80\\xa2*\\xc7\\xae]yf`yY\\x96T\\xec\\xc8B^\\x06j-\\x93\\x8b\\xc0\\xe0\\x90c0\\xf1\\xc8\\xb1\\x10\\x8cLc,\\x8fC\\x0e\\xd2Y\\xa50\\xee\\x8e\\xcdsa\\x01\\xc5\\xb0\\xc8\\xefn\\xe9).j\\xe29\\x86j\\xa5\\xb2Kt\\x05&\\xa6\\xeb\\xa2\\xd8\\xad\\x1d\\xbd6)\\x8eR\\xb7\\'<\\xe7%\\xe9\\xe1ju\\x8e\\xfa\\xef\\x08e\\x8bc0\\xed\\xd6\\xdfoo.\\x1e\\xd8\\x9a\\xec:\\xfe%\\xb0/\\xe2\\xb0\\xbc\\xaake\\t\\xb8d\\x8f\\xa8\\xb1\\xee\\xear\\xa4\\xe2H\\xcf\\x15Ku\\x83\\x02\\xfa^\\xa8%Q\\x90},\\xdaK\\x00\\xc0\\xf4\\x0c\\xd1\\x1f\\xa0s\\xb6\\x8e\\xb6z!o\\xfa\\x90/Mho\\xfa\\xa0\\xec\\xb9\\xecK2,h?fj\\x91\\x89I\\xb1\\xecX\\xb8\\xf45\\xb7\\xac\\x80\\x1d\\xc7\\x11\\xf2\\x8b(I1-\\xd5@O\\xf8Z\\xb0\\xb0\\xa2\\x1d6\\x01\\xa6\\xd3\\xa2B\\x06\\x1eF_ <\\x02\\x1e\\x86\\x08\\xed\\x81\\'\\x89\\xed\\xcbV\\x88dN\\xad\\xc9\\xa7\\x15?\\x94e]\\xdf\\\\\\xedn\\xb7W{\\xc7\\x1aKS\\x06\\xdd\\x94\\x1d7\\xb6\\x88\\x12\\x97\\x13Q\\xad\\x0e\\xf3\\xc6\\xb4\\x9c\\x04\\x05UP\\x94\\x8eU\\xdb\\x95\\xec\\xc6v\\xad\\xf2\\x12O\\x82\\x04:\\xb5\\x0c0\\x91\\x945R\\xe2I\\x9a\\xdd\\xfb\\x9e\\x0e\\xa5\\x97\\x15\\xef\\xd4\\xa3\\x9e:\\xf0\\x87\\t\\x01\\x1d7\\xb6\\x08\\x8b\\\\7\\xaa\\x08\\x9a\\x84 l\\xc7 \\x8c-#I\\xa0n\\xd9\\t\\xac\\xd2\\x80\\xf2\\x91I\\xab\\x08\\xc7\\x87\\xfe\\x00O\\x9cr<N\\n\\xe8\\xf4qs\\x83\\x00\\xec\\xe8/]l\\xd9!vy\\xfd\\xf8mO\\xd1\\x10\\x90a\\x8a\\x86C\\xcc.\\xa1\\xa7@\\xa1]j\\x8a\\x9d\\xe6\\xc4\\xceM/\\xa5@\\xaf\\xa1\\x0f\\x1d\\xa8\\xd7Y\\xaa+=\\x8a\\xd9|\\xb8I\\x00\\x15\\'r%\\xc7\\xe9)\\xcc\\xaaq\\xf8\\xb4\\xfc\\xdd\\x9bPA\\x18\\x14j\\xee\\xbd{\\t.d\\xae\\xf9P\\xab\"K\\teU\\xcb\\xe3\\xc6N=]\\xd3\\x95$qL%\\xeb\\x84\\x99\\xb0\\xd3|\\x83\\xd9\\x8aM\\x9b|4Rfy\\xb6\\xf6\\xb7\\xa7\\x05~\\xf7\\n\\x94\\x0e\\xab\\xe0\\xf7\\x1bZ\\xa2.\\x1c\\xb8a\\x80\\xd5\\xcc@^LmJ\\x1d;\\xb2\\xb0\\x1c\\x06\\xc4\\xb4\\x8a\\x82V\\x1d\\xee\\xbf\\xc0\\xcf #\\x10\\xe1\\xd5\\x19\\xaaX\\x10\\xcfy\\xff\\xf9\\xbc\\xde\\x1d\\xe9\\xc9\\x96c0|[\\\\\\xb0\\xbb\\xa6\\xb0\\x01L\\xb3:\\xc4\\x84*\\x8d\\x93c\\xea\\xe7\\x19\\nC\\x05\"-Tb\\xb7\\xc3\\x15\\x17\\x00?\\xf3\\xbd\\xa5\\x1d\\x9c\\x83a\\x00\\xe6\\xcc\\xb6\\x9f\\x96\\xf99\\xf1\\xea\\xba\\xd7\\x93\\xc0\\xc50\\xeeU\\xaf\\x9d%(\\xfe\\x8aWyuH\\x13?\\xcd\\xb0\\x8fKd\\x9a\\x8aC\\x92\\xc8\\xad\\xa1b[\\n/b.\\xac:[\"a\\xbeq\\x06Q\\x0b\\x01\\xcf)K\\xf8\\xbc\\xdc\\xed\\xa0\\xef_\\xb7\\xdf\\xd8\\xe7\\xe0r\\x81\\'\\xe4\\xa4\\x13R\\xb9\\x1eSK\\xd0\\xe6\\xa0\\x1b\\xc9\\xaa\\x07\\xd5T\\xd5MRZQX\\x82F\\x8f\\xcb\\xdc.s\\xf6[\\x1dM^\\xb6\\x96\\xdc\\xd6(2\\x00&r\\xafF\\x81wz{\\xc6;\\xe0m\\xaf.\\xaeo\\xbfo{\\x9a\\x80\\x81\\x08\\xc8\\xb0\\x99\\x01\\x1d\\x1bK\\xf4\\xfef@-\\xe3R3\\x14\\x1d\\xa6zbh\\xa6JT/\\xa7f\\xaa\\x054\\xce;\\xda\\xbc\\x88\\x1f\\xaa\"\\n\\x90N\\r\\xfcG\\x8e\\n\\x9fKC\\xe1m\\x0c\\xd1K\\x91\\x83?\\xd2\\x9e\\x04\\xb0\\x87\\xb5\\xd2\\x1c\\xb5\\xb5\\xc4\\xf1\\xe6\\x042i\\x14Y\\xa5 tH\\x8d-\\xe4c\\x9c\\x19\\xb2\\x9f\"9\\xcde\\xbeo\\x1b\\xc0\\xce\\xed4lEe\\xa6\\xdd\\x03\\x8c\\x12\\xdf\\x15g\\xad&\\xb7\\xd3-\\xdbf\\xa5c5e\\x80\\xf1\\xa0@\\xbf\\xd7\\xce\\x12\\xb2\\xbb\\x91\\xee\\xd7>@a\\x14\\xbb\\xbeUa\\xa2\\xc2R7\\xa0\\x1e\\x14DFQ\\xd1\\x11m\\xea0\\x8b\\xc5Vb\\xe6\\x1c]\\xbf`6j\\xf1\\xdbD\\xd2g\\x9e[\\x9f\\xde\\x05hi\\x0c\\x83\\xe8\\xfc\\xefX[B\\xdf\\x15\"@b\\x14dr\\xa4\\xb0\\xd3MEJ\\xeaEV)#S\\xa7\\xd01;b\\x17\\x88\\xef\\xfc%\\xc2\\x8a\\xa03\\x1cq\\x08\\xcd\\xb6er\\x0b\\xde\\xdb\\x8a\\x81Fa\\xb7\\xa4\\xe35f\\x1d5\\xc4\\xf1\\x11U@\\rK\\x8b\\xf8 OC\\x10\\x96\\x9e\\x95\\xd9ug\\xe6i\\x87qE$\\xe6\\x8bg\\xe0\\x85\\xe3\\xd9\\xda~?\\x18,L\\xc0\\xa0x\\xf2s\\xe6\\t\\x87I\\xec\\xcaJ\\xac\\xbb\\xbe\\x8e\\x14T\\xa9\\xb1R\\xc0\\xdc\\xcc\\xd9Vi9\\xa6\\xa5ttI:\\xad\\xbe+\\x8a\\xc4\\xa9\\xb2\\xd7\\xa3dIf\\xeb\\xf4\\xfdk}\\xf9\\xf3\\xee\\xf6U\\x99\\x8e\\x1c\\xaa\\x93\\x0b\\x83\\xf8\"\\xbc\\x89%\\xaeob\\x10k\\xc8\\xce\\xd34\\xd6\\xd421\\xadBNqT\\x12\\x82\\xf4\\x08\\x86u\\x87\\xca\\x8f\\x10_\\x0ei\\x07f\\x9ec\\xea\\xd4\\xe9\\xc5\\xe3c@\\xb5u]N~P`g\\xf4 \\x84^\\xdf\\xbb\\x04\\xa5\\xc7.B@i\\xac\\x81\\xb0R\\xfd4\\xd0e\\xd7J\\x8b\\xd4\\xa7\\xa1\\xa9\\xba*\\xeaT\\xaa:\\xd0H\\x08I\\xd29\\xe4\\xecN\\xcf\\xa5\\x8fB\\xb3\\xa7\\xc7\\xf9\\xa4\\x00\\x7f\\xf7x}\\xbf\\xbe\\x10\\x85\\xdd\\xf6\\xdb\\xe3[\\xd9\\x8a \\x8c\\x07\\x9dX\\xef\\x1b\\\\B\"\\x8d\\x12/\\xa9U\\x95\\xa4\\xa4\\xc1\\xb2\\x02\\xd4 \\xd7\\xa2\\xc8R*`\\x87\\xc4(\\xf8\\x1a1\\xe8*\\xb6\\n+a5\\x99\\xda8\\xe2~\\x14\\xad\\xe6\\xac\\x88p\\xb9\\xf4\\xf3e\\xf60r\\xfe\\x92)4(r\\x134\\xb1B\\x15\\x126F\\x8c\\xd28F\\xc8\\xd1u\\x0f\\xc4\\xaa\\xa1wZ\\xe1Q\\'\\x9c\\x07\\x12\\x99~\\xf99\\x02\\x1d \\xcd9\\x97\\xf4\\xbd1\\x89p5lv\\xdbg\\xccH\\xf4\\xcc \\x87:\\x96\\xcb\\xb2\\xd2]\\r\\xda\\x0eF8\"Z%C\\xea\\x1b\\x91\\xd7\\xe9\\x0eD\\xbc\\xe6\\x12\\x91\\xe8\\xc4\\xc1\\x96\\xe3\\xb6\\xc4\\x11\\xcdK\\x1fA\\xf5\\xbc{\\xad\\x7f\\xae\\xb7\\xcf{\\xd8\\x9bgQ\\x01\\x0ccb\\x1d\\xb5\\xb5\\xc4iF\\x12\\x99\\xe2\\x0c\\xabr\\x13\\xa4U\\xac\\x98\\x9e\\\\\\x9bn\\x9c\\x11\\x04\\xdd\\xc0KPw#\\xe4\\xabU\\xed\\x04\"x\\x06W\\xc3\\xe2\\\\\\xa9\\xd7\\xc1z?5\\xfc\\xf5\\x9ff\\x00\\t\\'\\xed\\x8c\\xbd\\xf6\\x96`\\xaf&N\\x1d9\\xb9\\xae\\x95f\\x83]\\x1f\\xab(+\\xf4\\xd07U\\xc7tlE\\xe7\\xab\\x1f\\x0cC~h\\x1bm;\\xea>\\x1f\\xc2\\xf9\\xb4\\x97^C\\xf1\\xce\\x92_\\xf0\\x18\\xae\\x86\\xdd\\xcc\\xbcop\\t\\xbd\\xff\\xc8\\x06\\xa9\\xebdM\\x92\\xe3Zsa\\xad\\xd5\\x184\\x96\\x89\\xcdJ\\xce\\n\\xb5Sz\\xc4\\x88o?\\x03\\x04Nk\\x00\\x1dI\\xd8\\x12g\\xddC%\\xe90\\x00\\xe4\\x00d\\xe1\\t\\x18\\xee\\x84\\xbd\\xc6\\x96\\x18\\xdaf%EYf\\xa0\\x04\\xa5\\xacxU\\x18\\xa4\\xa9\\x8b\\xa9S;\\x99\\x1cU\\x9e\\xc3\\xd7\\xfc\\x99\\x07r\\xdd\\xbb\\x00R(L\\x13#\\x1f\\xe9\\x82t\\xb6]\\xf4\\xb7N\\xd2\\xb7\\xcd\\xee\\xdb\\xed\\xcd\\xe3\\xfdo\\xbe\\x81\\x08\\x91\\x00\\x07]\\xd0t\\x8d,q\\xe6%~\\x05#\\rE(\\xcb\\xaa\\\\\\xd62\\x147Z\\x85\\xfd(\\x87y]F\\x1d\\xb1, \\xf1\\xc95\\xa5/\\x85\\xac\\xf1\\\\\\x03\\t\\x88_0\\xee\\xe7\\x1a\\xb0/\\x08\\x16Vo/\\xd9\\xd7\\x85\\xbd\\x14\\xda\\xf8aN\\xb0z\\xf8;\\xc3xt{\\xef^B\\xf98\\xd3t\\x93\\xe2\\xc6\\xca2\\x13\\xd4\\x1e4-\\xec8\\xaa\\n\\x01IJ\\x80;3H\\xd9\\xa6\\xc7E\\xff+\\x08\\x804\\t\\x9e\\x91\\xbcc0\\x97\\xa2\\xd2\\xd3\\x02w\\xda/\\xb0\\x08\\x07\\xdd\\x98\\xed\\xbd{\\tbj\\red\\xfb\\xecH\"\\x06\\xb4\\xeb\\xca\\xa5e\\x05\\xb5\\x84\\x98(W\\x1b`\\xf3\\x02\\xabl\\xa7\\xe1R\\xe7\\x15\\xc1/\\xea\\x05\\x9f\\xdc\\x14\\x88O\\xf6\\x9e\\xf7r\\xb3\\xa7E~#\\x00\\xec\\x1fQd\\xd8\\x1d\\x0bob\\x89\\xa8\\xa2\\xd5\\x8f+]\\x9b\\x82\\xd2W\\xa2$\\xcfL\\x95\\xd6\\xb5\\xdf4\\x1e\\xc4q\\x86x\\x12*\\xcb+y\\x0e?F\\xa2x\\x06\\x1a\\xb8x\\xbaR\\xd2 \\xb0^g\\xd0\\xf3$p\\x02\\xc4a\\xc4\\x8fc\\xa6\\x96\\xb8\\\\1 \\xc1\\xb1S\\xe0\\x18\\xe6E^R\\xdf\\xaf\\xbdR\\xa3\\x16\\x0c*j\\xeb\\x84o\\x1ed\\x81\\x18\\x7f\\xb9\\xb2\\x12\\xa4\\xd5\\x19\\x82\\n\\x80\\xe6\\x04\\xefz\\xfb\\xefW\\xda\\xfd\\xc1\\xc5\\xca\\xb0\\xcb\\xb0\\xbdw/B[\\xf4M\\x8f\\xb8\\xa1#+\\xaaV\\xa9VB\\x92\\xc0\\xcb\\x1a\\x9a\\xc7\\xa1\\x9b\\'eGm\\x9a\\xfd\\xe0\\\\\\xfaL)\\x10\\xce!E\\xc66\\xe6\\x99\\x0e\\xabv\\x85\\xd9\\xdb\\x1f~W\\x98\\xf6nU\\xda\\x19\\xf5x\\xd8\\xa9\\xd5gf\\x89P\\xbd\\x86\\x96\\x13f\\xc0\\x08#j\\xf9\\x98\\xc5\\xe9J\\x99U\\xba\\xee\\'\\xb1\\xae\\x99\\x0e_\\xf0`\\x0e\\xc4\\x8b\\x90!H&\\xceU\\x18\\xa7?@\\xe7\\xca\\xb3~\\xaf\\xf4s\\xd9\\xfd`B/\\x8b\\xa6\\x06\\xa5W\\x1d\\x1bKHkB\\xe0\\xdaq\\n\\x12\\xe2\\xeb\\xb5b\\xc6\\xa6\\xa6\\xd9\\x95\\xa9j\\x8ac84\\xcf;#\\xf0P\\x87l\\x8f\\xc0ju\\x96Y\\\\\\xb3eU\\xbf\\xd7\\xb9\\xfd\\x0f\\xf6\\x80C\\x0e\\xf7\\xe0\\x1dp\\xdf\\xc4\\x02H)!Q\\x9b2p2\\xbd\\x8e\\x03\\xd9\\x96\\xad,vu9v=\\xc3\\x89]U\\xe6\\xe7\\x06A,r\\x19\\xd5\\x8a\\x1d\\xc0\\x13\\xe5\\x87G\\x8e\\xbd\\x9e\\xeb\\xba\\xf2\\xf7*\\xbf\\x86\\x05\\x87%\\xfb\\xa7\\xf8\\x1d\\x8a\\x83J\\xf6\\xc7L-\\xd1\\xe3\\xe95\\x86Z\\x84\\x08 E3Yl(\\x07v\\x90\\xb7\\xdd\\xb9\\xb5\\xa1f\\x9a\\xdb\\x01\\x0e\\x08|\\x97\\x19f\\xb9\\xf0\\x19\\xfa\\xdeY\\x808\\x17pO\\x84\\xd0\\'\\xa6L\\xb7!\\x97}\\xdeA\\x88\\xf16\\x96\\xe0p[\\x8d\\x177H\\xd6c_OPUfMQ\\x149\\xc9\\xca\\xa6rCDy\\xaa\\xcdk\\xe4\\xb7Wc\\x12\\x88H\\xa6\\xb5H\\x8c\\xcc\\x8b\\xc9l\\'\\xd7\\x1byw\\x9f\\xb3\\xcd\\xdcx8JO\\xef^\\x82\\xb2\\x81m\\xd4\\xe8\\xb2\\xa6\\x00\\xd3\\xcei\\x94\\xa59\\x0b\\x0b\\xad:5t\\xbfQ\\x0c\\xbf\\xd3\\xef\\x87:\\xb3\\xd3DI\\x9a<;m\\x14O{\\xbeM\\xf0i\\x85{s\\xac\\x96\\xa6\\xdd\\xb2\\xfc\\x86\\x03\\xb5x~U\\x007T\\x14Y\\xc9\\xa0\\x93\\xe6 b^\\x14\\xe4\\x9e\\x8c@\\x82C\\xc7Up\\xa7\\xd0\\x84\\xf8\\xbb\\xaf\\x15Kt\\xe0\\x19\\xc4Y\\xc0lL\\x8e\\xe7\\x95~\\xafS\\x0c\\xc3a\"-G,-1\\xe1\\x87\\xed}\\x16\\xf2\\x11\\xf4\\\\\\x88\\x88\\xe5`\\x8a\\r\\x05\\x87~\\xe4e\\x19\\xc9\\x82\\x0e7\\x8a\\x9d\\xfd\\x9c\\xa3\\xc1\\xf6\\xe2w\\x1a\\x8bmT\\xb41o\\x05\\xeae\\xc5\\xb9\\xb9LO\\x19\\xd7\\xb0\\x1e\\xdaC\\x03K\\xe8\\xf1\\x15r,\\xc7\\x1a\\xae\\x123I,\\xab2\\xcd\\xdc\\x03\\x9a*g\\x99JR\\xcb\\xe1\\x85\\xba_\\xb5g\\xf7\\xb3c@\\x11\\x99F\\x0c\\x18\\x85\\xd4\\x08A\\xdaw\\x90\\xfa\\xb5f\\xeb\\xfc\\\\3z\\xee;\\xbf[\\xff\\xdc\\x1c\\xd2\\x03\\xa0\\x08 \\xfba\\x86\\xc0\\xf6\\x8e\\xb5%.\\x97k\\x9f\\xba\\x1a\\xa28\\x08\\xa3\\xc0,b\\xa5\\x08\\xd5P\\xb1\\x1c+\\xca\\xcb(TxMS\\xc0\\x96\\x8eO\\xc2\\xd8Y\\x07\\xa6\\xd5{G\\xb5D\\x80\\xd9\\x12\\xe6_\\xeb\\xfb\\xc7\\x9fobF\\xc7\\xce7\\x01\\xe1a\\x04\\x8fw\\xed-\\xd1A\\xa6\\xe7\\xc4.\\x0c\\x03$^\\x99\\xc9\\xa9\\x17\\xa5E\\x99h\\xd0F\\x96\\x96\\xd2\\xca\\xe3k\\x1e\\xf0\\x85\\x0c\\xb0\\x17\\xe5#D\\xcf1*\\x999\\xe3\\xac\\x10\\xee5\\x9ew\\xca\\xf6\\x04\\x82a\\xc4\\xb7c\\xa6\\x96p>\\xf6\\xcd\\xf6\\r\\xc3)\\xcc\"gnWi\\xb9\\x13\\x02?iTl\\xab \\x8e\\xf8\\x98\\x9f\\x01\\xd7\\x19f\\'\\xe1i\\xc3E>\\x8d\\xd9\\xf1\\xde\\xfe\\xc9~\\xf2\\x9b\\xef\\x17?\\xd7\\xd7\\xebG\\xf6c\\xdf\\xb1\\xd4\\xf8\\xe9n\\xb8\\xcb\\xb8g\\xfe\\xdfjH\\x0c\\x82\\xf1C\\xa3K\\x14J\\x9a\\xb0\\xf6\\x90lf\\x9aQ\\xfb\\xb8\\xd2\\xab\\xc6\\xd1c\\x84\\x0cYV\\x90#W]\\x89v>\\xdf\\xa6D\\x12\\xa7i*\\x8d\\xbbz\\x16\\xc8\\\\w\\x9b\\xec\\xa7\\xb9Z\\xff\\xf9\\xb0\\xde\\xf5\\xe7\\xdc\\xec#\\x0f\\xeb-\\xeb\\xb5\\xb3\\x04[ W\\xaa\\x12\\x15\\xa0Q#_W#\\xc5\\xb4Q\\r=\\x18@\\x83\\xe8\\x9e\\t\\xf8\\xc9v\\xcc\\x05x\\xb6\\xc0\\xd3$\\xf1\\xcfO\\xbb\\xc5\\xd9D\\xf5_Z\\x9c\\x7f\\xb3\\xea{\\x8e>00\\xb5;fj\\x89<\\x81\\x05-\\x99\\xac\\xca2\\x94\\xe3\\x026q\\x94\\xe0\\xd2r\\x13\\xd9\\xf5t\\xcf\\xaf\\x9a\\xb0[>\\xe6\\x12r\\xccVr\\xaa\\x1a\\xfb\\xa8|\\\\\\x9c5\\xf8|^\\xf1\\xa7\\x80q{{\\x7f\\xb1\\xbd\\xfbq\\xfb[\\x86\\xf3\\xa5%pP\\x91\\xab\\xdf\\xd0\\x12W4j\\x9eCO\\xf7e,G\\x91\\x9c\\x86T\\x95c\"\\x17V\\\\\\x96\\x15*0?\\'\\xa6\\r\\xbc\\xb8M\\x12\\xaeDz\\x86B\\x8a8\\xab\\xc6\\xce\\xfez\\x1fh\\xa7>\\xd5\\xbc\\xf0\\xb0!1]#K\\x88p*q\\x03<\\x95b+Vr#E\\x96\\xae\\x10\\x95xJ\\\\EnYh\\xbc\\xa7\\xb5\\r\\xfb\\x1c`\\x88\\xbc\\xccB\\xf8\\\\\\xc0\\xe0\\xe9\\x8c\\x9d\\x81\\x80ue\\xf3\\xd9\\x87\\x86\\x03\\x03\\xcc>;K(\\x94\\xd1\"\\xc5a\\x9a\\xf8E\\xee\\xa8u\\x80\\x91\\x9b\\xba\\xae]\\x9b\\xa8L\\xe5\\xc2\\x83|\\xf1\\x9f}\\xeb\\xb8\\x93\\rc\\x89N\\xed\\x06\\xfc\\xa4\\xb4\\xe0\\x1d\\xd8\\x8eQBDH\\xc4Ag\\xda\\xe2\\xf9[M\\xec\\xaa\\xc8|\\xd7\\x8edS!q\\x11\\xbaT)\\xd5\\x90\\xeaY\\xa3\\x81\\x8a\\xf2\\x1b\"\\x04Bg\\xae\\x08\\xc5\\xe7Q\\xb4\\x9aK\\x9d\\xf8p\\x8d\\x9fU<\\xf6r\\xb7V3\\xe3t\\xa8\\x9e\\xcd,\\x91\\xb7\\x85*D\\x15\\xd6]\\x1b\\xfbrZ\\xfa\\xec\\xb5\\xef\\x99a\\x1c\\x00\\xc3\\xacj\\x9d\\xef\\x11\\x84\\xecCp\\x1b\"\\x0b\\x83W\\x93\\x94nGv\\x97\\xcd&\\xfb}\\xf4\\x1a\\x14\\x0f\\x1dL\\xb7\\xfc\\xed\\xa7\\xafh6I\\x13UQc\\x8f\\xed}e({\\x8aZ\\x85\\x8e\\x86\\x0c\\xa74\\r\\xc0o\\x80\\xec\\x87\\xe7B{\\x91\\x08\\xd29\\x9a\\x00O\\x0f4\\x86\\xc1\\xf4T\\xb8\\xdf\\xafhI`Pl\\xd8gf\\x89\\x82\\xb2\\xea\\x93F\\xf1\\x03\\x00t\\x93@\\x9cP;\\x8e\\xab<P3+\\xae\\xc24\\xeaD\\x86\\x14\\xf2\\x1ba+\\xb8q\\x86\\x13K8\\xbdk\\xf3}\\xc0\\xf8\\xab\\x9a\\xf6\\xbc\\x12\\xe80\\xee\\x0eob\\x89\\xd1!\\x91\\xa2\\x19E\\x13\\x04\\xc0\\x83N\\xd8N\\x0cAyV\\x87\\x96\\x11\\xa4\\xbam\\xa5\\xbcg\\xc1\\x0e\\xef\\x94\\xfd\\xac+\\x11\\x9f\\xe3\\xc8\\x9aM\\xd1\\xe3u\\x99o\\xef\\xf70\\x1a*\\xbc\\xf8\\xf6\\xe6%\\xf6=\\xdb0|P+u]\\x15\\x9aZ\\xcau\\r\\xad0\\t\\x13Y\\xc9MC\\xe9c}p5\\xfd\\x96\\x15\\x8c\\xcfP\\xd2\\x10\\xf0\\xcc\\xf1\\x04?\\x93B@\\xe20-\\xe8\\x83\\xf7/\\xc1\\xf6\\x88\\xd4H\\x03\\xc4m\\x88\\xef\\xbb\\xb2o\\xaa:\\xf0\\xa8\\x9f\\x1byR\\x19\\xaa\\x07zf9\\xf2\\x03\\xdd\\xdbIVS#\\x88Q\\xf2\\xcfsE\\x10w,Jc\\xe9\\xcfEg\\x10\\xfb\\xfep\\x03iX\\x1a|\\xd4\\xd6\\x12\\xda\\x02NE\\r=\\xb7\\n\\xafN]HC\\x8aT\\xb5\\x82T%Q\\xe1W$\\xe6\\xc5\\x16\\xdbi\\x94<t\"\\xa4g\\xd0\\xc4\\x11\\xa5\\xb9\\xa2\\x8a\\xbb\\xf5\\xfd\\xfd\\xdf\\xb7\\xbb\\xab\\x17v\\xe8\\xa1\\xcc\\n^\\r\\xdb\\x02\\xbbF\\x96\\xc8\\x81\\xcdF\\x0b\\xe3\\xcc4\\x1a\\xd5P\\x1c\\x03\\xe9Z\\x10\\xe2\\x02 #M\\xed\\xc8\\x80\\x9d\\xc9/]5\\x8f\\xb6wv\\xda8\\xb2q\\x1c\\x90\\xd9\\xc4\\xfa~\\xaf\\xf33\\x1f\\xa0;\\xf5E\\x1c&\\xba\\xd2kg\\t}\\xe7(\\xf2\\x1b\\xcdE0\\xd2i\\xa1\\xd3\\xca\\x03E\\x14\\x06AEq\\x96\\xc0\\x9atX\\x05\\x92\\xd8\\x11V\\xa7T8Ch\\x81\\xe8\\x9c\\x97bw\\x9b_\\xdf\\x1e\\xd9O{\\xb3\\xa7\\xd0v\\xa8\\x8a\\tW\\xc3\\x98\\xf7G,-\\x11x\\x84f\\x1dYF\\xea\\x84\\x85]\\xb8\\x9a\\x1c\\x83\\xd2Oq&{\\xd8\\x88\\xcc\\xd2\\xe8\\x94\\xe4\\xbb\\xd3\\xffD\\xc4\\xb2\\xb03hc\\xc2\\xd5\\\\\\xf7_w\\xec\\xf3mY\\xd4}\\xf3\\xac\\x8cxT\\xedM\\xa0`PI\\xe3]{K`\\x08\\x91Z\\x87\\xc85<_O\\xf3\\x08\\xea\\xa4\\xa8\\xea\\xd8PU\\xd8\\x90\\xc0\\xa4|\\xf0\\xd8\\x9d\\xe2#\\xad0\\xf3\\x8a\\xcf?\\xde\\xe0l\\xc5\\xa8\\xbb\\xcd\\xae%\\xe1\\xaco\\x0e\\x86It=\\xb0\\xbd\\xca\\x19\\xd4T\\xf6\\xbe\\xc1%\\x18!4\\xaah]!=G\\xbe\\x0fP\\xa0\\xd1\"Bu\\x16R\\xd7(h\\xdaCV\\xc5\\xbcb\\x0b\\x84\\x94\\x9e\\xe1n\\x0c\\x9d>]d\\x18\\x88\\xfb3j\\xdf\\xe6\\xd6\\xee~=\\xee\\xf6G\\x17#\\xb6\\x87\\x0f;\\x0c\\x87[_\\x00^\\xe0@\\xcf\\xaf\\xb0G2\\xc5\\xb7(\\x94m\\x15\\x15F\\xa1\\xf9al\\x99\\x06\\xc8\\xf8\\xf4\\x9b\\x85\\xa0\\x1d\\xc9hH\\xa53t\\xa5\\tp.9\\xd47\\x00^\\xaeS\\x8e\\xcc\\x8fyj\\xccX\\x89\\x03\\x0f\\xca\\x0fl.QI\\xc1N\\x80\\x0c\\x1a\\xc7nUV \\xc8\\xcc\\xcc\\xd3\\xf4\\xa2J\\x928\\x8b\\rC\\xe1\\xc5]`\\xe7\\x92\\x86\\x05@\\x0c\\xca3d\\x82\\xf3\\xa9\\xbb\\xbc\\xad{\\xefe\\xa8(`4\\x889\\xd9kg\\x01\\xcc\\xb0\\x92U^]\\xd5\\xbe\\xdd\\xc4r\\x03\\xb0\\xac\\x84T\\xad\\xa1\\xe18\\xb1\\xa6\\x87igw\\x85<\\xefU\\xc2T\\x9c8\\x92\\xf5\\xb3$\\x02\\xdf\\x8dP\\x0f\\x96\\xbb\\xcf\\xf3\\x04\"\\x9cx@.~+\\x8ai\\x98\\xd5\\xae\\x1b`\\xad\\xf2\\x91\\x17j\\xa6\\x93X\\x89\\xc32BS\\xce\\x02\\xe6v\\x1d\\x87\\xe3/\\xb3W\\x00\\xe1i\\r\\xa2#\\xfd\\xedt\\t\\xf0c\\xc0\\x1d\\xed\\x07`\\xe17\\x1c6T\\xf73:\\x01P\\x14\\x95v\\x8e\\x9d\\x8a\\xea\\x8d\\x8f-\\xbd\\x8a\\xe2\\xb0\\xa62\\xf1\\xf4Z1\\xc2T\\xe5\\xfdL\\x10\\xf9\\xb1\\x16\\x02&\\xd2\\xb4(f\\x14\\x9b\\x0e\\xcd\\xda\\x08\\xd02\\xf8\\xdb\\xf2H\\xcfe\\x9b\\x80\\x84a\\x9c\\x83\\x8e\\x8d%T\\xbe\\xe30\\xf7\\xe3Z\\xc9d\\x0b\\x07\\xaeZ\\x98v\\\\\\xe9\\xc8\\xb5\\xab\\xa0\\xb2`\\xe9v'"
      ]
     },
     "execution_count": 183,
     "metadata": {},
     "output_type": "execute_result"
    }
   ],
   "source": [
    "o.unused_data"
   ]
  },
  {
   "cell_type": "code",
   "execution_count": 186,
   "metadata": {},
   "outputs": [],
   "source": [
    "r.close()"
   ]
  },
  {
   "cell_type": "code",
   "execution_count": 199,
   "metadata": {},
   "outputs": [],
   "source": [
    "chunk_size = 1024*8\n",
    "n_chunks = 50\n",
    "\n",
    "r = requests.get(url, stream=True)\n",
    "#     data_stream = decompress_stream(r.iter_content(chunk_size))\n",
    "data_stream = r.iter_content(chunk_size)\n",
    "o = zlib.decompressobj(16 + zlib.MAX_WBITS)\n",
    "\n",
    "ns = np.arange(n_chunks)\n",
    "# data = ''\n",
    "data_size = []\n",
    "save_file_name = url.split('/')[-1]#.replace('.gz', '')\n",
    "save_path = os.path.join(index_folder, save_file_name)\n",
    "save_file = open(save_path, 'wb')\n",
    "\n",
    "for _ in ns:\n",
    "    chunk = next(data_stream)\n",
    "#     decomp_chunk = o.decompress(chunk)\n",
    "#     data += chunk\n",
    "#     data_size.append(len(data))\n",
    "    save_file.write(chunk)\n",
    "    data_size.append(os.path.getsize(save_path))\n",
    "\n",
    "r.close()\n",
    "save_file.close()"
   ]
  },
  {
   "cell_type": "code",
   "execution_count": 200,
   "metadata": {},
   "outputs": [
    {
     "data": {
      "image/png": "[encoded data removed]",
      "text/plain": [
       "<Figure size 432x288 with 1 Axes>"
      ]
     },
     "metadata": {
      "needs_background": "light"
     },
     "output_type": "display_data"
    }
   ],
   "source": [
    "# plt.scatter(ns1, data_size1, label=f'Chunk size = 512 MB')\n",
    "# plt.scatter(ns0, data_size0, label=f'Chunk size = {chunk_size} MB')\n",
    "plt.scatter(ns, data_size, label='')\n",
    "\n",
    "# plt.scatter(ns4, data_size4, label=f'Chunk size = {chunk_size*4} MB')\n",
    "plt.scatter(ns8, data_size8, label=f'Chunk size = {chunk_size} MB')\n",
    "# plt.scatter(ns16, data_size16, label=f'Chunk size = {chunk_size*16} MB')\n",
    "\n",
    "plt.title(f'Chunk size = {chunk_size} MB')\n",
    "plt.xlabel('Number of chunks downloaded')\n",
    "plt.ylabel('Number of btyes downloaded')\n",
    "plt.legend();"
   ]
  },
  {
   "cell_type": "code",
   "execution_count": 202,
   "metadata": {},
   "outputs": [],
   "source": [
    "import gzip"
   ]
  },
  {
   "cell_type": "code",
   "execution_count": 201,
   "metadata": {},
   "outputs": [
    {
     "data": {
      "text/plain": [
       "'../data/raw/index-files/cdx-00000.gz'"
      ]
     },
     "execution_count": 201,
     "metadata": {},
     "output_type": "execute_result"
    }
   ],
   "source": [
    "save_path"
   ]
  },
  {
   "cell_type": "code",
   "execution_count": 203,
   "metadata": {},
   "outputs": [],
   "source": [
    "decomp_file = extract_file(save_path)"
   ]
  },
  {
   "cell_type": "code",
   "execution_count": 204,
   "metadata": {},
   "outputs": [
    {
     "data": {
      "text/plain": [
       "'../data/raw/index-files/cdx-00000'"
      ]
     },
     "execution_count": 204,
     "metadata": {},
     "output_type": "execute_result"
    }
   ],
   "source": [
    "decomp_file"
   ]
  },
  {
   "cell_type": "code",
   "execution_count": 206,
   "metadata": {},
   "outputs": [],
   "source": [
    "with open(decomp_file, 'rb') as f:\n",
    "    data = f.read()"
   ]
  },
  {
   "cell_type": "code",
   "execution_count": 207,
   "metadata": {},
   "outputs": [
    {
     "data": {
      "text/plain": [
       "221184"
      ]
     },
     "execution_count": 207,
     "metadata": {},
     "output_type": "execute_result"
    }
   ],
   "source": [
    "len(data)"
   ]
  },
  {
   "cell_type": "markdown",
   "metadata": {},
   "source": [
    "Ran script to download data"
   ]
  },
  {
   "cell_type": "code",
   "execution_count": 208,
   "metadata": {},
   "outputs": [],
   "source": [
    "for file in os.listdir(index_folder):\n",
    "    old_path = os.path.join(index_folder, file)\n",
    "    new_file_name = file + '.gz'\n",
    "    new_path = os.path.join(index_folder, new_file_name)\n",
    "    os.rename(old_path, new_path)"
   ]
  },
  {
   "cell_type": "markdown",
   "metadata": {},
   "source": [
    "Parse Data"
   ]
  },
  {
   "cell_type": "code",
   "execution_count": 211,
   "metadata": {
    "collapsed": true
   },
   "outputs": [
    {
     "ename": "EOFError",
     "evalue": "Compressed file ended before the end-of-stream marker was reached",
     "output_type": "error",
     "traceback": [
      "\u001b[0;31m---------------------------------------------------------------------------\u001b[0m",
      "\u001b[0;31mEOFError\u001b[0m                                  Traceback (most recent call last)",
      "\u001b[0;32m<ipython-input-211-6e71e1dc9c41>\u001b[0m in \u001b[0;36m<module>\u001b[0;34m\u001b[0m\n\u001b[1;32m      1\u001b[0m \u001b[0mfile_name\u001b[0m \u001b[0;34m=\u001b[0m \u001b[0;34m'cdx-00000.gz'\u001b[0m\u001b[0;34m\u001b[0m\u001b[0;34m\u001b[0m\u001b[0m\n\u001b[1;32m      2\u001b[0m \u001b[0mfile_path\u001b[0m \u001b[0;34m=\u001b[0m \u001b[0mos\u001b[0m\u001b[0;34m.\u001b[0m\u001b[0mpath\u001b[0m\u001b[0;34m.\u001b[0m\u001b[0mjoin\u001b[0m\u001b[0;34m(\u001b[0m\u001b[0mindex_folder\u001b[0m\u001b[0;34m,\u001b[0m \u001b[0mfile\u001b[0m\u001b[0;34m)\u001b[0m\u001b[0;34m\u001b[0m\u001b[0;34m\u001b[0m\u001b[0m\n\u001b[0;32m----> 3\u001b[0;31m \u001b[0mextracted_path\u001b[0m \u001b[0;34m=\u001b[0m \u001b[0mextract_file\u001b[0m\u001b[0;34m(\u001b[0m\u001b[0mfile_path\u001b[0m\u001b[0;34m)\u001b[0m\u001b[0;34m\u001b[0m\u001b[0;34m\u001b[0m\u001b[0m\n\u001b[0m\u001b[1;32m      4\u001b[0m \u001b[0;34m\u001b[0m\u001b[0m\n\u001b[1;32m      5\u001b[0m \u001b[0;32mwith\u001b[0m \u001b[0mopen\u001b[0m\u001b[0;34m(\u001b[0m\u001b[0mextracted_path\u001b[0m\u001b[0;34m,\u001b[0m \u001b[0;34m'rb'\u001b[0m\u001b[0;34m)\u001b[0m \u001b[0;32mas\u001b[0m \u001b[0mf\u001b[0m\u001b[0;34m:\u001b[0m\u001b[0;34m\u001b[0m\u001b[0;34m\u001b[0m\u001b[0m\n",
      "\u001b[0;32m<ipython-input-2-c7bd079b81ed>\u001b[0m in \u001b[0;36mextract_file\u001b[0;34m(file_path)\u001b[0m\n\u001b[1;32m      6\u001b[0m         \u001b[0;32mwith\u001b[0m \u001b[0mgzip\u001b[0m\u001b[0;34m.\u001b[0m\u001b[0mopen\u001b[0m\u001b[0;34m(\u001b[0m\u001b[0mfile_path\u001b[0m\u001b[0;34m,\u001b[0m \u001b[0;34m'rb'\u001b[0m\u001b[0;34m)\u001b[0m \u001b[0;32mas\u001b[0m \u001b[0mf_in\u001b[0m\u001b[0;34m:\u001b[0m\u001b[0;34m\u001b[0m\u001b[0;34m\u001b[0m\u001b[0m\n\u001b[1;32m      7\u001b[0m             \u001b[0;32mwith\u001b[0m \u001b[0mopen\u001b[0m\u001b[0;34m(\u001b[0m\u001b[0munzipped_path\u001b[0m\u001b[0;34m,\u001b[0m \u001b[0;34m'wb'\u001b[0m\u001b[0;34m)\u001b[0m \u001b[0;32mas\u001b[0m \u001b[0mf_out\u001b[0m\u001b[0;34m:\u001b[0m\u001b[0;34m\u001b[0m\u001b[0;34m\u001b[0m\u001b[0m\n\u001b[0;32m----> 8\u001b[0;31m                 \u001b[0mshutil\u001b[0m\u001b[0;34m.\u001b[0m\u001b[0mcopyfileobj\u001b[0m\u001b[0;34m(\u001b[0m\u001b[0mf_in\u001b[0m\u001b[0;34m,\u001b[0m \u001b[0mf_out\u001b[0m\u001b[0;34m)\u001b[0m\u001b[0;34m\u001b[0m\u001b[0;34m\u001b[0m\u001b[0m\n\u001b[0m\u001b[1;32m      9\u001b[0m \u001b[0;34m\u001b[0m\u001b[0m\n\u001b[1;32m     10\u001b[0m     \u001b[0;32mreturn\u001b[0m \u001b[0munzipped_path\u001b[0m\u001b[0;34m\u001b[0m\u001b[0;34m\u001b[0m\u001b[0m\n",
      "\u001b[0;32m~/anaconda3/lib/python3.6/shutil.py\u001b[0m in \u001b[0;36mcopyfileobj\u001b[0;34m(fsrc, fdst, length)\u001b[0m\n\u001b[1;32m     77\u001b[0m     \u001b[0;34m\"\"\"copy data from file-like object fsrc to file-like object fdst\"\"\"\u001b[0m\u001b[0;34m\u001b[0m\u001b[0;34m\u001b[0m\u001b[0m\n\u001b[1;32m     78\u001b[0m     \u001b[0;32mwhile\u001b[0m \u001b[0;36m1\u001b[0m\u001b[0;34m:\u001b[0m\u001b[0;34m\u001b[0m\u001b[0;34m\u001b[0m\u001b[0m\n\u001b[0;32m---> 79\u001b[0;31m         \u001b[0mbuf\u001b[0m \u001b[0;34m=\u001b[0m \u001b[0mfsrc\u001b[0m\u001b[0;34m.\u001b[0m\u001b[0mread\u001b[0m\u001b[0;34m(\u001b[0m\u001b[0mlength\u001b[0m\u001b[0;34m)\u001b[0m\u001b[0;34m\u001b[0m\u001b[0;34m\u001b[0m\u001b[0m\n\u001b[0m\u001b[1;32m     80\u001b[0m         \u001b[0;32mif\u001b[0m \u001b[0;32mnot\u001b[0m \u001b[0mbuf\u001b[0m\u001b[0;34m:\u001b[0m\u001b[0;34m\u001b[0m\u001b[0;34m\u001b[0m\u001b[0m\n\u001b[1;32m     81\u001b[0m             \u001b[0;32mbreak\u001b[0m\u001b[0;34m\u001b[0m\u001b[0;34m\u001b[0m\u001b[0m\n",
      "\u001b[0;32m~/anaconda3/lib/python3.6/gzip.py\u001b[0m in \u001b[0;36mread\u001b[0;34m(self, size)\u001b[0m\n\u001b[1;32m    274\u001b[0m             \u001b[0;32mimport\u001b[0m \u001b[0merrno\u001b[0m\u001b[0;34m\u001b[0m\u001b[0;34m\u001b[0m\u001b[0m\n\u001b[1;32m    275\u001b[0m             \u001b[0;32mraise\u001b[0m \u001b[0mOSError\u001b[0m\u001b[0;34m(\u001b[0m\u001b[0merrno\u001b[0m\u001b[0;34m.\u001b[0m\u001b[0mEBADF\u001b[0m\u001b[0;34m,\u001b[0m \u001b[0;34m\"read() on write-only GzipFile object\"\u001b[0m\u001b[0;34m)\u001b[0m\u001b[0;34m\u001b[0m\u001b[0;34m\u001b[0m\u001b[0m\n\u001b[0;32m--> 276\u001b[0;31m         \u001b[0;32mreturn\u001b[0m \u001b[0mself\u001b[0m\u001b[0;34m.\u001b[0m\u001b[0m_buffer\u001b[0m\u001b[0;34m.\u001b[0m\u001b[0mread\u001b[0m\u001b[0;34m(\u001b[0m\u001b[0msize\u001b[0m\u001b[0;34m)\u001b[0m\u001b[0;34m\u001b[0m\u001b[0;34m\u001b[0m\u001b[0m\n\u001b[0m\u001b[1;32m    277\u001b[0m \u001b[0;34m\u001b[0m\u001b[0m\n\u001b[1;32m    278\u001b[0m     \u001b[0;32mdef\u001b[0m \u001b[0mread1\u001b[0m\u001b[0;34m(\u001b[0m\u001b[0mself\u001b[0m\u001b[0;34m,\u001b[0m \u001b[0msize\u001b[0m\u001b[0;34m=\u001b[0m\u001b[0;34m-\u001b[0m\u001b[0;36m1\u001b[0m\u001b[0;34m)\u001b[0m\u001b[0;34m:\u001b[0m\u001b[0;34m\u001b[0m\u001b[0;34m\u001b[0m\u001b[0m\n",
      "\u001b[0;32m~/anaconda3/lib/python3.6/_compression.py\u001b[0m in \u001b[0;36mreadinto\u001b[0;34m(self, b)\u001b[0m\n\u001b[1;32m     66\u001b[0m     \u001b[0;32mdef\u001b[0m \u001b[0mreadinto\u001b[0m\u001b[0;34m(\u001b[0m\u001b[0mself\u001b[0m\u001b[0;34m,\u001b[0m \u001b[0mb\u001b[0m\u001b[0;34m)\u001b[0m\u001b[0;34m:\u001b[0m\u001b[0;34m\u001b[0m\u001b[0;34m\u001b[0m\u001b[0m\n\u001b[1;32m     67\u001b[0m         \u001b[0;32mwith\u001b[0m \u001b[0mmemoryview\u001b[0m\u001b[0;34m(\u001b[0m\u001b[0mb\u001b[0m\u001b[0;34m)\u001b[0m \u001b[0;32mas\u001b[0m \u001b[0mview\u001b[0m\u001b[0;34m,\u001b[0m \u001b[0mview\u001b[0m\u001b[0;34m.\u001b[0m\u001b[0mcast\u001b[0m\u001b[0;34m(\u001b[0m\u001b[0;34m\"B\"\u001b[0m\u001b[0;34m)\u001b[0m \u001b[0;32mas\u001b[0m \u001b[0mbyte_view\u001b[0m\u001b[0;34m:\u001b[0m\u001b[0;34m\u001b[0m\u001b[0;34m\u001b[0m\u001b[0m\n\u001b[0;32m---> 68\u001b[0;31m             \u001b[0mdata\u001b[0m \u001b[0;34m=\u001b[0m \u001b[0mself\u001b[0m\u001b[0;34m.\u001b[0m\u001b[0mread\u001b[0m\u001b[0;34m(\u001b[0m\u001b[0mlen\u001b[0m\u001b[0;34m(\u001b[0m\u001b[0mbyte_view\u001b[0m\u001b[0;34m)\u001b[0m\u001b[0;34m)\u001b[0m\u001b[0;34m\u001b[0m\u001b[0;34m\u001b[0m\u001b[0m\n\u001b[0m\u001b[1;32m     69\u001b[0m             \u001b[0mbyte_view\u001b[0m\u001b[0;34m[\u001b[0m\u001b[0;34m:\u001b[0m\u001b[0mlen\u001b[0m\u001b[0;34m(\u001b[0m\u001b[0mdata\u001b[0m\u001b[0;34m)\u001b[0m\u001b[0;34m]\u001b[0m \u001b[0;34m=\u001b[0m \u001b[0mdata\u001b[0m\u001b[0;34m\u001b[0m\u001b[0;34m\u001b[0m\u001b[0m\n\u001b[1;32m     70\u001b[0m         \u001b[0;32mreturn\u001b[0m \u001b[0mlen\u001b[0m\u001b[0;34m(\u001b[0m\u001b[0mdata\u001b[0m\u001b[0;34m)\u001b[0m\u001b[0;34m\u001b[0m\u001b[0;34m\u001b[0m\u001b[0m\n",
      "\u001b[0;32m~/anaconda3/lib/python3.6/gzip.py\u001b[0m in \u001b[0;36mread\u001b[0;34m(self, size)\u001b[0m\n\u001b[1;32m    480\u001b[0m                 \u001b[0;32mbreak\u001b[0m\u001b[0;34m\u001b[0m\u001b[0;34m\u001b[0m\u001b[0m\n\u001b[1;32m    481\u001b[0m             \u001b[0;32mif\u001b[0m \u001b[0mbuf\u001b[0m \u001b[0;34m==\u001b[0m \u001b[0;34mb\"\"\u001b[0m\u001b[0;34m:\u001b[0m\u001b[0;34m\u001b[0m\u001b[0;34m\u001b[0m\u001b[0m\n\u001b[0;32m--> 482\u001b[0;31m                 raise EOFError(\"Compressed file ended before the \"\n\u001b[0m\u001b[1;32m    483\u001b[0m                                \"end-of-stream marker was reached\")\n\u001b[1;32m    484\u001b[0m \u001b[0;34m\u001b[0m\u001b[0m\n",
      "\u001b[0;31mEOFError\u001b[0m: Compressed file ended before the end-of-stream marker was reached"
     ]
    }
   ],
   "source": [
    "file_name = 'cdx-00000.gz'\n",
    "file_path = os.path.join(index_folder, file)\n",
    "extracted_path = extract_file(file_path)"
   ]
  },
  {
   "cell_type": "code",
   "execution_count": 215,
   "metadata": {
    "collapsed": true
   },
   "outputs": [
    {
     "ename": "EOFError",
     "evalue": "Compressed file ended before the end-of-stream marker was reached",
     "output_type": "error",
     "traceback": [
      "\u001b[0;31m---------------------------------------------------------------------------\u001b[0m",
      "\u001b[0;31mEOFError\u001b[0m                                  Traceback (most recent call last)",
      "\u001b[0;32m<ipython-input-215-f6a61caeb1fe>\u001b[0m in \u001b[0;36m<module>\u001b[0;34m\u001b[0m\n\u001b[1;32m      1\u001b[0m \u001b[0;32mwith\u001b[0m \u001b[0mgzip\u001b[0m\u001b[0;34m.\u001b[0m\u001b[0mopen\u001b[0m\u001b[0;34m(\u001b[0m\u001b[0mfile_path\u001b[0m\u001b[0;34m,\u001b[0m \u001b[0;34m'rb'\u001b[0m\u001b[0;34m)\u001b[0m \u001b[0;32mas\u001b[0m \u001b[0mf\u001b[0m\u001b[0;34m:\u001b[0m\u001b[0;34m\u001b[0m\u001b[0;34m\u001b[0m\u001b[0m\n\u001b[0;32m----> 2\u001b[0;31m     \u001b[0mdata\u001b[0m \u001b[0;34m=\u001b[0m \u001b[0mf\u001b[0m\u001b[0;34m.\u001b[0m\u001b[0mreadlines\u001b[0m\u001b[0;34m(\u001b[0m\u001b[0;34m)\u001b[0m\u001b[0;34m\u001b[0m\u001b[0;34m\u001b[0m\u001b[0m\n\u001b[0m",
      "\u001b[0;32m~/anaconda3/lib/python3.6/gzip.py\u001b[0m in \u001b[0;36mreadline\u001b[0;34m(self, size)\u001b[0m\n\u001b[1;32m    372\u001b[0m     \u001b[0;32mdef\u001b[0m \u001b[0mreadline\u001b[0m\u001b[0;34m(\u001b[0m\u001b[0mself\u001b[0m\u001b[0;34m,\u001b[0m \u001b[0msize\u001b[0m\u001b[0;34m=\u001b[0m\u001b[0;34m-\u001b[0m\u001b[0;36m1\u001b[0m\u001b[0;34m)\u001b[0m\u001b[0;34m:\u001b[0m\u001b[0;34m\u001b[0m\u001b[0;34m\u001b[0m\u001b[0m\n\u001b[1;32m    373\u001b[0m         \u001b[0mself\u001b[0m\u001b[0;34m.\u001b[0m\u001b[0m_check_not_closed\u001b[0m\u001b[0;34m(\u001b[0m\u001b[0;34m)\u001b[0m\u001b[0;34m\u001b[0m\u001b[0;34m\u001b[0m\u001b[0m\n\u001b[0;32m--> 374\u001b[0;31m         \u001b[0;32mreturn\u001b[0m \u001b[0mself\u001b[0m\u001b[0;34m.\u001b[0m\u001b[0m_buffer\u001b[0m\u001b[0;34m.\u001b[0m\u001b[0mreadline\u001b[0m\u001b[0;34m(\u001b[0m\u001b[0msize\u001b[0m\u001b[0;34m)\u001b[0m\u001b[0;34m\u001b[0m\u001b[0;34m\u001b[0m\u001b[0m\n\u001b[0m\u001b[1;32m    375\u001b[0m \u001b[0;34m\u001b[0m\u001b[0m\n\u001b[1;32m    376\u001b[0m \u001b[0;34m\u001b[0m\u001b[0m\n",
      "\u001b[0;32m~/anaconda3/lib/python3.6/_compression.py\u001b[0m in \u001b[0;36mreadinto\u001b[0;34m(self, b)\u001b[0m\n\u001b[1;32m     66\u001b[0m     \u001b[0;32mdef\u001b[0m \u001b[0mreadinto\u001b[0m\u001b[0;34m(\u001b[0m\u001b[0mself\u001b[0m\u001b[0;34m,\u001b[0m \u001b[0mb\u001b[0m\u001b[0;34m)\u001b[0m\u001b[0;34m:\u001b[0m\u001b[0;34m\u001b[0m\u001b[0;34m\u001b[0m\u001b[0m\n\u001b[1;32m     67\u001b[0m         \u001b[0;32mwith\u001b[0m \u001b[0mmemoryview\u001b[0m\u001b[0;34m(\u001b[0m\u001b[0mb\u001b[0m\u001b[0;34m)\u001b[0m \u001b[0;32mas\u001b[0m \u001b[0mview\u001b[0m\u001b[0;34m,\u001b[0m \u001b[0mview\u001b[0m\u001b[0;34m.\u001b[0m\u001b[0mcast\u001b[0m\u001b[0;34m(\u001b[0m\u001b[0;34m\"B\"\u001b[0m\u001b[0;34m)\u001b[0m \u001b[0;32mas\u001b[0m \u001b[0mbyte_view\u001b[0m\u001b[0;34m:\u001b[0m\u001b[0;34m\u001b[0m\u001b[0;34m\u001b[0m\u001b[0m\n\u001b[0;32m---> 68\u001b[0;31m             \u001b[0mdata\u001b[0m \u001b[0;34m=\u001b[0m \u001b[0mself\u001b[0m\u001b[0;34m.\u001b[0m\u001b[0mread\u001b[0m\u001b[0;34m(\u001b[0m\u001b[0mlen\u001b[0m\u001b[0;34m(\u001b[0m\u001b[0mbyte_view\u001b[0m\u001b[0;34m)\u001b[0m\u001b[0;34m)\u001b[0m\u001b[0;34m\u001b[0m\u001b[0;34m\u001b[0m\u001b[0m\n\u001b[0m\u001b[1;32m     69\u001b[0m             \u001b[0mbyte_view\u001b[0m\u001b[0;34m[\u001b[0m\u001b[0;34m:\u001b[0m\u001b[0mlen\u001b[0m\u001b[0;34m(\u001b[0m\u001b[0mdata\u001b[0m\u001b[0;34m)\u001b[0m\u001b[0;34m]\u001b[0m \u001b[0;34m=\u001b[0m \u001b[0mdata\u001b[0m\u001b[0;34m\u001b[0m\u001b[0;34m\u001b[0m\u001b[0m\n\u001b[1;32m     70\u001b[0m         \u001b[0;32mreturn\u001b[0m \u001b[0mlen\u001b[0m\u001b[0;34m(\u001b[0m\u001b[0mdata\u001b[0m\u001b[0;34m)\u001b[0m\u001b[0;34m\u001b[0m\u001b[0;34m\u001b[0m\u001b[0m\n",
      "\u001b[0;32m~/anaconda3/lib/python3.6/gzip.py\u001b[0m in \u001b[0;36mread\u001b[0;34m(self, size)\u001b[0m\n\u001b[1;32m    480\u001b[0m                 \u001b[0;32mbreak\u001b[0m\u001b[0;34m\u001b[0m\u001b[0;34m\u001b[0m\u001b[0m\n\u001b[1;32m    481\u001b[0m             \u001b[0;32mif\u001b[0m \u001b[0mbuf\u001b[0m \u001b[0;34m==\u001b[0m \u001b[0;34mb\"\"\u001b[0m\u001b[0;34m:\u001b[0m\u001b[0;34m\u001b[0m\u001b[0;34m\u001b[0m\u001b[0m\n\u001b[0;32m--> 482\u001b[0;31m                 raise EOFError(\"Compressed file ended before the \"\n\u001b[0m\u001b[1;32m    483\u001b[0m                                \"end-of-stream marker was reached\")\n\u001b[1;32m    484\u001b[0m \u001b[0;34m\u001b[0m\u001b[0m\n",
      "\u001b[0;31mEOFError\u001b[0m: Compressed file ended before the end-of-stream marker was reached"
     ]
    }
   ],
   "source": [
    "with gzip.open(file_path, 'rb') as f:\n",
    "    data = f.readlines()"
   ]
  },
  {
   "cell_type": "code",
   "execution_count": 216,
   "metadata": {},
   "outputs": [
    {
     "ename": "error",
     "evalue": "Error -3 while decompressing data: incorrect header check",
     "output_type": "error",
     "traceback": [
      "\u001b[0;31m---------------------------------------------------------------------------\u001b[0m",
      "\u001b[0;31merror\u001b[0m                                     Traceback (most recent call last)",
      "\u001b[0;32m<ipython-input-216-6ccab91795d7>\u001b[0m in \u001b[0;36m<module>\u001b[0;34m\u001b[0m\n\u001b[1;32m      5\u001b[0m     \u001b[0mchunk\u001b[0m \u001b[0;34m=\u001b[0m \u001b[0mf\u001b[0m\u001b[0;34m.\u001b[0m\u001b[0mread\u001b[0m\u001b[0;34m(\u001b[0m\u001b[0mCHUNKSIZE\u001b[0m\u001b[0;34m)\u001b[0m\u001b[0;34m\u001b[0m\u001b[0;34m\u001b[0m\u001b[0m\n\u001b[1;32m      6\u001b[0m     \u001b[0;32mwhile\u001b[0m \u001b[0mchunk\u001b[0m\u001b[0;34m:\u001b[0m\u001b[0;34m\u001b[0m\u001b[0;34m\u001b[0m\u001b[0m\n\u001b[0;32m----> 7\u001b[0;31m         \u001b[0mdata\u001b[0m \u001b[0;34m=\u001b[0m \u001b[0mo\u001b[0m\u001b[0;34m.\u001b[0m\u001b[0mdecompress\u001b[0m\u001b[0;34m(\u001b[0m\u001b[0mchunk\u001b[0m\u001b[0;34m)\u001b[0m\u001b[0;34m\u001b[0m\u001b[0;34m\u001b[0m\u001b[0m\n\u001b[0m\u001b[1;32m      8\u001b[0m         \u001b[0mchunk\u001b[0m \u001b[0;34m=\u001b[0m \u001b[0mf\u001b[0m\u001b[0;34m.\u001b[0m\u001b[0mread\u001b[0m\u001b[0;34m(\u001b[0m\u001b[0mCHUNKSIZE\u001b[0m\u001b[0;34m)\u001b[0m\u001b[0;34m\u001b[0m\u001b[0;34m\u001b[0m\u001b[0m\n\u001b[1;32m      9\u001b[0m \u001b[0;34m\u001b[0m\u001b[0m\n",
      "\u001b[0;31merror\u001b[0m: Error -3 while decompressing data: incorrect header check"
     ]
    }
   ],
   "source": [
    "o = zlib.decompressobj(16 + zlib.MAX_WBITS)\n",
    "CHUNKSIZE = 1024\n",
    "\n",
    "with gzip.open(file_path, 'rb') as f:\n",
    "    chunk = f.read(CHUNKSIZE)\n",
    "    while chunk:\n",
    "        data = o.decompress(chunk)\n",
    "        chunk = f.read(CHUNKSIZE)\n",
    "\n",
    "data += o.flush()\n",
    "\n",
    " "
   ]
  },
  {
   "cell_type": "code",
   "execution_count": 222,
   "metadata": {},
   "outputs": [
    {
     "ename": "error",
     "evalue": "Error -3 while decompressing data: incorrect header check",
     "output_type": "error",
     "traceback": [
      "\u001b[0;31m---------------------------------------------------------------------------\u001b[0m",
      "\u001b[0;31merror\u001b[0m                                     Traceback (most recent call last)",
      "\u001b[0;32m<ipython-input-222-5b983fbf52ea>\u001b[0m in \u001b[0;36m<module>\u001b[0;34m\u001b[0m\n\u001b[1;32m      5\u001b[0m     \u001b[0mchunk\u001b[0m \u001b[0;34m=\u001b[0m \u001b[0mf\u001b[0m\u001b[0;34m.\u001b[0m\u001b[0mread\u001b[0m\u001b[0;34m(\u001b[0m\u001b[0mCHUNKSIZE\u001b[0m\u001b[0;34m)\u001b[0m\u001b[0;34m\u001b[0m\u001b[0;34m\u001b[0m\u001b[0m\n\u001b[1;32m      6\u001b[0m     \u001b[0;32mwhile\u001b[0m \u001b[0mchunk\u001b[0m\u001b[0;34m:\u001b[0m\u001b[0;34m\u001b[0m\u001b[0;34m\u001b[0m\u001b[0m\n\u001b[0;32m----> 7\u001b[0;31m         \u001b[0mdata\u001b[0m \u001b[0;34m=\u001b[0m \u001b[0mo\u001b[0m\u001b[0;34m.\u001b[0m\u001b[0mdecompress\u001b[0m\u001b[0;34m(\u001b[0m\u001b[0mchunk\u001b[0m\u001b[0;34m)\u001b[0m\u001b[0;34m\u001b[0m\u001b[0;34m\u001b[0m\u001b[0m\n\u001b[0m\u001b[1;32m      8\u001b[0m         \u001b[0mchunk\u001b[0m \u001b[0;34m=\u001b[0m \u001b[0mf\u001b[0m\u001b[0;34m.\u001b[0m\u001b[0mread\u001b[0m\u001b[0;34m(\u001b[0m\u001b[0mCHUNKSIZE\u001b[0m\u001b[0;34m)\u001b[0m\u001b[0;34m\u001b[0m\u001b[0;34m\u001b[0m\u001b[0m\n\u001b[1;32m      9\u001b[0m \u001b[0;34m\u001b[0m\u001b[0m\n",
      "\u001b[0;31merror\u001b[0m: Error -3 while decompressing data: incorrect header check"
     ]
    }
   ],
   "source": [
    "o = zlib.decompressobj(16 + 15)\n",
    "CHUNKSIZE = 1024\n",
    "\n",
    "with gzip.open(file_path, 'rb') as f:\n",
    "    chunk = f.read(CHUNKSIZE)\n",
    "    while chunk:\n",
    "        data = o.decompress(chunk)\n",
    "        chunk = f.read(CHUNKSIZE)\n",
    "\n",
    "data += o.flush()\n",
    "\n",
    " "
   ]
  },
  {
   "cell_type": "code",
   "execution_count": 225,
   "metadata": {},
   "outputs": [
    {
     "ename": "error",
     "evalue": "Error -3 while decompressing data: incorrect header check",
     "output_type": "error",
     "traceback": [
      "\u001b[0;31m---------------------------------------------------------------------------\u001b[0m",
      "\u001b[0;31merror\u001b[0m                                     Traceback (most recent call last)",
      "\u001b[0;32m<ipython-input-225-b0bbab822d1f>\u001b[0m in \u001b[0;36m<module>\u001b[0;34m\u001b[0m\n\u001b[1;32m      5\u001b[0m     \u001b[0mchunk\u001b[0m \u001b[0;34m=\u001b[0m \u001b[0mf\u001b[0m\u001b[0;34m.\u001b[0m\u001b[0mread\u001b[0m\u001b[0;34m(\u001b[0m\u001b[0mCHUNKSIZE\u001b[0m\u001b[0;34m)\u001b[0m\u001b[0;34m\u001b[0m\u001b[0;34m\u001b[0m\u001b[0m\n\u001b[1;32m      6\u001b[0m     \u001b[0;32mwhile\u001b[0m \u001b[0mchunk\u001b[0m\u001b[0;34m:\u001b[0m\u001b[0;34m\u001b[0m\u001b[0;34m\u001b[0m\u001b[0m\n\u001b[0;32m----> 7\u001b[0;31m         \u001b[0mdata\u001b[0m \u001b[0;34m=\u001b[0m \u001b[0mo\u001b[0m\u001b[0;34m.\u001b[0m\u001b[0mdecompress\u001b[0m\u001b[0;34m(\u001b[0m\u001b[0mchunk\u001b[0m\u001b[0;34m)\u001b[0m\u001b[0;34m\u001b[0m\u001b[0;34m\u001b[0m\u001b[0m\n\u001b[0m\u001b[1;32m      8\u001b[0m         \u001b[0mchunk\u001b[0m \u001b[0;34m=\u001b[0m \u001b[0mf\u001b[0m\u001b[0;34m.\u001b[0m\u001b[0mread\u001b[0m\u001b[0;34m(\u001b[0m\u001b[0mCHUNKSIZE\u001b[0m\u001b[0;34m)\u001b[0m\u001b[0;34m\u001b[0m\u001b[0;34m\u001b[0m\u001b[0m\n\u001b[1;32m      9\u001b[0m \u001b[0;34m\u001b[0m\u001b[0m\n",
      "\u001b[0;31merror\u001b[0m: Error -3 while decompressing data: incorrect header check"
     ]
    }
   ],
   "source": [
    "o = zlib.decompressobj(32 + 8)\n",
    "CHUNKSIZE = 1024\n",
    "\n",
    "with gzip.open(file_path, 'rb') as f:\n",
    "    chunk = f.read(CHUNKSIZE)\n",
    "    while chunk:\n",
    "        data = o.decompress(chunk)\n",
    "        chunk = f.read(CHUNKSIZE)\n",
    "\n",
    "data += o.flush()"
   ]
  },
  {
   "cell_type": "code",
   "execution_count": 220,
   "metadata": {},
   "outputs": [
    {
     "ename": "ValueError",
     "evalue": "Invalid initialization option",
     "output_type": "error",
     "traceback": [
      "\u001b[0;31m---------------------------------------------------------------------------\u001b[0m",
      "\u001b[0;31mValueError\u001b[0m                                Traceback (most recent call last)",
      "\u001b[0;32m<ipython-input-220-e8443780766e>\u001b[0m in \u001b[0;36m<module>\u001b[0;34m\u001b[0m\n\u001b[0;32m----> 1\u001b[0;31m \u001b[0mo\u001b[0m \u001b[0;34m=\u001b[0m \u001b[0mzlib\u001b[0m\u001b[0;34m.\u001b[0m\u001b[0mdecompressobj\u001b[0m\u001b[0;34m(\u001b[0m\u001b[0;34m-\u001b[0m\u001b[0;36m8\u001b[0m \u001b[0;34m+\u001b[0m \u001b[0mzlib\u001b[0m\u001b[0;34m.\u001b[0m\u001b[0mMAX_WBITS\u001b[0m\u001b[0;34m)\u001b[0m\u001b[0;34m\u001b[0m\u001b[0;34m\u001b[0m\u001b[0m\n\u001b[0m\u001b[1;32m      2\u001b[0m \u001b[0mCHUNKSIZE\u001b[0m \u001b[0;34m=\u001b[0m \u001b[0;36m1024\u001b[0m\u001b[0;34m\u001b[0m\u001b[0;34m\u001b[0m\u001b[0m\n\u001b[1;32m      3\u001b[0m \u001b[0;34m\u001b[0m\u001b[0m\n\u001b[1;32m      4\u001b[0m \u001b[0;32mwith\u001b[0m \u001b[0mgzip\u001b[0m\u001b[0;34m.\u001b[0m\u001b[0mopen\u001b[0m\u001b[0;34m(\u001b[0m\u001b[0mfile_path\u001b[0m\u001b[0;34m,\u001b[0m \u001b[0;34m'rb'\u001b[0m\u001b[0;34m)\u001b[0m \u001b[0;32mas\u001b[0m \u001b[0mf\u001b[0m\u001b[0;34m:\u001b[0m\u001b[0;34m\u001b[0m\u001b[0;34m\u001b[0m\u001b[0m\n\u001b[1;32m      5\u001b[0m     \u001b[0mchunk\u001b[0m \u001b[0;34m=\u001b[0m \u001b[0mf\u001b[0m\u001b[0;34m.\u001b[0m\u001b[0mread\u001b[0m\u001b[0;34m(\u001b[0m\u001b[0mCHUNKSIZE\u001b[0m\u001b[0;34m)\u001b[0m\u001b[0;34m\u001b[0m\u001b[0;34m\u001b[0m\u001b[0m\n",
      "\u001b[0;31mValueError\u001b[0m: Invalid initialization option"
     ]
    }
   ],
   "source": [
    "o = zlib.decompressobj(-8 + zlib.MAX_WBITS)\n",
    "CHUNKSIZE = 1024\n",
    "\n",
    "with gzip.open(file_path, 'rb') as f:\n",
    "    chunk = f.read(CHUNKSIZE)\n",
    "    while chunk:\n",
    "        data = o.decompress(chunk)\n",
    "        chunk = f.read(CHUNKSIZE)\n",
    "\n",
    "data += o.flush()\n",
    "\n",
    " "
   ]
  },
  {
   "cell_type": "code",
   "execution_count": 227,
   "metadata": {},
   "outputs": [
    {
     "ename": "EOFError",
     "evalue": "Compressed file ended before the end-of-stream marker was reached",
     "output_type": "error",
     "traceback": [
      "\u001b[0;31m---------------------------------------------------------------------------\u001b[0m",
      "\u001b[0;31mEOFError\u001b[0m                                  Traceback (most recent call last)",
      "\u001b[0;32m<ipython-input-227-4c4065434877>\u001b[0m in \u001b[0;36m<module>\u001b[0;34m\u001b[0m\n\u001b[1;32m      2\u001b[0m \u001b[0;34m\u001b[0m\u001b[0m\n\u001b[1;32m      3\u001b[0m \u001b[0;32mwith\u001b[0m \u001b[0mgzip\u001b[0m\u001b[0;34m.\u001b[0m\u001b[0mopen\u001b[0m\u001b[0;34m(\u001b[0m\u001b[0mfile_path\u001b[0m\u001b[0;34m,\u001b[0m \u001b[0;34m'rb'\u001b[0m\u001b[0;34m)\u001b[0m \u001b[0;32mas\u001b[0m \u001b[0mf\u001b[0m\u001b[0;34m:\u001b[0m\u001b[0;34m\u001b[0m\u001b[0;34m\u001b[0m\u001b[0m\n\u001b[0;32m----> 4\u001b[0;31m     \u001b[0mdata\u001b[0m \u001b[0;34m=\u001b[0m \u001b[0mf\u001b[0m\u001b[0;34m.\u001b[0m\u001b[0mread\u001b[0m\u001b[0;34m(\u001b[0m\u001b[0;34m)\u001b[0m\u001b[0;34m\u001b[0m\u001b[0;34m\u001b[0m\u001b[0m\n\u001b[0m\u001b[1;32m      5\u001b[0m     \u001b[0mdecomp_data\u001b[0m \u001b[0;34m=\u001b[0m \u001b[0mgzip\u001b[0m\u001b[0;34m.\u001b[0m\u001b[0mdecompress\u001b[0m\u001b[0;34m(\u001b[0m\u001b[0mdata\u001b[0m\u001b[0;34m)\u001b[0m\u001b[0;34m\u001b[0m\u001b[0;34m\u001b[0m\u001b[0m\n\u001b[1;32m      6\u001b[0m \u001b[0;34m\u001b[0m\u001b[0m\n",
      "\u001b[0;32m~/anaconda3/lib/python3.6/gzip.py\u001b[0m in \u001b[0;36mread\u001b[0;34m(self, size)\u001b[0m\n\u001b[1;32m    274\u001b[0m             \u001b[0;32mimport\u001b[0m \u001b[0merrno\u001b[0m\u001b[0;34m\u001b[0m\u001b[0;34m\u001b[0m\u001b[0m\n\u001b[1;32m    275\u001b[0m             \u001b[0;32mraise\u001b[0m \u001b[0mOSError\u001b[0m\u001b[0;34m(\u001b[0m\u001b[0merrno\u001b[0m\u001b[0;34m.\u001b[0m\u001b[0mEBADF\u001b[0m\u001b[0;34m,\u001b[0m \u001b[0;34m\"read() on write-only GzipFile object\"\u001b[0m\u001b[0;34m)\u001b[0m\u001b[0;34m\u001b[0m\u001b[0;34m\u001b[0m\u001b[0m\n\u001b[0;32m--> 276\u001b[0;31m         \u001b[0;32mreturn\u001b[0m \u001b[0mself\u001b[0m\u001b[0;34m.\u001b[0m\u001b[0m_buffer\u001b[0m\u001b[0;34m.\u001b[0m\u001b[0mread\u001b[0m\u001b[0;34m(\u001b[0m\u001b[0msize\u001b[0m\u001b[0;34m)\u001b[0m\u001b[0;34m\u001b[0m\u001b[0;34m\u001b[0m\u001b[0m\n\u001b[0m\u001b[1;32m    277\u001b[0m \u001b[0;34m\u001b[0m\u001b[0m\n\u001b[1;32m    278\u001b[0m     \u001b[0;32mdef\u001b[0m \u001b[0mread1\u001b[0m\u001b[0;34m(\u001b[0m\u001b[0mself\u001b[0m\u001b[0;34m,\u001b[0m \u001b[0msize\u001b[0m\u001b[0;34m=\u001b[0m\u001b[0;34m-\u001b[0m\u001b[0;36m1\u001b[0m\u001b[0;34m)\u001b[0m\u001b[0;34m:\u001b[0m\u001b[0;34m\u001b[0m\u001b[0;34m\u001b[0m\u001b[0m\n",
      "\u001b[0;32m~/anaconda3/lib/python3.6/gzip.py\u001b[0m in \u001b[0;36mread\u001b[0;34m(self, size)\u001b[0m\n\u001b[1;32m    480\u001b[0m                 \u001b[0;32mbreak\u001b[0m\u001b[0;34m\u001b[0m\u001b[0;34m\u001b[0m\u001b[0m\n\u001b[1;32m    481\u001b[0m             \u001b[0;32mif\u001b[0m \u001b[0mbuf\u001b[0m \u001b[0;34m==\u001b[0m \u001b[0;34mb\"\"\u001b[0m\u001b[0;34m:\u001b[0m\u001b[0;34m\u001b[0m\u001b[0;34m\u001b[0m\u001b[0m\n\u001b[0;32m--> 482\u001b[0;31m                 raise EOFError(\"Compressed file ended before the \"\n\u001b[0m\u001b[1;32m    483\u001b[0m                                \"end-of-stream marker was reached\")\n\u001b[1;32m    484\u001b[0m \u001b[0;34m\u001b[0m\u001b[0m\n",
      "\u001b[0;31mEOFError\u001b[0m: Compressed file ended before the end-of-stream marker was reached"
     ]
    }
   ],
   "source": [
    "CHUNKSIZE = 1024\n",
    "\n",
    "with gzip.open(file_path, 'rb') as f:\n",
    "    data = f.read()\n",
    "    decomp_data = gzip.decompress(data)\n",
    "\n",
    " "
   ]
  },
  {
   "cell_type": "markdown",
   "metadata": {},
   "source": [
    "It would appear we must decompress while downloading the stream of data"
   ]
  },
  {
   "cell_type": "code",
   "execution_count": 228,
   "metadata": {},
   "outputs": [
    {
     "ename": "EOFError",
     "evalue": "Compressed file ended before the end-of-stream marker was reached",
     "output_type": "error",
     "traceback": [
      "\u001b[0;31m---------------------------------------------------------------------------\u001b[0m",
      "\u001b[0;31mEOFError\u001b[0m                                  Traceback (most recent call last)",
      "\u001b[0;32m<ipython-input-228-25168281c604>\u001b[0m in \u001b[0;36m<module>\u001b[0;34m\u001b[0m\n\u001b[1;32m     17\u001b[0m         \u001b[0mchunk\u001b[0m \u001b[0;34m=\u001b[0m \u001b[0mnext\u001b[0m\u001b[0;34m(\u001b[0m\u001b[0mdata_stream\u001b[0m\u001b[0;34m)\u001b[0m\u001b[0;34m\u001b[0m\u001b[0;34m\u001b[0m\u001b[0m\n\u001b[1;32m     18\u001b[0m         \u001b[0;32mif\u001b[0m \u001b[0mchunk\u001b[0m\u001b[0;34m:\u001b[0m\u001b[0;34m\u001b[0m\u001b[0;34m\u001b[0m\u001b[0m\n\u001b[0;32m---> 19\u001b[0;31m             \u001b[0mdata\u001b[0m \u001b[0;34m=\u001b[0m \u001b[0mgzip\u001b[0m\u001b[0;34m.\u001b[0m\u001b[0mdecompress\u001b[0m\u001b[0;34m(\u001b[0m\u001b[0mchunk\u001b[0m\u001b[0;34m)\u001b[0m\u001b[0;34m\u001b[0m\u001b[0;34m\u001b[0m\u001b[0m\n\u001b[0m\u001b[1;32m     20\u001b[0m \u001b[0;31m#             save_file.write(chunk)\u001b[0m\u001b[0;34m\u001b[0m\u001b[0;34m\u001b[0m\u001b[0;34m\u001b[0m\u001b[0m\n\u001b[1;32m     21\u001b[0m             \u001b[0mdata_size\u001b[0m\u001b[0;34m.\u001b[0m\u001b[0mappend\u001b[0m\u001b[0;34m(\u001b[0m\u001b[0mlen\u001b[0m\u001b[0;34m(\u001b[0m\u001b[0mdata\u001b[0m\u001b[0;34m)\u001b[0m\u001b[0;34m)\u001b[0m\u001b[0;34m\u001b[0m\u001b[0;34m\u001b[0m\u001b[0m\n",
      "\u001b[0;32m~/anaconda3/lib/python3.6/gzip.py\u001b[0m in \u001b[0;36mdecompress\u001b[0;34m(data)\u001b[0m\n\u001b[1;32m    530\u001b[0m     \"\"\"\n\u001b[1;32m    531\u001b[0m     \u001b[0;32mwith\u001b[0m \u001b[0mGzipFile\u001b[0m\u001b[0;34m(\u001b[0m\u001b[0mfileobj\u001b[0m\u001b[0;34m=\u001b[0m\u001b[0mio\u001b[0m\u001b[0;34m.\u001b[0m\u001b[0mBytesIO\u001b[0m\u001b[0;34m(\u001b[0m\u001b[0mdata\u001b[0m\u001b[0;34m)\u001b[0m\u001b[0;34m)\u001b[0m \u001b[0;32mas\u001b[0m \u001b[0mf\u001b[0m\u001b[0;34m:\u001b[0m\u001b[0;34m\u001b[0m\u001b[0;34m\u001b[0m\u001b[0m\n\u001b[0;32m--> 532\u001b[0;31m         \u001b[0;32mreturn\u001b[0m \u001b[0mf\u001b[0m\u001b[0;34m.\u001b[0m\u001b[0mread\u001b[0m\u001b[0;34m(\u001b[0m\u001b[0;34m)\u001b[0m\u001b[0;34m\u001b[0m\u001b[0;34m\u001b[0m\u001b[0m\n\u001b[0m\u001b[1;32m    533\u001b[0m \u001b[0;34m\u001b[0m\u001b[0m\n\u001b[1;32m    534\u001b[0m \u001b[0;34m\u001b[0m\u001b[0m\n",
      "\u001b[0;32m~/anaconda3/lib/python3.6/gzip.py\u001b[0m in \u001b[0;36mread\u001b[0;34m(self, size)\u001b[0m\n\u001b[1;32m    274\u001b[0m             \u001b[0;32mimport\u001b[0m \u001b[0merrno\u001b[0m\u001b[0;34m\u001b[0m\u001b[0;34m\u001b[0m\u001b[0m\n\u001b[1;32m    275\u001b[0m             \u001b[0;32mraise\u001b[0m \u001b[0mOSError\u001b[0m\u001b[0;34m(\u001b[0m\u001b[0merrno\u001b[0m\u001b[0;34m.\u001b[0m\u001b[0mEBADF\u001b[0m\u001b[0;34m,\u001b[0m \u001b[0;34m\"read() on write-only GzipFile object\"\u001b[0m\u001b[0;34m)\u001b[0m\u001b[0;34m\u001b[0m\u001b[0;34m\u001b[0m\u001b[0m\n\u001b[0;32m--> 276\u001b[0;31m         \u001b[0;32mreturn\u001b[0m \u001b[0mself\u001b[0m\u001b[0;34m.\u001b[0m\u001b[0m_buffer\u001b[0m\u001b[0;34m.\u001b[0m\u001b[0mread\u001b[0m\u001b[0;34m(\u001b[0m\u001b[0msize\u001b[0m\u001b[0;34m)\u001b[0m\u001b[0;34m\u001b[0m\u001b[0;34m\u001b[0m\u001b[0m\n\u001b[0m\u001b[1;32m    277\u001b[0m \u001b[0;34m\u001b[0m\u001b[0m\n\u001b[1;32m    278\u001b[0m     \u001b[0;32mdef\u001b[0m \u001b[0mread1\u001b[0m\u001b[0;34m(\u001b[0m\u001b[0mself\u001b[0m\u001b[0;34m,\u001b[0m \u001b[0msize\u001b[0m\u001b[0;34m=\u001b[0m\u001b[0;34m-\u001b[0m\u001b[0;36m1\u001b[0m\u001b[0;34m)\u001b[0m\u001b[0;34m:\u001b[0m\u001b[0;34m\u001b[0m\u001b[0;34m\u001b[0m\u001b[0m\n",
      "\u001b[0;32m~/anaconda3/lib/python3.6/gzip.py\u001b[0m in \u001b[0;36mread\u001b[0;34m(self, size)\u001b[0m\n\u001b[1;32m    480\u001b[0m                 \u001b[0;32mbreak\u001b[0m\u001b[0;34m\u001b[0m\u001b[0;34m\u001b[0m\u001b[0m\n\u001b[1;32m    481\u001b[0m             \u001b[0;32mif\u001b[0m \u001b[0mbuf\u001b[0m \u001b[0;34m==\u001b[0m \u001b[0;34mb\"\"\u001b[0m\u001b[0;34m:\u001b[0m\u001b[0;34m\u001b[0m\u001b[0;34m\u001b[0m\u001b[0m\n\u001b[0;32m--> 482\u001b[0;31m                 raise EOFError(\"Compressed file ended before the \"\n\u001b[0m\u001b[1;32m    483\u001b[0m                                \"end-of-stream marker was reached\")\n\u001b[1;32m    484\u001b[0m \u001b[0;34m\u001b[0m\u001b[0m\n",
      "\u001b[0;31mEOFError\u001b[0m: Compressed file ended before the end-of-stream marker was reached"
     ]
    }
   ],
   "source": [
    "# # Create file, wrtie compressed data chunks to it:\n",
    "# save_file_name = url.split('/')[-1].replace('.gz', '')\n",
    "# save_path = os.path.join(index_folder, save_file_name)\n",
    "# save_file = open(save_path, 'wb')\n",
    "\n",
    "n_chunks = 25\n",
    "chunk_size = 1024 * 8\n",
    "\n",
    "data = ''\n",
    "data_size = []\n",
    "\n",
    "# Open a stream Request to the URL, define generator\n",
    "with requests.get(url, stream=True) as r:\n",
    "    data_stream = r.iter_content(chunk_size)\n",
    "\n",
    "    for _ in range(n_chunks):\n",
    "        chunk = next(data_stream)\n",
    "        if chunk:\n",
    "            data = gzip.decompress(chunk)\n",
    "#             save_file.write(chunk)\n",
    "            data_size.append(len(data))\n",
    "\n",
    "# Close file & Request connection\n",
    "# save_file.close()"
   ]
  },
  {
   "cell_type": "markdown",
   "metadata": {},
   "source": [
    "# 10:16 am 12/15/2019"
   ]
  },
  {
   "cell_type": "markdown",
   "metadata": {},
   "source": [
    "Try urllib: https://stackoverflow.com/questions/1517616/stream-large-binary-files-with-urllib2-to-file"
   ]
  },
  {
   "cell_type": "code",
   "execution_count": 5,
   "metadata": {},
   "outputs": [],
   "source": [
    "from urllib.request import urlopen "
   ]
  },
  {
   "cell_type": "code",
   "execution_count": 7,
   "metadata": {},
   "outputs": [],
   "source": [
    "url = path_urls[0]"
   ]
  },
  {
   "cell_type": "code",
   "execution_count": 8,
   "metadata": {},
   "outputs": [],
   "source": [
    "# r = urlopen(url)\n",
    "# CHUNKSIZE = 8 * 1024\n",
    "\n",
    "# save_file_name = url.split('/')[-1].replace('.gz', '')\n",
    "# save_path = os.path.join(index_folder, save_file_name)\n",
    "# save_file = open(save_path, 'wb')\n",
    "\n",
    "# with open(save_file, 'wb') as f:\n",
    "#     while True:\n",
    "#         chunk = r.read(CHUNKSIZE)\n",
    "#         if not chunk:\n",
    "#             break\n",
    "#         f.write(chunk)\n",
    "\n",
    "# r.close()"
   ]
  },
  {
   "cell_type": "code",
   "execution_count": 9,
   "metadata": {},
   "outputs": [],
   "source": [
    "# import requests\n",
    "import shutil"
   ]
  },
  {
   "cell_type": "code",
   "execution_count": null,
   "metadata": {},
   "outputs": [],
   "source": [
    "def download_file(url):\n",
    "    local_filename = url.split('/')[-1]\n",
    "    with requests.get(url, stream=True) as r:\n",
    "        with open(local_filename, 'wb') as f:\n",
    "            shutil.copyfileobj(r.raw, f)\n",
    "\n",
    "    return local_filename"
   ]
  },
  {
   "cell_type": "code",
   "execution_count": 19,
   "metadata": {},
   "outputs": [
    {
     "name": "stdout",
     "output_type": "stream",
     "text": [
      "Doing stuff to chunk 0...\n"
     ]
    },
    {
     "ename": "UnsupportedOperation",
     "evalue": "read",
     "output_type": "error",
     "traceback": [
      "\u001b[0;31m---------------------------------------------------------------------------\u001b[0m",
      "\u001b[0;31mUnsupportedOperation\u001b[0m                      Traceback (most recent call last)",
      "\u001b[0;32m<ipython-input-19-8def0540c8db>\u001b[0m in \u001b[0;36m<module>\u001b[0;34m\u001b[0m\n\u001b[1;32m     20\u001b[0m         \u001b[0mtemp_file\u001b[0m\u001b[0;34m.\u001b[0m\u001b[0mwrite\u001b[0m\u001b[0;34m(\u001b[0m\u001b[0mchunk\u001b[0m\u001b[0;34m)\u001b[0m\u001b[0;34m\u001b[0m\u001b[0;34m\u001b[0m\u001b[0m\n\u001b[1;32m     21\u001b[0m \u001b[0;34m\u001b[0m\u001b[0m\n\u001b[0;32m---> 22\u001b[0;31m     \u001b[0mshutil\u001b[0m\u001b[0;34m.\u001b[0m\u001b[0mcopyfileobj\u001b[0m\u001b[0;34m(\u001b[0m\u001b[0mtemp_file\u001b[0m\u001b[0;34m,\u001b[0m \u001b[0msave_file\u001b[0m\u001b[0;34m)\u001b[0m\u001b[0;34m\u001b[0m\u001b[0;34m\u001b[0m\u001b[0m\n\u001b[0m\u001b[1;32m     23\u001b[0m     \u001b[0mdata_size\u001b[0m\u001b[0;34m.\u001b[0m\u001b[0mappend\u001b[0m\u001b[0;34m(\u001b[0m\u001b[0mos\u001b[0m\u001b[0;34m.\u001b[0m\u001b[0mpath\u001b[0m\u001b[0;34m.\u001b[0m\u001b[0mgetsize\u001b[0m\u001b[0;34m(\u001b[0m\u001b[0msave_path\u001b[0m\u001b[0;34m)\u001b[0m\u001b[0;34m)\u001b[0m\u001b[0;34m\u001b[0m\u001b[0;34m\u001b[0m\u001b[0m\n\u001b[1;32m     24\u001b[0m \u001b[0;34m\u001b[0m\u001b[0m\n",
      "\u001b[0;32m~/anaconda3/lib/python3.6/shutil.py\u001b[0m in \u001b[0;36mcopyfileobj\u001b[0;34m(fsrc, fdst, length)\u001b[0m\n\u001b[1;32m     77\u001b[0m     \u001b[0;34m\"\"\"copy data from file-like object fsrc to file-like object fdst\"\"\"\u001b[0m\u001b[0;34m\u001b[0m\u001b[0;34m\u001b[0m\u001b[0m\n\u001b[1;32m     78\u001b[0m     \u001b[0;32mwhile\u001b[0m \u001b[0;36m1\u001b[0m\u001b[0;34m:\u001b[0m\u001b[0;34m\u001b[0m\u001b[0;34m\u001b[0m\u001b[0m\n\u001b[0;32m---> 79\u001b[0;31m         \u001b[0mbuf\u001b[0m \u001b[0;34m=\u001b[0m \u001b[0mfsrc\u001b[0m\u001b[0;34m.\u001b[0m\u001b[0mread\u001b[0m\u001b[0;34m(\u001b[0m\u001b[0mlength\u001b[0m\u001b[0;34m)\u001b[0m\u001b[0;34m\u001b[0m\u001b[0;34m\u001b[0m\u001b[0m\n\u001b[0m\u001b[1;32m     80\u001b[0m         \u001b[0;32mif\u001b[0m \u001b[0;32mnot\u001b[0m \u001b[0mbuf\u001b[0m\u001b[0;34m:\u001b[0m\u001b[0;34m\u001b[0m\u001b[0;34m\u001b[0m\u001b[0m\n\u001b[1;32m     81\u001b[0m             \u001b[0;32mbreak\u001b[0m\u001b[0;34m\u001b[0m\u001b[0;34m\u001b[0m\u001b[0m\n",
      "\u001b[0;31mUnsupportedOperation\u001b[0m: read"
     ]
    }
   ],
   "source": [
    "r = urlopen(url)\n",
    "CHUNK_SIZE = 8 * 1024\n",
    "N_CHUNKS = 27\n",
    "\n",
    "save_file_name = url.split('/')[-1].replace('.gz', '')\n",
    "save_path = os.path.join(index_folder, save_file_name)\n",
    "save_file = open(save_path, 'wb')\n",
    "\n",
    "r = requests.get(url, stream=True)\n",
    "data_size = []\n",
    "ns = np.arange(N_CHUNKS)\n",
    "data_stream = r.iter_content(CHUNK_SIZE)\n",
    "\n",
    "# with open(save_file, 'wb') as f:\n",
    "for i in range(N_CHUNKS):\n",
    "    print(f'Doing stuff to chunk {i}...')\n",
    "    chunk = next(data_stream)\n",
    "    \n",
    "    with open(os.path.join(index_folder, 'temp.gz'), 'wb') as temp_file:\n",
    "        temp_file.write(chunk)\n",
    "        \n",
    "    shutil.copyfileobj(temp_file, save_file)\n",
    "    data_size.append(os.path.getsize(save_path))\n",
    "\n",
    "r.close()\n",
    "save_file.close()"
   ]
  },
  {
   "cell_type": "code",
   "execution_count": 14,
   "metadata": {},
   "outputs": [],
   "source": [
    "r.close()\n",
    "save_file.close()"
   ]
  },
  {
   "cell_type": "code",
   "execution_count": null,
   "metadata": {},
   "outputs": [],
   "source": [
    "plt.scatter(ns, data_size)"
   ]
  },
  {
   "cell_type": "code",
   "execution_count": null,
   "metadata": {},
   "outputs": [],
   "source": []
  }
 ],
 "metadata": {
  "kernelspec": {
   "display_name": "Python 3",
   "language": "python",
   "name": "python3"
  },
  "language_info": {
   "codemirror_mode": {
    "name": "ipython",
    "version": 3
   },
   "file_extension": ".py",
   "mimetype": "text/x-python",
   "name": "python",
   "nbconvert_exporter": "python",
   "pygments_lexer": "ipython3",
   "version": "3.6.7"
  }
 },
 "nbformat": 4,
 "nbformat_minor": 2
}
